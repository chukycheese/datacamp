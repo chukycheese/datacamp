{
 "cells": [
  {
   "cell_type": "markdown",
   "metadata": {},
   "source": [
    "# Numerical Summaries\n",
    "\n",
    "## Measures of center\n",
    "\n",
    "### County demographics"
   ]
  },
  {
   "cell_type": "code",
   "execution_count": 8,
   "metadata": {},
   "outputs": [],
   "source": [
    "library(dplyr)\n",
    "library(ggplot2)"
   ]
  },
  {
   "cell_type": "code",
   "execution_count": 12,
   "metadata": {},
   "outputs": [
    {
     "name": "stdout",
     "output_type": "stream",
     "text": [
      "Observations: 81,691\n",
      "Variables: 10\n",
      "$ State                                    <fctr> Alabama, Alabama, Alabama...\n",
      "$ County                                   <fctr> Autauga County, Baldwin C...\n",
      "$ fips                                     <int> 1001, 1003, 1005, 1007, 10...\n",
      "$ Year                                     <int> 1985, 1985, 1985, 1985, 19...\n",
      "$ Female.life.expectancy..years.           <dbl> 77.02, 78.84, 76.04, 76.62...\n",
      "$ Female.life.expectancy..national..years. <dbl> 77.79, 77.79, 77.79, 77.79...\n",
      "$ Female.life.expectancy..state..years.    <dbl> 76.9, 76.9, 76.9, 76.9, 76...\n",
      "$ Male.life.expectancy..years.             <dbl> 68.13, 71.14, 66.83, 67.34...\n",
      "$ Male.life.expectancy..national..years.   <dbl> 70.85, 70.85, 70.85, 70.85...\n",
      "$ Male.life.expectancy..state..years.      <dbl> 69.06, 69.06, 69.06, 69.06...\n"
     ]
    }
   ],
   "source": [
    "# Load the dataset named life\n",
    "life <- read.csv(\"https://assets.datacamp.com/production/course_1796/datasets/life_exp_raw.csv\")\n",
    "\n",
    "# Check the life dataset\n",
    "glimpse(life)"
   ]
  },
  {
   "cell_type": "markdown",
   "metadata": {},
   "source": [
    "### Center: mean, median\n",
    "\n",
    "* Mean: A balance point of the data. It can be affected by outliers easily.\n",
    "* Median: The value in the middle when the data are sorted in order\n",
    "* Mode: The most frequently observed value(s) in the data"
   ]
  },
  {
   "cell_type": "code",
   "execution_count": 19,
   "metadata": {},
   "outputs": [
    {
     "data": {
      "text/html": [
       "<ol class=list-inline>\n",
       "\t<li>'State'</li>\n",
       "\t<li>'County'</li>\n",
       "\t<li>'fips'</li>\n",
       "\t<li>'Year'</li>\n",
       "\t<li>'Female.life.expectancy..years.'</li>\n",
       "\t<li>'Female.life.expectancy..national..years.'</li>\n",
       "\t<li>'Female.life.expectancy..state..years.'</li>\n",
       "\t<li>'Male.life.expectancy..years.'</li>\n",
       "\t<li>'Male.life.expectancy..national..years.'</li>\n",
       "\t<li>'Male.life.expectancy..state..years.'</li>\n",
       "</ol>\n"
      ],
      "text/latex": [
       "\\begin{enumerate*}\n",
       "\\item 'State'\n",
       "\\item 'County'\n",
       "\\item 'fips'\n",
       "\\item 'Year'\n",
       "\\item 'Female.life.expectancy..years.'\n",
       "\\item 'Female.life.expectancy..national..years.'\n",
       "\\item 'Female.life.expectancy..state..years.'\n",
       "\\item 'Male.life.expectancy..years.'\n",
       "\\item 'Male.life.expectancy..national..years.'\n",
       "\\item 'Male.life.expectancy..state..years.'\n",
       "\\end{enumerate*}\n"
      ],
      "text/markdown": [
       "1. 'State'\n",
       "2. 'County'\n",
       "3. 'fips'\n",
       "4. 'Year'\n",
       "5. 'Female.life.expectancy..years.'\n",
       "6. 'Female.life.expectancy..national..years.'\n",
       "7. 'Female.life.expectancy..state..years.'\n",
       "8. 'Male.life.expectancy..years.'\n",
       "9. 'Male.life.expectancy..national..years.'\n",
       "10. 'Male.life.expectancy..state..years.'\n",
       "\n",
       "\n"
      ],
      "text/plain": [
       " [1] \"State\"                                   \n",
       " [2] \"County\"                                  \n",
       " [3] \"fips\"                                    \n",
       " [4] \"Year\"                                    \n",
       " [5] \"Female.life.expectancy..years.\"          \n",
       " [6] \"Female.life.expectancy..national..years.\"\n",
       " [7] \"Female.life.expectancy..state..years.\"   \n",
       " [8] \"Male.life.expectancy..years.\"            \n",
       " [9] \"Male.life.expectancy..national..years.\"  \n",
       "[10] \"Male.life.expectancy..state..years.\"     "
      ]
     },
     "metadata": {},
     "output_type": "display_data"
    }
   ],
   "source": [
    "names(life)"
   ]
  },
  {
   "cell_type": "code",
   "execution_count": 20,
   "metadata": {},
   "outputs": [
    {
     "data": {
      "text/html": [
       "<ol class=list-inline>\n",
       "\t<li>77</li>\n",
       "\t<li>79</li>\n",
       "\t<li>76</li>\n",
       "\t<li>77</li>\n",
       "\t<li>79</li>\n",
       "\t<li>75</li>\n",
       "\t<li>77</li>\n",
       "\t<li>77</li>\n",
       "\t<li>77</li>\n",
       "\t<li>78</li>\n",
       "\t<li>77</li>\n",
       "</ol>\n"
      ],
      "text/latex": [
       "\\begin{enumerate*}\n",
       "\\item 77\n",
       "\\item 79\n",
       "\\item 76\n",
       "\\item 77\n",
       "\\item 79\n",
       "\\item 75\n",
       "\\item 77\n",
       "\\item 77\n",
       "\\item 77\n",
       "\\item 78\n",
       "\\item 77\n",
       "\\end{enumerate*}\n"
      ],
      "text/markdown": [
       "1. 77\n",
       "2. 79\n",
       "3. 76\n",
       "4. 77\n",
       "5. 79\n",
       "6. 75\n",
       "7. 77\n",
       "8. 77\n",
       "9. 77\n",
       "10. 78\n",
       "11. 77\n",
       "\n",
       "\n"
      ],
      "text/plain": [
       " [1] 77 79 76 77 79 75 77 77 77 78 77"
      ]
     },
     "metadata": {},
     "output_type": "display_data"
    },
    {
     "data": {
      "text/html": [
       "77.1818181818182"
      ],
      "text/latex": [
       "77.1818181818182"
      ],
      "text/markdown": [
       "77.1818181818182"
      ],
      "text/plain": [
       "[1] 77.18182"
      ]
     },
     "metadata": {},
     "output_type": "display_data"
    },
    {
     "data": {
      "text/html": [
       "77.1818181818182"
      ],
      "text/latex": [
       "77.1818181818182"
      ],
      "text/markdown": [
       "77.1818181818182"
      ],
      "text/plain": [
       "[1] 77.18182"
      ]
     },
     "metadata": {},
     "output_type": "display_data"
    },
    {
     "data": {
      "text/html": [
       "<ol class=list-inline>\n",
       "\t<li>77</li>\n",
       "\t<li>79</li>\n",
       "\t<li>76</li>\n",
       "\t<li>77</li>\n",
       "\t<li>79</li>\n",
       "\t<li>75</li>\n",
       "\t<li>77</li>\n",
       "\t<li>77</li>\n",
       "\t<li>77</li>\n",
       "\t<li>78</li>\n",
       "\t<li>77</li>\n",
       "</ol>\n"
      ],
      "text/latex": [
       "\\begin{enumerate*}\n",
       "\\item 77\n",
       "\\item 79\n",
       "\\item 76\n",
       "\\item 77\n",
       "\\item 79\n",
       "\\item 75\n",
       "\\item 77\n",
       "\\item 77\n",
       "\\item 77\n",
       "\\item 78\n",
       "\\item 77\n",
       "\\end{enumerate*}\n"
      ],
      "text/markdown": [
       "1. 77\n",
       "2. 79\n",
       "3. 76\n",
       "4. 77\n",
       "5. 79\n",
       "6. 75\n",
       "7. 77\n",
       "8. 77\n",
       "9. 77\n",
       "10. 78\n",
       "11. 77\n",
       "\n",
       "\n"
      ],
      "text/plain": [
       " [1] 77 79 76 77 79 75 77 77 77 78 77"
      ]
     },
     "metadata": {},
     "output_type": "display_data"
    },
    {
     "data": {
      "text/html": [
       "<ol class=list-inline>\n",
       "\t<li>75</li>\n",
       "\t<li>76</li>\n",
       "\t<li>77</li>\n",
       "\t<li>77</li>\n",
       "\t<li>77</li>\n",
       "\t<li>77</li>\n",
       "\t<li>77</li>\n",
       "\t<li>77</li>\n",
       "\t<li>78</li>\n",
       "\t<li>79</li>\n",
       "\t<li>79</li>\n",
       "</ol>\n"
      ],
      "text/latex": [
       "\\begin{enumerate*}\n",
       "\\item 75\n",
       "\\item 76\n",
       "\\item 77\n",
       "\\item 77\n",
       "\\item 77\n",
       "\\item 77\n",
       "\\item 77\n",
       "\\item 77\n",
       "\\item 78\n",
       "\\item 79\n",
       "\\item 79\n",
       "\\end{enumerate*}\n"
      ],
      "text/markdown": [
       "1. 75\n",
       "2. 76\n",
       "3. 77\n",
       "4. 77\n",
       "5. 77\n",
       "6. 77\n",
       "7. 77\n",
       "8. 77\n",
       "9. 78\n",
       "10. 79\n",
       "11. 79\n",
       "\n",
       "\n"
      ],
      "text/plain": [
       " [1] 75 76 77 77 77 77 77 77 78 79 79"
      ]
     },
     "metadata": {},
     "output_type": "display_data"
    },
    {
     "data": {
      "text/html": [
       "77"
      ],
      "text/latex": [
       "77"
      ],
      "text/markdown": [
       "77"
      ],
      "text/plain": [
       "[1] 77"
      ]
     },
     "metadata": {},
     "output_type": "display_data"
    },
    {
     "data": {
      "text/plain": [
       "x\n",
       "75 76 77 78 79 \n",
       " 1  1  6  1  2 "
      ]
     },
     "metadata": {},
     "output_type": "display_data"
    }
   ],
   "source": [
    "x <- head(round(life$Female.life.expectancy..years.), 11)\n",
    "x\n",
    "\n",
    "# Using the formula to calculate mean\n",
    "sum(x) / 11\n",
    "\n",
    "# Using mean() function\n",
    "mean(x)\n",
    "\n",
    "\n",
    "# How to find median: the number in the middle when sorted in order\n",
    "# Check the data\n",
    "x\n",
    "\n",
    "# Sort the data in ascending order\n",
    "sort(x)\n",
    "\n",
    "# Compare with the reuslt of median() function\n",
    "median(x)\n",
    "\n",
    "\n",
    "# How to find mode\n",
    "# Make a frequency table and check the frequency\n",
    "table(x)"
   ]
  },
  {
   "cell_type": "markdown",
   "metadata": {},
   "source": [
    "### Groupwise means"
   ]
  },
  {
   "cell_type": "code",
   "execution_count": 21,
   "metadata": {},
   "outputs": [
    {
     "data": {
      "text/html": [
       "<table>\n",
       "<thead><tr><th scope=col>west_coast</th><th scope=col>mean(Female.life.expectancy..years.)</th><th scope=col>median(Female.life.expectancy..years.)</th></tr></thead>\n",
       "<tbody>\n",
       "\t<tr><td>FALSE   </td><td>78.74307</td><td>78.82   </td></tr>\n",
       "\t<tr><td> TRUE   </td><td>79.57937</td><td>79.48   </td></tr>\n",
       "</tbody>\n",
       "</table>\n"
      ],
      "text/latex": [
       "\\begin{tabular}{r|lll}\n",
       " west\\_coast & mean(Female.life.expectancy..years.) & median(Female.life.expectancy..years.)\\\\\n",
       "\\hline\n",
       "\t FALSE    & 78.74307 & 78.82   \\\\\n",
       "\t  TRUE    & 79.57937 & 79.48   \\\\\n",
       "\\end{tabular}\n"
      ],
      "text/markdown": [
       "\n",
       "west_coast | mean(Female.life.expectancy..years.) | median(Female.life.expectancy..years.) | \n",
       "|---|---|\n",
       "| FALSE    | 78.74307 | 78.82    | \n",
       "|  TRUE    | 79.57937 | 79.48    | \n",
       "\n",
       "\n"
      ],
      "text/plain": [
       "  west_coast mean(Female.life.expectancy..years.)\n",
       "1 FALSE      78.74307                            \n",
       "2  TRUE      79.57937                            \n",
       "  median(Female.life.expectancy..years.)\n",
       "1 78.82                                 \n",
       "2 79.48                                 "
      ]
     },
     "metadata": {},
     "output_type": "display_data"
    }
   ],
   "source": [
    "life %>%\n",
    "    mutate(west_coast = State %in% c(\"California\", \"Oregon\", \"Washington\")) %>%\n",
    "    group_by(west_coast) %>%\n",
    "    summarise(mean(Female.life.expectancy..years.),\n",
    "             median(Female.life.expectancy..years.))"
   ]
  },
  {
   "cell_type": "markdown",
   "metadata": {},
   "source": [
    "### group_by() function\n",
    "\n",
    "* Allows us to check the result by certain groups"
   ]
  },
  {
   "cell_type": "code",
   "execution_count": 24,
   "metadata": {},
   "outputs": [
    {
     "data": {
      "text/html": [
       "<table>\n",
       "<thead><tr><th></th><th scope=col>State</th><th scope=col>County</th><th scope=col>fips</th><th scope=col>Year</th><th scope=col>Female.life.expectancy..years.</th><th scope=col>Female.life.expectancy..national..years.</th><th scope=col>Female.life.expectancy..state..years.</th><th scope=col>Male.life.expectancy..years.</th><th scope=col>Male.life.expectancy..national..years.</th><th scope=col>Male.life.expectancy..state..years.</th></tr></thead>\n",
       "<tbody>\n",
       "\t<tr><th scope=row>240</th><td>California      </td><td>Ventura County  </td><td>6111            </td><td>1985            </td><td>79.71           </td><td>77.79           </td><td>78.26           </td><td>73.78           </td><td>70.85           </td><td>71.74           </td></tr>\n",
       "\t<tr><th scope=row>241</th><td>California      </td><td>Yolo County     </td><td>6113            </td><td>1985            </td><td>77.68           </td><td>77.79           </td><td>78.26           </td><td>71.36           </td><td>70.85           </td><td>71.74           </td></tr>\n",
       "\t<tr><th scope=row>242</th><td>California      </td><td>Yuba County     </td><td>6115            </td><td>1985            </td><td>76.19           </td><td>77.79           </td><td>78.26           </td><td>69.60           </td><td>70.85           </td><td>71.74           </td></tr>\n",
       "\t<tr><th scope=row>243</th><td>COLORADO        </td><td>ADAMS           </td><td>8001            </td><td>1985            </td><td>79.36           </td><td>77.79           </td><td>79.04           </td><td>73.49           </td><td>70.85           </td><td>72.91           </td></tr>\n",
       "\t<tr><th scope=row>244</th><td>Colorado        </td><td>Alamosa County  </td><td>8003            </td><td>1985            </td><td>79.16           </td><td>77.79           </td><td>79.04           </td><td>73.00           </td><td>70.85           </td><td>72.91           </td></tr>\n",
       "\t<tr><th scope=row>245</th><td>Colorado        </td><td>Arapahoe County </td><td>8005            </td><td>1985            </td><td>79.54           </td><td>77.79           </td><td>79.04           </td><td>74.27           </td><td>70.85           </td><td>72.91           </td></tr>\n",
       "\t<tr><th scope=row>246</th><td>Colorado        </td><td>Archuleta County</td><td>8007            </td><td>1985            </td><td>79.75           </td><td>77.79           </td><td>79.04           </td><td>72.69           </td><td>70.85           </td><td>72.91           </td></tr>\n",
       "\t<tr><th scope=row>247</th><td>Colorado        </td><td>Baca County     </td><td>8009            </td><td>1985            </td><td>78.95           </td><td>77.79           </td><td>79.04           </td><td>71.80           </td><td>70.85           </td><td>72.91           </td></tr>\n",
       "</tbody>\n",
       "</table>\n"
      ],
      "text/latex": [
       "\\begin{tabular}{r|llllllllll}\n",
       "  & State & County & fips & Year & Female.life.expectancy..years. & Female.life.expectancy..national..years. & Female.life.expectancy..state..years. & Male.life.expectancy..years. & Male.life.expectancy..national..years. & Male.life.expectancy..state..years.\\\\\n",
       "\\hline\n",
       "\t240 & California       & Ventura County   & 6111             & 1985             & 79.71            & 77.79            & 78.26            & 73.78            & 70.85            & 71.74           \\\\\n",
       "\t241 & California       & Yolo County      & 6113             & 1985             & 77.68            & 77.79            & 78.26            & 71.36            & 70.85            & 71.74           \\\\\n",
       "\t242 & California       & Yuba County      & 6115             & 1985             & 76.19            & 77.79            & 78.26            & 69.60            & 70.85            & 71.74           \\\\\n",
       "\t243 & COLORADO         & ADAMS            & 8001             & 1985             & 79.36            & 77.79            & 79.04            & 73.49            & 70.85            & 72.91           \\\\\n",
       "\t244 & Colorado         & Alamosa County   & 8003             & 1985             & 79.16            & 77.79            & 79.04            & 73.00            & 70.85            & 72.91           \\\\\n",
       "\t245 & Colorado         & Arapahoe County  & 8005             & 1985             & 79.54            & 77.79            & 79.04            & 74.27            & 70.85            & 72.91           \\\\\n",
       "\t246 & Colorado         & Archuleta County & 8007             & 1985             & 79.75            & 77.79            & 79.04            & 72.69            & 70.85            & 72.91           \\\\\n",
       "\t247 & Colorado         & Baca County      & 8009             & 1985             & 78.95            & 77.79            & 79.04            & 71.80            & 70.85            & 72.91           \\\\\n",
       "\\end{tabular}\n"
      ],
      "text/markdown": [
       "\n",
       "| <!--/--> | State | County | fips | Year | Female.life.expectancy..years. | Female.life.expectancy..national..years. | Female.life.expectancy..state..years. | Male.life.expectancy..years. | Male.life.expectancy..national..years. | Male.life.expectancy..state..years. | \n",
       "|---|---|---|---|---|---|---|---|\n",
       "| 240 | California       | Ventura County   | 6111             | 1985             | 79.71            | 77.79            | 78.26            | 73.78            | 70.85            | 71.74            | \n",
       "| 241 | California       | Yolo County      | 6113             | 1985             | 77.68            | 77.79            | 78.26            | 71.36            | 70.85            | 71.74            | \n",
       "| 242 | California       | Yuba County      | 6115             | 1985             | 76.19            | 77.79            | 78.26            | 69.60            | 70.85            | 71.74            | \n",
       "| 243 | COLORADO         | ADAMS            | 8001             | 1985             | 79.36            | 77.79            | 79.04            | 73.49            | 70.85            | 72.91            | \n",
       "| 244 | Colorado         | Alamosa County   | 8003             | 1985             | 79.16            | 77.79            | 79.04            | 73.00            | 70.85            | 72.91            | \n",
       "| 245 | Colorado         | Arapahoe County  | 8005             | 1985             | 79.54            | 77.79            | 79.04            | 74.27            | 70.85            | 72.91            | \n",
       "| 246 | Colorado         | Archuleta County | 8007             | 1985             | 79.75            | 77.79            | 79.04            | 72.69            | 70.85            | 72.91            | \n",
       "| 247 | Colorado         | Baca County      | 8009             | 1985             | 78.95            | 77.79            | 79.04            | 71.80            | 70.85            | 72.91            | \n",
       "\n",
       "\n"
      ],
      "text/plain": [
       "    State      County           fips Year Female.life.expectancy..years.\n",
       "240 California Ventura County   6111 1985 79.71                         \n",
       "241 California Yolo County      6113 1985 77.68                         \n",
       "242 California Yuba County      6115 1985 76.19                         \n",
       "243 COLORADO   ADAMS            8001 1985 79.36                         \n",
       "244 Colorado   Alamosa County   8003 1985 79.16                         \n",
       "245 Colorado   Arapahoe County  8005 1985 79.54                         \n",
       "246 Colorado   Archuleta County 8007 1985 79.75                         \n",
       "247 Colorado   Baca County      8009 1985 78.95                         \n",
       "    Female.life.expectancy..national..years.\n",
       "240 77.79                                   \n",
       "241 77.79                                   \n",
       "242 77.79                                   \n",
       "243 77.79                                   \n",
       "244 77.79                                   \n",
       "245 77.79                                   \n",
       "246 77.79                                   \n",
       "247 77.79                                   \n",
       "    Female.life.expectancy..state..years. Male.life.expectancy..years.\n",
       "240 78.26                                 73.78                       \n",
       "241 78.26                                 71.36                       \n",
       "242 78.26                                 69.60                       \n",
       "243 79.04                                 73.49                       \n",
       "244 79.04                                 73.00                       \n",
       "245 79.04                                 74.27                       \n",
       "246 79.04                                 72.69                       \n",
       "247 79.04                                 71.80                       \n",
       "    Male.life.expectancy..national..years. Male.life.expectancy..state..years.\n",
       "240 70.85                                  71.74                              \n",
       "241 70.85                                  71.74                              \n",
       "242 70.85                                  71.74                              \n",
       "243 70.85                                  72.91                              \n",
       "244 70.85                                  72.91                              \n",
       "245 70.85                                  72.91                              \n",
       "246 70.85                                  72.91                              \n",
       "247 70.85                                  72.91                              "
      ]
     },
     "metadata": {},
     "output_type": "display_data"
    },
    {
     "data": {
      "text/html": [
       "<table>\n",
       "<thead><tr><th scope=col>mean(Female.life.expectancy..years.)</th></tr></thead>\n",
       "<tbody>\n",
       "\t<tr><td>78.7925</td></tr>\n",
       "</tbody>\n",
       "</table>\n"
      ],
      "text/latex": [
       "\\begin{tabular}{r|l}\n",
       " mean(Female.life.expectancy..years.)\\\\\n",
       "\\hline\n",
       "\t 78.7925\\\\\n",
       "\\end{tabular}\n"
      ],
      "text/markdown": [
       "\n",
       "mean(Female.life.expectancy..years.) | \n",
       "|---|\n",
       "| 78.7925 | \n",
       "\n",
       "\n"
      ],
      "text/plain": [
       "  mean(Female.life.expectancy..years.)\n",
       "1 78.7925                             "
      ]
     },
     "metadata": {},
     "output_type": "display_data"
    },
    {
     "data": {
      "text/html": [
       "<table>\n",
       "<thead><tr><th scope=col>west_cost</th><th scope=col>mean(Female.life.expectancy..years.)</th></tr></thead>\n",
       "<tbody>\n",
       "\t<tr><td>FALSE </td><td>79.352</td></tr>\n",
       "\t<tr><td> TRUE </td><td>77.860</td></tr>\n",
       "</tbody>\n",
       "</table>\n"
      ],
      "text/latex": [
       "\\begin{tabular}{r|ll}\n",
       " west\\_cost & mean(Female.life.expectancy..years.)\\\\\n",
       "\\hline\n",
       "\t FALSE  & 79.352\\\\\n",
       "\t  TRUE  & 77.860\\\\\n",
       "\\end{tabular}\n"
      ],
      "text/markdown": [
       "\n",
       "west_cost | mean(Female.life.expectancy..years.) | \n",
       "|---|---|\n",
       "| FALSE  | 79.352 | \n",
       "|  TRUE  | 77.860 | \n",
       "\n",
       "\n"
      ],
      "text/plain": [
       "  west_cost mean(Female.life.expectancy..years.)\n",
       "1 FALSE     79.352                              \n",
       "2  TRUE     77.860                              "
      ]
     },
     "metadata": {},
     "output_type": "display_data"
    }
   ],
   "source": [
    "# See what the data look like\n",
    "life[240:247, ]\n",
    "\n",
    "# Check the mean of them without group_by()\n",
    "life %>%\n",
    "    slice(240:247) %>%\n",
    "    summarise(mean(Female.life.expectancy..years.))\n",
    "\n",
    "# # Check the mean of them with group_by()\n",
    "life %>%\n",
    "    slice(240:247) %>%\n",
    "    mutate(west_cost = State %in% c(\"California\", \"Oregon\", \"Washington\")) %>%\n",
    "    group_by(west_cost) %>%\n",
    "    summarise(mean(Female.life.expectancy..years.))\n"
   ]
  },
  {
   "cell_type": "markdown",
   "metadata": {},
   "source": [
    "### Calculate center measures\n",
    "\n",
    "Throughout this chapter, you will use data from gapminder, which tracks demographic data in countries of the world over time. To learn more about it, you can bring up the help file with ?gapminder.\n",
    "\n",
    "For this exercise, focus on how the life expectancy differs from continent to continent. This requires that you conduct your analysis not at the country level, but aggregated up to the continent level. This is made possible by the one-two punch of group_by() and summarize(), a very powerful syntax for carrying out the same analysis on different subsets of the full dataset.\n",
    "\n",
    "INSTRUCTIONS\n",
    "\n",
    "* Create a dataset called gap2007 that contains only data from the year 2007.\n",
    "* Using gap2007, calculate the mean and median life expectancy for each continent. Don't worry about naming the new columns produced by summarize().\n",
    "* Confirm the trends that you see in the medians by generating side-by-side box plots of life expectancy for each continent."
   ]
  },
  {
   "cell_type": "code",
   "execution_count": 27,
   "metadata": {},
   "outputs": [
    {
     "name": "stdout",
     "output_type": "stream",
     "text": [
      "Observations: 1,704\n",
      "Variables: 6\n",
      "$ country   <fctr> Afghanistan, Afghanistan, Afghanistan, Afghanistan, Afgh...\n",
      "$ continent <fctr> Asia, Asia, Asia, Asia, Asia, Asia, Asia, Asia, Asia, As...\n",
      "$ year      <int> 1952, 1957, 1962, 1967, 1972, 1977, 1982, 1987, 1992, 199...\n",
      "$ lifeExp   <dbl> 28.801, 30.332, 31.997, 34.020, 36.088, 38.438, 39.854, 4...\n",
      "$ pop       <int> 8425333, 9240934, 10267083, 11537966, 13079460, 14880372,...\n",
      "$ gdpPercap <dbl> 779.4453, 820.8530, 853.1007, 836.1971, 739.9811, 786.113...\n"
     ]
    }
   ],
   "source": [
    "# Load gapminder library\n",
    "library(gapminder)\n",
    "\n",
    "# Check the summary of the dataset\n",
    "glimpse(gapminder)"
   ]
  },
  {
   "cell_type": "code",
   "execution_count": 28,
   "metadata": {},
   "outputs": [
    {
     "data": {
      "text/html": [
       "<table>\n",
       "<thead><tr><th scope=col>continent</th><th scope=col>mean(lifeExp)</th><th scope=col>median(lifeExp)</th></tr></thead>\n",
       "<tbody>\n",
       "\t<tr><td>Africa  </td><td>54.80604</td><td>52.9265 </td></tr>\n",
       "\t<tr><td>Americas</td><td>73.60812</td><td>72.8990 </td></tr>\n",
       "\t<tr><td>Asia    </td><td>70.72848</td><td>72.3960 </td></tr>\n",
       "\t<tr><td>Europe  </td><td>77.64860</td><td>78.6085 </td></tr>\n",
       "\t<tr><td>Oceania </td><td>80.71950</td><td>80.7195 </td></tr>\n",
       "</tbody>\n",
       "</table>\n"
      ],
      "text/latex": [
       "\\begin{tabular}{r|lll}\n",
       " continent & mean(lifeExp) & median(lifeExp)\\\\\n",
       "\\hline\n",
       "\t Africa   & 54.80604 & 52.9265 \\\\\n",
       "\t Americas & 73.60812 & 72.8990 \\\\\n",
       "\t Asia     & 70.72848 & 72.3960 \\\\\n",
       "\t Europe   & 77.64860 & 78.6085 \\\\\n",
       "\t Oceania  & 80.71950 & 80.7195 \\\\\n",
       "\\end{tabular}\n"
      ],
      "text/markdown": [
       "\n",
       "continent | mean(lifeExp) | median(lifeExp) | \n",
       "|---|---|---|---|---|\n",
       "| Africa   | 54.80604 | 52.9265  | \n",
       "| Americas | 73.60812 | 72.8990  | \n",
       "| Asia     | 70.72848 | 72.3960  | \n",
       "| Europe   | 77.64860 | 78.6085  | \n",
       "| Oceania  | 80.71950 | 80.7195  | \n",
       "\n",
       "\n"
      ],
      "text/plain": [
       "  continent mean(lifeExp) median(lifeExp)\n",
       "1 Africa    54.80604      52.9265        \n",
       "2 Americas  73.60812      72.8990        \n",
       "3 Asia      70.72848      72.3960        \n",
       "4 Europe    77.64860      78.6085        \n",
       "5 Oceania   80.71950      80.7195        "
      ]
     },
     "metadata": {},
     "output_type": "display_data"
    },
    {
     "data": {},
     "metadata": {},
     "output_type": "display_data"
    },
    {
     "data": {
      "image/png": "[encoded data removed]",
      "text/plain": [
       "plot without title"
      ]
     },
     "metadata": {},
     "output_type": "display_data",
     "source": "R display func"
    }
   ],
   "source": [
    "# Create dataset of 2007 data\n",
    "gap2007 <- filter(gapminder, year == 2007)\n",
    "\n",
    "# Compute groupwise mean and median lifeExp\n",
    "gap2007 %>%\n",
    "  group_by(continent) %>%\n",
    "  summarize(mean(lifeExp),\n",
    "            median(lifeExp))\n",
    "\n",
    "# Generate box plots of lifeExp for each continent\n",
    "gap2007 %>%\n",
    "  ggplot(aes(x = continent, y = lifeExp)) +\n",
    "  geom_boxplot()"
   ]
  },
  {
   "cell_type": "markdown",
   "metadata": {},
   "source": [
    "## Measure of variability\n",
    "\n",
    "### Variance\n",
    "\n",
    "* In probability theory and statistics, **variacne** is the expectation of the squared deviation of a random variable from its mean. Informally, it measures how far a set of (random) numbers are spread out from their average value.\n",
    "\n",
    "$Var(X) = E[(X - \\mu)^2]$\n",
    "\n",
    "$ Var(X) = \\frac{1}{n} \\sum_{i = 1}^n (x_i - \\mu)^2 $ \n",
    "\n",
    "\n",
    "### Standard deviation\n",
    "\n",
    "* In statistics, the **standard deviation** is a measure that is used to quantify the amount of variation or dispersion of as set of data values. \n",
    "\n",
    "* The standard deviation of a random variable, statistical population, data set, or probability distribution is the square root of its variacne.\n",
    "\n",
    "$ s = \\sqrt{\\frac{\\sum_{i = 1}^N (x_i - \\bar{x})^2}{N - 1}} $\n",
    "\n",
    "### Inter-Quartile Range\n",
    "\n",
    "* The difference between the 3rd Quartile and the 1st Quartile\n",
    "\n",
    "### Range\n",
    "\n",
    "* The difference between the maximum value and the minimum value\n",
    "\n",
    "### Caution\n",
    "\n",
    "* When there are extreme values or the data set is heavily skewed, variance, standard deviation and range are easily affected. So, be careful of using them in those situations.\n",
    "* IQR is not much influenced in those cases."
   ]
  },
  {
   "cell_type": "code",
   "execution_count": 30,
   "metadata": {},
   "outputs": [
    {
     "data": {
      "text/html": [
       "<ol class=list-inline>\n",
       "\t<li>77</li>\n",
       "\t<li>79</li>\n",
       "\t<li>76</li>\n",
       "\t<li>77</li>\n",
       "\t<li>79</li>\n",
       "\t<li>75</li>\n",
       "\t<li>77</li>\n",
       "\t<li>77</li>\n",
       "\t<li>77</li>\n",
       "\t<li>78</li>\n",
       "\t<li>77</li>\n",
       "</ol>\n"
      ],
      "text/latex": [
       "\\begin{enumerate*}\n",
       "\\item 77\n",
       "\\item 79\n",
       "\\item 76\n",
       "\\item 77\n",
       "\\item 79\n",
       "\\item 75\n",
       "\\item 77\n",
       "\\item 77\n",
       "\\item 77\n",
       "\\item 78\n",
       "\\item 77\n",
       "\\end{enumerate*}\n"
      ],
      "text/markdown": [
       "1. 77\n",
       "2. 79\n",
       "3. 76\n",
       "4. 77\n",
       "5. 79\n",
       "6. 75\n",
       "7. 77\n",
       "8. 77\n",
       "9. 77\n",
       "10. 78\n",
       "11. 77\n",
       "\n",
       "\n"
      ],
      "text/plain": [
       " [1] 77 79 76 77 79 75 77 77 77 78 77"
      ]
     },
     "metadata": {},
     "output_type": "display_data"
    },
    {
     "data": {
      "text/html": [
       "<ol class=list-inline>\n",
       "\t<li>-0.181818181818187</li>\n",
       "\t<li>1.81818181818181</li>\n",
       "\t<li>-1.18181818181819</li>\n",
       "\t<li>-0.181818181818187</li>\n",
       "\t<li>1.81818181818181</li>\n",
       "\t<li>-2.18181818181819</li>\n",
       "\t<li>-0.181818181818187</li>\n",
       "\t<li>-0.181818181818187</li>\n",
       "\t<li>-0.181818181818187</li>\n",
       "\t<li>0.818181818181813</li>\n",
       "\t<li>-0.181818181818187</li>\n",
       "</ol>\n"
      ],
      "text/latex": [
       "\\begin{enumerate*}\n",
       "\\item -0.181818181818187\n",
       "\\item 1.81818181818181\n",
       "\\item -1.18181818181819\n",
       "\\item -0.181818181818187\n",
       "\\item 1.81818181818181\n",
       "\\item -2.18181818181819\n",
       "\\item -0.181818181818187\n",
       "\\item -0.181818181818187\n",
       "\\item -0.181818181818187\n",
       "\\item 0.818181818181813\n",
       "\\item -0.181818181818187\n",
       "\\end{enumerate*}\n"
      ],
      "text/markdown": [
       "1. -0.181818181818187\n",
       "2. 1.81818181818181\n",
       "3. -1.18181818181819\n",
       "4. -0.181818181818187\n",
       "5. 1.81818181818181\n",
       "6. -2.18181818181819\n",
       "7. -0.181818181818187\n",
       "8. -0.181818181818187\n",
       "9. -0.181818181818187\n",
       "10. 0.818181818181813\n",
       "11. -0.181818181818187\n",
       "\n",
       "\n"
      ],
      "text/plain": [
       " [1] -0.1818182  1.8181818 -1.1818182 -0.1818182  1.8181818 -2.1818182\n",
       " [7] -0.1818182 -0.1818182 -0.1818182  0.8181818 -0.1818182"
      ]
     },
     "metadata": {},
     "output_type": "display_data"
    },
    {
     "data": {
      "text/html": [
       "-5.6843418860808e-14"
      ],
      "text/latex": [
       "-5.6843418860808e-14"
      ],
      "text/markdown": [
       "-5.6843418860808e-14"
      ],
      "text/plain": [
       "[1] -5.684342e-14"
      ]
     },
     "metadata": {},
     "output_type": "display_data"
    },
    {
     "data": {
      "text/html": [
       "13.6363636363636"
      ],
      "text/latex": [
       "13.6363636363636"
      ],
      "text/markdown": [
       "13.6363636363636"
      ],
      "text/plain": [
       "[1] 13.63636"
      ]
     },
     "metadata": {},
     "output_type": "display_data"
    },
    {
     "data": {
      "text/html": [
       "1.2396694214876"
      ],
      "text/latex": [
       "1.2396694214876"
      ],
      "text/markdown": [
       "1.2396694214876"
      ],
      "text/plain": [
       "[1] 1.239669"
      ]
     },
     "metadata": {},
     "output_type": "display_data"
    },
    {
     "data": {
      "text/html": [
       "1.36363636363636"
      ],
      "text/latex": [
       "1.36363636363636"
      ],
      "text/markdown": [
       "1.36363636363636"
      ],
      "text/plain": [
       "[1] 1.363636"
      ]
     },
     "metadata": {},
     "output_type": "display_data"
    },
    {
     "data": {
      "text/html": [
       "1.36363636363636"
      ],
      "text/latex": [
       "1.36363636363636"
      ],
      "text/markdown": [
       "1.36363636363636"
      ],
      "text/plain": [
       "[1] 1.363636"
      ]
     },
     "metadata": {},
     "output_type": "display_data"
    },
    {
     "data": {
      "text/html": [
       "1.16774841624228"
      ],
      "text/latex": [
       "1.16774841624228"
      ],
      "text/markdown": [
       "1.16774841624228"
      ],
      "text/plain": [
       "[1] 1.167748"
      ]
     },
     "metadata": {},
     "output_type": "display_data"
    },
    {
     "data": {
      "text/html": [
       "0.5"
      ],
      "text/latex": [
       "0.5"
      ],
      "text/markdown": [
       "0.5"
      ],
      "text/plain": [
       "[1] 0.5"
      ]
     },
     "metadata": {},
     "output_type": "display_data"
    },
    {
     "data": {
      "text/html": [
       "<ol class=list-inline>\n",
       "\t<li>75</li>\n",
       "\t<li>79</li>\n",
       "</ol>\n"
      ],
      "text/latex": [
       "\\begin{enumerate*}\n",
       "\\item 75\n",
       "\\item 79\n",
       "\\end{enumerate*}\n"
      ],
      "text/markdown": [
       "1. 75\n",
       "2. 79\n",
       "\n",
       "\n"
      ],
      "text/plain": [
       "[1] 75 79"
      ]
     },
     "metadata": {},
     "output_type": "display_data"
    },
    {
     "data": {
      "text/html": [
       "4"
      ],
      "text/latex": [
       "4"
      ],
      "text/markdown": [
       "4"
      ],
      "text/plain": [
       "[1] 4"
      ]
     },
     "metadata": {},
     "output_type": "display_data"
    }
   ],
   "source": [
    "# Check the dataset\n",
    "x\n",
    "\n",
    "# Check the deviation of each data from the mean\n",
    "x - mean(x)\n",
    "\n",
    "# Sum up the deviations to find a single value to represent the vairablity\n",
    "#     - The positive and negative values cancel each others out.\n",
    "sum(x - mean(x))\n",
    "\n",
    "# Take squares to each deviations and sum up\n",
    "#     - It's not close to zero, but it keeps growing as the size of data gets bigger\n",
    "sum((x - mean(x)) ^ 2)\n",
    "\n",
    "# Variance\n",
    "# Divide the value by the size of the data set\n",
    "n <- length(x)\n",
    "sum((x - mean(x)) ^ 2) / n\n",
    "\n",
    "# If you divide the value by n - 1, you will get the sample variance\n",
    "sum((x - mean(x)) ^ 2) / (n - 1)\n",
    "\n",
    "# The same job can be done by using var() function: Variance\n",
    "var(x)\n",
    "\n",
    "# Standard deviation: The unit is the same as the original unit\n",
    "sd(x)\n",
    "\n",
    "# IQR: Inter-Quartile Range\n",
    "IQR(x)\n",
    "\n",
    "# Range\n",
    "range(x)\n",
    "diff(range(x))\n"
   ]
  },
  {
   "cell_type": "markdown",
   "metadata": {},
   "source": [
    "### Calculate spread measures\n",
    "\n",
    "Let's extend the powerful group_by() and summarize() syntax to measures of spread. If you're unsure whether you're working with symmetric or skewed distributions, it's a good idea to consider a robust measure like IQR in addition to the usual measures of variance or standard deviation.\n",
    "\n",
    "INSTRUCTIONS\n",
    "\n",
    "* The gap2007 dataset that you created in an earlier exercise is available in your workspace.\n",
    "\n",
    "    - For each continent in gap2007, summarize life expectancies using the sd(), the IQR(), and the count of countries, n(). No need to name the new columns produced here. The n() function within your summarize() call does not take any arguments.\n",
    "    - Graphically compare the spread of these distributions by constructing overlaid density plots of life expectancy broken down by continent."
   ]
  },
  {
   "cell_type": "code",
   "execution_count": 31,
   "metadata": {},
   "outputs": [
    {
     "data": {
      "text/html": [
       "<table>\n",
       "<thead><tr><th scope=col>continent</th><th scope=col>sd(lifeExp)</th><th scope=col>IQR(lifeExp)</th><th scope=col>n()</th></tr></thead>\n",
       "<tbody>\n",
       "\t<tr><td>Africa   </td><td>9.6307807</td><td>11.61025 </td><td>52       </td></tr>\n",
       "\t<tr><td>Americas </td><td>4.4409476</td><td> 4.63200 </td><td>25       </td></tr>\n",
       "\t<tr><td>Asia     </td><td>7.9637245</td><td>10.15200 </td><td>33       </td></tr>\n",
       "\t<tr><td>Europe   </td><td>2.9798127</td><td> 4.78250 </td><td>30       </td></tr>\n",
       "\t<tr><td>Oceania  </td><td>0.7290271</td><td> 0.51550 </td><td> 2       </td></tr>\n",
       "</tbody>\n",
       "</table>\n"
      ],
      "text/latex": [
       "\\begin{tabular}{r|llll}\n",
       " continent & sd(lifeExp) & IQR(lifeExp) & n()\\\\\n",
       "\\hline\n",
       "\t Africa    & 9.6307807 & 11.61025  & 52       \\\\\n",
       "\t Americas  & 4.4409476 &  4.63200  & 25       \\\\\n",
       "\t Asia      & 7.9637245 & 10.15200  & 33       \\\\\n",
       "\t Europe    & 2.9798127 &  4.78250  & 30       \\\\\n",
       "\t Oceania   & 0.7290271 &  0.51550  &  2       \\\\\n",
       "\\end{tabular}\n"
      ],
      "text/markdown": [
       "\n",
       "continent | sd(lifeExp) | IQR(lifeExp) | n() | \n",
       "|---|---|---|---|---|\n",
       "| Africa    | 9.6307807 | 11.61025  | 52        | \n",
       "| Americas  | 4.4409476 |  4.63200  | 25        | \n",
       "| Asia      | 7.9637245 | 10.15200  | 33        | \n",
       "| Europe    | 2.9798127 |  4.78250  | 30        | \n",
       "| Oceania   | 0.7290271 |  0.51550  |  2        | \n",
       "\n",
       "\n"
      ],
      "text/plain": [
       "  continent sd(lifeExp) IQR(lifeExp) n()\n",
       "1 Africa    9.6307807   11.61025     52 \n",
       "2 Americas  4.4409476    4.63200     25 \n",
       "3 Asia      7.9637245   10.15200     33 \n",
       "4 Europe    2.9798127    4.78250     30 \n",
       "5 Oceania   0.7290271    0.51550      2 "
      ]
     },
     "metadata": {},
     "output_type": "display_data"
    },
    {
     "data": {},
     "metadata": {},
     "output_type": "display_data"
    },
    {
     "data": {
      "image/png": "[encoded data removed]",
      "text/plain": [
       "plot without title"
      ]
     },
     "metadata": {},
     "output_type": "display_data",
     "source": "R display func"
    }
   ],
   "source": [
    "# Compute groupwise measures of spread\n",
    "gap2007 %>%\n",
    "  group_by(continent) %>%\n",
    "  summarize(sd(lifeExp),\n",
    "            IQR(lifeExp),\n",
    "            n())\n",
    "\n",
    "# Generate overlaid density plots\n",
    "gap2007 %>%\n",
    "  ggplot(aes(x = lifeExp, fill = continent)) +\n",
    "  geom_density(alpha = 0.3)"
   ]
  },
  {
   "cell_type": "markdown",
   "metadata": {},
   "source": [
    "### Choose measures for center and spread\n",
    "\n",
    "Consider the density plots shown here. What are the most appropriate measures to describe their centers and spreads? In this exercise, you'll select the measures and then calculate them.\n",
    "\n",
    "INSTRUCTIONS\n",
    "\n",
    "* Using the shapes of the density plots, calculate the most appropriate measures of center and spread for the following:\n",
    "\n",
    "    - The distribution of life expectancy in the countries of the Americas. Note you'll need to apply a filter here.\n",
    "    - The distribution of country populations across the entire gap2007 dataset."
   ]
  },
  {
   "cell_type": "code",
   "execution_count": 38,
   "metadata": {},
   "outputs": [
    {
     "data": {},
     "metadata": {},
     "output_type": "display_data"
    },
    {
     "data": {},
     "metadata": {},
     "output_type": "display_data"
    },
    {
     "data": {
      "image/png": "[encoded data removed]",
      "text/plain": [
       "plot without title"
      ]
     },
     "metadata": {},
     "output_type": "display_data",
     "source": "R display func"
    },
    {
     "data": {
      "text/html": [
       "<table>\n",
       "<thead><tr><th scope=col>mean(lifeExp)</th><th scope=col>sd(lifeExp)</th></tr></thead>\n",
       "<tbody>\n",
       "\t<tr><td>73.60812</td><td>4.440948</td></tr>\n",
       "</tbody>\n",
       "</table>\n"
      ],
      "text/latex": [
       "\\begin{tabular}{r|ll}\n",
       " mean(lifeExp) & sd(lifeExp)\\\\\n",
       "\\hline\n",
       "\t 73.60812 & 4.440948\\\\\n",
       "\\end{tabular}\n"
      ],
      "text/markdown": [
       "\n",
       "mean(lifeExp) | sd(lifeExp) | \n",
       "|---|\n",
       "| 73.60812 | 4.440948 | \n",
       "\n",
       "\n"
      ],
      "text/plain": [
       "  mean(lifeExp) sd(lifeExp)\n",
       "1 73.60812      4.440948   "
      ]
     },
     "metadata": {},
     "output_type": "display_data"
    },
    {
     "data": {
      "text/html": [
       "<table>\n",
       "<thead><tr><th scope=col>median(pop)</th><th scope=col>IQR(pop)</th></tr></thead>\n",
       "<tbody>\n",
       "\t<tr><td>10517531</td><td>26702008</td></tr>\n",
       "</tbody>\n",
       "</table>\n"
      ],
      "text/latex": [
       "\\begin{tabular}{r|ll}\n",
       " median(pop) & IQR(pop)\\\\\n",
       "\\hline\n",
       "\t 10517531 & 26702008\\\\\n",
       "\\end{tabular}\n"
      ],
      "text/markdown": [
       "\n",
       "median(pop) | IQR(pop) | \n",
       "|---|\n",
       "| 10517531 | 26702008 | \n",
       "\n",
       "\n"
      ],
      "text/plain": [
       "  median(pop) IQR(pop)\n",
       "1 10517531    26702008"
      ]
     },
     "metadata": {},
     "output_type": "display_data"
    },
    {
     "data": {
      "image/png": "[encoded data removed]",
      "text/plain": [
       "plot without title"
      ]
     },
     "metadata": {},
     "output_type": "display_data",
     "source": "R display func"
    }
   ],
   "source": [
    "# Density plot of Life Expectancy in Americas\n",
    "gap2007 %>%\n",
    "    filter(continent == \"Americas\") %>%\n",
    "    ggplot(aes(x = lifeExp)) +\n",
    "    geom_density() +\n",
    "    ggtitle(\"Life Expectancy in Americas\")\n",
    "    \n",
    "# Density plot of Country-Level Population\n",
    "gap2007 %>%\n",
    "    ggplot(aes(x = pop)) +\n",
    "    geom_density() +\n",
    "    ggtitle(\"Country-Level Population\")\n",
    "\n",
    "# Compute stats for lifeExp in Americas\n",
    "gap2007 %>%\n",
    "    filter(continent == \"Americas\") %>%\n",
    "    summarize(mean(lifeExp),\n",
    "              sd(lifeExp))\n",
    "\n",
    "# Compute stats for population\n",
    "gap2007 %>%\n",
    "    summarize(median(pop),\n",
    "              IQR(pop))"
   ]
  },
  {
   "cell_type": "markdown",
   "metadata": {},
   "source": [
    "## Shape and transformations\n",
    "\n",
    "### Modality\n",
    "\n",
    "* The modality of a distribution is the number of prominent humps that show up in the distribution.\n",
    "    - Unimodal: One mode\n",
    "    - Bimodal: Two modes\n",
    "    - Multimodal: Multiple numbers of modes\n",
    "    - Uniform: No mode, the distribution is flat across all values\n",
    "\n",
    "### Skewness\n",
    "\n",
    "* Right-skewed: A distribution has a long tail that stretches out to the righ\n",
    "* Left-skewed: A distribution has a log tail that stretches out to the left\n",
    "* Symmetric: If neither tail is longer than the ohter\n",
    "\n",
    "### Transformation\n",
    "\n",
    "Highly skewed distributions can make it very difficult to learn anything from a visualization. Transformations can be helpful in revealing the more subtle structure.\n",
    "\n",
    "Here you'll focus on the population variable, which exhibits strong right skew, and transform it with the natural logarithm function (log() in R).\n",
    "\n",
    "INSTRUCTIONS\n",
    "\n",
    "* Using the gap2007 data:\n",
    "\n",
    "    - Create a density plot of the population variable.\n",
    "    - Mutate a new column called log_pop that is the natural log of the population and save it back into gap2007.\n",
    "    - Create a density plot of your transformed variable."
   ]
  },
  {
   "cell_type": "code",
   "execution_count": 44,
   "metadata": {},
   "outputs": [
    {
     "data": {},
     "metadata": {},
     "output_type": "display_data"
    },
    {
     "data": {},
     "metadata": {},
     "output_type": "display_data"
    },
    {
     "data": {
      "image/png": "[encoded data removed]",
      "text/plain": [
       "plot without title"
      ]
     },
     "metadata": {},
     "output_type": "display_data",
     "source": "R display func"
    },
    {
     "data": {
      "image/png": "[encoded data removed]",
      "text/plain": [
       "plot without title"
      ]
     },
     "metadata": {},
     "output_type": "display_data",
     "source": "R display func"
    }
   ],
   "source": [
    "# Create density plot of old variable\n",
    "gap2007 %>%\n",
    "  ggplot(aes(x = pop)) +\n",
    "  geom_density()\n",
    "\n",
    "# Transform the skewed pop variable\n",
    "gap2007 <- gap2007 %>%\n",
    "  mutate(log_pop = log(pop))\n",
    "\n",
    "# Create density plot of new variable\n",
    "gap2007 %>%\n",
    "  ggplot(aes(x = log_pop)) +\n",
    "  geom_density()"
   ]
  },
  {
   "cell_type": "markdown",
   "metadata": {},
   "source": [
    "## Outliers\n",
    "\n",
    "### Characteristics of a distribution\n",
    "\n",
    "* Center: mean, median, mode\n",
    "* Variability: variance, standard deviation\n",
    "* Shape: modality, skewness\n",
    "* Outliers: Observations that have extreme values far from the bulk of the distribution\n",
    "\n",
    "### Indicating outliers\n",
    "\n",
    "* Set a treshold and mark the outliers\n",
    "\n",
    "```\n",
    "life <- life %>%\n",
    "            mutate(is_outlier = income > 75000)\n",
    "            filter(is_outlier) %>%\n",
    "            arrange(desc(income))\n",
    "```\n",
    "\n",
    "### Plotting without outliers\n",
    "\n",
    "```\n",
    "life %>%\n",
    "    filter(!is_outlier) %>%\n",
    "    ggplot(aes(x = income, fill = west_coast)) +\n",
    "    geom_density(alpha = 0.3)\n",
    "```"
   ]
  },
  {
   "cell_type": "markdown",
   "metadata": {},
   "source": [
    "### Identify outliers\n",
    "\n",
    "Consider the distribution, shown here, of the life expectancies of the countries in Asia. The box plot identifies one clear outlier: a country with a notably low life expectancy. Do you have a guess as to which country this might be? Test your guess in the console using either min() or filter(), then proceed to building a plot with that country removed.\n",
    "\n",
    "INSTRUCTIONS\n",
    "\n",
    "* gap2007 is still available in your workspace.\n",
    "\n",
    "    - Apply a filter so that it only contains observations from Asia, then create a new variable called is_outlier that is TRUE for countries with life expectancy less than 50. Assign the result to gap_asia.\n",
    "    - Filter gap_asia to remove all outliers, then create another box plot of the remaining life expectancies."
   ]
  },
  {
   "cell_type": "code",
   "execution_count": 46,
   "metadata": {},
   "outputs": [
    {
     "data": {},
     "metadata": {},
     "output_type": "display_data"
    },
    {
     "data": {
      "image/png": "[encoded data removed]",
      "text/plain": [
       "plot without title"
      ]
     },
     "metadata": {},
     "output_type": "display_data",
     "source": "R display func"
    }
   ],
   "source": [
    "# Filter for Asia, add column indicating outliers\n",
    "gap_asia <- gap2007 %>%\n",
    "                filter(continent == \"Asia\") %>%\n",
    "                mutate(is_outlier = lifeExp < 50)\n",
    "\n",
    "\n",
    "# Remove outliers, create box plot of lifeExp\n",
    "gap_asia %>%\n",
    "    filter(!is_outlier) %>%\n",
    "    ggplot(aes(x = 1, y = lifeExp)) +\n",
    "    geom_boxplot()"
   ]
  }
 ],
 "metadata": {
  "kernelspec": {
   "display_name": "R",
   "language": "R",
   "name": "ir"
  },
  "language_info": {
   "codemirror_mode": "r",
   "file_extension": ".r",
   "mimetype": "text/x-r-source",
   "name": "R",
   "pygments_lexer": "r",
   "version": "3.4.2"
  }
 },
 "nbformat": 4,
 "nbformat_minor": 2
}
