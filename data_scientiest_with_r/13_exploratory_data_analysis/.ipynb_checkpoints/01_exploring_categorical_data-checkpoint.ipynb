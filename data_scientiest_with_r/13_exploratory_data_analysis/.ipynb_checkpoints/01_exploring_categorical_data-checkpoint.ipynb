{
 "cells": [
  {
   "cell_type": "markdown",
   "metadata": {},
   "source": [
    "# Exploring Categorical Data\n",
    "\n",
    "## Exploring categorical data\n",
    "\n",
    "### Comics dataset\n",
    "\n",
    "* Information about all comics characters created by DC and Marvel"
   ]
  },
  {
   "cell_type": "code",
   "execution_count": 1,
   "metadata": {},
   "outputs": [],
   "source": [
    "comics <- read.csv(\"https://assets.datacamp.com/production/course_1796/datasets/comics.csv\")"
   ]
  },
  {
   "cell_type": "code",
   "execution_count": 3,
   "metadata": {},
   "outputs": [
    {
     "name": "stderr",
     "output_type": "stream",
     "text": [
      "Warning message:\n",
      "\"package 'tidyr' was built under R version 3.4.3\"Warning message:\n",
      "\"package 'dplyr' was built under R version 3.4.3\"\n",
      "Attaching package: 'dplyr'\n",
      "\n",
      "The following objects are masked from 'package:stats':\n",
      "\n",
      "    filter, lag\n",
      "\n",
      "The following objects are masked from 'package:base':\n",
      "\n",
      "    intersect, setdiff, setequal, union\n",
      "\n"
     ]
    }
   ],
   "source": [
    "library(tidyr)\n",
    "library(dplyr)\n",
    "library(ggplot2)"
   ]
  },
  {
   "cell_type": "code",
   "execution_count": 4,
   "metadata": {},
   "outputs": [
    {
     "name": "stdout",
     "output_type": "stream",
     "text": [
      "Observations: 23,272\n",
      "Variables: 11\n",
      "$ name         <fctr> Spider-Man (Peter Parker), Captain America (Steven Ro...\n",
      "$ id           <fctr> Secret, Public, Public, Public, No Dual, Public, Publ...\n",
      "$ align        <fctr> Good, Good, Neutral, Good, Good, Good, Good, Good, Ne...\n",
      "$ eye          <fctr> Hazel Eyes, Blue Eyes, Blue Eyes, Blue Eyes, Blue Eye...\n",
      "$ hair         <fctr> Brown Hair, White Hair, Black Hair, Black Hair, Blond...\n",
      "$ gender       <fctr> Male, Male, Male, Male, Male, Male, Male, Male, Male,...\n",
      "$ gsm          <fctr> NA, NA, NA, NA, NA, NA, NA, NA, NA, NA, NA, NA, NA, N...\n",
      "$ alive        <fctr> Living Characters, Living Characters, Living Characte...\n",
      "$ appearances  <int> 4043, 3360, 3061, 2961, 2258, 2255, 2072, 2017, 1955, ...\n",
      "$ first_appear <fctr> Aug-62, Mar-41, Oct-74, Mar-63, Nov-50, Nov-61, Nov-6...\n",
      "$ publisher    <fctr> marvel, marvel, marvel, marvel, marvel, marvel, marve...\n"
     ]
    }
   ],
   "source": [
    "glimpse(comics)"
   ]
  },
  {
   "cell_type": "markdown",
   "metadata": {},
   "source": [
    "### Working with factors\n",
    "\n",
    "* Run levels() function on factor variables to check all possible levels for a given variable.\n",
    "* Note that levels() function ignores NAs"
   ]
  },
  {
   "cell_type": "code",
   "execution_count": 6,
   "metadata": {},
   "outputs": [
    {
     "data": {
      "text/html": [
       "<ol class=list-inline>\n",
       "\t<li>'Bad'</li>\n",
       "\t<li>'Good'</li>\n",
       "\t<li>'Neutral'</li>\n",
       "\t<li>'Reformed Criminals'</li>\n",
       "</ol>\n"
      ],
      "text/latex": [
       "\\begin{enumerate*}\n",
       "\\item 'Bad'\n",
       "\\item 'Good'\n",
       "\\item 'Neutral'\n",
       "\\item 'Reformed Criminals'\n",
       "\\end{enumerate*}\n"
      ],
      "text/markdown": [
       "1. 'Bad'\n",
       "2. 'Good'\n",
       "3. 'Neutral'\n",
       "4. 'Reformed Criminals'\n",
       "\n",
       "\n"
      ],
      "text/plain": [
       "[1] \"Bad\"                \"Good\"               \"Neutral\"           \n",
       "[4] \"Reformed Criminals\""
      ]
     },
     "metadata": {},
     "output_type": "display_data"
    },
    {
     "data": {
      "text/html": [
       "<ol class=list-inline>\n",
       "\t<li>'No Dual'</li>\n",
       "\t<li>'Public'</li>\n",
       "\t<li>'Secret'</li>\n",
       "\t<li>'Unknown'</li>\n",
       "</ol>\n"
      ],
      "text/latex": [
       "\\begin{enumerate*}\n",
       "\\item 'No Dual'\n",
       "\\item 'Public'\n",
       "\\item 'Secret'\n",
       "\\item 'Unknown'\n",
       "\\end{enumerate*}\n"
      ],
      "text/markdown": [
       "1. 'No Dual'\n",
       "2. 'Public'\n",
       "3. 'Secret'\n",
       "4. 'Unknown'\n",
       "\n",
       "\n"
      ],
      "text/plain": [
       "[1] \"No Dual\" \"Public\"  \"Secret\"  \"Unknown\""
      ]
     },
     "metadata": {},
     "output_type": "display_data"
    },
    {
     "data": {
      "text/plain": [
       "         \n",
       "           Bad Good Neutral Reformed Criminals\n",
       "  No Dual  474  647     390                  0\n",
       "  Public  2172 2930     965                  1\n",
       "  Secret  4493 2475     959                  1\n",
       "  Unknown    7    0       2                  0"
      ]
     },
     "metadata": {},
     "output_type": "display_data"
    }
   ],
   "source": [
    "levels(comics$align)\n",
    "levels(comics$id)\n",
    "\n",
    "# Use table() function to create a contingency table\n",
    "table(comics$id, comics$align)\n",
    "\n",
    "# The most common type is Bad characters with Secret identity."
   ]
  },
  {
   "cell_type": "markdown",
   "metadata": {},
   "source": [
    "### The structure of ggplot() function to build a graphics on the contingency table\n",
    "\n",
    "```\n",
    "ggplot(data, aes(x = var1, fill = var2)) +\n",
    "    layer_name()\n",
    "```\n",
    "\n",
    "### Bar chart"
   ]
  },
  {
   "cell_type": "code",
   "execution_count": 8,
   "metadata": {},
   "outputs": [
    {
     "data": {},
     "metadata": {},
     "output_type": "display_data"
    },
    {
     "data": {
      "image/png": "[encoded data removed]",
      "text/plain": [
       "plot without title"
      ]
     },
     "metadata": {},
     "output_type": "display_data",
     "source": "R display func"
    }
   ],
   "source": [
    "# Build a bar chart\n",
    "ggplot(comics, aes(x = id, fill = align)) +\n",
    "    geom_bar()"
   ]
  },
  {
   "cell_type": "markdown",
   "metadata": {},
   "source": [
    "### Contingency table review\n",
    "\n",
    "In this chapter you'll continue working with the comics dataset introduced in the video. This is a collection of characteristics on all of the superheroes created by Marvel and DC comics in the last 80 years.\n",
    "\n",
    "Let's start by creating a contingency table, which is a useful way to represent the total counts of observations that fall into each combination of the levels of categorical variables.\n",
    "\n",
    "INSTRUCTIONS\n",
    "\n",
    "The dataset has been loaded into your workspace as comics.\n",
    "\n",
    "* Type the name of the dataset to look at the rows and columns of the dataset.\n",
    "* View the levels() that the align variable can take.\n",
    "* View the levels() that the gender variable can take.\n",
    "* Create a contingency table of the same two variables."
   ]
  },
  {
   "cell_type": "code",
   "execution_count": 10,
   "metadata": {},
   "outputs": [
    {
     "data": {
      "text/html": [
       "<table>\n",
       "<thead><tr><th scope=col>name</th><th scope=col>id</th><th scope=col>align</th><th scope=col>eye</th><th scope=col>hair</th><th scope=col>gender</th><th scope=col>gsm</th><th scope=col>alive</th><th scope=col>appearances</th><th scope=col>first_appear</th><th scope=col>publisher</th></tr></thead>\n",
       "<tbody>\n",
       "\t<tr><td>Spider-Man (Peter Parker)</td><td>Secret                   </td><td>Good                     </td><td>Hazel Eyes               </td><td>Brown Hair               </td><td>Male                     </td><td>NA                       </td><td>Living Characters        </td><td>4043                     </td><td>Aug-62                   </td><td>marvel                   </td></tr>\n",
       "</tbody>\n",
       "</table>\n"
      ],
      "text/latex": [
       "\\begin{tabular}{r|lllllllllll}\n",
       " name & id & align & eye & hair & gender & gsm & alive & appearances & first\\_appear & publisher\\\\\n",
       "\\hline\n",
       "\t Spider-Man (Peter Parker) & Secret                    & Good                      & Hazel Eyes                & Brown Hair                & Male                      & NA                        & Living Characters         & 4043                      & Aug-62                    & marvel                   \\\\\n",
       "\\end{tabular}\n"
      ],
      "text/markdown": [
       "\n",
       "name | id | align | eye | hair | gender | gsm | alive | appearances | first_appear | publisher | \n",
       "|---|\n",
       "| Spider-Man (Peter Parker) | Secret                    | Good                      | Hazel Eyes                | Brown Hair                | Male                      | NA                        | Living Characters         | 4043                      | Aug-62                    | marvel                    | \n",
       "\n",
       "\n"
      ],
      "text/plain": [
       "  name                      id     align eye        hair       gender gsm\n",
       "1 Spider-Man (Peter Parker) Secret Good  Hazel Eyes Brown Hair Male   NA \n",
       "  alive             appearances first_appear publisher\n",
       "1 Living Characters 4043        Aug-62       marvel   "
      ]
     },
     "metadata": {},
     "output_type": "display_data"
    },
    {
     "data": {
      "text/html": [
       "<ol class=list-inline>\n",
       "\t<li>'Bad'</li>\n",
       "\t<li>'Good'</li>\n",
       "\t<li>'Neutral'</li>\n",
       "\t<li>'Reformed Criminals'</li>\n",
       "</ol>\n"
      ],
      "text/latex": [
       "\\begin{enumerate*}\n",
       "\\item 'Bad'\n",
       "\\item 'Good'\n",
       "\\item 'Neutral'\n",
       "\\item 'Reformed Criminals'\n",
       "\\end{enumerate*}\n"
      ],
      "text/markdown": [
       "1. 'Bad'\n",
       "2. 'Good'\n",
       "3. 'Neutral'\n",
       "4. 'Reformed Criminals'\n",
       "\n",
       "\n"
      ],
      "text/plain": [
       "[1] \"Bad\"                \"Good\"               \"Neutral\"           \n",
       "[4] \"Reformed Criminals\""
      ]
     },
     "metadata": {},
     "output_type": "display_data"
    },
    {
     "data": {
      "text/html": [
       "<ol class=list-inline>\n",
       "\t<li>'Female'</li>\n",
       "\t<li>'Male'</li>\n",
       "\t<li>'Other'</li>\n",
       "</ol>\n"
      ],
      "text/latex": [
       "\\begin{enumerate*}\n",
       "\\item 'Female'\n",
       "\\item 'Male'\n",
       "\\item 'Other'\n",
       "\\end{enumerate*}\n"
      ],
      "text/markdown": [
       "1. 'Female'\n",
       "2. 'Male'\n",
       "3. 'Other'\n",
       "\n",
       "\n"
      ],
      "text/plain": [
       "[1] \"Female\" \"Male\"   \"Other\" "
      ]
     },
     "metadata": {},
     "output_type": "display_data"
    },
    {
     "data": {
      "text/plain": [
       "                    \n",
       "                     Female Male Other\n",
       "  Bad                  1573 7561    32\n",
       "  Good                 2490 4809    17\n",
       "  Neutral               836 1799    17\n",
       "  Reformed Criminals      1    2     0"
      ]
     },
     "metadata": {},
     "output_type": "display_data"
    }
   ],
   "source": [
    "# Print the first rows of the data\n",
    "head(comics, 1)\n",
    "\n",
    "# Check levels of align\n",
    "levels(comics$align)\n",
    "\n",
    "# Check the levels of gender\n",
    "levels(comics$gender)\n",
    "\n",
    "# Create a 2-way contingency table\n",
    "tab <- table(comics$align, comics$gender)\n",
    "tab"
   ]
  },
  {
   "cell_type": "markdown",
   "metadata": {},
   "source": [
    "### Dropping levels\n",
    "\n",
    "The contingency table from the last exercise revealed that there are some levels that have very low counts. To simplify the analysis, it often helps to drop such levels.\n",
    "\n",
    "In R, this requires two steps: first filtering out any rows with the levels that have very low counts, then removing these levels from the factor variable with droplevels(). This is because the droplevels() function would keep levels that have just 1 or 2 counts; it only drops levels that don't exist in a dataset.\n",
    "\n",
    "INSTRUCTIONS\n",
    "\n",
    "The contingency table from the last exercise is available in your workspace as tab.\n",
    "\n",
    "* Load the dplyr package.\n",
    "* Print tab to find out which level of align has the fewest total entries.\n",
    "* Use filter() to filter out all rows of comics with that level, then drop the unused level with droplevels(). Save the simplifed dataset over the old one as comics."
   ]
  },
  {
   "cell_type": "code",
   "execution_count": 13,
   "metadata": {},
   "outputs": [
    {
     "name": "stdout",
     "output_type": "stream",
     "text": [
      "                    \n",
      "                     Female Male Other\n",
      "  Bad                  1573 7561    32\n",
      "  Good                 2490 4809    17\n",
      "  Neutral               836 1799    17\n",
      "  Reformed Criminals      1    2     0\n"
     ]
    },
    {
     "data": {
      "text/html": [
       "<ol class=list-inline>\n",
       "\t<li>'Bad'</li>\n",
       "\t<li>'Good'</li>\n",
       "\t<li>'Neutral'</li>\n",
       "</ol>\n"
      ],
      "text/latex": [
       "\\begin{enumerate*}\n",
       "\\item 'Bad'\n",
       "\\item 'Good'\n",
       "\\item 'Neutral'\n",
       "\\end{enumerate*}\n"
      ],
      "text/markdown": [
       "1. 'Bad'\n",
       "2. 'Good'\n",
       "3. 'Neutral'\n",
       "\n",
       "\n"
      ],
      "text/plain": [
       "[1] \"Bad\"     \"Good\"    \"Neutral\""
      ]
     },
     "metadata": {},
     "output_type": "display_data"
    }
   ],
   "source": [
    "# Load dplyr\n",
    "library(dplyr)\n",
    "\n",
    "# Print tab\n",
    "print(tab)\n",
    "\n",
    "# Remove align level\n",
    "comics <- comics %>%\n",
    "  filter(align != \"Reformed Criminals\") %>%\n",
    "  droplevels()\n",
    "\n",
    "# Check the changes: Reformed Criminals has been dropped\n",
    "levels(comics$align)"
   ]
  },
  {
   "cell_type": "markdown",
   "metadata": {},
   "source": [
    "### Side-by-side barcharts\n",
    "\n",
    "While a contingency table represents the counts numerically, it's often more useful to represent them graphically.\n",
    "\n",
    "Here you'll construct two side-by-side barcharts of the comics data. This shows that there can often be two or more options for presenting the same data. Passing the argument position = \"dodge\" to geom_bar() says that you want a side-by-side (i.e. not stacked) barchart.\n",
    "\n",
    "INSTRUCTIONS\n",
    "\n",
    "* Load the ggplot2 package.\n",
    "* Create a side-by-side barchart with align on the x-axis and gender as the fill aesthetic.\n",
    "* Create another side-by-side barchart with gender on the x-axis and align as the fill aesthetic. Rotate the axis labels 90 degrees to help readability."
   ]
  },
  {
   "cell_type": "code",
   "execution_count": 14,
   "metadata": {},
   "outputs": [
    {
     "data": {},
     "metadata": {},
     "output_type": "display_data"
    },
    {
     "data": {},
     "metadata": {},
     "output_type": "display_data"
    },
    {
     "data": {
      "image/png": "[encoded data removed]",
      "text/plain": [
       "plot without title"
      ]
     },
     "metadata": {},
     "output_type": "display_data",
     "source": "R display func"
    },
    {
     "data": {
      "image/png": "[encoded data removed]",
      "text/plain": [
       "plot without title"
      ]
     },
     "metadata": {},
     "output_type": "display_data",
     "source": "R display func"
    }
   ],
   "source": [
    "# Load ggplot2\n",
    "library(ggplot2)\n",
    "\n",
    "# Create side-by-side barchart of gender by alignment\n",
    "ggplot(comics, aes(x = align, fill = gender)) + \n",
    "  geom_bar(position = \"dodge\")\n",
    "\n",
    "# Create side-by-side barchart of alignment by gender\n",
    "ggplot(comics, aes(x = gender, fill = align)) + \n",
    "  geom_bar(position = \"dodge\") +\n",
    "  theme(axis.text.x = element_text(angle = 90))"
   ]
  },
  {
   "cell_type": "markdown",
   "metadata": {},
   "source": [
    "## Counts vs. proportions\n",
    "\n",
    "### From counts to proportions"
   ]
  },
  {
   "cell_type": "code",
   "execution_count": 15,
   "metadata": {},
   "outputs": [
    {
     "data": {
      "text/plain": [
       "         \n",
       "           Bad Good Neutral\n",
       "  No Dual  474  647     390\n",
       "  Public  2172 2930     965\n",
       "  Secret  4493 2475     959\n",
       "  Unknown    7    0       2"
      ]
     },
     "metadata": {},
     "output_type": "display_data"
    }
   ],
   "source": [
    "options(scipen = 999, digits = 3) # Simplify display format\n",
    "tab_cnt <- table(comics$id, comics$align)\n",
    "tab_cnt"
   ]
  },
  {
   "cell_type": "code",
   "execution_count": 17,
   "metadata": {},
   "outputs": [
    {
     "data": {
      "text/plain": [
       "         \n",
       "               Bad     Good  Neutral\n",
       "  No Dual 0.030553 0.041704 0.025139\n",
       "  Public  0.140003 0.188862 0.062202\n",
       "  Secret  0.289609 0.159533 0.061815\n",
       "  Unknown 0.000451 0.000000 0.000129"
      ]
     },
     "metadata": {},
     "output_type": "display_data"
    },
    {
     "data": {
      "text/html": [
       "1"
      ],
      "text/latex": [
       "1"
      ],
      "text/markdown": [
       "1"
      ],
      "text/plain": [
       "[1] 1"
      ]
     },
     "metadata": {},
     "output_type": "display_data"
    }
   ],
   "source": [
    "# Create a proportion table with a count table\n",
    "prop.table(tab_cnt)\n",
    "\n",
    "# Sum of all proportions should be 1\n",
    "sum(prop.table(tab_cnt))"
   ]
  },
  {
   "cell_type": "markdown",
   "metadata": {},
   "source": [
    "### Conditional proportions"
   ]
  },
  {
   "cell_type": "code",
   "execution_count": 18,
   "metadata": {},
   "outputs": [
    {
     "data": {
      "text/plain": [
       "         \n",
       "            Bad  Good Neutral\n",
       "  No Dual 0.314 0.428   0.258\n",
       "  Public  0.358 0.483   0.159\n",
       "  Secret  0.567 0.312   0.121\n",
       "  Unknown 0.778 0.000   0.222"
      ]
     },
     "metadata": {},
     "output_type": "display_data"
    },
    {
     "data": {
      "text/plain": [
       "         \n",
       "               Bad     Good  Neutral\n",
       "  No Dual 0.066331 0.106907 0.168394\n",
       "  Public  0.303946 0.484137 0.416667\n",
       "  Secret  0.628743 0.408956 0.414076\n",
       "  Unknown 0.000980 0.000000 0.000864"
      ]
     },
     "metadata": {},
     "output_type": "display_data"
    }
   ],
   "source": [
    "# By alignment: Condition on the rows(i.e. rows sum to 1)\n",
    "prop.table(tab_cnt, margin = 1)\n",
    "\n",
    "# By identity: Condition on the columns(i.e. columns sum to 1)\n",
    "prop.table(tab_cnt, margin = 2)"
   ]
  },
  {
   "cell_type": "markdown",
   "metadata": {},
   "source": [
    "### Conditional bar chart"
   ]
  },
  {
   "cell_type": "code",
   "execution_count": 21,
   "metadata": {},
   "outputs": [
    {
     "data": {},
     "metadata": {},
     "output_type": "display_data"
    },
    {
     "data": {
      "image/png": "[encoded data removed]",
      "text/plain": [
       "plot without title"
      ]
     },
     "metadata": {},
     "output_type": "display_data",
     "source": "R display func"
    }
   ],
   "source": [
    "# Create a bar chart based on proportion of id\n",
    "ggplot(comics, aes(x = id, fill = align)) +\n",
    "    geom_bar(position = \"fill\") +\n",
    "    ylab(\"proportion\")"
   ]
  },
  {
   "cell_type": "code",
   "execution_count": 22,
   "metadata": {},
   "outputs": [
    {
     "data": {},
     "metadata": {},
     "output_type": "display_data"
    },
    {
     "data": {
      "image/png": "[encoded data removed]",
      "text/plain": [
       "plot without title"
      ]
     },
     "metadata": {},
     "output_type": "display_data",
     "source": "R display func"
    }
   ],
   "source": [
    "# Create a bar chart based on proportion of align\n",
    "ggplot(comics, aes(x = align, fill = id)) +\n",
    "    geom_bar(position = \"fill\") +\n",
    "    ylab(\"proportion\")"
   ]
  },
  {
   "cell_type": "markdown",
   "metadata": {},
   "source": [
    "### Counts vs. proportions (2)\n",
    "\n",
    "Bar charts can tell dramatically different stories depending on whether they represent counts or proportions and, if proportions, what the proportions are conditioned on. To demonstrate this difference, you'll construct two barcharts in this exercise: one of counts and one of proportions.\n",
    "\n",
    "INSTRUCTIONS\n",
    "\n",
    "* Create a stacked barchart of gender counts with align on the x-axis.\n",
    "* Create a stacked barchart of gender proportions with align on the x-axis by setting the position argument to geom_bar() equal to \"fill\"."
   ]
  },
  {
   "cell_type": "code",
   "execution_count": 23,
   "metadata": {},
   "outputs": [
    {
     "data": {},
     "metadata": {},
     "output_type": "display_data"
    },
    {
     "data": {},
     "metadata": {},
     "output_type": "display_data"
    },
    {
     "data": {
      "image/png": "[encoded data removed]",
      "text/plain": [
       "plot without title"
      ]
     },
     "metadata": {},
     "output_type": "display_data",
     "source": "R display func"
    },
    {
     "data": {
      "image/png": "[encoded data removed]",
      "text/plain": [
       "plot without title"
      ]
     },
     "metadata": {},
     "output_type": "display_data",
     "source": "R display func"
    }
   ],
   "source": [
    "# Plot of gender by align\n",
    "ggplot(comics, aes(x = align, fill = gender)) +\n",
    "  geom_bar()\n",
    "  \n",
    "# Plot proportion of gender, conditional on align\n",
    "ggplot(comics, aes(x = align, fill = gender)) + \n",
    "  geom_bar(position = \"fill\") +\n",
    "  ylab(\"proportion\")"
   ]
  },
  {
   "cell_type": "markdown",
   "metadata": {},
   "source": [
    "## Distribution of one variable\n",
    "\n",
    "### Marginal distribution"
   ]
  },
  {
   "cell_type": "code",
   "execution_count": 25,
   "metadata": {},
   "outputs": [
    {
     "data": {
      "text/plain": [
       "\n",
       "No Dual  Public  Secret Unknown \n",
       "   1511    6067    7927       9 "
      ]
     },
     "metadata": {},
     "output_type": "display_data"
    },
    {
     "data": {
      "text/plain": [
       "         \n",
       "           Bad Good Neutral\n",
       "  No Dual  474  647     390\n",
       "  Public  2172 2930     965\n",
       "  Secret  4493 2475     959\n",
       "  Unknown    7    0       2"
      ]
     },
     "metadata": {},
     "output_type": "display_data"
    }
   ],
   "source": [
    "table(comics$id)\n",
    "\n",
    "# If you add the counts of id across align, you will get the same numbers as the table above.\n",
    "tab_cnt <- table(comics$id, comics$align)\n",
    "tab_cnt"
   ]
  },
  {
   "cell_type": "markdown",
   "metadata": {},
   "source": [
    "### Simple barchart"
   ]
  },
  {
   "cell_type": "code",
   "execution_count": 26,
   "metadata": {},
   "outputs": [
    {
     "data": {},
     "metadata": {},
     "output_type": "display_data"
    },
    {
     "data": {
      "image/png": "[encoded data removed]",
      "text/plain": [
       "plot without title"
      ]
     },
     "metadata": {},
     "output_type": "display_data",
     "source": "R display func"
    }
   ],
   "source": [
    "ggplot(comics, aes(x = id)) +\n",
    "    geom_bar()"
   ]
  },
  {
   "cell_type": "markdown",
   "metadata": {},
   "source": [
    "### Faceting\n",
    "\n",
    "* When interested in a distribution of one category:\n",
    "    - Filter the observations\n",
    "    - Or use a technic called **Faceting**\n",
    "\n",
    "* Faceting breaks the data into subsets based on the levels of a categorical variable and then constructs a plot for each.\n",
    "\n",
    "### Faceted barcharts"
   ]
  },
  {
   "cell_type": "code",
   "execution_count": 27,
   "metadata": {},
   "outputs": [
    {
     "data": {},
     "metadata": {},
     "output_type": "display_data"
    },
    {
     "data": {
      "image/png": "[encoded data removed]",
      "text/plain": [
       "plot without title"
      ]
     },
     "metadata": {},
     "output_type": "display_data",
     "source": "R display func"
    }
   ],
   "source": [
    "ggplot(comics, aes(x = id)) +\n",
    "    geom_bar() +\n",
    "    facet_wrap(~align) # ~ can be read as \"broken down by\""
   ]
  },
  {
   "cell_type": "markdown",
   "metadata": {},
   "source": [
    "### Faceting vs. stacking\n",
    "\n",
    "* Each plot gives you some idea about the distribution of the data across the category."
   ]
  },
  {
   "cell_type": "code",
   "execution_count": 31,
   "metadata": {},
   "outputs": [
    {
     "data": {},
     "metadata": {},
     "output_type": "display_data"
    },
    {
     "data": {},
     "metadata": {},
     "output_type": "display_data"
    },
    {
     "data": {
      "image/png": "[encoded data removed]",
      "text/plain": [
       "plot without title"
      ]
     },
     "metadata": {},
     "output_type": "display_data",
     "source": "R display func"
    },
    {
     "data": {
      "image/png": "[encoded data removed]",
      "text/plain": [
       "plot without title"
      ]
     },
     "metadata": {},
     "output_type": "display_data",
     "source": "R display func"
    }
   ],
   "source": [
    "# Faceted barchart\n",
    "ggplot(comics, aes(x = id)) +\n",
    "    geom_bar() +\n",
    "    facet_wrap(~align)\n",
    "\n",
    "# Stacked barhcart\n",
    "ggplot(comics, aes(x = align, fill = id)) +\n",
    "    geom_bar()"
   ]
  },
  {
   "cell_type": "markdown",
   "metadata": {},
   "source": [
    "### Pie chart vs. bar chart\n",
    "\n",
    "* The problem with pie charts is that it can be difficult to assess the relative size of the slices.\n",
    "* So, it's generally a good idea to stick to barcharts."
   ]
  },
  {
   "cell_type": "code",
   "execution_count": 35,
   "metadata": {},
   "outputs": [
    {
     "data": {},
     "metadata": {},
     "output_type": "display_data"
    },
    {
     "data": {
      "image/png": "[encoded data removed]",
      "text/plain": [
       "plot without title"
      ]
     },
     "metadata": {},
     "output_type": "display_data",
     "source": "R display func"
    }
   ],
   "source": [
    "# Pie chart\n",
    "ggplot(comics, aes(x = id)) +\n",
    "    geom_area()"
   ]
  },
  {
   "cell_type": "markdown",
   "metadata": {},
   "source": [
    "### Marginal barchart\n",
    "\n",
    "If you are interested in the distribution of alignment of all superheroes, it makes sense to construct a barchart for just that single variable.\n",
    "\n",
    "You can improve the interpretability of the plot, though, by implementing some sensible ordering. Superheroes that are \"Neutral\" show an alignment between \"Good\" and \"Bad\", so it makes sense to put that bar in the middle.\n",
    "\n",
    "INSTRUCTIONS\n",
    "\n",
    "* Reorder the levels of align using the factor() function so that printing them reads \"Bad\", \"Neutral\", then \"Good\".\n",
    "* Create a barchart of counts of the align variable."
   ]
  },
  {
   "cell_type": "code",
   "execution_count": 36,
   "metadata": {},
   "outputs": [
    {
     "data": {},
     "metadata": {},
     "output_type": "display_data"
    },
    {
     "data": {
      "image/png": "[encoded data removed]",
      "text/plain": [
       "plot without title"
      ]
     },
     "metadata": {},
     "output_type": "display_data",
     "source": "R display func"
    }
   ],
   "source": [
    "# Change the order of the levels in align\n",
    "comics$align <- factor(comics$align, \n",
    "                       levels = c(\"Bad\", \"Neutral\", \"Good\"))\n",
    "\n",
    "# Create plot of align\n",
    "ggplot(comics, aes(x = align)) + \n",
    "  geom_bar()"
   ]
  },
  {
   "cell_type": "markdown",
   "metadata": {},
   "source": [
    "### Conditional barchart\n",
    "\n",
    "Now, if you want to break down the distribution of alignment based on gender, you're looking for conditional distributions.\n",
    "\n",
    "You could make these by creating multiple filtered datasets (one for each gender) or by faceting the plot of alignment based on gender. As a point of comparison, we've provided your plot of the marginal distribution of alignment from the last exercise.\n",
    "\n",
    "INSTRUCTIONS\n",
    "\n",
    "Create a barchart of align faceted by gender."
   ]
  },
  {
   "cell_type": "code",
   "execution_count": 37,
   "metadata": {},
   "outputs": [
    {
     "data": {},
     "metadata": {},
     "output_type": "display_data"
    },
    {
     "data": {
      "image/png": "[encoded data removed]",
      "text/plain": [
       "plot without title"
      ]
     },
     "metadata": {},
     "output_type": "display_data",
     "source": "R display func"
    }
   ],
   "source": [
    "# Plot of alignment broken down by gender\n",
    "ggplot(comics, aes(x = align)) + \n",
    "  geom_bar() +\n",
    "  facet_wrap(~ gender)"
   ]
  },
  {
   "cell_type": "markdown",
   "metadata": {},
   "source": [
    "### Improve piechart\n",
    "\n",
    "The piechart is a very common way to represent the distribution of a single categorical variable, but they can be more difficult to interpret than barcharts.\n",
    "\n",
    "This is a piechart of a dataset called pies that contains the favorite pie flavors of 98 people. Improve the representation of these data by constructing a barchart that is ordered in descending order of count.\n",
    "\n",
    "INSTRUCTIONS\n",
    "\n",
    "* Use the code provided to reorder the levels of flavor so that they're in descending order by count.\n",
    "* Create a barchart of flavor and orient the labels vertically so that they're easier to read. The default coloring may look drab by comparison, so change the fill of the bars to \"chartreuse\"."
   ]
  },
  {
   "cell_type": "code",
   "execution_count": 39,
   "metadata": {},
   "outputs": [
    {
     "data": {},
     "metadata": {},
     "output_type": "display_data"
    },
    {
     "data": {
      "image/png": "[encoded data removed]",
      "text/plain": [
       "plot without title"
      ]
     },
     "metadata": {},
     "output_type": "display_data",
     "source": "R display func"
    }
   ],
   "source": [
    "pies <- data.frame(flavor = c(rep(\"apple\", 17),\n",
    "                             rep(\"key lime\", 16),\n",
    "                             rep(\"boston creme\", 15),\n",
    "                             rep(\"blueberry\", 14),\n",
    "                             rep(\"cherry\", 13),\n",
    "                             rep(\"pumpkin\", 12),\n",
    "                             rep(\"strawberry\", 11)))\n",
    "\n",
    "# Put levels of flavor in decending order\n",
    "lev <- c(\"apple\", \"key lime\", \"boston creme\", \"blueberry\", \"cherry\", \"pumpkin\", \"strawberry\")\n",
    "pies$flavor <- factor(pies$flavor, levels = lev)\n",
    "\n",
    "# Create barchart of flavor\n",
    "ggplot(pies, aes(x = flavor)) + \n",
    "    geom_bar(fill = \"chartreuse\") + \n",
    "    theme(axis.text.x = element_text(angle = 90))"
   ]
  }
 ],
 "metadata": {
  "kernelspec": {
   "display_name": "R",
   "language": "R",
   "name": "ir"
  },
  "language_info": {
   "codemirror_mode": "r",
   "file_extension": ".r",
   "mimetype": "text/x-r-source",
   "name": "R",
   "pygments_lexer": "r",
   "version": "3.4.2"
  }
 },
 "nbformat": 4,
 "nbformat_minor": 2
}
