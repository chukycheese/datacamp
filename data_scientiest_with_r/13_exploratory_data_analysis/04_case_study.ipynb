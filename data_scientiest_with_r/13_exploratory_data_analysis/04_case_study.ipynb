{
 "cells": [
  {
   "cell_type": "markdown",
   "metadata": {},
   "source": [
    "# Case study\n",
    "\n",
    "## Introducing the data\n",
    "\n",
    "### Email data set"
   ]
  },
  {
   "cell_type": "code",
   "execution_count": 9,
   "metadata": {},
   "outputs": [
    {
     "data": {
      "text/html": [
       "<table>\n",
       "<thead><tr><th scope=col>spam</th><th scope=col>median(num_char)</th><th scope=col>IQR(num_char)</th></tr></thead>\n",
       "<tbody>\n",
       "\t<tr><td>0       </td><td>6.831   </td><td>13.58225</td></tr>\n",
       "\t<tr><td>1       </td><td>1.046   </td><td> 2.81800</td></tr>\n",
       "</tbody>\n",
       "</table>\n"
      ],
      "text/latex": [
       "\\begin{tabular}{r|lll}\n",
       " spam & median(num\\_char) & IQR(num\\_char)\\\\\n",
       "\\hline\n",
       "\t 0        & 6.831    & 13.58225\\\\\n",
       "\t 1        & 1.046    &  2.81800\\\\\n",
       "\\end{tabular}\n"
      ],
      "text/markdown": [
       "\n",
       "spam | median(num_char) | IQR(num_char) | \n",
       "|---|---|\n",
       "| 0        | 6.831    | 13.58225 | \n",
       "| 1        | 1.046    |  2.81800 | \n",
       "\n",
       "\n"
      ],
      "text/plain": [
       "  spam median(num_char) IQR(num_char)\n",
       "1 0    6.831            13.58225     \n",
       "2 1    1.046             2.81800     "
      ]
     },
     "metadata": {},
     "output_type": "display_data"
    },
    {
     "data": {},
     "metadata": {},
     "output_type": "display_data"
    },
    {
     "data": {
      "image/png": "[encoded data removed]",
      "text/plain": [
       "plot without title"
      ]
     },
     "metadata": {},
     "output_type": "display_data",
     "source": "R display func"
    }
   ],
   "source": [
    "# Load packages\n",
    "library(ggplot2)\n",
    "library(dplyr)\n",
    "library(openintro)\n",
    "\n",
    "# Compute summary statistics\n",
    "email %>%\n",
    "  group_by(spam) %>%\n",
    "  summarise(median(num_char),\n",
    "            IQR(num_char))\n",
    "\n",
    "# Create plot\n",
    "email %>%\n",
    "  mutate(log_num_char = log(num_char)) %>%\n",
    "  ggplot(aes(x = as.factor(spam), y = log_num_char)) +\n",
    "  geom_boxplot()"
   ]
  },
  {
   "cell_type": "markdown",
   "metadata": {},
   "source": [
    "### Spam and !!!\n",
    "\n",
    "Let's look at a more obvious indicator of spam: exclamation marks. exclaim_mess contains the number of exclamation marks in each message. Using summary statistics and visualization, see if there is a relationship between this variable and whether or not a message is spam.\n",
    "\n",
    "Experiment with different types of plots until you find one that is the most informative. Recall that you've seen:\n",
    "\n",
    "* Side-by-side box plots\n",
    "* Faceted histograms\n",
    "* Overlaid density plots\n",
    "\n",
    "INSTRUCTIONS\n",
    "\n",
    "The email dataset is still available in your workspace.\n",
    "\n",
    "* Calculate appropriate measures of the center and spread of exclaim_mess for both spam and not-spam using group_by() and summarize().\n",
    "* Construct an appropriate plot to visualize the association between the same two variables, adding in a log-transformation step if necessary.\n",
    "* If you decide to use a log transformation, remember that log(0) is -Inf in R, which isn't a very useful value! You can get around this by adding a small number (like .01) to the quantity inside the log() function. This way, your value is never zero. This small shift to the right won't affect your results."
   ]
  },
  {
   "cell_type": "code",
   "execution_count": 25,
   "metadata": {},
   "outputs": [
    {
     "name": "stdout",
     "output_type": "stream",
     "text": [
      "Observations: 3,921\n",
      "Variables: 21\n",
      "$ spam         <fctr> not-spam, not-spam, not-spam, not-spam, not-spam, not...\n",
      "$ to_multiple  <dbl> 0, 0, 0, 0, 0, 0, 1, 1, 0, 0, 0, 0, 0, 0, 0, 0, 0, 0, ...\n",
      "$ from         <dbl> 1, 1, 1, 1, 1, 1, 1, 1, 1, 1, 1, 1, 1, 1, 1, 1, 1, 1, ...\n",
      "$ cc           <int> 0, 0, 0, 0, 0, 0, 0, 1, 0, 0, 0, 1, 0, 1, 2, 1, 0, 2, ...\n",
      "$ sent_email   <dbl> 0, 0, 0, 0, 0, 0, 1, 1, 0, 0, 1, 0, 0, 1, 0, 1, 0, 0, ...\n",
      "$ time         <dttm> 2012-01-01 15:16:41, 2012-01-01 16:03:59, 2012-01-02 ...\n",
      "$ image        <dbl> 0, 0, 0, 0, 0, 0, 0, 1, 0, 0, 0, 0, 0, 0, 0, 0, 0, 0, ...\n",
      "$ attach       <dbl> 0, 0, 0, 0, 0, 0, 0, 1, 0, 0, 0, 0, 0, 0, 0, 0, 0, 0, ...\n",
      "$ dollar       <dbl> 0, 0, 4, 0, 0, 0, 0, 0, 0, 0, 0, 0, 0, 0, 2, 0, 5, 0, ...\n",
      "$ winner       <fctr> no, no, no, no, no, no, no, no, no, no, no, no, no, n...\n",
      "$ inherit      <dbl> 0, 0, 1, 0, 0, 0, 0, 0, 0, 0, 0, 0, 0, 0, 0, 0, 0, 0, ...\n",
      "$ viagra       <dbl> 0, 0, 0, 0, 0, 0, 0, 0, 0, 0, 0, 0, 0, 0, 0, 0, 0, 0, ...\n",
      "$ password     <dbl> 0, 0, 0, 0, 2, 2, 0, 0, 0, 0, 0, 0, 0, 0, 0, 0, 1, 0, ...\n",
      "$ num_char     <dbl> 11.370, 10.504, 7.773, 13.256, 1.231, 1.091, 4.837, 7....\n",
      "$ line_breaks  <int> 202, 202, 192, 255, 29, 25, 193, 237, 69, 68, 25, 79, ...\n",
      "$ format       <dbl> 1, 1, 1, 1, 0, 0, 1, 1, 0, 1, 1, 0, 1, 1, 1, 1, 1, 1, ...\n",
      "$ re_subj      <dbl> 0, 0, 0, 0, 0, 0, 0, 0, 0, 0, 0, 1, 0, 1, 1, 1, 0, 1, ...\n",
      "$ exclaim_subj <dbl> 0, 0, 0, 0, 0, 0, 0, 0, 0, 0, 0, 0, 0, 0, 0, 0, 1, 0, ...\n",
      "$ urgent_subj  <dbl> 0, 0, 0, 0, 0, 0, 0, 0, 0, 0, 0, 0, 0, 0, 0, 0, 0, 0, ...\n",
      "$ exclaim_mess <dbl> 0, 1, 6, 48, 1, 1, 1, 18, 1, 0, 2, 1, 0, 10, 4, 10, 20...\n",
      "$ number       <fctr> big, small, small, small, none, none, big, small, sma...\n"
     ]
    }
   ],
   "source": [
    "# Check the data types of email data set\n",
    "glimpse(email)\n",
    "\n",
    "# Convert spam from double to factor\n",
    "email$spam         <- as.factor(email$spam)\n",
    "levels(email$spam) <- c(\"not-spam\", \"spam\")"
   ]
  },
  {
   "cell_type": "code",
   "execution_count": 26,
   "metadata": {},
   "outputs": [
    {
     "data": {
      "text/html": [
       "<table>\n",
       "<thead><tr><th scope=col>spam</th><th scope=col>median(exclaim_mess)</th><th scope=col>IQR(exclaim_mess)</th></tr></thead>\n",
       "<tbody>\n",
       "\t<tr><td>not-spam</td><td>1       </td><td>5       </td></tr>\n",
       "\t<tr><td>spam    </td><td>0       </td><td>1       </td></tr>\n",
       "</tbody>\n",
       "</table>\n"
      ],
      "text/latex": [
       "\\begin{tabular}{r|lll}\n",
       " spam & median(exclaim\\_mess) & IQR(exclaim\\_mess)\\\\\n",
       "\\hline\n",
       "\t not-spam & 1        & 5       \\\\\n",
       "\t spam     & 0        & 1       \\\\\n",
       "\\end{tabular}\n"
      ],
      "text/markdown": [
       "\n",
       "spam | median(exclaim_mess) | IQR(exclaim_mess) | \n",
       "|---|---|\n",
       "| not-spam | 1        | 5        | \n",
       "| spam     | 0        | 1        | \n",
       "\n",
       "\n"
      ],
      "text/plain": [
       "  spam     median(exclaim_mess) IQR(exclaim_mess)\n",
       "1 not-spam 1                    5                \n",
       "2 spam     0                    1                "
      ]
     },
     "metadata": {},
     "output_type": "display_data"
    },
    {
     "data": {},
     "metadata": {},
     "output_type": "display_data"
    },
    {
     "name": "stderr",
     "output_type": "stream",
     "text": [
      "`stat_bin()` using `bins = 30`. Pick better value with `binwidth`.\n"
     ]
    },
    {
     "data": {},
     "metadata": {},
     "output_type": "display_data"
    },
    {
     "data": {
      "image/png": "[encoded data removed]",
      "text/plain": [
       "plot without title"
      ]
     },
     "metadata": {},
     "output_type": "display_data",
     "source": "R display func"
    },
    {
     "data": {},
     "metadata": {},
     "output_type": "display_data"
    },
    {
     "data": {
      "image/png": "[encoded data removed]",
      "text/plain": [
       "plot without title"
      ]
     },
     "metadata": {},
     "output_type": "display_data",
     "source": "R display func"
    },
    {
     "data": {
      "image/png": "[encoded data removed]",
      "text/plain": [
       "plot without title"
      ]
     },
     "metadata": {},
     "output_type": "display_data",
     "source": "R display func"
    }
   ],
   "source": [
    "# Compute center and spread for exclaim_mess by spam\n",
    "email %>%\n",
    "    group_by(spam) %>%\n",
    "    summarise(median(exclaim_mess),\n",
    "              IQR(exclaim_mess))\n",
    "\n",
    "# Create plot for spam and exclaim_mess\n",
    "email_log_tr <- \n",
    "email %>%\n",
    "    mutate(log_exclaim_mess = log(exclaim_mess + 0.01))\n",
    "\n",
    "# Boxplot\n",
    "email_log_tr %>%\n",
    "    ggplot(aes(x = spam, y = log_exclaim_mess)) +\n",
    "    geom_boxplot()\n",
    "\n",
    "# Faceted Histogram\n",
    "email_log_tr %>%\n",
    "    ggplot(aes(x = log_exclaim_mess)) +\n",
    "    geom_histogram() +\n",
    "    facet_wrap(~ spam)\n",
    "\n",
    "# Overlaed density plots\n",
    "email_log_tr %>%\n",
    "    ggplot(aes(x = log_exclaim_mess, fil = as.factor(spam))) +\n",
    "    geom_density(alpha = 0.3)\n"
   ]
  },
  {
   "cell_type": "markdown",
   "metadata": {},
   "source": [
    "## Check-in 1\n",
    "\n",
    "### Review\n",
    "\n",
    "* Boxplot of log(num_char)\n",
    "    - Show the association between spam and the length of the email, as measured by the log number of characters. Here, we could figure out that spam messages are considerably shorter than non-spam messages, but there were still a reasonable amount of overlap in the two distributions of length.\n",
    "    \n",
    "* Faceted Histogram of log(exclaim_mess)\n",
    "    - Both in spam and non-spam messages, the distributions are heavily right-skewed. There are few instances of many exclamation marks being using. \n",
    "    \n",
    "### Zero inflation strategies\n",
    "\n",
    "* Analyze the two components separately\n",
    "    - Consider that there are two mechanisms going on:\n",
    "        - Generating the zeros\n",
    "        - Generating the non-zeros\n",
    "* Collapse into two-level categorical variable: Zero vs. Non-zero\n",
    "    - Mutate the variable into a new variable\n",
    "    - Some information will be lost but it makes the interpretation whole lot easier\n",
    "    \n",
    "### Barchart options\n",
    "\n",
    "* Stacked barcharts\n",
    "    - Use fill argument in aesthetics\n",
    "    - Use position = \"fill\" argument in geom_bar() function to convert the values to proportions"
   ]
  },
  {
   "cell_type": "markdown",
   "metadata": {},
   "source": [
    "### Collapsing levels\n",
    "\n",
    "If it was difficult to work with the heavy skew of exclaim_mess, the number of images attached to each email (image) poses even more of a challenge. Run the following code at the console to get a sense of its distribution:\n",
    "\n",
    "> table(email$image)\n",
    "\n",
    "Recall that this tabulates the number of cases in each category (so there were 3811 emails with 0 images, for example). Given the very low counts at the higher number of images, let's collapse image into a categorical variable that indicates whether or not the email had at least one image. In this exercise, you'll create this new variable and explore its association with spam.\n",
    "\n",
    "INSTRUCTIONS\n",
    "\n",
    "Starting with email, form a continuous chain that links together the following tasks:\n",
    "\n",
    "* Create a new variable called has_image that is TRUE where the number of images is greater than zero and FALSE otherwise.\n",
    "* Create an appropriate plot with email to visualize the relationship between has_image and spam."
   ]
  },
  {
   "cell_type": "code",
   "execution_count": 27,
   "metadata": {},
   "outputs": [
    {
     "data": {
      "text/plain": [
       "\n",
       "   0    1    2    3    4    5    9   20 \n",
       "3811   76   17   11    2    2    1    1 "
      ]
     },
     "metadata": {},
     "output_type": "display_data"
    },
    {
     "data": {},
     "metadata": {},
     "output_type": "display_data"
    },
    {
     "data": {
      "image/png": "[encoded data removed]",
      "text/plain": [
       "plot without title"
      ]
     },
     "metadata": {},
     "output_type": "display_data",
     "source": "R display func"
    }
   ],
   "source": [
    "# Make a frequency table of image in email data set\n",
    "table(email$image)\n",
    "\n",
    "# Create plot of proportion of spam by image\n",
    "email %>%\n",
    "    mutate(has_image = image > 0) %>%\n",
    "    ggplot(aes(x = has_image, fill = spam)) +\n",
    "    geom_bar(position = 'fill')"
   ]
  },
  {
   "cell_type": "markdown",
   "metadata": {},
   "source": [
    "### Data Integrity\n",
    "\n",
    "In the process of exploring a dataset, you'll sometimes come across something that will lead you to question how the data were compiled. For example, the variable num_char contains the number of characters in the email, in thousands, so it could take decimal values, but it certainly shouldn't take negative values.\n",
    "\n",
    "You can formulate a test to ensure this variable is behaving as we expect:\n",
    "\n",
    "> email$num_char < 0\n",
    "\n",
    "If you run this code at the console, you'll get a long vector of logical values indicating for each case in the dataset whether that condition is TRUE. Here, the first 1000 values all appear to be FALSE. To verify that all of the cases indeed have non-negative values for num_char, we can take the sum of this vector:\n",
    "\n",
    "> sum(email$num_char < 0)\n",
    "\n",
    "This is a handy shortcut. When you do arithmetic on logical values, R treats TRUE as 1 and FALSE as 0. Since the sum over the whole vector is zero, you learn that every case in the dataset took a value of FALSE in the test. That is, the num_char column is behaving as we expect and taking only non-negative values.\n",
    "\n",
    "INSTRUCTIONS\n",
    "\n",
    "Consider the variables image and attach. You can read about them with ?email, but the help file is ambiguous: do attached images count as attached files in this dataset?\n",
    "\n",
    "* Design a simple test to determine if images count as attached files. This involves creating a logical condition to compare the values of the two variables, then using sum() to assess every case in the dataset. Recall that the logical operators are < for less than, <= for less than or equal to, > for greater than, >= for greater than or equal to, and == for equal to."
   ]
  },
  {
   "cell_type": "code",
   "execution_count": 29,
   "metadata": {},
   "outputs": [
    {
     "data": {
      "text/html": [
       "0"
      ],
      "text/latex": [
       "0"
      ],
      "text/markdown": [
       "0"
      ],
      "text/plain": [
       "[1] 0"
      ]
     },
     "metadata": {},
     "output_type": "display_data"
    }
   ],
   "source": [
    "# Test if images count as attachments\n",
    "sum(email$image > email$attach)"
   ]
  },
  {
   "cell_type": "markdown",
   "metadata": {},
   "source": [
    "### Answering questions with chains\n",
    "\n",
    "When you have a specific question about a dataset, you can find your way to an answer by carefully constructing the appropriate chain of R code. For example, consider the following question:\n",
    "\n",
    "\"Within non-spam emails, is the typical length of emails shorter for those that were sent to multiple people?\"\n",
    "This can be answered with the following chain:\n",
    "\n",
    "```\n",
    "email %>%\n",
    "   filter(spam == \"not-spam\") %>%\n",
    "   group_by(to_multiple) %>%\n",
    "   summarize(median(num_char))\n",
    "```\n",
    "\n",
    "The code makes it clear that you are using num_char to measure the length of an email and median() as the measure of what is typical. If you run this code, you'll learn that the answer to the question is \"yes\": the typical length of non-spam sent to multiple people is a bit lower than those sent to only one person.\n",
    "\n",
    "This chain concluded with summary statistics, but others might end in a plot; it all depends on the question that you're trying to answer.\n",
    "\n",
    "INSTRUCTIONS\n",
    "\n",
    "Build a chain to answer each of the following questions, both about the variable dollar.\n",
    "\n",
    "* For emails containing the word \"dollar\", does the typical spam email contain a greater number of occurrences of the word than the typical non-spam email? Create a summary statistic that answers this question.\n",
    "* If you encounter an email with greater than 10 occurrences of the word \"dollar\", is it more likely to be spam or not-spam? Create a barchart that answers this question."
   ]
  },
  {
   "cell_type": "code",
   "execution_count": 30,
   "metadata": {},
   "outputs": [
    {
     "data": {
      "text/html": [
       "<table>\n",
       "<thead><tr><th scope=col>spam</th><th scope=col>median(dollar)</th></tr></thead>\n",
       "<tbody>\n",
       "\t<tr><td>not-spam</td><td>4       </td></tr>\n",
       "\t<tr><td>spam    </td><td>2       </td></tr>\n",
       "</tbody>\n",
       "</table>\n"
      ],
      "text/latex": [
       "\\begin{tabular}{r|ll}\n",
       " spam & median(dollar)\\\\\n",
       "\\hline\n",
       "\t not-spam & 4       \\\\\n",
       "\t spam     & 2       \\\\\n",
       "\\end{tabular}\n"
      ],
      "text/markdown": [
       "\n",
       "spam | median(dollar) | \n",
       "|---|---|\n",
       "| not-spam | 4        | \n",
       "| spam     | 2        | \n",
       "\n",
       "\n"
      ],
      "text/plain": [
       "  spam     median(dollar)\n",
       "1 not-spam 4             \n",
       "2 spam     2             "
      ]
     },
     "metadata": {},
     "output_type": "display_data"
    },
    {
     "data": {},
     "metadata": {},
     "output_type": "display_data"
    },
    {
     "data": {
      "image/png": "[encoded data removed]",
      "text/plain": [
       "plot without title"
      ]
     },
     "metadata": {},
     "output_type": "display_data",
     "source": "R display func"
    }
   ],
   "source": [
    "# Question 1\n",
    "email %>%\n",
    "    filter(dollar > 0) %>%\n",
    "    group_by(spam) %>%\n",
    "    summarize(median(dollar))\n",
    "\n",
    "# Question 2\n",
    "email %>%\n",
    "    filter(dollar > 10) %>%\n",
    "    ggplot(aes(x = spam)) +\n",
    "    geom_bar()"
   ]
  },
  {
   "cell_type": "markdown",
   "metadata": {},
   "source": [
    "## Check-in 2\n",
    "\n",
    "### Spams and images\n",
    "\n",
    "* The plot below shows the proportions of spam or not-spam within the subsets of emails that either have an image or do not. Said another way, they are conditioned on the has_image variable.\n",
    "* We get a slightly different story if we exchange the variables so that we condition on spam.\n",
    "* If you're building a spam filter, a situation where you don't actually get to see the value of spam, it'd make more sense to think about conditioning on the has_image variable.\n",
    "* In this case, we can tell that this variable would be an awful spam filter by itself."
   ]
  },
  {
   "cell_type": "code",
   "execution_count": 31,
   "metadata": {},
   "outputs": [
    {
     "data": {},
     "metadata": {},
     "output_type": "display_data"
    },
    {
     "data": {
      "image/png": "[encoded data removed]",
      "text/plain": [
       "plot without title"
      ]
     },
     "metadata": {},
     "output_type": "display_data",
     "source": "R display func"
    }
   ],
   "source": [
    "email %>%\n",
    "    mutate(has_image = image > 0) %>%\n",
    "    ggplot(aes(x = as.factor(has_image), fill = spam)) +\n",
    "    geom_bar(position = 'fill')"
   ]
  },
  {
   "cell_type": "markdown",
   "metadata": {},
   "source": [
    "### Odering bars\n",
    "\n",
    "* The ordering of the bar isn't determined within the code for the plot, but in the way that R represents that variable.\n",
    "* If you compare the order of FALSE and TRUE between the plot above and below, you can see the difference.\n",
    "* You can choose different criteria of ordering:\n",
    "    - Natural ordering of the levels\n",
    "    - Arranging the bars in increasing or decreasing order of the height of thebars\n",
    "    - Alphabetical order, which is the default"
   ]
  },
  {
   "cell_type": "code",
   "execution_count": 33,
   "metadata": {},
   "outputs": [
    {
     "data": {
      "text/plain": [
       "NULL"
      ]
     },
     "metadata": {},
     "output_type": "display_data"
    },
    {
     "data": {},
     "metadata": {},
     "output_type": "display_data"
    },
    {
     "data": {
      "image/png": "[encoded data removed]",
      "text/plain": [
       "plot without title"
      ]
     },
     "metadata": {},
     "output_type": "display_data",
     "source": "R display func"
    }
   ],
   "source": [
    "# Mutate a variable and store them in a new vairable\n",
    "email_new <-\n",
    "    email %>%\n",
    "    mutate(zero = exclaim_mess == 0)\n",
    "\n",
    "# Check the levels of the new value zero\n",
    "levels(email_new$zero)\n",
    "\n",
    "# Convert the logical variable zero to factor\n",
    "email_new$zero <- factor(email_new$zero, levels = c(\"TRUE\", \"FALSE\"))\n",
    "\n",
    "# Now plot the data\n",
    "email_new %>%\n",
    "    ggplot(aes(x = zero)) +\n",
    "    geom_bar() +\n",
    "    facet_wrap(~ spam)"
   ]
  },
  {
   "cell_type": "markdown",
   "metadata": {},
   "source": [
    "### What's in a number?\n",
    "\n",
    "Turn your attention to the variable called number. Read more about it by pulling up the help file with ?email.\n",
    "\n",
    "To explore the association between this variable and spam, select and construct an informative plot. For illustrating relationships between categorical variables, you've seen\n",
    "\n",
    "* Faceted barcharts\n",
    "* Side-by-side barcharts\n",
    "* Stacked and normalized barcharts.\n",
    "\n",
    "Let's practice constructing a faceted barchart.\n",
    "\n",
    "INSTRUCTIONS\n",
    "\n",
    "* Reorder the levels of number so that they preserve the natural ordering of \"none\", then \"small\", then \"big\".\n",
    "* Construct a faceted barchart of the association between number and spam."
   ]
  },
  {
   "cell_type": "code",
   "execution_count": 37,
   "metadata": {},
   "outputs": [
    {
     "data": {},
     "metadata": {},
     "output_type": "display_data"
    },
    {
     "data": {
      "image/png": "[encoded data removed]",
      "text/plain": [
       "plot without title"
      ]
     },
     "metadata": {},
     "output_type": "display_data",
     "source": "R display func"
    }
   ],
   "source": [
    "# Reorder levels\n",
    "email$number <- factor(email$number, levels = c(\"none\", \"small\", \"big\"))\n",
    "\n",
    "# Construct plot of number\n",
    "ggplot(email, aes(x = number)) +\n",
    "    geom_bar() +\n",
    "    facet_wrap(~ spam)"
   ]
  }
 ],
 "metadata": {
  "kernelspec": {
   "display_name": "R",
   "language": "R",
   "name": "ir"
  },
  "language_info": {
   "codemirror_mode": "r",
   "file_extension": ".r",
   "mimetype": "text/x-r-source",
   "name": "R",
   "pygments_lexer": "r",
   "version": "3.4.2"
  }
 },
 "nbformat": 4,
 "nbformat_minor": 2
}
