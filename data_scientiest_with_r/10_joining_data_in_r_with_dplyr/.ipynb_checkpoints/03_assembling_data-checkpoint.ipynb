{
 "cells": [
  {
   "cell_type": "markdown",
   "metadata": {},
   "source": [
    "# Assempling data\n",
    "\n",
    "## Binds\n",
    "\n",
    "* rbind()\n",
    "* cbind()\n",
    "\n",
    "* bind_rows()\n",
    "* bind_cols()\n",
    "\n",
    "### Benefits of bind_rows() and bind_cols\n",
    "\n",
    "* Faster\n",
    "* Returns a tibble\n",
    "* Can handel lists of data frames\n",
    "* .id : Column name for new column\n",
    "\n",
    "### Which bind?\n",
    "\n",
    "side_one and side_two contain tracks from sides one and two, respectively, of Pink Floyd's famous album The Dark Side of the Moon.\n",
    "\n",
    "Bind these datasets into a single table using a dplyr function. Which type of bind should you use?\n",
    "\n",
    "* Examine side_one and side_two by printing them to the console.\n",
    "* Use a bind to combine side_one and side_two into a single dataset."
   ]
  },
  {
   "cell_type": "code",
   "execution_count": null,
   "metadata": {
    "collapsed": true
   },
   "outputs": [],
   "source": [
    "# Examine side_one and side_two\n",
    "side_one\n",
    "side_two\n",
    "\n",
    "# Bind side_one and side_two into a single dataset\n",
    "side_one %>% \n",
    "  bind_rows(side_two)"
   ]
  },
  {
   "cell_type": "markdown",
   "metadata": {},
   "source": [
    "### Bind rows\n",
    "\n",
    "discography and jimi contain all of the information you need to create an anthology dataset for the band The Jimi Hendrix Experience.\n",
    "\n",
    "discography contains a data frame of each album by The Jimi Hendrix Experience and the year of the album.\n",
    "\n",
    "jimi contains a list of data frames of album tracks, one for each album released by The Jimi Hendrix Experience. As Garrett explained in the video, you can pass bind_rows() a list of data frames like jimi to bind together into a single data frame.\n",
    "\n",
    "* Examine discography and jimi.\n",
    "* Bind jimi into a single data frame. As you do, save the data frame names as a column named album by specifying the .id argument to bind_rows().\n",
    "* Left join discography to the results to make a complete data frame.\n"
   ]
  },
  {
   "cell_type": "code",
   "execution_count": null,
   "metadata": {
    "collapsed": true
   },
   "outputs": [],
   "source": [
    "# Examine discography and jimi\n",
    "discography\n",
    "jimi\n",
    "\n",
    "jimi %>% \n",
    "  # Bind jimi into a single data frame\n",
    "  bind_rows(.id = \"album\") %>% \n",
    "  # Make a complete data frame\n",
    "  left_join(discography, by = c(\"album\"))"
   ]
  },
  {
   "cell_type": "markdown",
   "metadata": {},
   "source": [
    "### Bind columns\n",
    "Let's make a compilation of Hank Williams' 67 singles. To do this, you can use hank_years and hank_charts:\n",
    "\n",
    "hank_years contains the name and release year of each of Hank Williams' 67 singles.\n",
    "hank_charts contains the name of each of Hank Williams' 67 singles as well as the highest position it earned on the Billboard sales charts.\n",
    "Each dataset contains the same songs, but hank_years is arranged chronologically by year, while hank_charts is arranged alphabetically by song title.\n",
    "\n",
    "* Examine hank_years and hank_charts. How should you bind the two datasets?\n",
    "* Use arrange() to reorder hank_years alphabetically by song title.\n",
    "* Select just the year column of the result.\n",
    "* Bind the year column to hank_charts.\n",
    "* arrange() the resulting dataset chronologically by year, then alphabetically by song title within each year."
   ]
  },
  {
   "cell_type": "code",
   "execution_count": null,
   "metadata": {
    "collapsed": true
   },
   "outputs": [],
   "source": [
    "# Examine hank_years and hank_charts\n",
    "hank_years\n",
    "hank_charts\n",
    "\n",
    "hank_years %>% \n",
    "  # Reorder hank_years alphabetically by song title\n",
    "  arrange(song) %>% \n",
    "  # Select just the year column\n",
    "  select(year) %>% \n",
    "  # Bind the year column\n",
    "  bind_cols(hank_charts) %>% \n",
    "  # Arrange the finished dataset\n",
    "  arrange(year, song)"
   ]
  },
  {
   "cell_type": "markdown",
   "metadata": {},
   "source": [
    "## Buil a better data frame\n",
    "\n",
    "* data.frame()\n",
    "* as.data.frame()\n",
    "\n",
    "* data_frame()\n",
    "* as_data_frame()\n",
    "\n",
    "### data.frame() defaults\n",
    "* Chnages strings to factors\n",
    "* Add row names\n",
    "* Changes unusual column names\n",
    "\n",
    "### data_frame()\n",
    "\n",
    "* will not\n",
    "    * Change the data type of vectors(eg. strings to factors)\n",
    "    * Add row names\n",
    "    * Change column names\n",
    "    * Recycle vectors greater than length one\n",
    "* will\n",
    "    * Evaluate arguments lazily, in order\n",
    "    * Return a tibble"
   ]
  },
  {
   "cell_type": "markdown",
   "metadata": {},
   "source": [
    "### Make a data frame\n",
    "Let's make a Greatest Hits compilation for Hank Williams. hank_year, hank_song, and hank_peak contain the columns of the data frame you made in the last exercise.\n",
    "\n",
    "* Use data_frame() to combine hank_year, hank_song, and hank_peak into a data frame that has the column names year, song, and peak; in that order.\n",
    "* Use filter() to extract just the songs where peak equals 1 (i.e. Hank's number one hits.)"
   ]
  },
  {
   "cell_type": "code",
   "execution_count": null,
   "metadata": {
    "collapsed": true
   },
   "outputs": [],
   "source": [
    "# Make combined data frame using data_frame()\n",
    "data_frame(year = hank_year,\n",
    "           song = hank_song,\n",
    "           peak = hank_peak) %>% \n",
    "  # Extract songs where peak equals 1\n",
    "  filter(peak == 1)"
   ]
  },
  {
   "cell_type": "markdown",
   "metadata": {},
   "source": [
    "### Lists of columns\n",
    "As a data scientist, you should always be prepared to handle raw data that comes in many different formats.\n",
    "\n",
    "hank saves Hank Williams' singles in a different way, as a list of vectors. Can you turn hank into the same dataset that you made in the last exercise?\n",
    "\n",
    "* Examine the contents of hank.\n",
    "* Use as_data_frame() to convert the hank list into a data frame.\n",
    "* Use filter to extract the number one hits."
   ]
  },
  {
   "cell_type": "code",
   "execution_count": null,
   "metadata": {
    "collapsed": true
   },
   "outputs": [],
   "source": [
    "# Examine the contents of hank\n",
    "hank\n",
    "\n",
    "# Convert the hank list into a data frame\n",
    "as_data_frame(hank) %>% \n",
    "  # Extract songs where peak equals 1\n",
    "  filter(peak == 1)"
   ]
  },
  {
   "cell_type": "markdown",
   "metadata": {},
   "source": [
    "## Lists of rows (data frames)\n",
    "michael contains a list of data frames, one for each album released by Michael Jackson. The code in the editor attempts to bind the data frames into a single data frame and then extract a data frame of the top tracks on each album.\n",
    "\n",
    "However, the code runs into a problem. The commented line fails because as_data_frame() combines a list of column vectors into a data frame. However, michael is a list of data frames.\n",
    "\n",
    "Can you fix the code? After all, you have seen something like this before.\n",
    "\n",
    "* Examine the contents of michael.\n",
    "* Replace the commented code in the editor with a call to a dplyr function, which should bind the datasets in the list into a single data frame, adding an album column as it does."
   ]
  },
  {
   "cell_type": "code",
   "execution_count": null,
   "metadata": {
    "collapsed": true
   },
   "outputs": [],
   "source": [
    "# Examine the contents of michael\n",
    "michael\n",
    "\n",
    "# as_data_frame(michael) %>% \n",
    "michael %>%\n",
    "  bind_rows(.id = \"album\") %>%\n",
    "  group_by(album) %>% \n",
    "  mutate(rank = min_rank(peak)) %>% \n",
    "  filter(rank == 1) %>% \n",
    "  select(-rank, -peak)"
   ]
  },
  {
   "cell_type": "markdown",
   "metadata": {},
   "source": [
    "## Working with data types\n",
    "\n",
    "### Atomic data types\n",
    "\n",
    "* logical\n",
    "* character\n",
    "* double\n",
    "* integer\n",
    "* complex\n",
    "* raw"
   ]
  },
  {
   "cell_type": "markdown",
   "metadata": {},
   "source": [
    "## dplyr's coercion rules\n",
    "\n",
    "* Character + Integer/Double/Logical -> Character\n",
    "* Double + Integer/Logical -> Double\n",
    "* Integer + Logical -> Integer\n",
    "\n",
    "### factors\n",
    "\n",
    "* factor can be converted to numeric and character\n",
    "\n",
    "### dplyr's coercion behavior\n",
    "\n",
    "* dplyr functions will not automatically coerce data types\n",
    "    - Returns an error\n",
    "    - Expects you to manually coerce data\n",
    "* Exception: factors\n",
    "    - dplyr converts non-aligning factors to strings\n",
    "    - Gives warning message"
   ]
  },
  {
   "cell_type": "markdown",
   "metadata": {},
   "source": [
    "### Results\n",
    "\n",
    "sixties contains the top selling albums in the US in the 1960s. It stores year as a numeric (double). When you combine it with seventies, which stores year as a factor, bind_rows() returns an error.\n",
    "\n",
    "You can fix this by coercing seventies$year to a numeric. But if you do it like this, something surprising happens.\n",
    "\n",
    "```\n",
    "seventies %>% \n",
    "  mutate(year = as.numeric(year))\n",
    "```\n",
    "\n",
    "Can you fix things?\n",
    "\n",
    "* Coerce seventies$year into a useful numeric.\n",
    "* Bind the updated version of seventies to sixties and examine the results. Make sure they are sensible."
   ]
  },
  {
   "cell_type": "code",
   "execution_count": null,
   "metadata": {
    "collapsed": true
   },
   "outputs": [],
   "source": [
    "seventies %>% \n",
    "  # Coerce seventies$year into a useful numeric\n",
    "  mutate(year = as.numeric(as.character(year))) %>% \n",
    "  # Bind the updated version of seventies to sixties\n",
    "  bind_rows(sixties) %>% \n",
    "  arrange(year)"
   ]
  }
 ],
 "metadata": {
  "kernelspec": {
   "display_name": "R",
   "language": "R",
   "name": "ir"
  },
  "language_info": {
   "codemirror_mode": "r",
   "file_extension": ".r",
   "mimetype": "text/x-r-source",
   "name": "R",
   "pygments_lexer": "r",
   "version": "3.4.2"
  }
 },
 "nbformat": 4,
 "nbformat_minor": 2
}
