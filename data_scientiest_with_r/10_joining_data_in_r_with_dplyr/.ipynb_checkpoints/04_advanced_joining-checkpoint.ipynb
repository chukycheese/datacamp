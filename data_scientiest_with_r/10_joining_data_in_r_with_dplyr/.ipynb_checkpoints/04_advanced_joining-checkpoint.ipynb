{
 "cells": [
  {
   "cell_type": "markdown",
   "metadata": {},
   "source": [
    "# Advanced joining\n",
    "\n",
    "## What can go wrong?\n",
    "\n",
    "|             | Missing             | Duplicate             |\n",
    "|-------------|---------------------|-----------------------|\n",
    "| Key values  | Missing key values  | Duplicate key values  |\n",
    "| Key columns | Missing key columns | Duplicate key columns |\n",
    "\n",
    "\n",
    "### Missing key values\n",
    "\n",
    "Since there's one key value missing in namesNA dataset, it needs some treatment before putting two datasets together.\n",
    "\n",
    "* namesNA\n",
    "\n",
    "|   | name | band    |\n",
    "|---|------|---------|\n",
    "| 1 | Mick | Stones  |\n",
    "| 2 | NA   | Beatles |\n",
    "| 3 | Paul | Beatles |\n",
    "\n",
    "* plays\n",
    "\n",
    "|   | name  | plays  |\n",
    "|---|-------|--------|\n",
    "| 1 | John  | Guitar |\n",
    "| 2 | Paul  | Bass   |\n",
    "| 3 | Keith | Guitar |\n",
    "\n",
    "```\n",
    "# Remove such rows from the data using the dplyr filter command\n",
    "namesNA %>%\n",
    "    filter(!is.na(name)) %>%\n",
    "    left_join(plays, by = \"name\")\n",
    "```\n",
    "\n",
    "### Missing key columns\n",
    "\n",
    "There's no common column name in two datasets, so it cannot be put together. But if you look closely, the rownames has the same information in name column of plays dataset\n",
    "\n",
    "* noNames\n",
    "\n",
    "|      | surname   | band    |\n",
    "|------|-----------|---------|\n",
    "| Mick | Jagger    | <NA>    |\n",
    "| John | Lennon    | Beatles |\n",
    "| Paul | McCartney | Beatles |\n",
    "\n",
    "* plays\n",
    "\n",
    "|   | name  | plays  |\n",
    "|---|-------|--------|\n",
    "| 1 | John  | Guitar |\n",
    "| 2 | Paul  | Bass   |\n",
    "| 3 | Keith | Guitar |\n",
    "\n",
    "```\n",
    "# Change rownames to column using a function in tibble library\n",
    "library(tibble)\n",
    "rownames_to_column(noNames, var = \"name\")\n",
    "```\n",
    "\n",
    "### Duplicate key values\n",
    "\n",
    "In some cases, duplicate keys are a natural feature of the data.\n",
    "\n",
    "* showNames\n",
    "\n",
    "|   | name               | composer             |\n",
    "|---|--------------------|----------------------|\n",
    "| 1 | The Sound of Music | Richard Rogers       |\n",
    "| 2 | The Sound of Music | Oscar Hammerstein II |\n",
    "| 3 | The King and I     | Richard Rogers       |\n",
    "| 4 | The King and I     | Oscar Hammerstein II |"
   ]
  },
  {
   "cell_type": "markdown",
   "metadata": {},
   "source": [
    "### Spot the key\n",
    "\n",
    "R's data frames can store important information in the row.names attribute. This is not a tidy way to store data, but it does happen quite commonly. If the primary key of your dataset is stored in row.names, you will have trouble joining it to other datasets.\n",
    "\n",
    "For example, stage_songs contains information about songs that appear in musicals. However, it stores the primary key (song name) in the row.names attribute. As a result, you cannot access the key with a join function.\n",
    "\n",
    "One way to remedy this problem is to use the function rownames_to_column() from the tibble package. rownames_to_column() returns a copy of a dataset with the row names added to the data as a column.\n",
    "\n",
    "* Load the tibble package.\n",
    "* Use rownames_to_column() to add the row names of stage_songs to the data frame as a column named song.\n",
    "* Left join stage_writers to stage_songs."
   ]
  },
  {
   "cell_type": "code",
   "execution_count": 2,
   "metadata": {},
   "outputs": [
    {
     "name": "stderr",
     "output_type": "stream",
     "text": [
      "Warning message:\n",
      "\"package 'dplyr' was built under R version 3.4.3\"\n",
      "Attaching package: 'dplyr'\n",
      "\n",
      "The following objects are masked from 'package:stats':\n",
      "\n",
      "    filter, lag\n",
      "\n",
      "The following objects are masked from 'package:base':\n",
      "\n",
      "    intersect, setdiff, setequal, union\n",
      "\n",
      "Warning message:\n",
      "\"package 'tibble' was built under R version 3.4.3\"Warning message:\n",
      "\"Column `song` joining character vector and factor, coercing into character vector\""
     ]
    },
    {
     "data": {
      "text/html": [
       "<table>\n",
       "<thead><tr><th scope=col>song</th><th scope=col>musical</th><th scope=col>year</th><th scope=col>composer</th></tr></thead>\n",
       "<tbody>\n",
       "\t<tr><td>Children Will Listen  </td><td>Into the Woods        </td><td>1986                  </td><td>Stephen Sondheim      </td></tr>\n",
       "\t<tr><td>Maria                 </td><td>West Side Story       </td><td>1957                  </td><td>Leonard Bernstein     </td></tr>\n",
       "\t<tr><td>Memory                </td><td>Cats                  </td><td>1981                  </td><td>Andrew Lloyd Webber   </td></tr>\n",
       "\t<tr><td>The Music of the Night</td><td>Phantom of the Opera  </td><td>1986                  </td><td>Andrew Lloyd Webber   </td></tr>\n",
       "</tbody>\n",
       "</table>\n"
      ],
      "text/latex": [
       "\\begin{tabular}{r|llll}\n",
       " song & musical & year & composer\\\\\n",
       "\\hline\n",
       "\t Children Will Listen   & Into the Woods         & 1986                   & Stephen Sondheim      \\\\\n",
       "\t Maria                  & West Side Story        & 1957                   & Leonard Bernstein     \\\\\n",
       "\t Memory                 & Cats                   & 1981                   & Andrew Lloyd Webber   \\\\\n",
       "\t The Music of the Night & Phantom of the Opera   & 1986                   & Andrew Lloyd Webber   \\\\\n",
       "\\end{tabular}\n"
      ],
      "text/markdown": [
       "\n",
       "song | musical | year | composer | \n",
       "|---|---|---|---|\n",
       "| Children Will Listen   | Into the Woods         | 1986                   | Stephen Sondheim       | \n",
       "| Maria                  | West Side Story        | 1957                   | Leonard Bernstein      | \n",
       "| Memory                 | Cats                   | 1981                   | Andrew Lloyd Webber    | \n",
       "| The Music of the Night | Phantom of the Opera   | 1986                   | Andrew Lloyd Webber    | \n",
       "\n",
       "\n"
      ],
      "text/plain": [
       "  song                   musical              year composer           \n",
       "1 Children Will Listen   Into the Woods       1986 Stephen Sondheim   \n",
       "2 Maria                  West Side Story      1957 Leonard Bernstein  \n",
       "3 Memory                 Cats                 1981 Andrew Lloyd Webber\n",
       "4 The Music of the Night Phantom of the Opera 1986 Andrew Lloyd Webber"
      ]
     },
     "metadata": {},
     "output_type": "display_data"
    }
   ],
   "source": [
    "stage_songs <- data.frame(musical = c(\"Into the Woods\", \"West Side Story\",\n",
    "                                        \"Cats\", \"Phantom of the Opera\"),\n",
    "                            year = c(1986, 1957, 1981, 1986))\n",
    "rownames(stage_songs) <- c(\"Children Will Listen\", \"Maria\", \"Memory\", \"The Music of the Night\")\n",
    "\n",
    "stage_writers <- data.frame(song = c(\"Children Will Listen\", \"Maria\",\n",
    "                                     \"Memory\", \"The Music of the Night\"),\n",
    "                            composer = c(\"Stephen Sondheim\", \"Leonard Bernstein\",\n",
    "                                        \"Andrew Lloyd Webber\", \"Andrew Lloyd Webber\"))\n",
    "\n",
    "library(dplyr)\n",
    "\n",
    "# Load the tibble package\n",
    "library(tibble)\n",
    "\n",
    "stage_songs %>% \n",
    "  # Add row names as a column named song\n",
    "  rownames_to_column(var = \"song\") %>% \n",
    "  # Left join stage_writers to stage_songs\n",
    "  left_join(stage_writers, by = c(\"song\"))"
   ]
  },
  {
   "cell_type": "markdown",
   "metadata": {},
   "source": [
    "### Missing keys\n",
    "\n",
    "Julie Andrews is a famous singer who performed in The Sound of Music, which is documented in the singers data frame. The two_songs data frame records a couple of songs that she sang during her career.\n",
    "\n",
    "Unfortunately, when you join the datasets together, something odd happens. According to the result, who sings A Spoonful of Sugar? Why does this happen?\n",
    "\n",
    "You can avoid this outcome by removing rows that contain NAs in the keys before joining.\n",
    "\n",
    "Take a look at singers and two_songs in the console.\n",
    "\n",
    "* Examine the result of joining singers to two_songs.\n",
    "* Add a filter() call to the pipe to remove NA's from the key column of two_songs before calling inner_join()."
   ]
  },
  {
   "cell_type": "code",
   "execution_count": 3,
   "metadata": {},
   "outputs": [
    {
     "data": {
      "text/html": [
       "<table>\n",
       "<thead><tr><th scope=col>song</th><th scope=col>movie</th><th scope=col>singer</th></tr></thead>\n",
       "<tbody>\n",
       "\t<tr><td>Do-Re-Mi              </td><td>The Sound of Music    </td><td>Julie Andrews         </td></tr>\n",
       "\t<tr><td>A Spoonful of Sugar   </td><td>NA                    </td><td>Arnorld Schwarzenegger</td></tr>\n",
       "</tbody>\n",
       "</table>\n"
      ],
      "text/latex": [
       "\\begin{tabular}{r|lll}\n",
       " song & movie & singer\\\\\n",
       "\\hline\n",
       "\t Do-Re-Mi               & The Sound of Music     & Julie Andrews         \\\\\n",
       "\t A Spoonful of Sugar    & NA                     & Arnorld Schwarzenegger\\\\\n",
       "\\end{tabular}\n"
      ],
      "text/markdown": [
       "\n",
       "song | movie | singer | \n",
       "|---|---|\n",
       "| Do-Re-Mi               | The Sound of Music     | Julie Andrews          | \n",
       "| A Spoonful of Sugar    | NA                     | Arnorld Schwarzenegger | \n",
       "\n",
       "\n"
      ],
      "text/plain": [
       "  song                movie              singer                \n",
       "1 Do-Re-Mi            The Sound of Music Julie Andrews         \n",
       "2 A Spoonful of Sugar NA                 Arnorld Schwarzenegger"
      ]
     },
     "metadata": {},
     "output_type": "display_data"
    },
    {
     "data": {
      "text/html": [
       "<table>\n",
       "<thead><tr><th scope=col>song</th><th scope=col>movie</th><th scope=col>singer</th></tr></thead>\n",
       "<tbody>\n",
       "\t<tr><td>Do-Re-Mi          </td><td>The Sound of Music</td><td>Julie Andrews     </td></tr>\n",
       "</tbody>\n",
       "</table>\n"
      ],
      "text/latex": [
       "\\begin{tabular}{r|lll}\n",
       " song & movie & singer\\\\\n",
       "\\hline\n",
       "\t Do-Re-Mi           & The Sound of Music & Julie Andrews     \\\\\n",
       "\\end{tabular}\n"
      ],
      "text/markdown": [
       "\n",
       "song | movie | singer | \n",
       "|---|\n",
       "| Do-Re-Mi           | The Sound of Music | Julie Andrews      | \n",
       "\n",
       "\n"
      ],
      "text/plain": [
       "  song     movie              singer       \n",
       "1 Do-Re-Mi The Sound of Music Julie Andrews"
      ]
     },
     "metadata": {},
     "output_type": "display_data"
    }
   ],
   "source": [
    "two_songs_df <- data.frame(song = c(\"Do-Re-Mi\", \"A Spoonful of Sugar\"),\n",
    "                          movie = c(\"The Sound of Music\", NA))\n",
    "two_songs <- as.tibble(two_songs_df)\n",
    "\n",
    "singers_df <- data.frame(movie = c(NA, \"The Sound of Music\"),\n",
    "                        singer = c(\"Arnorld Schwarzenegger\", \"Julie Andrews\"))\n",
    "singers <- as.tibble(singers_df)\n",
    "\n",
    "# Examine the result of joining singers to two_songs\n",
    "two_songs %>% inner_join(singers, by = \"movie\")\n",
    "\n",
    "# Remove NA's from key before joining\n",
    "two_songs %>% \n",
    "  filter(!is.na(movie)) %>% \n",
    "  inner_join(singers, by = \"movie\")"
   ]
  },
  {
   "cell_type": "markdown",
   "metadata": {},
   "source": [
    "## Defining the keys\n",
    "\n",
    "* names\n",
    "\n",
    "|   | name | band    |\n",
    "|---|------|---------|\n",
    "| 1 | Mick | Stones  |\n",
    "| 2 | John | Beatles |\n",
    "| 3 | Paul | Beatles |\n",
    "\n",
    "\n",
    "* plays\n",
    "\n",
    "|   | name  | plays  |\n",
    "|---|-------|--------|\n",
    "| 1 | John  | Guitar |\n",
    "| 2 | Paul  | Bass   |\n",
    "| 3 | Keith | Guitar |\n",
    "\n",
    "```\n",
    "# Define the keys explicitly\n",
    "left_join(names, plays, by = \"name\")\n",
    "\n",
    "# If you omit the by argument, the function will automatically find the common key and use it.\n",
    "\n",
    "left_join(names, plays)\n",
    "```\n",
    "\n",
    "### Mismatched key names\n",
    "\n",
    "* members\n",
    "\n",
    "|   | members | band    |\n",
    "|---|---------|---------|\n",
    "| 1 | Mick    | Stones  |\n",
    "| 2 | John    | Beatles |\n",
    "| 3 | Paul    | Beatles |\n",
    "\n",
    "\n",
    "* plays\n",
    "\n",
    "|   | name  | plays  |\n",
    "|---|-------|--------|\n",
    "| 1 | John  | Guitar |\n",
    "| 2 | Paul  | Bass   |\n",
    "| 3 | Keith | Guitar |\n",
    "\n",
    "```\n",
    "# When the key column names are different,\n",
    "# tell the function that they are the same\n",
    "left_join(members, plays, by = c(\"member\" = \"name\"))\n",
    "```\n",
    "\n",
    "### Conflicting names\n",
    "\n",
    "\n",
    "* playsWith\n",
    "\n",
    "|   | members | plays   |\n",
    "|---|---------|---------|\n",
    "| 1 | Mick    | Stones  |\n",
    "| 2 | John    | Beatles |\n",
    "| 3 | Paul    | Beatles |\n",
    "\n",
    "\n",
    "* plays\n",
    "\n",
    "|   | name  | plays  |\n",
    "|---|-------|--------|\n",
    "| 1 | John  | Guitar |\n",
    "| 2 | Paul  | Bass   |\n",
    "| 3 | Keith | Guitar |\n",
    "\n",
    "```\n",
    "# dplyr will add suffixes to column names\n",
    "left_join(playsWith, plays, by = \"name\", suffix = c(\"1\", \"2\"))\n",
    "```"
   ]
  },
  {
   "cell_type": "markdown",
   "metadata": {},
   "source": [
    "### Which keys?\n",
    "\n",
    "Frank Sinatra and Bing Crosby each crossed the boundary from music to acting, singing famous songs in well-known movies. movie_years and movie_songs describe some of their work.\n",
    "\n",
    "Examine movie_years and movie_songs to determine which keys dplyr would use to join the datasets if you did not set the by argument. In this case, it would not matter which type of join you use, or in which order you call the datasets.\n",
    "\n",
    "** movie & name **"
   ]
  },
  {
   "cell_type": "markdown",
   "metadata": {},
   "source": [
    "### A subset of keys\n",
    "\n",
    "Often the same column name will be used by two datasets to refer to different things. For example, the data frame movie_studios uses name to refer to the name of a movie studio. movie_years uses name to refer to the name of an actor.\n",
    "\n",
    "You could join these datasets (they describe the same movies), but you wouldn't want to use the name column to do so!\n",
    "\n",
    "dplyr will ignore duplicate column names if you set the by argument and do not include the duplicated name in the argument. When you do this, dplyr will treat the columns in the normal fashion, but it will add .x and .y to the duplicated names to help you tell the columns apart.\n",
    "\n",
    "* Left join movie_studios to movie_years by the movie column. What happens to the duplicated column names?\n",
    "* Use rename() to rename the name column of movie_years to artist, and the name column of movie_studios to studio. As an example, rename(data, new_name = old_name) renames old_name to new_name in data."
   ]
  },
  {
   "cell_type": "code",
   "execution_count": null,
   "metadata": {
    "collapsed": true
   },
   "outputs": [],
   "source": [
    "movie_years %>% \n",
    "  # Left join movie_studios to movie_years\n",
    "  left_join(movie_studios, by = \"movie\") %>%\n",
    "  # Rename the columns: artist and studio\n",
    "  rename(artist = name.x, studio = name.y)"
   ]
  },
  {
   "cell_type": "markdown",
   "metadata": {},
   "source": [
    "### Mis-matched key names\n",
    "\n",
    "Just as the same name can refer to different things in different datasets, different names can refer to the same thing. For example, elvis_movies and elvis_songs both describe movies starring Elvis Presley, but each uses a different column name to describe the name of the movie.\n",
    "\n",
    "This type of inconsistency can be frustrating when you wish to join data based on the inconsistently named variable.\n",
    "\n",
    "To make the join, set by to a named vector. The names of the vector will refer to column names in the primary dataset (x). The values of the vector will correspond to the column names in the secondary dataset (y), e.g.\n",
    "\n",
    "x %>% left_join(y, by = c(\"x.name1\" = \"y.name2\"))\n",
    "dplyr will make the join and retain the names in the primary dataset.\n",
    "\n",
    "\n",
    "* Identify the column in elvis_songs that corresponds to a column in elvis_movies.\n",
    "* Left join elvis_songs to elvis_movies by this column.\n",
    "* Use rename() to give the result the column names movie, year, and song."
   ]
  },
  {
   "cell_type": "code",
   "execution_count": null,
   "metadata": {
    "collapsed": true
   },
   "outputs": [],
   "source": [
    "# Identify the key column\n",
    "elvis_songs\n",
    "elvis_movies\n",
    "\n",
    "elvis_movies %>% \n",
    "  # Left join elvis_songs to elvis_movies by this column\n",
    "  left_join(elvis_songs, by = c(\"name\" = \"movie\"))%>%\n",
    "  # Rename columns\n",
    "  rename(movie = name, song = name.y)"
   ]
  },
  {
   "cell_type": "markdown",
   "metadata": {},
   "source": [
    "### More mismatched names\n",
    "\n",
    "Now, you'll practice what you learned in the last exercise.\n",
    "\n",
    "movie_years and movie_directors both describe movies that feature Frank Sinatra and Bing Crosby. However, each data frame uses different column names to refer to the key variables that connect the datasets.\n",
    "\n",
    "Can you join the data?\n",
    "\n",
    "\n",
    "* Identify the key columns that connect movie_directors to movie_years.\n",
    "* Left join movie_directors to movie_years.\n",
    "* Use select() to arrange the columns in the following order with the following names: year, movie, artist, director, studio.\n"
   ]
  },
  {
   "cell_type": "code",
   "execution_count": null,
   "metadata": {
    "collapsed": true
   },
   "outputs": [],
   "source": [
    "# Identify the key columns\n",
    "movie_directors\n",
    "movie_years\n",
    "\n",
    "movie_years %>% \n",
    "  # Left join movie_directors to movie_years\n",
    "  left_join(movie_directors, by = c(\"movie\" = \"name\")) %>% \n",
    "  # Arrange the columns using select()\n",
    "  select(year, movie, artist = name, director, studio)"
   ]
  },
  {
   "cell_type": "markdown",
   "metadata": {},
   "source": [
    "## Joining multiple tables\n",
    "\n",
    "### purrr R package\n",
    "\n",
    "* Applies functions in efficient ways\n",
    "* reduce()\n",
    "* Works well with dplyr\n",
    "\n",
    "### Installing purrr\n",
    "\n",
    "```\n",
    "install.packages(\"purrr\")\n",
    "library(purrr)\n",
    "```\n",
    "\n",
    "### reduce()\n",
    "\n",
    "* surnames\n",
    "\n",
    "| name  | surname |\n",
    "|-------|---------|\n",
    "| Mick  | Jagger  |\n",
    "| John  | Lennon  |\n",
    "| Ringo | Starr   |\n",
    "\n",
    "* names\n",
    "\n",
    "| name  | band    |\n",
    "|-------|---------|\n",
    "| Mick  | Stones  |\n",
    "| John  | Beatles |\n",
    "| Paul  | Beatles |\n",
    "\n",
    "* plays\n",
    "\n",
    "| name  | plays   |\n",
    "|-------|---------|\n",
    "| Mick  | Guitar  |\n",
    "| John  | Bass    |\n",
    "| Keith | Guitar  |\n",
    "\n",
    "```\n",
    "tables <- list(surnames, names, plays)\n",
    "reduce(tables, left_join, by = \"name\")\n",
    "\n",
    "# reduce() does the equivalent of the following pipeline\n",
    "surnames %>%\n",
    "    left_join(names, by = \"name\") %>%\n",
    "    left_join(plays, by = \"name\")\n",
    "```"
   ]
  },
  {
   "cell_type": "markdown",
   "metadata": {},
   "source": [
    "### Join multiple tables\n",
    "\n",
    "purrr's reduce() function is very useful for joining together multiple datasets. Let's practice using it with three new datasets.\n",
    "\n",
    "supergroups lists the members of several \"supergroup\" bands, which are bands made from the members of other famous bands. more_bands lists the original band membership of many musicians, including those in supergroups. And more_artists lists the instruments that various artists played.\n",
    "\n",
    "Can you join these datasets into a single, coherent dataset?\n",
    "\n",
    "\n",
    "* Load the purrr library.\n",
    "* Place supergroups, more_bands, and more_artists into a list, in that order.\n",
    "* Use reduce() to join together supergroups, more_bands, and more_artists into a dataset that contains all available information about each artist in supergroups (and no others)."
   ]
  },
  {
   "cell_type": "code",
   "execution_count": null,
   "metadata": {
    "collapsed": true
   },
   "outputs": [],
   "source": [
    "# Load the purrr library\n",
    "library(purrr)\n",
    "\n",
    "# Place supergroups, more_bands, and more_artists into a list\n",
    "list(supergroups, more_bands, more_artists) %>% \n",
    "  # Use reduce to join together the contents of the list\n",
    "  reduce(left_join, by = c(\"first\", \"last\"))"
   ]
  },
  {
   "cell_type": "markdown",
   "metadata": {},
   "source": [
    "### Filter multiple tables\n",
    "Nice work! The job of reduce() is to apply a function in an iterative fashion to many datasets. As a result, reduce() works well with all of the dplyr join functions.\n",
    "\n",
    "For example, you can use reduce() to filter observations with a filtering join.\n",
    "\n",
    "\n",
    "* Use reduce() to return just the rows of more_artists that appear in all three datasets."
   ]
  },
  {
   "cell_type": "code",
   "execution_count": null,
   "metadata": {
    "collapsed": true
   },
   "outputs": [],
   "source": [
    "list(more_artists, more_bands, supergroups) %>% \n",
    "  # Return rows of more_artists in all three datasets\n",
    "  reduce(semi_join, by = c(\"first\", \"last\"))"
   ]
  },
  {
   "cell_type": "markdown",
   "metadata": {},
   "source": [
    "## Other implementations\n",
    "\n",
    "### merge()\n",
    "\n",
    "```\n",
    "merge(names, plays, by = \"name\", ...)\n",
    "\n",
    "# left_join(names, plays, by = \"name\")\n",
    "merge(names, plays, by = \"name\", all.x = TRUE, all.y = FALSE)\n",
    "\n",
    "# right_join(names, plays, by = \"name\")\n",
    "merge(names, plays, by = \"name\", all.x = FALSE, all.y = TRUE)\n",
    "\n",
    "# inner_join(names, plays, by = \"name\") is a default in merge\n",
    "merge(names, plays, by = \"name\", all = FALSE)\n",
    "\n",
    "# full_join(names, plays, by = \"name\")\n",
    "merge(names, plays, by = \"name\", all = TRUE)\n",
    "```\n",
    "\n",
    "### Comparing with SQL\n",
    "\n",
    "| R            | SQL                                       |\n",
    "|--------------|-------------------------------------------|\n",
    "| inner_join() | SELECT * FROM x JOIN y ON x.a = y.a       |\n",
    "| left_join()  | SELECT * FROM x LEFT JOIN y ON x.a = y.a  | \n",
    "| right_join() | SELECT * FROM x RIGHT JOIN y ON x.a = y.a |\n",
    "| full_join()  | SELECT * FROM x FULL JOIN y ON x.a = y.a  |\n",
    "| semi_join()  | SELECT * FROM x WHERE EXISTS (SELECT l FROM y WHERE x.a = y.a) |\n",
    "| anit_join()  | SELECT * FROM x WHERE NOT EXISTS (SELECT l FROM y WHERE x.a = y.a) |\n",
    "\n",
    "### dplyr SQL connections\n",
    "\n",
    "| Function       | DBMS           |\n",
    "|----------------|----------------|\n",
    "| src_sqlite()   | SQLite         |\n",
    "| src_mysql()    | MySQL, MariaDB |\n",
    "| src_postgres() | PostgresSQL    |\n",
    "\n",
    "> install.packages(\"DBI\") # Install DBI package to use them"
   ]
  },
  {
   "cell_type": "markdown",
   "metadata": {},
   "source": [
    "### Base R\n",
    "\n",
    "dplyr joins are also similar to the merge() function in base R.\n",
    "\n",
    "For example, the code in the editor uses merge() and arrange() to perform a left_join() on bands and artists.\n",
    "\n",
    "\n",
    "* Alter the code to perform the join with a dplyr function.\n",
    "* Remove arrange() if your solution does not need it."
   ]
  },
  {
   "cell_type": "code",
   "execution_count": null,
   "metadata": {
    "collapsed": true
   },
   "outputs": [],
   "source": [
    "# Alter the code to perform the join with a dplyr function\n",
    "merge(bands, artists, by = c(\"first\", \"last\"), all.x = TRUE) %>%\n",
    "  arrange(band)\n",
    "\n",
    "bands %>%\n",
    "  left_join(artists, by = c(\"first\", \"last\")) %>%\n",
    "  arrange()"
   ]
  }
 ],
 "metadata": {
  "kernelspec": {
   "display_name": "R",
   "language": "R",
   "name": "ir"
  },
  "language_info": {
   "codemirror_mode": "r",
   "file_extension": ".r",
   "mimetype": "text/x-r-source",
   "name": "R",
   "pygments_lexer": "r",
   "version": "3.4.2"
  }
 },
 "nbformat": 4,
 "nbformat_minor": 2
}
