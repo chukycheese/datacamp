{
 "cells": [
  {
   "cell_type": "markdown",
   "metadata": {},
   "source": [
    "# Filtering joins and set operations\n",
    "\n",
    "## Semi-joins\n",
    "\n",
    "* Checks if some items in one data set exists in the other data set"
   ]
  },
  {
   "cell_type": "code",
   "execution_count": 15,
   "metadata": {},
   "outputs": [],
   "source": [
    "library(dplyr)\n",
    "library(tibble)\n",
    "\n",
    "artists_df <- data.frame(\n",
    "    name = c(\"Jimmy Buffett\", \"George Harrison\", \"Mick Jagger\", \"Tom Jones\",\n",
    "            \"Davy Jones\", \"John Lennon\", \"Paul McCartney\", \"Jimmy Page\",\n",
    "            \"Joe Perry\", \"Elvis Presley\", \"Keith Richards\", \"Paul Simon\",\n",
    "            \"Ringo Starr\", \"Joe Walsh\", \"Brian Wilson\", \"Nancy Wilson\"),\n",
    "    instrument = c(\"Guitar\", \"Guitar\", \"Vocals\", \"Vocals\",\n",
    "                   \"Vocals\", \"Guitar\", \"Bass\", \"Guitar\",\n",
    "                   \"Guitar\", \"Vocals\", \"Guitar\", \"Guitar\",\n",
    "                   \"Drums\", \"Guitar\", \"Vocals\", \"Vocals\"))\n",
    "artists <- as_tibble(artists_df)\n",
    "\n",
    "# albums\n",
    "albums_df <- data.frame(\n",
    "    album = c(\"A Hard Day's Night\", \"Magical Mystery Tour\", \"Beggar's Banquet\",\n",
    "            \"Abbey Road\", \"Led Zeppelin IV\", \"The Dark Side of the Moon\",\n",
    "            \"Aerosmith\", \"Rumours\", \"Hotel California\"),\n",
    "    band = c(\"The Beatles\", \"The Beatles\", \"The Rolling Stones\",\n",
    "            \"The Beatles\", \"Led Zeppelin\", \"Pink Floyd\",\n",
    "            \"Aerosmith\", \"Fleetwood Mac\", \"Eagles\"),\n",
    "    year = c(1964, 1967, 1968, 1969, 1971, 1973, 1973, 1977, 1982))\n",
    "\n",
    "albums <- as_tibble(albums_df)\n",
    "\n",
    "# bands\n",
    "bands_df <- data.frame(\n",
    "    name = c(\"John Bonham\", \"John Paul Jones\", \"Jimmy Page\", \"Robert Plant\",\n",
    "            \"George Harrison\", \"John Lennon\", \"Paul McCartney\", \"Ringo Starr\",\n",
    "            \"Jimmy Buffett\", \"Mick Jagger\", \"Keith Richards\",\n",
    "            \"Charlie Watts\", \"Ronnie Wood\"),\n",
    "    band = c(\"Led Zeppelin\", \"Led Zeppelin\", \"Led Zeppelin\", \"Led Zeppelin\",\n",
    "            \"The Beatles\", \"The Beatles\", \"The Beatles\", \"The Beatles\",\n",
    "            \"The Coral Reefers\", \"The Rolling Stones\", \"The Rolling Stones\",\n",
    "            \"The Rolling Stones\", \"The Rolling Stones\"))\n",
    "\n",
    "bands <- as_tibble(bands_df)\n",
    "\n",
    "# songs\n",
    "songs_df <- data.frame(\n",
    "    song = c(\"Come Together\", \"Dream On\", \"Hello, Goodbye\", \"It's not Unusual\"),\n",
    "    album = c(\"Abbey Road\", \"Aerosmith\", \"Magical Mystery Tour\", \"Along Came Jones\"),\n",
    "    writer = c(\"John Lennon\", \"Steven Tyler\", \"Paul McCartney\", \"Tom Jones\"))\n",
    "\n",
    "songs <- as_tibble(songs_df)"
   ]
  },
  {
   "cell_type": "code",
   "execution_count": 16,
   "metadata": {},
   "outputs": [
    {
     "name": "stderr",
     "output_type": "stream",
     "text": [
      "Warning message:\n",
      "\"Too many values at 1 locations: 2\""
     ]
    }
   ],
   "source": [
    "artists <- tidyr::separate(artists, col = name,\n",
    "                           into = c(\"first\", \"last\"), sep = \" \")\n",
    "bands   <- tidyr::separate(bands, col = name,\n",
    "                           into = c(\"first\", \"last\"), sep = \" \")\n",
    "songs   <- tidyr::separate(songs, col = writer,\n",
    "                           into = c(\"first\", \"last\"), sep = \" \")"
   ]
  },
  {
   "cell_type": "markdown",
   "metadata": {},
   "source": [
    "### Apply a semi-join"
   ]
  },
  {
   "cell_type": "code",
   "execution_count": 19,
   "metadata": {},
   "outputs": [
    {
     "data": {
      "text/html": [
       "<table>\n",
       "<thead><tr><th scope=col>first</th><th scope=col>last</th><th scope=col>instrument</th></tr></thead>\n",
       "<tbody>\n",
       "\t<tr><td>Tom      </td><td>Jones    </td><td>Vocals   </td></tr>\n",
       "\t<tr><td>John     </td><td>Lennon   </td><td>Guitar   </td></tr>\n",
       "\t<tr><td>Paul     </td><td>McCartney</td><td>Bass     </td></tr>\n",
       "</tbody>\n",
       "</table>\n"
      ],
      "text/latex": [
       "\\begin{tabular}{r|lll}\n",
       " first & last & instrument\\\\\n",
       "\\hline\n",
       "\t Tom       & Jones     & Vocals   \\\\\n",
       "\t John      & Lennon    & Guitar   \\\\\n",
       "\t Paul      & McCartney & Bass     \\\\\n",
       "\\end{tabular}\n"
      ],
      "text/markdown": [
       "\n",
       "first | last | instrument | \n",
       "|---|---|---|\n",
       "| Tom       | Jones     | Vocals    | \n",
       "| John      | Lennon    | Guitar    | \n",
       "| Paul      | McCartney | Bass      | \n",
       "\n",
       "\n"
      ],
      "text/plain": [
       "  first last      instrument\n",
       "1 Tom   Jones     Vocals    \n",
       "2 John  Lennon    Guitar    \n",
       "3 Paul  McCartney Bass      "
      ]
     },
     "metadata": {},
     "output_type": "display_data"
    },
    {
     "data": {
      "text/html": [
       "<table>\n",
       "<thead><tr><th scope=col>first</th><th scope=col>last</th><th scope=col>instrument</th></tr></thead>\n",
       "<tbody>\n",
       "\t<tr><td>Tom      </td><td>Jones    </td><td>Vocals   </td></tr>\n",
       "\t<tr><td>John     </td><td>Lennon   </td><td>Guitar   </td></tr>\n",
       "\t<tr><td>Paul     </td><td>McCartney</td><td>Bass     </td></tr>\n",
       "</tbody>\n",
       "</table>\n"
      ],
      "text/latex": [
       "\\begin{tabular}{r|lll}\n",
       " first & last & instrument\\\\\n",
       "\\hline\n",
       "\t Tom       & Jones     & Vocals   \\\\\n",
       "\t John      & Lennon    & Guitar   \\\\\n",
       "\t Paul      & McCartney & Bass     \\\\\n",
       "\\end{tabular}\n"
      ],
      "text/markdown": [
       "\n",
       "first | last | instrument | \n",
       "|---|---|---|\n",
       "| Tom       | Jones     | Vocals    | \n",
       "| John      | Lennon    | Guitar    | \n",
       "| Paul      | McCartney | Bass      | \n",
       "\n",
       "\n"
      ],
      "text/plain": [
       "  first last      instrument\n",
       "1 Tom   Jones     Vocals    \n",
       "2 John  Lennon    Guitar    \n",
       "3 Paul  McCartney Bass      "
      ]
     },
     "metadata": {},
     "output_type": "display_data"
    },
    {
     "data": {
      "text/html": [
       "<table>\n",
       "<thead><tr><th scope=col>first</th><th scope=col>last</th><th scope=col>instrument</th></tr></thead>\n",
       "<tbody>\n",
       "\t<tr><td>John     </td><td>Lennon   </td><td>Guitar   </td></tr>\n",
       "\t<tr><td>Paul     </td><td>McCartney</td><td>Bass     </td></tr>\n",
       "\t<tr><td>Tom      </td><td>Jones    </td><td>Vocals   </td></tr>\n",
       "</tbody>\n",
       "</table>\n"
      ],
      "text/latex": [
       "\\begin{tabular}{r|lll}\n",
       " first & last & instrument\\\\\n",
       "\\hline\n",
       "\t John      & Lennon    & Guitar   \\\\\n",
       "\t Paul      & McCartney & Bass     \\\\\n",
       "\t Tom       & Jones     & Vocals   \\\\\n",
       "\\end{tabular}\n"
      ],
      "text/markdown": [
       "\n",
       "first | last | instrument | \n",
       "|---|---|---|\n",
       "| John      | Lennon    | Guitar    | \n",
       "| Paul      | McCartney | Bass      | \n",
       "| Tom       | Jones     | Vocals    | \n",
       "\n",
       "\n"
      ],
      "text/plain": [
       "  first last      instrument\n",
       "1 John  Lennon    Guitar    \n",
       "2 Paul  McCartney Bass      \n",
       "3 Tom   Jones     Vocals    "
      ]
     },
     "metadata": {},
     "output_type": "display_data"
    }
   ],
   "source": [
    "# View the output of semi_join()\n",
    "artists %>% \n",
    "  semi_join(songs, by = c(\"first\", \"last\"))\n",
    "\n",
    "# Create the same result\n",
    "artists %>% \n",
    "  right_join(songs, by = c(\"first\", \"last\")) %>% \n",
    "  filter(!is.na(instrument)) %>% \n",
    "  select(first, last, instrument)"
   ]
  },
  {
   "cell_type": "markdown",
   "metadata": {},
   "source": [
    "### Exploring with semi-joins"
   ]
  },
  {
   "cell_type": "code",
   "execution_count": 20,
   "metadata": {},
   "outputs": [
    {
     "data": {
      "text/html": [
       "<table>\n",
       "<thead><tr><th scope=col>album</th><th scope=col>band</th><th scope=col>year</th></tr></thead>\n",
       "<tbody>\n",
       "\t<tr><td>A Hard Day's Night       </td><td>The Beatles              </td><td>1964                     </td></tr>\n",
       "\t<tr><td>Magical Mystery Tour     </td><td>The Beatles              </td><td>1967                     </td></tr>\n",
       "\t<tr><td>Beggar's Banquet         </td><td>The Rolling Stones       </td><td>1968                     </td></tr>\n",
       "\t<tr><td>Abbey Road               </td><td>The Beatles              </td><td>1969                     </td></tr>\n",
       "\t<tr><td>Led Zeppelin IV          </td><td>Led Zeppelin             </td><td>1971                     </td></tr>\n",
       "\t<tr><td>The Dark Side of the Moon</td><td>Pink Floyd               </td><td>1973                     </td></tr>\n",
       "\t<tr><td>Aerosmith                </td><td>Aerosmith                </td><td>1973                     </td></tr>\n",
       "\t<tr><td>Rumours                  </td><td>Fleetwood Mac            </td><td>1977                     </td></tr>\n",
       "\t<tr><td>Hotel California         </td><td>Eagles                   </td><td>1982                     </td></tr>\n",
       "</tbody>\n",
       "</table>\n"
      ],
      "text/latex": [
       "\\begin{tabular}{r|lll}\n",
       " album & band & year\\\\\n",
       "\\hline\n",
       "\t A Hard Day's Night        & The Beatles               & 1964                     \\\\\n",
       "\t Magical Mystery Tour      & The Beatles               & 1967                     \\\\\n",
       "\t Beggar's Banquet          & The Rolling Stones        & 1968                     \\\\\n",
       "\t Abbey Road                & The Beatles               & 1969                     \\\\\n",
       "\t Led Zeppelin IV           & Led Zeppelin              & 1971                     \\\\\n",
       "\t The Dark Side of the Moon & Pink Floyd                & 1973                     \\\\\n",
       "\t Aerosmith                 & Aerosmith                 & 1973                     \\\\\n",
       "\t Rumours                   & Fleetwood Mac             & 1977                     \\\\\n",
       "\t Hotel California          & Eagles                    & 1982                     \\\\\n",
       "\\end{tabular}\n"
      ],
      "text/markdown": [
       "\n",
       "album | band | year | \n",
       "|---|---|---|---|---|---|---|---|---|\n",
       "| A Hard Day's Night        | The Beatles               | 1964                      | \n",
       "| Magical Mystery Tour      | The Beatles               | 1967                      | \n",
       "| Beggar's Banquet          | The Rolling Stones        | 1968                      | \n",
       "| Abbey Road                | The Beatles               | 1969                      | \n",
       "| Led Zeppelin IV           | Led Zeppelin              | 1971                      | \n",
       "| The Dark Side of the Moon | Pink Floyd                | 1973                      | \n",
       "| Aerosmith                 | Aerosmith                 | 1973                      | \n",
       "| Rumours                   | Fleetwood Mac             | 1977                      | \n",
       "| Hotel California          | Eagles                    | 1982                      | \n",
       "\n",
       "\n"
      ],
      "text/plain": [
       "  album                     band               year\n",
       "1 A Hard Day's Night        The Beatles        1964\n",
       "2 Magical Mystery Tour      The Beatles        1967\n",
       "3 Beggar's Banquet          The Rolling Stones 1968\n",
       "4 Abbey Road                The Beatles        1969\n",
       "5 Led Zeppelin IV           Led Zeppelin       1971\n",
       "6 The Dark Side of the Moon Pink Floyd         1973\n",
       "7 Aerosmith                 Aerosmith          1973\n",
       "8 Rumours                   Fleetwood Mac      1977\n",
       "9 Hotel California          Eagles             1982"
      ]
     },
     "metadata": {},
     "output_type": "display_data"
    }
   ],
   "source": [
    "albums"
   ]
  },
  {
   "cell_type": "code",
   "execution_count": 21,
   "metadata": {},
   "outputs": [
    {
     "data": {
      "text/html": [
       "<table>\n",
       "<thead><tr><th scope=col>first</th><th scope=col>last</th><th scope=col>band</th></tr></thead>\n",
       "<tbody>\n",
       "\t<tr><td>John              </td><td>Bonham            </td><td>Led Zeppelin      </td></tr>\n",
       "\t<tr><td>John              </td><td>Paul              </td><td>Led Zeppelin      </td></tr>\n",
       "\t<tr><td>Jimmy             </td><td>Page              </td><td>Led Zeppelin      </td></tr>\n",
       "\t<tr><td>Robert            </td><td>Plant             </td><td>Led Zeppelin      </td></tr>\n",
       "\t<tr><td>George            </td><td>Harrison          </td><td>The Beatles       </td></tr>\n",
       "\t<tr><td>John              </td><td>Lennon            </td><td>The Beatles       </td></tr>\n",
       "\t<tr><td>Paul              </td><td>McCartney         </td><td>The Beatles       </td></tr>\n",
       "\t<tr><td>Ringo             </td><td>Starr             </td><td>The Beatles       </td></tr>\n",
       "\t<tr><td>Jimmy             </td><td>Buffett           </td><td>The Coral Reefers </td></tr>\n",
       "\t<tr><td>Mick              </td><td>Jagger            </td><td>The Rolling Stones</td></tr>\n",
       "\t<tr><td>Keith             </td><td>Richards          </td><td>The Rolling Stones</td></tr>\n",
       "\t<tr><td>Charlie           </td><td>Watts             </td><td>The Rolling Stones</td></tr>\n",
       "\t<tr><td>Ronnie            </td><td>Wood              </td><td>The Rolling Stones</td></tr>\n",
       "</tbody>\n",
       "</table>\n"
      ],
      "text/latex": [
       "\\begin{tabular}{r|lll}\n",
       " first & last & band\\\\\n",
       "\\hline\n",
       "\t John               & Bonham             & Led Zeppelin      \\\\\n",
       "\t John               & Paul               & Led Zeppelin      \\\\\n",
       "\t Jimmy              & Page               & Led Zeppelin      \\\\\n",
       "\t Robert             & Plant              & Led Zeppelin      \\\\\n",
       "\t George             & Harrison           & The Beatles       \\\\\n",
       "\t John               & Lennon             & The Beatles       \\\\\n",
       "\t Paul               & McCartney          & The Beatles       \\\\\n",
       "\t Ringo              & Starr              & The Beatles       \\\\\n",
       "\t Jimmy              & Buffett            & The Coral Reefers \\\\\n",
       "\t Mick               & Jagger             & The Rolling Stones\\\\\n",
       "\t Keith              & Richards           & The Rolling Stones\\\\\n",
       "\t Charlie            & Watts              & The Rolling Stones\\\\\n",
       "\t Ronnie             & Wood               & The Rolling Stones\\\\\n",
       "\\end{tabular}\n"
      ],
      "text/markdown": [
       "\n",
       "first | last | band | \n",
       "|---|---|---|---|---|---|---|---|---|---|---|---|---|\n",
       "| John               | Bonham             | Led Zeppelin       | \n",
       "| John               | Paul               | Led Zeppelin       | \n",
       "| Jimmy              | Page               | Led Zeppelin       | \n",
       "| Robert             | Plant              | Led Zeppelin       | \n",
       "| George             | Harrison           | The Beatles        | \n",
       "| John               | Lennon             | The Beatles        | \n",
       "| Paul               | McCartney          | The Beatles        | \n",
       "| Ringo              | Starr              | The Beatles        | \n",
       "| Jimmy              | Buffett            | The Coral Reefers  | \n",
       "| Mick               | Jagger             | The Rolling Stones | \n",
       "| Keith              | Richards           | The Rolling Stones | \n",
       "| Charlie            | Watts              | The Rolling Stones | \n",
       "| Ronnie             | Wood               | The Rolling Stones | \n",
       "\n",
       "\n"
      ],
      "text/plain": [
       "   first   last      band              \n",
       "1  John    Bonham    Led Zeppelin      \n",
       "2  John    Paul      Led Zeppelin      \n",
       "3  Jimmy   Page      Led Zeppelin      \n",
       "4  Robert  Plant     Led Zeppelin      \n",
       "5  George  Harrison  The Beatles       \n",
       "6  John    Lennon    The Beatles       \n",
       "7  Paul    McCartney The Beatles       \n",
       "8  Ringo   Starr     The Beatles       \n",
       "9  Jimmy   Buffett   The Coral Reefers \n",
       "10 Mick    Jagger    The Rolling Stones\n",
       "11 Keith   Richards  The Rolling Stones\n",
       "12 Charlie Watts     The Rolling Stones\n",
       "13 Ronnie  Wood      The Rolling Stones"
      ]
     },
     "metadata": {},
     "output_type": "display_data"
    }
   ],
   "source": [
    "bands"
   ]
  },
  {
   "cell_type": "code",
   "execution_count": 34,
   "metadata": {},
   "outputs": [
    {
     "name": "stderr",
     "output_type": "stream",
     "text": [
      "Warning message:\n",
      "\"Column `band` joining factors with different levels, coercing to character vector\""
     ]
    },
    {
     "data": {
      "text/html": [
       "5"
      ],
      "text/latex": [
       "5"
      ],
      "text/markdown": [
       "5"
      ],
      "text/plain": [
       "[1] 5"
      ]
     },
     "metadata": {},
     "output_type": "display_data"
    }
   ],
   "source": [
    "albums %>% \n",
    "  # Collect the albums made by a band\n",
    "  semi_join(bands, by = c(\"band\")) %>%\n",
    "  # Count the albums made by a band\n",
    "  nrow()"
   ]
  },
  {
   "cell_type": "markdown",
   "metadata": {},
   "source": [
    "# A more precise way to filter?\n",
    "\n",
    "We've attempted to rewrite this semi-join as a filter. Will it return the same results?"
   ]
  },
  {
   "cell_type": "code",
   "execution_count": 35,
   "metadata": {},
   "outputs": [
    {
     "ename": "ERROR",
     "evalue": "Error in eval(lhs, parent, parent): object 'tracks' not found\n",
     "output_type": "error",
     "traceback": [
      "Error in eval(lhs, parent, parent): object 'tracks' not found\nTraceback:\n",
      "1. tracks %>% semi_join(matches, by = c(\"band\", \"year\", \"first\"))",
      "2. eval(lhs, parent, parent)",
      "3. eval(lhs, parent, parent)"
     ]
    }
   ],
   "source": [
    "tracks %>% semi_join(\n",
    "  matches,\n",
    "  by = c(\"band\", \"year\", \"first\")\n",
    ")"
   ]
  },
  {
   "cell_type": "markdown",
   "metadata": {},
   "source": [
    "## Anti-join\n",
    "\n",
    "* Does the opposite of semi_join. \n",
    "* Shows which rows in the primary data frame do not have matches in the secondary data frame\n",
    "* This can be used for checking misspellings in the key values.\n",
    "\n",
    "## join functions provided in dplyr\n",
    "\n",
    "* left_join()\n",
    "* right_join()\n",
    "* inner_join()\n",
    "* full_join()\n",
    "* semi_join()\n",
    "* anti_join()"
   ]
  },
  {
   "cell_type": "markdown",
   "metadata": {},
   "source": [
    "### Apply an anti-join\n",
    "\n",
    "Use an anti_join() to return the rows of artists for which you don't have any bands info. Note: Don't forget to mention the by argument."
   ]
  },
  {
   "cell_type": "code",
   "execution_count": 36,
   "metadata": {},
   "outputs": [
    {
     "data": {
      "text/html": [
       "<table>\n",
       "<thead><tr><th scope=col>first</th><th scope=col>last</th><th scope=col>instrument</th></tr></thead>\n",
       "<tbody>\n",
       "\t<tr><td>Tom    </td><td>Jones  </td><td>Vocals </td></tr>\n",
       "\t<tr><td>Davy   </td><td>Jones  </td><td>Vocals </td></tr>\n",
       "\t<tr><td>Joe    </td><td>Perry  </td><td>Guitar </td></tr>\n",
       "\t<tr><td>Elvis  </td><td>Presley</td><td>Vocals </td></tr>\n",
       "\t<tr><td>Paul   </td><td>Simon  </td><td>Guitar </td></tr>\n",
       "\t<tr><td>Joe    </td><td>Walsh  </td><td>Guitar </td></tr>\n",
       "\t<tr><td>Brian  </td><td>Wilson </td><td>Vocals </td></tr>\n",
       "\t<tr><td>Nancy  </td><td>Wilson </td><td>Vocals </td></tr>\n",
       "</tbody>\n",
       "</table>\n"
      ],
      "text/latex": [
       "\\begin{tabular}{r|lll}\n",
       " first & last & instrument\\\\\n",
       "\\hline\n",
       "\t Tom     & Jones   & Vocals \\\\\n",
       "\t Davy    & Jones   & Vocals \\\\\n",
       "\t Joe     & Perry   & Guitar \\\\\n",
       "\t Elvis   & Presley & Vocals \\\\\n",
       "\t Paul    & Simon   & Guitar \\\\\n",
       "\t Joe     & Walsh   & Guitar \\\\\n",
       "\t Brian   & Wilson  & Vocals \\\\\n",
       "\t Nancy   & Wilson  & Vocals \\\\\n",
       "\\end{tabular}\n"
      ],
      "text/markdown": [
       "\n",
       "first | last | instrument | \n",
       "|---|---|---|---|---|---|---|---|\n",
       "| Tom     | Jones   | Vocals  | \n",
       "| Davy    | Jones   | Vocals  | \n",
       "| Joe     | Perry   | Guitar  | \n",
       "| Elvis   | Presley | Vocals  | \n",
       "| Paul    | Simon   | Guitar  | \n",
       "| Joe     | Walsh   | Guitar  | \n",
       "| Brian   | Wilson  | Vocals  | \n",
       "| Nancy   | Wilson  | Vocals  | \n",
       "\n",
       "\n"
      ],
      "text/plain": [
       "  first last    instrument\n",
       "1 Tom   Jones   Vocals    \n",
       "2 Davy  Jones   Vocals    \n",
       "3 Joe   Perry   Guitar    \n",
       "4 Elvis Presley Vocals    \n",
       "5 Paul  Simon   Guitar    \n",
       "6 Joe   Walsh   Guitar    \n",
       "7 Brian Wilson  Vocals    \n",
       "8 Nancy Wilson  Vocals    "
      ]
     },
     "metadata": {},
     "output_type": "display_data"
    }
   ],
   "source": [
    "artists %>%\n",
    "    anti_join(bands, by = c(\"first\", \"last\"))"
   ]
  },
  {
   "cell_type": "markdown",
   "metadata": {},
   "source": [
    "### Apply another anti-join\n",
    "\n",
    "labels describes the record labels of the albums in albums. Compare the spellings of album names in labels with the names in albums. Are any of the album names of labels mis-entered? Use anti_join() to check. Note: Don't forget to mention the by argument."
   ]
  },
  {
   "cell_type": "code",
   "execution_count": 38,
   "metadata": {
    "collapsed": true
   },
   "outputs": [],
   "source": [
    "labels_df <- data.frame(album = c(\"Abbey Road\", \"A Hard Days Night\", \"Magical Mystery Tour\",\n",
    "                                 \"Led Zeppelin IV\", \"The Dark Side of the Moon\", \"Hotel California\",\n",
    "                                 \"Rumours\", \"Aerosmith\", \"Beggar's Banquet\"),\n",
    "                       label = c(\"Apple\", \"Parlophone\", \"Parlophone\", \"Atlantic\", \"Harvest\",\n",
    "                                \"Asylum\", \"Warner Brothers\", \"Columbia\", \"Decca\"))\n",
    "labels <- as.tibble(labels_df)"
   ]
  },
  {
   "cell_type": "code",
   "execution_count": 41,
   "metadata": {},
   "outputs": [
    {
     "name": "stderr",
     "output_type": "stream",
     "text": [
      "Warning message:\n",
      "\"Column `album` joining factors with different levels, coercing to character vector\""
     ]
    },
    {
     "data": {
      "text/html": [
       "<table>\n",
       "<thead><tr><th scope=col>album</th><th scope=col>label</th></tr></thead>\n",
       "<tbody>\n",
       "\t<tr><td>A Hard Days Night</td><td>Parlophone       </td></tr>\n",
       "</tbody>\n",
       "</table>\n"
      ],
      "text/latex": [
       "\\begin{tabular}{r|ll}\n",
       " album & label\\\\\n",
       "\\hline\n",
       "\t A Hard Days Night & Parlophone       \\\\\n",
       "\\end{tabular}\n"
      ],
      "text/markdown": [
       "\n",
       "album | label | \n",
       "|---|\n",
       "| A Hard Days Night | Parlophone        | \n",
       "\n",
       "\n"
      ],
      "text/plain": [
       "  album             label     \n",
       "1 A Hard Days Night Parlophone"
      ]
     },
     "metadata": {},
     "output_type": "display_data"
    },
    {
     "data": {
      "text/html": [
       "<table>\n",
       "<thead><tr><th scope=col>album</th><th scope=col>band</th><th scope=col>year</th></tr></thead>\n",
       "<tbody>\n",
       "\t<tr><td>A Hard Day's Night       </td><td>The Beatles              </td><td>1964                     </td></tr>\n",
       "\t<tr><td>Magical Mystery Tour     </td><td>The Beatles              </td><td>1967                     </td></tr>\n",
       "\t<tr><td>Beggar's Banquet         </td><td>The Rolling Stones       </td><td>1968                     </td></tr>\n",
       "\t<tr><td>Abbey Road               </td><td>The Beatles              </td><td>1969                     </td></tr>\n",
       "\t<tr><td>Led Zeppelin IV          </td><td>Led Zeppelin             </td><td>1971                     </td></tr>\n",
       "\t<tr><td>The Dark Side of the Moon</td><td>Pink Floyd               </td><td>1973                     </td></tr>\n",
       "\t<tr><td>Aerosmith                </td><td>Aerosmith                </td><td>1973                     </td></tr>\n",
       "\t<tr><td>Rumours                  </td><td>Fleetwood Mac            </td><td>1977                     </td></tr>\n",
       "\t<tr><td>Hotel California         </td><td>Eagles                   </td><td>1982                     </td></tr>\n",
       "</tbody>\n",
       "</table>\n"
      ],
      "text/latex": [
       "\\begin{tabular}{r|lll}\n",
       " album & band & year\\\\\n",
       "\\hline\n",
       "\t A Hard Day's Night        & The Beatles               & 1964                     \\\\\n",
       "\t Magical Mystery Tour      & The Beatles               & 1967                     \\\\\n",
       "\t Beggar's Banquet          & The Rolling Stones        & 1968                     \\\\\n",
       "\t Abbey Road                & The Beatles               & 1969                     \\\\\n",
       "\t Led Zeppelin IV           & Led Zeppelin              & 1971                     \\\\\n",
       "\t The Dark Side of the Moon & Pink Floyd                & 1973                     \\\\\n",
       "\t Aerosmith                 & Aerosmith                 & 1973                     \\\\\n",
       "\t Rumours                   & Fleetwood Mac             & 1977                     \\\\\n",
       "\t Hotel California          & Eagles                    & 1982                     \\\\\n",
       "\\end{tabular}\n"
      ],
      "text/markdown": [
       "\n",
       "album | band | year | \n",
       "|---|---|---|---|---|---|---|---|---|\n",
       "| A Hard Day's Night        | The Beatles               | 1964                      | \n",
       "| Magical Mystery Tour      | The Beatles               | 1967                      | \n",
       "| Beggar's Banquet          | The Rolling Stones        | 1968                      | \n",
       "| Abbey Road                | The Beatles               | 1969                      | \n",
       "| Led Zeppelin IV           | Led Zeppelin              | 1971                      | \n",
       "| The Dark Side of the Moon | Pink Floyd                | 1973                      | \n",
       "| Aerosmith                 | Aerosmith                 | 1973                      | \n",
       "| Rumours                   | Fleetwood Mac             | 1977                      | \n",
       "| Hotel California          | Eagles                    | 1982                      | \n",
       "\n",
       "\n"
      ],
      "text/plain": [
       "  album                     band               year\n",
       "1 A Hard Day's Night        The Beatles        1964\n",
       "2 Magical Mystery Tour      The Beatles        1967\n",
       "3 Beggar's Banquet          The Rolling Stones 1968\n",
       "4 Abbey Road                The Beatles        1969\n",
       "5 Led Zeppelin IV           Led Zeppelin       1971\n",
       "6 The Dark Side of the Moon Pink Floyd         1973\n",
       "7 Aerosmith                 Aerosmith          1973\n",
       "8 Rumours                   Fleetwood Mac      1977\n",
       "9 Hotel California          Eagles             1982"
      ]
     },
     "metadata": {},
     "output_type": "display_data"
    }
   ],
   "source": [
    "# Check whether album names in labels are mis-entered\n",
    "labels %>%\n",
    "    anti_join(albums, by = c(\"album\"))\n",
    "albums"
   ]
  },
  {
   "cell_type": "markdown",
   "metadata": {},
   "source": [
    "### Which filtering join?\n",
    "\n",
    "Which filtering join would you use to determine how many rows in songs match a label in labels?\n",
    "\n",
    "* Determine which key joins labels and songs.\n",
    "* Use a filtering join to find the rows of songs that match a row in labels.\n",
    "* Use nrow() to determine how many matches exist between labels and songs."
   ]
  },
  {
   "cell_type": "code",
   "execution_count": 44,
   "metadata": {},
   "outputs": [
    {
     "data": {
      "text/html": [
       "<table>\n",
       "<thead><tr><th scope=col>album</th><th scope=col>label</th></tr></thead>\n",
       "<tbody>\n",
       "\t<tr><td>Abbey Road               </td><td>Apple                    </td></tr>\n",
       "\t<tr><td>A Hard Days Night        </td><td>Parlophone               </td></tr>\n",
       "\t<tr><td>Magical Mystery Tour     </td><td>Parlophone               </td></tr>\n",
       "\t<tr><td>Led Zeppelin IV          </td><td>Atlantic                 </td></tr>\n",
       "\t<tr><td>The Dark Side of the Moon</td><td>Harvest                  </td></tr>\n",
       "\t<tr><td>Hotel California         </td><td>Asylum                   </td></tr>\n",
       "\t<tr><td>Rumours                  </td><td>Warner Brothers          </td></tr>\n",
       "\t<tr><td>Aerosmith                </td><td>Columbia                 </td></tr>\n",
       "\t<tr><td>Beggar's Banquet         </td><td>Decca                    </td></tr>\n",
       "</tbody>\n",
       "</table>\n"
      ],
      "text/latex": [
       "\\begin{tabular}{r|ll}\n",
       " album & label\\\\\n",
       "\\hline\n",
       "\t Abbey Road                & Apple                    \\\\\n",
       "\t A Hard Days Night         & Parlophone               \\\\\n",
       "\t Magical Mystery Tour      & Parlophone               \\\\\n",
       "\t Led Zeppelin IV           & Atlantic                 \\\\\n",
       "\t The Dark Side of the Moon & Harvest                  \\\\\n",
       "\t Hotel California          & Asylum                   \\\\\n",
       "\t Rumours                   & Warner Brothers          \\\\\n",
       "\t Aerosmith                 & Columbia                 \\\\\n",
       "\t Beggar's Banquet          & Decca                    \\\\\n",
       "\\end{tabular}\n"
      ],
      "text/markdown": [
       "\n",
       "album | label | \n",
       "|---|---|---|---|---|---|---|---|---|\n",
       "| Abbey Road                | Apple                     | \n",
       "| A Hard Days Night         | Parlophone                | \n",
       "| Magical Mystery Tour      | Parlophone                | \n",
       "| Led Zeppelin IV           | Atlantic                  | \n",
       "| The Dark Side of the Moon | Harvest                   | \n",
       "| Hotel California          | Asylum                    | \n",
       "| Rumours                   | Warner Brothers           | \n",
       "| Aerosmith                 | Columbia                  | \n",
       "| Beggar's Banquet          | Decca                     | \n",
       "\n",
       "\n"
      ],
      "text/plain": [
       "  album                     label          \n",
       "1 Abbey Road                Apple          \n",
       "2 A Hard Days Night         Parlophone     \n",
       "3 Magical Mystery Tour      Parlophone     \n",
       "4 Led Zeppelin IV           Atlantic       \n",
       "5 The Dark Side of the Moon Harvest        \n",
       "6 Hotel California          Asylum         \n",
       "7 Rumours                   Warner Brothers\n",
       "8 Aerosmith                 Columbia       \n",
       "9 Beggar's Banquet          Decca          "
      ]
     },
     "metadata": {},
     "output_type": "display_data"
    },
    {
     "data": {
      "text/html": [
       "<table>\n",
       "<thead><tr><th scope=col>song</th><th scope=col>album</th><th scope=col>first</th><th scope=col>last</th></tr></thead>\n",
       "<tbody>\n",
       "\t<tr><td>Come Together       </td><td>Abbey Road          </td><td>John                </td><td>Lennon              </td></tr>\n",
       "\t<tr><td>Dream On            </td><td>Aerosmith           </td><td>Steven              </td><td>Tyler               </td></tr>\n",
       "\t<tr><td>Hello, Goodbye      </td><td>Magical Mystery Tour</td><td>Paul                </td><td>McCartney           </td></tr>\n",
       "\t<tr><td>It's not Unusual    </td><td>Along Came Jones    </td><td>Tom                 </td><td>Jones               </td></tr>\n",
       "</tbody>\n",
       "</table>\n"
      ],
      "text/latex": [
       "\\begin{tabular}{r|llll}\n",
       " song & album & first & last\\\\\n",
       "\\hline\n",
       "\t Come Together        & Abbey Road           & John                 & Lennon              \\\\\n",
       "\t Dream On             & Aerosmith            & Steven               & Tyler               \\\\\n",
       "\t Hello, Goodbye       & Magical Mystery Tour & Paul                 & McCartney           \\\\\n",
       "\t It's not Unusual     & Along Came Jones     & Tom                  & Jones               \\\\\n",
       "\\end{tabular}\n"
      ],
      "text/markdown": [
       "\n",
       "song | album | first | last | \n",
       "|---|---|---|---|\n",
       "| Come Together        | Abbey Road           | John                 | Lennon               | \n",
       "| Dream On             | Aerosmith            | Steven               | Tyler                | \n",
       "| Hello, Goodbye       | Magical Mystery Tour | Paul                 | McCartney            | \n",
       "| It's not Unusual     | Along Came Jones     | Tom                  | Jones                | \n",
       "\n",
       "\n"
      ],
      "text/plain": [
       "  song             album                first  last     \n",
       "1 Come Together    Abbey Road           John   Lennon   \n",
       "2 Dream On         Aerosmith            Steven Tyler    \n",
       "3 Hello, Goodbye   Magical Mystery Tour Paul   McCartney\n",
       "4 It's not Unusual Along Came Jones     Tom    Jones    "
      ]
     },
     "metadata": {},
     "output_type": "display_data"
    },
    {
     "name": "stderr",
     "output_type": "stream",
     "text": [
      "Warning message:\n",
      "\"Column `album` joining factors with different levels, coercing to character vector\""
     ]
    },
    {
     "data": {
      "text/html": [
       "3"
      ],
      "text/latex": [
       "3"
      ],
      "text/markdown": [
       "3"
      ],
      "text/plain": [
       "[1] 3"
      ]
     },
     "metadata": {},
     "output_type": "display_data"
    }
   ],
   "source": [
    "# Determine which key joins labels and songs\n",
    "labels\n",
    "songs\n",
    "\n",
    "# Check your understanding\n",
    "songs %>% \n",
    "  # Find the rows of songs that match a row in labels\n",
    "  semi_join(labels, by = c(\"album\")) %>%\n",
    "  # Number of matches between labels and songs\n",
    "  nrow()"
   ]
  },
  {
   "cell_type": "markdown",
   "metadata": {},
   "source": [
    "## Set operations\n",
    "\n",
    "* When two data sets contain the exact same variables, it can be helpful to combine them with set operations.\n",
    "\n",
    "    * union()\n",
    "    * intersect()\n",
    "    * setdiff()"
   ]
  },
  {
   "cell_type": "markdown",
   "metadata": {},
   "source": [
    "### How many songs are there?\n",
    "\n",
    "We have loaded two datasets in your workspace, aerosmith and greatest_hits, each of which represents an album from the band Aerosmith. Each row in either of the datasets is a song on that album.\n",
    "\n",
    "How many unique songs do these two albums contain in total?\n",
    "\n",
    "* Use a set operation to create a dataset with every song contained on aerosmith and/or greatest_hits.\n",
    "* Use nrow() to count the total number of songs."
   ]
  },
  {
   "cell_type": "code",
   "execution_count": 52,
   "metadata": {},
   "outputs": [],
   "source": [
    "aerosmith_df <- data.frame(song = c(\"Make It\", \"Somebody\", \"Dream On\", \"One Way Street\",\n",
    "                                   \"Mama Kin\", \"Write me a Letter\", \"Moving Out\", \"Walking the Dog\"),\n",
    "                          length = c(13260, 13500, 16080, 25200, 15900, 15060, 18180, 11520))\n",
    "aerosmith <- as.tibble(aerosmith_df)\n",
    "\n",
    "greatest_hits_df <- data.frame(song = c(\"Dream On\", \"Mama Kin\", \"Same Old Song and Dance\", \n",
    "                                       \"Seasons of Winter\", \"Sweet Emotion\", \"Walk this Way\",\n",
    "                                       \"Big Ten Inch Record\", \"Last Child\", \"Back in the Saddle\",\n",
    "                                       \"Draw the Line\", \"Kings and Queens\", \"Come Together\",\n",
    "                                        \"Remeber (Walking in the Sand)\", \"Lightning Strikes\",\n",
    "                                        \"Chip Away the Stone\", \"Sweet Emotion (remix)\", \"One Way Street\"),\n",
    "                              length = c(16080, 16020, 11040, 17820, 11700, 12780, 8100, 12480, 16860,\n",
    "                                        12240, 13680, 13620, 14700, 16080, 14460, 16560, 24000))\n",
    "greatest_hits <- as.tibble(greatest_hits_df)"
   ]
  },
  {
   "cell_type": "code",
   "execution_count": 54,
   "metadata": {},
   "outputs": [
    {
     "name": "stderr",
     "output_type": "stream",
     "text": [
      "Warning message:\n",
      "\"Column `song` joining factors with different levels, coercing to character vector\""
     ]
    },
    {
     "data": {
      "text/html": [
       "24"
      ],
      "text/latex": [
       "24"
      ],
      "text/markdown": [
       "24"
      ],
      "text/plain": [
       "[1] 24"
      ]
     },
     "metadata": {},
     "output_type": "display_data"
    }
   ],
   "source": [
    "aerosmith %>%\n",
    "    # Create the new dataset using a set operation\n",
    "    union(greatest_hits, by = c(\"song\")) %>%\n",
    "    # Count the total number of songs\n",
    "    nrow()"
   ]
  },
  {
   "cell_type": "markdown",
   "metadata": {},
   "source": [
    "### Greatest hits\n",
    "\n",
    "Which songs from Aerosmith made it onto Greatest Hits?"
   ]
  },
  {
   "cell_type": "code",
   "execution_count": 56,
   "metadata": {},
   "outputs": [
    {
     "name": "stderr",
     "output_type": "stream",
     "text": [
      "Warning message:\n",
      "\"Column `song` joining factors with different levels, coercing to character vector\""
     ]
    },
    {
     "data": {
      "text/html": [
       "<table>\n",
       "<thead><tr><th scope=col>song</th><th scope=col>length</th></tr></thead>\n",
       "<tbody>\n",
       "\t<tr><td>Dream On</td><td>16080   </td></tr>\n",
       "</tbody>\n",
       "</table>\n"
      ],
      "text/latex": [
       "\\begin{tabular}{r|ll}\n",
       " song & length\\\\\n",
       "\\hline\n",
       "\t Dream On & 16080   \\\\\n",
       "\\end{tabular}\n"
      ],
      "text/markdown": [
       "\n",
       "song | length | \n",
       "|---|\n",
       "| Dream On | 16080    | \n",
       "\n",
       "\n"
      ],
      "text/plain": [
       "  song     length\n",
       "1 Dream On 16080 "
      ]
     },
     "metadata": {},
     "output_type": "display_data"
    }
   ],
   "source": [
    "# Create the new dataset using a set operation\n",
    "aerosmith %>% \n",
    "  intersect(greatest_hits, by = c(\"song\"))"
   ]
  },
  {
   "cell_type": "code",
   "execution_count": 57,
   "metadata": {
    "collapsed": true
   },
   "outputs": [],
   "source": [
    "### Live! Bootleg songs\n",
    "live_df <- data.frame(song = c(\"Back in the Saddle\", \"Sweet Emotion\", \"Lord of the Things\",\n",
    "                               \"Toys in the Attic\", \"Last Child\", \"Come Together\", \"Walk this Way\",\n",
    "                               \"Sick as a Dog\", \"Dream On\", \"Chip Away the Stone\", \"Sight for Sore Eyes\",\n",
    "                               \"Mama Kin\", \"S.O.S (Too Bad)\", \"I Ain't Got You\", \"Mother Popconr/Draw the Line\",\n",
    "                              \"Train Kept A-Rollin'/Strangers in the Night\"),\n",
    "                      length = c(15900, 16920, 26280, 13500, 12240, 17460, 13560, 16920, 16260, 15120,\n",
    "                                 11880, 13380, 9960, 14220, 41700, 17460))\n",
    "\n",
    "live <- as.tibble(live_df)"
   ]
  },
  {
   "cell_type": "code",
   "execution_count": 58,
   "metadata": {},
   "outputs": [
    {
     "name": "stderr",
     "output_type": "stream",
     "text": [
      "Warning message:\n",
      "\"Column `song` joining factors with different levels, coercing to character vector\""
     ]
    },
    {
     "data": {
      "text/html": [
       "<table>\n",
       "<thead><tr><th scope=col>song</th></tr></thead>\n",
       "<tbody>\n",
       "\t<tr><td>Lord of the Things                         </td></tr>\n",
       "\t<tr><td>Toys in the Attic                          </td></tr>\n",
       "\t<tr><td>Sick as a Dog                              </td></tr>\n",
       "\t<tr><td>Sight for Sore Eyes                        </td></tr>\n",
       "\t<tr><td>S.O.S (Too Bad)                            </td></tr>\n",
       "\t<tr><td>I Ain't Got You                            </td></tr>\n",
       "\t<tr><td>Mother Popconr/Draw the Line               </td></tr>\n",
       "\t<tr><td>Train Kept A-Rollin'/Strangers in the Night</td></tr>\n",
       "</tbody>\n",
       "</table>\n"
      ],
      "text/latex": [
       "\\begin{tabular}{r|l}\n",
       " song\\\\\n",
       "\\hline\n",
       "\t Lord of the Things                         \\\\\n",
       "\t Toys in the Attic                          \\\\\n",
       "\t Sick as a Dog                              \\\\\n",
       "\t Sight for Sore Eyes                        \\\\\n",
       "\t S.O.S (Too Bad)                            \\\\\n",
       "\t I Ain't Got You                            \\\\\n",
       "\t Mother Popconr/Draw the Line               \\\\\n",
       "\t Train Kept A-Rollin'/Strangers in the Night\\\\\n",
       "\\end{tabular}\n"
      ],
      "text/markdown": [
       "\n",
       "song | \n",
       "|---|---|---|---|---|---|---|---|\n",
       "| Lord of the Things                          | \n",
       "| Toys in the Attic                           | \n",
       "| Sick as a Dog                               | \n",
       "| Sight for Sore Eyes                         | \n",
       "| S.O.S (Too Bad)                             | \n",
       "| I Ain't Got You                             | \n",
       "| Mother Popconr/Draw the Line                | \n",
       "| Train Kept A-Rollin'/Strangers in the Night | \n",
       "\n",
       "\n"
      ],
      "text/plain": [
       "  song                                       \n",
       "1 Lord of the Things                         \n",
       "2 Toys in the Attic                          \n",
       "3 Sick as a Dog                              \n",
       "4 Sight for Sore Eyes                        \n",
       "5 S.O.S (Too Bad)                            \n",
       "6 I Ain't Got You                            \n",
       "7 Mother Popconr/Draw the Line               \n",
       "8 Train Kept A-Rollin'/Strangers in the Night"
      ]
     },
     "metadata": {},
     "output_type": "display_data"
    }
   ],
   "source": [
    "# Select the song names from live\n",
    "live_songs <- live %>% select(song)\n",
    "\n",
    "# Select the song names from greatest_hits\n",
    "greatest_songs <- greatest_hits %>% select(song)\n",
    "\n",
    "# Create the new dataset using a set operation\n",
    "live_songs %>% \n",
    "  setdiff(greatest_songs)"
   ]
  },
  {
   "cell_type": "markdown",
   "metadata": {},
   "source": [
    "### Multiple operations\n",
    "\n",
    "Can you think of a combination that would answer the question, \"Which songs appear on one of Live! Bootleg or Greatest Hits, but not both?\"\n",
    "\n",
    "* Select the songs from the live and greatest_hits datasets and call them live_songs and greatest_songs, respectively. Use the select() function to do this.\n",
    "* Combine setdiff(), union(), and intersect() to return all of the songs that are in one of live_songs or greatest_songs, but not both. You will need to use all three functions and save some results along the way (i.e. you won't be able to do this with a single pipe.)"
   ]
  },
  {
   "cell_type": "code",
   "execution_count": 60,
   "metadata": {},
   "outputs": [
    {
     "name": "stderr",
     "output_type": "stream",
     "text": [
      "Warning message:\n",
      "\"Column `song` joining factors with different levels, coercing to character vector\"Warning message:\n",
      "\"Column `song` joining factors with different levels, coercing to character vector\""
     ]
    },
    {
     "data": {
      "text/html": [
       "<table>\n",
       "<thead><tr><th scope=col>song</th></tr></thead>\n",
       "<tbody>\n",
       "\t<tr><td>One Way Street                             </td></tr>\n",
       "\t<tr><td>Kings and Queens                           </td></tr>\n",
       "\t<tr><td>Seasons of Winter                          </td></tr>\n",
       "\t<tr><td>Mother Popconr/Draw the Line               </td></tr>\n",
       "\t<tr><td>Lord of the Things                         </td></tr>\n",
       "\t<tr><td>Lightning Strikes                          </td></tr>\n",
       "\t<tr><td>Sick as a Dog                              </td></tr>\n",
       "\t<tr><td>Toys in the Attic                          </td></tr>\n",
       "\t<tr><td>Remeber (Walking in the Sand)              </td></tr>\n",
       "\t<tr><td>S.O.S (Too Bad)                            </td></tr>\n",
       "\t<tr><td>I Ain't Got You                            </td></tr>\n",
       "\t<tr><td>Same Old Song and Dance                    </td></tr>\n",
       "\t<tr><td>Draw the Line                              </td></tr>\n",
       "\t<tr><td>Big Ten Inch Record                        </td></tr>\n",
       "\t<tr><td>Sight for Sore Eyes                        </td></tr>\n",
       "\t<tr><td>Train Kept A-Rollin'/Strangers in the Night</td></tr>\n",
       "\t<tr><td>Sweet Emotion (remix)                      </td></tr>\n",
       "</tbody>\n",
       "</table>\n"
      ],
      "text/latex": [
       "\\begin{tabular}{r|l}\n",
       " song\\\\\n",
       "\\hline\n",
       "\t One Way Street                             \\\\\n",
       "\t Kings and Queens                           \\\\\n",
       "\t Seasons of Winter                          \\\\\n",
       "\t Mother Popconr/Draw the Line               \\\\\n",
       "\t Lord of the Things                         \\\\\n",
       "\t Lightning Strikes                          \\\\\n",
       "\t Sick as a Dog                              \\\\\n",
       "\t Toys in the Attic                          \\\\\n",
       "\t Remeber (Walking in the Sand)              \\\\\n",
       "\t S.O.S (Too Bad)                            \\\\\n",
       "\t I Ain't Got You                            \\\\\n",
       "\t Same Old Song and Dance                    \\\\\n",
       "\t Draw the Line                              \\\\\n",
       "\t Big Ten Inch Record                        \\\\\n",
       "\t Sight for Sore Eyes                        \\\\\n",
       "\t Train Kept A-Rollin'/Strangers in the Night\\\\\n",
       "\t Sweet Emotion (remix)                      \\\\\n",
       "\\end{tabular}\n"
      ],
      "text/markdown": [
       "\n",
       "song | \n",
       "|---|---|---|---|---|---|---|---|---|---|---|---|---|---|---|---|---|\n",
       "| One Way Street                              | \n",
       "| Kings and Queens                            | \n",
       "| Seasons of Winter                           | \n",
       "| Mother Popconr/Draw the Line                | \n",
       "| Lord of the Things                          | \n",
       "| Lightning Strikes                           | \n",
       "| Sick as a Dog                               | \n",
       "| Toys in the Attic                           | \n",
       "| Remeber (Walking in the Sand)               | \n",
       "| S.O.S (Too Bad)                             | \n",
       "| I Ain't Got You                             | \n",
       "| Same Old Song and Dance                     | \n",
       "| Draw the Line                               | \n",
       "| Big Ten Inch Record                         | \n",
       "| Sight for Sore Eyes                         | \n",
       "| Train Kept A-Rollin'/Strangers in the Night | \n",
       "| Sweet Emotion (remix)                       | \n",
       "\n",
       "\n"
      ],
      "text/plain": [
       "   song                                       \n",
       "1  One Way Street                             \n",
       "2  Kings and Queens                           \n",
       "3  Seasons of Winter                          \n",
       "4  Mother Popconr/Draw the Line               \n",
       "5  Lord of the Things                         \n",
       "6  Lightning Strikes                          \n",
       "7  Sick as a Dog                              \n",
       "8  Toys in the Attic                          \n",
       "9  Remeber (Walking in the Sand)              \n",
       "10 S.O.S (Too Bad)                            \n",
       "11 I Ain't Got You                            \n",
       "12 Same Old Song and Dance                    \n",
       "13 Draw the Line                              \n",
       "14 Big Ten Inch Record                        \n",
       "15 Sight for Sore Eyes                        \n",
       "16 Train Kept A-Rollin'/Strangers in the Night\n",
       "17 Sweet Emotion (remix)                      "
      ]
     },
     "metadata": {},
     "output_type": "display_data"
    }
   ],
   "source": [
    "# Select songs from live and greatest_hits\n",
    "live_songs <- live %>% select(song)\n",
    "greatest_songs <- greatest_hits %>% select(song)\n",
    "\n",
    "# Return the songs that only exist in one dataset\n",
    "union_songs <- live_songs %>% union(greatest_songs)\n",
    "intersect_songs <- live_songs %>% intersect(greatest_songs)\n",
    "union_songs %>% setdiff(intersect_songs)"
   ]
  },
  {
   "cell_type": "markdown",
   "metadata": {},
   "source": [
    "## Comparing datasets\n",
    "\n",
    "* setequal(set1, set2) - The contents matter, not the order\n",
    "* identical(set1, set2) - The order of data has to be the same\n",
    "\n",
    "### Mutating joins\n",
    "* left_join()\n",
    "* right_join()\n",
    "* inner_join()\n",
    "* full_join()\n",
    "\n",
    "### Filtering joins\n",
    "* semi_join()\n",
    "* anti_join()\n",
    "\n",
    "### Set operations\n",
    "* union()\n",
    "* intersect()\n",
    "* setdiff()\n",
    "\n",
    "### Comparisons\n",
    "* setequal()"
   ]
  },
  {
   "cell_type": "code",
   "execution_count": null,
   "metadata": {
    "collapsed": true
   },
   "outputs": [],
   "source": [
    "# Check if same order: definitive and complete\n",
    "identical(definitive, complete)\n",
    "\n",
    "# Check if any order: definitive and complete\n",
    "setequal(definitive, complete)\n",
    "\n",
    "# Songs in definitive but not complete\n",
    "setdiff(definitive, complete)\n",
    "\n",
    "\n",
    "# Songs in complete but not definitive\n",
    "setdiff(complete, definitive)"
   ]
  },
  {
   "cell_type": "markdown",
   "metadata": {},
   "source": [
    "### Apply setequal again\n",
    "\n",
    "A few exercises ago, you saw that an intersect() is analagous to a semi_join() when two datasets contain the same variables and each variable is used in the key.\n",
    "\n",
    "Under these conditions, setdiff() is also analagous to one of the filtering joins.\n",
    "\n",
    "* Write a filtering join that returns songs in definitive that are not in complete. Are there any?\n",
    "* Write a filtering join that returns songs in complete that are not in definitive. Are there any?"
   ]
  },
  {
   "cell_type": "code",
   "execution_count": null,
   "metadata": {
    "collapsed": true
   },
   "outputs": [],
   "source": [
    "# Return songs in definitive that are not in complete\n",
    "definitive %>% \n",
    "  anti_join(complete)\n",
    "\n",
    "# Return songs in complete that are not in definitive\n",
    "complete %>% \n",
    "  anti_join(definitive)"
   ]
  },
  {
   "cell_type": "markdown",
   "metadata": {},
   "source": [
    "### Comparing albums\n",
    "\n",
    "It appears that The Definitive Collection contains songs from the soundtrack of The Song Remains the Same, a movie filmed during a live Led Zeppelin concert. Is this the only difference between The Definitive Collection and The Complete Studio Recordings?\n",
    "\n",
    "The songs from The Song Remains the Same are contained in soundtrack.\n",
    "\n",
    "* Use identical() to check if definitive and the union of complete and soundtrack contain the same songs in the same order.\n",
    "* Use setequal() to check if definitive and the union of complete and soundtrack contain the same songs in any order."
   ]
  },
  {
   "cell_type": "code",
   "execution_count": null,
   "metadata": {
    "collapsed": true
   },
   "outputs": [],
   "source": [
    "# Check if same order: definitive and union of complete and soundtrack\n",
    "identical(definitive, union(complete, soundtrack))\n",
    "\n",
    "\n",
    "\n",
    "# Check if any order: definitive and union of complete and soundtrack\n",
    "setequal(definitive, union(complete, soundtrack))"
   ]
  }
 ],
 "metadata": {
  "kernelspec": {
   "display_name": "R",
   "language": "R",
   "name": "ir"
  },
  "language_info": {
   "codemirror_mode": "r",
   "file_extension": ".r",
   "mimetype": "text/x-r-source",
   "name": "R",
   "pygments_lexer": "r",
   "version": "3.4.2"
  }
 },
 "nbformat": 4,
 "nbformat_minor": 2
}
