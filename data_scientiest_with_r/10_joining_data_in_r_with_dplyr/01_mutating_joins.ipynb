{
 "cells": [
  {
   "cell_type": "markdown",
   "metadata": {},
   "source": [
    "# Mutating joins\n",
    "\n",
    "## Welcome to the course!\n",
    "\n",
    "\n",
    "| Var_1 | Var_2 | Var_3 | Var_4 |\n",
    "|-------------------------------|\n",
    "| obs_1 | 33    | 3     | 54    |\n",
    "| obs_2 | 20    | 90    | 22    |\n",
    "| obs_3 | 58    | 12    | 15    |\n",
    "| obs_4 | 83    | 81    | 5     |\n",
    "\n",
    "```\n",
    "# Summarise a column\n",
    "mean(df[[\"Var_2\"]])\n",
    "\n",
    "# Create a column\n",
    "df[[\"Var_5\"]] <- df[[\"Var_2\"]] + df[[\"Var_4\"]]\n",
    "```\n",
    "\n",
    "## Course outline\n",
    "\n",
    "* Chapter 1 - Mutating joins\n",
    "    - Join multiple tables\n",
    "* Chapter 2 - Filtering joins and set operations\n",
    "    - Search, extract rows, ...\n",
    "* Chapter 3 - Assembling data\n",
    "    - Compose a data frame\n",
    "* Chapter 4 - Advanced joining\n",
    "    - What can go wrong? How to fix errors\n",
    "* Chapter 5 - Case study\n",
    "\n",
    "## Benefits of dplyr join functions\n",
    "\n",
    "* Always preserve row order\n",
    "* Intuitive syntax\n",
    "* Can be applied to databases, spark, etc.\n",
    "\n",
    "## The advantages of dplyr\n",
    "\n",
    "* dplyr joins syntax is intuitive to use.\n",
    "* dplyr joins preserve the row order of your data.\n",
    "* dplyr joins will work with dplyr to connect to SQL databases.\n",
    "\n",
    "## Keys\n",
    "\n",
    "* A key is a column or combination of columns, that occurs in each tables that you want to join.\n",
    "* dplyr completes the join by matching rows that have the same values of the key.\n",
    "* Primary Key: A key in the primary table\n",
    "* Secondary Key/Foreign Key: A key in the second table"
   ]
  },
  {
   "cell_type": "markdown",
   "metadata": {},
   "source": [
    "### Primary Key\n",
    "\n",
    "* Which can be the primary key from the dataset ** artists **\n",
    "    - ** name ** \n",
    "    - instrument"
   ]
  },
  {
   "cell_type": "code",
   "execution_count": 10,
   "metadata": {},
   "outputs": [
    {
     "data": {
      "text/html": [
       "<table>\n",
       "<thead><tr><th scope=col>name</th><th scope=col>instrument</th></tr></thead>\n",
       "<tbody>\n",
       "\t<tr><td>Jimmy Buffett  </td><td>Guitar         </td></tr>\n",
       "\t<tr><td>George Harrison</td><td>Guitar         </td></tr>\n",
       "\t<tr><td>Mick Jagger    </td><td>Vocals         </td></tr>\n",
       "\t<tr><td>Tom Jones      </td><td>Vocals         </td></tr>\n",
       "\t<tr><td>Davy Jones     </td><td>Vocals         </td></tr>\n",
       "\t<tr><td>John Lennon    </td><td>Guitar         </td></tr>\n",
       "\t<tr><td>Paul McCartney </td><td>Bass           </td></tr>\n",
       "\t<tr><td>Jimmy Page     </td><td>Guitar         </td></tr>\n",
       "\t<tr><td>Joe Perry      </td><td>Guitar         </td></tr>\n",
       "\t<tr><td>Elvis Presley  </td><td>Vocals         </td></tr>\n",
       "\t<tr><td>Keith Richards </td><td>Guitar         </td></tr>\n",
       "\t<tr><td>Paul Simon     </td><td>Guitar         </td></tr>\n",
       "\t<tr><td>Ringo Starr    </td><td>Drums          </td></tr>\n",
       "\t<tr><td>Joe Walsh      </td><td>Guitar         </td></tr>\n",
       "\t<tr><td>Brian Wilson   </td><td>Vocals         </td></tr>\n",
       "\t<tr><td>Nancy Wilson   </td><td>Vocals         </td></tr>\n",
       "</tbody>\n",
       "</table>\n"
      ],
      "text/latex": [
       "\\begin{tabular}{r|ll}\n",
       " name & instrument\\\\\n",
       "\\hline\n",
       "\t Jimmy Buffett   & Guitar         \\\\\n",
       "\t George Harrison & Guitar         \\\\\n",
       "\t Mick Jagger     & Vocals         \\\\\n",
       "\t Tom Jones       & Vocals         \\\\\n",
       "\t Davy Jones      & Vocals         \\\\\n",
       "\t John Lennon     & Guitar         \\\\\n",
       "\t Paul McCartney  & Bass           \\\\\n",
       "\t Jimmy Page      & Guitar         \\\\\n",
       "\t Joe Perry       & Guitar         \\\\\n",
       "\t Elvis Presley   & Vocals         \\\\\n",
       "\t Keith Richards  & Guitar         \\\\\n",
       "\t Paul Simon      & Guitar         \\\\\n",
       "\t Ringo Starr     & Drums          \\\\\n",
       "\t Joe Walsh       & Guitar         \\\\\n",
       "\t Brian Wilson    & Vocals         \\\\\n",
       "\t Nancy Wilson    & Vocals         \\\\\n",
       "\\end{tabular}\n"
      ],
      "text/markdown": [
       "\n",
       "name | instrument | \n",
       "|---|---|---|---|---|---|---|---|---|---|---|---|---|---|---|---|\n",
       "| Jimmy Buffett   | Guitar          | \n",
       "| George Harrison | Guitar          | \n",
       "| Mick Jagger     | Vocals          | \n",
       "| Tom Jones       | Vocals          | \n",
       "| Davy Jones      | Vocals          | \n",
       "| John Lennon     | Guitar          | \n",
       "| Paul McCartney  | Bass            | \n",
       "| Jimmy Page      | Guitar          | \n",
       "| Joe Perry       | Guitar          | \n",
       "| Elvis Presley   | Vocals          | \n",
       "| Keith Richards  | Guitar          | \n",
       "| Paul Simon      | Guitar          | \n",
       "| Ringo Starr     | Drums           | \n",
       "| Joe Walsh       | Guitar          | \n",
       "| Brian Wilson    | Vocals          | \n",
       "| Nancy Wilson    | Vocals          | \n",
       "\n",
       "\n"
      ],
      "text/plain": [
       "   name            instrument\n",
       "1  Jimmy Buffett   Guitar    \n",
       "2  George Harrison Guitar    \n",
       "3  Mick Jagger     Vocals    \n",
       "4  Tom Jones       Vocals    \n",
       "5  Davy Jones      Vocals    \n",
       "6  John Lennon     Guitar    \n",
       "7  Paul McCartney  Bass      \n",
       "8  Jimmy Page      Guitar    \n",
       "9  Joe Perry       Guitar    \n",
       "10 Elvis Presley   Vocals    \n",
       "11 Keith Richards  Guitar    \n",
       "12 Paul Simon      Guitar    \n",
       "13 Ringo Starr     Drums     \n",
       "14 Joe Walsh       Guitar    \n",
       "15 Brian Wilson    Vocals    \n",
       "16 Nancy Wilson    Vocals    "
      ]
     },
     "metadata": {},
     "output_type": "display_data"
    }
   ],
   "source": [
    "library(dplyr)\n",
    "library(tibble)\n",
    "\n",
    "artists_df <- data.frame(\n",
    "    name = c(\"Jimmy Buffett\", \"George Harrison\", \"Mick Jagger\", \"Tom Jones\",\n",
    "            \"Davy Jones\", \"John Lennon\", \"Paul McCartney\", \"Jimmy Page\",\n",
    "            \"Joe Perry\", \"Elvis Presley\", \"Keith Richards\", \"Paul Simon\",\n",
    "            \"Ringo Starr\", \"Joe Walsh\", \"Brian Wilson\", \"Nancy Wilson\"),\n",
    "    instrument = c(\"Guitar\", \"Guitar\", \"Vocals\", \"Vocals\",\n",
    "                   \"Vocals\", \"Guitar\", \"Bass\", \"Guitar\",\n",
    "                   \"Guitar\", \"Vocals\", \"Guitar\", \"Guitar\",\n",
    "                   \"Drums\", \"Guitar\", \"Vocals\", \"Vocals\"))\n",
    "artists <- as_tibble(artists_df)\n",
    "artists"
   ]
  },
  {
   "cell_type": "markdown",
   "metadata": {},
   "source": [
    "### Secondary keys\n",
    "\n",
    "* albums, bands, and songs provide information that you may be able to join to artists. To do so, you'll need to pair the primary key in artists (i.e. name) with secondary keys in albums, bands, and/or songs.\n",
    "\n",
    "* Examine albums, bands, and songs. Which datasets have a secondary key that matches artists$name? What are the secondary keys?"
   ]
  },
  {
   "cell_type": "code",
   "execution_count": 76,
   "metadata": {},
   "outputs": [
    {
     "data": {
      "text/html": [
       "<ol class=list-inline>\n",
       "\t<li>Jimmy Buffett</li>\n",
       "\t<li>George Harrison</li>\n",
       "\t<li>Mick Jagger</li>\n",
       "\t<li>Tom Jones</li>\n",
       "\t<li>Davy Jones</li>\n",
       "\t<li>John Lennon</li>\n",
       "\t<li>Paul McCartney</li>\n",
       "\t<li>Jimmy Page</li>\n",
       "\t<li>Joe Perry</li>\n",
       "\t<li>Elvis Presley</li>\n",
       "\t<li>Keith Richards</li>\n",
       "\t<li>Paul Simon</li>\n",
       "\t<li>Ringo Starr</li>\n",
       "\t<li>Joe Walsh</li>\n",
       "\t<li>Brian Wilson</li>\n",
       "\t<li>Nancy Wilson</li>\n",
       "</ol>\n"
      ],
      "text/latex": [
       "\\begin{enumerate*}\n",
       "\\item Jimmy Buffett\n",
       "\\item George Harrison\n",
       "\\item Mick Jagger\n",
       "\\item Tom Jones\n",
       "\\item Davy Jones\n",
       "\\item John Lennon\n",
       "\\item Paul McCartney\n",
       "\\item Jimmy Page\n",
       "\\item Joe Perry\n",
       "\\item Elvis Presley\n",
       "\\item Keith Richards\n",
       "\\item Paul Simon\n",
       "\\item Ringo Starr\n",
       "\\item Joe Walsh\n",
       "\\item Brian Wilson\n",
       "\\item Nancy Wilson\n",
       "\\end{enumerate*}\n"
      ],
      "text/markdown": [
       "1. Jimmy Buffett\n",
       "2. George Harrison\n",
       "3. Mick Jagger\n",
       "4. Tom Jones\n",
       "5. Davy Jones\n",
       "6. John Lennon\n",
       "7. Paul McCartney\n",
       "8. Jimmy Page\n",
       "9. Joe Perry\n",
       "10. Elvis Presley\n",
       "11. Keith Richards\n",
       "12. Paul Simon\n",
       "13. Ringo Starr\n",
       "14. Joe Walsh\n",
       "15. Brian Wilson\n",
       "16. Nancy Wilson\n",
       "\n",
       "\n"
      ],
      "text/plain": [
       " [1] Jimmy Buffett   George Harrison Mick Jagger     Tom Jones      \n",
       " [5] Davy Jones      John Lennon     Paul McCartney  Jimmy Page     \n",
       " [9] Joe Perry       Elvis Presley   Keith Richards  Paul Simon     \n",
       "[13] Ringo Starr     Joe Walsh       Brian Wilson    Nancy Wilson   \n",
       "16 Levels: Brian Wilson Davy Jones Elvis Presley ... Tom Jones"
      ]
     },
     "metadata": {},
     "output_type": "display_data"
    },
    {
     "data": {
      "text/html": [
       "<ol class=list-inline>\n",
       "\t<li>John Bonham</li>\n",
       "\t<li>John Paul Jones</li>\n",
       "\t<li>Jimmy Page</li>\n",
       "\t<li>Robert Plant</li>\n",
       "\t<li>George Harrison</li>\n",
       "\t<li>John Lennon</li>\n",
       "\t<li>Paul McCartney</li>\n",
       "\t<li>Ringo Starr</li>\n",
       "\t<li>Jimmy Buffett</li>\n",
       "\t<li>Mick Jagger</li>\n",
       "\t<li>Keith Richards</li>\n",
       "\t<li>Charlie Watts</li>\n",
       "\t<li>Ronnie Wood</li>\n",
       "</ol>\n"
      ],
      "text/latex": [
       "\\begin{enumerate*}\n",
       "\\item John Bonham\n",
       "\\item John Paul Jones\n",
       "\\item Jimmy Page\n",
       "\\item Robert Plant\n",
       "\\item George Harrison\n",
       "\\item John Lennon\n",
       "\\item Paul McCartney\n",
       "\\item Ringo Starr\n",
       "\\item Jimmy Buffett\n",
       "\\item Mick Jagger\n",
       "\\item Keith Richards\n",
       "\\item Charlie Watts\n",
       "\\item Ronnie Wood\n",
       "\\end{enumerate*}\n"
      ],
      "text/markdown": [
       "1. John Bonham\n",
       "2. John Paul Jones\n",
       "3. Jimmy Page\n",
       "4. Robert Plant\n",
       "5. George Harrison\n",
       "6. John Lennon\n",
       "7. Paul McCartney\n",
       "8. Ringo Starr\n",
       "9. Jimmy Buffett\n",
       "10. Mick Jagger\n",
       "11. Keith Richards\n",
       "12. Charlie Watts\n",
       "13. Ronnie Wood\n",
       "\n",
       "\n"
      ],
      "text/plain": [
       " [1] John Bonham     John Paul Jones Jimmy Page      Robert Plant   \n",
       " [5] George Harrison John Lennon     Paul McCartney  Ringo Starr    \n",
       " [9] Jimmy Buffett   Mick Jagger     Keith Richards  Charlie Watts  \n",
       "[13] Ronnie Wood    \n",
       "13 Levels: Charlie Watts George Harrison Jimmy Buffett ... Ronnie Wood"
      ]
     },
     "metadata": {},
     "output_type": "display_data"
    },
    {
     "data": {
      "text/html": [
       "<ol class=list-inline>\n",
       "\t<li>John Lennon</li>\n",
       "\t<li>Steven Tyler</li>\n",
       "\t<li>Paul McCartney</li>\n",
       "\t<li>Tom Jones</li>\n",
       "</ol>\n"
      ],
      "text/latex": [
       "\\begin{enumerate*}\n",
       "\\item John Lennon\n",
       "\\item Steven Tyler\n",
       "\\item Paul McCartney\n",
       "\\item Tom Jones\n",
       "\\end{enumerate*}\n"
      ],
      "text/markdown": [
       "1. John Lennon\n",
       "2. Steven Tyler\n",
       "3. Paul McCartney\n",
       "4. Tom Jones\n",
       "\n",
       "\n"
      ],
      "text/plain": [
       "[1] John Lennon    Steven Tyler   Paul McCartney Tom Jones     \n",
       "Levels: John Lennon Paul McCartney Steven Tyler Tom Jones"
      ]
     },
     "metadata": {},
     "output_type": "display_data"
    }
   ],
   "source": [
    "# albums\n",
    "albums_df <- data.frame(\n",
    "    album = c(\"A Hard Day's Night\", \"Magical Mystery Tour\", \"Beggar's Banquet\",\n",
    "            \"Abbey Road\", \"Led Zeppelin IV\", \"The Dark Side of the Moon\",\n",
    "            \"Aerosmith\", \"Rumours\", \"Hotel California\"),\n",
    "    band = c(\"The Beatles\", \"The Beatles\", \"The Rolling Stones\",\n",
    "            \"The Beatles\", \"Led Zeppelin\", \"Pink Floyd\",\n",
    "            \"Aerosmith\", \"Fleetwood Mac\", \"Eagles\"),\n",
    "    year = c(1964, 1967, 1968, 1969, 1971, 1973, 1973, 1977, 1982))\n",
    "\n",
    "albums <- as_tibble(albums_df)\n",
    "\n",
    "# bands\n",
    "bands_df <- data.frame(\n",
    "    name = c(\"John Bonham\", \"John Paul Jones\", \"Jimmy Page\", \"Robert Plant\",\n",
    "            \"George Harrison\", \"John Lennon\", \"Paul McCartney\", \"Ringo Starr\",\n",
    "            \"Jimmy Buffett\", \"Mick Jagger\", \"Keith Richards\",\n",
    "            \"Charlie Watts\", \"Ronnie Wood\"),\n",
    "    band = c(\"Led Zeppelin\", \"Led Zeppelin\", \"Led Zeppelin\", \"Led Zeppelin\",\n",
    "            \"The Beatles\", \"The Beatles\", \"The Beatles\", \"The Beatles\",\n",
    "            \"The Coral Reefers\", \"The Rolling Stones\", \"The Rolling Stones\",\n",
    "            \"The Rolling Stones\", \"The Rolling Stones\"))\n",
    "\n",
    "bands <- as_tibble(bands_df)\n",
    "\n",
    "# songs\n",
    "songs_df <- data.frame(\n",
    "    song = c(\"Come Together\", \"Dream On\", \"Hello, Goodbye\", \"It's not Unusual\"),\n",
    "    album = c(\"Abbey Road\", \"Aerosmith\", \"Magical Mystery Tour\", \"Along Came Jones\"),\n",
    "    writer = c(\"John Lennon\", \"Steven Tyler\", \"Paul McCartney\", \"Tom Jones\"))\n",
    "\n",
    "songs <- as_tibble(songs_df)\n",
    "\n",
    " # Check the elements\n",
    "artists$name\n",
    "bands$name\n",
    "songs$writer"
   ]
  },
  {
   "cell_type": "markdown",
   "metadata": {},
   "source": [
    "### Multi-variable keys\n",
    "\n",
    "As Garrett mentioned in the video, sometimes no single variable acts as a primary key in a dataset. Instead, it takes a combination of variables to uniquely identify each row.\n",
    "\n",
    "For example, here is a modified version of the artists dataset that does not contain a names variable. What would be the primary \"key\" in this dataset?\n",
    "\n",
    "** The combination of first and last **"
   ]
  },
  {
   "cell_type": "code",
   "execution_count": 77,
   "metadata": {},
   "outputs": [
    {
     "data": {
      "text/html": [
       "16"
      ],
      "text/latex": [
       "16"
      ],
      "text/markdown": [
       "16"
      ],
      "text/plain": [
       "[1] 16"
      ]
     },
     "metadata": {},
     "output_type": "display_data"
    },
    {
     "data": {
      "text/html": [
       "13"
      ],
      "text/latex": [
       "13"
      ],
      "text/markdown": [
       "13"
      ],
      "text/plain": [
       "[1] 13"
      ]
     },
     "metadata": {},
     "output_type": "display_data"
    },
    {
     "data": {
      "text/html": [
       "14"
      ],
      "text/latex": [
       "14"
      ],
      "text/markdown": [
       "14"
      ],
      "text/plain": [
       "[1] 14"
      ]
     },
     "metadata": {},
     "output_type": "display_data"
    },
    {
     "data": {
      "text/html": [
       "4"
      ],
      "text/latex": [
       "4"
      ],
      "text/markdown": [
       "4"
      ],
      "text/plain": [
       "[1] 4"
      ]
     },
     "metadata": {},
     "output_type": "display_data"
    }
   ],
   "source": [
    "artists1 <- tidyr::separate(artists, col = name, into = c(\"first\", \"last\"), sep = \" \")\n",
    "\n",
    "nrow(artists1)\n",
    "length(unique(artists1$first))\n",
    "length(unique(artists1$last))\n",
    "length(unique(artists1$instrument))"
   ]
  },
  {
   "cell_type": "markdown",
   "metadata": {},
   "source": [
    "## Joins\n",
    "\n",
    "### left_join()\n",
    "\n",
    "* left_join(table to augment, table to augment with, by = key column name as a character string)\n",
    "* left_join treats the first dataset as the primary dataset.\n",
    "\n",
    "### right_join()\n",
    "\n",
    "* rgiht_join(table to augment, table to augment with, by = key column name as a character string)\n",
    "* right_join treats the second dataset as the primary dataset.\n",
    "\n",
    "### \"tables\"\n",
    "\n",
    "* data frames\n",
    "* tibbles(tbl_df)\n",
    "* tbl references\n",
    "\n",
    "### tibble vs. data frame\n",
    "\n",
    "* They are pretty much the same.\n",
    "* tibble makes it a bit easier to inspect a small portion of dataset."
   ]
  },
  {
   "cell_type": "markdown",
   "metadata": {},
   "source": [
    "### A basic join\n",
    "\n",
    "* Complete the code to join artists to bands. bands2 should contain all of the information in bands supplemented with information in artists.\n",
    "* Print bands2 to the console to see the result."
   ]
  },
  {
   "cell_type": "code",
   "execution_count": 78,
   "metadata": {},
   "outputs": [
    {
     "name": "stderr",
     "output_type": "stream",
     "text": [
      "Warning message:\n",
      "\"Too many values at 1 locations: 2\""
     ]
    },
    {
     "data": {
      "text/html": [
       "<table>\n",
       "<thead><tr><th scope=col>first</th><th scope=col>last</th><th scope=col>band</th><th scope=col>instrument</th></tr></thead>\n",
       "<tbody>\n",
       "\t<tr><td>John              </td><td>Bonham            </td><td>Led Zeppelin      </td><td>NA                </td></tr>\n",
       "\t<tr><td>John              </td><td>Paul              </td><td>Led Zeppelin      </td><td>NA                </td></tr>\n",
       "\t<tr><td>Jimmy             </td><td>Page              </td><td>Led Zeppelin      </td><td>Guitar            </td></tr>\n",
       "\t<tr><td>Robert            </td><td>Plant             </td><td>Led Zeppelin      </td><td>NA                </td></tr>\n",
       "\t<tr><td>George            </td><td>Harrison          </td><td>The Beatles       </td><td>Guitar            </td></tr>\n",
       "\t<tr><td>John              </td><td>Lennon            </td><td>The Beatles       </td><td>Guitar            </td></tr>\n",
       "\t<tr><td>Paul              </td><td>McCartney         </td><td>The Beatles       </td><td>Bass              </td></tr>\n",
       "\t<tr><td>Ringo             </td><td>Starr             </td><td>The Beatles       </td><td>Drums             </td></tr>\n",
       "\t<tr><td>Jimmy             </td><td>Buffett           </td><td>The Coral Reefers </td><td>Guitar            </td></tr>\n",
       "\t<tr><td>Mick              </td><td>Jagger            </td><td>The Rolling Stones</td><td>Vocals            </td></tr>\n",
       "\t<tr><td>Keith             </td><td>Richards          </td><td>The Rolling Stones</td><td>Guitar            </td></tr>\n",
       "\t<tr><td>Charlie           </td><td>Watts             </td><td>The Rolling Stones</td><td>NA                </td></tr>\n",
       "\t<tr><td>Ronnie            </td><td>Wood              </td><td>The Rolling Stones</td><td>NA                </td></tr>\n",
       "</tbody>\n",
       "</table>\n"
      ],
      "text/latex": [
       "\\begin{tabular}{r|llll}\n",
       " first & last & band & instrument\\\\\n",
       "\\hline\n",
       "\t John               & Bonham             & Led Zeppelin       & NA                \\\\\n",
       "\t John               & Paul               & Led Zeppelin       & NA                \\\\\n",
       "\t Jimmy              & Page               & Led Zeppelin       & Guitar            \\\\\n",
       "\t Robert             & Plant              & Led Zeppelin       & NA                \\\\\n",
       "\t George             & Harrison           & The Beatles        & Guitar            \\\\\n",
       "\t John               & Lennon             & The Beatles        & Guitar            \\\\\n",
       "\t Paul               & McCartney          & The Beatles        & Bass              \\\\\n",
       "\t Ringo              & Starr              & The Beatles        & Drums             \\\\\n",
       "\t Jimmy              & Buffett            & The Coral Reefers  & Guitar            \\\\\n",
       "\t Mick               & Jagger             & The Rolling Stones & Vocals            \\\\\n",
       "\t Keith              & Richards           & The Rolling Stones & Guitar            \\\\\n",
       "\t Charlie            & Watts              & The Rolling Stones & NA                \\\\\n",
       "\t Ronnie             & Wood               & The Rolling Stones & NA                \\\\\n",
       "\\end{tabular}\n"
      ],
      "text/markdown": [
       "\n",
       "first | last | band | instrument | \n",
       "|---|---|---|---|---|---|---|---|---|---|---|---|---|\n",
       "| John               | Bonham             | Led Zeppelin       | NA                 | \n",
       "| John               | Paul               | Led Zeppelin       | NA                 | \n",
       "| Jimmy              | Page               | Led Zeppelin       | Guitar             | \n",
       "| Robert             | Plant              | Led Zeppelin       | NA                 | \n",
       "| George             | Harrison           | The Beatles        | Guitar             | \n",
       "| John               | Lennon             | The Beatles        | Guitar             | \n",
       "| Paul               | McCartney          | The Beatles        | Bass               | \n",
       "| Ringo              | Starr              | The Beatles        | Drums              | \n",
       "| Jimmy              | Buffett            | The Coral Reefers  | Guitar             | \n",
       "| Mick               | Jagger             | The Rolling Stones | Vocals             | \n",
       "| Keith              | Richards           | The Rolling Stones | Guitar             | \n",
       "| Charlie            | Watts              | The Rolling Stones | NA                 | \n",
       "| Ronnie             | Wood               | The Rolling Stones | NA                 | \n",
       "\n",
       "\n"
      ],
      "text/plain": [
       "   first   last      band               instrument\n",
       "1  John    Bonham    Led Zeppelin       NA        \n",
       "2  John    Paul      Led Zeppelin       NA        \n",
       "3  Jimmy   Page      Led Zeppelin       Guitar    \n",
       "4  Robert  Plant     Led Zeppelin       NA        \n",
       "5  George  Harrison  The Beatles        Guitar    \n",
       "6  John    Lennon    The Beatles        Guitar    \n",
       "7  Paul    McCartney The Beatles        Bass      \n",
       "8  Ringo   Starr     The Beatles        Drums     \n",
       "9  Jimmy   Buffett   The Coral Reefers  Guitar    \n",
       "10 Mick    Jagger    The Rolling Stones Vocals    \n",
       "11 Keith   Richards  The Rolling Stones Guitar    \n",
       "12 Charlie Watts     The Rolling Stones NA        \n",
       "13 Ronnie  Wood      The Rolling Stones NA        "
      ]
     },
     "metadata": {},
     "output_type": "display_data"
    }
   ],
   "source": [
    "artists1 <- tidyr::separate(artists, col = name,\n",
    "                            into = c(\"first\", \"last\"), sep = \" \")\n",
    "bands1   <- tidyr::separate(bands, col = name,\n",
    "                            into = c(\"first\", \"last\"), sep = \" \")\n",
    "\n",
    "bands2   <- left_join(bands1, artists1, by = c(\"first\", \"last\"))\n",
    "bands2"
   ]
  },
  {
   "cell_type": "markdown",
   "metadata": {},
   "source": [
    "### A second join\n",
    "\n",
    "The result from the previous exercise, bands2, is loaded in your workspace.\n",
    "\n",
    "* Examine the output from the code provided in the editor. How is it different from bands2?\n",
    "* Fix the code so that the result is identical to bands2."
   ]
  },
  {
   "cell_type": "code",
   "execution_count": 79,
   "metadata": {},
   "outputs": [
    {
     "data": {
      "text/html": [
       "<table>\n",
       "<thead><tr><th scope=col>first</th><th scope=col>last</th><th scope=col>band</th><th scope=col>instrument</th></tr></thead>\n",
       "<tbody>\n",
       "\t<tr><td>John              </td><td>Bonham            </td><td>Led Zeppelin      </td><td>NA                </td></tr>\n",
       "\t<tr><td>John              </td><td>Paul              </td><td>Led Zeppelin      </td><td>NA                </td></tr>\n",
       "\t<tr><td>Jimmy             </td><td>Page              </td><td>Led Zeppelin      </td><td>Guitar            </td></tr>\n",
       "\t<tr><td>Robert            </td><td>Plant             </td><td>Led Zeppelin      </td><td>NA                </td></tr>\n",
       "\t<tr><td>George            </td><td>Harrison          </td><td>The Beatles       </td><td>Guitar            </td></tr>\n",
       "\t<tr><td>John              </td><td>Lennon            </td><td>The Beatles       </td><td>Guitar            </td></tr>\n",
       "\t<tr><td>Paul              </td><td>McCartney         </td><td>The Beatles       </td><td>Bass              </td></tr>\n",
       "\t<tr><td>Ringo             </td><td>Starr             </td><td>The Beatles       </td><td>Drums             </td></tr>\n",
       "\t<tr><td>Jimmy             </td><td>Buffett           </td><td>The Coral Reefers </td><td>Guitar            </td></tr>\n",
       "\t<tr><td>Mick              </td><td>Jagger            </td><td>The Rolling Stones</td><td>Vocals            </td></tr>\n",
       "\t<tr><td>Keith             </td><td>Richards          </td><td>The Rolling Stones</td><td>Guitar            </td></tr>\n",
       "\t<tr><td>Charlie           </td><td>Watts             </td><td>The Rolling Stones</td><td>NA                </td></tr>\n",
       "\t<tr><td>Ronnie            </td><td>Wood              </td><td>The Rolling Stones</td><td>NA                </td></tr>\n",
       "</tbody>\n",
       "</table>\n"
      ],
      "text/latex": [
       "\\begin{tabular}{r|llll}\n",
       " first & last & band & instrument\\\\\n",
       "\\hline\n",
       "\t John               & Bonham             & Led Zeppelin       & NA                \\\\\n",
       "\t John               & Paul               & Led Zeppelin       & NA                \\\\\n",
       "\t Jimmy              & Page               & Led Zeppelin       & Guitar            \\\\\n",
       "\t Robert             & Plant              & Led Zeppelin       & NA                \\\\\n",
       "\t George             & Harrison           & The Beatles        & Guitar            \\\\\n",
       "\t John               & Lennon             & The Beatles        & Guitar            \\\\\n",
       "\t Paul               & McCartney          & The Beatles        & Bass              \\\\\n",
       "\t Ringo              & Starr              & The Beatles        & Drums             \\\\\n",
       "\t Jimmy              & Buffett            & The Coral Reefers  & Guitar            \\\\\n",
       "\t Mick               & Jagger             & The Rolling Stones & Vocals            \\\\\n",
       "\t Keith              & Richards           & The Rolling Stones & Guitar            \\\\\n",
       "\t Charlie            & Watts              & The Rolling Stones & NA                \\\\\n",
       "\t Ronnie             & Wood               & The Rolling Stones & NA                \\\\\n",
       "\\end{tabular}\n"
      ],
      "text/markdown": [
       "\n",
       "first | last | band | instrument | \n",
       "|---|---|---|---|---|---|---|---|---|---|---|---|---|\n",
       "| John               | Bonham             | Led Zeppelin       | NA                 | \n",
       "| John               | Paul               | Led Zeppelin       | NA                 | \n",
       "| Jimmy              | Page               | Led Zeppelin       | Guitar             | \n",
       "| Robert             | Plant              | Led Zeppelin       | NA                 | \n",
       "| George             | Harrison           | The Beatles        | Guitar             | \n",
       "| John               | Lennon             | The Beatles        | Guitar             | \n",
       "| Paul               | McCartney          | The Beatles        | Bass               | \n",
       "| Ringo              | Starr              | The Beatles        | Drums              | \n",
       "| Jimmy              | Buffett            | The Coral Reefers  | Guitar             | \n",
       "| Mick               | Jagger             | The Rolling Stones | Vocals             | \n",
       "| Keith              | Richards           | The Rolling Stones | Guitar             | \n",
       "| Charlie            | Watts              | The Rolling Stones | NA                 | \n",
       "| Ronnie             | Wood               | The Rolling Stones | NA                 | \n",
       "\n",
       "\n"
      ],
      "text/plain": [
       "   first   last      band               instrument\n",
       "1  John    Bonham    Led Zeppelin       NA        \n",
       "2  John    Paul      Led Zeppelin       NA        \n",
       "3  Jimmy   Page      Led Zeppelin       Guitar    \n",
       "4  Robert  Plant     Led Zeppelin       NA        \n",
       "5  George  Harrison  The Beatles        Guitar    \n",
       "6  John    Lennon    The Beatles        Guitar    \n",
       "7  Paul    McCartney The Beatles        Bass      \n",
       "8  Ringo   Starr     The Beatles        Drums     \n",
       "9  Jimmy   Buffett   The Coral Reefers  Guitar    \n",
       "10 Mick    Jagger    The Rolling Stones Vocals    \n",
       "11 Keith   Richards  The Rolling Stones Guitar    \n",
       "12 Charlie Watts     The Rolling Stones NA        \n",
       "13 Ronnie  Wood      The Rolling Stones NA        "
      ]
     },
     "metadata": {},
     "output_type": "display_data"
    }
   ],
   "source": [
    "# Fix the code to recreate bands2\n",
    "# left_join(bands1, artists1, by = \"first\")\n",
    "left_join(bands1, artists1, by = c(\"first\", \"last\"))"
   ]
  },
  {
   "cell_type": "markdown",
   "metadata": {},
   "source": [
    "### A right join\n",
    "\n",
    "* Use right_join() to create bands3, a new dataset that contains the same information as bands2.\n",
    "* Use setequal() to check that the datasets are the same."
   ]
  },
  {
   "cell_type": "code",
   "execution_count": 80,
   "metadata": {},
   "outputs": [
    {
     "data": {
      "text/plain": [
       "TRUE"
      ]
     },
     "metadata": {},
     "output_type": "display_data"
    }
   ],
   "source": [
    "# Finish the code below to recreate bands3 with a right join\n",
    "bands2 <- left_join(bands1, artists1, by = c(\"first\", \"last\"))\n",
    "bands3 <- right_join(artists1, bands1, by = c(\"first\", \"last\"))\n",
    "\n",
    "# Check that bands3 is equal to bands2\n",
    "setequal(bands2, bands3)"
   ]
  },
  {
   "cell_type": "markdown",
   "metadata": {},
   "source": [
    "## Variations on joins\n",
    "\n",
    "### Mutating joins\n",
    "\n",
    "* mutate()\n",
    "* left_join()\n",
    "* right_join()\n",
    "* inner_join(): Returns only the rows from the first dataset that have a match in the second dataset. It's the most exclusive join because every row in the result must appear in both datasets.\n",
    "* full_join(): Returns every row in either dataset. It's the most inclusive join because it returns all of the information in the original tables.\n",
    "\n",
    "### Syntax\n",
    "\n",
    "```\n",
    "left_join(x, y, by = )\n",
    "right_join(x, y, by = )\n",
    "inner_join(x, y, by = )\n",
    "full_join(x, y, by = )\n",
    "```\n",
    "\n",
    "* join functions are natual candidates for writing pipes with the pipe operator(%>%)\n",
    "\n",
    "### Pipe operator\n",
    "\n",
    "It takes the result on its left-hand side and passes it into the function on its right-hand side.\n",
    "\n",
    "```\n",
    "x <- 1:10\n",
    "\n",
    "x %>% sum()\n",
    "```\n",
    "\n",
    "### dplyr and pipes\n",
    "\n",
    "```\n",
    "names %>%\n",
    "    full_join(plays, by = \"name) %>%\n",
    "    mutate(missing_info = is.na(band) | is.na(plays)) %>%\n",
    "    filter(missing_info = TRUE) %>%\n",
    "    select(name, band, plays)\n",
    "```\n",
    "\n",
    "### Summary\n",
    "\n",
    "* left_join(): prioritizes the first dataset\n",
    "* right_join(): prioritizes the second dataset\n",
    "* inner_join(): only retains rows that appear in both datasets\n",
    "* full_join(): retains every row that appears in any dataset"
   ]
  },
  {
   "cell_type": "markdown",
   "metadata": {},
   "source": [
    "### Inner joins and full joins\n",
    "\n",
    "* Join albums to songs in a way that returns only rows that contain information about both songs and albums.\n",
    "* Join bands to artists to create a single table that contains all of the available data."
   ]
  },
  {
   "cell_type": "code",
   "execution_count": 81,
   "metadata": {},
   "outputs": [],
   "source": [
    "songs1 <- tidyr::separate(songs, col = writer,\n",
    "                          into = c(\"first\", \"last\"), sep = \" \")"
   ]
  },
  {
   "cell_type": "code",
   "execution_count": 82,
   "metadata": {},
   "outputs": [
    {
     "name": "stderr",
     "output_type": "stream",
     "text": [
      "Warning message:\n",
      "\"Column `album` joining factors with different levels, coercing to character vector\""
     ]
    },
    {
     "data": {
      "text/html": [
       "<table>\n",
       "<thead><tr><th scope=col>song</th><th scope=col>album</th><th scope=col>first</th><th scope=col>last</th><th scope=col>band</th><th scope=col>year</th></tr></thead>\n",
       "<tbody>\n",
       "\t<tr><td>Come Together       </td><td>Abbey Road          </td><td>John                </td><td>Lennon              </td><td>The Beatles         </td><td>1969                </td></tr>\n",
       "\t<tr><td>Dream On            </td><td>Aerosmith           </td><td>Steven              </td><td>Tyler               </td><td>Aerosmith           </td><td>1973                </td></tr>\n",
       "\t<tr><td>Hello, Goodbye      </td><td>Magical Mystery Tour</td><td>Paul                </td><td>McCartney           </td><td>The Beatles         </td><td>1967                </td></tr>\n",
       "</tbody>\n",
       "</table>\n"
      ],
      "text/latex": [
       "\\begin{tabular}{r|llllll}\n",
       " song & album & first & last & band & year\\\\\n",
       "\\hline\n",
       "\t Come Together        & Abbey Road           & John                 & Lennon               & The Beatles          & 1969                \\\\\n",
       "\t Dream On             & Aerosmith            & Steven               & Tyler                & Aerosmith            & 1973                \\\\\n",
       "\t Hello, Goodbye       & Magical Mystery Tour & Paul                 & McCartney            & The Beatles          & 1967                \\\\\n",
       "\\end{tabular}\n"
      ],
      "text/markdown": [
       "\n",
       "song | album | first | last | band | year | \n",
       "|---|---|---|\n",
       "| Come Together        | Abbey Road           | John                 | Lennon               | The Beatles          | 1969                 | \n",
       "| Dream On             | Aerosmith            | Steven               | Tyler                | Aerosmith            | 1973                 | \n",
       "| Hello, Goodbye       | Magical Mystery Tour | Paul                 | McCartney            | The Beatles          | 1967                 | \n",
       "\n",
       "\n"
      ],
      "text/plain": [
       "  song           album                first  last      band        year\n",
       "1 Come Together  Abbey Road           John   Lennon    The Beatles 1969\n",
       "2 Dream On       Aerosmith            Steven Tyler     Aerosmith   1973\n",
       "3 Hello, Goodbye Magical Mystery Tour Paul   McCartney The Beatles 1967"
      ]
     },
     "metadata": {},
     "output_type": "display_data"
    },
    {
     "data": {
      "text/html": [
       "<table>\n",
       "<thead><tr><th scope=col>first</th><th scope=col>last</th><th scope=col>instrument</th><th scope=col>band</th></tr></thead>\n",
       "<tbody>\n",
       "\t<tr><td>Jimmy             </td><td>Buffett           </td><td>Guitar            </td><td>The Coral Reefers </td></tr>\n",
       "\t<tr><td>George            </td><td>Harrison          </td><td>Guitar            </td><td>The Beatles       </td></tr>\n",
       "\t<tr><td>Mick              </td><td>Jagger            </td><td>Vocals            </td><td>The Rolling Stones</td></tr>\n",
       "\t<tr><td>Tom               </td><td>Jones             </td><td>Vocals            </td><td>NA                </td></tr>\n",
       "\t<tr><td>Davy              </td><td>Jones             </td><td>Vocals            </td><td>NA                </td></tr>\n",
       "\t<tr><td>John              </td><td>Lennon            </td><td>Guitar            </td><td>The Beatles       </td></tr>\n",
       "\t<tr><td>Paul              </td><td>McCartney         </td><td>Bass              </td><td>The Beatles       </td></tr>\n",
       "\t<tr><td>Jimmy             </td><td>Page              </td><td>Guitar            </td><td>Led Zeppelin      </td></tr>\n",
       "\t<tr><td>Joe               </td><td>Perry             </td><td>Guitar            </td><td>NA                </td></tr>\n",
       "\t<tr><td>Elvis             </td><td>Presley           </td><td>Vocals            </td><td>NA                </td></tr>\n",
       "\t<tr><td>Keith             </td><td>Richards          </td><td>Guitar            </td><td>The Rolling Stones</td></tr>\n",
       "\t<tr><td>Paul              </td><td>Simon             </td><td>Guitar            </td><td>NA                </td></tr>\n",
       "\t<tr><td>Ringo             </td><td>Starr             </td><td>Drums             </td><td>The Beatles       </td></tr>\n",
       "\t<tr><td>Joe               </td><td>Walsh             </td><td>Guitar            </td><td>NA                </td></tr>\n",
       "\t<tr><td>Brian             </td><td>Wilson            </td><td>Vocals            </td><td>NA                </td></tr>\n",
       "\t<tr><td>Nancy             </td><td>Wilson            </td><td>Vocals            </td><td>NA                </td></tr>\n",
       "\t<tr><td>John              </td><td>Bonham            </td><td>NA                </td><td>Led Zeppelin      </td></tr>\n",
       "\t<tr><td>John              </td><td>Paul              </td><td>NA                </td><td>Led Zeppelin      </td></tr>\n",
       "\t<tr><td>Robert            </td><td>Plant             </td><td>NA                </td><td>Led Zeppelin      </td></tr>\n",
       "\t<tr><td>Charlie           </td><td>Watts             </td><td>NA                </td><td>The Rolling Stones</td></tr>\n",
       "\t<tr><td>Ronnie            </td><td>Wood              </td><td>NA                </td><td>The Rolling Stones</td></tr>\n",
       "</tbody>\n",
       "</table>\n"
      ],
      "text/latex": [
       "\\begin{tabular}{r|llll}\n",
       " first & last & instrument & band\\\\\n",
       "\\hline\n",
       "\t Jimmy              & Buffett            & Guitar             & The Coral Reefers \\\\\n",
       "\t George             & Harrison           & Guitar             & The Beatles       \\\\\n",
       "\t Mick               & Jagger             & Vocals             & The Rolling Stones\\\\\n",
       "\t Tom                & Jones              & Vocals             & NA                \\\\\n",
       "\t Davy               & Jones              & Vocals             & NA                \\\\\n",
       "\t John               & Lennon             & Guitar             & The Beatles       \\\\\n",
       "\t Paul               & McCartney          & Bass               & The Beatles       \\\\\n",
       "\t Jimmy              & Page               & Guitar             & Led Zeppelin      \\\\\n",
       "\t Joe                & Perry              & Guitar             & NA                \\\\\n",
       "\t Elvis              & Presley            & Vocals             & NA                \\\\\n",
       "\t Keith              & Richards           & Guitar             & The Rolling Stones\\\\\n",
       "\t Paul               & Simon              & Guitar             & NA                \\\\\n",
       "\t Ringo              & Starr              & Drums              & The Beatles       \\\\\n",
       "\t Joe                & Walsh              & Guitar             & NA                \\\\\n",
       "\t Brian              & Wilson             & Vocals             & NA                \\\\\n",
       "\t Nancy              & Wilson             & Vocals             & NA                \\\\\n",
       "\t John               & Bonham             & NA                 & Led Zeppelin      \\\\\n",
       "\t John               & Paul               & NA                 & Led Zeppelin      \\\\\n",
       "\t Robert             & Plant              & NA                 & Led Zeppelin      \\\\\n",
       "\t Charlie            & Watts              & NA                 & The Rolling Stones\\\\\n",
       "\t Ronnie             & Wood               & NA                 & The Rolling Stones\\\\\n",
       "\\end{tabular}\n"
      ],
      "text/markdown": [
       "\n",
       "first | last | instrument | band | \n",
       "|---|---|---|---|---|---|---|---|---|---|---|---|---|---|---|---|---|---|---|---|---|\n",
       "| Jimmy              | Buffett            | Guitar             | The Coral Reefers  | \n",
       "| George             | Harrison           | Guitar             | The Beatles        | \n",
       "| Mick               | Jagger             | Vocals             | The Rolling Stones | \n",
       "| Tom                | Jones              | Vocals             | NA                 | \n",
       "| Davy               | Jones              | Vocals             | NA                 | \n",
       "| John               | Lennon             | Guitar             | The Beatles        | \n",
       "| Paul               | McCartney          | Bass               | The Beatles        | \n",
       "| Jimmy              | Page               | Guitar             | Led Zeppelin       | \n",
       "| Joe                | Perry              | Guitar             | NA                 | \n",
       "| Elvis              | Presley            | Vocals             | NA                 | \n",
       "| Keith              | Richards           | Guitar             | The Rolling Stones | \n",
       "| Paul               | Simon              | Guitar             | NA                 | \n",
       "| Ringo              | Starr              | Drums              | The Beatles        | \n",
       "| Joe                | Walsh              | Guitar             | NA                 | \n",
       "| Brian              | Wilson             | Vocals             | NA                 | \n",
       "| Nancy              | Wilson             | Vocals             | NA                 | \n",
       "| John               | Bonham             | NA                 | Led Zeppelin       | \n",
       "| John               | Paul               | NA                 | Led Zeppelin       | \n",
       "| Robert             | Plant              | NA                 | Led Zeppelin       | \n",
       "| Charlie            | Watts              | NA                 | The Rolling Stones | \n",
       "| Ronnie             | Wood               | NA                 | The Rolling Stones | \n",
       "\n",
       "\n"
      ],
      "text/plain": [
       "   first   last      instrument band              \n",
       "1  Jimmy   Buffett   Guitar     The Coral Reefers \n",
       "2  George  Harrison  Guitar     The Beatles       \n",
       "3  Mick    Jagger    Vocals     The Rolling Stones\n",
       "4  Tom     Jones     Vocals     NA                \n",
       "5  Davy    Jones     Vocals     NA                \n",
       "6  John    Lennon    Guitar     The Beatles       \n",
       "7  Paul    McCartney Bass       The Beatles       \n",
       "8  Jimmy   Page      Guitar     Led Zeppelin      \n",
       "9  Joe     Perry     Guitar     NA                \n",
       "10 Elvis   Presley   Vocals     NA                \n",
       "11 Keith   Richards  Guitar     The Rolling Stones\n",
       "12 Paul    Simon     Guitar     NA                \n",
       "13 Ringo   Starr     Drums      The Beatles       \n",
       "14 Joe     Walsh     Guitar     NA                \n",
       "15 Brian   Wilson    Vocals     NA                \n",
       "16 Nancy   Wilson    Vocals     NA                \n",
       "17 John    Bonham    NA         Led Zeppelin      \n",
       "18 John    Paul      NA         Led Zeppelin      \n",
       "19 Robert  Plant     NA         Led Zeppelin      \n",
       "20 Charlie Watts     NA         The Rolling Stones\n",
       "21 Ronnie  Wood      NA         The Rolling Stones"
      ]
     },
     "metadata": {},
     "output_type": "display_data"
    }
   ],
   "source": [
    "# Join albums to songs using inner_join()\n",
    "inner_join(songs1, albums, by = \"album\")\n",
    "\n",
    "# Join bands to artists using full_join()\n",
    "full_join(artists1, bands1, by = c(\"first\", \"last\"))"
   ]
  },
  {
   "cell_type": "markdown",
   "metadata": {},
   "source": [
    "### Pipes\n",
    "\n",
    "The code in the editor finds all of the known guitarists in the bands dataset. Rewrite the code to use %>%s instead of multiple function calls. The pipe %>% should be used three times and temp zero times."
   ]
  },
  {
   "cell_type": "code",
   "execution_count": 83,
   "metadata": {},
   "outputs": [
    {
     "data": {
      "text/html": [
       "<table>\n",
       "<thead><tr><th scope=col>first</th><th scope=col>last</th><th scope=col>band</th></tr></thead>\n",
       "<tbody>\n",
       "\t<tr><td>Jimmy             </td><td>Page              </td><td>Led Zeppelin      </td></tr>\n",
       "\t<tr><td>George            </td><td>Harrison          </td><td>The Beatles       </td></tr>\n",
       "\t<tr><td>John              </td><td>Lennon            </td><td>The Beatles       </td></tr>\n",
       "\t<tr><td>Jimmy             </td><td>Buffett           </td><td>The Coral Reefers </td></tr>\n",
       "\t<tr><td>Keith             </td><td>Richards          </td><td>The Rolling Stones</td></tr>\n",
       "</tbody>\n",
       "</table>\n"
      ],
      "text/latex": [
       "\\begin{tabular}{r|lll}\n",
       " first & last & band\\\\\n",
       "\\hline\n",
       "\t Jimmy              & Page               & Led Zeppelin      \\\\\n",
       "\t George             & Harrison           & The Beatles       \\\\\n",
       "\t John               & Lennon             & The Beatles       \\\\\n",
       "\t Jimmy              & Buffett            & The Coral Reefers \\\\\n",
       "\t Keith              & Richards           & The Rolling Stones\\\\\n",
       "\\end{tabular}\n"
      ],
      "text/markdown": [
       "\n",
       "first | last | band | \n",
       "|---|---|---|---|---|\n",
       "| Jimmy              | Page               | Led Zeppelin       | \n",
       "| George             | Harrison           | The Beatles        | \n",
       "| John               | Lennon             | The Beatles        | \n",
       "| Jimmy              | Buffett            | The Coral Reefers  | \n",
       "| Keith              | Richards           | The Rolling Stones | \n",
       "\n",
       "\n"
      ],
      "text/plain": [
       "  first  last     band              \n",
       "1 Jimmy  Page     Led Zeppelin      \n",
       "2 George Harrison The Beatles       \n",
       "3 John   Lennon   The Beatles       \n",
       "4 Jimmy  Buffett  The Coral Reefers \n",
       "5 Keith  Richards The Rolling Stones"
      ]
     },
     "metadata": {},
     "output_type": "display_data"
    }
   ],
   "source": [
    "# Find guitarists in bands dataset (don't change)\n",
    "temp <- left_join(bands1, artists1, by = c(\"first\", \"last\"))\n",
    "temp <- filter(temp, instrument == \"Guitar\")\n",
    "select(temp, first, last, band)"
   ]
  },
  {
   "cell_type": "code",
   "execution_count": 84,
   "metadata": {},
   "outputs": [
    {
     "data": {
      "text/html": [
       "<table>\n",
       "<thead><tr><th scope=col>first</th><th scope=col>last</th><th scope=col>band</th></tr></thead>\n",
       "<tbody>\n",
       "\t<tr><td>Jimmy             </td><td>Page              </td><td>Led Zeppelin      </td></tr>\n",
       "\t<tr><td>George            </td><td>Harrison          </td><td>The Beatles       </td></tr>\n",
       "\t<tr><td>John              </td><td>Lennon            </td><td>The Beatles       </td></tr>\n",
       "\t<tr><td>Jimmy             </td><td>Buffett           </td><td>The Coral Reefers </td></tr>\n",
       "\t<tr><td>Keith             </td><td>Richards          </td><td>The Rolling Stones</td></tr>\n",
       "</tbody>\n",
       "</table>\n"
      ],
      "text/latex": [
       "\\begin{tabular}{r|lll}\n",
       " first & last & band\\\\\n",
       "\\hline\n",
       "\t Jimmy              & Page               & Led Zeppelin      \\\\\n",
       "\t George             & Harrison           & The Beatles       \\\\\n",
       "\t John               & Lennon             & The Beatles       \\\\\n",
       "\t Jimmy              & Buffett            & The Coral Reefers \\\\\n",
       "\t Keith              & Richards           & The Rolling Stones\\\\\n",
       "\\end{tabular}\n"
      ],
      "text/markdown": [
       "\n",
       "first | last | band | \n",
       "|---|---|---|---|---|\n",
       "| Jimmy              | Page               | Led Zeppelin       | \n",
       "| George             | Harrison           | The Beatles        | \n",
       "| John               | Lennon             | The Beatles        | \n",
       "| Jimmy              | Buffett            | The Coral Reefers  | \n",
       "| Keith              | Richards           | The Rolling Stones | \n",
       "\n",
       "\n"
      ],
      "text/plain": [
       "  first  last     band              \n",
       "1 Jimmy  Page     Led Zeppelin      \n",
       "2 George Harrison The Beatles       \n",
       "3 John   Lennon   The Beatles       \n",
       "4 Jimmy  Buffett  The Coral Reefers \n",
       "5 Keith  Richards The Rolling Stones"
      ]
     },
     "metadata": {},
     "output_type": "display_data"
    }
   ],
   "source": [
    "# Reproduce code above using pipes\n",
    "bands1 %>%\n",
    "    left_join(artists1, by = c(\"first\", \"last\")) %>%\n",
    "    filter(instrument == \"Guitar\") %>%\n",
    "    select(first, last, band)"
   ]
  },
  {
   "cell_type": "markdown",
   "metadata": {},
   "source": [
    "### Practice with pipes and joins\n",
    "\n",
    "* Examine the goal dataset by printing it to the console.\n",
    "* Write a pipe that uses a full join and an inner join to combine artists, bands, and songs into goal2, a dataset identical to goal.\n",
    "* Use setequal() to check that goal is identical to goal2."
   ]
  },
  {
   "cell_type": "code",
   "execution_count": 85,
   "metadata": {},
   "outputs": [],
   "source": [
    "goal <- as_tibble(data.frame(\n",
    "    first = c(\"Tom\", \"John\", \"Paul\"),\n",
    "    last = c(\"Jones\", \"Lennon\", \"McCartney\"),\n",
    "    instrument = c(\"Vocals\", \"Guitar\", \"Bass\"),\n",
    "    band = c(NA, \"The Beatles\", \"The Beatles\"),\n",
    "    song = c(\"It's Not Unusual\", \"Come Together\", \"Hello, Goodbye\"),\n",
    "    album = c(\"Along Came Jones\", \"Abbey Road\", \"Magical Mystery Tour\")))"
   ]
  },
  {
   "cell_type": "code",
   "execution_count": 86,
   "metadata": {},
   "outputs": [
    {
     "data": {
      "text/html": [
       "<table>\n",
       "<thead><tr><th scope=col>first</th><th scope=col>last</th><th scope=col>instrument</th><th scope=col>band</th><th scope=col>song</th><th scope=col>album</th></tr></thead>\n",
       "<tbody>\n",
       "\t<tr><td>Tom                 </td><td>Jones               </td><td>Vocals              </td><td>NA                  </td><td>It's Not Unusual    </td><td>Along Came Jones    </td></tr>\n",
       "\t<tr><td>John                </td><td>Lennon              </td><td>Guitar              </td><td>The Beatles         </td><td>Come Together       </td><td>Abbey Road          </td></tr>\n",
       "\t<tr><td>Paul                </td><td>McCartney           </td><td>Bass                </td><td>The Beatles         </td><td>Hello, Goodbye      </td><td>Magical Mystery Tour</td></tr>\n",
       "</tbody>\n",
       "</table>\n"
      ],
      "text/latex": [
       "\\begin{tabular}{r|llllll}\n",
       " first & last & instrument & band & song & album\\\\\n",
       "\\hline\n",
       "\t Tom                  & Jones                & Vocals               & NA                   & It's Not Unusual     & Along Came Jones    \\\\\n",
       "\t John                 & Lennon               & Guitar               & The Beatles          & Come Together        & Abbey Road          \\\\\n",
       "\t Paul                 & McCartney            & Bass                 & The Beatles          & Hello, Goodbye       & Magical Mystery Tour\\\\\n",
       "\\end{tabular}\n"
      ],
      "text/markdown": [
       "\n",
       "first | last | instrument | band | song | album | \n",
       "|---|---|---|\n",
       "| Tom                  | Jones                | Vocals               | NA                   | It's Not Unusual     | Along Came Jones     | \n",
       "| John                 | Lennon               | Guitar               | The Beatles          | Come Together        | Abbey Road           | \n",
       "| Paul                 | McCartney            | Bass                 | The Beatles          | Hello, Goodbye       | Magical Mystery Tour | \n",
       "\n",
       "\n"
      ],
      "text/plain": [
       "  first last      instrument band        song             album               \n",
       "1 Tom   Jones     Vocals     NA          It's Not Unusual Along Came Jones    \n",
       "2 John  Lennon    Guitar     The Beatles Come Together    Abbey Road          \n",
       "3 Paul  McCartney Bass       The Beatles Hello, Goodbye   Magical Mystery Tour"
      ]
     },
     "metadata": {},
     "output_type": "display_data"
    }
   ],
   "source": [
    "goal"
   ]
  },
  {
   "cell_type": "code",
   "execution_count": 87,
   "metadata": {},
   "outputs": [
    {
     "data": {
      "text/html": [
       "<table>\n",
       "<thead><tr><th scope=col>first</th><th scope=col>last</th><th scope=col>instrument</th><th scope=col>band</th><th scope=col>song</th><th scope=col>album</th></tr></thead>\n",
       "<tbody>\n",
       "\t<tr><td>Tom                 </td><td>Jones               </td><td>Vocals              </td><td>NA                  </td><td>It's not Unusual    </td><td>Along Came Jones    </td></tr>\n",
       "\t<tr><td>John                </td><td>Lennon              </td><td>Guitar              </td><td>The Beatles         </td><td>Come Together       </td><td>Abbey Road          </td></tr>\n",
       "\t<tr><td>Paul                </td><td>McCartney           </td><td>Bass                </td><td>The Beatles         </td><td>Hello, Goodbye      </td><td>Magical Mystery Tour</td></tr>\n",
       "</tbody>\n",
       "</table>\n"
      ],
      "text/latex": [
       "\\begin{tabular}{r|llllll}\n",
       " first & last & instrument & band & song & album\\\\\n",
       "\\hline\n",
       "\t Tom                  & Jones                & Vocals               & NA                   & It's not Unusual     & Along Came Jones    \\\\\n",
       "\t John                 & Lennon               & Guitar               & The Beatles          & Come Together        & Abbey Road          \\\\\n",
       "\t Paul                 & McCartney            & Bass                 & The Beatles          & Hello, Goodbye       & Magical Mystery Tour\\\\\n",
       "\\end{tabular}\n"
      ],
      "text/markdown": [
       "\n",
       "first | last | instrument | band | song | album | \n",
       "|---|---|---|\n",
       "| Tom                  | Jones                | Vocals               | NA                   | It's not Unusual     | Along Came Jones     | \n",
       "| John                 | Lennon               | Guitar               | The Beatles          | Come Together        | Abbey Road           | \n",
       "| Paul                 | McCartney            | Bass                 | The Beatles          | Hello, Goodbye       | Magical Mystery Tour | \n",
       "\n",
       "\n"
      ],
      "text/plain": [
       "  first last      instrument band        song             album               \n",
       "1 Tom   Jones     Vocals     NA          It's not Unusual Along Came Jones    \n",
       "2 John  Lennon    Guitar     The Beatles Come Together    Abbey Road          \n",
       "3 Paul  McCartney Bass       The Beatles Hello, Goodbye   Magical Mystery Tour"
      ]
     },
     "metadata": {},
     "output_type": "display_data"
    }
   ],
   "source": [
    "artists1 %>%\n",
    "    full_join(bands1, by = c(\"first\", \"last\")) %>%\n",
    "    inner_join(songs1, by = c(\"first\", \"last\"))"
   ]
  },
  {
   "cell_type": "markdown",
   "metadata": {},
   "source": [
    "### Choose your joins\n",
    "\n",
    "Write a pipe that combines artists, bands, songs, and albums (in that order) into a single table, such that it contains all of the information in the datasets."
   ]
  },
  {
   "cell_type": "code",
   "execution_count": 88,
   "metadata": {},
   "outputs": [
    {
     "data": {
      "text/html": [
       "<ol class=list-inline>\n",
       "\t<li>'first'</li>\n",
       "\t<li>'last'</li>\n",
       "\t<li>'instrument'</li>\n",
       "</ol>\n"
      ],
      "text/latex": [
       "\\begin{enumerate*}\n",
       "\\item 'first'\n",
       "\\item 'last'\n",
       "\\item 'instrument'\n",
       "\\end{enumerate*}\n"
      ],
      "text/markdown": [
       "1. 'first'\n",
       "2. 'last'\n",
       "3. 'instrument'\n",
       "\n",
       "\n"
      ],
      "text/plain": [
       "[1] \"first\"      \"last\"       \"instrument\""
      ]
     },
     "metadata": {},
     "output_type": "display_data"
    },
    {
     "data": {
      "text/html": [
       "<ol class=list-inline>\n",
       "\t<li>'first'</li>\n",
       "\t<li>'last'</li>\n",
       "\t<li>'band'</li>\n",
       "</ol>\n"
      ],
      "text/latex": [
       "\\begin{enumerate*}\n",
       "\\item 'first'\n",
       "\\item 'last'\n",
       "\\item 'band'\n",
       "\\end{enumerate*}\n"
      ],
      "text/markdown": [
       "1. 'first'\n",
       "2. 'last'\n",
       "3. 'band'\n",
       "\n",
       "\n"
      ],
      "text/plain": [
       "[1] \"first\" \"last\"  \"band\" "
      ]
     },
     "metadata": {},
     "output_type": "display_data"
    },
    {
     "data": {
      "text/html": [
       "<ol class=list-inline>\n",
       "\t<li>'song'</li>\n",
       "\t<li>'album'</li>\n",
       "\t<li>'first'</li>\n",
       "\t<li>'last'</li>\n",
       "</ol>\n"
      ],
      "text/latex": [
       "\\begin{enumerate*}\n",
       "\\item 'song'\n",
       "\\item 'album'\n",
       "\\item 'first'\n",
       "\\item 'last'\n",
       "\\end{enumerate*}\n"
      ],
      "text/markdown": [
       "1. 'song'\n",
       "2. 'album'\n",
       "3. 'first'\n",
       "4. 'last'\n",
       "\n",
       "\n"
      ],
      "text/plain": [
       "[1] \"song\"  \"album\" \"first\" \"last\" "
      ]
     },
     "metadata": {},
     "output_type": "display_data"
    },
    {
     "data": {
      "text/html": [
       "<ol class=list-inline>\n",
       "\t<li>'album'</li>\n",
       "\t<li>'band'</li>\n",
       "\t<li>'year'</li>\n",
       "</ol>\n"
      ],
      "text/latex": [
       "\\begin{enumerate*}\n",
       "\\item 'album'\n",
       "\\item 'band'\n",
       "\\item 'year'\n",
       "\\end{enumerate*}\n"
      ],
      "text/markdown": [
       "1. 'album'\n",
       "2. 'band'\n",
       "3. 'year'\n",
       "\n",
       "\n"
      ],
      "text/plain": [
       "[1] \"album\" \"band\"  \"year\" "
      ]
     },
     "metadata": {},
     "output_type": "display_data"
    }
   ],
   "source": [
    "names(artists1)\n",
    "names(bands1)\n",
    "names(songs1)\n",
    "names(albums)"
   ]
  },
  {
   "cell_type": "code",
   "execution_count": 91,
   "metadata": {},
   "outputs": [
    {
     "name": "stderr",
     "output_type": "stream",
     "text": [
      "Warning message:\n",
      "\"Column `album` joining factors with different levels, coercing to character vector\"Warning message:\n",
      "\"Column `band` joining factors with different levels, coercing to character vector\""
     ]
    },
    {
     "data": {
      "text/html": [
       "<table>\n",
       "<thead><tr><th scope=col>first</th><th scope=col>last</th><th scope=col>instrument</th><th scope=col>band</th><th scope=col>song</th><th scope=col>album</th><th scope=col>year</th></tr></thead>\n",
       "<tbody>\n",
       "\t<tr><td>Jimmy                    </td><td>Buffett                  </td><td>Guitar                   </td><td>The Coral Reefers        </td><td>NA                       </td><td>NA                       </td><td>  NA                     </td></tr>\n",
       "\t<tr><td>George                   </td><td>Harrison                 </td><td>Guitar                   </td><td>The Beatles              </td><td>NA                       </td><td>NA                       </td><td>  NA                     </td></tr>\n",
       "\t<tr><td>Mick                     </td><td>Jagger                   </td><td>Vocals                   </td><td>The Rolling Stones       </td><td>NA                       </td><td>NA                       </td><td>  NA                     </td></tr>\n",
       "\t<tr><td>Tom                      </td><td>Jones                    </td><td>Vocals                   </td><td>NA                       </td><td>It's not Unusual         </td><td>Along Came Jones         </td><td>  NA                     </td></tr>\n",
       "\t<tr><td>Davy                     </td><td>Jones                    </td><td>Vocals                   </td><td>NA                       </td><td>NA                       </td><td>NA                       </td><td>  NA                     </td></tr>\n",
       "\t<tr><td>John                     </td><td>Lennon                   </td><td>Guitar                   </td><td>The Beatles              </td><td>Come Together            </td><td>Abbey Road               </td><td>1969                     </td></tr>\n",
       "\t<tr><td>Paul                     </td><td>McCartney                </td><td>Bass                     </td><td>The Beatles              </td><td>Hello, Goodbye           </td><td>Magical Mystery Tour     </td><td>1967                     </td></tr>\n",
       "\t<tr><td>Jimmy                    </td><td>Page                     </td><td>Guitar                   </td><td>Led Zeppelin             </td><td>NA                       </td><td>NA                       </td><td>  NA                     </td></tr>\n",
       "\t<tr><td>Joe                      </td><td>Perry                    </td><td>Guitar                   </td><td>NA                       </td><td>NA                       </td><td>NA                       </td><td>  NA                     </td></tr>\n",
       "\t<tr><td>Elvis                    </td><td>Presley                  </td><td>Vocals                   </td><td>NA                       </td><td>NA                       </td><td>NA                       </td><td>  NA                     </td></tr>\n",
       "\t<tr><td>Keith                    </td><td>Richards                 </td><td>Guitar                   </td><td>The Rolling Stones       </td><td>NA                       </td><td>NA                       </td><td>  NA                     </td></tr>\n",
       "\t<tr><td>Paul                     </td><td>Simon                    </td><td>Guitar                   </td><td>NA                       </td><td>NA                       </td><td>NA                       </td><td>  NA                     </td></tr>\n",
       "\t<tr><td>Ringo                    </td><td>Starr                    </td><td>Drums                    </td><td>The Beatles              </td><td>NA                       </td><td>NA                       </td><td>  NA                     </td></tr>\n",
       "\t<tr><td>Joe                      </td><td>Walsh                    </td><td>Guitar                   </td><td>NA                       </td><td>NA                       </td><td>NA                       </td><td>  NA                     </td></tr>\n",
       "\t<tr><td>Brian                    </td><td>Wilson                   </td><td>Vocals                   </td><td>NA                       </td><td>NA                       </td><td>NA                       </td><td>  NA                     </td></tr>\n",
       "\t<tr><td>Nancy                    </td><td>Wilson                   </td><td>Vocals                   </td><td>NA                       </td><td>NA                       </td><td>NA                       </td><td>  NA                     </td></tr>\n",
       "\t<tr><td>John                     </td><td>Bonham                   </td><td>NA                       </td><td>Led Zeppelin             </td><td>NA                       </td><td>NA                       </td><td>  NA                     </td></tr>\n",
       "\t<tr><td>John                     </td><td>Paul                     </td><td>NA                       </td><td>Led Zeppelin             </td><td>NA                       </td><td>NA                       </td><td>  NA                     </td></tr>\n",
       "\t<tr><td>Robert                   </td><td>Plant                    </td><td>NA                       </td><td>Led Zeppelin             </td><td>NA                       </td><td>NA                       </td><td>  NA                     </td></tr>\n",
       "\t<tr><td>Charlie                  </td><td>Watts                    </td><td>NA                       </td><td>The Rolling Stones       </td><td>NA                       </td><td>NA                       </td><td>  NA                     </td></tr>\n",
       "\t<tr><td>Ronnie                   </td><td>Wood                     </td><td>NA                       </td><td>The Rolling Stones       </td><td>NA                       </td><td>NA                       </td><td>  NA                     </td></tr>\n",
       "\t<tr><td>Steven                   </td><td>Tyler                    </td><td>NA                       </td><td>NA                       </td><td>Dream On                 </td><td>Aerosmith                </td><td>  NA                     </td></tr>\n",
       "\t<tr><td>NA                       </td><td>NA                       </td><td>NA                       </td><td>The Beatles              </td><td>NA                       </td><td>A Hard Day's Night       </td><td>1964                     </td></tr>\n",
       "\t<tr><td>NA                       </td><td>NA                       </td><td>NA                       </td><td>The Rolling Stones       </td><td>NA                       </td><td>Beggar's Banquet         </td><td>1968                     </td></tr>\n",
       "\t<tr><td>NA                       </td><td>NA                       </td><td>NA                       </td><td>Led Zeppelin             </td><td>NA                       </td><td>Led Zeppelin IV          </td><td>1971                     </td></tr>\n",
       "\t<tr><td>NA                       </td><td>NA                       </td><td>NA                       </td><td>Pink Floyd               </td><td>NA                       </td><td>The Dark Side of the Moon</td><td>1973                     </td></tr>\n",
       "\t<tr><td>NA                       </td><td>NA                       </td><td>NA                       </td><td>Aerosmith                </td><td>NA                       </td><td>Aerosmith                </td><td>1973                     </td></tr>\n",
       "\t<tr><td>NA                       </td><td>NA                       </td><td>NA                       </td><td>Fleetwood Mac            </td><td>NA                       </td><td>Rumours                  </td><td>1977                     </td></tr>\n",
       "\t<tr><td>NA                       </td><td>NA                       </td><td>NA                       </td><td>Eagles                   </td><td>NA                       </td><td>Hotel California         </td><td>1982                     </td></tr>\n",
       "</tbody>\n",
       "</table>\n"
      ],
      "text/latex": [
       "\\begin{tabular}{r|lllllll}\n",
       " first & last & instrument & band & song & album & year\\\\\n",
       "\\hline\n",
       "\t Jimmy                     & Buffett                   & Guitar                    & The Coral Reefers         & NA                        & NA                        &   NA                     \\\\\n",
       "\t George                    & Harrison                  & Guitar                    & The Beatles               & NA                        & NA                        &   NA                     \\\\\n",
       "\t Mick                      & Jagger                    & Vocals                    & The Rolling Stones        & NA                        & NA                        &   NA                     \\\\\n",
       "\t Tom                       & Jones                     & Vocals                    & NA                        & It's not Unusual          & Along Came Jones          &   NA                     \\\\\n",
       "\t Davy                      & Jones                     & Vocals                    & NA                        & NA                        & NA                        &   NA                     \\\\\n",
       "\t John                      & Lennon                    & Guitar                    & The Beatles               & Come Together             & Abbey Road                & 1969                     \\\\\n",
       "\t Paul                      & McCartney                 & Bass                      & The Beatles               & Hello, Goodbye            & Magical Mystery Tour      & 1967                     \\\\\n",
       "\t Jimmy                     & Page                      & Guitar                    & Led Zeppelin              & NA                        & NA                        &   NA                     \\\\\n",
       "\t Joe                       & Perry                     & Guitar                    & NA                        & NA                        & NA                        &   NA                     \\\\\n",
       "\t Elvis                     & Presley                   & Vocals                    & NA                        & NA                        & NA                        &   NA                     \\\\\n",
       "\t Keith                     & Richards                  & Guitar                    & The Rolling Stones        & NA                        & NA                        &   NA                     \\\\\n",
       "\t Paul                      & Simon                     & Guitar                    & NA                        & NA                        & NA                        &   NA                     \\\\\n",
       "\t Ringo                     & Starr                     & Drums                     & The Beatles               & NA                        & NA                        &   NA                     \\\\\n",
       "\t Joe                       & Walsh                     & Guitar                    & NA                        & NA                        & NA                        &   NA                     \\\\\n",
       "\t Brian                     & Wilson                    & Vocals                    & NA                        & NA                        & NA                        &   NA                     \\\\\n",
       "\t Nancy                     & Wilson                    & Vocals                    & NA                        & NA                        & NA                        &   NA                     \\\\\n",
       "\t John                      & Bonham                    & NA                        & Led Zeppelin              & NA                        & NA                        &   NA                     \\\\\n",
       "\t John                      & Paul                      & NA                        & Led Zeppelin              & NA                        & NA                        &   NA                     \\\\\n",
       "\t Robert                    & Plant                     & NA                        & Led Zeppelin              & NA                        & NA                        &   NA                     \\\\\n",
       "\t Charlie                   & Watts                     & NA                        & The Rolling Stones        & NA                        & NA                        &   NA                     \\\\\n",
       "\t Ronnie                    & Wood                      & NA                        & The Rolling Stones        & NA                        & NA                        &   NA                     \\\\\n",
       "\t Steven                    & Tyler                     & NA                        & NA                        & Dream On                  & Aerosmith                 &   NA                     \\\\\n",
       "\t NA                        & NA                        & NA                        & The Beatles               & NA                        & A Hard Day's Night        & 1964                     \\\\\n",
       "\t NA                        & NA                        & NA                        & The Rolling Stones        & NA                        & Beggar's Banquet          & 1968                     \\\\\n",
       "\t NA                        & NA                        & NA                        & Led Zeppelin              & NA                        & Led Zeppelin IV           & 1971                     \\\\\n",
       "\t NA                        & NA                        & NA                        & Pink Floyd                & NA                        & The Dark Side of the Moon & 1973                     \\\\\n",
       "\t NA                        & NA                        & NA                        & Aerosmith                 & NA                        & Aerosmith                 & 1973                     \\\\\n",
       "\t NA                        & NA                        & NA                        & Fleetwood Mac             & NA                        & Rumours                   & 1977                     \\\\\n",
       "\t NA                        & NA                        & NA                        & Eagles                    & NA                        & Hotel California          & 1982                     \\\\\n",
       "\\end{tabular}\n"
      ],
      "text/markdown": [
       "\n",
       "first | last | instrument | band | song | album | year | \n",
       "|---|---|---|---|---|---|---|---|---|---|---|---|---|---|---|---|---|---|---|---|---|---|---|---|---|---|---|---|---|\n",
       "| Jimmy                     | Buffett                   | Guitar                    | The Coral Reefers         | NA                        | NA                        |   NA                      | \n",
       "| George                    | Harrison                  | Guitar                    | The Beatles               | NA                        | NA                        |   NA                      | \n",
       "| Mick                      | Jagger                    | Vocals                    | The Rolling Stones        | NA                        | NA                        |   NA                      | \n",
       "| Tom                       | Jones                     | Vocals                    | NA                        | It's not Unusual          | Along Came Jones          |   NA                      | \n",
       "| Davy                      | Jones                     | Vocals                    | NA                        | NA                        | NA                        |   NA                      | \n",
       "| John                      | Lennon                    | Guitar                    | The Beatles               | Come Together             | Abbey Road                | 1969                      | \n",
       "| Paul                      | McCartney                 | Bass                      | The Beatles               | Hello, Goodbye            | Magical Mystery Tour      | 1967                      | \n",
       "| Jimmy                     | Page                      | Guitar                    | Led Zeppelin              | NA                        | NA                        |   NA                      | \n",
       "| Joe                       | Perry                     | Guitar                    | NA                        | NA                        | NA                        |   NA                      | \n",
       "| Elvis                     | Presley                   | Vocals                    | NA                        | NA                        | NA                        |   NA                      | \n",
       "| Keith                     | Richards                  | Guitar                    | The Rolling Stones        | NA                        | NA                        |   NA                      | \n",
       "| Paul                      | Simon                     | Guitar                    | NA                        | NA                        | NA                        |   NA                      | \n",
       "| Ringo                     | Starr                     | Drums                     | The Beatles               | NA                        | NA                        |   NA                      | \n",
       "| Joe                       | Walsh                     | Guitar                    | NA                        | NA                        | NA                        |   NA                      | \n",
       "| Brian                     | Wilson                    | Vocals                    | NA                        | NA                        | NA                        |   NA                      | \n",
       "| Nancy                     | Wilson                    | Vocals                    | NA                        | NA                        | NA                        |   NA                      | \n",
       "| John                      | Bonham                    | NA                        | Led Zeppelin              | NA                        | NA                        |   NA                      | \n",
       "| John                      | Paul                      | NA                        | Led Zeppelin              | NA                        | NA                        |   NA                      | \n",
       "| Robert                    | Plant                     | NA                        | Led Zeppelin              | NA                        | NA                        |   NA                      | \n",
       "| Charlie                   | Watts                     | NA                        | The Rolling Stones        | NA                        | NA                        |   NA                      | \n",
       "| Ronnie                    | Wood                      | NA                        | The Rolling Stones        | NA                        | NA                        |   NA                      | \n",
       "| Steven                    | Tyler                     | NA                        | NA                        | Dream On                  | Aerosmith                 |   NA                      | \n",
       "| NA                        | NA                        | NA                        | The Beatles               | NA                        | A Hard Day's Night        | 1964                      | \n",
       "| NA                        | NA                        | NA                        | The Rolling Stones        | NA                        | Beggar's Banquet          | 1968                      | \n",
       "| NA                        | NA                        | NA                        | Led Zeppelin              | NA                        | Led Zeppelin IV           | 1971                      | \n",
       "| NA                        | NA                        | NA                        | Pink Floyd                | NA                        | The Dark Side of the Moon | 1973                      | \n",
       "| NA                        | NA                        | NA                        | Aerosmith                 | NA                        | Aerosmith                 | 1973                      | \n",
       "| NA                        | NA                        | NA                        | Fleetwood Mac             | NA                        | Rumours                   | 1977                      | \n",
       "| NA                        | NA                        | NA                        | Eagles                    | NA                        | Hotel California          | 1982                      | \n",
       "\n",
       "\n"
      ],
      "text/plain": [
       "   first   last      instrument band               song            \n",
       "1  Jimmy   Buffett   Guitar     The Coral Reefers  NA              \n",
       "2  George  Harrison  Guitar     The Beatles        NA              \n",
       "3  Mick    Jagger    Vocals     The Rolling Stones NA              \n",
       "4  Tom     Jones     Vocals     NA                 It's not Unusual\n",
       "5  Davy    Jones     Vocals     NA                 NA              \n",
       "6  John    Lennon    Guitar     The Beatles        Come Together   \n",
       "7  Paul    McCartney Bass       The Beatles        Hello, Goodbye  \n",
       "8  Jimmy   Page      Guitar     Led Zeppelin       NA              \n",
       "9  Joe     Perry     Guitar     NA                 NA              \n",
       "10 Elvis   Presley   Vocals     NA                 NA              \n",
       "11 Keith   Richards  Guitar     The Rolling Stones NA              \n",
       "12 Paul    Simon     Guitar     NA                 NA              \n",
       "13 Ringo   Starr     Drums      The Beatles        NA              \n",
       "14 Joe     Walsh     Guitar     NA                 NA              \n",
       "15 Brian   Wilson    Vocals     NA                 NA              \n",
       "16 Nancy   Wilson    Vocals     NA                 NA              \n",
       "17 John    Bonham    NA         Led Zeppelin       NA              \n",
       "18 John    Paul      NA         Led Zeppelin       NA              \n",
       "19 Robert  Plant     NA         Led Zeppelin       NA              \n",
       "20 Charlie Watts     NA         The Rolling Stones NA              \n",
       "21 Ronnie  Wood      NA         The Rolling Stones NA              \n",
       "22 Steven  Tyler     NA         NA                 Dream On        \n",
       "23 NA      NA        NA         The Beatles        NA              \n",
       "24 NA      NA        NA         The Rolling Stones NA              \n",
       "25 NA      NA        NA         Led Zeppelin       NA              \n",
       "26 NA      NA        NA         Pink Floyd         NA              \n",
       "27 NA      NA        NA         Aerosmith          NA              \n",
       "28 NA      NA        NA         Fleetwood Mac      NA              \n",
       "29 NA      NA        NA         Eagles             NA              \n",
       "   album                     year\n",
       "1  NA                          NA\n",
       "2  NA                          NA\n",
       "3  NA                          NA\n",
       "4  Along Came Jones            NA\n",
       "5  NA                          NA\n",
       "6  Abbey Road                1969\n",
       "7  Magical Mystery Tour      1967\n",
       "8  NA                          NA\n",
       "9  NA                          NA\n",
       "10 NA                          NA\n",
       "11 NA                          NA\n",
       "12 NA                          NA\n",
       "13 NA                          NA\n",
       "14 NA                          NA\n",
       "15 NA                          NA\n",
       "16 NA                          NA\n",
       "17 NA                          NA\n",
       "18 NA                          NA\n",
       "19 NA                          NA\n",
       "20 NA                          NA\n",
       "21 NA                          NA\n",
       "22 Aerosmith                   NA\n",
       "23 A Hard Day's Night        1964\n",
       "24 Beggar's Banquet          1968\n",
       "25 Led Zeppelin IV           1971\n",
       "26 The Dark Side of the Moon 1973\n",
       "27 Aerosmith                 1973\n",
       "28 Rumours                   1977\n",
       "29 Hotel California          1982"
      ]
     },
     "metadata": {},
     "output_type": "display_data"
    }
   ],
   "source": [
    "# Create one table that combines all information\n",
    "artists1 %>%\n",
    "    full_join(bands1, by = c(\"first\", \"last\")) %>%\n",
    "    full_join(songs1, by = c(\"first\", \"last\")) %>%\n",
    "    full_join(albums, by = c(\"album\", \"band\"))"
   ]
  }
 ],
 "metadata": {
  "kernelspec": {
   "display_name": "R",
   "language": "R",
   "name": "ir"
  },
  "language_info": {
   "codemirror_mode": "r",
   "file_extension": ".r",
   "mimetype": "text/x-r-source",
   "name": "R",
   "pygments_lexer": "r",
   "version": "3.4.2"
  }
 },
 "nbformat": 4,
 "nbformat_minor": 2
}
