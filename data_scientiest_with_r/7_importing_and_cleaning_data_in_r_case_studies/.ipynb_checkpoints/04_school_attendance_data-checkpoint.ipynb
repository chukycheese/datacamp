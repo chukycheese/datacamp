{
 "cells": [
  {
   "cell_type": "markdown",
   "metadata": {},
   "source": [
    "# School Attendance Data"
   ]
  },
  {
   "cell_type": "markdown",
   "metadata": {},
   "source": [
    "## Importing the data\n",
    "\n",
    "- To use gdata package, [Active Perl](https://www.activestate.com/activeperl/downloads) needs to be installed in the first place.\n",
    "- Follow the [instruction](https://cran.r-project.org/web/packages/gdata/INSTALL) to make gdata automatically find Perl without specifying its location. Otherwise, you can just give the location of Perl executable file in perl argument."
   ]
  },
  {
   "cell_type": "code",
   "execution_count": 7,
   "metadata": {},
   "outputs": [],
   "source": [
    "# Load the gdata package\n",
    "library(gdata)\n",
    "\n",
    "# Import the spreadsheet: att\n",
    "att <- read.xls(\"attendance.xls\", perl = \"C:/Perl64/bin/perl.exe\")"
   ]
  },
  {
   "cell_type": "code",
   "execution_count": 8,
   "metadata": {},
   "outputs": [],
   "source": [
    "att_url <- \"http://s3.amazonaws.com/assets.datacamp.com/production/course_1294/datasets/attendance.xls\"\n",
    "\n",
    "att <- read.xls(att_url, perl = \"C:/Perl64/bin/perl.exe\")"
   ]
  },
  {
   "cell_type": "markdown",
   "metadata": {},
   "source": [
    "## Examining the data"
   ]
  },
  {
   "cell_type": "code",
   "execution_count": 9,
   "metadata": {},
   "outputs": [
    {
     "data": {
      "text/html": [
       "<ol class=list-inline>\n",
       "\t<li>'Table.43..Average.daily.attendance..ADA..as.a.percentage.of.total.enrollment..school.day.length..and.school.year.length.in.public.schools..by.school.level.and.state..2007.08'</li>\n",
       "\t<li>'X'</li>\n",
       "\t<li>'X.1'</li>\n",
       "\t<li>'X.2'</li>\n",
       "\t<li>'X.3'</li>\n",
       "\t<li>'X.4'</li>\n",
       "\t<li>'X.5'</li>\n",
       "\t<li>'X.6'</li>\n",
       "\t<li>'X.7'</li>\n",
       "\t<li>'X.8'</li>\n",
       "\t<li>'X.9'</li>\n",
       "\t<li>'X.10'</li>\n",
       "\t<li>'X.11'</li>\n",
       "\t<li>'X.12'</li>\n",
       "\t<li>'X.13'</li>\n",
       "\t<li>'X.14'</li>\n",
       "\t<li>'X.15'</li>\n",
       "</ol>\n"
      ],
      "text/latex": [
       "\\begin{enumerate*}\n",
       "\\item 'Table.43..Average.daily.attendance..ADA..as.a.percentage.of.total.enrollment..school.day.length..and.school.year.length.in.public.schools..by.school.level.and.state..2007.08'\n",
       "\\item 'X'\n",
       "\\item 'X.1'\n",
       "\\item 'X.2'\n",
       "\\item 'X.3'\n",
       "\\item 'X.4'\n",
       "\\item 'X.5'\n",
       "\\item 'X.6'\n",
       "\\item 'X.7'\n",
       "\\item 'X.8'\n",
       "\\item 'X.9'\n",
       "\\item 'X.10'\n",
       "\\item 'X.11'\n",
       "\\item 'X.12'\n",
       "\\item 'X.13'\n",
       "\\item 'X.14'\n",
       "\\item 'X.15'\n",
       "\\end{enumerate*}\n"
      ],
      "text/markdown": [
       "1. 'Table.43..Average.daily.attendance..ADA..as.a.percentage.of.total.enrollment..school.day.length..and.school.year.length.in.public.schools..by.school.level.and.state..2007.08'\n",
       "2. 'X'\n",
       "3. 'X.1'\n",
       "4. 'X.2'\n",
       "5. 'X.3'\n",
       "6. 'X.4'\n",
       "7. 'X.5'\n",
       "8. 'X.6'\n",
       "9. 'X.7'\n",
       "10. 'X.8'\n",
       "11. 'X.9'\n",
       "12. 'X.10'\n",
       "13. 'X.11'\n",
       "14. 'X.12'\n",
       "15. 'X.13'\n",
       "16. 'X.14'\n",
       "17. 'X.15'\n",
       "\n",
       "\n"
      ],
      "text/plain": [
       " [1] \"Table.43..Average.daily.attendance..ADA..as.a.percentage.of.total.enrollment..school.day.length..and.school.year.length.in.public.schools..by.school.level.and.state..2007.08\"\n",
       " [2] \"X\"                                                                                                                                                                            \n",
       " [3] \"X.1\"                                                                                                                                                                          \n",
       " [4] \"X.2\"                                                                                                                                                                          \n",
       " [5] \"X.3\"                                                                                                                                                                          \n",
       " [6] \"X.4\"                                                                                                                                                                          \n",
       " [7] \"X.5\"                                                                                                                                                                          \n",
       " [8] \"X.6\"                                                                                                                                                                          \n",
       " [9] \"X.7\"                                                                                                                                                                          \n",
       "[10] \"X.8\"                                                                                                                                                                          \n",
       "[11] \"X.9\"                                                                                                                                                                          \n",
       "[12] \"X.10\"                                                                                                                                                                         \n",
       "[13] \"X.11\"                                                                                                                                                                         \n",
       "[14] \"X.12\"                                                                                                                                                                         \n",
       "[15] \"X.13\"                                                                                                                                                                         \n",
       "[16] \"X.14\"                                                                                                                                                                         \n",
       "[17] \"X.15\"                                                                                                                                                                         "
      ]
     },
     "metadata": {},
     "output_type": "display_data"
    },
    {
     "data": {
      "text/html": [
       "<table>\n",
       "<thead><tr><th scope=col>Table.43..Average.daily.attendance..ADA..as.a.percentage.of.total.enrollment..school.day.length..and.school.year.length.in.public.schools..by.school.level.and.state..2007.08</th><th scope=col>X</th><th scope=col>X.1</th><th scope=col>X.2</th><th scope=col>X.3</th><th scope=col>X.4</th><th scope=col>X.5</th><th scope=col>X.6</th><th scope=col>X.7</th><th scope=col>X.8</th><th scope=col>X.9</th><th scope=col>X.10</th><th scope=col>X.11</th><th scope=col>X.12</th><th scope=col>X.13</th><th scope=col>X.14</th><th scope=col>X.15</th></tr></thead>\n",
       "<tbody>\n",
       "\t<tr><td>                                                                      </td><td>Total elementary, secondary, and combined elementary/secondary schools</td><td>                                                                      </td><td>                                                                      </td><td>                                                                      </td><td>                                                                      </td><td>                                                                      </td><td>                                                                      </td><td>                                                                      </td><td>Elementary schools                                                    </td><td>                                                                      </td><td>                                                                      </td><td>                                                                      </td><td>Secondary schools                                                     </td><td>                                                                      </td><td>                                                                      </td><td>                                                                      </td></tr>\n",
       "\t<tr><td>                                                                      </td><td>ADA as percent of enrollment                                          </td><td>                                                                      </td><td>Average hours in school day                                           </td><td>                                                                      </td><td>Average days in school year                                           </td><td>                                                                      </td><td>Average hours in school year                                          </td><td>                                                                      </td><td>ADA as percent of enrollment                                          </td><td>                                                                      </td><td>Average hours in school day                                           </td><td>                                                                      </td><td>ADA as percent of enrollment                                          </td><td>                                                                      </td><td>Average hours in school day                                           </td><td>                                                                      </td></tr>\n",
       "\t<tr><td>1                                                                     </td><td>2                                                                     </td><td>                                                                      </td><td>3                                                                     </td><td>                                                                      </td><td>4                                                                     </td><td>                                                                      </td><td>5                                                                     </td><td>                                                                      </td><td>6                                                                     </td><td>                                                                      </td><td>7                                                                     </td><td>                                                                      </td><td>8                                                                     </td><td>                                                                      </td><td>9                                                                     </td><td>                                                                      </td></tr>\n",
       "\t<tr><td>   United States ........                                             </td><td>93.1                                                                  </td><td>(0.22)                                                                </td><td>6.6                                                                   </td><td>(0.02)                                                                </td><td>180                                                                   </td><td>(0.1)                                                                 </td><td>1,193                                                                 </td><td>(3.1)                                                                 </td><td>94.0                                                                  </td><td>(0.27)                                                                </td><td>6.7                                                                   </td><td>(0.02)                                                                </td><td>91.1                                                                  </td><td>(0.43)                                                                </td><td>6.6                                                                   </td><td>(0.04)                                                                </td></tr>\n",
       "\t<tr><td>Alabama .................                                             </td><td>93.8                                                                  </td><td>(1.24)                                                                </td><td>7.0                                                                   </td><td>(0.07)                                                                </td><td>180                                                                   </td><td>(0.8)                                                                 </td><td>1,267                                                                 </td><td>(12.3)                                                                </td><td>93.8                                                                  </td><td>(1.84)                                                                </td><td>7.0                                                                   </td><td>(0.08)                                                                </td><td>94.6                                                                  </td><td>(0.38)                                                                </td><td>7.1                                                                   </td><td>(0.17)                                                                </td></tr>\n",
       "\t<tr><td>Alaska ..................                                             </td><td>89.9                                                                  </td><td>(1.22)                                                                </td><td>6.5                                                                   </td><td>(0.05)                                                                </td><td>180                                                                   </td><td>(3.4)                                                                 </td><td>1,163                                                                 </td><td>(22.9)                                                                </td><td>91.3                                                                  </td><td>(1.56)                                                                </td><td>6.5                                                                   </td><td>(0.05)                                                                </td><td>93.2                                                                  </td><td>(1.57)                                                                </td><td>6.2                                                                   </td><td>(0.15)                                                                </td></tr>\n",
       "</tbody>\n",
       "</table>\n"
      ],
      "text/latex": [
       "\\begin{tabular}{r|lllllllllllllllll}\n",
       " Table.43..Average.daily.attendance..ADA..as.a.percentage.of.total.enrollment..school.day.length..and.school.year.length.in.public.schools..by.school.level.and.state..2007.08 & X & X.1 & X.2 & X.3 & X.4 & X.5 & X.6 & X.7 & X.8 & X.9 & X.10 & X.11 & X.12 & X.13 & X.14 & X.15\\\\\n",
       "\\hline\n",
       "\t                                                                        & Total elementary, secondary, and combined elementary/secondary schools &                                                                        &                                                                        &                                                                        &                                                                        &                                                                        &                                                                        &                                                                        & Elementary schools                                                     &                                                                        &                                                                        &                                                                        & Secondary schools                                                      &                                                                        &                                                                        &                                                                       \\\\\n",
       "\t                                                                        & ADA as percent of enrollment                                           &                                                                        & Average hours in school day                                            &                                                                        & Average days in school year                                            &                                                                        & Average hours in school year                                           &                                                                        & ADA as percent of enrollment                                           &                                                                        & Average hours in school day                                            &                                                                        & ADA as percent of enrollment                                           &                                                                        & Average hours in school day                                            &                                                                       \\\\\n",
       "\t 1                                                                      & 2                                                                      &                                                                        & 3                                                                      &                                                                        & 4                                                                      &                                                                        & 5                                                                      &                                                                        & 6                                                                      &                                                                        & 7                                                                      &                                                                        & 8                                                                      &                                                                        & 9                                                                      &                                                                       \\\\\n",
       "\t    United States ........                                              & 93.1                                                                   & (0.22)                                                                 & 6.6                                                                    & (0.02)                                                                 & 180                                                                    & (0.1)                                                                  & 1,193                                                                  & (3.1)                                                                  & 94.0                                                                   & (0.27)                                                                 & 6.7                                                                    & (0.02)                                                                 & 91.1                                                                   & (0.43)                                                                 & 6.6                                                                    & (0.04)                                                                \\\\\n",
       "\t Alabama .................                                              & 93.8                                                                   & (1.24)                                                                 & 7.0                                                                    & (0.07)                                                                 & 180                                                                    & (0.8)                                                                  & 1,267                                                                  & (12.3)                                                                 & 93.8                                                                   & (1.84)                                                                 & 7.0                                                                    & (0.08)                                                                 & 94.6                                                                   & (0.38)                                                                 & 7.1                                                                    & (0.17)                                                                \\\\\n",
       "\t Alaska ..................                                              & 89.9                                                                   & (1.22)                                                                 & 6.5                                                                    & (0.05)                                                                 & 180                                                                    & (3.4)                                                                  & 1,163                                                                  & (22.9)                                                                 & 91.3                                                                   & (1.56)                                                                 & 6.5                                                                    & (0.05)                                                                 & 93.2                                                                   & (1.57)                                                                 & 6.2                                                                    & (0.15)                                                                \\\\\n",
       "\\end{tabular}\n"
      ],
      "text/markdown": [
       "\n",
       "Table.43..Average.daily.attendance..ADA..as.a.percentage.of.total.enrollment..school.day.length..and.school.year.length.in.public.schools..by.school.level.and.state..2007.08 | X | X.1 | X.2 | X.3 | X.4 | X.5 | X.6 | X.7 | X.8 | X.9 | X.10 | X.11 | X.12 | X.13 | X.14 | X.15 | \n",
       "|---|---|---|---|---|---|\n",
       "|                                                                        | Total elementary, secondary, and combined elementary/secondary schools |                                                                        |                                                                        |                                                                        |                                                                        |                                                                        |                                                                        |                                                                        | Elementary schools                                                     |                                                                        |                                                                        |                                                                        | Secondary schools                                                      |                                                                        |                                                                        |                                                                        | \n",
       "|                                                                        | ADA as percent of enrollment                                           |                                                                        | Average hours in school day                                            |                                                                        | Average days in school year                                            |                                                                        | Average hours in school year                                           |                                                                        | ADA as percent of enrollment                                           |                                                                        | Average hours in school day                                            |                                                                        | ADA as percent of enrollment                                           |                                                                        | Average hours in school day                                            |                                                                        | \n",
       "| 1                                                                      | 2                                                                      |                                                                        | 3                                                                      |                                                                        | 4                                                                      |                                                                        | 5                                                                      |                                                                        | 6                                                                      |                                                                        | 7                                                                      |                                                                        | 8                                                                      |                                                                        | 9                                                                      |                                                                        | \n",
       "|    United States ........                                              | 93.1                                                                   | (0.22)                                                                 | 6.6                                                                    | (0.02)                                                                 | 180                                                                    | (0.1)                                                                  | 1,193                                                                  | (3.1)                                                                  | 94.0                                                                   | (0.27)                                                                 | 6.7                                                                    | (0.02)                                                                 | 91.1                                                                   | (0.43)                                                                 | 6.6                                                                    | (0.04)                                                                 | \n",
       "| Alabama .................                                              | 93.8                                                                   | (1.24)                                                                 | 7.0                                                                    | (0.07)                                                                 | 180                                                                    | (0.8)                                                                  | 1,267                                                                  | (12.3)                                                                 | 93.8                                                                   | (1.84)                                                                 | 7.0                                                                    | (0.08)                                                                 | 94.6                                                                   | (0.38)                                                                 | 7.1                                                                    | (0.17)                                                                 | \n",
       "| Alaska ..................                                              | 89.9                                                                   | (1.22)                                                                 | 6.5                                                                    | (0.05)                                                                 | 180                                                                    | (3.4)                                                                  | 1,163                                                                  | (22.9)                                                                 | 91.3                                                                   | (1.56)                                                                 | 6.5                                                                    | (0.05)                                                                 | 93.2                                                                   | (1.57)                                                                 | 6.2                                                                    | (0.15)                                                                 | \n",
       "\n",
       "\n"
      ],
      "text/plain": [
       "  Table.43..Average.daily.attendance..ADA..as.a.percentage.of.total.enrollment..school.day.length..and.school.year.length.in.public.schools..by.school.level.and.state..2007.08\n",
       "1                                                                                                                                                                              \n",
       "2                                                                                                                                                                              \n",
       "3 1                                                                                                                                                                            \n",
       "4    United States ........                                                                                                                                                    \n",
       "5 Alabama .................                                                                                                                                                    \n",
       "6 Alaska ..................                                                                                                                                                    \n",
       "  X                                                                      X.1   \n",
       "1 Total elementary, secondary, and combined elementary/secondary schools       \n",
       "2 ADA as percent of enrollment                                                 \n",
       "3 2                                                                            \n",
       "4 93.1                                                                   (0.22)\n",
       "5 93.8                                                                   (1.24)\n",
       "6 89.9                                                                   (1.22)\n",
       "  X.2                         X.3    X.4                         X.5  \n",
       "1                                                                     \n",
       "2 Average hours in school day        Average days in school year      \n",
       "3 3                                  4                                \n",
       "4 6.6                         (0.02) 180                         (0.1)\n",
       "5 7.0                         (0.07) 180                         (0.8)\n",
       "6 6.5                         (0.05) 180                         (3.4)\n",
       "  X.6                          X.7    X.8                          X.9   \n",
       "1                                     Elementary schools                 \n",
       "2 Average hours in school year        ADA as percent of enrollment       \n",
       "3 5                                   6                                  \n",
       "4 1,193                        (3.1)  94.0                         (0.27)\n",
       "5 1,267                        (12.3) 93.8                         (1.84)\n",
       "6 1,163                        (22.9) 91.3                         (1.56)\n",
       "  X.10                        X.11   X.12                         X.13  \n",
       "1                                    Secondary schools                  \n",
       "2 Average hours in school day        ADA as percent of enrollment       \n",
       "3 7                                  8                                  \n",
       "4 6.7                         (0.02) 91.1                         (0.43)\n",
       "5 7.0                         (0.08) 94.6                         (0.38)\n",
       "6 6.5                         (0.05) 93.2                         (1.57)\n",
       "  X.14                        X.15  \n",
       "1                                   \n",
       "2 Average hours in school day       \n",
       "3 9                                 \n",
       "4 6.6                         (0.04)\n",
       "5 7.1                         (0.17)\n",
       "6 6.2                         (0.15)"
      ]
     },
     "metadata": {},
     "output_type": "display_data"
    },
    {
     "data": {
      "text/html": [
       "<table>\n",
       "<thead><tr><th></th><th scope=col>Table.43..Average.daily.attendance..ADA..as.a.percentage.of.total.enrollment..school.day.length..and.school.year.length.in.public.schools..by.school.level.and.state..2007.08</th><th scope=col>X</th><th scope=col>X.1</th><th scope=col>X.2</th><th scope=col>X.3</th><th scope=col>X.4</th><th scope=col>X.5</th><th scope=col>X.6</th><th scope=col>X.7</th><th scope=col>X.8</th><th scope=col>X.9</th><th scope=col>X.10</th><th scope=col>X.11</th><th scope=col>X.12</th><th scope=col>X.13</th><th scope=col>X.14</th><th scope=col>X.15</th></tr></thead>\n",
       "<tbody>\n",
       "\t<tr><th scope=row>54</th><td>Wisconsin ...............                                                                                                                                                                                                                            </td><td>95.0                                                                                                                                                                                                                                                 </td><td>(0.57)                                                                                                                                                                                                                                               </td><td>6.9                                                                                                                                                                                                                                                  </td><td>(0.04)                                                                                                                                                                                                                                               </td><td>180                                                                                                                                                                                                                                                  </td><td>(0.7)                                                                                                                                                                                                                                                </td><td>1,246                                                                                                                                                                                                                                                </td><td>(8.6)                                                                                                                                                                                                                                                </td><td>95.4                                                                                                                                                                                                                                                 </td><td>(0.41)                                                                                                                                                                                                                                               </td><td>6.9                                                                                                                                                                                                                                                  </td><td>(0.05)                                                                                                                                                                                                                                               </td><td>93.0                                                                                                                                                                                                                                                 </td><td>(1.91)                                                                                                                                                                                                                                               </td><td>7.0                                                                                                                                                                                                                                                  </td><td>(0.14)                                                                                                                                                                                                                                               </td></tr>\n",
       "\t<tr><th scope=row>55</th><td>Wyoming .................                                                                                                                                                                                                                            </td><td>92.4                                                                                                                                                                                                                                                 </td><td>(1.15)                                                                                                                                                                                                                                               </td><td>6.9                                                                                                                                                                                                                                                  </td><td>(0.05)                                                                                                                                                                                                                                               </td><td>175                                                                                                                                                                                                                                                  </td><td>(1.3)                                                                                                                                                                                                                                                </td><td>1,201                                                                                                                                                                                                                                                </td><td>(8.3)                                                                                                                                                                                                                                                </td><td>92.2                                                                                                                                                                                                                                                 </td><td>(1.65)                                                                                                                                                                                                                                               </td><td>6.9                                                                                                                                                                                                                                                  </td><td>(0.05)                                                                                                                                                                                                                                               </td><td>92.4                                                                                                                                                                                                                                                 </td><td>(0.75)                                                                                                                                                                                                                                               </td><td>7.0                                                                                                                                                                                                                                                  </td><td>(0.07)                                                                                                                                                                                                                                               </td></tr>\n",
       "\t<tr><th scope=row>56</th><td>â€ Not applicable.                                                                                                                                                                                                                                   </td><td>                                                                                                                                                                                                                                                     </td><td>                                                                                                                                                                                                                                                     </td><td>                                                                                                                                                                                                                                                     </td><td>                                                                                                                                                                                                                                                     </td><td>                                                                                                                                                                                                                                                     </td><td>                                                                                                                                                                                                                                                     </td><td>                                                                                                                                                                                                                                                     </td><td>                                                                                                                                                                                                                                                     </td><td>                                                                                                                                                                                                                                                     </td><td>                                                                                                                                                                                                                                                     </td><td>                                                                                                                                                                                                                                                     </td><td>                                                                                                                                                                                                                                                     </td><td>                                                                                                                                                                                                                                                     </td><td>                                                                                                                                                                                                                                                     </td><td>                                                                                                                                                                                                                                                     </td><td>                                                                                                                                                                                                                                                     </td></tr>\n",
       "\t<tr><th scope=row>57</th><td>â€¡Reporting standards not met (too few cases).                                                                                                                                                                                                      </td><td>                                                                                                                                                                                                                                                     </td><td>                                                                                                                                                                                                                                                     </td><td>                                                                                                                                                                                                                                                     </td><td>                                                                                                                                                                                                                                                     </td><td>                                                                                                                                                                                                                                                     </td><td>                                                                                                                                                                                                                                                     </td><td>                                                                                                                                                                                                                                                     </td><td>                                                                                                                                                                                                                                                     </td><td>                                                                                                                                                                                                                                                     </td><td>                                                                                                                                                                                                                                                     </td><td>                                                                                                                                                                                                                                                     </td><td>                                                                                                                                                                                                                                                     </td><td>                                                                                                                                                                                                                                                     </td><td>                                                                                                                                                                                                                                                     </td><td>                                                                                                                                                                                                                                                     </td><td>                                                                                                                                                                                                                                                     </td></tr>\n",
       "\t<tr><th scope=row>58</th><td>NOTE: Averages reflect data reported by schools rather than state requirements. School-reported length of day may exceed state requirements, and there is a range of statistical error in reported estimates. Standard errors appear in parentheses. </td><td>                                                                                                                                                                                                                                                     </td><td>                                                                                                                                                                                                                                                     </td><td>                                                                                                                                                                                                                                                     </td><td>                                                                                                                                                                                                                                                     </td><td>                                                                                                                                                                                                                                                     </td><td>                                                                                                                                                                                                                                                     </td><td>                                                                                                                                                                                                                                                     </td><td>                                                                                                                                                                                                                                                     </td><td>                                                                                                                                                                                                                                                     </td><td>                                                                                                                                                                                                                                                     </td><td>                                                                                                                                                                                                                                                     </td><td>                                                                                                                                                                                                                                                     </td><td>                                                                                                                                                                                                                                                     </td><td>                                                                                                                                                                                                                                                     </td><td>                                                                                                                                                                                                                                                     </td><td>                                                                                                                                                                                                                                                     </td></tr>\n",
       "\t<tr><th scope=row>59</th><td>SOURCE: U.S. Department of Education, National Center for Education Statistics, Schools and Staffing Survey (SASS), \\Public School Questionnaire                                                                                                    </td><td>\\ 2003-04 and 2007-08. (This table was prepared June 2011.)                                                                                                                                                                                         </td><td>                                                                                                                                                                                                                                                     </td><td>                                                                                                                                                                                                                                                     </td><td>                                                                                                                                                                                                                                                     </td><td>                                                                                                                                                                                                                                                     </td><td>                                                                                                                                                                                                                                                     </td><td>                                                                                                                                                                                                                                                     </td><td>                                                                                                                                                                                                                                                     </td><td>                                                                                                                                                                                                                                                     </td><td>                                                                                                                                                                                                                                                     </td><td>                                                                                                                                                                                                                                                     </td><td>                                                                                                                                                                                                                                                     </td><td>                                                                                                                                                                                                                                                     </td><td>                                                                                                                                                                                                                                                     </td><td>                                                                                                                                                                                                                                                     </td><td>                                                                                                                                                                                                                                                     </td></tr>\n",
       "</tbody>\n",
       "</table>\n"
      ],
      "text/latex": [
       "\\begin{tabular}{r|lllllllllllllllll}\n",
       "  & Table.43..Average.daily.attendance..ADA..as.a.percentage.of.total.enrollment..school.day.length..and.school.year.length.in.public.schools..by.school.level.and.state..2007.08 & X & X.1 & X.2 & X.3 & X.4 & X.5 & X.6 & X.7 & X.8 & X.9 & X.10 & X.11 & X.12 & X.13 & X.14 & X.15\\\\\n",
       "\\hline\n",
       "\t54 & Wisconsin ...............                                                                                                                                                                                                                             & 95.0                                                                                                                                                                                                                                                  & (0.57)                                                                                                                                                                                                                                                & 6.9                                                                                                                                                                                                                                                   & (0.04)                                                                                                                                                                                                                                                & 180                                                                                                                                                                                                                                                   & (0.7)                                                                                                                                                                                                                                                 & 1,246                                                                                                                                                                                                                                                 & (8.6)                                                                                                                                                                                                                                                 & 95.4                                                                                                                                                                                                                                                  & (0.41)                                                                                                                                                                                                                                                & 6.9                                                                                                                                                                                                                                                   & (0.05)                                                                                                                                                                                                                                                & 93.0                                                                                                                                                                                                                                                  & (1.91)                                                                                                                                                                                                                                                & 7.0                                                                                                                                                                                                                                                   & (0.14)                                                                                                                                                                                                                                               \\\\\n",
       "\t55 & Wyoming .................                                                                                                                                                                                                                             & 92.4                                                                                                                                                                                                                                                  & (1.15)                                                                                                                                                                                                                                                & 6.9                                                                                                                                                                                                                                                   & (0.05)                                                                                                                                                                                                                                                & 175                                                                                                                                                                                                                                                   & (1.3)                                                                                                                                                                                                                                                 & 1,201                                                                                                                                                                                                                                                 & (8.3)                                                                                                                                                                                                                                                 & 92.2                                                                                                                                                                                                                                                  & (1.65)                                                                                                                                                                                                                                                & 6.9                                                                                                                                                                                                                                                   & (0.05)                                                                                                                                                                                                                                                & 92.4                                                                                                                                                                                                                                                  & (0.75)                                                                                                                                                                                                                                                & 7.0                                                                                                                                                                                                                                                   & (0.07)                                                                                                                                                                                                                                               \\\\\n",
       "\t56 & â€ Not applicable.                                                                                                                                                                                                                                    &                                                                                                                                                                                                                                                       &                                                                                                                                                                                                                                                       &                                                                                                                                                                                                                                                       &                                                                                                                                                                                                                                                       &                                                                                                                                                                                                                                                       &                                                                                                                                                                                                                                                       &                                                                                                                                                                                                                                                       &                                                                                                                                                                                                                                                       &                                                                                                                                                                                                                                                       &                                                                                                                                                                                                                                                       &                                                                                                                                                                                                                                                       &                                                                                                                                                                                                                                                       &                                                                                                                                                                                                                                                       &                                                                                                                                                                                                                                                       &                                                                                                                                                                                                                                                       &                                                                                                                                                                                                                                                      \\\\\n",
       "\t57 & â€¡Reporting standards not met (too few cases).                                                                                                                                                                                                       &                                                                                                                                                                                                                                                       &                                                                                                                                                                                                                                                       &                                                                                                                                                                                                                                                       &                                                                                                                                                                                                                                                       &                                                                                                                                                                                                                                                       &                                                                                                                                                                                                                                                       &                                                                                                                                                                                                                                                       &                                                                                                                                                                                                                                                       &                                                                                                                                                                                                                                                       &                                                                                                                                                                                                                                                       &                                                                                                                                                                                                                                                       &                                                                                                                                                                                                                                                       &                                                                                                                                                                                                                                                       &                                                                                                                                                                                                                                                       &                                                                                                                                                                                                                                                       &                                                                                                                                                                                                                                                      \\\\\n",
       "\t58 & NOTE: Averages reflect data reported by schools rather than state requirements. School-reported length of day may exceed state requirements, and there is a range of statistical error in reported estimates. Standard errors appear in parentheses.  &                                                                                                                                                                                                                                                       &                                                                                                                                                                                                                                                       &                                                                                                                                                                                                                                                       &                                                                                                                                                                                                                                                       &                                                                                                                                                                                                                                                       &                                                                                                                                                                                                                                                       &                                                                                                                                                                                                                                                       &                                                                                                                                                                                                                                                       &                                                                                                                                                                                                                                                       &                                                                                                                                                                                                                                                       &                                                                                                                                                                                                                                                       &                                                                                                                                                                                                                                                       &                                                                                                                                                                                                                                                       &                                                                                                                                                                                                                                                       &                                                                                                                                                                                                                                                       &                                                                                                                                                                                                                                                      \\\\\n",
       "\t59 & SOURCE: U.S. Department of Education, National Center for Education Statistics, Schools and Staffing Survey (SASS), \\textbackslash{}Public School Questionnaire                                                                                                     & \\textbackslash{} 2003-04 and 2007-08. (This table was prepared June 2011.)                                                                                                                                                                                          &                                                                                                                                                                                                                                                                      &                                                                                                                                                                                                                                                                      &                                                                                                                                                                                                                                                                      &                                                                                                                                                                                                                                                                      &                                                                                                                                                                                                                                                                      &                                                                                                                                                                                                                                                                      &                                                                                                                                                                                                                                                                      &                                                                                                                                                                                                                                                                      &                                                                                                                                                                                                                                                                      &                                                                                                                                                                                                                                                                      &                                                                                                                                                                                                                                                                      &                                                                                                                                                                                                                                                                      &                                                                                                                                                                                                                                                                      &                                                                                                                                                                                                                                                                      &                                                                                                                                                                                                                                                                     \\\\\n",
       "\\end{tabular}\n"
      ],
      "text/markdown": [
       "\n",
       "| <!--/--> | Table.43..Average.daily.attendance..ADA..as.a.percentage.of.total.enrollment..school.day.length..and.school.year.length.in.public.schools..by.school.level.and.state..2007.08 | X | X.1 | X.2 | X.3 | X.4 | X.5 | X.6 | X.7 | X.8 | X.9 | X.10 | X.11 | X.12 | X.13 | X.14 | X.15 | \n",
       "|---|---|---|---|---|---|\n",
       "| 54 | Wisconsin ...............                                                                                                                                                                                                                             | 95.0                                                                                                                                                                                                                                                  | (0.57)                                                                                                                                                                                                                                                | 6.9                                                                                                                                                                                                                                                   | (0.04)                                                                                                                                                                                                                                                | 180                                                                                                                                                                                                                                                   | (0.7)                                                                                                                                                                                                                                                 | 1,246                                                                                                                                                                                                                                                 | (8.6)                                                                                                                                                                                                                                                 | 95.4                                                                                                                                                                                                                                                  | (0.41)                                                                                                                                                                                                                                                | 6.9                                                                                                                                                                                                                                                   | (0.05)                                                                                                                                                                                                                                                | 93.0                                                                                                                                                                                                                                                  | (1.91)                                                                                                                                                                                                                                                | 7.0                                                                                                                                                                                                                                                   | (0.14)                                                                                                                                                                                                                                                | \n",
       "| 55 | Wyoming .................                                                                                                                                                                                                                             | 92.4                                                                                                                                                                                                                                                  | (1.15)                                                                                                                                                                                                                                                | 6.9                                                                                                                                                                                                                                                   | (0.05)                                                                                                                                                                                                                                                | 175                                                                                                                                                                                                                                                   | (1.3)                                                                                                                                                                                                                                                 | 1,201                                                                                                                                                                                                                                                 | (8.3)                                                                                                                                                                                                                                                 | 92.2                                                                                                                                                                                                                                                  | (1.65)                                                                                                                                                                                                                                                | 6.9                                                                                                                                                                                                                                                   | (0.05)                                                                                                                                                                                                                                                | 92.4                                                                                                                                                                                                                                                  | (0.75)                                                                                                                                                                                                                                                | 7.0                                                                                                                                                                                                                                                   | (0.07)                                                                                                                                                                                                                                                | \n",
       "| 56 | â€ Not applicable.                                                                                                                                                                                                                                    |                                                                                                                                                                                                                                                       |                                                                                                                                                                                                                                                       |                                                                                                                                                                                                                                                       |                                                                                                                                                                                                                                                       |                                                                                                                                                                                                                                                       |                                                                                                                                                                                                                                                       |                                                                                                                                                                                                                                                       |                                                                                                                                                                                                                                                       |                                                                                                                                                                                                                                                       |                                                                                                                                                                                                                                                       |                                                                                                                                                                                                                                                       |                                                                                                                                                                                                                                                       |                                                                                                                                                                                                                                                       |                                                                                                                                                                                                                                                       |                                                                                                                                                                                                                                                       |                                                                                                                                                                                                                                                       | \n",
       "| 57 | â€¡Reporting standards not met (too few cases).                                                                                                                                                                                                       |                                                                                                                                                                                                                                                       |                                                                                                                                                                                                                                                       |                                                                                                                                                                                                                                                       |                                                                                                                                                                                                                                                       |                                                                                                                                                                                                                                                       |                                                                                                                                                                                                                                                       |                                                                                                                                                                                                                                                       |                                                                                                                                                                                                                                                       |                                                                                                                                                                                                                                                       |                                                                                                                                                                                                                                                       |                                                                                                                                                                                                                                                       |                                                                                                                                                                                                                                                       |                                                                                                                                                                                                                                                       |                                                                                                                                                                                                                                                       |                                                                                                                                                                                                                                                       |                                                                                                                                                                                                                                                       | \n",
       "| 58 | NOTE: Averages reflect data reported by schools rather than state requirements. School-reported length of day may exceed state requirements, and there is a range of statistical error in reported estimates. Standard errors appear in parentheses.  |                                                                                                                                                                                                                                                       |                                                                                                                                                                                                                                                       |                                                                                                                                                                                                                                                       |                                                                                                                                                                                                                                                       |                                                                                                                                                                                                                                                       |                                                                                                                                                                                                                                                       |                                                                                                                                                                                                                                                       |                                                                                                                                                                                                                                                       |                                                                                                                                                                                                                                                       |                                                                                                                                                                                                                                                       |                                                                                                                                                                                                                                                       |                                                                                                                                                                                                                                                       |                                                                                                                                                                                                                                                       |                                                                                                                                                                                                                                                       |                                                                                                                                                                                                                                                       |                                                                                                                                                                                                                                                       | \n",
       "| 59 | SOURCE: U.S. Department of Education, National Center for Education Statistics, Schools and Staffing Survey (SASS), \\Public School Questionnaire                                                                                                     | \\ 2003-04 and 2007-08. (This table was prepared June 2011.)                                                                                                                                                                                          |                                                                                                                                                                                                                                                       |                                                                                                                                                                                                                                                       |                                                                                                                                                                                                                                                       |                                                                                                                                                                                                                                                       |                                                                                                                                                                                                                                                       |                                                                                                                                                                                                                                                       |                                                                                                                                                                                                                                                       |                                                                                                                                                                                                                                                       |                                                                                                                                                                                                                                                       |                                                                                                                                                                                                                                                       |                                                                                                                                                                                                                                                       |                                                                                                                                                                                                                                                       |                                                                                                                                                                                                                                                       |                                                                                                                                                                                                                                                       |                                                                                                                                                                                                                                                       | \n",
       "\n",
       "\n"
      ],
      "text/plain": [
       "   Table.43..Average.daily.attendance..ADA..as.a.percentage.of.total.enrollment..school.day.length..and.school.year.length.in.public.schools..by.school.level.and.state..2007.08                                                                        \n",
       "54 Wisconsin ...............                                                                                                                                                                                                                            \n",
       "55 Wyoming .................                                                                                                                                                                                                                            \n",
       "56 â Not applicable.                                                                                                                                                                                                                                   \n",
       "57 â¡Reporting standards not met (too few cases).                                                                                                                                                                                                      \n",
       "58 NOTE: Averages reflect data reported by schools rather than state requirements. School-reported length of day may exceed state requirements, and there is a range of statistical error in reported estimates. Standard errors appear in parentheses. \n",
       "59 SOURCE: U.S. Department of Education, National Center for Education Statistics, Schools and Staffing Survey (SASS), \\\\Public School Questionnaire                                                                                                    \n",
       "   X                                                            X.1    X.2\n",
       "54 95.0                                                         (0.57) 6.9\n",
       "55 92.4                                                         (1.15) 6.9\n",
       "56                                                                        \n",
       "57                                                                        \n",
       "58                                                                        \n",
       "59 \\\\ 2003-04 and 2007-08. (This table was prepared June 2011.)           \n",
       "   X.3    X.4 X.5   X.6   X.7   X.8  X.9    X.10 X.11   X.12 X.13   X.14 X.15  \n",
       "54 (0.04) 180 (0.7) 1,246 (8.6) 95.4 (0.41) 6.9  (0.05) 93.0 (1.91) 7.0  (0.14)\n",
       "55 (0.05) 175 (1.3) 1,201 (8.3) 92.2 (1.65) 6.9  (0.05) 92.4 (0.75) 7.0  (0.07)\n",
       "56                                                                             \n",
       "57                                                                             \n",
       "58                                                                             \n",
       "59                                                                             "
      ]
     },
     "metadata": {},
     "output_type": "display_data"
    },
    {
     "name": "stdout",
     "output_type": "stream",
     "text": [
      "'data.frame':\t59 obs. of  17 variables:\n",
      " $ Table.43..Average.daily.attendance..ADA..as.a.percentage.of.total.enrollment..school.day.length..and.school.year.length.in.public.schools..by.school.level.and.state..2007.08: Factor w/ 58 levels \"\",\"   United States ........\",..: 1 1 3 2 6 7 8 9 10 11 ...\n",
      " $ X                                                                                                                                                                            : Factor w/ 42 levels \"\",\"\\\\ 2003-04 and 2007-08. (This table was prepared June 2011.)\",..: 42 41 3 22 28 8 6 14 23 29 ...\n",
      " $ X.1                                                                                                                                                                          : Factor w/ 45 levels \"\",\"(0.22)\",\"(0.23)\",..: 1 1 1 2 22 21 41 27 14 6 ...\n",
      " $ X.2                                                                                                                                                                          : Factor w/ 14 levels \"\",\"3\",\"6.2\",\"6.3\",..: 1 14 2 7 11 6 5 10 3 11 ...\n",
      " $ X.3                                                                                                                                                                          : Factor w/ 14 levels \"\",\"(0.02)\",\"(0.03)\",..: 1 1 1 2 7 5 9 6 7 5 ...\n",
      " $ X.4                                                                                                                                                                          : Factor w/ 15 levels \"\",\"171\",\"172\",..: 1 15 14 10 10 10 11 9 11 2 ...\n",
      " $ X.5                                                                                                                                                                          : Factor w/ 22 levels \"\",\"(0.0)\",\"(0.1)\",..: 1 1 1 3 10 21 19 4 6 12 ...\n",
      " $ X.6                                                                                                                                                                          : Factor w/ 48 levels \"\",\"1,102\",\"1,117\",..: 1 48 47 26 45 15 13 36 5 28 ...\n",
      " $ X.7                                                                                                                                                                          : Factor w/ 48 levels \"\",\"(10.1)\",\"(10.3)\",..: 1 1 1 36 11 35 22 6 13 48 ...\n",
      " $ X.8                                                                                                                                                                          : Factor w/ 40 levels \"\",\"6\",\"81.0\",..: 40 39 2 22 20 9 5 13 27 25 ...\n",
      " $ X.9                                                                                                                                                                          : Factor w/ 51 levels \"\",\"(0.24)\",\"(0.25)\",..: 1 1 1 4 32 25 48 35 20 13 ...\n",
      " $ X.10                                                                                                                                                                         : Factor w/ 14 levels \"\",\"6.2\",\"6.3\",..: 1 14 10 7 11 5 4 9 3 11 ...\n",
      " $ X.11                                                                                                                                                                         : Factor w/ 13 levels \"\",\"(0.02)\",\"(0.03)\",..: 1 1 1 2 8 5 10 8 5 7 ...\n",
      " $ X.12                                                                                                                                                                         : Factor w/ 41 levels \"\",\"8\",\"85.8\",..: 41 40 2 18 34 29 7 17 8 19 ...\n",
      " $ X.13                                                                                                                                                                         : Factor w/ 47 levels \"\",\"(0.35)\",\"(0.37)\",..: 1 1 1 6 4 24 42 34 22 19 ...\n",
      " $ X.14                                                                                                                                                                         : Factor w/ 17 levels \"\",\"5.9\",\"6.1\",..: 1 17 15 8 13 4 6 10 3 12 ...\n",
      " $ X.15                                                                                                                                                                         : Factor w/ 29 levels \"\",\"(0.03)\",\"(0.04)\",..: 1 1 1 3 14 12 20 7 17 8 ...\n"
     ]
    }
   ],
   "source": [
    "# Print the column names \n",
    "names(att)\n",
    "\n",
    "# Print the first 6 rows\n",
    "head(att)\n",
    "\n",
    "# Print the last 6 rows\n",
    "tail(att)\n",
    "\n",
    "# Print the structure\n",
    "str(att)"
   ]
  },
  {
   "cell_type": "markdown",
   "metadata": {},
   "source": [
    "## Removing unnecessary rows"
   ]
  },
  {
   "cell_type": "code",
   "execution_count": 10,
   "metadata": {
    "collapsed": true
   },
   "outputs": [],
   "source": [
    "# Create remove\n",
    "remove <- c(3, 56:59)\n",
    "\n",
    "# Create att2\n",
    "att2 <- att[-remove, ]"
   ]
  },
  {
   "cell_type": "markdown",
   "metadata": {},
   "source": [
    "## Removing useless columns"
   ]
  },
  {
   "cell_type": "code",
   "execution_count": 11,
   "metadata": {
    "collapsed": true
   },
   "outputs": [],
   "source": [
    "# Create remove\n",
    "remove <- c(3, 5, 7, 9, 11, 13, 15, 17)\n",
    "\n",
    "# Create att3\n",
    "att3 <- att2[, -remove]"
   ]
  },
  {
   "cell_type": "markdown",
   "metadata": {},
   "source": [
    "## Splitting the data"
   ]
  },
  {
   "cell_type": "code",
   "execution_count": 12,
   "metadata": {
    "collapsed": true
   },
   "outputs": [],
   "source": [
    "## att3 is pre-loaded\n",
    "\n",
    "# Subset just elementary schools: att_elem\n",
    "att_elem <- att3[, c(1, 6, 7)]\n",
    "\n",
    "# Subset just secondary schools: att_sec\n",
    "att_sec <- att3[, c(1, 8, 9)]\n",
    "\n",
    "# Subset all schools: att4\n",
    "att4 <- att3[, 1:5]"
   ]
  },
  {
   "cell_type": "markdown",
   "metadata": {},
   "source": [
    "## Replacing the names"
   ]
  },
  {
   "cell_type": "code",
   "execution_count": 13,
   "metadata": {},
   "outputs": [
    {
     "data": {
      "text/html": [
       "<ol class=list-inline>\n",
       "\t<li>'state'</li>\n",
       "\t<li>'avg_attend_pct'</li>\n",
       "\t<li>'avg_hr_per_day'</li>\n",
       "\t<li>'avg_day_per_yr'</li>\n",
       "\t<li>'avg_hr_per_yr'</li>\n",
       "</ol>\n"
      ],
      "text/latex": [
       "\\begin{enumerate*}\n",
       "\\item 'state'\n",
       "\\item 'avg\\_attend\\_pct'\n",
       "\\item 'avg\\_hr\\_per\\_day'\n",
       "\\item 'avg\\_day\\_per\\_yr'\n",
       "\\item 'avg\\_hr\\_per\\_yr'\n",
       "\\end{enumerate*}\n"
      ],
      "text/markdown": [
       "1. 'state'\n",
       "2. 'avg_attend_pct'\n",
       "3. 'avg_hr_per_day'\n",
       "4. 'avg_day_per_yr'\n",
       "5. 'avg_hr_per_yr'\n",
       "\n",
       "\n"
      ],
      "text/plain": [
       "[1] \"state\"          \"avg_attend_pct\" \"avg_hr_per_day\" \"avg_day_per_yr\"\n",
       "[5] \"avg_hr_per_yr\" "
      ]
     },
     "metadata": {},
     "output_type": "display_data"
    }
   ],
   "source": [
    "## att4 is pre-loaded\n",
    "\n",
    "# Define cnames vector (don't change)\n",
    "cnames <- c(\"state\", \"avg_attend_pct\", \"avg_hr_per_day\", \n",
    "            \"avg_day_per_yr\", \"avg_hr_per_yr\")\n",
    "\n",
    "# Assign column names of att4\n",
    "colnames(att4) <- cnames\n",
    "\n",
    "# Remove first two rows of att4: att5\n",
    "att5 <- att4[-(1:2), ]\n",
    "\n",
    "# View the names of att5\n",
    "names(att5)"
   ]
  },
  {
   "cell_type": "markdown",
   "metadata": {},
   "source": [
    "## Cleaning up extra characters"
   ]
  },
  {
   "cell_type": "code",
   "execution_count": 14,
   "metadata": {},
   "outputs": [
    {
     "data": {
      "text/html": [
       "<table>\n",
       "<thead><tr><th></th><th scope=col>state</th><th scope=col>avg_attend_pct</th><th scope=col>avg_hr_per_day</th><th scope=col>avg_day_per_yr</th><th scope=col>avg_hr_per_yr</th></tr></thead>\n",
       "<tbody>\n",
       "\t<tr><th scope=row>4</th><td>United States</td><td>93.1         </td><td>6.6          </td><td>180          </td><td>1,193        </td></tr>\n",
       "\t<tr><th scope=row>5</th><td>Alabama      </td><td>93.8         </td><td>7.0          </td><td>180          </td><td>1,267        </td></tr>\n",
       "\t<tr><th scope=row>6</th><td>Alaska       </td><td>89.9         </td><td>6.5          </td><td>180          </td><td>1,163        </td></tr>\n",
       "\t<tr><th scope=row>7</th><td>Arizona      </td><td>89.0         </td><td>6.4          </td><td>181          </td><td>1,159        </td></tr>\n",
       "\t<tr><th scope=row>8</th><td>Arkansas     </td><td>91.8         </td><td>6.9          </td><td>179          </td><td>1,229        </td></tr>\n",
       "\t<tr><th scope=row>9</th><td>California   </td><td>93.2         </td><td>6.2          </td><td>181          </td><td>1,129        </td></tr>\n",
       "</tbody>\n",
       "</table>\n"
      ],
      "text/latex": [
       "\\begin{tabular}{r|lllll}\n",
       "  & state & avg\\_attend\\_pct & avg\\_hr\\_per\\_day & avg\\_day\\_per\\_yr & avg\\_hr\\_per\\_yr\\\\\n",
       "\\hline\n",
       "\t4 & United States & 93.1          & 6.6           & 180           & 1,193        \\\\\n",
       "\t5 & Alabama       & 93.8          & 7.0           & 180           & 1,267        \\\\\n",
       "\t6 & Alaska        & 89.9          & 6.5           & 180           & 1,163        \\\\\n",
       "\t7 & Arizona       & 89.0          & 6.4           & 181           & 1,159        \\\\\n",
       "\t8 & Arkansas      & 91.8          & 6.9           & 179           & 1,229        \\\\\n",
       "\t9 & California    & 93.2          & 6.2           & 181           & 1,129        \\\\\n",
       "\\end{tabular}\n"
      ],
      "text/markdown": [
       "\n",
       "| <!--/--> | state | avg_attend_pct | avg_hr_per_day | avg_day_per_yr | avg_hr_per_yr | \n",
       "|---|---|---|---|---|---|\n",
       "| 4 | United States | 93.1          | 6.6           | 180           | 1,193         | \n",
       "| 5 | Alabama       | 93.8          | 7.0           | 180           | 1,267         | \n",
       "| 6 | Alaska        | 89.9          | 6.5           | 180           | 1,163         | \n",
       "| 7 | Arizona       | 89.0          | 6.4           | 181           | 1,159         | \n",
       "| 8 | Arkansas      | 91.8          | 6.9           | 179           | 1,229         | \n",
       "| 9 | California    | 93.2          | 6.2           | 181           | 1,129         | \n",
       "\n",
       "\n"
      ],
      "text/plain": [
       "  state         avg_attend_pct avg_hr_per_day avg_day_per_yr avg_hr_per_yr\n",
       "4 United States 93.1           6.6            180            1,193        \n",
       "5 Alabama       93.8           7.0            180            1,267        \n",
       "6 Alaska        89.9           6.5            180            1,163        \n",
       "7 Arizona       89.0           6.4            181            1,159        \n",
       "8 Arkansas      91.8           6.9            179            1,229        \n",
       "9 California    93.2           6.2            181            1,129        "
      ]
     },
     "metadata": {},
     "output_type": "display_data"
    }
   ],
   "source": [
    "## stringr and att5 are pre-loaded\n",
    "library(stringr)\n",
    "\n",
    "# Remove all periods in state column\n",
    "att5$state <- str_replace_all(string = att5$state, pattern = \"\\\\.\", replacement = \"\")\n",
    "\n",
    "# Remove white space around state names\n",
    "att5$state <- str_trim(string = att5$state)\n",
    "\n",
    "# View the head of att5\n",
    "head(att5)"
   ]
  },
  {
   "cell_type": "markdown",
   "metadata": {},
   "source": [
    "## Some final type conversions"
   ]
  },
  {
   "cell_type": "code",
   "execution_count": 15,
   "metadata": {},
   "outputs": [
    {
     "name": "stderr",
     "output_type": "stream",
     "text": [
      "Warning message:\n",
      "\"package 'dplyr' was built under R version 3.4.3\"\n",
      "Attaching package: 'dplyr'\n",
      "\n",
      "The following objects are masked from 'package:gdata':\n",
      "\n",
      "    combine, first, last\n",
      "\n",
      "The following objects are masked from 'package:stats':\n",
      "\n",
      "    filter, lag\n",
      "\n",
      "The following objects are masked from 'package:base':\n",
      "\n",
      "    intersect, setdiff, setequal, union\n",
      "\n",
      "`mutate_each()` is deprecated.\n",
      "Use `mutate_all()`, `mutate_at()` or `mutate_if()` instead.\n",
      "To map `funs` over a selection of variables, use `mutate_at()`\n"
     ]
    }
   ],
   "source": [
    "# Change columns to numeric using dplyr (don't change)\n",
    "library(dplyr)\n",
    "example <- mutate_each(att5, funs(as.numeric), -state)\n",
    "\n",
    "# Define vector containing numerical columns: cols\n",
    "cols <- 2:5\n",
    "\n",
    "# Use sapply to coerce cols to numeric\n",
    "att5[, cols] <- sapply(att5[, cols], as.numeric)"
   ]
  },
  {
   "cell_type": "code",
   "execution_count": 16,
   "metadata": {},
   "outputs": [
    {
     "name": "stdout",
     "output_type": "stream",
     "text": [
      "'data.frame':\t52 obs. of  5 variables:\n",
      " $ state         : chr  \"United States\" \"Alabama\" \"Alaska\" \"Arizona\" ...\n",
      " $ avg_attend_pct: num  22 28 8 6 14 23 29 5 7 11 ...\n",
      " $ avg_hr_per_day: num  7 11 6 5 10 3 11 6 8 10 ...\n",
      " $ avg_day_per_yr: num  10 10 10 11 9 11 2 11 11 11 ...\n",
      " $ avg_hr_per_yr : num  26 45 15 13 36 5 28 19 31 42 ...\n"
     ]
    },
    {
     "data": {
      "text/html": [
       "<table>\n",
       "<thead><tr><th></th><th scope=col>state</th><th scope=col>avg_attend_pct</th><th scope=col>avg_hr_per_day</th><th scope=col>avg_day_per_yr</th><th scope=col>avg_hr_per_yr</th></tr></thead>\n",
       "<tbody>\n",
       "\t<tr><th scope=row>4</th><td>United States</td><td>22           </td><td> 7           </td><td>10           </td><td>26           </td></tr>\n",
       "\t<tr><th scope=row>5</th><td>Alabama      </td><td>28           </td><td>11           </td><td>10           </td><td>45           </td></tr>\n",
       "\t<tr><th scope=row>6</th><td>Alaska       </td><td> 8           </td><td> 6           </td><td>10           </td><td>15           </td></tr>\n",
       "\t<tr><th scope=row>7</th><td>Arizona      </td><td> 6           </td><td> 5           </td><td>11           </td><td>13           </td></tr>\n",
       "\t<tr><th scope=row>8</th><td>Arkansas     </td><td>14           </td><td>10           </td><td> 9           </td><td>36           </td></tr>\n",
       "\t<tr><th scope=row>9</th><td>California   </td><td>23           </td><td> 3           </td><td>11           </td><td> 5           </td></tr>\n",
       "</tbody>\n",
       "</table>\n"
      ],
      "text/latex": [
       "\\begin{tabular}{r|lllll}\n",
       "  & state & avg\\_attend\\_pct & avg\\_hr\\_per\\_day & avg\\_day\\_per\\_yr & avg\\_hr\\_per\\_yr\\\\\n",
       "\\hline\n",
       "\t4 & United States & 22            &  7            & 10            & 26           \\\\\n",
       "\t5 & Alabama       & 28            & 11            & 10            & 45           \\\\\n",
       "\t6 & Alaska        &  8            &  6            & 10            & 15           \\\\\n",
       "\t7 & Arizona       &  6            &  5            & 11            & 13           \\\\\n",
       "\t8 & Arkansas      & 14            & 10            &  9            & 36           \\\\\n",
       "\t9 & California    & 23            &  3            & 11            &  5           \\\\\n",
       "\\end{tabular}\n"
      ],
      "text/markdown": [
       "\n",
       "| <!--/--> | state | avg_attend_pct | avg_hr_per_day | avg_day_per_yr | avg_hr_per_yr | \n",
       "|---|---|---|---|---|---|\n",
       "| 4 | United States | 22            |  7            | 10            | 26            | \n",
       "| 5 | Alabama       | 28            | 11            | 10            | 45            | \n",
       "| 6 | Alaska        |  8            |  6            | 10            | 15            | \n",
       "| 7 | Arizona       |  6            |  5            | 11            | 13            | \n",
       "| 8 | Arkansas      | 14            | 10            |  9            | 36            | \n",
       "| 9 | California    | 23            |  3            | 11            |  5            | \n",
       "\n",
       "\n"
      ],
      "text/plain": [
       "  state         avg_attend_pct avg_hr_per_day avg_day_per_yr avg_hr_per_yr\n",
       "4 United States 22              7             10             26           \n",
       "5 Alabama       28             11             10             45           \n",
       "6 Alaska         8              6             10             15           \n",
       "7 Arizona        6              5             11             13           \n",
       "8 Arkansas      14             10              9             36           \n",
       "9 California    23              3             11              5           "
      ]
     },
     "metadata": {},
     "output_type": "display_data"
    }
   ],
   "source": [
    "str(att5)\n",
    "\n",
    "head(att5)"
   ]
  },
  {
   "cell_type": "code",
   "execution_count": null,
   "metadata": {
    "collapsed": true
   },
   "outputs": [],
   "source": []
  }
 ],
 "metadata": {
  "kernelspec": {
   "display_name": "R",
   "language": "R",
   "name": "ir"
  },
  "language_info": {
   "codemirror_mode": "r",
   "file_extension": ".r",
   "mimetype": "text/x-r-source",
   "name": "R",
   "pygments_lexer": "r",
   "version": "3.4.2"
  }
 },
 "nbformat": 4,
 "nbformat_minor": 2
}
