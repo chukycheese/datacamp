{
 "cells": [
  {
   "cell_type": "markdown",
   "metadata": {},
   "source": [
    "# MBTA Ridership Data"
   ]
  },
  {
   "cell_type": "markdown",
   "metadata": {},
   "source": [
    "## Using readxl"
   ]
  },
  {
   "cell_type": "code",
   "execution_count": 70,
   "metadata": {},
   "outputs": [],
   "source": [
    "library(readxl)\n",
    "\n",
    "mbta <- read_excel(path = \"mbta.xlsx\", skip = 1)"
   ]
  },
  {
   "cell_type": "markdown",
   "metadata": {},
   "source": [
    "## Examing the data"
   ]
  },
  {
   "cell_type": "code",
   "execution_count": 71,
   "metadata": {},
   "outputs": [
    {
     "name": "stdout",
     "output_type": "stream",
     "text": [
      "Classes 'tbl_df', 'tbl' and 'data.frame':\t11 obs. of  60 variables:\n",
      " $ X__1   : num  1 2 3 4 5 6 7 8 9 10 ...\n",
      " $ mode   : chr  \"All Modes by Qtr\" \"Boat\" \"Bus\" \"Commuter Rail\" ...\n",
      " $ 2007-01: chr  \"NA\" \"4\" \"335.819\" \"142.2\" ...\n",
      " $ 2007-02: chr  \"NA\" \"3.6\" \"338.675\" \"138.5\" ...\n",
      " $ 2007-03: num  1188 40 340 138 459 ...\n",
      " $ 2007-04: chr  \"NA\" \"4.3\" \"352.162\" \"139.5\" ...\n",
      " $ 2007-05: chr  \"NA\" \"4.9\" \"354.367\" \"139\" ...\n",
      " $ 2007-06: num  1246 5.8 350.5 143 477 ...\n",
      " $ 2007-07: chr  \"NA\" \"6.521\" \"357.519\" \"142.391\" ...\n",
      " $ 2007-08: chr  \"NA\" \"6.572\" \"355.479\" \"142.364\" ...\n",
      " $ 2007-09: num  1256.57 5.47 372.6 143.05 499.57 ...\n",
      " $ 2007-10: chr  \"NA\" \"5.145\" \"368.847\" \"146.542\" ...\n",
      " $ 2007-11: chr  \"NA\" \"3.763\" \"330.826\" \"145.089\" ...\n",
      " $ 2007-12: num  1216.89 2.98 312.92 141.59 448.27 ...\n",
      " $ 2008-01: chr  \"NA\" \"3.175\" \"340.324\" \"142.145\" ...\n",
      " $ 2008-02: chr  \"NA\" \"3.111\" \"352.905\" \"142.607\" ...\n",
      " $ 2008-03: num  1253.52 3.51 361.15 137.45 494.05 ...\n",
      " $ 2008-04: chr  \"NA\" \"4.164\" \"368.189\" \"140.389\" ...\n",
      " $ 2008-05: chr  \"NA\" \"4.015\" \"363.903\" \"142.585\" ...\n",
      " $ 2008-06: num  1314.82 5.19 362.96 142.06 518.35 ...\n",
      " $ 2008-07: chr  \"NA\" \"6.016\" \"370.921\" \"145.731\" ...\n",
      " $ 2008-08: chr  \"NA\" \"5.8\" \"361.057\" \"144.565\" ...\n",
      " $ 2008-09: num  1307.04 4.59 389.54 141.91 517.32 ...\n",
      " $ 2008-10: chr  \"NA\" \"4.285\" \"357.974\" \"151.957\" ...\n",
      " $ 2008-11: chr  \"NA\" \"3.488\" \"345.423\" \"152.952\" ...\n",
      " $ 2008-12: num  1232.65 3.01 325.77 140.81 446.74 ...\n",
      " $ 2009-01: chr  \"NA\" \"3.014\" \"338.532\" \"141.448\" ...\n",
      " $ 2009-02: chr  \"NA\" \"3.196\" \"360.412\" \"143.529\" ...\n",
      " $ 2009-03: num  1209.79 3.33 353.69 142.89 467.22 ...\n",
      " $ 2009-04: chr  \"NA\" \"4.049\" \"359.38\" \"142.34\" ...\n",
      " $ 2009-05: chr  \"NA\" \"4.119\" \"354.75\" \"144.225\" ...\n",
      " $ 2009-06: num  1233.1 4.9 347.9 142 473.1 ...\n",
      " $ 2009-07: chr  \"NA\" \"6.444\" \"339.477\" \"137.691\" ...\n",
      " $ 2009-08: chr  \"NA\" \"5.903\" \"332.661\" \"139.158\" ...\n",
      " $ 2009-09: num  1230.5 4.7 374.3 139.1 500.4 ...\n",
      " $ 2009-10: chr  \"NA\" \"4.212\" \"385.868\" \"137.104\" ...\n",
      " $ 2009-11: chr  \"NA\" \"3.576\" \"366.98\" \"129.343\" ...\n",
      " $ 2009-12: num  1207.85 3.11 332.39 126.07 440.93 ...\n",
      " $ 2010-01: chr  \"NA\" \"3.207\" \"362.226\" \"130.91\" ...\n",
      " $ 2010-02: chr  \"NA\" \"3.195\" \"361.138\" \"131.918\" ...\n",
      " $ 2010-03: num  1208.86 3.48 373.44 131.25 483.4 ...\n",
      " $ 2010-04: chr  \"NA\" \"4.452\" \"378.611\" \"131.722\" ...\n",
      " $ 2010-05: chr  \"NA\" \"4.415\" \"380.171\" \"128.8\" ...\n",
      " $ 2010-06: num  1244.41 5.41 363.27 129.14 490.26 ...\n",
      " $ 2010-07: chr  \"NA\" \"6.513\" \"353.04\" \"122.935\" ...\n",
      " $ 2010-08: chr  \"NA\" \"6.269\" \"343.688\" \"129.732\" ...\n",
      " $ 2010-09: num  1225.5 4.7 381.6 132.9 521.1 ...\n",
      " $ 2010-10: chr  \"NA\" \"4.402\" \"384.987\" \"131.033\" ...\n",
      " $ 2010-11: chr  \"NA\" \"3.731\" \"367.955\" \"130.889\" ...\n",
      " $ 2010-12: num  1216.26 3.16 326.34 121.42 450.43 ...\n",
      " $ 2011-01: chr  \"NA\" \"3.14\" \"334.958\" \"128.396\" ...\n",
      " $ 2011-02: chr  \"NA\" \"3.284\" \"346.234\" \"125.463\" ...\n",
      " $ 2011-03: num  1223.45 3.67 380.4 134.37 516.73 ...\n",
      " $ 2011-04: chr  \"NA\" \"4.251\" \"380.446\" \"134.169\" ...\n",
      " $ 2011-05: chr  \"NA\" \"4.431\" \"385.289\" \"136.14\" ...\n",
      " $ 2011-06: num  1302.41 5.47 376.32 135.58 529.53 ...\n",
      " $ 2011-07: chr  \"NA\" \"6.581\" \"361.585\" \"132.41\" ...\n",
      " $ 2011-08: chr  \"NA\" \"6.733\" \"353.793\" \"130.616\" ...\n",
      " $ 2011-09: num  1291 5 388 137 550 ...\n",
      " $ 2011-10: chr  \"NA\" \"4.484\" \"398.456\" \"128.72\" ...\n"
     ]
    },
    {
     "data": {
      "text/html": [
       "<table>\n",
       "<thead><tr><th scope=col>X__1</th><th scope=col>mode</th><th scope=col>2007-01</th><th scope=col>2007-02</th><th scope=col>2007-03</th><th scope=col>2007-04</th><th scope=col>2007-05</th><th scope=col>2007-06</th><th scope=col>2007-07</th><th scope=col>2007-08</th><th scope=col>...</th><th scope=col>2011-01</th><th scope=col>2011-02</th><th scope=col>2011-03</th><th scope=col>2011-04</th><th scope=col>2011-05</th><th scope=col>2011-06</th><th scope=col>2011-07</th><th scope=col>2011-08</th><th scope=col>2011-09</th><th scope=col>2011-10</th></tr></thead>\n",
       "<tbody>\n",
       "\t<tr><td>1               </td><td>All Modes by Qtr</td><td>NA              </td><td>NA              </td><td>1187.653        </td><td>NA              </td><td>NA              </td><td>1245.959        </td><td>NA              </td><td>NA              </td><td>...             </td><td>NA              </td><td>NA              </td><td>1223.452        </td><td>NA              </td><td>NA              </td><td>1302.414        </td><td>NA              </td><td>NA              </td><td>1290.549        </td><td>NA              </td></tr>\n",
       "\t<tr><td>2               </td><td>Boat            </td><td>4               </td><td>3.6             </td><td>  40.000        </td><td>4.3             </td><td>4.9             </td><td>   5.800        </td><td>6.521           </td><td>6.572           </td><td>...             </td><td>3.14            </td><td>3.284           </td><td>   3.674        </td><td>4.251           </td><td>4.431           </td><td>   5.474        </td><td>6.581           </td><td>6.733           </td><td>   5.003        </td><td>4.484           </td></tr>\n",
       "\t<tr><td>3               </td><td>Bus             </td><td>335.819         </td><td>338.675         </td><td> 339.867        </td><td>352.162         </td><td>354.367         </td><td> 350.543        </td><td>357.519         </td><td>355.479         </td><td>...             </td><td>334.958         </td><td>346.234         </td><td> 380.399        </td><td>380.446         </td><td>385.289         </td><td> 376.317        </td><td>361.585         </td><td>353.793         </td><td> 388.271        </td><td>398.456         </td></tr>\n",
       "\t<tr><td>4               </td><td>Commuter Rail   </td><td>142.2           </td><td>138.5           </td><td> 137.700        </td><td>139.5           </td><td>139             </td><td> 143.000        </td><td>142.391         </td><td>142.364         </td><td>...             </td><td>128.396         </td><td>125.463         </td><td> 134.374        </td><td>134.169         </td><td>136.14          </td><td> 135.581        </td><td>132.41          </td><td>130.616         </td><td> 136.901        </td><td>128.72          </td></tr>\n",
       "\t<tr><td>5               </td><td>Heavy Rail      </td><td>435.294         </td><td>448.271         </td><td> 458.583        </td><td>472.201         </td><td>474.579         </td><td> 477.032        </td><td>471.735         </td><td>461.605         </td><td>...             </td><td>468.418         </td><td>504.068         </td><td> 516.730        </td><td>528.631         </td><td>528.122         </td><td> 529.528        </td><td>532.888         </td><td>508.145         </td><td> 550.137        </td><td>554.932         </td></tr>\n",
       "\t<tr><td>6               </td><td>Light Rail      </td><td>227.231         </td><td>240.262         </td><td> 241.444        </td><td>255.557         </td><td>248.262         </td><td> 246.108        </td><td>243.286         </td><td>234.907         </td><td>...             </td><td>198.45          </td><td>219.886         </td><td> 227.935        </td><td>242.28          </td><td>225.776         </td><td> 221.865        </td><td>231.01          </td><td>220.164         </td><td> 244.949        </td><td>237.768         </td></tr>\n",
       "</tbody>\n",
       "</table>\n"
      ],
      "text/latex": [
       "\\begin{tabular}{r|llllllllllllllllllllllllllllllllllllllllllllllllllllllllllll}\n",
       " X\\_\\_1 & mode & 2007-01 & 2007-02 & 2007-03 & 2007-04 & 2007-05 & 2007-06 & 2007-07 & 2007-08 & ... & 2011-01 & 2011-02 & 2011-03 & 2011-04 & 2011-05 & 2011-06 & 2011-07 & 2011-08 & 2011-09 & 2011-10\\\\\n",
       "\\hline\n",
       "\t 1                & All Modes by Qtr & NA               & NA               & 1187.653         & NA               & NA               & 1245.959         & NA               & NA               & ...              & NA               & NA               & 1223.452         & NA               & NA               & 1302.414         & NA               & NA               & 1290.549         & NA              \\\\\n",
       "\t 2                & Boat             & 4                & 3.6              &   40.000         & 4.3              & 4.9              &    5.800         & 6.521            & 6.572            & ...              & 3.14             & 3.284            &    3.674         & 4.251            & 4.431            &    5.474         & 6.581            & 6.733            &    5.003         & 4.484           \\\\\n",
       "\t 3                & Bus              & 335.819          & 338.675          &  339.867         & 352.162          & 354.367          &  350.543         & 357.519          & 355.479          & ...              & 334.958          & 346.234          &  380.399         & 380.446          & 385.289          &  376.317         & 361.585          & 353.793          &  388.271         & 398.456         \\\\\n",
       "\t 4                & Commuter Rail    & 142.2            & 138.5            &  137.700         & 139.5            & 139              &  143.000         & 142.391          & 142.364          & ...              & 128.396          & 125.463          &  134.374         & 134.169          & 136.14           &  135.581         & 132.41           & 130.616          &  136.901         & 128.72          \\\\\n",
       "\t 5                & Heavy Rail       & 435.294          & 448.271          &  458.583         & 472.201          & 474.579          &  477.032         & 471.735          & 461.605          & ...              & 468.418          & 504.068          &  516.730         & 528.631          & 528.122          &  529.528         & 532.888          & 508.145          &  550.137         & 554.932         \\\\\n",
       "\t 6                & Light Rail       & 227.231          & 240.262          &  241.444         & 255.557          & 248.262          &  246.108         & 243.286          & 234.907          & ...              & 198.45           & 219.886          &  227.935         & 242.28           & 225.776          &  221.865         & 231.01           & 220.164          &  244.949         & 237.768         \\\\\n",
       "\\end{tabular}\n"
      ],
      "text/markdown": [
       "\n",
       "X__1 | mode | 2007-01 | 2007-02 | 2007-03 | 2007-04 | 2007-05 | 2007-06 | 2007-07 | 2007-08 | ... | 2011-01 | 2011-02 | 2011-03 | 2011-04 | 2011-05 | 2011-06 | 2011-07 | 2011-08 | 2011-09 | 2011-10 | \n",
       "|---|---|---|---|---|---|\n",
       "| 1                | All Modes by Qtr | NA               | NA               | 1187.653         | NA               | NA               | 1245.959         | NA               | NA               | ...              | NA               | NA               | 1223.452         | NA               | NA               | 1302.414         | NA               | NA               | 1290.549         | NA               | \n",
       "| 2                | Boat             | 4                | 3.6              |   40.000         | 4.3              | 4.9              |    5.800         | 6.521            | 6.572            | ...              | 3.14             | 3.284            |    3.674         | 4.251            | 4.431            |    5.474         | 6.581            | 6.733            |    5.003         | 4.484            | \n",
       "| 3                | Bus              | 335.819          | 338.675          |  339.867         | 352.162          | 354.367          |  350.543         | 357.519          | 355.479          | ...              | 334.958          | 346.234          |  380.399         | 380.446          | 385.289          |  376.317         | 361.585          | 353.793          |  388.271         | 398.456          | \n",
       "| 4                | Commuter Rail    | 142.2            | 138.5            |  137.700         | 139.5            | 139              |  143.000         | 142.391          | 142.364          | ...              | 128.396          | 125.463          |  134.374         | 134.169          | 136.14           |  135.581         | 132.41           | 130.616          |  136.901         | 128.72           | \n",
       "| 5                | Heavy Rail       | 435.294          | 448.271          |  458.583         | 472.201          | 474.579          |  477.032         | 471.735          | 461.605          | ...              | 468.418          | 504.068          |  516.730         | 528.631          | 528.122          |  529.528         | 532.888          | 508.145          |  550.137         | 554.932          | \n",
       "| 6                | Light Rail       | 227.231          | 240.262          |  241.444         | 255.557          | 248.262          |  246.108         | 243.286          | 234.907          | ...              | 198.45           | 219.886          |  227.935         | 242.28           | 225.776          |  221.865         | 231.01           | 220.164          |  244.949         | 237.768          | \n",
       "\n",
       "\n"
      ],
      "text/plain": [
       "  X__1 mode             2007-01 2007-02 2007-03  2007-04 2007-05 2007-06 \n",
       "1 1    All Modes by Qtr NA      NA      1187.653 NA      NA      1245.959\n",
       "2 2    Boat             4       3.6       40.000 4.3     4.9        5.800\n",
       "3 3    Bus              335.819 338.675  339.867 352.162 354.367  350.543\n",
       "4 4    Commuter Rail    142.2   138.5    137.700 139.5   139      143.000\n",
       "5 5    Heavy Rail       435.294 448.271  458.583 472.201 474.579  477.032\n",
       "6 6    Light Rail       227.231 240.262  241.444 255.557 248.262  246.108\n",
       "  2007-07 2007-08 ... 2011-01 2011-02 2011-03  2011-04 2011-05 2011-06  2011-07\n",
       "1 NA      NA      ... NA      NA      1223.452 NA      NA      1302.414 NA     \n",
       "2 6.521   6.572   ... 3.14    3.284      3.674 4.251   4.431      5.474 6.581  \n",
       "3 357.519 355.479 ... 334.958 346.234  380.399 380.446 385.289  376.317 361.585\n",
       "4 142.391 142.364 ... 128.396 125.463  134.374 134.169 136.14   135.581 132.41 \n",
       "5 471.735 461.605 ... 468.418 504.068  516.730 528.631 528.122  529.528 532.888\n",
       "6 243.286 234.907 ... 198.45  219.886  227.935 242.28  225.776  221.865 231.01 \n",
       "  2011-08 2011-09  2011-10\n",
       "1 NA      1290.549 NA     \n",
       "2 6.733      5.003 4.484  \n",
       "3 353.793  388.271 398.456\n",
       "4 130.616  136.901 128.72 \n",
       "5 508.145  550.137 554.932\n",
       "6 220.164  244.949 237.768"
      ]
     },
     "metadata": {},
     "output_type": "display_data"
    },
    {
     "data": {
      "text/plain": [
       "      X__1          mode             2007-01            2007-02         \n",
       " Min.   : 1.0   Length:11          Length:11          Length:11         \n",
       " 1st Qu.: 3.5   Class :character   Class :character   Class :character  \n",
       " Median : 6.0   Mode  :character   Mode  :character   Mode  :character  \n",
       " Mean   : 6.0                                                           \n",
       " 3rd Qu.: 8.5                                                           \n",
       " Max.   :11.0                                                           \n",
       "    2007-03           2007-04            2007-05             2007-06        \n",
       " Min.   :   0.114   Length:11          Length:11          Min.   :   0.096  \n",
       " 1st Qu.:   9.278   Class :character   Class :character   1st Qu.:   5.700  \n",
       " Median : 137.700   Mode  :character   Mode  :character   Median : 143.000  \n",
       " Mean   : 330.293                                         Mean   : 339.846  \n",
       " 3rd Qu.: 399.225                                         3rd Qu.: 413.788  \n",
       " Max.   :1204.725                                         Max.   :1246.129  \n",
       "   2007-07            2007-08             2007-09           2007-10         \n",
       " Length:11          Length:11          Min.   :  -0.007   Length:11         \n",
       " Class :character   Class :character   1st Qu.:   5.539   Class :character  \n",
       " Mode  :character   Mode  :character   Median : 143.051   Mode  :character  \n",
       "                                       Mean   : 352.554                     \n",
       "                                       3rd Qu.: 436.082                     \n",
       "                                       Max.   :1310.764                     \n",
       "   2007-11             2007-12           2008-01            2008-02         \n",
       " Length:11          Min.   :  -0.060   Length:11          Length:11         \n",
       " Class :character   1st Qu.:   4.385   Class :character   Class :character  \n",
       " Mode  :character   Median : 141.585   Mode  :character   Mode  :character  \n",
       "                    Mean   : 321.588                                        \n",
       "                    3rd Qu.: 380.594                                        \n",
       "                    Max.   :1216.890                                        \n",
       "    2008-03           2008-04            2008-05             2008-06        \n",
       " Min.   :   0.058   Length:11          Length:11          Min.   :   0.060  \n",
       " 1st Qu.:   5.170   Class :character   Class :character   1st Qu.:   5.742  \n",
       " Median : 137.453   Mode  :character   Mode  :character   Median : 142.057  \n",
       " Mean   : 345.604                                         Mean   : 359.667  \n",
       " 3rd Qu.: 427.601                                         3rd Qu.: 440.656  \n",
       " Max.   :1274.031                                         Max.   :1320.728  \n",
       "   2008-07            2008-08             2008-09           2008-10         \n",
       " Length:11          Length:11          Min.   :   0.021   Length:11         \n",
       " Class :character   Class :character   1st Qu.:   5.691   Class :character  \n",
       " Mode  :character   Mode  :character   Median : 141.907   Mode  :character  \n",
       "                                       Mean   : 362.099                     \n",
       "                                       3rd Qu.: 453.430                     \n",
       "                                       Max.   :1338.015                     \n",
       "   2008-11             2008-12           2009-01            2009-02         \n",
       " Length:11          Min.   :  -0.015   Length:11          Length:11         \n",
       " Class :character   1st Qu.:   4.689   Class :character   Class :character  \n",
       " Mode  :character   Median : 140.810   Mode  :character   Mode  :character  \n",
       "                    Mean   : 319.882                                        \n",
       "                    3rd Qu.: 386.255                                        \n",
       "                    Max.   :1232.655                                        \n",
       "    2009-03           2009-04            2009-05             2009-06        \n",
       " Min.   :  -0.050   Length:11          Length:11          Min.   :  -0.079  \n",
       " 1st Qu.:   5.003   Class :character   Class :character   1st Qu.:   5.845  \n",
       " Median : 142.893   Mode  :character   Mode  :character   Median : 142.006  \n",
       " Mean   : 330.142                                         Mean   : 333.194  \n",
       " 3rd Qu.: 410.455                                         3rd Qu.: 410.482  \n",
       " Max.   :1210.912                                         Max.   :1233.085  \n",
       "   2009-07            2009-08             2009-09           2009-10         \n",
       " Length:11          Length:11          Min.   :  -0.035   Length:11         \n",
       " Class :character   Class :character   1st Qu.:   5.693   Class :character  \n",
       " Mode  :character   Mode  :character   Median : 139.087   Mode  :character  \n",
       "                                       Mean   : 346.687                     \n",
       "                                       3rd Qu.: 437.332                     \n",
       "                                       Max.   :1291.564                     \n",
       "   2009-11             2009-12           2010-01            2010-02         \n",
       " Length:11          Min.   :  -0.022   Length:11          Length:11         \n",
       " Class :character   1st Qu.:   4.784   Class :character   Class :character  \n",
       " Mode  :character   Median : 126.066   Mode  :character   Mode  :character  \n",
       "                    Mean   : 312.962                                        \n",
       "                    3rd Qu.: 386.659                                        \n",
       "                    Max.   :1207.845                                        \n",
       "    2010-03           2010-04            2010-05             2010-06        \n",
       " Min.   :   0.012   Length:11          Length:11          Min.   :   0.008  \n",
       " 1st Qu.:   5.274   Class :character   Class :character   1st Qu.:   6.436  \n",
       " Median : 131.252   Mode  :character   Mode  :character   Median : 129.144  \n",
       " Mean   : 332.726                                         Mean   : 335.964  \n",
       " 3rd Qu.: 428.420                                         3rd Qu.: 426.769  \n",
       " Max.   :1225.556                                         Max.   :1244.409  \n",
       "   2010-07            2010-08             2010-09           2010-10         \n",
       " Length:11          Length:11          Min.   :   0.001   Length:11         \n",
       " Class :character   Class :character   1st Qu.:   5.567   Class :character  \n",
       " Mode  :character   Mode  :character   Median : 132.892   Mode  :character  \n",
       "                                       Mean   : 346.524                     \n",
       "                                       3rd Qu.: 451.361                     \n",
       "                                       Max.   :1293.117                     \n",
       "   2010-11             2010-12           2011-01            2011-02         \n",
       " Length:11          Min.   :  -0.004   Length:11          Length:11         \n",
       " Class :character   1st Qu.:   4.466   Class :character   Class :character  \n",
       " Mode  :character   Median : 121.422   Mode  :character   Mode  :character  \n",
       "                    Mean   : 312.917                                        \n",
       "                    3rd Qu.: 388.385                                        \n",
       "                    Max.   :1216.262                                        \n",
       "    2011-03          2011-04            2011-05             2011-06        \n",
       " Min.   :   0.05   Length:11          Length:11          Min.   :   0.054  \n",
       " 1st Qu.:   6.03   Class :character   Class :character   1st Qu.:   6.926  \n",
       " Median : 134.37   Mode  :character   Mode  :character   Median : 135.581  \n",
       " Mean   : 345.17                                         Mean   : 353.331  \n",
       " 3rd Qu.: 448.56                                         3rd Qu.: 452.923  \n",
       " Max.   :1286.66                                         Max.   :1302.414  \n",
       "   2011-07            2011-08             2011-09           2011-10         \n",
       " Length:11          Length:11          Min.   :   0.043   Length:11         \n",
       " Class :character   Class :character   1st Qu.:   6.660   Class :character  \n",
       " Mode  :character   Mode  :character   Median : 136.901   Mode  :character  \n",
       "                                       Mean   : 362.555                     \n",
       "                                       3rd Qu.: 469.204                     \n",
       "                                       Max.   :1348.754                     "
      ]
     },
     "metadata": {},
     "output_type": "display_data"
    }
   ],
   "source": [
    "## mbta is pre-loaded\n",
    "\n",
    "# View the structure of mbta\n",
    "str(mbta)\n",
    "\n",
    "# View the first 6 rows of mbta\n",
    "head(mbta)\n",
    "\n",
    "# View a summary of mbta\n",
    "summary(mbta)"
   ]
  },
  {
   "cell_type": "markdown",
   "metadata": {},
   "source": [
    "## Removing unnecessary rows and columns"
   ]
  },
  {
   "cell_type": "code",
   "execution_count": 72,
   "metadata": {
    "collapsed": true
   },
   "outputs": [],
   "source": [
    "# Remove rows 1, 7, and 11 of mbta: mbta2\n",
    "mbta2 <- mbta[-c(1, 7, 11), ]\n",
    "\n",
    "# Remove the first column of mbta2: mbta3\n",
    "mbta3 <- mbta2[, -1]"
   ]
  },
  {
   "cell_type": "markdown",
   "metadata": {},
   "source": [
    "## Observations are stored in columns"
   ]
  },
  {
   "cell_type": "code",
   "execution_count": 73,
   "metadata": {},
   "outputs": [
    {
     "data": {
      "text/html": [
       "<table>\n",
       "<thead><tr><th scope=col>mode</th><th scope=col>month</th><th scope=col>thou_riders</th></tr></thead>\n",
       "<tbody>\n",
       "\t<tr><td>Boat         </td><td>2007-01      </td><td>4            </td></tr>\n",
       "\t<tr><td>Bus          </td><td>2007-01      </td><td>335.819      </td></tr>\n",
       "\t<tr><td>Commuter Rail</td><td>2007-01      </td><td>142.2        </td></tr>\n",
       "\t<tr><td>Heavy Rail   </td><td>2007-01      </td><td>435.294      </td></tr>\n",
       "\t<tr><td>Light Rail   </td><td>2007-01      </td><td>227.231      </td></tr>\n",
       "\t<tr><td>Private Bus  </td><td>2007-01      </td><td>4.772        </td></tr>\n",
       "</tbody>\n",
       "</table>\n"
      ],
      "text/latex": [
       "\\begin{tabular}{r|lll}\n",
       " mode & month & thou\\_riders\\\\\n",
       "\\hline\n",
       "\t Boat          & 2007-01       & 4            \\\\\n",
       "\t Bus           & 2007-01       & 335.819      \\\\\n",
       "\t Commuter Rail & 2007-01       & 142.2        \\\\\n",
       "\t Heavy Rail    & 2007-01       & 435.294      \\\\\n",
       "\t Light Rail    & 2007-01       & 227.231      \\\\\n",
       "\t Private Bus   & 2007-01       & 4.772        \\\\\n",
       "\\end{tabular}\n"
      ],
      "text/markdown": [
       "\n",
       "mode | month | thou_riders | \n",
       "|---|---|---|---|---|---|\n",
       "| Boat          | 2007-01       | 4             | \n",
       "| Bus           | 2007-01       | 335.819       | \n",
       "| Commuter Rail | 2007-01       | 142.2         | \n",
       "| Heavy Rail    | 2007-01       | 435.294       | \n",
       "| Light Rail    | 2007-01       | 227.231       | \n",
       "| Private Bus   | 2007-01       | 4.772         | \n",
       "\n",
       "\n"
      ],
      "text/plain": [
       "  mode          month   thou_riders\n",
       "1 Boat          2007-01 4          \n",
       "2 Bus           2007-01 335.819    \n",
       "3 Commuter Rail 2007-01 142.2      \n",
       "4 Heavy Rail    2007-01 435.294    \n",
       "5 Light Rail    2007-01 227.231    \n",
       "6 Private Bus   2007-01 4.772      "
      ]
     },
     "metadata": {},
     "output_type": "display_data"
    }
   ],
   "source": [
    "## mbta3 is pre-loaded\n",
    "\n",
    "# Load tidyr\n",
    "library(tidyr)\n",
    "\n",
    "# Gather columns of mbta3: mbta4\n",
    "mbta4 <- gather(mbta3, key = month, value = thou_riders, -mode)\n",
    "\n",
    "# View the head of mbta4\n",
    "head(mbta4)"
   ]
  },
  {
   "cell_type": "markdown",
   "metadata": {},
   "source": [
    "## Type conversions"
   ]
  },
  {
   "cell_type": "code",
   "execution_count": 74,
   "metadata": {},
   "outputs": [
    {
     "data": {
      "text/html": [
       "<table>\n",
       "<thead><tr><th scope=col>mode</th><th scope=col>month</th><th scope=col>thou_riders</th></tr></thead>\n",
       "<tbody>\n",
       "\t<tr><td>Boat         </td><td>2007-01      </td><td>  4.000      </td></tr>\n",
       "\t<tr><td>Bus          </td><td>2007-01      </td><td>335.819      </td></tr>\n",
       "\t<tr><td>Commuter Rail</td><td>2007-01      </td><td>142.200      </td></tr>\n",
       "\t<tr><td>Heavy Rail   </td><td>2007-01      </td><td>435.294      </td></tr>\n",
       "\t<tr><td>Light Rail   </td><td>2007-01      </td><td>227.231      </td></tr>\n",
       "\t<tr><td>Private Bus  </td><td>2007-01      </td><td>  4.772      </td></tr>\n",
       "</tbody>\n",
       "</table>\n"
      ],
      "text/latex": [
       "\\begin{tabular}{r|lll}\n",
       " mode & month & thou\\_riders\\\\\n",
       "\\hline\n",
       "\t Boat          & 2007-01       &   4.000      \\\\\n",
       "\t Bus           & 2007-01       & 335.819      \\\\\n",
       "\t Commuter Rail & 2007-01       & 142.200      \\\\\n",
       "\t Heavy Rail    & 2007-01       & 435.294      \\\\\n",
       "\t Light Rail    & 2007-01       & 227.231      \\\\\n",
       "\t Private Bus   & 2007-01       &   4.772      \\\\\n",
       "\\end{tabular}\n"
      ],
      "text/markdown": [
       "\n",
       "mode | month | thou_riders | \n",
       "|---|---|---|---|---|---|\n",
       "| Boat          | 2007-01       |   4.000       | \n",
       "| Bus           | 2007-01       | 335.819       | \n",
       "| Commuter Rail | 2007-01       | 142.200       | \n",
       "| Heavy Rail    | 2007-01       | 435.294       | \n",
       "| Light Rail    | 2007-01       | 227.231       | \n",
       "| Private Bus   | 2007-01       |   4.772       | \n",
       "\n",
       "\n"
      ],
      "text/plain": [
       "  mode          month   thou_riders\n",
       "1 Boat          2007-01   4.000    \n",
       "2 Bus           2007-01 335.819    \n",
       "3 Commuter Rail 2007-01 142.200    \n",
       "4 Heavy Rail    2007-01 435.294    \n",
       "5 Light Rail    2007-01 227.231    \n",
       "6 Private Bus   2007-01   4.772    "
      ]
     },
     "metadata": {},
     "output_type": "display_data"
    }
   ],
   "source": [
    "## mbta4 is pre-loaded\n",
    "\n",
    "# Coerce thou_riders to numeric\n",
    "mbta4$thou_riders <- as.numeric(mbta4$thou_riders)\n",
    "\n",
    "head(mbta4)"
   ]
  },
  {
   "cell_type": "markdown",
   "metadata": {},
   "source": [
    "## Variables are stored in both rows and columns"
   ]
  },
  {
   "cell_type": "code",
   "execution_count": 75,
   "metadata": {},
   "outputs": [
    {
     "data": {
      "text/html": [
       "<table>\n",
       "<thead><tr><th scope=col>month</th><th scope=col>Boat</th><th scope=col>Bus</th><th scope=col>Commuter Rail</th><th scope=col>Heavy Rail</th><th scope=col>Light Rail</th><th scope=col>Private Bus</th><th scope=col>RIDE</th><th scope=col>Trackless Trolley</th></tr></thead>\n",
       "<tbody>\n",
       "\t<tr><td>2007-01</td><td> 4.0   </td><td>335.819</td><td>142.2  </td><td>435.294</td><td>227.231</td><td>4.772  </td><td>4.9    </td><td>12.757 </td></tr>\n",
       "\t<tr><td>2007-02</td><td> 3.6   </td><td>338.675</td><td>138.5  </td><td>448.271</td><td>240.262</td><td>4.417  </td><td>5.0    </td><td>12.913 </td></tr>\n",
       "\t<tr><td>2007-03</td><td>40.0   </td><td>339.867</td><td>137.7  </td><td>458.583</td><td>241.444</td><td>4.574  </td><td>5.5    </td><td>13.057 </td></tr>\n",
       "\t<tr><td>2007-04</td><td> 4.3   </td><td>352.162</td><td>139.5  </td><td>472.201</td><td>255.557</td><td>4.542  </td><td>5.4    </td><td>13.444 </td></tr>\n",
       "\t<tr><td>2007-05</td><td> 4.9   </td><td>354.367</td><td>139.0  </td><td>474.579</td><td>248.262</td><td>4.768  </td><td>5.4    </td><td>13.479 </td></tr>\n",
       "\t<tr><td>2007-06</td><td> 5.8   </td><td>350.543</td><td>143.0  </td><td>477.032</td><td>246.108</td><td>4.722  </td><td>5.6    </td><td>13.323 </td></tr>\n",
       "</tbody>\n",
       "</table>\n"
      ],
      "text/latex": [
       "\\begin{tabular}{r|lllllllll}\n",
       " month & Boat & Bus & Commuter Rail & Heavy Rail & Light Rail & Private Bus & RIDE & Trackless Trolley\\\\\n",
       "\\hline\n",
       "\t 2007-01 &  4.0    & 335.819 & 142.2   & 435.294 & 227.231 & 4.772   & 4.9     & 12.757 \\\\\n",
       "\t 2007-02 &  3.6    & 338.675 & 138.5   & 448.271 & 240.262 & 4.417   & 5.0     & 12.913 \\\\\n",
       "\t 2007-03 & 40.0    & 339.867 & 137.7   & 458.583 & 241.444 & 4.574   & 5.5     & 13.057 \\\\\n",
       "\t 2007-04 &  4.3    & 352.162 & 139.5   & 472.201 & 255.557 & 4.542   & 5.4     & 13.444 \\\\\n",
       "\t 2007-05 &  4.9    & 354.367 & 139.0   & 474.579 & 248.262 & 4.768   & 5.4     & 13.479 \\\\\n",
       "\t 2007-06 &  5.8    & 350.543 & 143.0   & 477.032 & 246.108 & 4.722   & 5.6     & 13.323 \\\\\n",
       "\\end{tabular}\n"
      ],
      "text/markdown": [
       "\n",
       "month | Boat | Bus | Commuter Rail | Heavy Rail | Light Rail | Private Bus | RIDE | Trackless Trolley | \n",
       "|---|---|---|---|---|---|\n",
       "| 2007-01 |  4.0    | 335.819 | 142.2   | 435.294 | 227.231 | 4.772   | 4.9     | 12.757  | \n",
       "| 2007-02 |  3.6    | 338.675 | 138.5   | 448.271 | 240.262 | 4.417   | 5.0     | 12.913  | \n",
       "| 2007-03 | 40.0    | 339.867 | 137.7   | 458.583 | 241.444 | 4.574   | 5.5     | 13.057  | \n",
       "| 2007-04 |  4.3    | 352.162 | 139.5   | 472.201 | 255.557 | 4.542   | 5.4     | 13.444  | \n",
       "| 2007-05 |  4.9    | 354.367 | 139.0   | 474.579 | 248.262 | 4.768   | 5.4     | 13.479  | \n",
       "| 2007-06 |  5.8    | 350.543 | 143.0   | 477.032 | 246.108 | 4.722   | 5.6     | 13.323  | \n",
       "\n",
       "\n"
      ],
      "text/plain": [
       "  month   Boat Bus     Commuter Rail Heavy Rail Light Rail Private Bus RIDE\n",
       "1 2007-01  4.0 335.819 142.2         435.294    227.231    4.772       4.9 \n",
       "2 2007-02  3.6 338.675 138.5         448.271    240.262    4.417       5.0 \n",
       "3 2007-03 40.0 339.867 137.7         458.583    241.444    4.574       5.5 \n",
       "4 2007-04  4.3 352.162 139.5         472.201    255.557    4.542       5.4 \n",
       "5 2007-05  4.9 354.367 139.0         474.579    248.262    4.768       5.4 \n",
       "6 2007-06  5.8 350.543 143.0         477.032    246.108    4.722       5.6 \n",
       "  Trackless Trolley\n",
       "1 12.757           \n",
       "2 12.913           \n",
       "3 13.057           \n",
       "4 13.444           \n",
       "5 13.479           \n",
       "6 13.323           "
      ]
     },
     "metadata": {},
     "output_type": "display_data"
    }
   ],
   "source": [
    "## tidyr is pre-loaded\n",
    "\n",
    "# Spread the contents of mbta4: mbta5\n",
    "mbta5 <- spread(data = mbta4, key = mode, value = thou_riders)\n",
    "\n",
    "# View the head of mbta5\n",
    "head(mbta5)"
   ]
  },
  {
   "cell_type": "markdown",
   "metadata": {},
   "source": [
    "## Separating columns"
   ]
  },
  {
   "cell_type": "code",
   "execution_count": 76,
   "metadata": {},
   "outputs": [
    {
     "data": {
      "text/html": [
       "<table>\n",
       "<thead><tr><th scope=col>month</th><th scope=col>Boat</th><th scope=col>Bus</th><th scope=col>Commuter Rail</th><th scope=col>Heavy Rail</th><th scope=col>Light Rail</th><th scope=col>Private Bus</th><th scope=col>RIDE</th><th scope=col>Trackless Trolley</th></tr></thead>\n",
       "<tbody>\n",
       "\t<tr><td>2007-01</td><td> 4.0   </td><td>335.819</td><td>142.2  </td><td>435.294</td><td>227.231</td><td>4.772  </td><td>4.9    </td><td>12.757 </td></tr>\n",
       "\t<tr><td>2007-02</td><td> 3.6   </td><td>338.675</td><td>138.5  </td><td>448.271</td><td>240.262</td><td>4.417  </td><td>5.0    </td><td>12.913 </td></tr>\n",
       "\t<tr><td>2007-03</td><td>40.0   </td><td>339.867</td><td>137.7  </td><td>458.583</td><td>241.444</td><td>4.574  </td><td>5.5    </td><td>13.057 </td></tr>\n",
       "\t<tr><td>2007-04</td><td> 4.3   </td><td>352.162</td><td>139.5  </td><td>472.201</td><td>255.557</td><td>4.542  </td><td>5.4    </td><td>13.444 </td></tr>\n",
       "\t<tr><td>2007-05</td><td> 4.9   </td><td>354.367</td><td>139.0  </td><td>474.579</td><td>248.262</td><td>4.768  </td><td>5.4    </td><td>13.479 </td></tr>\n",
       "\t<tr><td>2007-06</td><td> 5.8   </td><td>350.543</td><td>143.0  </td><td>477.032</td><td>246.108</td><td>4.722  </td><td>5.6    </td><td>13.323 </td></tr>\n",
       "</tbody>\n",
       "</table>\n"
      ],
      "text/latex": [
       "\\begin{tabular}{r|lllllllll}\n",
       " month & Boat & Bus & Commuter Rail & Heavy Rail & Light Rail & Private Bus & RIDE & Trackless Trolley\\\\\n",
       "\\hline\n",
       "\t 2007-01 &  4.0    & 335.819 & 142.2   & 435.294 & 227.231 & 4.772   & 4.9     & 12.757 \\\\\n",
       "\t 2007-02 &  3.6    & 338.675 & 138.5   & 448.271 & 240.262 & 4.417   & 5.0     & 12.913 \\\\\n",
       "\t 2007-03 & 40.0    & 339.867 & 137.7   & 458.583 & 241.444 & 4.574   & 5.5     & 13.057 \\\\\n",
       "\t 2007-04 &  4.3    & 352.162 & 139.5   & 472.201 & 255.557 & 4.542   & 5.4     & 13.444 \\\\\n",
       "\t 2007-05 &  4.9    & 354.367 & 139.0   & 474.579 & 248.262 & 4.768   & 5.4     & 13.479 \\\\\n",
       "\t 2007-06 &  5.8    & 350.543 & 143.0   & 477.032 & 246.108 & 4.722   & 5.6     & 13.323 \\\\\n",
       "\\end{tabular}\n"
      ],
      "text/markdown": [
       "\n",
       "month | Boat | Bus | Commuter Rail | Heavy Rail | Light Rail | Private Bus | RIDE | Trackless Trolley | \n",
       "|---|---|---|---|---|---|\n",
       "| 2007-01 |  4.0    | 335.819 | 142.2   | 435.294 | 227.231 | 4.772   | 4.9     | 12.757  | \n",
       "| 2007-02 |  3.6    | 338.675 | 138.5   | 448.271 | 240.262 | 4.417   | 5.0     | 12.913  | \n",
       "| 2007-03 | 40.0    | 339.867 | 137.7   | 458.583 | 241.444 | 4.574   | 5.5     | 13.057  | \n",
       "| 2007-04 |  4.3    | 352.162 | 139.5   | 472.201 | 255.557 | 4.542   | 5.4     | 13.444  | \n",
       "| 2007-05 |  4.9    | 354.367 | 139.0   | 474.579 | 248.262 | 4.768   | 5.4     | 13.479  | \n",
       "| 2007-06 |  5.8    | 350.543 | 143.0   | 477.032 | 246.108 | 4.722   | 5.6     | 13.323  | \n",
       "\n",
       "\n"
      ],
      "text/plain": [
       "  month   Boat Bus     Commuter Rail Heavy Rail Light Rail Private Bus RIDE\n",
       "1 2007-01  4.0 335.819 142.2         435.294    227.231    4.772       4.9 \n",
       "2 2007-02  3.6 338.675 138.5         448.271    240.262    4.417       5.0 \n",
       "3 2007-03 40.0 339.867 137.7         458.583    241.444    4.574       5.5 \n",
       "4 2007-04  4.3 352.162 139.5         472.201    255.557    4.542       5.4 \n",
       "5 2007-05  4.9 354.367 139.0         474.579    248.262    4.768       5.4 \n",
       "6 2007-06  5.8 350.543 143.0         477.032    246.108    4.722       5.6 \n",
       "  Trackless Trolley\n",
       "1 12.757           \n",
       "2 12.913           \n",
       "3 13.057           \n",
       "4 13.444           \n",
       "5 13.479           \n",
       "6 13.323           "
      ]
     },
     "metadata": {},
     "output_type": "display_data"
    },
    {
     "data": {
      "text/html": [
       "<table>\n",
       "<thead><tr><th scope=col>year</th><th scope=col>month</th><th scope=col>Boat</th><th scope=col>Bus</th><th scope=col>Commuter Rail</th><th scope=col>Heavy Rail</th><th scope=col>Light Rail</th><th scope=col>Private Bus</th><th scope=col>RIDE</th><th scope=col>Trackless Trolley</th></tr></thead>\n",
       "<tbody>\n",
       "\t<tr><td>2007   </td><td>01     </td><td> 4.0   </td><td>335.819</td><td>142.2  </td><td>435.294</td><td>227.231</td><td>4.772  </td><td>4.9    </td><td>12.757 </td></tr>\n",
       "\t<tr><td>2007   </td><td>02     </td><td> 3.6   </td><td>338.675</td><td>138.5  </td><td>448.271</td><td>240.262</td><td>4.417  </td><td>5.0    </td><td>12.913 </td></tr>\n",
       "\t<tr><td>2007   </td><td>03     </td><td>40.0   </td><td>339.867</td><td>137.7  </td><td>458.583</td><td>241.444</td><td>4.574  </td><td>5.5    </td><td>13.057 </td></tr>\n",
       "\t<tr><td>2007   </td><td>04     </td><td> 4.3   </td><td>352.162</td><td>139.5  </td><td>472.201</td><td>255.557</td><td>4.542  </td><td>5.4    </td><td>13.444 </td></tr>\n",
       "\t<tr><td>2007   </td><td>05     </td><td> 4.9   </td><td>354.367</td><td>139.0  </td><td>474.579</td><td>248.262</td><td>4.768  </td><td>5.4    </td><td>13.479 </td></tr>\n",
       "\t<tr><td>2007   </td><td>06     </td><td> 5.8   </td><td>350.543</td><td>143.0  </td><td>477.032</td><td>246.108</td><td>4.722  </td><td>5.6    </td><td>13.323 </td></tr>\n",
       "</tbody>\n",
       "</table>\n"
      ],
      "text/latex": [
       "\\begin{tabular}{r|llllllllll}\n",
       " year & month & Boat & Bus & Commuter Rail & Heavy Rail & Light Rail & Private Bus & RIDE & Trackless Trolley\\\\\n",
       "\\hline\n",
       "\t 2007    & 01      &  4.0    & 335.819 & 142.2   & 435.294 & 227.231 & 4.772   & 4.9     & 12.757 \\\\\n",
       "\t 2007    & 02      &  3.6    & 338.675 & 138.5   & 448.271 & 240.262 & 4.417   & 5.0     & 12.913 \\\\\n",
       "\t 2007    & 03      & 40.0    & 339.867 & 137.7   & 458.583 & 241.444 & 4.574   & 5.5     & 13.057 \\\\\n",
       "\t 2007    & 04      &  4.3    & 352.162 & 139.5   & 472.201 & 255.557 & 4.542   & 5.4     & 13.444 \\\\\n",
       "\t 2007    & 05      &  4.9    & 354.367 & 139.0   & 474.579 & 248.262 & 4.768   & 5.4     & 13.479 \\\\\n",
       "\t 2007    & 06      &  5.8    & 350.543 & 143.0   & 477.032 & 246.108 & 4.722   & 5.6     & 13.323 \\\\\n",
       "\\end{tabular}\n"
      ],
      "text/markdown": [
       "\n",
       "year | month | Boat | Bus | Commuter Rail | Heavy Rail | Light Rail | Private Bus | RIDE | Trackless Trolley | \n",
       "|---|---|---|---|---|---|\n",
       "| 2007    | 01      |  4.0    | 335.819 | 142.2   | 435.294 | 227.231 | 4.772   | 4.9     | 12.757  | \n",
       "| 2007    | 02      |  3.6    | 338.675 | 138.5   | 448.271 | 240.262 | 4.417   | 5.0     | 12.913  | \n",
       "| 2007    | 03      | 40.0    | 339.867 | 137.7   | 458.583 | 241.444 | 4.574   | 5.5     | 13.057  | \n",
       "| 2007    | 04      |  4.3    | 352.162 | 139.5   | 472.201 | 255.557 | 4.542   | 5.4     | 13.444  | \n",
       "| 2007    | 05      |  4.9    | 354.367 | 139.0   | 474.579 | 248.262 | 4.768   | 5.4     | 13.479  | \n",
       "| 2007    | 06      |  5.8    | 350.543 | 143.0   | 477.032 | 246.108 | 4.722   | 5.6     | 13.323  | \n",
       "\n",
       "\n"
      ],
      "text/plain": [
       "  year month Boat Bus     Commuter Rail Heavy Rail Light Rail Private Bus RIDE\n",
       "1 2007 01     4.0 335.819 142.2         435.294    227.231    4.772       4.9 \n",
       "2 2007 02     3.6 338.675 138.5         448.271    240.262    4.417       5.0 \n",
       "3 2007 03    40.0 339.867 137.7         458.583    241.444    4.574       5.5 \n",
       "4 2007 04     4.3 352.162 139.5         472.201    255.557    4.542       5.4 \n",
       "5 2007 05     4.9 354.367 139.0         474.579    248.262    4.768       5.4 \n",
       "6 2007 06     5.8 350.543 143.0         477.032    246.108    4.722       5.6 \n",
       "  Trackless Trolley\n",
       "1 12.757           \n",
       "2 12.913           \n",
       "3 13.057           \n",
       "4 13.444           \n",
       "5 13.479           \n",
       "6 13.323           "
      ]
     },
     "metadata": {},
     "output_type": "display_data"
    }
   ],
   "source": [
    "## tidyr and mbta5 are pre-loaded\n",
    "\n",
    "# View the head of mbta5\n",
    "head(mbta5)\n",
    "\n",
    "# Split month column into month and year: mbta6\n",
    "mbta6 <- separate(mbta5, col = month, into = c(\"year\", \"month\"), sep = \"-\")\n",
    "\n",
    "# View the head of mbta6\n",
    "head(mbta6)"
   ]
  },
  {
   "cell_type": "markdown",
   "metadata": {},
   "source": [
    "## Do your values seem reasonable?"
   ]
  },
  {
   "cell_type": "code",
   "execution_count": 77,
   "metadata": {},
   "outputs": [
    {
     "data": {
      "text/plain": [
       "     year              month                Boat             Bus       \n",
       " Length:58          Length:58          Min.   : 2.985   Min.   :312.9  \n",
       " Class :character   Class :character   1st Qu.: 3.494   1st Qu.:345.6  \n",
       " Mode  :character   Mode  :character   Median : 4.293   Median :359.9  \n",
       "                                       Mean   : 5.068   Mean   :358.6  \n",
       "                                       3rd Qu.: 5.356   3rd Qu.:372.2  \n",
       "                                       Max.   :40.000   Max.   :398.5  \n",
       " Commuter Rail     Heavy Rail      Light Rail     Private Bus   \n",
       " Min.   :121.4   Min.   :435.3   Min.   :194.4   Min.   :2.213  \n",
       " 1st Qu.:131.4   1st Qu.:471.1   1st Qu.:220.6   1st Qu.:2.641  \n",
       " Median :138.8   Median :487.3   Median :231.9   Median :2.820  \n",
       " Mean   :137.4   Mean   :489.3   Mean   :233.0   Mean   :3.352  \n",
       " 3rd Qu.:142.4   3rd Qu.:511.3   3rd Qu.:244.5   3rd Qu.:4.167  \n",
       " Max.   :153.0   Max.   :554.9   Max.   :271.1   Max.   :4.878  \n",
       "      RIDE       Trackless Trolley\n",
       " Min.   :4.900   Min.   : 5.777   \n",
       " 1st Qu.:5.965   1st Qu.:11.679   \n",
       " Median :6.615   Median :12.598   \n",
       " Mean   :6.604   Mean   :12.125   \n",
       " 3rd Qu.:7.149   3rd Qu.:13.320   \n",
       " Max.   :8.598   Max.   :15.109   "
      ]
     },
     "metadata": {},
     "output_type": "display_data"
    },
    {
     "data": {
      "image/png": "[encoded data removed]",
      "text/plain": [
       "Plot with title \"Histogram of mbta6$Boat\""
      ]
     },
     "metadata": {},
     "output_type": "display_data"
    }
   ],
   "source": [
    "## mbta6 is pre-loaded\n",
    "\n",
    "# View a summary of mbta6\n",
    "summary(mbta6)\n",
    "\n",
    "# Generate a histogram of Boat column\n",
    "hist(mbta6$Boat)"
   ]
  },
  {
   "cell_type": "markdown",
   "metadata": {},
   "source": [
    "## Dealing with entry error"
   ]
  },
  {
   "cell_type": "code",
   "execution_count": 78,
   "metadata": {},
   "outputs": [
    {
     "data": {
      "image/png": "[encoded data removed]",
      "text/plain": [
       "Plot with title \"Histogram of mbta6$Boat\""
      ]
     },
     "metadata": {},
     "output_type": "display_data"
    }
   ],
   "source": [
    "# Find the row number of the incorrect value: i\n",
    "i <- which(mbta6$Boat > 20)\n",
    "\n",
    "# Replace the incorrect value with 4\n",
    "mbta6$Boat[i] <- 4\n",
    "\n",
    "# Generate a histogram of Boat column\n",
    "hist(mbta6$Boat)"
   ]
  },
  {
   "cell_type": "code",
   "execution_count": 81,
   "metadata": {},
   "outputs": [
    {
     "data": {},
     "metadata": {},
     "output_type": "display_data"
    },
    {
     "data": {
      "image/png": "[encoded data removed]",
      "text/plain": [
       "plot without title"
      ]
     },
     "metadata": {},
     "output_type": "display_data"
    }
   ],
   "source": [
    "# Load ggplot2 and stringr library\n",
    "library(ggplot2)\n",
    "library(stringr)\n",
    "\n",
    "# Transform the data into usable format\n",
    "mbta_all <- gather(mbta3, key = month, value = thou_riders, -mode)\n",
    "mbta_all$month <- str_replace(string = mbta_all$month, pattern = \"-\", replacement = \"\")\n",
    "\n",
    "mbta_boat <- mbta_all[mbta_all$mode == \"Boat\" | mbta_all$mode == \"Trackless Trolley\", ]\n",
    "\n",
    "# Look at Boat and Trackless Trolley ridership over time (don't change)\n",
    "ggplot(mbta_boat, aes(x = month, y = thou_riders, col = mode)) +  geom_point() + \n",
    "  scale_x_discrete(name = \"Month\", breaks = c(200701, 200801, 200901, 201001, 201101)) + \n",
    "  scale_y_continuous(\"Avg Weekday Ridership (thousands)\")"
   ]
  },
  {
   "cell_type": "code",
   "execution_count": 82,
   "metadata": {},
   "outputs": [
    {
     "data": {},
     "metadata": {},
     "output_type": "display_data"
    },
    {
     "data": {
      "image/png": "[encoded data removed]",
      "text/plain": [
       "plot without title"
      ]
     },
     "metadata": {},
     "output_type": "display_data"
    }
   ],
   "source": [
    "# Look at all T ridership over time (don't change)\n",
    "ggplot(mbta_all, aes(x = month, y = thou_riders, col = mode)) + geom_point() + \n",
    "  scale_x_discrete(name = \"Month\", breaks = c(200701, 200801, 200901, 201001, 201101)) +  \n",
    "  scale_y_continuous(\"Avg Weekday Ridership (thousands)\")"
   ]
  }
 ],
 "metadata": {
  "kernelspec": {
   "display_name": "R",
   "language": "R",
   "name": "ir"
  },
  "language_info": {
   "codemirror_mode": "r",
   "file_extension": ".r",
   "mimetype": "text/x-r-source",
   "name": "R",
   "pygments_lexer": "r",
   "version": "3.4.2"
  }
 },
 "nbformat": 4,
 "nbformat_minor": 2
}
