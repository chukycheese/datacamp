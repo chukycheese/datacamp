{
 "cells": [
  {
   "cell_type": "markdown",
   "metadata": {},
   "source": [
    "# Why care about cleaning data?\n",
    "\n",
    "* With the rise of 'big data', data cleaning is getting more important to find meaningful insights.\n",
    "\n",
    "\n",
    "* Steps\n",
    "    1. Collect/Acquire\n",
    "    2. Clean\n",
    "    3. Analyze/Model\n",
    "    4. Report\n",
    "    \n",
    "\n",
    "* Data scientists spend 50-80% of their time cleaning data\n",
    "\n",
    "# What we'll cover in this course\n",
    "\n",
    "1. Exploring raw data\n",
    "2. Tidying data\n",
    "3. Preparing data for analysis\n",
    "4. Putting all together"
   ]
  },
  {
   "cell_type": "markdown",
   "metadata": {},
   "source": [
    "# Here's what messy data look like"
   ]
  },
  {
   "cell_type": "code",
   "execution_count": null,
   "metadata": {
    "collapsed": true
   },
   "outputs": [],
   "source": [
    "# View the first 6 rows of data\n",
    "head(weather)\n",
    "\n",
    "# View the last 6 rows of data\n",
    "tail(weather)\n",
    "\n",
    "# View a condensed summary of the data\n",
    "str(weather)"
   ]
  },
  {
   "cell_type": "markdown",
   "metadata": {},
   "source": [
    "# Exploring Raw Data\n",
    "\n",
    "## Exploring raw data\n",
    "* Understanding the strucutre of your data\n",
    "* Look at your data\n",
    "* Visualize your data\n",
    "\n",
    "## Understanding the structure of your data\n",
    "* class() : Check the data class\n",
    "* dim() : Check the number of rows and columns\n",
    "* str() : Check the elements of the data\n",
    "* names() : Check the column names of the data\n",
    "* glimpse() : \n",
    "* summary() : Brief summary of the data"
   ]
  },
  {
   "cell_type": "markdown",
   "metadata": {},
   "source": [
    "## Getting a feel for your data"
   ]
  },
  {
   "cell_type": "code",
   "execution_count": null,
   "metadata": {
    "collapsed": true
   },
   "outputs": [],
   "source": [
    "# Check the class of bmi\n",
    "class(bmi)\n",
    "\n",
    "# Check the dimensions of bmi\n",
    "dim(bmi)\n",
    "\n",
    "# View the column names of bmi\n",
    "names(bmi)"
   ]
  },
  {
   "cell_type": "markdown",
   "metadata": {},
   "source": [
    "## Viewing the strucutre of your data\n",
    "\n",
    "* str() :\n",
    "* dplyr::glimpse() : A slightly cleaner alternative to str()\n",
    "* summary() : "
   ]
  },
  {
   "cell_type": "code",
   "execution_count": null,
   "metadata": {
    "collapsed": true
   },
   "outputs": [],
   "source": [
    "# Check the structure of bmi\n",
    "str(bmi)\n",
    "\n",
    "# Load dplyr\n",
    "library(dplyr)\n",
    "\n",
    "# Check the structure of bmi, the dplyr way\n",
    "glimpse(bmi)\n",
    "\n",
    "# View a summary of bmi\n",
    "summary(bmi)"
   ]
  },
  {
   "cell_type": "markdown",
   "metadata": {},
   "source": [
    "# Exploring raw data (part 2)\n",
    "\n",
    "## Looking at your data\n",
    "\n",
    "* head() : Shows the first 6 rows by default\n",
    "* tail() : Shows the last 6 rows by default\n",
    "\n",
    "\n",
    "## Visualizing your data\n",
    "\n",
    "* hist() : Histogram\n",
    "* plot() : Scatter plot"
   ]
  },
  {
   "cell_type": "markdown",
   "metadata": {},
   "source": [
    "## Looking at your data"
   ]
  },
  {
   "cell_type": "code",
   "execution_count": null,
   "metadata": {
    "collapsed": true
   },
   "outputs": [],
   "source": [
    "# Print bmi to the console\n",
    "print(bmi)\n",
    "\n",
    "# View the first 6 rows\n",
    "head(bmi)\n",
    "\n",
    "# View the first 15 rows\n",
    "head(bmi, n = 15)\n",
    "\n",
    "# View the last 6 rows\n",
    "tail(bmi)\n",
    "\n",
    "# View the last 10 rows\n",
    "tail(bmi, n = 10)"
   ]
  },
  {
   "cell_type": "markdown",
   "metadata": {},
   "source": [
    "## Visualizing your data"
   ]
  },
  {
   "cell_type": "code",
   "execution_count": null,
   "metadata": {
    "collapsed": true
   },
   "outputs": [],
   "source": [
    "# Histogram of BMIs from 2008\n",
    "hist(bmi$Y2008)\n",
    "\n",
    "# Scatter plot comparing BMIs from 1980 to those from 2008\n",
    "plot(bmi$Y1980, bmi$Y2008)"
   ]
  }
 ],
 "metadata": {
  "kernelspec": {
   "display_name": "R",
   "language": "R",
   "name": "ir"
  },
  "language_info": {
   "codemirror_mode": "r",
   "file_extension": ".r",
   "mimetype": "text/x-r-source",
   "name": "R",
   "pygments_lexer": "r",
   "version": "3.4.2"
  }
 },
 "nbformat": 4,
 "nbformat_minor": 2
}
