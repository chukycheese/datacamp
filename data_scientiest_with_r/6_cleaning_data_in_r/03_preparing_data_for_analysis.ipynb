{
 "cells": [
  {
   "cell_type": "markdown",
   "metadata": {},
   "source": [
    "# Type conversions\n",
    "\n",
    "## Types of variables in R\n",
    "\n",
    "* character\n",
    "* numeric : 22.44, Inf, NaN\n",
    "* integer : 4L\n",
    "* logical : TRUE, FALSE, NA\n",
    "\n",
    "## Overview of lubridate\n",
    "\n",
    "* Written by Garrett Grolemund & Hadley Wickham\n",
    "\n",
    "## Dates with lubridate\n",
    "\n",
    "* mdy\n",
    "* ymd\n",
    "* hms\n",
    "* ymd_hms"
   ]
  },
  {
   "cell_type": "markdown",
   "metadata": {},
   "source": [
    "## Types of variables in R"
   ]
  },
  {
   "cell_type": "code",
   "execution_count": null,
   "metadata": {
    "collapsed": true
   },
   "outputs": [],
   "source": [
    "# Make this evaluate to character\n",
    "# class(true)\n",
    "class(\"true\")\n",
    "\n",
    "# Make this evaluate to numeric\n",
    "# class(\"8484.00\")\n",
    "class(8484.00)\n",
    "# Make this evaluate to integer\n",
    "# class(99)\n",
    "class(99L)\n",
    "\n",
    "# Make this evaluate to factor\n",
    "# class(\"factor\")\n",
    "class(as.factor(\"factor\"))\n",
    "\n",
    "# Make this evaluate to logical\n",
    "# class(\"FALSE\")\n",
    "class(FALSE)"
   ]
  },
  {
   "cell_type": "markdown",
   "metadata": {},
   "source": [
    "## Common type conversions"
   ]
  },
  {
   "cell_type": "code",
   "execution_count": null,
   "metadata": {
    "collapsed": true
   },
   "outputs": [],
   "source": [
    "# Preview students with str()\n",
    "str(students)\n",
    "\n",
    "# Coerce Grades to character\n",
    "students$Grades <- as.character(students$Grades)\n",
    "\n",
    "# Coerce Medu to factor\n",
    "students$Medu <- as.factor(students$Medu)\n",
    "\n",
    "# Coerce Fedu to factor\n",
    "students$Fedu <- as.factor(students$Fedu)\n",
    "    \n",
    "# Look at students once more with str()\n",
    "str(students)"
   ]
  },
  {
   "cell_type": "markdown",
   "metadata": {},
   "source": [
    "## Working with dates"
   ]
  },
  {
   "cell_type": "code",
   "execution_count": 2,
   "metadata": {
    "collapsed": true
   },
   "outputs": [],
   "source": [
    "# Preview students2 with str()\n",
    "str(students2)\n",
    "\n",
    "# Load the lubridate package\n",
    "library(lubridate)\n",
    "\n",
    "# Parse as date\n",
    "# \"17 Sep 2015\"\n",
    "dmy(\"17 Sep 2015\")\n",
    "\n",
    "# Parse as date and time (with no seconds!)\n",
    "# \"July 15, 2012 12:56\"\n",
    "mdy_hm(\"July 15, 2012 12:56\")\n",
    "\n",
    "# Coerce dob to a date (with no time)\n",
    "students2$dob <- ymd(students2$dob)\n",
    "\n",
    "# Coerce nurse_visit to a date and time\n",
    "students2$nurse_visit <-ymd_hms(students2$nurse_visit) \n",
    "    \n",
    "# Look at students2 once more with str()\n",
    "str(students2)"
   ]
  },
  {
   "cell_type": "markdown",
   "metadata": {},
   "source": [
    "# String manipulation\n",
    "\n",
    "## Overview of stringr\n",
    "\n",
    "* R package written by Hadley Wickham\n",
    "* Suite of helpful functions for working with strings\n",
    "* Functions share consistent interface\n",
    "\n",
    "## Key functions in stringr for cleaning data\n",
    "\n",
    "* str_trim() : Trim leading and trailing white space\n",
    "* str_pad() : Pad string with additional characters\n",
    "* str_detect() : Search for string in vector and returns logical values\n",
    "* str_replace() : Replace string in vector\n",
    "\n",
    "## Other helpful functions in base R\n",
    "\n",
    "* tolower() : Make all lowercase\n",
    "* toupper() : Make all uppercase"
   ]
  },
  {
   "cell_type": "markdown",
   "metadata": {},
   "source": [
    "## Trimming and padding strings"
   ]
  },
  {
   "cell_type": "code",
   "execution_count": 4,
   "metadata": {},
   "outputs": [
    {
     "data": {
      "text/html": [
       "<ol class=list-inline>\n",
       "\t<li>'Filip'</li>\n",
       "\t<li>'Nick'</li>\n",
       "\t<li>'Jonathan'</li>\n",
       "</ol>\n"
      ],
      "text/latex": [
       "\\begin{enumerate*}\n",
       "\\item 'Filip'\n",
       "\\item 'Nick'\n",
       "\\item 'Jonathan'\n",
       "\\end{enumerate*}\n"
      ],
      "text/markdown": [
       "1. 'Filip'\n",
       "2. 'Nick'\n",
       "3. 'Jonathan'\n",
       "\n",
       "\n"
      ],
      "text/plain": [
       "[1] \"Filip\"    \"Nick\"     \"Jonathan\""
      ]
     },
     "metadata": {},
     "output_type": "display_data"
    },
    {
     "data": {
      "text/html": [
       "<ol class=list-inline>\n",
       "\t<li>'00023485W'</li>\n",
       "\t<li>'08823453Q'</li>\n",
       "\t<li>'00000994Z'</li>\n",
       "</ol>\n"
      ],
      "text/latex": [
       "\\begin{enumerate*}\n",
       "\\item '00023485W'\n",
       "\\item '08823453Q'\n",
       "\\item '00000994Z'\n",
       "\\end{enumerate*}\n"
      ],
      "text/markdown": [
       "1. '00023485W'\n",
       "2. '08823453Q'\n",
       "3. '00000994Z'\n",
       "\n",
       "\n"
      ],
      "text/plain": [
       "[1] \"00023485W\" \"08823453Q\" \"00000994Z\""
      ]
     },
     "metadata": {},
     "output_type": "display_data"
    }
   ],
   "source": [
    "# Load the stringr package\n",
    "library(stringr)\n",
    "\n",
    "# Trim all leading and trailing whitespace\n",
    "# c(\"   Filip \", \"Nick  \", \" Jonathan\")\n",
    "str_trim(c(\"   Filip \", \"Nick  \", \" Jonathan\"))\n",
    "\n",
    "# Pad these strings with leading zeros\n",
    "# c(\"23485W\", \"8823453Q\", \"994Z\")\n",
    "str_pad(c(\"23485W\", \"8823453Q\", \"994Z\"), width = 9, pad = \"0\")"
   ]
  },
  {
   "cell_type": "markdown",
   "metadata": {},
   "source": [
    "## Upper and lower case"
   ]
  },
  {
   "cell_type": "code",
   "execution_count": 7,
   "metadata": {},
   "outputs": [
    {
     "name": "stdout",
     "output_type": "stream",
     "text": [
      " [1] \"al\" \"ak\" \"az\" \"ar\" \"ca\" \"co\" \"ct\" \"de\" \"fl\" \"ga\" \"hi\" \"id\" \"il\" \"in\" \"ia\"\n",
      "[16] \"ks\" \"ky\" \"la\" \"me\" \"md\" \"ma\" \"mi\" \"mn\" \"ms\" \"mo\" \"mt\" \"ne\" \"nv\" \"nh\" \"nj\"\n",
      "[31] \"nm\" \"ny\" \"nc\" \"nd\" \"oh\" \"ok\" \"or\" \"pa\" \"ri\" \"sc\" \"sd\" \"tn\" \"tx\" \"ut\" \"vt\"\n",
      "[46] \"va\" \"wa\" \"wv\" \"wi\" \"wy\"\n"
     ]
    },
    {
     "data": {
      "text/html": [
       "<ol class=list-inline>\n",
       "\t<li>'AL'</li>\n",
       "\t<li>'AK'</li>\n",
       "\t<li>'AZ'</li>\n",
       "\t<li>'AR'</li>\n",
       "\t<li>'CA'</li>\n",
       "\t<li>'CO'</li>\n",
       "\t<li>'CT'</li>\n",
       "\t<li>'DE'</li>\n",
       "\t<li>'FL'</li>\n",
       "\t<li>'GA'</li>\n",
       "\t<li>'HI'</li>\n",
       "\t<li>'ID'</li>\n",
       "\t<li>'IL'</li>\n",
       "\t<li>'IN'</li>\n",
       "\t<li>'IA'</li>\n",
       "\t<li>'KS'</li>\n",
       "\t<li>'KY'</li>\n",
       "\t<li>'LA'</li>\n",
       "\t<li>'ME'</li>\n",
       "\t<li>'MD'</li>\n",
       "\t<li>'MA'</li>\n",
       "\t<li>'MI'</li>\n",
       "\t<li>'MN'</li>\n",
       "\t<li>'MS'</li>\n",
       "\t<li>'MO'</li>\n",
       "\t<li>'MT'</li>\n",
       "\t<li>'NE'</li>\n",
       "\t<li>'NV'</li>\n",
       "\t<li>'NH'</li>\n",
       "\t<li>'NJ'</li>\n",
       "\t<li>'NM'</li>\n",
       "\t<li>'NY'</li>\n",
       "\t<li>'NC'</li>\n",
       "\t<li>'ND'</li>\n",
       "\t<li>'OH'</li>\n",
       "\t<li>'OK'</li>\n",
       "\t<li>'OR'</li>\n",
       "\t<li>'PA'</li>\n",
       "\t<li>'RI'</li>\n",
       "\t<li>'SC'</li>\n",
       "\t<li>'SD'</li>\n",
       "\t<li>'TN'</li>\n",
       "\t<li>'TX'</li>\n",
       "\t<li>'UT'</li>\n",
       "\t<li>'VT'</li>\n",
       "\t<li>'VA'</li>\n",
       "\t<li>'WA'</li>\n",
       "\t<li>'WV'</li>\n",
       "\t<li>'WI'</li>\n",
       "\t<li>'WY'</li>\n",
       "</ol>\n"
      ],
      "text/latex": [
       "\\begin{enumerate*}\n",
       "\\item 'AL'\n",
       "\\item 'AK'\n",
       "\\item 'AZ'\n",
       "\\item 'AR'\n",
       "\\item 'CA'\n",
       "\\item 'CO'\n",
       "\\item 'CT'\n",
       "\\item 'DE'\n",
       "\\item 'FL'\n",
       "\\item 'GA'\n",
       "\\item 'HI'\n",
       "\\item 'ID'\n",
       "\\item 'IL'\n",
       "\\item 'IN'\n",
       "\\item 'IA'\n",
       "\\item 'KS'\n",
       "\\item 'KY'\n",
       "\\item 'LA'\n",
       "\\item 'ME'\n",
       "\\item 'MD'\n",
       "\\item 'MA'\n",
       "\\item 'MI'\n",
       "\\item 'MN'\n",
       "\\item 'MS'\n",
       "\\item 'MO'\n",
       "\\item 'MT'\n",
       "\\item 'NE'\n",
       "\\item 'NV'\n",
       "\\item 'NH'\n",
       "\\item 'NJ'\n",
       "\\item 'NM'\n",
       "\\item 'NY'\n",
       "\\item 'NC'\n",
       "\\item 'ND'\n",
       "\\item 'OH'\n",
       "\\item 'OK'\n",
       "\\item 'OR'\n",
       "\\item 'PA'\n",
       "\\item 'RI'\n",
       "\\item 'SC'\n",
       "\\item 'SD'\n",
       "\\item 'TN'\n",
       "\\item 'TX'\n",
       "\\item 'UT'\n",
       "\\item 'VT'\n",
       "\\item 'VA'\n",
       "\\item 'WA'\n",
       "\\item 'WV'\n",
       "\\item 'WI'\n",
       "\\item 'WY'\n",
       "\\end{enumerate*}\n"
      ],
      "text/markdown": [
       "1. 'AL'\n",
       "2. 'AK'\n",
       "3. 'AZ'\n",
       "4. 'AR'\n",
       "5. 'CA'\n",
       "6. 'CO'\n",
       "7. 'CT'\n",
       "8. 'DE'\n",
       "9. 'FL'\n",
       "10. 'GA'\n",
       "11. 'HI'\n",
       "12. 'ID'\n",
       "13. 'IL'\n",
       "14. 'IN'\n",
       "15. 'IA'\n",
       "16. 'KS'\n",
       "17. 'KY'\n",
       "18. 'LA'\n",
       "19. 'ME'\n",
       "20. 'MD'\n",
       "21. 'MA'\n",
       "22. 'MI'\n",
       "23. 'MN'\n",
       "24. 'MS'\n",
       "25. 'MO'\n",
       "26. 'MT'\n",
       "27. 'NE'\n",
       "28. 'NV'\n",
       "29. 'NH'\n",
       "30. 'NJ'\n",
       "31. 'NM'\n",
       "32. 'NY'\n",
       "33. 'NC'\n",
       "34. 'ND'\n",
       "35. 'OH'\n",
       "36. 'OK'\n",
       "37. 'OR'\n",
       "38. 'PA'\n",
       "39. 'RI'\n",
       "40. 'SC'\n",
       "41. 'SD'\n",
       "42. 'TN'\n",
       "43. 'TX'\n",
       "44. 'UT'\n",
       "45. 'VT'\n",
       "46. 'VA'\n",
       "47. 'WA'\n",
       "48. 'WV'\n",
       "49. 'WI'\n",
       "50. 'WY'\n",
       "\n",
       "\n"
      ],
      "text/plain": [
       " [1] \"AL\" \"AK\" \"AZ\" \"AR\" \"CA\" \"CO\" \"CT\" \"DE\" \"FL\" \"GA\" \"HI\" \"ID\" \"IL\" \"IN\" \"IA\"\n",
       "[16] \"KS\" \"KY\" \"LA\" \"ME\" \"MD\" \"MA\" \"MI\" \"MN\" \"MS\" \"MO\" \"MT\" \"NE\" \"NV\" \"NH\" \"NJ\"\n",
       "[31] \"NM\" \"NY\" \"NC\" \"ND\" \"OH\" \"OK\" \"OR\" \"PA\" \"RI\" \"SC\" \"SD\" \"TN\" \"TX\" \"UT\" \"VT\"\n",
       "[46] \"VA\" \"WA\" \"WV\" \"WI\" \"WY\""
      ]
     },
     "metadata": {},
     "output_type": "display_data"
    },
    {
     "data": {
      "text/html": [
       "<ol class=list-inline>\n",
       "\t<li>'al'</li>\n",
       "\t<li>'ak'</li>\n",
       "\t<li>'az'</li>\n",
       "\t<li>'ar'</li>\n",
       "\t<li>'ca'</li>\n",
       "\t<li>'co'</li>\n",
       "\t<li>'ct'</li>\n",
       "\t<li>'de'</li>\n",
       "\t<li>'fl'</li>\n",
       "\t<li>'ga'</li>\n",
       "\t<li>'hi'</li>\n",
       "\t<li>'id'</li>\n",
       "\t<li>'il'</li>\n",
       "\t<li>'in'</li>\n",
       "\t<li>'ia'</li>\n",
       "\t<li>'ks'</li>\n",
       "\t<li>'ky'</li>\n",
       "\t<li>'la'</li>\n",
       "\t<li>'me'</li>\n",
       "\t<li>'md'</li>\n",
       "\t<li>'ma'</li>\n",
       "\t<li>'mi'</li>\n",
       "\t<li>'mn'</li>\n",
       "\t<li>'ms'</li>\n",
       "\t<li>'mo'</li>\n",
       "\t<li>'mt'</li>\n",
       "\t<li>'ne'</li>\n",
       "\t<li>'nv'</li>\n",
       "\t<li>'nh'</li>\n",
       "\t<li>'nj'</li>\n",
       "\t<li>'nm'</li>\n",
       "\t<li>'ny'</li>\n",
       "\t<li>'nc'</li>\n",
       "\t<li>'nd'</li>\n",
       "\t<li>'oh'</li>\n",
       "\t<li>'ok'</li>\n",
       "\t<li>'or'</li>\n",
       "\t<li>'pa'</li>\n",
       "\t<li>'ri'</li>\n",
       "\t<li>'sc'</li>\n",
       "\t<li>'sd'</li>\n",
       "\t<li>'tn'</li>\n",
       "\t<li>'tx'</li>\n",
       "\t<li>'ut'</li>\n",
       "\t<li>'vt'</li>\n",
       "\t<li>'va'</li>\n",
       "\t<li>'wa'</li>\n",
       "\t<li>'wv'</li>\n",
       "\t<li>'wi'</li>\n",
       "\t<li>'wy'</li>\n",
       "</ol>\n"
      ],
      "text/latex": [
       "\\begin{enumerate*}\n",
       "\\item 'al'\n",
       "\\item 'ak'\n",
       "\\item 'az'\n",
       "\\item 'ar'\n",
       "\\item 'ca'\n",
       "\\item 'co'\n",
       "\\item 'ct'\n",
       "\\item 'de'\n",
       "\\item 'fl'\n",
       "\\item 'ga'\n",
       "\\item 'hi'\n",
       "\\item 'id'\n",
       "\\item 'il'\n",
       "\\item 'in'\n",
       "\\item 'ia'\n",
       "\\item 'ks'\n",
       "\\item 'ky'\n",
       "\\item 'la'\n",
       "\\item 'me'\n",
       "\\item 'md'\n",
       "\\item 'ma'\n",
       "\\item 'mi'\n",
       "\\item 'mn'\n",
       "\\item 'ms'\n",
       "\\item 'mo'\n",
       "\\item 'mt'\n",
       "\\item 'ne'\n",
       "\\item 'nv'\n",
       "\\item 'nh'\n",
       "\\item 'nj'\n",
       "\\item 'nm'\n",
       "\\item 'ny'\n",
       "\\item 'nc'\n",
       "\\item 'nd'\n",
       "\\item 'oh'\n",
       "\\item 'ok'\n",
       "\\item 'or'\n",
       "\\item 'pa'\n",
       "\\item 'ri'\n",
       "\\item 'sc'\n",
       "\\item 'sd'\n",
       "\\item 'tn'\n",
       "\\item 'tx'\n",
       "\\item 'ut'\n",
       "\\item 'vt'\n",
       "\\item 'va'\n",
       "\\item 'wa'\n",
       "\\item 'wv'\n",
       "\\item 'wi'\n",
       "\\item 'wy'\n",
       "\\end{enumerate*}\n"
      ],
      "text/markdown": [
       "1. 'al'\n",
       "2. 'ak'\n",
       "3. 'az'\n",
       "4. 'ar'\n",
       "5. 'ca'\n",
       "6. 'co'\n",
       "7. 'ct'\n",
       "8. 'de'\n",
       "9. 'fl'\n",
       "10. 'ga'\n",
       "11. 'hi'\n",
       "12. 'id'\n",
       "13. 'il'\n",
       "14. 'in'\n",
       "15. 'ia'\n",
       "16. 'ks'\n",
       "17. 'ky'\n",
       "18. 'la'\n",
       "19. 'me'\n",
       "20. 'md'\n",
       "21. 'ma'\n",
       "22. 'mi'\n",
       "23. 'mn'\n",
       "24. 'ms'\n",
       "25. 'mo'\n",
       "26. 'mt'\n",
       "27. 'ne'\n",
       "28. 'nv'\n",
       "29. 'nh'\n",
       "30. 'nj'\n",
       "31. 'nm'\n",
       "32. 'ny'\n",
       "33. 'nc'\n",
       "34. 'nd'\n",
       "35. 'oh'\n",
       "36. 'ok'\n",
       "37. 'or'\n",
       "38. 'pa'\n",
       "39. 'ri'\n",
       "40. 'sc'\n",
       "41. 'sd'\n",
       "42. 'tn'\n",
       "43. 'tx'\n",
       "44. 'ut'\n",
       "45. 'vt'\n",
       "46. 'va'\n",
       "47. 'wa'\n",
       "48. 'wv'\n",
       "49. 'wi'\n",
       "50. 'wy'\n",
       "\n",
       "\n"
      ],
      "text/plain": [
       " [1] \"al\" \"ak\" \"az\" \"ar\" \"ca\" \"co\" \"ct\" \"de\" \"fl\" \"ga\" \"hi\" \"id\" \"il\" \"in\" \"ia\"\n",
       "[16] \"ks\" \"ky\" \"la\" \"me\" \"md\" \"ma\" \"mi\" \"mn\" \"ms\" \"mo\" \"mt\" \"ne\" \"nv\" \"nh\" \"nj\"\n",
       "[31] \"nm\" \"ny\" \"nc\" \"nd\" \"oh\" \"ok\" \"or\" \"pa\" \"ri\" \"sc\" \"sd\" \"tn\" \"tx\" \"ut\" \"vt\"\n",
       "[46] \"va\" \"wa\" \"wv\" \"wi\" \"wy\""
      ]
     },
     "metadata": {},
     "output_type": "display_data"
    }
   ],
   "source": [
    "states <- c(\"al\", \"ak\", \"az\", \"ar\", \"ca\", \"co\", \"ct\", \"de\", \"fl\", \"ga\", \"hi\", \"id\", \"il\", \"in\", \"ia\",\n",
    "            \"ks\", \"ky\", \"la\", \"me\", \"md\", \"ma\", \"mi\", \"mn\", \"ms\", \"mo\", \"mt\", \"ne\", \"nv\", \"nh\", \"nj\",\n",
    "            \"nm\", \"ny\", \"nc\", \"nd\", \"oh\", \"ok\", \"or\", \"pa\", \"ri\", \"sc\", \"sd\", \"tn\", \"tx\", \"ut\", \"vt\",\n",
    "            \"va\", \"wa\", \"wv\", \"wi\", \"wy\")\n",
    "\n",
    "# Print state abbreviations\n",
    "print(states)\n",
    "\n",
    "# Make states all uppercase and save result to states_upper\n",
    "states_upper <- toupper(states)\n",
    "states_upper\n",
    "\n",
    "# Make states_upper all lowercase again\n",
    "tolower(states_upper)"
   ]
  },
  {
   "cell_type": "markdown",
   "metadata": {},
   "source": [
    "## Finding and replaceing strings\n",
    "\n",
    "* str_detect()\n",
    "* str_replace()"
   ]
  },
  {
   "cell_type": "code",
   "execution_count": null,
   "metadata": {
    "collapsed": true
   },
   "outputs": [],
   "source": [
    "## stringr has been loaded for you\n",
    "\n",
    "# Look at the head of students2\n",
    "head(students2)\n",
    "\n",
    "# Detect all dates of birth (dob) in 1997\n",
    "str_detect(students2$dob, \"1997\")\n",
    "\n",
    "# In the sex column, replace \"F\" with \"Female\"...\n",
    "students2$sex <- str_replace(students2$sex, \"F\", \"Female\")\n",
    "\n",
    "# ...And \"M\" with \"Male\"\n",
    "students2$sex <- str_replace(students2$sex, \"M\", \"Male\")\n",
    "\n",
    "# View the head of students2\n",
    "head(students2)"
   ]
  },
  {
   "cell_type": "markdown",
   "metadata": {},
   "source": [
    "# Missing and special values\n",
    "\n",
    "## Missing values\n",
    "\n",
    "* May be random, but dangerous to assume\n",
    "* Sometimes associated with variable/outcome of interest\n",
    "* In R, represented as NA\n",
    "* May appear in other forms\n",
    "    - #N/A (Excel)\n",
    "    - Single dot (SPSS, SAS)\n",
    "    - Empty string\n",
    "\n",
    "## Special values\n",
    "\n",
    "* Inf - \"Infinity value\"(Indicative of outliers?)\n",
    "    - 1/0\n",
    "    - 1/0 + 1/0\n",
    "    - 33333^33333\n",
    "* NaN - \"Not a number\"(rethink a variable?)\n",
    "    - 0/0\n",
    "    - 1/0 - 1/0\n",
    "\n",
    "## Finding missing values\n",
    "\n",
    "* is.na() - Check for NAs\n",
    "* any(is.na()) - Are there any NAs?\n",
    "* sum(is.na()) - Count the number of NAs\n",
    "* summary() - returns the number of NA's per column if there's any\n",
    "\n",
    "## Dealing with missing values\n",
    "\n",
    "* complete.cases() - Find rows with no missing values\n",
    "* df[complete.cases(df), ] - Subset data, keeping only complete cases\n",
    "* na.omit() - Another way to remove rows with NAs"
   ]
  },
  {
   "cell_type": "code",
   "execution_count": 8,
   "metadata": {},
   "outputs": [
    {
     "data": {
      "text/html": [
       "<table>\n",
       "<thead><tr><th scope=col>name</th><th scope=col>n_friends</th><th scope=col>status</th></tr></thead>\n",
       "<tbody>\n",
       "\t<tr><td>FALSE</td><td>FALSE</td><td>FALSE</td></tr>\n",
       "\t<tr><td>FALSE</td><td> TRUE</td><td>FALSE</td></tr>\n",
       "\t<tr><td>FALSE</td><td>FALSE</td><td>FALSE</td></tr>\n",
       "\t<tr><td>FALSE</td><td>FALSE</td><td>FALSE</td></tr>\n",
       "</tbody>\n",
       "</table>\n"
      ],
      "text/latex": [
       "\\begin{tabular}{lll}\n",
       " name & n\\_friends & status\\\\\n",
       "\\hline\n",
       "\t FALSE & FALSE & FALSE\\\\\n",
       "\t FALSE &  TRUE & FALSE\\\\\n",
       "\t FALSE & FALSE & FALSE\\\\\n",
       "\t FALSE & FALSE & FALSE\\\\\n",
       "\\end{tabular}\n"
      ],
      "text/markdown": [
       "\n",
       "name | n_friends | status | \n",
       "|---|---|---|---|\n",
       "| FALSE | FALSE | FALSE | \n",
       "| FALSE |  TRUE | FALSE | \n",
       "| FALSE | FALSE | FALSE | \n",
       "| FALSE | FALSE | FALSE | \n",
       "\n",
       "\n"
      ],
      "text/plain": [
       "     name  n_friends status\n",
       "[1,] FALSE FALSE     FALSE \n",
       "[2,] FALSE  TRUE     FALSE \n",
       "[3,] FALSE FALSE     FALSE \n",
       "[4,] FALSE FALSE     FALSE "
      ]
     },
     "metadata": {},
     "output_type": "display_data"
    },
    {
     "data": {
      "text/html": [
       "TRUE"
      ],
      "text/latex": [
       "TRUE"
      ],
      "text/markdown": [
       "TRUE"
      ],
      "text/plain": [
       "[1] TRUE"
      ]
     },
     "metadata": {},
     "output_type": "display_data"
    },
    {
     "data": {
      "text/plain": [
       "    name     n_friends                status \n",
       " Alice:1   Min.   : 43.0                 :2  \n",
       " David:1   1st Qu.: 94.0   Going out!    :1  \n",
       " Sarah:1   Median :145.0   Movie night...:1  \n",
       " Tom  :1   Mean   :144.0                     \n",
       "           3rd Qu.:194.5                     \n",
       "           Max.   :244.0                     \n",
       "           NA's   :1                         "
      ]
     },
     "metadata": {},
     "output_type": "display_data"
    },
    {
     "data": {
      "text/plain": [
       "\n",
       "                   Going out! Movie night... \n",
       "             2              1              1 "
      ]
     },
     "metadata": {},
     "output_type": "display_data"
    }
   ],
   "source": [
    "social_df <- data.frame(name = c(\"Sarah\", \"Tom\", \"David\", \"Alice\"),\n",
    "                       n_friends = c(244, NA, 145, 43),\n",
    "                       status = c(\"Going out!\", \"\", \"Movie night...\", \"\"))\n",
    "\n",
    "# Call is.na() on the full social_df to spot all NAs\n",
    "is.na(social_df)\n",
    "\n",
    "# Use the any() function to ask whether there are any NAs in the data\n",
    "any(is.na(social_df))\n",
    "\n",
    "# View a summary() of the dataset\n",
    "summary(social_df)\n",
    "\n",
    "# Call table() on the status column\n",
    "table(social_df$status)"
   ]
  },
  {
   "cell_type": "markdown",
   "metadata": {},
   "source": [
    "## Dealing with missing values"
   ]
  },
  {
   "cell_type": "code",
   "execution_count": 9,
   "metadata": {},
   "outputs": [
    {
     "name": "stdout",
     "output_type": "stream",
     "text": [
      "   name n_friends         status\n",
      "1 Sarah       244     Going out!\n",
      "2   Tom        NA           <NA>\n",
      "3 David       145 Movie night...\n",
      "4 Alice        43           <NA>\n"
     ]
    },
    {
     "data": {
      "text/html": [
       "<ol class=list-inline>\n",
       "\t<li>TRUE</li>\n",
       "\t<li>FALSE</li>\n",
       "\t<li>TRUE</li>\n",
       "\t<li>FALSE</li>\n",
       "</ol>\n"
      ],
      "text/latex": [
       "\\begin{enumerate*}\n",
       "\\item TRUE\n",
       "\\item FALSE\n",
       "\\item TRUE\n",
       "\\item FALSE\n",
       "\\end{enumerate*}\n"
      ],
      "text/markdown": [
       "1. TRUE\n",
       "2. FALSE\n",
       "3. TRUE\n",
       "4. FALSE\n",
       "\n",
       "\n"
      ],
      "text/plain": [
       "[1]  TRUE FALSE  TRUE FALSE"
      ]
     },
     "metadata": {},
     "output_type": "display_data"
    },
    {
     "data": {
      "text/html": [
       "<table>\n",
       "<thead><tr><th></th><th scope=col>name</th><th scope=col>n_friends</th><th scope=col>status</th></tr></thead>\n",
       "<tbody>\n",
       "\t<tr><th scope=row>1</th><td>Sarah         </td><td>244           </td><td>Going out!    </td></tr>\n",
       "\t<tr><th scope=row>3</th><td>David         </td><td>145           </td><td>Movie night...</td></tr>\n",
       "</tbody>\n",
       "</table>\n"
      ],
      "text/latex": [
       "\\begin{tabular}{r|lll}\n",
       "  & name & n\\_friends & status\\\\\n",
       "\\hline\n",
       "\t1 & Sarah          & 244            & Going out!    \\\\\n",
       "\t3 & David          & 145            & Movie night...\\\\\n",
       "\\end{tabular}\n"
      ],
      "text/markdown": [
       "\n",
       "| <!--/--> | name | n_friends | status | \n",
       "|---|---|\n",
       "| 1 | Sarah          | 244            | Going out!     | \n",
       "| 3 | David          | 145            | Movie night... | \n",
       "\n",
       "\n"
      ],
      "text/plain": [
       "  name  n_friends status        \n",
       "1 Sarah 244       Going out!    \n",
       "3 David 145       Movie night..."
      ]
     },
     "metadata": {},
     "output_type": "display_data"
    }
   ],
   "source": [
    "  ## The stringr package is preloaded\n",
    "\n",
    "# Replace all empty strings in status with NA\n",
    "social_df$status[social_df$status == \"\"] <- NA\n",
    "\n",
    "# Print social_df to the console\n",
    "print(social_df)\n",
    "\n",
    "# Use complete.cases() to see which rows have no missing values\n",
    "complete.cases(social_df)\n",
    "\n",
    "# Use na.omit() to remove all rows with any missing values\n",
    "na.omit(social_df)"
   ]
  },
  {
   "cell_type": "markdown",
   "metadata": {},
   "source": [
    "# Outliers and ovious erros\n",
    "\n",
    "## Outliers\n",
    "\n",
    "* boxplot() - Box and Whiscker plot shows outliers easily\n",
    "* Extreme values distant from other values\n",
    "* Several causes:\n",
    "    - Valid measurements\n",
    "    - Variablity in measurement\n",
    "    - Experimental error\n",
    "    - Data entry error\n",
    "* May be discarded or retained depending on cause\n",
    "\n",
    "## Obvious errors\n",
    "\n",
    "* May appear in many forms\n",
    "    - Values so extreme they can't be plausible(e.g. person aged 243)\n",
    "    - Values that don't make sense(e.g. negative age)\n",
    "* Several causes\n",
    "    - Measurement error\n",
    "    - Data entry error\n",
    "    - Special code for missing data (e.g. -1 means missing)\n",
    "* Should generally be removed or replaced\n",
    "\n",
    "## Finding outliers and errors\n",
    "\n",
    "* boxplot()\n",
    "* hist()"
   ]
  },
  {
   "cell_type": "markdown",
   "metadata": {},
   "source": [
    "## Dealing with outliers and obvious errors"
   ]
  },
  {
   "cell_type": "code",
   "execution_count": null,
   "metadata": {
    "collapsed": true
   },
   "outputs": [],
   "source": [
    "# Look at a summary() of students3\n",
    "summary(students3)\n",
    "\n",
    "# View a histogram of the age variable\n",
    "hist(students3$age)\n",
    "\n",
    "# View a histogram of the absences variable\n",
    "hist(students3$absences)\n",
    "\n",
    "# View a histogram of absences, but force zeros to be bucketed to the right of zero\n",
    "hist(students3$absences, right = FALSE)"
   ]
  },
  {
   "cell_type": "markdown",
   "metadata": {},
   "source": [
    "## Another look at strange values"
   ]
  },
  {
   "cell_type": "code",
   "execution_count": null,
   "metadata": {
    "collapsed": true
   },
   "outputs": [],
   "source": [
    "# View a boxplot of age\n",
    "boxplot(students3$age)\n",
    "\n",
    "# View a boxplot of absences\n",
    "boxplot(students3$absences)"
   ]
  }
 ],
 "metadata": {
  "kernelspec": {
   "display_name": "R",
   "language": "R",
   "name": "ir"
  },
  "language_info": {
   "codemirror_mode": "r",
   "file_extension": ".r",
   "mimetype": "text/x-r-source",
   "name": "R",
   "pygments_lexer": "r",
   "version": "3.4.2"
  }
 },
 "nbformat": 4,
 "nbformat_minor": 2
}
