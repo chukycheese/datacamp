{
 "cells": [
  {
   "cell_type": "markdown",
   "metadata": {},
   "source": [
    "# Time to put it all together!\n",
    "\n",
    "## The challenge\n",
    "\n",
    "* Historical weather data from Boston, USA\n",
    "* 12 months beginning Dec 2014\n",
    "* The data are dirty\n",
    "    - Column names are  values\n",
    "    - Variables coded incorrectly\n",
    "    - Missing and extreme values\n",
    "    - ...\n",
    "* Goal : Clean the data\n",
    "\n",
    "## Understanding the structure of your data\n",
    "\n",
    "* class() - Class of data object\n",
    "* dim() - Dimensions of data\n",
    "* names() - Column names\n",
    "* str() - Preview of data with helpful details\n",
    "* glimpse() - Better version of str() from dplyr package\n",
    "* summary() - Summary of data\n",
    "\n",
    "## Looking at your data\n",
    "\n",
    "* head() - View top of dataset\n",
    "* tail() - View bottom of dataset\n",
    "* print() - View entire dataset(not recommended!)\n",
    "\n",
    "## Visualizing your data\n",
    "\n",
    "* hist() - View histogram of a single variable\n",
    "* plot() - View plot of two variables\n",
    "    "
   ]
  },
  {
   "cell_type": "markdown",
   "metadata": {},
   "source": [
    "## Get a feel for the data"
   ]
  },
  {
   "cell_type": "code",
   "execution_count": null,
   "metadata": {
    "collapsed": true
   },
   "outputs": [],
   "source": [
    "# Verify that weather is a data.frame\n",
    "class(weather)\n",
    "\n",
    "# Check the dimensions\n",
    "dim(weather)\n",
    "\n",
    "# View the column names\n",
    "names(weather)"
   ]
  },
  {
   "cell_type": "markdown",
   "metadata": {},
   "source": [
    "## Summarize the data"
   ]
  },
  {
   "cell_type": "code",
   "execution_count": null,
   "metadata": {
    "collapsed": true
   },
   "outputs": [],
   "source": [
    "# View the structure of the data\n",
    "str(weather)\n",
    "\n",
    "# Load dplyr package\n",
    "library(dplyr)\n",
    "\n",
    "# Look at the structure using dplyr's glimpse()\n",
    "glimpse(weather)\n",
    "\n",
    "# View a summary of the data\n",
    "summary(weather)"
   ]
  },
  {
   "cell_type": "markdown",
   "metadata": {},
   "source": [
    "## Take a closer look"
   ]
  },
  {
   "cell_type": "code",
   "execution_count": null,
   "metadata": {
    "collapsed": true
   },
   "outputs": [],
   "source": [
    "# View first 6 rows\n",
    "head(weather)\n",
    "\n",
    "# View first 15 rows\n",
    "head(weather, 15)\n",
    "\n",
    "# View the last 6 rows\n",
    "tail(weather)\n",
    "\n",
    "# View the last 10 rows\n",
    "tail(weather, 10)"
   ]
  },
  {
   "cell_type": "markdown",
   "metadata": {},
   "source": [
    "# Let's tidy the data\n",
    "\n",
    "## Column names are values"
   ]
  },
  {
   "cell_type": "code",
   "execution_count": null,
   "metadata": {
    "collapsed": true
   },
   "outputs": [],
   "source": [
    "# Load the tidyr package\n",
    "library(tidyr)\n",
    "\n",
    "# Gather the columns\n",
    "weather2 <- gather(weather, day, value, X1:X31, na.rm = TRUE)\n",
    "\n",
    "# View the head\n",
    "head(weather2)"
   ]
  },
  {
   "cell_type": "markdown",
   "metadata": {},
   "source": [
    "## Values are variable names"
   ]
  },
  {
   "cell_type": "code",
   "execution_count": null,
   "metadata": {
    "collapsed": true
   },
   "outputs": [],
   "source": [
    "## The tidyr package is already loaded\n",
    "\n",
    "# First remove column of row names\n",
    "weather2 <- weather2[, -1]\n",
    "\n",
    "# Spread the data\n",
    "weather3 <- spread(weather2, measure, value)\n",
    "\n",
    "# View the head\n",
    "head(weather3)"
   ]
  },
  {
   "cell_type": "markdown",
   "metadata": {},
   "source": [
    "# Prepare the data for analysis\n",
    "\n",
    "## Dates with lubridate\n",
    "\n",
    "* ymd() : year-month-day\n",
    "* mdy() : month-day-year\n",
    "* hms() : hour:minute:second\n",
    "* ymd_hms() : year-month-day hour:minute:second\n",
    "\n",
    "## Type Conversion\n",
    "\n",
    "* as.character() : To character string\n",
    "* as.numeric()\n",
    "* as.integer()\n",
    "* as.factor()\n",
    "* as.logical()"
   ]
  },
  {
   "cell_type": "markdown",
   "metadata": {},
   "source": [
    "## Clean up dates"
   ]
  },
  {
   "cell_type": "code",
   "execution_count": null,
   "metadata": {
    "collapsed": true
   },
   "outputs": [],
   "source": [
    "## tidyr and dplyr are already loaded\n",
    "library(tidyr)\n",
    "library(dplyr)\n",
    "\n",
    "# Load the stringr and lubridate packages\n",
    "library(stringr)\n",
    "library(lubridate)\n",
    "\n",
    "# Remove X's from day column\n",
    "weather3$day <- str_replace(weather3$day, \"X\", \"\")\n",
    "\n",
    "# Unite the year, month, and day columns\n",
    "weather4 <- unite(weather3, date, year, month, day, sep = \"-\")\n",
    "\n",
    "# Convert date column to proper date format using lubridates's ymd()\n",
    "weather4$date <- ymd(weather4$date)\n",
    "\n",
    "# Rearrange columns using dplyr's select()\n",
    "weather5 <- select(weather4, date, Events, CloudCover:WindDirDegrees)\n",
    "\n",
    "# View the head of weather5\n",
    "head(weather5)"
   ]
  },
  {
   "cell_type": "markdown",
   "metadata": {},
   "source": [
    "## A closer look at column types"
   ]
  },
  {
   "cell_type": "code",
   "execution_count": null,
   "metadata": {
    "collapsed": true
   },
   "outputs": [],
   "source": [
    "# View the structure of weather5\n",
    "str(weather5)\n",
    "\n",
    "# Examine the first 20 rows of weather5. Are most of the characters numeric?\n",
    "head(weather5, 20)\n",
    "\n",
    "# See what happens if we try to convert PrecipitationIn to numeric\n",
    "as.numeric(weather5$PrecipitationIn)"
   ]
  },
  {
   "cell_type": "markdown",
   "metadata": {},
   "source": [
    "## Column type conversions"
   ]
  },
  {
   "cell_type": "code",
   "execution_count": null,
   "metadata": {
    "collapsed": true
   },
   "outputs": [],
   "source": [
    "## The dplyr and stringr packages are already loaded\n",
    "\n",
    "# Replace T with 0 (T = trace)\n",
    "weather5$PrecipitationIn <- str_replace(weather5$PrecipitationIn, \"T\", 0)\n",
    "\n",
    "# Convert characters to numerics\n",
    "weather6 <- mutate_each(weather5, funs(as.numeric), CloudCover:WindDirDegrees)\n",
    "\n",
    "# Look at result\n",
    "str(weather6)"
   ]
  },
  {
   "cell_type": "markdown",
   "metadata": {},
   "source": [
    "# Missing, extreme, and unexpected values\n",
    "\n",
    "## Finding missing values\n",
    "\n",
    "* is.na() - Return data frame of TRUEs and FALSEs\n",
    "* sum(is.na()) - Count number of TRUEs\n",
    "* which(is.na()) - Find indices of missing values\n",
    "\n",
    "## Identifying errors\n",
    "\n",
    "* Context matters!\n",
    "* Pausible ranges"
   ]
  },
  {
   "cell_type": "markdown",
   "metadata": {},
   "source": [
    "## Finding missing values"
   ]
  },
  {
   "cell_type": "code",
   "execution_count": null,
   "metadata": {
    "collapsed": true
   },
   "outputs": [],
   "source": [
    "# Count missing values\n",
    "sum(is.na(weather6))\n",
    "\n",
    "# Find missing values\n",
    "summary(weather6)\n",
    "\n",
    "# Find indices of NAs in Max.Gust.SpeedMPH\n",
    "ind <- which(is.na(weather6$Max.Gust.SpeedMPH))\n",
    "\n",
    "# Look at the full rows for records missing Max.Gust.SpeedMPH\n",
    "weather6[ind, ]"
   ]
  },
  {
   "cell_type": "markdown",
   "metadata": {},
   "source": [
    "## An obvious error"
   ]
  },
  {
   "cell_type": "code",
   "execution_count": null,
   "metadata": {
    "collapsed": true
   },
   "outputs": [],
   "source": [
    "# Review distributions for all variables\n",
    "summary(weather6)\n",
    "\n",
    "# Find row with Max.Humidity of 1000\n",
    "ind <- which(weather6$Max.Humidity == 1000)\n",
    "\n",
    "# Look at the data for that day\n",
    "weather6[ind, ]\n",
    "\n",
    "# Change 1000 to 100\n",
    "weather6$Max.Humidity[ind] <- 100"
   ]
  },
  {
   "cell_type": "markdown",
   "metadata": {},
   "source": [
    "## Another obvious error"
   ]
  },
  {
   "cell_type": "code",
   "execution_count": null,
   "metadata": {
    "collapsed": true
   },
   "outputs": [],
   "source": [
    "# Look at summary of Mean.VisibilityMiles\n",
    "summary(weather6$Mean.VisibilityMiles)\n",
    "\n",
    "# Get index of row with -1 value\n",
    "ind <- which(weather6$Mean.VisibilityMiles == -1)\n",
    "\n",
    "# Look at full row\n",
    "weather6[ind, ]\n",
    "\n",
    "# Set Mean.VisibilityMiles to the appropriate value\n",
    "weather6$Mean.VisibilityMiles[ind] <- (weather6$Max.VisibilityMiles + weather6$Min.VisibilityMiles) / 2 # 10"
   ]
  },
  {
   "cell_type": "markdown",
   "metadata": {},
   "source": [
    "## Check other extreme values"
   ]
  },
  {
   "cell_type": "code",
   "execution_count": null,
   "metadata": {
    "collapsed": true
   },
   "outputs": [],
   "source": [
    "# Review summary of full data once more\n",
    "summary(weather6)\n",
    "\n",
    "# Look at histogram for MeanDew.PointF\n",
    "hist(weather6$MeanDew.PointF)\n",
    "\n",
    "# Look at histogram for Min.TemperatureF\n",
    "hist(weather6$Min.TemperatureF)\n",
    "\n",
    "# Compare to histogram for Mean.TemperatureF\n",
    "hist(weather6$Mean.TemperatureF)"
   ]
  },
  {
   "cell_type": "markdown",
   "metadata": {},
   "source": [
    "## Finishing touches"
   ]
  },
  {
   "cell_type": "code",
   "execution_count": null,
   "metadata": {
    "collapsed": true
   },
   "outputs": [],
   "source": [
    "# Clean up column names\n",
    "names(weather6) <- new_colnames\n",
    "\n",
    "# Replace empty cells in events column\n",
    "weather6$events[weather6$events == \"\"] <- \"None\"\n",
    "    \n",
    "# Print the first 6 rows of weather6\n",
    "head(weather6)"
   ]
  },
  {
   "cell_type": "markdown",
   "metadata": {},
   "source": [
    "# Your data are clean!\n",
    "\n",
    "## Clean weather data\n",
    "\n",
    "## Summary of your accomplishments\n",
    "\n",
    "* Inspected the data\n",
    "* Tided the data\n",
    "* Improved date representations\n",
    "* Dealt with incorrect variable codings\n",
    "* Found and dealt with missing data\n",
    "* Identified and corrected errors\n",
    "* Visualized the result"
   ]
  }
 ],
 "metadata": {
  "kernelspec": {
   "display_name": "R",
   "language": "R",
   "name": "ir"
  },
  "language_info": {
   "codemirror_mode": "r",
   "file_extension": ".r",
   "mimetype": "text/x-r-source",
   "name": "R",
   "pygments_lexer": "r",
   "version": "3.4.2"
  }
 },
 "nbformat": 4,
 "nbformat_minor": 2
}
