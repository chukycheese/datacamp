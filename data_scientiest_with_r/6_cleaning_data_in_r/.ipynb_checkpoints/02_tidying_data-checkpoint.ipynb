{
 "cells": [
  {
   "cell_type": "markdown",
   "metadata": {},
   "source": [
    "# Introduction to tidy data\n",
    "\n",
    "## Principles of tidy data\n",
    "\n",
    "| name   | age | eye_color | height |\n",
    "|--------|-----|-----------|--------|\n",
    "| Jake   | 34  | Other     | 6'1\"   |\n",
    "| Alice  | 55  | Blue      | 5'9\"   |\n",
    "| Tim    | 76  | Brown     | 5'7\"   |\n",
    "| Denise | 19  | Other     | 5'1\"   |\n",
    "\n",
    "* Observations as rows\n",
    "* Variables as columns\n",
    "* One type of observationa unit per table\n",
    "\n",
    "## A dirty data diagnosis\n",
    "\n",
    "| name   | age | brown | blue | other | height |\n",
    "|--------|-----|-------|------|-------|--------|\n",
    "| Jake   | 34  | 0     | 0    | 1     | 6'1\"   | \n",
    "| Alice  | 55  | 0     | 1    | 0     | 5'9\"   |\n",
    "| Tim    | 76  | 1     | 0    | 0     | 5'7\"   |\n",
    "| Denise | 19  | 0     | 0    | 1     | 5'1\"   |\n",
    "\n",
    "* Column headers are values, not variables\n",
    "\n",
    "\n",
    "## Wide vs. long dataets\n",
    "\n",
    "Some cases, it's easy to see the data in a wide form. However, to manipulate and analyze the data, it's much easier in a long form.\n"
   ]
  },
  {
   "cell_type": "markdown",
   "metadata": {},
   "source": [
    "# Introduction to tidyr\n",
    "\n",
    "- R package by Hadley Wickham\n",
    "- Apply the principles of tidy data\n",
    "- Small set of simple functions\n",
    "\n",
    "## Gather columns into key-value pairs\n",
    "\n",
    "** gather() **"
   ]
  },
  {
   "cell_type": "code",
   "execution_count": 1,
   "metadata": {},
   "outputs": [
    {
     "ename": "ERROR",
     "evalue": "Error in gather(bmi, year, bmi_val, -Country): could not find function \"gather\"\n",
     "output_type": "error",
     "traceback": [
      "Error in gather(bmi, year, bmi_val, -Country): could not find function \"gather\"\nTraceback:\n"
     ]
    }
   ],
   "source": [
    "library(tidyr)\n",
    "\n",
    "# Apply gather() to bmi and save the result as bmi_long\n",
    "bmi_long <- gather(bmi, year, bmi_val, -Country)\n",
    "\n",
    "# View the first 20 rows of the result\n",
    "head(bmi_long, 20)"
   ]
  },
  {
   "cell_type": "markdown",
   "metadata": {},
   "source": [
    "## Spreading key-value pairs into columns\n",
    "\n",
    "** spread() **"
   ]
  },
  {
   "cell_type": "code",
   "execution_count": null,
   "metadata": {
    "collapsed": true
   },
   "outputs": [],
   "source": [
    "# Apply spread() to bmi_long\n",
    "bmi_wide <- spread(bmi_long, year, bmi_val)\n",
    "\n",
    "# View the head of bmi_wide\n",
    "head(bmi_wide)"
   ]
  },
  {
   "cell_type": "markdown",
   "metadata": {},
   "source": [
    "# Introduction to tidyr (part 2)\n",
    "\n",
    "## Separate columns\n",
    "\n",
    "** seperate() **\n",
    "\n",
    "## Unite columns\n",
    "\n",
    "** unite() **\n",
    "\n",
    "## Summary of key tidyr function\n",
    "\n",
    "| Function   | What it does                         |\n",
    "|------------|--------------------------------------|\n",
    "| gather()   |  Gather columns into key-value pairs | \n",
    "| spread()   |  Spred key-value pairs into columns  |\n",
    "| seperate() |  Seperate one column into multiple   |\n",
    "| unite()    |  Unite multiple columns into one     |\n",
    "\n",
    "\n",
    "## Separating columns"
   ]
  },
  {
   "cell_type": "code",
   "execution_count": null,
   "metadata": {
    "collapsed": true
   },
   "outputs": [],
   "source": [
    "# Apply separate() to bmi_cc\n",
    "bmi_cc_clean <- separate(bmi_cc, col = Country_ISO, into = c(\"Country\", \"ISO\"), sep = \"/\")\n",
    "\n",
    "# Print the head of the result\n",
    "head(bmi_cc_clean)"
   ]
  },
  {
   "cell_type": "markdown",
   "metadata": {},
   "source": [
    "## Uniting columns"
   ]
  },
  {
   "cell_type": "code",
   "execution_count": null,
   "metadata": {
    "collapsed": true
   },
   "outputs": [],
   "source": [
    "# Apply unite() to bmi_cc_clean\n",
    "bmi_cc <- unite(bmi_cc_clean, Country_ISO, Country, ISO, sep = \"-\")\n",
    "\n",
    "# View the head of the result\n",
    "head(bmi_cc)"
   ]
  },
  {
   "cell_type": "markdown",
   "metadata": {},
   "source": [
    "# Addressing common symptoms of messy data\n",
    "\n",
    "## Column headers are values, not variable names\n",
    "\n",
    "** Messy data **\n",
    "\n",
    "| name   | age | brown | blue | other | height |\n",
    "|--------|-----|-------|------|-------|--------|\n",
    "| Jake   | 34  | 0     | 0    | 1     | 6'1\"   | \n",
    "| Alice  | 55  | 0     | 1    | 0     | 5'9\"   |\n",
    "| Tim    | 76  | 1     | 0    | 0     | 5'7\"   |\n",
    "| Denise | 19  | 0     | 0    | 1     | 5'1\"   |\n",
    "\n",
    "** Tidy data **\n",
    "\n",
    "| name   | age | eye_color | height |\n",
    "|--------|-----|-----------|--------|\n",
    "| Jake   | 34  | Other     | 6'1\"   |\n",
    "| Alice  | 55  | Blue      | 5'9\"   |\n",
    "| Tim    | 76  | Brown     | 5'7\"   |\n",
    "| Denise | 19  | Other     | 5'1\"   |\n",
    "\n",
    "\n",
    "## Variables are stored in both rows and columns\n",
    "\n",
    "** Messy data **\n",
    "\n",
    "| name  | measurement | value |\n",
    "|-------|-------------|-------|\n",
    "| Jake  | n_dogs      | 1     |\n",
    "| Jake  | n_cats      | 0     |\n",
    "| Jake  | n_birds     | 1     |\n",
    "| Alice | n_dogs      | 1     |\n",
    "| Alice | n_cats      | 2     |\n",
    "| Alice | n_birds     | 0     |\n",
    "\n",
    "** Tidy data **\n",
    "\n",
    "| name  | n_dogs | n_cats | n_birds |\n",
    "|-------|--------|--------|---------|\n",
    "| Jake  | 1      | 0      | 1       |\n",
    "| Alice | 1      | 2      | 0       |\n",
    "\n",
    "## Multiple variables are stored in one column\n",
    "\n",
    "** Messy data **\n",
    "\n",
    "| name   | sex_age | eye_color | height |\n",
    "|--------|---------|-----------|--------|\n",
    "| Jake   | M.34    | Other     | 6'1\"   |\n",
    "| Alice  | F.55    | Blue      | 5'9\"   |\n",
    "| Tim    | M.76    | Brown     | 5'7\"   |\n",
    "| Denise | F.19    | Other     | 5'1\"   |\n",
    "\n",
    "** Tidy data **\n",
    "\n",
    "| name   | sex | age | eye_color | height |\n",
    "|--------|-----|-----|-----------|--------|\n",
    "| Jake   | M   | 34  | Other     | 6'1\"   |\n",
    "| Alice  | F   | 55  | Blue      | 5'9\"   |\n",
    "| Tim    | M   | 76  | Brown     | 5'7\"   |\n",
    "| Denise | F   | 19  | Other     | 5'1\"   |\n",
    "\n",
    "## Other common symptoms\n",
    "\n",
    "* A single observationa unit is stored in multiple tables\n",
    "* Multiple types of observational units are stored in the same table\n",
    "\n",
    "| name   | age | height | pet_name | pet_type | pet_height |\n",
    "|--------|-----|--------|----------|----------|------------|\n",
    "| Jake   | 34  | 6'1\"   | Larry    | Dog      | 25\"        |\n",
    "| Jake   | 34  | 6'1\"   | Chirp    | Bird     | 3\"         |\n",
    "| Alice  | 55  | 5'9\"   | Wally    | Dog      | 30\"        |\n",
    "| Alice  | 55  | 5'9\"   | Sugar    | Cat      | 10\"        |\n",
    "| Alice  | 55  | 5'9\"   | Spice    | Cat      | 12\"        |\n",
    "\n",
    "Jake and Alice's names, ages, and heights are duplicated 3 times.\n",
    "\n",
    "The first three columns are related to people and the last three columns are related to pets. So it should be seperated into two tables which have poeple's information and pets' information.\n",
    "\n",
    "\n",
    "## Column headers are values, not variable names"
   ]
  },
  {
   "cell_type": "code",
   "execution_count": null,
   "metadata": {
    "collapsed": true
   },
   "outputs": [],
   "source": [
    "library(tidyr)\n",
    "library(dplyr)\n",
    "\n",
    "## tidyr and dplyr are already loaded for you\n",
    "\n",
    "# View the head of census\n",
    "head(census)\n",
    "\n",
    "# Gather the month columns\n",
    "census2 <- gather(census, month, amount, -YEAR)\n",
    "\n",
    "# Arrange rows by YEAR using dplyr's arrange\n",
    "census2 <- arrange(census2, YEAR)\n",
    "\n",
    "# View first 20 rows of census2\n",
    "head(census2, 20)\n"
   ]
  },
  {
   "cell_type": "markdown",
   "metadata": {},
   "source": [
    "## Variables are stored in both rows and columns"
   ]
  },
  {
   "cell_type": "code",
   "execution_count": null,
   "metadata": {
    "collapsed": true
   },
   "outputs": [],
   "source": [
    "## tidyr is already loaded for you\n",
    "\n",
    "# View first 50 rows of census_long\n",
    "head(census_long, 50)\n",
    "\n",
    "# Spread the type column\n",
    "census_long2 <- spread(census_long, type, amount)\n",
    "\n",
    "# View first 20 rows of census_long2\n",
    "head(census_long2, 20)"
   ]
  },
  {
   "cell_type": "markdown",
   "metadata": {},
   "source": [
    "## Multiple values are stored in one column"
   ]
  },
  {
   "cell_type": "code",
   "execution_count": null,
   "metadata": {
    "collapsed": true
   },
   "outputs": [],
   "source": [
    "## tidyr is already loaded for you\n",
    "\n",
    "# View the head of census_long3\n",
    "head(census_long3)\n",
    "\n",
    "# Separate the yr_month column into two\n",
    "census_long4 <- separate(census_long3, yr_month, c(\"year\", \"month\"), sep = \"_\")\n",
    "\n",
    "# View the first 6 rows of the result\n",
    "head(census_long4)"
   ]
  }
 ],
 "metadata": {
  "kernelspec": {
   "display_name": "R",
   "language": "R",
   "name": "ir"
  },
  "language_info": {
   "codemirror_mode": "r",
   "file_extension": ".r",
   "mimetype": "text/x-r-source",
   "name": "R",
   "pygments_lexer": "r",
   "version": "3.4.2"
  }
 },
 "nbformat": 4,
 "nbformat_minor": 2
}
