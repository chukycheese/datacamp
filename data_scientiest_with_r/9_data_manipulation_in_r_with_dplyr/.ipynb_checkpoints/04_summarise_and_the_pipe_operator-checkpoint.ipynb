{
 "cells": [
  {
   "cell_type": "markdown",
   "metadata": {},
   "source": [
    "# Summarise and the pipe operator\n",
    "\n",
    "## Section 7 - Last but not least: summarise\n",
    "\n",
    "### summarise\n",
    "\n",
    "* summarise(tble, new column name = expression) # summarize() also works\n",
    "* Syntax example\n",
    "```\n",
    "summarise(tbl, sum = sum(A),\n",
    "               avg = mean(B),\n",
    "               var = var(B))\n",
    "```\n",
    "\n",
    "* The functions used in summarise should take a vector as an input, and a single number as an output.\n",
    "    - base:: min, mean, sum, var, sd, length, max, median, IQR\n",
    "    - dplyr:: first, last, nth, n, n_distinct\n",
    "    - etc."
   ]
  },
  {
   "cell_type": "markdown",
   "metadata": {},
   "source": [
    "### The syntax of summarise"
   ]
  },
  {
   "cell_type": "code",
   "execution_count": 2,
   "metadata": {},
   "outputs": [
    {
     "name": "stderr",
     "output_type": "stream",
     "text": [
      "Warning message:\n",
      "\"package 'dplyr' was built under R version 3.4.3\"\n",
      "Attaching package: 'dplyr'\n",
      "\n",
      "The following objects are masked from 'package:stats':\n",
      "\n",
      "    filter, lag\n",
      "\n",
      "The following objects are masked from 'package:base':\n",
      "\n",
      "    intersect, setdiff, setequal, union\n",
      "\n"
     ]
    },
    {
     "data": {
      "text/html": [
       "<table>\n",
       "<thead><tr><th scope=col>min_dist</th><th scope=col>max_dist</th></tr></thead>\n",
       "<tbody>\n",
       "\t<tr><td>79  </td><td>3904</td></tr>\n",
       "</tbody>\n",
       "</table>\n"
      ],
      "text/latex": [
       "\\begin{tabular}{r|ll}\n",
       " min\\_dist & max\\_dist\\\\\n",
       "\\hline\n",
       "\t 79   & 3904\\\\\n",
       "\\end{tabular}\n"
      ],
      "text/markdown": [
       "\n",
       "min_dist | max_dist | \n",
       "|---|\n",
       "| 79   | 3904 | \n",
       "\n",
       "\n"
      ],
      "text/plain": [
       "  min_dist max_dist\n",
       "1 79       3904    "
      ]
     },
     "metadata": {},
     "output_type": "display_data"
    },
    {
     "data": {
      "text/html": [
       "<table>\n",
       "<thead><tr><th scope=col>max_div</th></tr></thead>\n",
       "<tbody>\n",
       "\t<tr><td>3904</td></tr>\n",
       "</tbody>\n",
       "</table>\n"
      ],
      "text/latex": [
       "\\begin{tabular}{r|l}\n",
       " max\\_div\\\\\n",
       "\\hline\n",
       "\t 3904\\\\\n",
       "\\end{tabular}\n"
      ],
      "text/markdown": [
       "\n",
       "max_div | \n",
       "|---|\n",
       "| 3904 | \n",
       "\n",
       "\n"
      ],
      "text/plain": [
       "  max_div\n",
       "1 3904   "
      ]
     },
     "metadata": {},
     "output_type": "display_data"
    }
   ],
   "source": [
    "library(dplyr)\n",
    "library(hflights)\n",
    "\n",
    "# hflights and dplyr are loaded in the workspace\n",
    "\n",
    "# Print out a summary with variables min_dist and max_dist\n",
    "summarise(hflights, min_dist = min(Distance), max_dist = max(Distance))\n",
    "\n",
    "# Print out a summary with variable max_div\n",
    "summarise(filter(hflights, Diverted == 1), max_div = max(Distance))"
   ]
  },
  {
   "cell_type": "markdown",
   "metadata": {},
   "source": [
    "### Aggregate functions\n",
    "\n",
    "* min(x) - minimum value of vector x.\n",
    "* max(x) - maximum value of vector x.\n",
    "* mean(x) - mean value of vector x.\n",
    "* median(x) - median value of vector x.\n",
    "* quantile(x, p) - pth quantile of vector x.\n",
    "* sd(x) - standard deviation of vector x.\n",
    "* var(x) - variance of vector x.\n",
    "* IQR(x) - Inter Quartile Range (IQR) of vector x.\n",
    "* diff(range(x)) - total range of vector x."
   ]
  },
  {
   "cell_type": "code",
   "execution_count": 3,
   "metadata": {},
   "outputs": [
    {
     "data": {
      "text/html": [
       "<table>\n",
       "<thead><tr><th scope=col>earliest</th><th scope=col>average</th><th scope=col>latest</th><th scope=col>sd</th></tr></thead>\n",
       "<tbody>\n",
       "\t<tr><td>-70     </td><td>7.094334</td><td>978     </td><td>30.70852</td></tr>\n",
       "</tbody>\n",
       "</table>\n"
      ],
      "text/latex": [
       "\\begin{tabular}{r|llll}\n",
       " earliest & average & latest & sd\\\\\n",
       "\\hline\n",
       "\t -70      & 7.094334 & 978      & 30.70852\\\\\n",
       "\\end{tabular}\n"
      ],
      "text/markdown": [
       "\n",
       "earliest | average | latest | sd | \n",
       "|---|\n",
       "| -70      | 7.094334 | 978      | 30.70852 | \n",
       "\n",
       "\n"
      ],
      "text/plain": [
       "  earliest average  latest sd      \n",
       "1 -70      7.094334 978    30.70852"
      ]
     },
     "metadata": {},
     "output_type": "display_data"
    },
    {
     "data": {
      "text/html": [
       "<table>\n",
       "<thead><tr><th scope=col>max_taxi_diff</th></tr></thead>\n",
       "<tbody>\n",
       "\t<tr><td>160</td></tr>\n",
       "</tbody>\n",
       "</table>\n"
      ],
      "text/latex": [
       "\\begin{tabular}{r|l}\n",
       " max\\_taxi\\_diff\\\\\n",
       "\\hline\n",
       "\t 160\\\\\n",
       "\\end{tabular}\n"
      ],
      "text/markdown": [
       "\n",
       "max_taxi_diff | \n",
       "|---|\n",
       "| 160 | \n",
       "\n",
       "\n"
      ],
      "text/plain": [
       "  max_taxi_diff\n",
       "1 160          "
      ]
     },
     "metadata": {},
     "output_type": "display_data"
    }
   ],
   "source": [
    "# hflights is available\n",
    "\n",
    "# Remove rows that have NA ArrDelay: temp1\n",
    "temp1 <- filter(hflights, !is.na(ArrDelay))\n",
    "\n",
    "# Generate summary about ArrDelay column of temp1\n",
    "summarise(temp1, earliest = min(ArrDelay),\n",
    "                 average = mean(ArrDelay),\n",
    "                 latest = max(ArrDelay),\n",
    "                 sd = sd(ArrDelay))\n",
    "\n",
    "# Keep rows that have no NA TaxiIn and no NA TaxiOut: temp2\n",
    "temp2 <- filter(hflights, !is.na(TaxiIn) & !is.na(TaxiOut))\n",
    "\n",
    "# Print the maximum taxiing difference of temp2 with summarise()\n",
    "summarise(temp2, max_taxi_diff = max(abs(TaxiIn - TaxiOut)))"
   ]
  },
  {
   "cell_type": "markdown",
   "metadata": {},
   "source": [
    "### dplyr aggregate functions\n",
    "\n",
    "* first(x) - The first element of vector x.\n",
    "* last(x) - The last element of vector x.\n",
    "* nth(x, n) - The nth element of vector x.\n",
    "* n() - The number of rows in the data.frame or group of observations that * summarise() describes.\n",
    "* n_distinct(x) - The number of unique values in vector x."
   ]
  },
  {
   "cell_type": "code",
   "execution_count": 4,
   "metadata": {},
   "outputs": [
    {
     "data": {
      "text/html": [
       "<table>\n",
       "<thead><tr><th scope=col>n_obs</th><th scope=col>n_carrier</th><th scope=col>n_dest</th></tr></thead>\n",
       "<tbody>\n",
       "\t<tr><td>227496</td><td>15    </td><td>116   </td></tr>\n",
       "</tbody>\n",
       "</table>\n"
      ],
      "text/latex": [
       "\\begin{tabular}{r|lll}\n",
       " n\\_obs & n\\_carrier & n\\_dest\\\\\n",
       "\\hline\n",
       "\t 227496 & 15     & 116   \\\\\n",
       "\\end{tabular}\n"
      ],
      "text/markdown": [
       "\n",
       "n_obs | n_carrier | n_dest | \n",
       "|---|\n",
       "| 227496 | 15     | 116    | \n",
       "\n",
       "\n"
      ],
      "text/plain": [
       "  n_obs  n_carrier n_dest\n",
       "1 227496 15        116   "
      ]
     },
     "metadata": {},
     "output_type": "display_data"
    },
    {
     "data": {
      "text/html": [
       "<table>\n",
       "<thead><tr><th scope=col>n_flights</th><th scope=col>n_canc</th><th scope=col>avg_delay</th></tr></thead>\n",
       "<tbody>\n",
       "\t<tr><td>0  </td><td>0  </td><td>NaN</td></tr>\n",
       "</tbody>\n",
       "</table>\n"
      ],
      "text/latex": [
       "\\begin{tabular}{r|lll}\n",
       " n\\_flights & n\\_canc & avg\\_delay\\\\\n",
       "\\hline\n",
       "\t 0   & 0   & NaN\\\\\n",
       "\\end{tabular}\n"
      ],
      "text/markdown": [
       "\n",
       "n_flights | n_canc | avg_delay | \n",
       "|---|\n",
       "| 0   | 0   | NaN | \n",
       "\n",
       "\n"
      ],
      "text/plain": [
       "  n_flights n_canc avg_delay\n",
       "1 0         0      NaN      "
      ]
     },
     "metadata": {},
     "output_type": "display_data"
    }
   ],
   "source": [
    "# hflights is available with full names for the carriers\n",
    "\n",
    "# Generate summarizing statistics for hflights\n",
    "summarise(hflights,\n",
    "          n_obs = n(),\n",
    "          n_carrier = n_distinct(UniqueCarrier),\n",
    "          n_dest = n_distinct(Dest))\n",
    "\n",
    "# All American Airline flights\n",
    "aa <- filter(hflights, UniqueCarrier == \"American\")\n",
    "\n",
    "# Generate summarizing statistics for aa \n",
    "summarise(aa, n_flights = n(),\n",
    "              n_canc = sum(Cancelled == 1),\n",
    "              avg_delay = mean(ArrDelay, na.rm = TRUE))"
   ]
  },
  {
   "cell_type": "markdown",
   "metadata": {},
   "source": [
    "## Section 8 -Chaining your functions: the pipe operator\n",
    "\n",
    "### pipes\n",
    "\n",
    "* Without pipes\n",
    "\n",
    "```\n",
    "# Save to other objects after applying one function at a time\n",
    "# This may slowdown the process\n",
    "a1 <- select(a, X, Y, Z)\n",
    "a2 <- filter(a1, X > Y)\n",
    "a3 <- mutate(a2, Q = X + Y + Z)\n",
    "a4 <- summarise(a3, all = sum(Q))\n",
    "\n",
    "# Chain all functions together\n",
    "# This code is difficult to read - Dagwood sandwich problem\n",
    "summarise(\n",
    "    mutate(\n",
    "        filter(\n",
    "            select(a, X, Y, Z)\n",
    "        X > Y),\n",
    "    Q = X + Y + Z),\n",
    "all = sum(Q)\n",
    ")\n",
    "```\n",
    "\n",
    "* With pipe operator: %>% comes from magrittr package from Stefan Bache\n",
    "\n",
    "    - object %>% function(____, arg2, arg3, ...)\n",
    "        - The pipe takes the object on its left and passes it to the function on its right as the first argument of the function\n",
    "\n",
    "```\n",
    "a %>%\n",
    "    select(X, Y, Z) %>%\n",
    "    filter(X > Y) %>%\n",
    "    mutate(Q = X + Y + Z) %>%\n",
    "    summarise(all = sum(Q))\n",
    "\n",
    "# It makes it much clearer if you translate %>% as 'then'\n",
    "```"
   ]
  },
  {
   "cell_type": "markdown",
   "metadata": {},
   "source": [
    "### Overview of syntax\n",
    "\n",
    "Use dplyr functions and the pipe operator to transform the following English sentences into R code:\n",
    "\n",
    "* Take the hflights data set and then ...\n",
    "* Add a variable named diff that is the result of subtracting TaxiIn from TaxiOut, and then ...\n",
    "* Pick all of the rows whose diff value does not equal NA, and then ...\n",
    "* Summarise the data set with a value named avg that is the mean diff value."
   ]
  },
  {
   "cell_type": "code",
   "execution_count": 5,
   "metadata": {},
   "outputs": [
    {
     "data": {
      "text/html": [
       "<table>\n",
       "<thead><tr><th scope=col>avg</th></tr></thead>\n",
       "<tbody>\n",
       "\t<tr><td>8.992064</td></tr>\n",
       "</tbody>\n",
       "</table>\n"
      ],
      "text/latex": [
       "\\begin{tabular}{r|l}\n",
       " avg\\\\\n",
       "\\hline\n",
       "\t 8.992064\\\\\n",
       "\\end{tabular}\n"
      ],
      "text/markdown": [
       "\n",
       "avg | \n",
       "|---|\n",
       "| 8.992064 | \n",
       "\n",
       "\n"
      ],
      "text/plain": [
       "  avg     \n",
       "1 8.992064"
      ]
     },
     "metadata": {},
     "output_type": "display_data"
    }
   ],
   "source": [
    "library(dplyr)\n",
    "library(hflights)\n",
    "\n",
    "# Write the 'piped' version of the English sentences.\n",
    "hflights %>%\n",
    "    mutate(diff = TaxiOut - TaxiIn) %>%\n",
    "    filter(!is.na(diff)) %>%\n",
    "    summarise(avg = mean(diff))"
   ]
  },
  {
   "cell_type": "markdown",
   "metadata": {},
   "source": [
    "### Drive or fly? Part 1 of 2\n",
    "\n",
    "* mutate() the hflights dataset and add two variables:\n",
    "    - RealTime: the actual elapsed time plus 100 minutes (for the overhead that flying involves) and\n",
    "    - mph: calculated as Distance / RealTime * 60, then\n",
    "* filter() to keep observations that have an mph that is not NA and that is below 70, finally\n",
    "* summarise() the result by creating four summary variables:\n",
    "    - n_less, the number of observations,\n",
    "    - n_dest, the number of destinations,\n",
    "    - min_dist, the minimum distance and\n",
    "    - max_dist, the maximum distance."
   ]
  },
  {
   "cell_type": "code",
   "execution_count": 6,
   "metadata": {},
   "outputs": [
    {
     "data": {
      "text/html": [
       "<table>\n",
       "<thead><tr><th scope=col>n_less</th><th scope=col>n_dest</th><th scope=col>min_dist</th><th scope=col>max_dist</th></tr></thead>\n",
       "<tbody>\n",
       "\t<tr><td>6726</td><td>13  </td><td>79  </td><td>305 </td></tr>\n",
       "</tbody>\n",
       "</table>\n"
      ],
      "text/latex": [
       "\\begin{tabular}{r|llll}\n",
       " n\\_less & n\\_dest & min\\_dist & max\\_dist\\\\\n",
       "\\hline\n",
       "\t 6726 & 13   & 79   & 305 \\\\\n",
       "\\end{tabular}\n"
      ],
      "text/markdown": [
       "\n",
       "n_less | n_dest | min_dist | max_dist | \n",
       "|---|\n",
       "| 6726 | 13   | 79   | 305  | \n",
       "\n",
       "\n"
      ],
      "text/plain": [
       "  n_less n_dest min_dist max_dist\n",
       "1 6726   13     79       305     "
      ]
     },
     "metadata": {},
     "output_type": "display_data"
    }
   ],
   "source": [
    "hflights %>%\n",
    "    mutate(RealTime = ActualElapsedTime + 100,\n",
    "          mph = Distance / RealTime * 60) %>%\n",
    "    filter(!is.na(mph) & mph < 70) %>%\n",
    "    summarise(n_less = n(),\n",
    "             n_dest = n_distinct(Dest),\n",
    "             min_dist = min(Distance),\n",
    "             max_dist = max(Distance))\n",
    "    "
   ]
  },
  {
   "cell_type": "markdown",
   "metadata": {},
   "source": [
    "### Drive or fly? Part 2 of 2\n",
    "\n",
    "* filter() the result of mutate to:\n",
    "    - keep observations that have an mph under 105 or for which Cancelled equals 1 or for which Diverted equals 1.\n",
    "* summarise() the result by creating four summary variables:\n",
    "    - n_non, the number of observations,\n",
    "    - n_dest, the number of destinations,\n",
    "    - min_dist, the minimum distance and\n",
    "    - max_dist, the maximum distance."
   ]
  },
  {
   "cell_type": "code",
   "execution_count": 7,
   "metadata": {},
   "outputs": [
    {
     "data": {
      "text/html": [
       "<table>\n",
       "<thead><tr><th scope=col>n_non</th><th scope=col>n_dest</th><th scope=col>min_dist</th><th scope=col>max_dist</th></tr></thead>\n",
       "<tbody>\n",
       "\t<tr><td>42400</td><td>113  </td><td>79   </td><td>3904 </td></tr>\n",
       "</tbody>\n",
       "</table>\n"
      ],
      "text/latex": [
       "\\begin{tabular}{r|llll}\n",
       " n\\_non & n\\_dest & min\\_dist & max\\_dist\\\\\n",
       "\\hline\n",
       "\t 42400 & 113   & 79    & 3904 \\\\\n",
       "\\end{tabular}\n"
      ],
      "text/markdown": [
       "\n",
       "n_non | n_dest | min_dist | max_dist | \n",
       "|---|\n",
       "| 42400 | 113   | 79    | 3904  | \n",
       "\n",
       "\n"
      ],
      "text/plain": [
       "  n_non n_dest min_dist max_dist\n",
       "1 42400 113    79       3904    "
      ]
     },
     "metadata": {},
     "output_type": "display_data"
    }
   ],
   "source": [
    "# Finish the command with a filter() and summarise() call\n",
    "hflights %>%\n",
    "    mutate(RealTime = ActualElapsedTime + 100,\n",
    "         mph = Distance / RealTime * 60) %>%\n",
    "    filter(mph < 105 | Cancelled == 1 | Diverted == 1) %>%\n",
    "    summarise(n_non = n(),\n",
    "             n_dest = n_distinct(Dest),\n",
    "             min_dist = min(Distance),\n",
    "             max_dist = max(Distance))"
   ]
  },
  {
   "cell_type": "markdown",
   "metadata": {},
   "source": [
    "### Advanced piping exercise\n",
    "\n",
    "* filter() the hflights tbl to keep only observations whose DepTime is not NA, whose ArrTime is not NA and for which DepTime exceeds ArrTime.\n",
    "* Pipe the result into a summarise() call to create a single summary variable:\n",
    "    - num, that simply counts the number of observations."
   ]
  },
  {
   "cell_type": "code",
   "execution_count": 8,
   "metadata": {},
   "outputs": [
    {
     "data": {
      "text/html": [
       "<table>\n",
       "<thead><tr><th scope=col>num</th></tr></thead>\n",
       "<tbody>\n",
       "\t<tr><td>2718</td></tr>\n",
       "</tbody>\n",
       "</table>\n"
      ],
      "text/latex": [
       "\\begin{tabular}{r|l}\n",
       " num\\\\\n",
       "\\hline\n",
       "\t 2718\\\\\n",
       "\\end{tabular}\n"
      ],
      "text/markdown": [
       "\n",
       "num | \n",
       "|---|\n",
       "| 2718 | \n",
       "\n",
       "\n"
      ],
      "text/plain": [
       "  num \n",
       "1 2718"
      ]
     },
     "metadata": {},
     "output_type": "display_data"
    }
   ],
   "source": [
    "# hflights and dplyr are loaded\n",
    "\n",
    "# Count the number of overnight flights\n",
    "hflights %>%\n",
    "    filter(!is.na(DepTime) & !is.na(ArrTime) & DepTime > ArrTime) %>%\n",
    "    summarise(num = n())"
   ]
  }
 ],
 "metadata": {
  "kernelspec": {
   "display_name": "R",
   "language": "R",
   "name": "ir"
  },
  "language_info": {
   "codemirror_mode": "r",
   "file_extension": ".r",
   "mimetype": "text/x-r-source",
   "name": "R",
   "pygments_lexer": "r",
   "version": "3.4.2"
  }
 },
 "nbformat": 4,
 "nbformat_minor": 2
}
