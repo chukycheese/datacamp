{
 "cells": [
  {
   "cell_type": "markdown",
   "metadata": {},
   "source": [
    "# Group_by and working with databases"
   ]
  },
  {
   "cell_type": "markdown",
   "metadata": {},
   "source": [
    "## Section 9 - Get group-wise insights: group_by\n",
    "\n",
    "### group_by\n",
    "\n",
    "* group_by(tbl, column to group by)\n",
    "* df %>%\n",
    "      group_by(Group)\n",
    "      \n",
    "### Unite and conquer using group_by\n",
    "\n",
    "* Use group_by() to group hflights by UniqueCarrier.\n",
    "* summarise() the grouped tbl with two summary variables:\n",
    "    - p_canc, the percentage of cancelled flights\n",
    "    - avg_delay, the average arrival delay of flights whose delay does not equal NA.\n",
    "* Finally, order the carriers in the summary from low to high by their average arrival delay. Use percentage of flights cancelled to break any ties."
   ]
  },
  {
   "cell_type": "code",
   "execution_count": 1,
   "metadata": {},
   "outputs": [
    {
     "name": "stderr",
     "output_type": "stream",
     "text": [
      "Warning message:\n",
      "\"package 'dplyr' was built under R version 3.4.3\"\n",
      "Attaching package: 'dplyr'\n",
      "\n",
      "The following objects are masked from 'package:stats':\n",
      "\n",
      "    filter, lag\n",
      "\n",
      "The following objects are masked from 'package:base':\n",
      "\n",
      "    intersect, setdiff, setequal, union\n",
      "\n"
     ]
    },
    {
     "data": {
      "text/html": [
       "<table>\n",
       "<thead><tr><th scope=col>UniqueCarrier</th><th scope=col>p_canc</th><th scope=col>avg_delay</th></tr></thead>\n",
       "<tbody>\n",
       "\t<tr><td>US        </td><td>1.1268986 </td><td>-0.6307692</td></tr>\n",
       "\t<tr><td>AA        </td><td>1.8495684 </td><td> 0.8917558</td></tr>\n",
       "\t<tr><td>FL        </td><td>0.9817672 </td><td> 1.8536239</td></tr>\n",
       "\t<tr><td>AS        </td><td>0.0000000 </td><td> 3.1923077</td></tr>\n",
       "\t<tr><td>YV        </td><td>1.2658228 </td><td> 4.0128205</td></tr>\n",
       "\t<tr><td>DL        </td><td>1.5903067 </td><td> 6.0841374</td></tr>\n",
       "\t<tr><td>CO        </td><td>0.6782614 </td><td> 6.0986983</td></tr>\n",
       "\t<tr><td>MQ        </td><td>2.9044750 </td><td> 7.1529751</td></tr>\n",
       "\t<tr><td>EV        </td><td>3.4482759 </td><td> 7.2569543</td></tr>\n",
       "\t<tr><td>WN        </td><td>1.5504047 </td><td> 7.5871430</td></tr>\n",
       "\t<tr><td>F9        </td><td>0.7159905 </td><td> 7.6682692</td></tr>\n",
       "\t<tr><td>XE        </td><td>1.5495599 </td><td> 8.1865242</td></tr>\n",
       "\t<tr><td>OO        </td><td>1.3946828 </td><td> 8.6934922</td></tr>\n",
       "\t<tr><td>B6        </td><td>2.5899281 </td><td> 9.8588410</td></tr>\n",
       "\t<tr><td>UA        </td><td>1.6409266 </td><td>10.4628628</td></tr>\n",
       "</tbody>\n",
       "</table>\n"
      ],
      "text/latex": [
       "\\begin{tabular}{r|lll}\n",
       " UniqueCarrier & p\\_canc & avg\\_delay\\\\\n",
       "\\hline\n",
       "\t US         & 1.1268986  & -0.6307692\\\\\n",
       "\t AA         & 1.8495684  &  0.8917558\\\\\n",
       "\t FL         & 0.9817672  &  1.8536239\\\\\n",
       "\t AS         & 0.0000000  &  3.1923077\\\\\n",
       "\t YV         & 1.2658228  &  4.0128205\\\\\n",
       "\t DL         & 1.5903067  &  6.0841374\\\\\n",
       "\t CO         & 0.6782614  &  6.0986983\\\\\n",
       "\t MQ         & 2.9044750  &  7.1529751\\\\\n",
       "\t EV         & 3.4482759  &  7.2569543\\\\\n",
       "\t WN         & 1.5504047  &  7.5871430\\\\\n",
       "\t F9         & 0.7159905  &  7.6682692\\\\\n",
       "\t XE         & 1.5495599  &  8.1865242\\\\\n",
       "\t OO         & 1.3946828  &  8.6934922\\\\\n",
       "\t B6         & 2.5899281  &  9.8588410\\\\\n",
       "\t UA         & 1.6409266  & 10.4628628\\\\\n",
       "\\end{tabular}\n"
      ],
      "text/markdown": [
       "\n",
       "UniqueCarrier | p_canc | avg_delay | \n",
       "|---|---|---|---|---|---|---|---|---|---|---|---|---|---|---|\n",
       "| US         | 1.1268986  | -0.6307692 | \n",
       "| AA         | 1.8495684  |  0.8917558 | \n",
       "| FL         | 0.9817672  |  1.8536239 | \n",
       "| AS         | 0.0000000  |  3.1923077 | \n",
       "| YV         | 1.2658228  |  4.0128205 | \n",
       "| DL         | 1.5903067  |  6.0841374 | \n",
       "| CO         | 0.6782614  |  6.0986983 | \n",
       "| MQ         | 2.9044750  |  7.1529751 | \n",
       "| EV         | 3.4482759  |  7.2569543 | \n",
       "| WN         | 1.5504047  |  7.5871430 | \n",
       "| F9         | 0.7159905  |  7.6682692 | \n",
       "| XE         | 1.5495599  |  8.1865242 | \n",
       "| OO         | 1.3946828  |  8.6934922 | \n",
       "| B6         | 2.5899281  |  9.8588410 | \n",
       "| UA         | 1.6409266  | 10.4628628 | \n",
       "\n",
       "\n"
      ],
      "text/plain": [
       "   UniqueCarrier p_canc    avg_delay \n",
       "1  US            1.1268986 -0.6307692\n",
       "2  AA            1.8495684  0.8917558\n",
       "3  FL            0.9817672  1.8536239\n",
       "4  AS            0.0000000  3.1923077\n",
       "5  YV            1.2658228  4.0128205\n",
       "6  DL            1.5903067  6.0841374\n",
       "7  CO            0.6782614  6.0986983\n",
       "8  MQ            2.9044750  7.1529751\n",
       "9  EV            3.4482759  7.2569543\n",
       "10 WN            1.5504047  7.5871430\n",
       "11 F9            0.7159905  7.6682692\n",
       "12 XE            1.5495599  8.1865242\n",
       "13 OO            1.3946828  8.6934922\n",
       "14 B6            2.5899281  9.8588410\n",
       "15 UA            1.6409266 10.4628628"
      ]
     },
     "metadata": {},
     "output_type": "display_data"
    }
   ],
   "source": [
    "library(hflights)\n",
    "library(dplyr)\n",
    "\n",
    "# hflights is in the workspace as a tbl, with translated carrier names\n",
    "\n",
    "# Make an ordered per-carrier summary of hflights\n",
    "hflights %>%\n",
    "  group_by(UniqueCarrier) %>%\n",
    "  summarise(p_canc = mean(Cancelled == 1) * 100,\n",
    "            avg_delay = mean(ArrDelay, na.rm = TRUE)) %>%\n",
    "  arrange(avg_delay, p_canc)"
   ]
  },
  {
   "cell_type": "markdown",
   "metadata": {},
   "source": [
    "### Combine group_by with mutate\n",
    "\n",
    "* rank(): takes a group of values and calculates the rank of each value within the group\n",
    "    - rank(c(21, 22, 24, 23))\n",
    "    - As with arrange(), rank() ranks values from the smallest to the largest\n",
    "\n",
    "\n",
    "* filter() the hflights tbl to only keep observations for which ArrDelay is not NA and positive.\n",
    "* Use group_by() on the result to group by UniqueCarrier.\n",
    "* Next, use summarise() to calculate the average ArrDelay per carrier. Call this summary variable avg.\n",
    "* Feed the result into a mutate() call: create a new variable, rank, calculated as rank(avg).\n",
    "* Finally, arrange by this new rank variable"
   ]
  },
  {
   "cell_type": "code",
   "execution_count": 5,
   "metadata": {},
   "outputs": [
    {
     "data": {
      "text/html": [
       "<table>\n",
       "<thead><tr><th scope=col>UniqueCarrier</th><th scope=col>avg</th><th scope=col>rank</th></tr></thead>\n",
       "<tbody>\n",
       "\t<tr><td>YV      </td><td>18.67568</td><td> 1      </td></tr>\n",
       "\t<tr><td>F9      </td><td>18.68683</td><td> 2      </td></tr>\n",
       "\t<tr><td>US      </td><td>20.70235</td><td> 3      </td></tr>\n",
       "\t<tr><td>CO      </td><td>22.13374</td><td> 4      </td></tr>\n",
       "\t<tr><td>AS      </td><td>22.91195</td><td> 5      </td></tr>\n",
       "\t<tr><td>OO      </td><td>24.14663</td><td> 6      </td></tr>\n",
       "\t<tr><td>XE      </td><td>24.19337</td><td> 7      </td></tr>\n",
       "\t<tr><td>WN      </td><td>25.27750</td><td> 8      </td></tr>\n",
       "\t<tr><td>FL      </td><td>27.85693</td><td> 9      </td></tr>\n",
       "\t<tr><td>AA      </td><td>28.49740</td><td>10      </td></tr>\n",
       "\t<tr><td>DL      </td><td>32.12463</td><td>11      </td></tr>\n",
       "\t<tr><td>UA      </td><td>32.48067</td><td>12      </td></tr>\n",
       "\t<tr><td>MQ      </td><td>38.75135</td><td>13      </td></tr>\n",
       "\t<tr><td>EV      </td><td>40.24231</td><td>14      </td></tr>\n",
       "\t<tr><td>B6      </td><td>45.47744</td><td>15      </td></tr>\n",
       "</tbody>\n",
       "</table>\n"
      ],
      "text/latex": [
       "\\begin{tabular}{r|lll}\n",
       " UniqueCarrier & avg & rank\\\\\n",
       "\\hline\n",
       "\t YV       & 18.67568 &  1      \\\\\n",
       "\t F9       & 18.68683 &  2      \\\\\n",
       "\t US       & 20.70235 &  3      \\\\\n",
       "\t CO       & 22.13374 &  4      \\\\\n",
       "\t AS       & 22.91195 &  5      \\\\\n",
       "\t OO       & 24.14663 &  6      \\\\\n",
       "\t XE       & 24.19337 &  7      \\\\\n",
       "\t WN       & 25.27750 &  8      \\\\\n",
       "\t FL       & 27.85693 &  9      \\\\\n",
       "\t AA       & 28.49740 & 10      \\\\\n",
       "\t DL       & 32.12463 & 11      \\\\\n",
       "\t UA       & 32.48067 & 12      \\\\\n",
       "\t MQ       & 38.75135 & 13      \\\\\n",
       "\t EV       & 40.24231 & 14      \\\\\n",
       "\t B6       & 45.47744 & 15      \\\\\n",
       "\\end{tabular}\n"
      ],
      "text/markdown": [
       "\n",
       "UniqueCarrier | avg | rank | \n",
       "|---|---|---|---|---|---|---|---|---|---|---|---|---|---|---|\n",
       "| YV       | 18.67568 |  1       | \n",
       "| F9       | 18.68683 |  2       | \n",
       "| US       | 20.70235 |  3       | \n",
       "| CO       | 22.13374 |  4       | \n",
       "| AS       | 22.91195 |  5       | \n",
       "| OO       | 24.14663 |  6       | \n",
       "| XE       | 24.19337 |  7       | \n",
       "| WN       | 25.27750 |  8       | \n",
       "| FL       | 27.85693 |  9       | \n",
       "| AA       | 28.49740 | 10       | \n",
       "| DL       | 32.12463 | 11       | \n",
       "| UA       | 32.48067 | 12       | \n",
       "| MQ       | 38.75135 | 13       | \n",
       "| EV       | 40.24231 | 14       | \n",
       "| B6       | 45.47744 | 15       | \n",
       "\n",
       "\n"
      ],
      "text/plain": [
       "   UniqueCarrier avg      rank\n",
       "1  YV            18.67568  1  \n",
       "2  F9            18.68683  2  \n",
       "3  US            20.70235  3  \n",
       "4  CO            22.13374  4  \n",
       "5  AS            22.91195  5  \n",
       "6  OO            24.14663  6  \n",
       "7  XE            24.19337  7  \n",
       "8  WN            25.27750  8  \n",
       "9  FL            27.85693  9  \n",
       "10 AA            28.49740 10  \n",
       "11 DL            32.12463 11  \n",
       "12 UA            32.48067 12  \n",
       "13 MQ            38.75135 13  \n",
       "14 EV            40.24231 14  \n",
       "15 B6            45.47744 15  "
      ]
     },
     "metadata": {},
     "output_type": "display_data"
    }
   ],
   "source": [
    "# Both the dplyr and hflights packages are loaded into workspace\n",
    "lut <- c(\"AA\" = \"American\", \"AS\" = \"Alaska\", \"B6\" = \"JetBlue\", \"CO\" = \"Continental\", \n",
    "         \"DL\" = \"Delta\", \"OO\" = \"SkyWest\", \"UA\" = \"United\", \"US\" = \"US_Airways\", \n",
    "         \"WN\" = \"Southwest\", \"EV\" = \"Atlantic_Southeast\", \"F9\" = \"Frontier\", \n",
    "         \"FL\" = \"AirTran\", \"MQ\" = \"American_Eagle\", \"XE\" = \"ExpressJet\", \"YV\" = \"Mesa\")\n",
    "\n",
    "# Add the Carrier column to hflights\n",
    "hflights$Carrier <- lut[hflights$UniqueCarrier]\n",
    "\n",
    "hflights %>%\n",
    "    filter(!is.na(ArrDelay) & ArrDelay > 0) %>%\n",
    "    group_by(UniqueCarrier) %>%\n",
    "    summarise(avg = mean(ArrDelay)) %>%\n",
    "    mutate(rank = rank(avg)) %>%\n",
    "    arrange(rank)"
   ]
  },
  {
   "cell_type": "markdown",
   "metadata": {},
   "source": [
    "### Advanced group_by exercises\n",
    "\n",
    "* How many airplanes flew to only one destination? The tbl you print out should have a single column, named nplanes and a single row.\n",
    "* Find the most visited destination for each carrier. The tbl you print out should contain four columns:\n",
    "    - UniqueCarrier and Dest,\n",
    "    - n, how often a carrier visited a particular destination,\n",
    "    - rank, how each destination ranks per carrier. rank should be 1 for every row, as you want to find the most visited destination for each carrier."
   ]
  },
  {
   "cell_type": "code",
   "execution_count": 23,
   "metadata": {},
   "outputs": [
    {
     "data": {
      "text/html": [
       "<table>\n",
       "<thead><tr><th scope=col>nplanes</th></tr></thead>\n",
       "<tbody>\n",
       "\t<tr><td>1526</td></tr>\n",
       "</tbody>\n",
       "</table>\n"
      ],
      "text/latex": [
       "\\begin{tabular}{r|l}\n",
       " nplanes\\\\\n",
       "\\hline\n",
       "\t 1526\\\\\n",
       "\\end{tabular}\n"
      ],
      "text/markdown": [
       "\n",
       "nplanes | \n",
       "|---|\n",
       "| 1526 | \n",
       "\n",
       "\n"
      ],
      "text/plain": [
       "  nplanes\n",
       "1 1526   "
      ]
     },
     "metadata": {},
     "output_type": "display_data"
    },
    {
     "data": {
      "text/html": [
       "<table>\n",
       "<thead><tr><th scope=col>UniqueCarrier</th><th scope=col>Dest</th><th scope=col>n</th><th scope=col>rank</th></tr></thead>\n",
       "<tbody>\n",
       "\t<tr><td>AA  </td><td>DFW </td><td>2105</td><td>1   </td></tr>\n",
       "\t<tr><td>AS  </td><td>SEA </td><td> 365</td><td>1   </td></tr>\n",
       "\t<tr><td>B6  </td><td>JFK </td><td> 695</td><td>1   </td></tr>\n",
       "\t<tr><td>CO  </td><td>EWR </td><td>3924</td><td>1   </td></tr>\n",
       "\t<tr><td>DL  </td><td>ATL </td><td>2396</td><td>1   </td></tr>\n",
       "\t<tr><td>EV  </td><td>DTW </td><td> 851</td><td>1   </td></tr>\n",
       "\t<tr><td>F9  </td><td>DEN </td><td> 837</td><td>1   </td></tr>\n",
       "\t<tr><td>FL  </td><td>ATL </td><td>2029</td><td>1   </td></tr>\n",
       "\t<tr><td>MQ  </td><td>DFW </td><td>2424</td><td>1   </td></tr>\n",
       "\t<tr><td>OO  </td><td>COS </td><td>1335</td><td>1   </td></tr>\n",
       "\t<tr><td>UA  </td><td>SFO </td><td> 643</td><td>1   </td></tr>\n",
       "\t<tr><td>US  </td><td>CLT </td><td>2212</td><td>1   </td></tr>\n",
       "\t<tr><td>WN  </td><td>DAL </td><td>8243</td><td>1   </td></tr>\n",
       "\t<tr><td>XE  </td><td>CRP </td><td>3175</td><td>1   </td></tr>\n",
       "\t<tr><td>YV  </td><td>CLT </td><td>  71</td><td>1   </td></tr>\n",
       "</tbody>\n",
       "</table>\n"
      ],
      "text/latex": [
       "\\begin{tabular}{r|llll}\n",
       " UniqueCarrier & Dest & n & rank\\\\\n",
       "\\hline\n",
       "\t AA   & DFW  & 2105 & 1   \\\\\n",
       "\t AS   & SEA  &  365 & 1   \\\\\n",
       "\t B6   & JFK  &  695 & 1   \\\\\n",
       "\t CO   & EWR  & 3924 & 1   \\\\\n",
       "\t DL   & ATL  & 2396 & 1   \\\\\n",
       "\t EV   & DTW  &  851 & 1   \\\\\n",
       "\t F9   & DEN  &  837 & 1   \\\\\n",
       "\t FL   & ATL  & 2029 & 1   \\\\\n",
       "\t MQ   & DFW  & 2424 & 1   \\\\\n",
       "\t OO   & COS  & 1335 & 1   \\\\\n",
       "\t UA   & SFO  &  643 & 1   \\\\\n",
       "\t US   & CLT  & 2212 & 1   \\\\\n",
       "\t WN   & DAL  & 8243 & 1   \\\\\n",
       "\t XE   & CRP  & 3175 & 1   \\\\\n",
       "\t YV   & CLT  &   71 & 1   \\\\\n",
       "\\end{tabular}\n"
      ],
      "text/markdown": [
       "\n",
       "UniqueCarrier | Dest | n | rank | \n",
       "|---|---|---|---|---|---|---|---|---|---|---|---|---|---|---|\n",
       "| AA   | DFW  | 2105 | 1    | \n",
       "| AS   | SEA  |  365 | 1    | \n",
       "| B6   | JFK  |  695 | 1    | \n",
       "| CO   | EWR  | 3924 | 1    | \n",
       "| DL   | ATL  | 2396 | 1    | \n",
       "| EV   | DTW  |  851 | 1    | \n",
       "| F9   | DEN  |  837 | 1    | \n",
       "| FL   | ATL  | 2029 | 1    | \n",
       "| MQ   | DFW  | 2424 | 1    | \n",
       "| OO   | COS  | 1335 | 1    | \n",
       "| UA   | SFO  |  643 | 1    | \n",
       "| US   | CLT  | 2212 | 1    | \n",
       "| WN   | DAL  | 8243 | 1    | \n",
       "| XE   | CRP  | 3175 | 1    | \n",
       "| YV   | CLT  |   71 | 1    | \n",
       "\n",
       "\n"
      ],
      "text/plain": [
       "   UniqueCarrier Dest n    rank\n",
       "1  AA            DFW  2105 1   \n",
       "2  AS            SEA   365 1   \n",
       "3  B6            JFK   695 1   \n",
       "4  CO            EWR  3924 1   \n",
       "5  DL            ATL  2396 1   \n",
       "6  EV            DTW   851 1   \n",
       "7  F9            DEN   837 1   \n",
       "8  FL            ATL  2029 1   \n",
       "9  MQ            DFW  2424 1   \n",
       "10 OO            COS  1335 1   \n",
       "11 UA            SFO   643 1   \n",
       "12 US            CLT  2212 1   \n",
       "13 WN            DAL  8243 1   \n",
       "14 XE            CRP  3175 1   \n",
       "15 YV            CLT    71 1   "
      ]
     },
     "metadata": {},
     "output_type": "display_data"
    }
   ],
   "source": [
    "# dplyr and hflights (with translated carrier names) are pre-loaded\n",
    "\n",
    "# How many airplanes only flew to one destination?\n",
    "hflights %>%\n",
    "    group_by(TailNum) %>%\n",
    "    summarise(ndest = n_distinct(Dest)) %>%\n",
    "    filter(ndest == 1) %>%\n",
    "    summarise(nplanes = n())\n",
    "\n",
    "\n",
    "# Find the most visited destination for each carrier\n",
    "hflights %>%\n",
    "    group_by(UniqueCarrier, Dest) %>%\n",
    "    summarise(n = n()) %>%\n",
    "    mutate(rank = rank(desc(n))) %>%\n",
    "    filter(rank == 1)"
   ]
  },
  {
   "cell_type": "markdown",
   "metadata": {},
   "source": [
    "## Section 10 - dplyr and databases\n",
    "\n",
    "### databases\n",
    "\n",
    "* Structures that dplyr can be applied\n",
    "    - data frame\n",
    "    - data table\n",
    "    - database\n",
    "    - tbl_dt    \n",
    "    - tbl"
   ]
  },
  {
   "cell_type": "markdown",
   "metadata": {},
   "source": [
    "### dplyr deals with different types"
   ]
  },
  {
   "cell_type": "code",
   "execution_count": 24,
   "metadata": {},
   "outputs": [
    {
     "name": "stderr",
     "output_type": "stream",
     "text": [
      "Warning message:\n",
      "\"package 'data.table' was built under R version 3.4.3\"\n",
      "Attaching package: 'data.table'\n",
      "\n",
      "The following objects are masked from 'package:dplyr':\n",
      "\n",
      "    between, first, last\n",
      "\n"
     ]
    },
    {
     "data": {
      "text/html": [
       "<table>\n",
       "<thead><tr><th scope=col>n_carrier</th></tr></thead>\n",
       "<tbody>\n",
       "\t<tr><td>15</td></tr>\n",
       "</tbody>\n",
       "</table>\n"
      ],
      "text/latex": [
       "\\begin{tabular}{r|l}\n",
       " n\\_carrier\\\\\n",
       "\\hline\n",
       "\t 15\\\\\n",
       "\\end{tabular}\n"
      ],
      "text/markdown": [
       "\n",
       "n_carrier | \n",
       "|---|\n",
       "| 15 | \n",
       "\n",
       "\n"
      ],
      "text/plain": [
       "  n_carrier\n",
       "1 15       "
      ]
     },
     "metadata": {},
     "output_type": "display_data"
    }
   ],
   "source": [
    "library(data.table)\n",
    "\n",
    "hflights2 <- as.data.table(hflights)\n",
    "\n",
    "# hflights2 is pre-loaded as a data.table\n",
    "\n",
    "# Use summarise to calculate n_carrier\n",
    "hflights2 %>%\n",
    "  summarise(n_carrier = n_distinct(UniqueCarrier))"
   ]
  },
  {
   "cell_type": "markdown",
   "metadata": {},
   "source": [
    "### dplyr and mySQL databases"
   ]
  },
  {
   "cell_type": "code",
   "execution_count": 30,
   "metadata": {},
   "outputs": [
    {
     "ename": "ERROR",
     "evalue": "Error: Condition message must be a string\n",
     "output_type": "error",
     "traceback": [
      "Error: Condition message must be a string\nTraceback:\n",
      "1. src_mysql(dbname = \"dplyr\", host = \"courses.csrrinzqubik.us-east-1.rds.amazonaws.com\", \n .     port = 3306, user = \"dplyr\", password = \"dplyr\")",
      "2. check_dbplyr()",
      "3. check_pkg(\"dbplyr\", \"communicate with database backends\", install = FALSE)",
      "4. glubort(NULL, \"The {name} package is required to {reason}.\", \n .     if (install) \"\\nPlease install it with `install.packages(\\\"{name}\\\")`\")",
      "5. .abort(text)",
      "6. cnd_error(type, .msg = msg, .call = sys.call(-1))",
      "7. new_cnd(c(.type, \"error\"), ..., .msg = .msg)",
      "8. stop(\"Condition message must be a string\", call. = FALSE)"
     ]
    }
   ],
   "source": [
    "# Set up a connection to the mysql database\n",
    "my_db <- src_mysql(dbname = \"dplyr\", \n",
    "                   host = \"courses.csrrinzqubik.us-east-1.rds.amazonaws.com\", \n",
    "                   port = 3306, \n",
    "                   user = \"dplyr\",\n",
    "                   password = \"dplyr\")"
   ]
  },
  {
   "cell_type": "code",
   "execution_count": null,
   "metadata": {
    "collapsed": true
   },
   "outputs": [],
   "source": []
  },
  {
   "cell_type": "code",
   "execution_count": null,
   "metadata": {
    "collapsed": true
   },
   "outputs": [],
   "source": []
  },
  {
   "cell_type": "code",
   "execution_count": null,
   "metadata": {
    "collapsed": true
   },
   "outputs": [],
   "source": []
  },
  {
   "cell_type": "code",
   "execution_count": null,
   "metadata": {
    "collapsed": true
   },
   "outputs": [],
   "source": []
  },
  {
   "cell_type": "code",
   "execution_count": null,
   "metadata": {
    "collapsed": true
   },
   "outputs": [],
   "source": []
  },
  {
   "cell_type": "code",
   "execution_count": null,
   "metadata": {
    "collapsed": true
   },
   "outputs": [],
   "source": []
  },
  {
   "cell_type": "code",
   "execution_count": null,
   "metadata": {
    "collapsed": true
   },
   "outputs": [],
   "source": []
  }
 ],
 "metadata": {
  "kernelspec": {
   "display_name": "R",
   "language": "R",
   "name": "ir"
  },
  "language_info": {
   "codemirror_mode": "r",
   "file_extension": ".r",
   "mimetype": "text/x-r-source",
   "name": "R",
   "pygments_lexer": "r",
   "version": "3.4.2"
  }
 },
 "nbformat": 4,
 "nbformat_minor": 2
}
