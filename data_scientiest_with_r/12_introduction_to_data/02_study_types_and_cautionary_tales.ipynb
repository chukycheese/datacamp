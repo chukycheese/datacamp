{
 "cells": [
  {
   "cell_type": "markdown",
   "metadata": {},
   "source": [
    "# Study types and cautionary tales\n",
    "\n",
    "## Observational studies and experiments\n",
    "\n",
    "### Types of studies\n",
    "\n",
    "* Observational study:\n",
    "    - Collect data in a way that does not directly interfere with how the data arise\n",
    "    - Only correlation can be inferred\n",
    "\n",
    "* Experiment:\n",
    "    - Randomly assign subjects to various treatments\n",
    "    - Causation can be inferred\n",
    "    \n",
    "### Design a study\n",
    "\n",
    "![design_a_study](design_a_study.png)"
   ]
  },
  {
   "cell_type": "markdown",
   "metadata": {},
   "source": [
    "### Identify the type of study\n",
    "\n",
    "Next, let's take a look at data from a different study on country characteristics. You'll load the data first and view it, then you'll be asked to identify the type of study. Remember, an experiment requires random assignment.\n",
    "\n",
    "INSTRUCTIONS\n",
    "\n",
    "* Load the gapminder data. This dataset comes from the gapminder R package, which has already been loaded for you.\n",
    "* View the variables in the dataset with glimpse().\n",
    "* If these data come from an observational study, assign \"observational\" to the type_of_study variable. If experimental, assign \"experimental\"."
   ]
  },
  {
   "cell_type": "code",
   "execution_count": 1,
   "metadata": {},
   "outputs": [
    {
     "name": "stderr",
     "output_type": "stream",
     "text": [
      "Installing package into 'C:/Users/chusi/Documents/R/win-library/3.4'\n",
      "(as 'lib' is unspecified)\n"
     ]
    },
    {
     "name": "stdout",
     "output_type": "stream",
     "text": [
      "package 'gapminder' successfully unpacked and MD5 sums checked\n",
      "\n",
      "The downloaded binary packages are in\n",
      "\tC:\\Users\\chusi\\AppData\\Local\\Temp\\RtmpCIzXdA\\downloaded_packages\n"
     ]
    }
   ],
   "source": [
    "install.packages(\"gapminder\", repos = \"http://cloud.r-project.org\")"
   ]
  },
  {
   "cell_type": "code",
   "execution_count": 3,
   "metadata": {},
   "outputs": [
    {
     "name": "stderr",
     "output_type": "stream",
     "text": [
      "Warning message:\n",
      "\"package 'dplyr' was built under R version 3.4.3\"\n",
      "Attaching package: 'dplyr'\n",
      "\n",
      "The following objects are masked from 'package:stats':\n",
      "\n",
      "    filter, lag\n",
      "\n",
      "The following objects are masked from 'package:base':\n",
      "\n",
      "    intersect, setdiff, setequal, union\n",
      "\n"
     ]
    },
    {
     "name": "stdout",
     "output_type": "stream",
     "text": [
      "Observations: 1,704\n",
      "Variables: 6\n",
      "$ country   <fctr> Afghanistan, Afghanistan, Afghanistan, Afghanistan, Afgh...\n",
      "$ continent <fctr> Asia, Asia, Asia, Asia, Asia, Asia, Asia, Asia, Asia, As...\n",
      "$ year      <int> 1952, 1957, 1962, 1967, 1972, 1977, 1982, 1987, 1992, 199...\n",
      "$ lifeExp   <dbl> 28.801, 30.332, 31.997, 34.020, 36.088, 38.438, 39.854, 4...\n",
      "$ pop       <int> 8425333, 9240934, 10267083, 11537966, 13079460, 14880372,...\n",
      "$ gdpPercap <dbl> 779.4453, 820.8530, 853.1007, 836.1971, 739.9811, 786.113...\n"
     ]
    }
   ],
   "source": [
    "# Load libraries\n",
    "library(gapminder)\n",
    "library(dplyr)\n",
    "\n",
    "# Load data\n",
    "data(gapminder)\n",
    "\n",
    "# Glimpse data\n",
    "glimpse(gapminder)\n",
    "\n",
    "# Identify type of study\n",
    "type_of_study <- \"observational\""
   ]
  },
  {
   "cell_type": "markdown",
   "metadata": {},
   "source": [
    "## Random sampling and random assignment\n",
    "\n",
    "### Random...\n",
    "\n",
    "* Random sampling:\n",
    "    - At selection of subjects from population\n",
    "    - Helps generalizability of results\n",
    "    \n",
    "* Random assignment:\n",
    "    - Assignment of subjects to various treatments\n",
    "    - Helps infer causation from results\n",
    "\n",
    "### Scope of inference\n",
    "\n",
    "![scope_of_inference](scope_of_inference.png)\n",
    "\n",
    "## Simpson's paradox\n",
    "\n",
    "### Explanatory and response\n",
    "\n",
    "* Labeling variables as explanatory and response does not guarantee the relationship between the two is actually causal, even if there is an association identified.\n",
    "* We use these labels only to keep track of which variable we suspect affects the other.\n",
    "\n",
    "### Multivariate relationships\n",
    "\n",
    "* We could study the relationship between multiple variables and a single response variable.\n",
    "* Most real world relationships are multivariable.\n",
    "\n",
    "### Simpson's paradox\n",
    "\n",
    "* Not considering an important variable when studying a relationship can result in a Simpson's paradox, which illustrates the effect the omission of an explanatory variable can have on the measure of association between another explanatory variable and the response variable.\n",
    "* Inclusion of another variable can change the apparent relationship between the other two variables.\n",
    "\n",
    "### Berkeley admission data\n",
    "\n",
    "| Gender | Admitted | Rejected |\n",
    "|------------------------------|\n",
    "| Male   | 1198     | 1493     |\n",
    "| Female | 557      | 1278     |\n"
   ]
  },
  {
   "cell_type": "markdown",
   "metadata": {},
   "source": [
    "### Number of males and females admitted\n",
    "\n",
    "In order to calculate the number of males and females admitted, we will introduce two new functions: count() from the dplyr package and spread() from the tidyr package.\n",
    "\n",
    "In one step, count() allows you to group the data by certain variables (in this case, admission status and gender) and then counts the number of observations in each category. These counts are available under a new variable called n.\n",
    "\n",
    "spread() simply reorganizes the output across columns based on a key-value pair, where a pair contains a key that explains what the information describes and a value that contains the actual information. spread() takes the name of the dataset as its first argument, the name of the key column as its second argument, and the name of the value column as its third argument, all specified without quotation marks.\n",
    "\n",
    "INSTRUCTIONS\n",
    "\n",
    "* Use the ucb_admit dataset (which is already pre-loaded) and the count() function to determine the total number of males and females admitted. Assign the result to ucb_counts.\n",
    "* Print ucb_counts to the console.\n",
    "* Then, use the spread() function to spread the output across columns based on admission status (key) and n (value)."
   ]
  },
  {
   "cell_type": "code",
   "execution_count": 19,
   "metadata": {},
   "outputs": [],
   "source": [
    "# Make the ucb_admit dataset\n",
    "ucb_admit <-\n",
    "as.data.frame(rbind(matrix(rep(c(\"Admitted\", \"Male\", \"A\"), 512), ncol = 3, byrow = TRUE),\n",
    "      matrix(rep(c(\"Rejected\", \"Male\", \"A\"), 313), ncol = 3, byrow = TRUE),\n",
    "      matrix(rep(c(\"Admitted\", \"Female\", \"A\"), 89), ncol = 3, byrow = TRUE),\n",
    "      matrix(rep(c(\"Rejected\", \"Female\", \"A\"), 19), ncol = 3, byrow = TRUE),\n",
    "      \n",
    "      matrix(rep(c(\"Admitted\", \"Male\", \"B\"), 353), ncol = 3, byrow = TRUE),\n",
    "      matrix(rep(c(\"Rejected\", \"Male\", \"B\"), 207), ncol = 3, byrow = TRUE),\n",
    "      matrix(rep(c(\"Admitted\", \"Female\", \"B\"), 17), ncol = 3, byrow = TRUE),\n",
    "      matrix(rep(c(\"Rejected\", \"Female\", \"B\"), 8), ncol = 3, byrow = TRUE),\n",
    "      \n",
    "      matrix(rep(c(\"Admitted\", \"Male\", \"C\"), 120), ncol = 3, byrow = TRUE),\n",
    "      matrix(rep(c(\"Rejected\", \"Male\", \"C\"), 205), ncol = 3, byrow = TRUE),\n",
    "      matrix(rep(c(\"Admitted\", \"Female\", \"C\"), 202), ncol = 3, byrow = TRUE),\n",
    "      matrix(rep(c(\"Rejected\", \"Female\", \"C\"), 391), ncol = 3, byrow = TRUE),\n",
    "      \n",
    "      matrix(rep(c(\"Admitted\", \"Male\", \"D\"), 138), ncol = 3, byrow = TRUE),\n",
    "      matrix(rep(c(\"Rejected\", \"Male\", \"D\"), 279), ncol = 3, byrow = TRUE),\n",
    "      matrix(rep(c(\"Admitted\", \"Female\", \"D\"), 131), ncol = 3, byrow = TRUE),\n",
    "      matrix(rep(c(\"Rejected\", \"Female\", \"D\"), 244), ncol = 3, byrow = TRUE),\n",
    "      \n",
    "      \n",
    "      matrix(rep(c(\"Admitted\", \"Male\", \"E\"), 53), ncol = 3, byrow = TRUE),\n",
    "      matrix(rep(c(\"Rejected\", \"Male\", \"E\"), 138), ncol = 3, byrow = TRUE),\n",
    "      matrix(rep(c(\"Admitted\", \"Female\", \"E\"), 94), ncol = 3, byrow = TRUE),\n",
    "      matrix(rep(c(\"Rejected\", \"Female\", \"E\"), 299), ncol = 3, byrow = TRUE),\n",
    "      \n",
    "      \n",
    "      matrix(rep(c(\"Admitted\", \"Male\", \"F\"), 22), ncol = 3, byrow = TRUE),\n",
    "      matrix(rep(c(\"Rejected\", \"Male\", \"F\"), 351), ncol = 3, byrow = TRUE),\n",
    "      matrix(rep(c(\"Admitted\", \"Female\", \"F\"), 24), ncol = 3, byrow = TRUE),\n",
    "      matrix(rep(c(\"Rejected\", \"Female\", \"F\"), 317), ncol = 3, byrow = TRUE)\n",
    "      ))\n",
    "\n",
    "colnames(ucb_admit) <- c(\"Admit\", \"Gender\", \"Dept\")"
   ]
  },
  {
   "cell_type": "code",
   "execution_count": 20,
   "metadata": {},
   "outputs": [
    {
     "data": {
      "text/html": [
       "<table>\n",
       "<thead><tr><th scope=col>Admit</th><th scope=col>Gender</th><th scope=col>n</th></tr></thead>\n",
       "<tbody>\n",
       "\t<tr><td>Admitted</td><td>Female  </td><td> 557    </td></tr>\n",
       "\t<tr><td>Admitted</td><td>Male    </td><td>1198    </td></tr>\n",
       "\t<tr><td>Rejected</td><td>Female  </td><td>1278    </td></tr>\n",
       "\t<tr><td>Rejected</td><td>Male    </td><td>1493    </td></tr>\n",
       "</tbody>\n",
       "</table>\n"
      ],
      "text/latex": [
       "\\begin{tabular}{r|lll}\n",
       " Admit & Gender & n\\\\\n",
       "\\hline\n",
       "\t Admitted & Female   &  557    \\\\\n",
       "\t Admitted & Male     & 1198    \\\\\n",
       "\t Rejected & Female   & 1278    \\\\\n",
       "\t Rejected & Male     & 1493    \\\\\n",
       "\\end{tabular}\n"
      ],
      "text/markdown": [
       "\n",
       "Admit | Gender | n | \n",
       "|---|---|---|---|\n",
       "| Admitted | Female   |  557     | \n",
       "| Admitted | Male     | 1198     | \n",
       "| Rejected | Female   | 1278     | \n",
       "| Rejected | Male     | 1493     | \n",
       "\n",
       "\n"
      ],
      "text/plain": [
       "  Admit    Gender n   \n",
       "1 Admitted Female  557\n",
       "2 Admitted Male   1198\n",
       "3 Rejected Female 1278\n",
       "4 Rejected Male   1493"
      ]
     },
     "metadata": {},
     "output_type": "display_data"
    },
    {
     "data": {
      "text/html": [
       "<table>\n",
       "<thead><tr><th scope=col>Gender</th><th scope=col>Admitted</th><th scope=col>Rejected</th></tr></thead>\n",
       "<tbody>\n",
       "\t<tr><td>Female</td><td> 557  </td><td>1278  </td></tr>\n",
       "\t<tr><td>Male  </td><td>1198  </td><td>1493  </td></tr>\n",
       "</tbody>\n",
       "</table>\n"
      ],
      "text/latex": [
       "\\begin{tabular}{r|lll}\n",
       " Gender & Admitted & Rejected\\\\\n",
       "\\hline\n",
       "\t Female &  557   & 1278  \\\\\n",
       "\t Male   & 1198   & 1493  \\\\\n",
       "\\end{tabular}\n"
      ],
      "text/markdown": [
       "\n",
       "Gender | Admitted | Rejected | \n",
       "|---|---|\n",
       "| Female |  557   | 1278   | \n",
       "| Male   | 1198   | 1493   | \n",
       "\n",
       "\n"
      ],
      "text/plain": [
       "  Gender Admitted Rejected\n",
       "1 Female  557     1278    \n",
       "2 Male   1198     1493    "
      ]
     },
     "metadata": {},
     "output_type": "display_data"
    }
   ],
   "source": [
    "# Load packages\n",
    "library(dplyr)\n",
    "library(tidyr)\n",
    "\n",
    "# Count number of male and female applicants admitted\n",
    "ucb_counts <- ucb_admit %>%\n",
    "  count(Admit, Gender)\n",
    "\n",
    "# View result\n",
    "ucb_counts\n",
    "  \n",
    "# Spread the output across columns\n",
    "ucb_counts %>%\n",
    "  spread(Admit, n)"
   ]
  },
  {
   "cell_type": "markdown",
   "metadata": {},
   "source": [
    "### Proportion of males admitted overall\n",
    "\n",
    "You can now calculate the percentage of males admitted. To do so, you will create a new variable with mutate() from the dplyr package.\n",
    "\n",
    "INSTRUCTIONS\n",
    "\n",
    "dplyr and tidyr have been loaded for you.\n",
    "\n",
    "* Use the code from the previous exercise to construct a table of counts of admission status and gender.\n",
    "* Then, use the mutate() function create a new variable, Perc_Admit, which is the ratio of those admitted, Admitted, to all applicants of that gender, (Admitted + Rejected).\n",
    "* Which *gender has a higher admission rate, male or female?"
   ]
  },
  {
   "cell_type": "code",
   "execution_count": 22,
   "metadata": {},
   "outputs": [
    {
     "data": {
      "text/html": [
       "<table>\n",
       "<thead><tr><th scope=col>Gender</th><th scope=col>Admitted</th><th scope=col>Rejected</th><th scope=col>Perc_Admit</th></tr></thead>\n",
       "<tbody>\n",
       "\t<tr><td>Female   </td><td> 557     </td><td>1278     </td><td>0.3035422</td></tr>\n",
       "\t<tr><td>Male     </td><td>1198     </td><td>1493     </td><td>0.4451877</td></tr>\n",
       "</tbody>\n",
       "</table>\n"
      ],
      "text/latex": [
       "\\begin{tabular}{r|llll}\n",
       " Gender & Admitted & Rejected & Perc\\_Admit\\\\\n",
       "\\hline\n",
       "\t Female    &  557      & 1278      & 0.3035422\\\\\n",
       "\t Male      & 1198      & 1493      & 0.4451877\\\\\n",
       "\\end{tabular}\n"
      ],
      "text/markdown": [
       "\n",
       "Gender | Admitted | Rejected | Perc_Admit | \n",
       "|---|---|\n",
       "| Female    |  557      | 1278      | 0.3035422 | \n",
       "| Male      | 1198      | 1493      | 0.4451877 | \n",
       "\n",
       "\n"
      ],
      "text/plain": [
       "  Gender Admitted Rejected Perc_Admit\n",
       "1 Female  557     1278     0.3035422 \n",
       "2 Male   1198     1493     0.4451877 "
      ]
     },
     "metadata": {},
     "output_type": "display_data"
    }
   ],
   "source": [
    "ucb_admit %>%\n",
    "  # Table of counts of admission status and gender\n",
    "  count(Admit, Gender) %>%\n",
    "  # Spread output across columns based on admission status\n",
    "  spread(Admit, n) %>%\n",
    "  # Create new variable\n",
    "  mutate(Perc_Admit = Admitted / (Admitted + Rejected))"
   ]
  },
  {
   "cell_type": "markdown",
   "metadata": {},
   "source": [
    "### Proportion of males admitted for each department\n",
    "\n",
    "Next you'll make a table similar to the one you constructed earlier, except you will first group the data by department. Then, you'll use this table to calculate the proportion of males admitted in each department.\n",
    "\n",
    "INSTRUCTIONS\n",
    "\n",
    "dplyr and tidyr have been loaded for you.\n",
    "\n",
    "* Use the code from earlier to create a table of counts of admission status and gender, but this time group first by Dept. Assign this result to admit_by_dept.\n",
    "* Print admit_by_dept to the console.\n",
    "* Calculate the percentage of those admitted in each department, Perc_Admit, by applying the mutate() function to admit_by_dept."
   ]
  },
  {
   "cell_type": "code",
   "execution_count": 27,
   "metadata": {},
   "outputs": [
    {
     "data": {
      "text/html": [
       "<table>\n",
       "<thead><tr><th scope=col>Dept</th><th scope=col>Gender</th><th scope=col>Admitted</th><th scope=col>Rejected</th></tr></thead>\n",
       "<tbody>\n",
       "\t<tr><td>A     </td><td>Female</td><td> 89   </td><td> 19   </td></tr>\n",
       "\t<tr><td>A     </td><td>Male  </td><td>512   </td><td>313   </td></tr>\n",
       "\t<tr><td>B     </td><td>Female</td><td> 17   </td><td>  8   </td></tr>\n",
       "\t<tr><td>B     </td><td>Male  </td><td>353   </td><td>207   </td></tr>\n",
       "\t<tr><td>C     </td><td>Female</td><td>202   </td><td>391   </td></tr>\n",
       "\t<tr><td>C     </td><td>Male  </td><td>120   </td><td>205   </td></tr>\n",
       "\t<tr><td>D     </td><td>Female</td><td>131   </td><td>244   </td></tr>\n",
       "\t<tr><td>D     </td><td>Male  </td><td>138   </td><td>279   </td></tr>\n",
       "\t<tr><td>E     </td><td>Female</td><td> 94   </td><td>299   </td></tr>\n",
       "\t<tr><td>E     </td><td>Male  </td><td> 53   </td><td>138   </td></tr>\n",
       "\t<tr><td>F     </td><td>Female</td><td> 24   </td><td>317   </td></tr>\n",
       "\t<tr><td>F     </td><td>Male  </td><td> 22   </td><td>351   </td></tr>\n",
       "</tbody>\n",
       "</table>\n"
      ],
      "text/latex": [
       "\\begin{tabular}{r|llll}\n",
       " Dept & Gender & Admitted & Rejected\\\\\n",
       "\\hline\n",
       "\t A      & Female &  89    &  19   \\\\\n",
       "\t A      & Male   & 512    & 313   \\\\\n",
       "\t B      & Female &  17    &   8   \\\\\n",
       "\t B      & Male   & 353    & 207   \\\\\n",
       "\t C      & Female & 202    & 391   \\\\\n",
       "\t C      & Male   & 120    & 205   \\\\\n",
       "\t D      & Female & 131    & 244   \\\\\n",
       "\t D      & Male   & 138    & 279   \\\\\n",
       "\t E      & Female &  94    & 299   \\\\\n",
       "\t E      & Male   &  53    & 138   \\\\\n",
       "\t F      & Female &  24    & 317   \\\\\n",
       "\t F      & Male   &  22    & 351   \\\\\n",
       "\\end{tabular}\n"
      ],
      "text/markdown": [
       "\n",
       "Dept | Gender | Admitted | Rejected | \n",
       "|---|---|---|---|---|---|---|---|---|---|---|---|\n",
       "| A      | Female |  89    |  19    | \n",
       "| A      | Male   | 512    | 313    | \n",
       "| B      | Female |  17    |   8    | \n",
       "| B      | Male   | 353    | 207    | \n",
       "| C      | Female | 202    | 391    | \n",
       "| C      | Male   | 120    | 205    | \n",
       "| D      | Female | 131    | 244    | \n",
       "| D      | Male   | 138    | 279    | \n",
       "| E      | Female |  94    | 299    | \n",
       "| E      | Male   |  53    | 138    | \n",
       "| F      | Female |  24    | 317    | \n",
       "| F      | Male   |  22    | 351    | \n",
       "\n",
       "\n"
      ],
      "text/plain": [
       "   Dept Gender Admitted Rejected\n",
       "1  A    Female  89       19     \n",
       "2  A    Male   512      313     \n",
       "3  B    Female  17        8     \n",
       "4  B    Male   353      207     \n",
       "5  C    Female 202      391     \n",
       "6  C    Male   120      205     \n",
       "7  D    Female 131      244     \n",
       "8  D    Male   138      279     \n",
       "9  E    Female  94      299     \n",
       "10 E    Male    53      138     \n",
       "11 F    Female  24      317     \n",
       "12 F    Male    22      351     "
      ]
     },
     "metadata": {},
     "output_type": "display_data"
    },
    {
     "data": {
      "text/html": [
       "<table>\n",
       "<thead><tr><th scope=col>Dept</th><th scope=col>Gender</th><th scope=col>Admitted</th><th scope=col>Rejected</th><th scope=col>Perc_Admit</th></tr></thead>\n",
       "<tbody>\n",
       "\t<tr><td>A         </td><td>Female    </td><td> 89       </td><td> 19       </td><td>0.82407407</td></tr>\n",
       "\t<tr><td>A         </td><td>Male      </td><td>512       </td><td>313       </td><td>0.62060606</td></tr>\n",
       "\t<tr><td>B         </td><td>Female    </td><td> 17       </td><td>  8       </td><td>0.68000000</td></tr>\n",
       "\t<tr><td>B         </td><td>Male      </td><td>353       </td><td>207       </td><td>0.63035714</td></tr>\n",
       "\t<tr><td>C         </td><td>Female    </td><td>202       </td><td>391       </td><td>0.34064081</td></tr>\n",
       "\t<tr><td>C         </td><td>Male      </td><td>120       </td><td>205       </td><td>0.36923077</td></tr>\n",
       "\t<tr><td>D         </td><td>Female    </td><td>131       </td><td>244       </td><td>0.34933333</td></tr>\n",
       "\t<tr><td>D         </td><td>Male      </td><td>138       </td><td>279       </td><td>0.33093525</td></tr>\n",
       "\t<tr><td>E         </td><td>Female    </td><td> 94       </td><td>299       </td><td>0.23918575</td></tr>\n",
       "\t<tr><td>E         </td><td>Male      </td><td> 53       </td><td>138       </td><td>0.27748691</td></tr>\n",
       "\t<tr><td>F         </td><td>Female    </td><td> 24       </td><td>317       </td><td>0.07038123</td></tr>\n",
       "\t<tr><td>F         </td><td>Male      </td><td> 22       </td><td>351       </td><td>0.05898123</td></tr>\n",
       "</tbody>\n",
       "</table>\n"
      ],
      "text/latex": [
       "\\begin{tabular}{r|lllll}\n",
       " Dept & Gender & Admitted & Rejected & Perc\\_Admit\\\\\n",
       "\\hline\n",
       "\t A          & Female     &  89        &  19        & 0.82407407\\\\\n",
       "\t A          & Male       & 512        & 313        & 0.62060606\\\\\n",
       "\t B          & Female     &  17        &   8        & 0.68000000\\\\\n",
       "\t B          & Male       & 353        & 207        & 0.63035714\\\\\n",
       "\t C          & Female     & 202        & 391        & 0.34064081\\\\\n",
       "\t C          & Male       & 120        & 205        & 0.36923077\\\\\n",
       "\t D          & Female     & 131        & 244        & 0.34933333\\\\\n",
       "\t D          & Male       & 138        & 279        & 0.33093525\\\\\n",
       "\t E          & Female     &  94        & 299        & 0.23918575\\\\\n",
       "\t E          & Male       &  53        & 138        & 0.27748691\\\\\n",
       "\t F          & Female     &  24        & 317        & 0.07038123\\\\\n",
       "\t F          & Male       &  22        & 351        & 0.05898123\\\\\n",
       "\\end{tabular}\n"
      ],
      "text/markdown": [
       "\n",
       "Dept | Gender | Admitted | Rejected | Perc_Admit | \n",
       "|---|---|---|---|---|---|---|---|---|---|---|---|\n",
       "| A          | Female     |  89        |  19        | 0.82407407 | \n",
       "| A          | Male       | 512        | 313        | 0.62060606 | \n",
       "| B          | Female     |  17        |   8        | 0.68000000 | \n",
       "| B          | Male       | 353        | 207        | 0.63035714 | \n",
       "| C          | Female     | 202        | 391        | 0.34064081 | \n",
       "| C          | Male       | 120        | 205        | 0.36923077 | \n",
       "| D          | Female     | 131        | 244        | 0.34933333 | \n",
       "| D          | Male       | 138        | 279        | 0.33093525 | \n",
       "| E          | Female     |  94        | 299        | 0.23918575 | \n",
       "| E          | Male       |  53        | 138        | 0.27748691 | \n",
       "| F          | Female     |  24        | 317        | 0.07038123 | \n",
       "| F          | Male       |  22        | 351        | 0.05898123 | \n",
       "\n",
       "\n"
      ],
      "text/plain": [
       "   Dept Gender Admitted Rejected Perc_Admit\n",
       "1  A    Female  89       19      0.82407407\n",
       "2  A    Male   512      313      0.62060606\n",
       "3  B    Female  17        8      0.68000000\n",
       "4  B    Male   353      207      0.63035714\n",
       "5  C    Female 202      391      0.34064081\n",
       "6  C    Male   120      205      0.36923077\n",
       "7  D    Female 131      244      0.34933333\n",
       "8  D    Male   138      279      0.33093525\n",
       "9  E    Female  94      299      0.23918575\n",
       "10 E    Male    53      138      0.27748691\n",
       "11 F    Female  24      317      0.07038123\n",
       "12 F    Male    22      351      0.05898123"
      ]
     },
     "metadata": {},
     "output_type": "display_data"
    }
   ],
   "source": [
    "# Table of counts of admission status and gender for each department\n",
    "admit_by_dept <- ucb_admit %>%\n",
    "  count(Dept, Admit, Gender) %>%\n",
    "  spread(Admit, n)\n",
    "\n",
    "# View result\n",
    "admit_by_dept\n",
    "\n",
    "# Percentage of those admitted to each department\n",
    "admit_by_dept %>%\n",
    "  mutate(Perc_Admit = Admitted / (Admitted + Rejected))"
   ]
  },
  {
   "cell_type": "markdown",
   "metadata": {},
   "source": [
    "## Recap: Simpson's paradox\n",
    "\n",
    "### Simpson's paradox\n",
    "\n",
    "* Overall: males more likely to be admitted\n",
    "* Within most departments: females more likely\n",
    "* When controlling for department, relationship between gender and admission status is reversed.\n",
    "* Potential reason:\n",
    "    - Women tended to apply to competitive departments with low admission rates\n",
    "    - Men tended to apply to less competitive departments with high admission rates"
   ]
  }
 ],
 "metadata": {
  "kernelspec": {
   "display_name": "R",
   "language": "R",
   "name": "ir"
  },
  "language_info": {
   "codemirror_mode": "r",
   "file_extension": ".r",
   "mimetype": "text/x-r-source",
   "name": "R",
   "pygments_lexer": "r",
   "version": "3.4.2"
  }
 },
 "nbformat": 4,
 "nbformat_minor": 2
}
