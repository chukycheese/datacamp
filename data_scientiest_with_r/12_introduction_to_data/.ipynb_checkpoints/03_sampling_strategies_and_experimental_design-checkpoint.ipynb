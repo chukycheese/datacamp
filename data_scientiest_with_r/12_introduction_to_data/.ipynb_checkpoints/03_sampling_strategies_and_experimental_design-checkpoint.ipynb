{
 "cells": [
  {
   "cell_type": "markdown",
   "metadata": {},
   "source": [
    "# Sampling strategies and experimental design\n",
    "\n",
    "## Sampling strategies\n",
    "\n",
    "### Why not take a cencus?\n",
    "\n",
    "* Conducting a census is very resource intensive\n",
    "* (Nearly) impossible to collect data from all individuals, hench no gurantee of unbiased results\n",
    "* Populations constantly change\n",
    "\n",
    "### Sampling is natural\n",
    "\n",
    "* We don't taste a whole pot of soup to check it.\n",
    "* Make sure you shake the soup thouroughly before taking a sip\n",
    "\n",
    "### Simple random sample\n",
    "\n",
    "* Each case is equally likely to be selected.\n",
    "\n",
    "### Stratified sample\n",
    "\n",
    "* First, devide the population into homegeneous groups, called strata, and then randomly sample from within each stratum.\n",
    "\n",
    "### Cluster sample\n",
    "\n",
    "* Divide the population into clusters, randomly sample a few clusters, and then sample all observations within these clusters.\n",
    "* The clusters, unlike strata in tratified sampling, are heterogeneous within themselves and each cluster is similar to the others, such that we can get away with sampling from just a few of the clusters.\n",
    "\n",
    "### Multistage sample\n",
    "\n",
    "* Divide the population into clusters, randomly sample a few clusters, and then randomly sample observations from within those clusters.\n",
    "* Cluster and multistage sampling are often used for economical reasons."
   ]
  },
  {
   "cell_type": "markdown",
   "metadata": {},
   "source": [
    "## Sampling in R\n",
    "\n",
    "### Setup"
   ]
  },
  {
   "cell_type": "code",
   "execution_count": 1,
   "metadata": {},
   "outputs": [
    {
     "name": "stderr",
     "output_type": "stream",
     "text": [
      "Please visit openintro.org for free statistics materials\n",
      "\n",
      "Attaching package: 'openintro'\n",
      "\n",
      "The following objects are masked from 'package:datasets':\n",
      "\n",
      "    cars, trees\n",
      "\n",
      "Warning message:\n",
      "\"package 'dplyr' was built under R version 3.4.3\"\n",
      "Attaching package: 'dplyr'\n",
      "\n",
      "The following objects are masked from 'package:stats':\n",
      "\n",
      "    filter, lag\n",
      "\n",
      "The following objects are masked from 'package:base':\n",
      "\n",
      "    intersect, setdiff, setequal, union\n",
      "\n"
     ]
    }
   ],
   "source": [
    "# Load packages\n",
    "library(openintro)\n",
    "library(dplyr)\n",
    "\n",
    "# Load county data\n",
    "data(county)\n",
    "\n",
    "county_noDC <-\n",
    "    county %>%\n",
    "    filter(state != \"District of Columbia\") %>%\n",
    "    droplevels()"
   ]
  },
  {
   "cell_type": "markdown",
   "metadata": {},
   "source": [
    "### Simple random sample"
   ]
  },
  {
   "cell_type": "code",
   "execution_count": 2,
   "metadata": {},
   "outputs": [
    {
     "name": "stdout",
     "output_type": "stream",
     "text": [
      "Observations: 150\n",
      "Variables: 10\n",
      "$ name          <fctr> Concordia Parish, San Bernardino County, Tallahatchi...\n",
      "$ state         <fctr> Louisiana, California, Mississippi, California, Main...\n",
      "$ pop2000       <dbl> 20247, 1709434, 14903, 54501, 186742, 14792, 10037, 2...\n",
      "$ pop2010       <dbl> 20822, 2035210, 15378, 55365, 197131, 16912, 10099, 2...\n",
      "$ fed_spend     <dbl> 10.345548, 5.792442, 9.314475, 8.138264, 8.216658, 7....\n",
      "$ poverty       <dbl> 30.8, 14.8, 32.5, 11.7, 8.5, 17.5, 18.7, 11.3, 20.6, ...\n",
      "$ homeownership <dbl> 70.8, 65.1, 72.6, 70.2, 75.2, 77.0, 79.1, 83.1, 73.4,...\n",
      "$ multiunit     <dbl> 5.5, 18.8, 4.7, 8.6, 22.4, 7.8, 4.1, 10.8, 10.8, 9.2,...\n",
      "$ income        <dbl> 15911, 21867, 12687, 25483, 27137, 18735, 16835, 2840...\n",
      "$ med_income    <dbl> 30062, 55845, 24668, 47462, 55008, 37095, 34732, 4870...\n"
     ]
    }
   ],
   "source": [
    "# Simple random sample of 150 counties\n",
    "county_srs <-\n",
    "    county_noDC %>%\n",
    "    sample_n(size = 150)\n",
    "\n",
    "# Glimpse county_srs\n",
    "glimpse(county_srs)"
   ]
  },
  {
   "cell_type": "markdown",
   "metadata": {},
   "source": [
    "### SRS state distribution"
   ]
  },
  {
   "cell_type": "code",
   "execution_count": 3,
   "metadata": {},
   "outputs": [
    {
     "data": {
      "text/html": [
       "<table>\n",
       "<thead><tr><th scope=col>state</th><th scope=col>n</th></tr></thead>\n",
       "<tbody>\n",
       "\t<tr><td>Alabama       </td><td>1             </td></tr>\n",
       "\t<tr><td>Alaska        </td><td>1             </td></tr>\n",
       "\t<tr><td>Arizona       </td><td>1             </td></tr>\n",
       "\t<tr><td>Arkansas      </td><td>2             </td></tr>\n",
       "\t<tr><td>California    </td><td>3             </td></tr>\n",
       "\t<tr><td>Colorado      </td><td>2             </td></tr>\n",
       "\t<tr><td>Delaware      </td><td>1             </td></tr>\n",
       "\t<tr><td>Florida       </td><td>1             </td></tr>\n",
       "\t<tr><td>Georgia       </td><td>9             </td></tr>\n",
       "\t<tr><td>Hawaii        </td><td>2             </td></tr>\n",
       "\t<tr><td>Idaho         </td><td>2             </td></tr>\n",
       "\t<tr><td>Illinois      </td><td>7             </td></tr>\n",
       "\t<tr><td>Indiana       </td><td>7             </td></tr>\n",
       "\t<tr><td>Iowa          </td><td>4             </td></tr>\n",
       "\t<tr><td>Kansas        </td><td>3             </td></tr>\n",
       "\t<tr><td>Kentucky      </td><td>9             </td></tr>\n",
       "\t<tr><td>Louisiana     </td><td>6             </td></tr>\n",
       "\t<tr><td>Maine         </td><td>3             </td></tr>\n",
       "\t<tr><td>Michigan      </td><td>6             </td></tr>\n",
       "\t<tr><td>Minnesota     </td><td>1             </td></tr>\n",
       "\t<tr><td>Mississippi   </td><td>7             </td></tr>\n",
       "\t<tr><td>Missouri      </td><td>4             </td></tr>\n",
       "\t<tr><td>Montana       </td><td>4             </td></tr>\n",
       "\t<tr><td>Nebraska      </td><td>3             </td></tr>\n",
       "\t<tr><td>New Hampshire </td><td>1             </td></tr>\n",
       "\t<tr><td>New Mexico    </td><td>1             </td></tr>\n",
       "\t<tr><td>New York      </td><td>1             </td></tr>\n",
       "\t<tr><td>North Carolina</td><td>5             </td></tr>\n",
       "\t<tr><td>North Dakota  </td><td>2             </td></tr>\n",
       "\t<tr><td>Ohio          </td><td>3             </td></tr>\n",
       "\t<tr><td>Oklahoma      </td><td>6             </td></tr>\n",
       "\t<tr><td>Pennsylvania  </td><td>1             </td></tr>\n",
       "\t<tr><td>South Carolina</td><td>7             </td></tr>\n",
       "\t<tr><td>South Dakota  </td><td>2             </td></tr>\n",
       "\t<tr><td>Tennessee     </td><td>7             </td></tr>\n",
       "\t<tr><td>Texas         </td><td>8             </td></tr>\n",
       "\t<tr><td>Utah          </td><td>2             </td></tr>\n",
       "\t<tr><td>Vermont       </td><td>1             </td></tr>\n",
       "\t<tr><td>Virginia      </td><td>4             </td></tr>\n",
       "\t<tr><td>Washington    </td><td>1             </td></tr>\n",
       "\t<tr><td>West Virginia </td><td>5             </td></tr>\n",
       "\t<tr><td>Wisconsin     </td><td>3             </td></tr>\n",
       "\t<tr><td>Wyoming       </td><td>1             </td></tr>\n",
       "</tbody>\n",
       "</table>\n"
      ],
      "text/latex": [
       "\\begin{tabular}{r|ll}\n",
       " state & n\\\\\n",
       "\\hline\n",
       "\t Alabama        & 1             \\\\\n",
       "\t Alaska         & 1             \\\\\n",
       "\t Arizona        & 1             \\\\\n",
       "\t Arkansas       & 2             \\\\\n",
       "\t California     & 3             \\\\\n",
       "\t Colorado       & 2             \\\\\n",
       "\t Delaware       & 1             \\\\\n",
       "\t Florida        & 1             \\\\\n",
       "\t Georgia        & 9             \\\\\n",
       "\t Hawaii         & 2             \\\\\n",
       "\t Idaho          & 2             \\\\\n",
       "\t Illinois       & 7             \\\\\n",
       "\t Indiana        & 7             \\\\\n",
       "\t Iowa           & 4             \\\\\n",
       "\t Kansas         & 3             \\\\\n",
       "\t Kentucky       & 9             \\\\\n",
       "\t Louisiana      & 6             \\\\\n",
       "\t Maine          & 3             \\\\\n",
       "\t Michigan       & 6             \\\\\n",
       "\t Minnesota      & 1             \\\\\n",
       "\t Mississippi    & 7             \\\\\n",
       "\t Missouri       & 4             \\\\\n",
       "\t Montana        & 4             \\\\\n",
       "\t Nebraska       & 3             \\\\\n",
       "\t New Hampshire  & 1             \\\\\n",
       "\t New Mexico     & 1             \\\\\n",
       "\t New York       & 1             \\\\\n",
       "\t North Carolina & 5             \\\\\n",
       "\t North Dakota   & 2             \\\\\n",
       "\t Ohio           & 3             \\\\\n",
       "\t Oklahoma       & 6             \\\\\n",
       "\t Pennsylvania   & 1             \\\\\n",
       "\t South Carolina & 7             \\\\\n",
       "\t South Dakota   & 2             \\\\\n",
       "\t Tennessee      & 7             \\\\\n",
       "\t Texas          & 8             \\\\\n",
       "\t Utah           & 2             \\\\\n",
       "\t Vermont        & 1             \\\\\n",
       "\t Virginia       & 4             \\\\\n",
       "\t Washington     & 1             \\\\\n",
       "\t West Virginia  & 5             \\\\\n",
       "\t Wisconsin      & 3             \\\\\n",
       "\t Wyoming        & 1             \\\\\n",
       "\\end{tabular}\n"
      ],
      "text/markdown": [
       "\n",
       "state | n | \n",
       "|---|---|---|---|---|---|---|---|---|---|---|---|---|---|---|---|---|---|---|---|---|---|---|---|---|---|---|---|---|---|---|---|---|---|---|---|---|---|---|---|---|---|---|\n",
       "| Alabama        | 1              | \n",
       "| Alaska         | 1              | \n",
       "| Arizona        | 1              | \n",
       "| Arkansas       | 2              | \n",
       "| California     | 3              | \n",
       "| Colorado       | 2              | \n",
       "| Delaware       | 1              | \n",
       "| Florida        | 1              | \n",
       "| Georgia        | 9              | \n",
       "| Hawaii         | 2              | \n",
       "| Idaho          | 2              | \n",
       "| Illinois       | 7              | \n",
       "| Indiana        | 7              | \n",
       "| Iowa           | 4              | \n",
       "| Kansas         | 3              | \n",
       "| Kentucky       | 9              | \n",
       "| Louisiana      | 6              | \n",
       "| Maine          | 3              | \n",
       "| Michigan       | 6              | \n",
       "| Minnesota      | 1              | \n",
       "| Mississippi    | 7              | \n",
       "| Missouri       | 4              | \n",
       "| Montana        | 4              | \n",
       "| Nebraska       | 3              | \n",
       "| New Hampshire  | 1              | \n",
       "| New Mexico     | 1              | \n",
       "| New York       | 1              | \n",
       "| North Carolina | 5              | \n",
       "| North Dakota   | 2              | \n",
       "| Ohio           | 3              | \n",
       "| Oklahoma       | 6              | \n",
       "| Pennsylvania   | 1              | \n",
       "| South Carolina | 7              | \n",
       "| South Dakota   | 2              | \n",
       "| Tennessee      | 7              | \n",
       "| Texas          | 8              | \n",
       "| Utah           | 2              | \n",
       "| Vermont        | 1              | \n",
       "| Virginia       | 4              | \n",
       "| Washington     | 1              | \n",
       "| West Virginia  | 5              | \n",
       "| Wisconsin      | 3              | \n",
       "| Wyoming        | 1              | \n",
       "\n",
       "\n"
      ],
      "text/plain": [
       "   state          n\n",
       "1  Alabama        1\n",
       "2  Alaska         1\n",
       "3  Arizona        1\n",
       "4  Arkansas       2\n",
       "5  California     3\n",
       "6  Colorado       2\n",
       "7  Delaware       1\n",
       "8  Florida        1\n",
       "9  Georgia        9\n",
       "10 Hawaii         2\n",
       "11 Idaho          2\n",
       "12 Illinois       7\n",
       "13 Indiana        7\n",
       "14 Iowa           4\n",
       "15 Kansas         3\n",
       "16 Kentucky       9\n",
       "17 Louisiana      6\n",
       "18 Maine          3\n",
       "19 Michigan       6\n",
       "20 Minnesota      1\n",
       "21 Mississippi    7\n",
       "22 Missouri       4\n",
       "23 Montana        4\n",
       "24 Nebraska       3\n",
       "25 New Hampshire  1\n",
       "26 New Mexico     1\n",
       "27 New York       1\n",
       "28 North Carolina 5\n",
       "29 North Dakota   2\n",
       "30 Ohio           3\n",
       "31 Oklahoma       6\n",
       "32 Pennsylvania   1\n",
       "33 South Carolina 7\n",
       "34 South Dakota   2\n",
       "35 Tennessee      7\n",
       "36 Texas          8\n",
       "37 Utah           2\n",
       "38 Vermont        1\n",
       "39 Virginia       4\n",
       "40 Washington     1\n",
       "41 West Virginia  5\n",
       "42 Wisconsin      3\n",
       "43 Wyoming        1"
      ]
     },
     "metadata": {},
     "output_type": "display_data"
    }
   ],
   "source": [
    "# State distribution of SRS counties\n",
    "county_srs %>%\n",
    "    group_by(state) %>%\n",
    "    count()"
   ]
  },
  {
   "cell_type": "markdown",
   "metadata": {},
   "source": [
    "### Stratified sample"
   ]
  },
  {
   "cell_type": "code",
   "execution_count": 5,
   "metadata": {},
   "outputs": [
    {
     "name": "stdout",
     "output_type": "stream",
     "text": [
      "Observations: 150\n",
      "Variables: 10\n",
      "$ name          <fctr> Dallas County, Wilcox County, Perry County, Prince o...\n",
      "$ state         <fctr> Alabama, Alabama, Alabama, Alaska, Alaska, Alaska, A...\n",
      "$ pop2000       <dbl> 46365, 13183, 11861, 6146, NA, 9196, 167517, 155032, ...\n",
      "$ pop2010       <dbl> 43820, 11670, 10591, 5559, 968, 9492, 211033, 200186,...\n",
      "$ fed_spend     <dbl> 13.948106, 13.639417, 12.354735, 10.248966, 0.000000,...\n",
      "$ poverty       <dbl> 31.8, 38.5, 28.8, 14.0, 10.8, 24.6, 13.7, 16.1, 24.4,...\n",
      "$ homeownership <dbl> 62.6, 76.8, 67.8, 69.0, 59.1, 56.2, 72.5, 71.5, 72.5,...\n",
      "$ multiunit     <dbl> 16.0, 6.0, 11.4, 9.7, 27.2, 17.4, 11.0, 9.8, 7.0, 2.4...\n",
      "$ income        <dbl> 16646, 12573, 13433, 24193, 35536, 20549, 25527, 2152...\n",
      "$ med_income    <dbl> 26029, 23491, 25950, 45728, 73500, 53899, 43290, 3978...\n"
     ]
    }
   ],
   "source": [
    "# Stratified sample of 150 counties, each state is a stratum\n",
    "county_str <-\n",
    "    county_noDC %>%\n",
    "    group_by(state) %>%\n",
    "    sample_n(size = 3)\n",
    "\n",
    "glimpse(county_str)"
   ]
  },
  {
   "cell_type": "markdown",
   "metadata": {},
   "source": [
    "### Simple random sample in R\n",
    "\n",
    "Suppose you want to collect some data from a sample of eight states. A list of all states and the region they belong to (Northeast, Midwest, South, West) are given in the us_regions data frame.\n",
    "\n",
    "INSTRUCTIONS\n",
    "\n",
    "The dplyr package and us_regions data frame have been loaded for you.\n",
    "\n",
    "* Use simple random sampling to select eight states from us_regions. Save this sample in a data frame called states_srs.\n",
    "* Count the number of states from each region in your sample."
   ]
  },
  {
   "cell_type": "code",
   "execution_count": 14,
   "metadata": {},
   "outputs": [
    {
     "data": {
      "text/html": [
       "<table>\n",
       "<thead><tr><th scope=col>region</th><th scope=col>n</th></tr></thead>\n",
       "<tbody>\n",
       "\t<tr><td>North Central</td><td>3            </td></tr>\n",
       "\t<tr><td>Northeast    </td><td>1            </td></tr>\n",
       "\t<tr><td>South        </td><td>2            </td></tr>\n",
       "\t<tr><td>West         </td><td>2            </td></tr>\n",
       "</tbody>\n",
       "</table>\n"
      ],
      "text/latex": [
       "\\begin{tabular}{r|ll}\n",
       " region & n\\\\\n",
       "\\hline\n",
       "\t North Central & 3            \\\\\n",
       "\t Northeast     & 1            \\\\\n",
       "\t South         & 2            \\\\\n",
       "\t West          & 2            \\\\\n",
       "\\end{tabular}\n"
      ],
      "text/markdown": [
       "\n",
       "region | n | \n",
       "|---|---|---|---|\n",
       "| North Central | 3             | \n",
       "| Northeast     | 1             | \n",
       "| South         | 2             | \n",
       "| West          | 2             | \n",
       "\n",
       "\n"
      ],
      "text/plain": [
       "  region        n\n",
       "1 North Central 3\n",
       "2 Northeast     1\n",
       "3 South         2\n",
       "4 West          2"
      ]
     },
     "metadata": {},
     "output_type": "display_data"
    }
   ],
   "source": [
    "# Create the dataset\n",
    "us_regions <- data.frame(state = state.name,\n",
    "                   region = as.character(state.region))\n",
    "\n",
    "# Simple random sample: states_srs\n",
    "states_srs <- us_regions %>%\n",
    "    sample_n(size = 8)\n",
    "\n",
    "# Count states by region\n",
    "states_srs %>%\n",
    "    group_by(region) %>%\n",
    "    count()"
   ]
  },
  {
   "cell_type": "markdown",
   "metadata": {},
   "source": [
    "### Stratified sample in R\n",
    "\n",
    "In the last exercise, you took a simple random sample of eight states. However, as you may have noticed when you counted the number of states selected from each region, this strategy is unlikely to select an equal number of states from each region. The goal of stratified sampling is to select an equal number of states from each region.\n",
    "\n",
    "INSTRUCTIONS\n",
    "\n",
    "The dplyr package has been loaded for you and us_regions is still available in your workspace.\n",
    "\n",
    "* Use stratified sampling to select a total of eight states, where each stratum is a region. Save this sample in a data frame called states_str.\n",
    "* Count the number of states from each region in your sample to confirm that each region is represented equally in your sample."
   ]
  },
  {
   "cell_type": "code",
   "execution_count": 15,
   "metadata": {},
   "outputs": [
    {
     "data": {
      "text/html": [
       "<table>\n",
       "<thead><tr><th scope=col>region</th><th scope=col>n</th></tr></thead>\n",
       "<tbody>\n",
       "\t<tr><td>North Central</td><td>2            </td></tr>\n",
       "\t<tr><td>Northeast    </td><td>2            </td></tr>\n",
       "\t<tr><td>South        </td><td>2            </td></tr>\n",
       "\t<tr><td>West         </td><td>2            </td></tr>\n",
       "</tbody>\n",
       "</table>\n"
      ],
      "text/latex": [
       "\\begin{tabular}{r|ll}\n",
       " region & n\\\\\n",
       "\\hline\n",
       "\t North Central & 2            \\\\\n",
       "\t Northeast     & 2            \\\\\n",
       "\t South         & 2            \\\\\n",
       "\t West          & 2            \\\\\n",
       "\\end{tabular}\n"
      ],
      "text/markdown": [
       "\n",
       "region | n | \n",
       "|---|---|---|---|\n",
       "| North Central | 2             | \n",
       "| Northeast     | 2             | \n",
       "| South         | 2             | \n",
       "| West          | 2             | \n",
       "\n",
       "\n"
      ],
      "text/plain": [
       "  region        n\n",
       "1 North Central 2\n",
       "2 Northeast     2\n",
       "3 South         2\n",
       "4 West          2"
      ]
     },
     "metadata": {},
     "output_type": "display_data"
    }
   ],
   "source": [
    "# Stratified sample\n",
    "states_str <- us_regions %>%\n",
    "    group_by(region) %>%\n",
    "    sample_n(size = 2)\n",
    "\n",
    "# Count states by region\n",
    "states_str %>%\n",
    "    group_by(region) %>%\n",
    "    count()"
   ]
  },
  {
   "cell_type": "markdown",
   "metadata": {},
   "source": [
    "## Principles of experimental design\n",
    "\n",
    "* Control: compare treatment of interest to a control group\n",
    "* Randomize: randomly assign subjects to treatments\n",
    "* Replicate: collect a sufficiently large smaple within a study, or replicate the entire study\n",
    "* Block: account for the potential effect of confounding variables\n",
    "    - Group subjects into blocks based on these variables\n",
    "    - Randomize within each block to treatment groups\n",
    "    \n",
    "### Design a study, with blocking\n",
    "\n",
    "* Learning R: lecture or online\n",
    "    - Previous experience in programming\n",
    "    - To ensure each group is equally represented into two groups\n",
    "\n",
    "![design_a_study_with_blocking](design_a_study_with_blocking.png)"
   ]
  }
 ],
 "metadata": {
  "kernelspec": {
   "display_name": "R",
   "language": "R",
   "name": "ir"
  },
  "language_info": {
   "codemirror_mode": "r",
   "file_extension": ".r",
   "mimetype": "text/x-r-source",
   "name": "R",
   "pygments_lexer": "r",
   "version": "3.4.2"
  }
 },
 "nbformat": 4,
 "nbformat_minor": 2
}
