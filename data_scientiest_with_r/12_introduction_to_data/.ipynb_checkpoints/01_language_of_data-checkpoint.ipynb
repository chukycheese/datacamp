{
 "cells": [
  {
   "cell_type": "markdown",
   "metadata": {},
   "source": [
    "# Language of data\n",
    "\n",
    "## Welcome to the course!\n",
    "\n",
    "### High School and Beyond\n",
    "\n",
    "* Data are organized in data.frame\n",
    "\n",
    "### Loading data\n",
    "\n",
    "```\n",
    "# Load package\n",
    "library(openintro)\n",
    "\n",
    "# Load data\n",
    "data(hsb2)\n",
    "```\n",
    "\n",
    "### Structure of your data\n",
    "\n",
    "```\n",
    "# View the structure of your data\n",
    "str(hsb2)\n",
    "```\n",
    "\n",
    "### Glimpse of your data\n",
    "\n",
    "```\n",
    "# Load package\n",
    "library(dplyr)\n",
    "\n",
    "# View the structure of your data\n",
    "glimpse(hsb2)\n",
    "```"
   ]
  },
  {
   "cell_type": "code",
   "execution_count": 1,
   "metadata": {},
   "outputs": [
    {
     "name": "stderr",
     "output_type": "stream",
     "text": [
      "Installing package into 'C:/Users/chusi/Documents/R/win-library/3.4'\n",
      "(as 'lib' is unspecified)\n"
     ]
    },
    {
     "name": "stdout",
     "output_type": "stream",
     "text": [
      "package 'openintro' successfully unpacked and MD5 sums checked\n",
      "\n",
      "The downloaded binary packages are in\n",
      "\tC:\\Users\\chusi\\AppData\\Local\\Temp\\RtmpWAUOfG\\downloaded_packages\n"
     ]
    }
   ],
   "source": [
    "install.packages(\"openintro\", repos = \"http://cloud.r-project.org\")"
   ]
  },
  {
   "cell_type": "markdown",
   "metadata": {},
   "source": [
    "### Loading data into R\n",
    "\n",
    "In the video, you saw how to load the hsb2 dataset into R using the data() function and how to preview its contents with str().\n",
    "\n",
    "In this exercise, you'll practice on another dataset, email50, which contains a subset of incoming emails for the first three months of 2012 for a single email account. You will examine the structure of this dataset and determine the number of rows (observations) and columns (variables).\n",
    "\n",
    "INSTRUCTIONS\n",
    "\n",
    "* Load the email50 dataset with the data() function.\n",
    "* View the structure of this dataset with the str() function. *How many observations and variables are there?*"
   ]
  },
  {
   "cell_type": "code",
   "execution_count": 2,
   "metadata": {},
   "outputs": [
    {
     "name": "stderr",
     "output_type": "stream",
     "text": [
      "Please visit openintro.org for free statistics materials\n",
      "\n",
      "Attaching package: 'openintro'\n",
      "\n",
      "The following objects are masked from 'package:datasets':\n",
      "\n",
      "    cars, trees\n",
      "\n"
     ]
    },
    {
     "name": "stdout",
     "output_type": "stream",
     "text": [
      "'data.frame':\t50 obs. of  21 variables:\n",
      " $ spam        : num  0 0 1 0 0 0 0 0 0 0 ...\n",
      " $ to_multiple : num  0 0 0 0 0 0 0 0 0 0 ...\n",
      " $ from        : num  1 1 1 1 1 1 1 1 1 1 ...\n",
      " $ cc          : int  0 0 4 0 0 0 0 0 1 0 ...\n",
      " $ sent_email  : num  1 0 0 0 0 0 0 1 1 0 ...\n",
      " $ time        : POSIXct, format: \"2012-01-04 22:19:16\" \"2012-02-17 05:10:06\" ...\n",
      " $ image       : num  0 0 0 0 0 0 0 0 0 0 ...\n",
      " $ attach      : num  0 0 2 0 0 0 0 0 0 0 ...\n",
      " $ dollar      : num  0 0 0 0 9 0 0 0 0 23 ...\n",
      " $ winner      : Factor w/ 2 levels \"no\",\"yes\": 1 1 1 1 1 1 1 1 1 1 ...\n",
      " $ inherit     : num  0 0 0 0 0 0 0 0 0 0 ...\n",
      " $ viagra      : num  0 0 0 0 0 0 0 0 0 0 ...\n",
      " $ password    : num  0 0 0 0 1 0 0 0 0 0 ...\n",
      " $ num_char    : num  21.705 7.011 0.631 2.454 41.623 ...\n",
      " $ line_breaks : int  551 183 28 61 1088 5 17 88 242 578 ...\n",
      " $ format      : num  1 1 0 0 1 0 0 1 1 1 ...\n",
      " $ re_subj     : num  1 0 0 0 0 0 0 1 1 0 ...\n",
      " $ exclaim_subj: num  0 0 0 0 0 0 0 0 1 0 ...\n",
      " $ urgent_subj : num  0 0 0 0 0 0 0 0 0 0 ...\n",
      " $ exclaim_mess: num  8 1 2 1 43 0 0 2 22 3 ...\n",
      " $ number      : Factor w/ 3 levels \"none\",\"small\",..: 2 3 1 2 2 2 2 2 2 2 ...\n"
     ]
    }
   ],
   "source": [
    "library(openintro)\n",
    "\n",
    "# Load data\n",
    "data(email50)\n",
    "\n",
    "# View its structure\n",
    "str(email50)"
   ]
  },
  {
   "cell_type": "markdown",
   "metadata": {},
   "source": [
    "## Types of variables\n",
    "\n",
    "* Numerical(quantitative): numerical values\n",
    "    - Continuous: infinite number of values within a given range, often measured\n",
    "    - Discrete: specific set of numeric values that can be counted or enumerated, often counted\n",
    "    \n",
    "* Categorical(qualitative): limited number of distinct categories\n",
    "    - It wouldn't be sensible to do arithmetic operations with these kinds of variables.\n",
    "    - Ordinal: finite number of values within a given range, often measured\n",
    "\n",
    "### Glimpse to identify variables"
   ]
  },
  {
   "cell_type": "code",
   "execution_count": 3,
   "metadata": {},
   "outputs": [
    {
     "name": "stderr",
     "output_type": "stream",
     "text": [
      "Warning message:\n",
      "\"package 'dplyr' was built under R version 3.4.3\"\n",
      "Attaching package: 'dplyr'\n",
      "\n",
      "The following objects are masked from 'package:stats':\n",
      "\n",
      "    filter, lag\n",
      "\n",
      "The following objects are masked from 'package:base':\n",
      "\n",
      "    intersect, setdiff, setequal, union\n",
      "\n"
     ]
    },
    {
     "name": "stdout",
     "output_type": "stream",
     "text": [
      "Observations: 200\n",
      "Variables: 11\n",
      "$ id      <int> 70, 121, 86, 141, 172, 113, 50, 11, 84, 48, 75, 60, 95, 104...\n",
      "$ gender  <chr> \"male\", \"female\", \"male\", \"male\", \"male\", \"male\", \"male\", \"...\n",
      "$ race    <chr> \"white\", \"white\", \"white\", \"white\", \"white\", \"white\", \"afri...\n",
      "$ ses     <fctr> low, middle, high, high, middle, middle, middle, middle, m...\n",
      "$ schtyp  <fctr> public, public, public, public, public, public, public, pu...\n",
      "$ prog    <fctr> general, vocational, general, vocational, academic, academ...\n",
      "$ read    <int> 57, 68, 44, 63, 47, 44, 50, 34, 63, 57, 60, 57, 73, 54, 45,...\n",
      "$ write   <int> 52, 59, 33, 44, 52, 52, 59, 46, 57, 55, 46, 65, 60, 63, 57,...\n",
      "$ math    <int> 41, 53, 54, 47, 57, 51, 42, 45, 54, 52, 51, 51, 71, 57, 50,...\n",
      "$ science <int> 47, 63, 58, 53, 53, 63, 53, 39, 58, 50, 53, 63, 61, 55, 31,...\n",
      "$ socst   <int> 57, 61, 31, 56, 61, 61, 61, 36, 51, 51, 61, 61, 71, 46, 56,...\n"
     ]
    }
   ],
   "source": [
    "# Load packages\n",
    "library(dplyr)\n",
    "library(openintro)\n",
    "\n",
    "# Load data\n",
    "data(hsb2)\n",
    "glimpse(hsb2)"
   ]
  },
  {
   "cell_type": "markdown",
   "metadata": {},
   "source": [
    "* Categorical variables: genger, race, ses, schtyp, prog\n",
    "* Numerical(Discrete) variables: read, write, math, science, socst"
   ]
  },
  {
   "cell_type": "markdown",
   "metadata": {},
   "source": [
    "### Identify variable types\n",
    "\n",
    "Recall from the video that the glimpse() function from dplyr provides a handy alternative to str() for previewing a dataset. In addition to telling you the number of observations and variables, it shows the name and type of each column, along with a neatly printed preview of its values.\n",
    "\n",
    "Let's have another look at the email50 data, so you can practice identifying variable types.\n",
    "\n",
    "INSTRUCTIONS\n",
    "\n",
    "* Use the glimpse() function to view the variables in the email50 dataset. Identify each variable as either numerical or categorical, and further as discrete or continuous (if numerical) or ordinal or not ordinal (if categorical)."
   ]
  },
  {
   "cell_type": "code",
   "execution_count": 4,
   "metadata": {},
   "outputs": [
    {
     "name": "stdout",
     "output_type": "stream",
     "text": [
      "Observations: 50\n",
      "Variables: 21\n",
      "$ spam         <dbl> 0, 0, 1, 0, 0, 0, 0, 0, 0, 0, 0, 0, 1, 1, 0, 0, 0, 1, ...\n",
      "$ to_multiple  <dbl> 0, 0, 0, 0, 0, 0, 0, 0, 0, 0, 0, 0, 0, 1, 0, 0, 0, 0, ...\n",
      "$ from         <dbl> 1, 1, 1, 1, 1, 1, 1, 1, 1, 1, 1, 1, 1, 1, 1, 1, 1, 1, ...\n",
      "$ cc           <int> 0, 0, 4, 0, 0, 0, 0, 0, 1, 0, 0, 0, 0, 0, 0, 0, 0, 0, ...\n",
      "$ sent_email   <dbl> 1, 0, 0, 0, 0, 0, 0, 1, 1, 0, 0, 0, 0, 0, 0, 1, 1, 0, ...\n",
      "$ time         <dttm> 2012-01-04 22:19:16, 2012-02-17 05:10:06, 2012-01-05 ...\n",
      "$ image        <dbl> 0, 0, 0, 0, 0, 0, 0, 0, 0, 0, 0, 0, 0, 0, 0, 0, 0, 0, ...\n",
      "$ attach       <dbl> 0, 0, 2, 0, 0, 0, 0, 0, 0, 0, 0, 0, 0, 2, 0, 0, 0, 1, ...\n",
      "$ dollar       <dbl> 0, 0, 0, 0, 9, 0, 0, 0, 0, 23, 4, 0, 3, 2, 0, 0, 0, 0,...\n",
      "$ winner       <fctr> no, no, no, no, no, no, no, no, no, no, no, no, yes, ...\n",
      "$ inherit      <dbl> 0, 0, 0, 0, 0, 0, 0, 0, 0, 0, 0, 0, 0, 0, 0, 0, 0, 0, ...\n",
      "$ viagra       <dbl> 0, 0, 0, 0, 0, 0, 0, 0, 0, 0, 0, 0, 0, 0, 0, 0, 0, 0, ...\n",
      "$ password     <dbl> 0, 0, 0, 0, 1, 0, 0, 0, 0, 0, 0, 2, 0, 0, 0, 0, 0, 0, ...\n",
      "$ num_char     <dbl> 21.705, 7.011, 0.631, 2.454, 41.623, 0.057, 0.809, 5.2...\n",
      "$ line_breaks  <int> 551, 183, 28, 61, 1088, 5, 17, 88, 242, 578, 1167, 198...\n",
      "$ format       <dbl> 1, 1, 0, 0, 1, 0, 0, 1, 1, 1, 1, 1, 1, 0, 1, 1, 1, 0, ...\n",
      "$ re_subj      <dbl> 1, 0, 0, 0, 0, 0, 0, 1, 1, 0, 0, 0, 0, 0, 0, 1, 1, 0, ...\n",
      "$ exclaim_subj <dbl> 0, 0, 0, 0, 0, 0, 0, 0, 1, 0, 0, 0, 0, 0, 0, 0, 0, 0, ...\n",
      "$ urgent_subj  <dbl> 0, 0, 0, 0, 0, 0, 0, 0, 0, 0, 0, 0, 0, 0, 0, 0, 0, 0, ...\n",
      "$ exclaim_mess <dbl> 8, 1, 2, 1, 43, 0, 0, 2, 22, 3, 13, 1, 2, 2, 21, 10, 0...\n",
      "$ number       <fctr> small, big, none, small, small, small, small, small, ...\n"
     ]
    }
   ],
   "source": [
    "# Load libraries\n",
    "library(dplyr)\n",
    "library(openintro)\n",
    "\n",
    "# Load data\n",
    "data(email50)\n",
    "\n",
    "# Glimpse email50\n",
    "glimpse(email50)"
   ]
  },
  {
   "cell_type": "markdown",
   "metadata": {},
   "source": [
    "## Categorical data in R: factors\n",
    "\n",
    "### Categorical data\n",
    "\n",
    "* Often stored as factors in R\n",
    "    - Important use: statistical modeling\n",
    "    - Sometimes undesirable, sometimes essential\n",
    "* Common in subgroup analysis\n",
    "    - Only interested in a subset of the data\n",
    "    - Filter for specific levels of categorical variable\n",
    "\n",
    "### Table to explore"
   ]
  },
  {
   "cell_type": "code",
   "execution_count": 5,
   "metadata": {},
   "outputs": [
    {
     "data": {
      "text/plain": [
       "\n",
       " public private \n",
       "    168      32 "
      ]
     },
     "metadata": {},
     "output_type": "display_data"
    }
   ],
   "source": [
    "# Number of students in public and private schools in hsb2\n",
    "table(hsb2$schtyp)"
   ]
  },
  {
   "cell_type": "markdown",
   "metadata": {},
   "source": [
    "### Filter to subset"
   ]
  },
  {
   "cell_type": "code",
   "execution_count": 9,
   "metadata": {},
   "outputs": [
    {
     "data": {
      "text/plain": [
       "\n",
       " public private \n",
       "    168       0 "
      ]
     },
     "metadata": {},
     "output_type": "display_data"
    }
   ],
   "source": [
    "# Filter for public shools\n",
    "hsb2_public <-\n",
    "    hsb2 %>%\n",
    "    filter(schtyp == \"public\")\n",
    "table(hsb2_public$schtyp)"
   ]
  },
  {
   "cell_type": "markdown",
   "metadata": {},
   "source": [
    "### Drop (unused) levels"
   ]
  },
  {
   "cell_type": "code",
   "execution_count": 10,
   "metadata": {},
   "outputs": [
    {
     "data": {
      "text/plain": [
       "\n",
       "public \n",
       "   168 "
      ]
     },
     "metadata": {},
     "output_type": "display_data"
    }
   ],
   "source": [
    "# Drop unused levels\n",
    "hsb2_public$schtyp <- droplevels(hsb2_public$schtyp)\n",
    "table(hsb2_public$schtyp)"
   ]
  },
  {
   "cell_type": "markdown",
   "metadata": {},
   "source": [
    "### Filtering based on a factor\n",
    "\n",
    "Categorical data are often stored as factors in R. In this exercise, you'll get some practice working with a factor variable, number, from the email50 dataset. This variable tells you what type of number (none, small, or big) an email contains.\n",
    "\n",
    "Recall from the video that the filter() function from dplyr allows you to filter a dataset to create a subset containing only certain levels of a variable. For example, the following code filters the mtcars dataset for cars containing 6 cylinders:\n",
    "\n",
    "```\n",
    "mtcars %>%\n",
    "  filter(cyl == 6)\n",
    "```\n",
    "\n",
    "INSTRUCTIONS\n",
    "\n",
    "* Create a new dataset called email50_big that is a subset of the original email50 dataset containing only emails with \"big\" numbers. This information is stored in the number variable.\n",
    "* Report the dimensions of email50_big using the glimpse() function again. How many emails contain big numbers?"
   ]
  },
  {
   "cell_type": "code",
   "execution_count": 24,
   "metadata": {},
   "outputs": [
    {
     "name": "stdout",
     "output_type": "stream",
     "text": [
      "Observations: 7\n",
      "Variables: 21\n",
      "$ spam         <dbl> 0, 0, 1, 0, 0, 0, 0\n",
      "$ to_multiple  <dbl> 0, 0, 0, 0, 0, 0, 0\n",
      "$ from         <dbl> 1, 1, 1, 1, 1, 1, 1\n",
      "$ cc           <int> 0, 0, 0, 0, 0, 0, 0\n",
      "$ sent_email   <dbl> 0, 0, 0, 0, 0, 1, 0\n",
      "$ time         <dttm> 2012-02-17 05:10:06, 2012-02-05 08:26:09, 2012-01-25 ...\n",
      "$ image        <dbl> 0, 0, 0, 0, 0, 0, 0\n",
      "$ attach       <dbl> 0, 0, 0, 0, 0, 0, 0\n",
      "$ dollar       <dbl> 0, 0, 3, 2, 0, 0, 0\n",
      "$ winner       <fctr> no, no, yes, no, no, no, no\n",
      "$ inherit      <dbl> 0, 0, 0, 0, 0, 0, 0\n",
      "$ viagra       <dbl> 0, 0, 0, 0, 0, 0, 0\n",
      "$ password     <dbl> 0, 2, 0, 0, 0, 0, 8\n",
      "$ num_char     <dbl> 7.011, 10.368, 42.793, 26.520, 6.563, 11.223, 10.613\n",
      "$ line_breaks  <int> 183, 198, 712, 692, 140, 512, 225\n",
      "$ format       <dbl> 1, 1, 1, 1, 1, 1, 1\n",
      "$ re_subj      <dbl> 0, 0, 0, 0, 0, 0, 0\n",
      "$ exclaim_subj <dbl> 0, 0, 0, 1, 0, 0, 0\n",
      "$ urgent_subj  <dbl> 0, 0, 0, 0, 0, 0, 0\n",
      "$ exclaim_mess <dbl> 1, 1, 2, 7, 2, 9, 9\n",
      "$ number       <fctr> big, big, big, big, big, big, big\n"
     ]
    }
   ],
   "source": [
    "# Subset of emails with big numbers: email50_big\n",
    "email50_big <- \n",
    "    email50 %>%\n",
    "    filter(number == \"big\")\n",
    "\n",
    "# Glimpse the subset\n",
    "glimpse(email50_big)"
   ]
  },
  {
   "cell_type": "markdown",
   "metadata": {},
   "source": [
    "### Complete filtering based on a factor\n",
    "\n",
    "The droplevels() function removes unused levels of factor variables from your dataset. As you saw in the video, it's often useful to determine which levels are unused (i.e. contain zero values) with the table() function.\n",
    "\n",
    "In this exercise, you'll see which levels of the number variable are dropped after applying the droplevels() function.\n",
    "\n",
    "INSTRUCTIONS\n",
    "\n",
    "* Make a table() of the number variable in the email50_big dataset. Which two levels are unused?\n",
    "* Apply the droplevels() function to the number variable. Assign the result back to email50_big$number.\n",
    "* Remake the table() of the number variable in the email50_big dataset. How is this output different from the first?"
   ]
  },
  {
   "cell_type": "code",
   "execution_count": 25,
   "metadata": {},
   "outputs": [
    {
     "data": {
      "text/plain": [
       "\n",
       " none small   big \n",
       "    0     0     7 "
      ]
     },
     "metadata": {},
     "output_type": "display_data"
    },
    {
     "data": {
      "text/plain": [
       "\n",
       "big \n",
       "  7 "
      ]
     },
     "metadata": {},
     "output_type": "display_data"
    }
   ],
   "source": [
    "# Table of number variable\n",
    "table(email50_big$number)\n",
    "\n",
    "# Drop levels\n",
    "email50_big$number <- droplevels(email50_big$number)\n",
    "\n",
    "# Another table of number variable\n",
    "table(email50_big$number)"
   ]
  },
  {
   "cell_type": "markdown",
   "metadata": {},
   "source": [
    "## Discretize a variable\n",
    "\n",
    "### Average reading score"
   ]
  },
  {
   "cell_type": "code",
   "execution_count": 27,
   "metadata": {},
   "outputs": [
    {
     "data": {
      "text/html": [
       "52.23"
      ],
      "text/latex": [
       "52.23"
      ],
      "text/markdown": [
       "52.23"
      ],
      "text/plain": [
       "[1] 52.23"
      ]
     },
     "metadata": {},
     "output_type": "display_data"
    },
    {
     "data": {
      "text/html": [
       "52.23"
      ],
      "text/latex": [
       "52.23"
      ],
      "text/markdown": [
       "52.23"
      ],
      "text/plain": [
       "[1] 52.23"
      ]
     },
     "metadata": {},
     "output_type": "display_data"
    }
   ],
   "source": [
    "# Calculate average reading score and show the value\n",
    "mean(hsb2$read)\n",
    "\n",
    "# Calculate average reading score and store as avg_read\n",
    "avg_read <- mean(hsb2$read)\n",
    "\n",
    "# Do both\n",
    "(avg_read <- mean(hsb2$read))"
   ]
  },
  {
   "cell_type": "markdown",
   "metadata": {},
   "source": [
    "### New variable: read_cat"
   ]
  },
  {
   "cell_type": "code",
   "execution_count": 28,
   "metadata": {},
   "outputs": [
    {
     "data": {
      "text/html": [
       "<table>\n",
       "<thead><tr><th scope=col>id</th><th scope=col>gender</th><th scope=col>race</th><th scope=col>ses</th><th scope=col>schtyp</th><th scope=col>prog</th><th scope=col>read</th><th scope=col>write</th><th scope=col>math</th><th scope=col>science</th><th scope=col>socst</th><th scope=col>read_cat</th></tr></thead>\n",
       "<tbody>\n",
       "\t<tr><td> 70                </td><td>male               </td><td>white              </td><td>low                </td><td>public             </td><td>general            </td><td>57                 </td><td>52                 </td><td>41                 </td><td>47                 </td><td>57                 </td><td>at or above average</td></tr>\n",
       "\t<tr><td>121                </td><td>female             </td><td>white              </td><td>middle             </td><td>public             </td><td>vocational         </td><td>68                 </td><td>59                 </td><td>53                 </td><td>63                 </td><td>61                 </td><td>at or above average</td></tr>\n",
       "\t<tr><td> 86                </td><td>male               </td><td>white              </td><td>high               </td><td>public             </td><td>general            </td><td>44                 </td><td>33                 </td><td>54                 </td><td>58                 </td><td>31                 </td><td>below average      </td></tr>\n",
       "\t<tr><td>141                </td><td>male               </td><td>white              </td><td>high               </td><td>public             </td><td>vocational         </td><td>63                 </td><td>44                 </td><td>47                 </td><td>53                 </td><td>56                 </td><td>at or above average</td></tr>\n",
       "\t<tr><td>172                </td><td>male               </td><td>white              </td><td>middle             </td><td>public             </td><td>academic           </td><td>47                 </td><td>52                 </td><td>57                 </td><td>53                 </td><td>61                 </td><td>below average      </td></tr>\n",
       "\t<tr><td>113                </td><td>male               </td><td>white              </td><td>middle             </td><td>public             </td><td>academic           </td><td>44                 </td><td>52                 </td><td>51                 </td><td>63                 </td><td>61                 </td><td>below average      </td></tr>\n",
       "</tbody>\n",
       "</table>\n"
      ],
      "text/latex": [
       "\\begin{tabular}{r|llllllllllll}\n",
       " id & gender & race & ses & schtyp & prog & read & write & math & science & socst & read\\_cat\\\\\n",
       "\\hline\n",
       "\t  70                 & male                & white               & low                 & public              & general             & 57                  & 52                  & 41                  & 47                  & 57                  & at or above average\\\\\n",
       "\t 121                 & female              & white               & middle              & public              & vocational          & 68                  & 59                  & 53                  & 63                  & 61                  & at or above average\\\\\n",
       "\t  86                 & male                & white               & high                & public              & general             & 44                  & 33                  & 54                  & 58                  & 31                  & below average      \\\\\n",
       "\t 141                 & male                & white               & high                & public              & vocational          & 63                  & 44                  & 47                  & 53                  & 56                  & at or above average\\\\\n",
       "\t 172                 & male                & white               & middle              & public              & academic            & 47                  & 52                  & 57                  & 53                  & 61                  & below average      \\\\\n",
       "\t 113                 & male                & white               & middle              & public              & academic            & 44                  & 52                  & 51                  & 63                  & 61                  & below average      \\\\\n",
       "\\end{tabular}\n"
      ],
      "text/markdown": [
       "\n",
       "id | gender | race | ses | schtyp | prog | read | write | math | science | socst | read_cat | \n",
       "|---|---|---|---|---|---|\n",
       "|  70                 | male                | white               | low                 | public              | general             | 57                  | 52                  | 41                  | 47                  | 57                  | at or above average | \n",
       "| 121                 | female              | white               | middle              | public              | vocational          | 68                  | 59                  | 53                  | 63                  | 61                  | at or above average | \n",
       "|  86                 | male                | white               | high                | public              | general             | 44                  | 33                  | 54                  | 58                  | 31                  | below average       | \n",
       "| 141                 | male                | white               | high                | public              | vocational          | 63                  | 44                  | 47                  | 53                  | 56                  | at or above average | \n",
       "| 172                 | male                | white               | middle              | public              | academic            | 47                  | 52                  | 57                  | 53                  | 61                  | below average       | \n",
       "| 113                 | male                | white               | middle              | public              | academic            | 44                  | 52                  | 51                  | 63                  | 61                  | below average       | \n",
       "\n",
       "\n"
      ],
      "text/plain": [
       "  id  gender race  ses    schtyp prog       read write math science socst\n",
       "1  70 male   white low    public general    57   52    41   47      57   \n",
       "2 121 female white middle public vocational 68   59    53   63      61   \n",
       "3  86 male   white high   public general    44   33    54   58      31   \n",
       "4 141 male   white high   public vocational 63   44    47   53      56   \n",
       "5 172 male   white middle public academic   47   52    57   53      61   \n",
       "6 113 male   white middle public academic   44   52    51   63      61   \n",
       "  read_cat           \n",
       "1 at or above average\n",
       "2 at or above average\n",
       "3 below average      \n",
       "4 at or above average\n",
       "5 below average      \n",
       "6 below average      "
      ]
     },
     "metadata": {},
     "output_type": "display_data"
    }
   ],
   "source": [
    "# Create a new variable: read_cat\n",
    "hsb2 <-\n",
    "    hsb2 %>%\n",
    "    mutate(read_cat = ifelse(test = read < avg_read,\n",
    "                            yes = \"below average\",\n",
    "                            no = \"at or above average\"))\n",
    "head(hsb2)"
   ]
  },
  {
   "cell_type": "markdown",
   "metadata": {},
   "source": [
    "### Discretize a different variable\n",
    "\n",
    "In this exercise, you will create a categorical version of the num_char variable in the email50 dataset, which tells you the number of characters in an email, in thousands. This new variable will have two levels—\"below median\" and \"at or above median\"—depending on whether an email has less than the median number of characters or equal to or more than that value.\n",
    "\n",
    "The median marks the 50th percentile, or midpoint, of a distribution, so half of the emails should fall in one category and the other half in the other. You will learn more about the median and other measures of center in the next course in this series.\n",
    "\n",
    "INSTRUCTIONS\n",
    "\n",
    "The email50 dataset is available in your workspace.\n",
    "\n",
    "* Use the num_char variable to find the median number of characters in the emails and store the result as med_num_char.\n",
    "* Create a new variable called num_char_cat, which discretizes the num_char variable into \"below median\" or \"at or above median\". Use the mutate() function from dplyr to accomplish this.\n",
    "* Apply table() on this new variable num_char_cat to determine how many emails are in each category and evaluate whether these counts match the expected numbers."
   ]
  },
  {
   "cell_type": "code",
   "execution_count": 29,
   "metadata": {},
   "outputs": [
    {
     "data": {
      "text/plain": [
       "\n",
       "at or above median       below median \n",
       "                25                 25 "
      ]
     },
     "metadata": {},
     "output_type": "display_data"
    }
   ],
   "source": [
    "# Calculate median number of characters: med_num_char\n",
    "med_num_char <- median(email50$num_char)\n",
    "\n",
    "# Create num_char_cat variable in email50\n",
    "email50 <- email50 %>%\n",
    "  mutate(num_char_cat = ifelse(num_char < med_num_char,\n",
    "                               \"below median\",\n",
    "                              \"at or above median\"))\n",
    "  \n",
    "# Count emails in each category\n",
    "table(email50$num_char_cat)"
   ]
  },
  {
   "cell_type": "markdown",
   "metadata": {},
   "source": [
    "### Combining levels of a different factor\n",
    "\n",
    "Another common way of creating a new variable based on an existing one is by combining levels of a categorical variable. For example, the email50 dataset has a categorical variable called number with levels \"none\", \"small\", and \"big\", but suppose you're only interested in whether an email contains a number. In this exercise, you will create a variable containing this information and also visualize it.\n",
    "\n",
    "For now, do your best to understand the code we've provided to generate the plot. We will go through it in detail in the next video.\n",
    "\n",
    "INSTRUCTIONS\n",
    "\n",
    "* Create a new variable in email50 called number_yn that is \"no\" if there is no number in the email and \"yes\" if there is a small or a big number. The ifelse() function may prove useful here.\n",
    "* Run the code provided to visualize the distribution of the number_yn variable."
   ]
  },
  {
   "cell_type": "code",
   "execution_count": 30,
   "metadata": {},
   "outputs": [
    {
     "name": "stderr",
     "output_type": "stream",
     "text": [
      "\n",
      "Attaching package: 'ggplot2'\n",
      "\n",
      "The following object is masked from 'package:openintro':\n",
      "\n",
      "    diamonds\n",
      "\n"
     ]
    },
    {
     "data": {},
     "metadata": {},
     "output_type": "display_data"
    },
    {
     "data": {
      "image/png": "[encoded data removed]",
      "text/plain": [
       "plot without title"
      ]
     },
     "metadata": {},
     "output_type": "display_data"
    }
   ],
   "source": [
    "# Create number_yn column in email50\n",
    "email50 <- email50 %>%\n",
    "  mutate(number_yn = ifelse(number == \"none\", \"no\", \"yes\"))\n",
    "\n",
    "# Visualize number_yn\n",
    "library(ggplot2)\n",
    "\n",
    "ggplot(email50, aes(x = number_yn)) +\n",
    "  geom_bar()"
   ]
  },
  {
   "cell_type": "markdown",
   "metadata": {},
   "source": [
    "## Visualizing numerical data\n",
    "\n",
    "### ggplot2\n",
    "\n",
    "* Modern looking, hassle-free plots\n",
    "* Easy to extend code for multivariate plots\n",
    "* Iterative construction\n",
    "\n",
    "### Math vs. science scores"
   ]
  },
  {
   "cell_type": "code",
   "execution_count": 31,
   "metadata": {},
   "outputs": [
    {
     "data": {},
     "metadata": {},
     "output_type": "display_data"
    },
    {
     "data": {
      "image/png": "[encoded data removed]",
      "text/plain": [
       "plot without title"
      ]
     },
     "metadata": {},
     "output_type": "display_data"
    }
   ],
   "source": [
    "# Scatterplot of math vs. science scores\n",
    "library(ggplot2)\n",
    "\n",
    "ggplot(data = hsb2, aes(x = science, y = math)) +\n",
    "    geom_point()"
   ]
  },
  {
   "cell_type": "markdown",
   "metadata": {},
   "source": [
    "### Math, science, and program"
   ]
  },
  {
   "cell_type": "code",
   "execution_count": 32,
   "metadata": {},
   "outputs": [
    {
     "data": {},
     "metadata": {},
     "output_type": "display_data"
    },
    {
     "data": {
      "image/png": "[encoded data removed]",
      "text/plain": [
       "plot without title"
      ]
     },
     "metadata": {},
     "output_type": "display_data"
    }
   ],
   "source": [
    "# Scatterplot of math vs. science scores, controlling for program\n",
    "ggplot(data = hsb2, aes(x = science, y = math, colour = prog)) +\n",
    "    geom_point()"
   ]
  },
  {
   "cell_type": "markdown",
   "metadata": {},
   "source": [
    "### Visualizing numerical and categorical data\n",
    "\n",
    "In this exercise, you will visualize the relationship between two numerical variables from the email50 dataset, conditioned on whether or not the email was spam. This means that we will use some aspect of the plot (like color or shape) to separate the groups in the spam column so that we can compare plotted values between them.\n",
    "\n",
    "Recall that in the ggplot() function, the first argument gives the dataset, then the aesthetics map the variables to certain features of the plot, and finally the geom_*() layer informs the type of plot you want to make. In this exercise, you will make a scatterplot by adding the geom_point() layer to your ggplot() call.\n",
    "\n",
    "INSTRUCTIONS\n",
    "\n",
    "Create a scatterplot of number of exclamation points in the email message (exclaim_mess) vs. number of characters (num_char).\n",
    "\n",
    "* Color points by whether or not the email is spam.\n",
    "* Note that the spam variable is stored as numerical (0/1) but you want to use it as a categorical variable in this plot. To do this, you need to force R to think of it as such with the factor() function.\n",
    "* Based on the plot, what's the relationship between these variables?"
   ]
  },
  {
   "cell_type": "code",
   "execution_count": 33,
   "metadata": {},
   "outputs": [
    {
     "name": "stdout",
     "output_type": "stream",
     "text": [
      "'data.frame':\t50 obs. of  23 variables:\n",
      " $ spam        : num  0 0 1 0 0 0 0 0 0 0 ...\n",
      " $ to_multiple : num  0 0 0 0 0 0 0 0 0 0 ...\n",
      " $ from        : num  1 1 1 1 1 1 1 1 1 1 ...\n",
      " $ cc          : int  0 0 4 0 0 0 0 0 1 0 ...\n",
      " $ sent_email  : num  1 0 0 0 0 0 0 1 1 0 ...\n",
      " $ time        : POSIXct, format: \"2012-01-04 22:19:16\" \"2012-02-17 05:10:06\" ...\n",
      " $ image       : num  0 0 0 0 0 0 0 0 0 0 ...\n",
      " $ attach      : num  0 0 2 0 0 0 0 0 0 0 ...\n",
      " $ dollar      : num  0 0 0 0 9 0 0 0 0 23 ...\n",
      " $ winner      : Factor w/ 2 levels \"no\",\"yes\": 1 1 1 1 1 1 1 1 1 1 ...\n",
      " $ inherit     : num  0 0 0 0 0 0 0 0 0 0 ...\n",
      " $ viagra      : num  0 0 0 0 0 0 0 0 0 0 ...\n",
      " $ password    : num  0 0 0 0 1 0 0 0 0 0 ...\n",
      " $ num_char    : num  21.705 7.011 0.631 2.454 41.623 ...\n",
      " $ line_breaks : int  551 183 28 61 1088 5 17 88 242 578 ...\n",
      " $ format      : num  1 1 0 0 1 0 0 1 1 1 ...\n",
      " $ re_subj     : num  1 0 0 0 0 0 0 1 1 0 ...\n",
      " $ exclaim_subj: num  0 0 0 0 0 0 0 0 1 0 ...\n",
      " $ urgent_subj : num  0 0 0 0 0 0 0 0 0 0 ...\n",
      " $ exclaim_mess: num  8 1 2 1 43 0 0 2 22 3 ...\n",
      " $ number      : Factor w/ 3 levels \"none\",\"small\",..: 2 3 1 2 2 2 2 2 2 2 ...\n",
      " $ num_char_cat: chr  \"at or above median\" \"at or above median\" \"below median\" \"below median\" ...\n",
      " $ number_yn   : chr  \"yes\" \"yes\" \"no\" \"yes\" ...\n"
     ]
    }
   ],
   "source": [
    "str(email50)"
   ]
  },
  {
   "cell_type": "code",
   "execution_count": 35,
   "metadata": {},
   "outputs": [
    {
     "data": {},
     "metadata": {},
     "output_type": "display_data"
    },
    {
     "data": {
      "image/png": "[encoded data removed]",
      "text/plain": [
       "plot without title"
      ]
     },
     "metadata": {},
     "output_type": "display_data"
    }
   ],
   "source": [
    "# Load ggplot2\n",
    "library(ggplot2)\n",
    "\n",
    "# Scatterplot of exclaim_mess vs. num_char\n",
    "ggplot(data = email50, aes(x = num_char, y = exclaim_mess,\n",
    "                           colour = factor(spam))) +\n",
    "    geom_point()"
   ]
  }
 ],
 "metadata": {
  "kernelspec": {
   "display_name": "R",
   "language": "R",
   "name": "ir"
  },
  "language_info": {
   "codemirror_mode": "r",
   "file_extension": ".r",
   "mimetype": "text/x-r-source",
   "name": "R",
   "pygments_lexer": "r",
   "version": "3.4.2"
  }
 },
 "nbformat": 4,
 "nbformat_minor": 2
}
