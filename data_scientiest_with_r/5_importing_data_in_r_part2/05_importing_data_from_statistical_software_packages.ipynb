{
 "cells": [
  {
   "cell_type": "markdown",
   "metadata": {},
   "source": [
    "# Import SAS data with haven"
   ]
  },
  {
   "cell_type": "code",
   "execution_count": 1,
   "metadata": {
    "collapsed": true
   },
   "outputs": [],
   "source": [
    "# install.packages(\"haven\", repos = \"https://cloud.r-project.org\")"
   ]
  },
  {
   "cell_type": "code",
   "execution_count": null,
   "metadata": {
    "collapsed": true
   },
   "outputs": [],
   "source": [
    "# Load the haven package\n",
    "library(haven)\n",
    "\n",
    "# Import sales.sas7bdat: sales\n",
    "sales <- read_sas(\"sales.sas7bdat\")\n",
    "\n",
    "# Display the structure of sales\n",
    "str(sales)"
   ]
  },
  {
   "cell_type": "markdown",
   "metadata": {},
   "source": [
    "# Import STATA data with haven"
   ]
  },
  {
   "cell_type": "code",
   "execution_count": 2,
   "metadata": {},
   "outputs": [
    {
     "name": "stderr",
     "output_type": "stream",
     "text": [
      "Warning message:\n",
      "\"package 'haven' was built under R version 3.4.3\""
     ]
    },
    {
     "name": "stdout",
     "output_type": "stream",
     "text": [
      "Classes 'tbl_df', 'tbl' and 'data.frame':\t10 obs. of  5 variables:\n",
      " $ Date    :Class 'labelled'  atomic [1:10] 10 9 8 7 6 5 4 3 2 1\n",
      "  .. ..- attr(*, \"label\")= chr \"Date\"\n",
      "  .. ..- attr(*, \"format.stata\")= chr \"%9.0g\"\n",
      "  .. ..- attr(*, \"labels\")= Named num [1:10] 1 2 3 4 5 6 7 8 9 10\n",
      "  .. .. ..- attr(*, \"names\")= chr [1:10] \"2004-12-31\" \"2005-12-31\" \"2006-12-31\" \"2007-12-31\" ...\n",
      " $ Import  : atomic  37664782 16316512 11082246 35677943 9879878 ...\n",
      "  ..- attr(*, \"label\")= chr \"Import\"\n",
      "  ..- attr(*, \"format.stata\")= chr \"%9.0g\"\n",
      " $ Weight_I: atomic  54029106 21584365 14526089 55034932 14806865 ...\n",
      "  ..- attr(*, \"label\")= chr \"Weight_I\"\n",
      "  ..- attr(*, \"format.stata\")= chr \"%9.0g\"\n",
      " $ Export  : atomic  5.45e+07 1.03e+08 3.79e+07 4.85e+07 7.15e+07 ...\n",
      "  ..- attr(*, \"label\")= chr \"Export\"\n",
      "  ..- attr(*, \"format.stata\")= chr \"%9.0g\"\n",
      " $ Weight_E: atomic  9.34e+07 1.58e+08 8.80e+07 1.12e+08 1.32e+08 ...\n",
      "  ..- attr(*, \"label\")= chr \"Weight_E\"\n",
      "  ..- attr(*, \"format.stata\")= chr \"%9.0g\"\n",
      " - attr(*, \"label\")= chr \"Written by R.\"\n",
      "Classes 'tbl_df', 'tbl' and 'data.frame':\t10 obs. of  5 variables:\n",
      " $ Date    : Date, format: \"2013-12-31\" \"2012-12-31\" ...\n",
      " $ Import  : atomic  37664782 16316512 11082246 35677943 9879878 ...\n",
      "  ..- attr(*, \"label\")= chr \"Import\"\n",
      "  ..- attr(*, \"format.stata\")= chr \"%9.0g\"\n",
      " $ Weight_I: atomic  54029106 21584365 14526089 55034932 14806865 ...\n",
      "  ..- attr(*, \"label\")= chr \"Weight_I\"\n",
      "  ..- attr(*, \"format.stata\")= chr \"%9.0g\"\n",
      " $ Export  : atomic  5.45e+07 1.03e+08 3.79e+07 4.85e+07 7.15e+07 ...\n",
      "  ..- attr(*, \"label\")= chr \"Export\"\n",
      "  ..- attr(*, \"format.stata\")= chr \"%9.0g\"\n",
      " $ Weight_E: atomic  9.34e+07 1.58e+08 8.80e+07 1.12e+08 1.32e+08 ...\n",
      "  ..- attr(*, \"label\")= chr \"Weight_E\"\n",
      "  ..- attr(*, \"format.stata\")= chr \"%9.0g\"\n",
      " - attr(*, \"label\")= chr \"Written by R.\"\n"
     ]
    }
   ],
   "source": [
    "# haven is already loaded\n",
    "library(haven)\n",
    "\n",
    "# Import the data from the URL: sugar\n",
    "sugar <- read_dta(\"http://assets.datacamp.com/production/course_1478/datasets/trade.dta\")\n",
    "\n",
    "# Structure of sugar\n",
    "str(sugar)\n",
    "\n",
    "# Convert values in Date column to dates\n",
    "sugar$Date <- as.Date(as_factor(sugar$Date))\n",
    "\n",
    "# Structure of sugar again\n",
    "str(sugar)"
   ]
  },
  {
   "cell_type": "markdown",
   "metadata": {},
   "source": [
    "# Import SPSS data with haven"
   ]
  },
  {
   "cell_type": "code",
   "execution_count": null,
   "metadata": {
    "collapsed": true
   },
   "outputs": [],
   "source": [
    "# haven is already loaded\n",
    "\n",
    "# Import person.sav: traits\n",
    "traits <- read_sav(\"person.sav\")\n",
    "\n",
    "# Summarize traits\n",
    "summary(traits)\n",
    "\n",
    "# Print out a subset\n",
    "print(subset(traits, Extroversion > 40 & Agreeableness > 40))"
   ]
  },
  {
   "cell_type": "markdown",
   "metadata": {},
   "source": [
    "# Factorize, round two"
   ]
  },
  {
   "cell_type": "code",
   "execution_count": 3,
   "metadata": {},
   "outputs": [
    {
     "data": {
      "text/plain": [
       "   Length     Class      Mode \n",
       "      474  labelled character "
      ]
     },
     "metadata": {},
     "output_type": "display_data"
    },
    {
     "data": {
      "text/html": [
       "<dl class=dl-horizontal>\n",
       "\t<dt>Female</dt>\n",
       "\t\t<dd>216</dd>\n",
       "\t<dt>Male</dt>\n",
       "\t\t<dd>258</dd>\n",
       "</dl>\n"
      ],
      "text/latex": [
       "\\begin{description*}\n",
       "\\item[Female] 216\n",
       "\\item[Male] 258\n",
       "\\end{description*}\n"
      ],
      "text/markdown": [
       "Female\n",
       ":   216Male\n",
       ":   258\n",
       "\n"
      ],
      "text/plain": [
       "Female   Male \n",
       "   216    258 "
      ]
     },
     "metadata": {},
     "output_type": "display_data"
    }
   ],
   "source": [
    "# haven is already loaded\n",
    "\n",
    "# Import SPSS data from the URL: work\n",
    "work <- read_sav(\"http://s3.amazonaws.com/assets.datacamp.com/production/course_1478/datasets/employee.sav\")\n",
    "\n",
    "# Display summary of work$GENDER\n",
    "summary(work$GENDER)\n",
    "\n",
    "\n",
    "# Convert work$GENDER to a factor\n",
    "work$GENDER <- as_factor(work$GENDER)\n",
    "\n",
    "\n",
    "# Display summary of work$GENDER again\n",
    "summary(work$GENDER)\n"
   ]
  },
  {
   "cell_type": "markdown",
   "metadata": {},
   "source": [
    "# Import STATA data with foreign (1)"
   ]
  },
  {
   "cell_type": "code",
   "execution_count": 4,
   "metadata": {
    "collapsed": true
   },
   "outputs": [],
   "source": [
    "# Load the foreign package\n",
    "library(foreign)\n",
    "\n",
    "# Import florida.dta and name the resulting data frame florida\n",
    "florida <- read.dta(\"florida.dta\")\n",
    "\n",
    "# Check tail() of florida\n",
    "tail(florida)"
   ]
  },
  {
   "cell_type": "code",
   "execution_count": null,
   "metadata": {
    "collapsed": true
   },
   "outputs": [],
   "source": [
    "# foreign is already loaded\n",
    "\n",
    "# Specify the file path using file.path(): path\n",
    "path <- file.path(\"worldbank\", \"edequality.dta\")\n",
    "\n",
    "# Create and print structure of edu_equal_1\n",
    "edu_equal_1 <- read.dta(path)\n",
    "str(edu_equal_1)\n",
    "\n",
    "# Create and print structure of edu_equal_2\n",
    "edu_equal_2 <- read.dta(path, convert.factors = FALSE)\n",
    "str(edu_equal_2)\n",
    "\n",
    "# Create and print structure of edu_equal_3\n",
    "edu_equal_3 <- read.dta(path, convert.underscore = TRUE)\n",
    "str(edu_equal_3)"
   ]
  },
  {
   "cell_type": "markdown",
   "metadata": {},
   "source": [
    "# Import SPSS data with foreign (1)"
   ]
  },
  {
   "cell_type": "code",
   "execution_count": null,
   "metadata": {
    "collapsed": true
   },
   "outputs": [],
   "source": [
    "# foreign is already loaded\n",
    "\n",
    "# Import international.sav as a data frame: demo\n",
    "demo <- read.spss(\"international.sav\", to.data.frame = TRUE)\n",
    "\n",
    "# Create boxplot of gdp variable of demo\n",
    "boxplot(demo$gdp)"
   ]
  },
  {
   "cell_type": "markdown",
   "metadata": {},
   "source": [
    "# Import SPSS data with foreign (2)"
   ]
  },
  {
   "cell_type": "code",
   "execution_count": null,
   "metadata": {
    "collapsed": true
   },
   "outputs": [],
   "source": [
    "# foreign is already loaded\n",
    "\n",
    "# Import international.sav as demo_1\n",
    "demo_1 <- read.spss(\"international.sav\", to.data.frame = TRUE)\n",
    "\n",
    "# Print out the head of demo_1\n",
    "head(demo_1)\n",
    "\n",
    "# Import international.sav as demo_2\n",
    "demo_2 <- read.spss(\"international.sav\", to.data.frame = TRUE, use.value.labels = FALSE)\n",
    "\n",
    "# Print out the head of demo_2\n",
    "head(demo_2)"
   ]
  }
 ],
 "metadata": {
  "kernelspec": {
   "display_name": "R",
   "language": "R",
   "name": "ir"
  },
  "language_info": {
   "codemirror_mode": "r",
   "file_extension": ".r",
   "mimetype": "text/x-r-source",
   "name": "R",
   "pygments_lexer": "r",
   "version": "3.4.2"
  }
 },
 "nbformat": 4,
 "nbformat_minor": 2
}
