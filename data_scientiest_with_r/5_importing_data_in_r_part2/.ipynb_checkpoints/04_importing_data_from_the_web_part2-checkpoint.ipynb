{
 "cells": [
  {
   "cell_type": "markdown",
   "metadata": {},
   "source": [
    "# From JSON to R"
   ]
  },
  {
   "cell_type": "code",
   "execution_count": 2,
   "metadata": {},
   "outputs": [
    {
     "name": "stderr",
     "output_type": "stream",
     "text": [
      "Installing package into 'C:/Users/chusi/Documents/R/win-library/3.4'\n",
      "(as 'lib' is unspecified)\n",
      "Warning message:\n",
      "\"unable to access index for repository https://clould.r-pproject.org/src/contrib:\n",
      "  cannot open URL 'https://clould.r-pproject.org/src/contrib/PACKAGES'\"Warning message:\n",
      "\"package 'jsonlite' is not available (for R version 3.4.2)\"Warning message:\n",
      "\"unable to access index for repository https://clould.r-pproject.org/bin/windows/contrib/3.4:\n",
      "  cannot open URL 'https://clould.r-pproject.org/bin/windows/contrib/3.4/PACKAGES'\""
     ]
    }
   ],
   "source": [
    "# install.packages(\"jsonlite\", repos = \"https://clould.r-pproject.org\")"
   ]
  },
  {
   "cell_type": "code",
   "execution_count": 4,
   "metadata": {},
   "outputs": [
    {
     "name": "stdout",
     "output_type": "stream",
     "text": [
      "List of 5\n",
      " $ name       : chr \"Chateau Migraine\"\n",
      " $ year       : int 1997\n",
      " $ alcohol_pct: num 12.4\n",
      " $ color      : chr \"red\"\n",
      " $ awarded    : logi FALSE\n"
     ]
    }
   ],
   "source": [
    "# Load the jsonlite package\n",
    "library(jsonlite)\n",
    "\n",
    "# wine_json is a JSON\n",
    "wine_json <- '{\"name\":\"Chateau Migraine\", \"year\":1997, \"alcohol_pct\":12.4, \"color\":\"red\", \"awarded\":false}'\n",
    "\n",
    "# Convert wine_json into a list: wine\n",
    "wine <- fromJSON(wine_json)\n",
    "\n",
    "# Print structure of wine\n",
    "str(wine)"
   ]
  },
  {
   "cell_type": "markdown",
   "metadata": {},
   "source": [
    "# Quandl API"
   ]
  },
  {
   "cell_type": "code",
   "execution_count": 5,
   "metadata": {},
   "outputs": [
    {
     "name": "stdout",
     "output_type": "stream",
     "text": [
      "List of 1\n",
      " $ dataset_data:List of 10\n",
      "  ..$ limit       : NULL\n",
      "  ..$ transform   : NULL\n",
      "  ..$ column_index: NULL\n",
      "  ..$ column_names: chr [1:13] \"Date\" \"Open\" \"High\" \"Low\" ...\n",
      "  ..$ start_date  : chr \"2012-05-18\"\n",
      "  ..$ end_date    : chr \"2018-01-30\"\n",
      "  ..$ frequency   : chr \"daily\"\n",
      "  ..$ data        : chr [1:1433, 1:13] \"2018-01-30\" \"2018-01-29\" \"2018-01-26\" \"2018-01-25\" ...\n",
      "  ..$ collapse    : NULL\n",
      "  ..$ order       : NULL\n"
     ]
    }
   ],
   "source": [
    "# jsonlite is preloaded\n",
    "\n",
    "# Definition of quandl_url\n",
    "quandl_url <- \"https://www.quandl.com/api/v3/datasets/WIKI/FB/data.json?auth_token=i83asDsiWUUyfoypkgMz\"\n",
    "\n",
    "# Import Quandl data: quandl_data\n",
    "quandl_data <- fromJSON(quandl_url)\n",
    "\n",
    "# Print structure of quandl_data\n",
    "str(quandl_data)"
   ]
  },
  {
   "cell_type": "markdown",
   "metadata": {},
   "source": [
    "# OMDb API"
   ]
  },
  {
   "cell_type": "code",
   "execution_count": 6,
   "metadata": {},
   "outputs": [
    {
     "data": {
      "text/html": [
       "'Star Wars: Episode IV - A New Hope'"
      ],
      "text/latex": [
       "'Star Wars: Episode IV - A New Hope'"
      ],
      "text/markdown": [
       "'Star Wars: Episode IV - A New Hope'"
      ],
      "text/plain": [
       "[1] \"Star Wars: Episode IV - A New Hope\""
      ]
     },
     "metadata": {},
     "output_type": "display_data"
    },
    {
     "data": {
      "text/html": [
       "'Star Wars: Episode III - Revenge of the Sith'"
      ],
      "text/latex": [
       "'Star Wars: Episode III - Revenge of the Sith'"
      ],
      "text/markdown": [
       "'Star Wars: Episode III - Revenge of the Sith'"
      ],
      "text/plain": [
       "[1] \"Star Wars: Episode III - Revenge of the Sith\""
      ]
     },
     "metadata": {},
     "output_type": "display_data"
    },
    {
     "data": {
      "text/html": [
       "FALSE"
      ],
      "text/latex": [
       "FALSE"
      ],
      "text/markdown": [
       "FALSE"
      ],
      "text/plain": [
       "[1] FALSE"
      ]
     },
     "metadata": {},
     "output_type": "display_data"
    }
   ],
   "source": [
    "# The package jsonlite is already loaded\n",
    "\n",
    "# Definition of the URLs\n",
    "url_sw4 <- \"http://www.omdbapi.com/?apikey=ff21610b&i=tt0076759&r=json\"\n",
    "url_sw3 <- \"http://www.omdbapi.com/?apikey=ff21610b&i=tt0121766&r=json\"\n",
    "\n",
    "# Import two URLs with fromJSON(): sw4 and sw3\n",
    "sw4 <- fromJSON(url_sw4)\n",
    "sw3 <- fromJSON(url_sw3)\n",
    "\n",
    "# Print out the Title element of both lists\n",
    "sw4$Title\n",
    "sw3$Title\n",
    "\n",
    "# Is the release year of sw4 later than sw3?\n",
    "sw4$Year > sw3$Year"
   ]
  },
  {
   "cell_type": "markdown",
   "metadata": {},
   "source": [
    "# JSON practice (1)"
   ]
  },
  {
   "cell_type": "code",
   "execution_count": 7,
   "metadata": {},
   "outputs": [
    {
     "data": {
      "text/html": [
       "<ol class=list-inline>\n",
       "\t<li>1</li>\n",
       "\t<li>2</li>\n",
       "\t<li>3</li>\n",
       "\t<li>4</li>\n",
       "\t<li>5</li>\n",
       "\t<li>6</li>\n",
       "</ol>\n"
      ],
      "text/latex": [
       "\\begin{enumerate*}\n",
       "\\item 1\n",
       "\\item 2\n",
       "\\item 3\n",
       "\\item 4\n",
       "\\item 5\n",
       "\\item 6\n",
       "\\end{enumerate*}\n"
      ],
      "text/markdown": [
       "1. 1\n",
       "2. 2\n",
       "3. 3\n",
       "4. 4\n",
       "5. 5\n",
       "6. 6\n",
       "\n",
       "\n"
      ],
      "text/plain": [
       "[1] 1 2 3 4 5 6"
      ]
     },
     "metadata": {},
     "output_type": "display_data"
    },
    {
     "data": {
      "text/html": [
       "<dl>\n",
       "\t<dt>$a</dt>\n",
       "\t\t<dd><ol class=list-inline>\n",
       "\t<li>1</li>\n",
       "\t<li>2</li>\n",
       "\t<li>3</li>\n",
       "</ol>\n",
       "</dd>\n",
       "\t<dt>$b</dt>\n",
       "\t\t<dd><ol class=list-inline>\n",
       "\t<li>4</li>\n",
       "\t<li>5</li>\n",
       "\t<li>6</li>\n",
       "</ol>\n",
       "</dd>\n",
       "</dl>\n"
      ],
      "text/latex": [
       "\\begin{description}\n",
       "\\item[\\$a] \\begin{enumerate*}\n",
       "\\item 1\n",
       "\\item 2\n",
       "\\item 3\n",
       "\\end{enumerate*}\n",
       "\n",
       "\\item[\\$b] \\begin{enumerate*}\n",
       "\\item 4\n",
       "\\item 5\n",
       "\\item 6\n",
       "\\end{enumerate*}\n",
       "\n",
       "\\end{description}\n"
      ],
      "text/markdown": [
       "$a\n",
       ":   1. 1\n",
       "2. 2\n",
       "3. 3\n",
       "\n",
       "\n",
       "\n",
       "$b\n",
       ":   1. 4\n",
       "2. 5\n",
       "3. 6\n",
       "\n",
       "\n",
       "\n",
       "\n",
       "\n"
      ],
      "text/plain": [
       "$a\n",
       "[1] 1 2 3\n",
       "\n",
       "$b\n",
       "[1] 4 5 6\n"
      ]
     },
     "metadata": {},
     "output_type": "display_data"
    }
   ],
   "source": [
    "# jsonlite is already loaded\n",
    "\n",
    "# Challenge 1\n",
    "json1 <- '[1, 2, 3, 4, 5, 6]'\n",
    "fromJSON(json1)\n",
    "\n",
    "# Challenge 2\n",
    "json2 <- '{\"a\": [1, 2, 3],\n",
    "            \"b\" : [4, 5, 6]\n",
    "           }'\n",
    "fromJSON(json2)"
   ]
  },
  {
   "cell_type": "markdown",
   "metadata": {},
   "source": [
    "# JSON practice (2)"
   ]
  },
  {
   "cell_type": "code",
   "execution_count": 8,
   "metadata": {},
   "outputs": [
    {
     "data": {
      "text/html": [
       "<table>\n",
       "<tbody>\n",
       "\t<tr><td>1</td><td>2</td></tr>\n",
       "\t<tr><td>3</td><td>4</td></tr>\n",
       "</tbody>\n",
       "</table>\n"
      ],
      "text/latex": [
       "\\begin{tabular}{ll}\n",
       "\t 1 & 2\\\\\n",
       "\t 3 & 4\\\\\n",
       "\\end{tabular}\n"
      ],
      "text/markdown": [
       "\n",
       "| 1 | 2 | \n",
       "| 3 | 4 | \n",
       "\n",
       "\n"
      ],
      "text/plain": [
       "     [,1] [,2]\n",
       "[1,] 1    2   \n",
       "[2,] 3    4   "
      ]
     },
     "metadata": {},
     "output_type": "display_data"
    },
    {
     "data": {
      "text/html": [
       "<table>\n",
       "<thead><tr><th scope=col>a</th><th scope=col>b</th></tr></thead>\n",
       "<tbody>\n",
       "\t<tr><td>1</td><td>2</td></tr>\n",
       "\t<tr><td>3</td><td>4</td></tr>\n",
       "\t<tr><td>5</td><td>6</td></tr>\n",
       "</tbody>\n",
       "</table>\n"
      ],
      "text/latex": [
       "\\begin{tabular}{r|ll}\n",
       " a & b\\\\\n",
       "\\hline\n",
       "\t 1 & 2\\\\\n",
       "\t 3 & 4\\\\\n",
       "\t 5 & 6\\\\\n",
       "\\end{tabular}\n"
      ],
      "text/markdown": [
       "\n",
       "a | b | \n",
       "|---|---|---|\n",
       "| 1 | 2 | \n",
       "| 3 | 4 | \n",
       "| 5 | 6 | \n",
       "\n",
       "\n"
      ],
      "text/plain": [
       "  a b\n",
       "1 1 2\n",
       "2 3 4\n",
       "3 5 6"
      ]
     },
     "metadata": {},
     "output_type": "display_data"
    }
   ],
   "source": [
    "# jsonlite is already loaded\n",
    "\n",
    "# Challenge 1\n",
    "# json1 <- '[[1, 2], [3, 4], [5, 6]]'\n",
    "json1 <- '[[1, 2], [3, 4]]'\n",
    "fromJSON(json1)\n",
    "\n",
    "# Challenge 2\n",
    "# json2 <- '[{\"a\": 1, \"b\": 2}, {\"a\": 3, \"b\": 4}]'\n",
    "json2 <- '[{\"a\": 1, \"b\": 2}, {\"a\": 3, \"b\": 4},\n",
    "           {\"a\": 5, \"b\": 6}]'\n",
    "fromJSON(json2)"
   ]
  },
  {
   "cell_type": "markdown",
   "metadata": {},
   "source": [
    "# toJSON()"
   ]
  },
  {
   "cell_type": "code",
   "execution_count": 9,
   "metadata": {},
   "outputs": [
    {
     "name": "stdout",
     "output_type": "stream",
     "text": [
      "[{\"water\":\"Algeria\",\"X1992\":0.064,\"X2002\":0.017},{\"water\":\"American Samoa\"},{\"water\":\"Angola\",\"X1992\":0.0001,\"X2002\":0.0001},{\"water\":\"Antigua and Barbuda\",\"X1992\":0.0033},{\"water\":\"Argentina\",\"X1992\":0.0007,\"X1997\":0.0007,\"X2002\":0.0007},{\"water\":\"Australia\",\"X1992\":0.0298,\"X2002\":0.0298},{\"water\":\"Austria\",\"X1992\":0.0022,\"X2002\":0.0022},{\"water\":\"Bahamas\",\"X1992\":0.0013,\"X2002\":0.0074},{\"water\":\"Bahrain\",\"X1992\":0.0441,\"X2002\":0.0441,\"X2007\":0.1024},{\"water\":\"Barbados\",\"X2007\":0.0146},{\"water\":\"British Virgin Islands\",\"X2007\":0.0042},{\"water\":\"Canada\",\"X1992\":0.0027,\"X2002\":0.0027},{\"water\":\"Cape Verde\",\"X1992\":0.002,\"X1997\":0.0017},{\"water\":\"Cayman Islands\",\"X1992\":0.0033},{\"water\":\"Central African Rep.\"},{\"water\":\"Chile\",\"X1992\":0.0048,\"X2002\":0.0048},{\"water\":\"Colombia\",\"X1992\":0.0027,\"X2002\":0.0027},{\"water\":\"Cuba\",\"X1992\":0.0069,\"X1997\":0.0069,\"X2002\":0.0069},{\"water\":\"Cyprus\",\"X1992\":0.003,\"X1997\":0.003,\"X2002\":0.0335},{\"water\":\"Czech Rep.\",\"X1992\":0.0002,\"X2002\":0.0002},{\"water\":\"Denmark\",\"X1992\":0.015,\"X2002\":0.015},{\"water\":\"Djibouti\",\"X1992\":0.0001,\"X2002\":0.0001},{\"water\":\"Ecuador\",\"X1992\":0.0022,\"X1997\":0.0022,\"X2002\":0.0022},{\"water\":\"Egypt\",\"X1992\":0.025,\"X1997\":0.025,\"X2002\":0.1},{\"water\":\"El Salvador\",\"X1992\":0.0001,\"X2002\":0.0001},{\"water\":\"Finland\",\"X1992\":0.0001,\"X2002\":0.0001},{\"water\":\"France\",\"X1992\":0.0117,\"X2002\":0.0117},{\"water\":\"Gibraltar\",\"X1992\":0.0077},{\"water\":\"Greece\",\"X1992\":0.01,\"X2002\":0.01},{\"water\":\"Honduras\",\"X1992\":0.0002,\"X2002\":0.0002},{\"water\":\"Hungary\",\"X1992\":0.0002,\"X2002\":0.0002},{\"water\":\"India\",\"X1997\":0.0005,\"X2002\":0.0005},{\"water\":\"Indonesia\",\"X1992\":0.0187,\"X2002\":0.0187},{\"water\":\"Iran\",\"X1992\":0.003,\"X1997\":0.003,\"X2002\":0.003,\"X2007\":0.2},{\"water\":\"Iraq\",\"X1997\":0.0074,\"X2002\":0.0074},{\"water\":\"Ireland\",\"X1992\":0.0002,\"X2002\":0.0002},{\"water\":\"Israel\",\"X1992\":0.0256,\"X2002\":0.0256,\"X2007\":0.14},{\"water\":\"Italy\",\"X1992\":0.0973,\"X2002\":0.0973},{\"water\":\"Jamaica\",\"X1992\":0.0005,\"X1997\":0.0005,\"X2002\":0.0005},{\"water\":\"Japan\",\"X1997\":0.04,\"X2002\":0.04},{\"water\":\"Jordan\",\"X1997\":0.002,\"X2007\":0.0098},{\"water\":\"Kazakhstan\",\"X1997\":1.328,\"X2002\":1.328},{\"water\":\"Kuwait\",\"X1992\":0.507,\"X1997\":0.231,\"X2002\":0.4202},{\"water\":\"Lebanon\",\"X2007\":0.0473},{\"water\":\"Libya\",\"X2002\":0.018},{\"water\":\"Malaysia\",\"X1992\":0.0043,\"X2002\":0.0043},{\"water\":\"Maldives\",\"X1992\":0.0004},{\"water\":\"Malta\",\"X1992\":0.024,\"X1997\":0.031,\"X2002\":0.031},{\"water\":\"Marshall Islands\",\"X1992\":0.0007},{\"water\":\"Mauritania\",\"X1992\":0.002,\"X2002\":0.002},{\"water\":\"Mexico\",\"X1992\":0.0307,\"X2002\":0.0307},{\"water\":\"Morocco\",\"X1992\":0.0034,\"X1997\":0.0034,\"X2002\":0.007},{\"water\":\"Namibia\",\"X1992\":0.0003,\"X2002\":0.0003},{\"water\":\"Netherlands Antilles\",\"X1992\":0.063},{\"water\":\"Nicaragua\",\"X1992\":0.0002,\"X2002\":0.0002},{\"water\":\"Nigeria\",\"X1992\":0.003,\"X2002\":0.003},{\"water\":\"Norway\",\"X1992\":0.0001,\"X2002\":0.0001},{\"water\":\"Oman\",\"X1997\":0.034,\"X2002\":0.034,\"X2007\":0.109},{\"water\":\"Peru\",\"X1992\":0.0054,\"X2002\":0.0054},{\"water\":\"Poland\",\"X1992\":0.007,\"X2002\":0.007},{\"water\":\"Portugal\",\"X1992\":0.0016,\"X2002\":0.0016},{\"water\":\"Qatar\",\"X1992\":0.065,\"X1997\":0.099,\"X2002\":0.099,\"X2007\":0.18},{\"water\":\"Saudi Arabia\",\"X1992\":0.683,\"X1997\":0.727,\"X2002\":0.863,\"X2007\":1.033},{\"water\":\"Senegal\",\"X1992\":0,\"X2002\":0},{\"water\":\"Somalia\",\"X1992\":0.0001,\"X2002\":0.0001},{\"water\":\"South Africa\",\"X1992\":0.018,\"X2002\":0.018},{\"water\":\"Spain\",\"X1992\":0.1002,\"X2002\":0.1002},{\"water\":\"Sudan\",\"X1992\":0.0004,\"X1997\":0.0004,\"X2002\":0.0004},{\"water\":\"Sweden\",\"X1992\":0.0002,\"X2002\":0.0002},{\"water\":\"Trinidad and Tobago\",\"X2007\":0.036},{\"water\":\"Tunisia\",\"X1992\":0.008,\"X2002\":0.013},{\"water\":\"Turkey\",\"X1992\":0.0005,\"X2002\":0.0005,\"X2007\":0.0005},{\"water\":\"United Arab Emirates\",\"X1992\":0.163,\"X1997\":0.385,\"X2007\":0.95},{\"water\":\"United Kingdom\",\"X1992\":0.0333,\"X2002\":0.0333},{\"water\":\"United States\",\"X1992\":0.58,\"X2002\":0.58},{\"water\":\"Venezuela\",\"X1992\":0.0052,\"X2002\":0.0052},{\"water\":\"Yemen, Rep.\",\"X1992\":0.01,\"X2002\":0.01}] \n"
     ]
    }
   ],
   "source": [
    "# jsonlite is already loaded\n",
    "\n",
    "# URL pointing to the .csv file\n",
    "url_csv <- \"http://s3.amazonaws.com/assets.datacamp.com/production/course_1478/datasets/water.csv\"\n",
    "\n",
    "# Import the .csv file located at url_csv\n",
    "water <- read.csv(url_csv, stringsAsFactor = FALSE)\n",
    "\n",
    "# Convert the data file according to the requirements\n",
    "water_json <- toJSON(water)\n",
    "\n",
    "# Print out water_json\n",
    "print(water_json)"
   ]
  },
  {
   "cell_type": "markdown",
   "metadata": {},
   "source": [
    "# Manify and prettify"
   ]
  },
  {
   "cell_type": "code",
   "execution_count": 10,
   "metadata": {},
   "outputs": [
    {
     "data": {
      "text/plain": [
       "[\n",
       "  {\n",
       "    \"mpg\": 21,\n",
       "    \"cyl\": 6,\n",
       "    \"disp\": 160,\n",
       "    \"hp\": 110,\n",
       "    \"drat\": 3.9,\n",
       "    \"wt\": 2.62,\n",
       "    \"qsec\": 16.46,\n",
       "    \"vs\": 0,\n",
       "    \"am\": 1,\n",
       "    \"gear\": 4,\n",
       "    \"carb\": 4,\n",
       "    \"_row\": \"Mazda RX4\"\n",
       "  },\n",
       "  {\n",
       "    \"mpg\": 21,\n",
       "    \"cyl\": 6,\n",
       "    \"disp\": 160,\n",
       "    \"hp\": 110,\n",
       "    \"drat\": 3.9,\n",
       "    \"wt\": 2.875,\n",
       "    \"qsec\": 17.02,\n",
       "    \"vs\": 0,\n",
       "    \"am\": 1,\n",
       "    \"gear\": 4,\n",
       "    \"carb\": 4,\n",
       "    \"_row\": \"Mazda RX4 Wag\"\n",
       "  },\n",
       "  {\n",
       "    \"mpg\": 22.8,\n",
       "    \"cyl\": 4,\n",
       "    \"disp\": 108,\n",
       "    \"hp\": 93,\n",
       "    \"drat\": 3.85,\n",
       "    \"wt\": 2.32,\n",
       "    \"qsec\": 18.61,\n",
       "    \"vs\": 1,\n",
       "    \"am\": 1,\n",
       "    \"gear\": 4,\n",
       "    \"carb\": 1,\n",
       "    \"_row\": \"Datsun 710\"\n",
       "  },\n",
       "  {\n",
       "    \"mpg\": 21.4,\n",
       "    \"cyl\": 6,\n",
       "    \"disp\": 258,\n",
       "    \"hp\": 110,\n",
       "    \"drat\": 3.08,\n",
       "    \"wt\": 3.215,\n",
       "    \"qsec\": 19.44,\n",
       "    \"vs\": 1,\n",
       "    \"am\": 0,\n",
       "    \"gear\": 3,\n",
       "    \"carb\": 1,\n",
       "    \"_row\": \"Hornet 4 Drive\"\n",
       "  },\n",
       "  {\n",
       "    \"mpg\": 18.7,\n",
       "    \"cyl\": 8,\n",
       "    \"disp\": 360,\n",
       "    \"hp\": 175,\n",
       "    \"drat\": 3.15,\n",
       "    \"wt\": 3.44,\n",
       "    \"qsec\": 17.02,\n",
       "    \"vs\": 0,\n",
       "    \"am\": 0,\n",
       "    \"gear\": 3,\n",
       "    \"carb\": 2,\n",
       "    \"_row\": \"Hornet Sportabout\"\n",
       "  },\n",
       "  {\n",
       "    \"mpg\": 18.1,\n",
       "    \"cyl\": 6,\n",
       "    \"disp\": 225,\n",
       "    \"hp\": 105,\n",
       "    \"drat\": 2.76,\n",
       "    \"wt\": 3.46,\n",
       "    \"qsec\": 20.22,\n",
       "    \"vs\": 1,\n",
       "    \"am\": 0,\n",
       "    \"gear\": 3,\n",
       "    \"carb\": 1,\n",
       "    \"_row\": \"Valiant\"\n",
       "  },\n",
       "  {\n",
       "    \"mpg\": 14.3,\n",
       "    \"cyl\": 8,\n",
       "    \"disp\": 360,\n",
       "    \"hp\": 245,\n",
       "    \"drat\": 3.21,\n",
       "    \"wt\": 3.57,\n",
       "    \"qsec\": 15.84,\n",
       "    \"vs\": 0,\n",
       "    \"am\": 0,\n",
       "    \"gear\": 3,\n",
       "    \"carb\": 4,\n",
       "    \"_row\": \"Duster 360\"\n",
       "  },\n",
       "  {\n",
       "    \"mpg\": 24.4,\n",
       "    \"cyl\": 4,\n",
       "    \"disp\": 146.7,\n",
       "    \"hp\": 62,\n",
       "    \"drat\": 3.69,\n",
       "    \"wt\": 3.19,\n",
       "    \"qsec\": 20,\n",
       "    \"vs\": 1,\n",
       "    \"am\": 0,\n",
       "    \"gear\": 4,\n",
       "    \"carb\": 2,\n",
       "    \"_row\": \"Merc 240D\"\n",
       "  },\n",
       "  {\n",
       "    \"mpg\": 22.8,\n",
       "    \"cyl\": 4,\n",
       "    \"disp\": 140.8,\n",
       "    \"hp\": 95,\n",
       "    \"drat\": 3.92,\n",
       "    \"wt\": 3.15,\n",
       "    \"qsec\": 22.9,\n",
       "    \"vs\": 1,\n",
       "    \"am\": 0,\n",
       "    \"gear\": 4,\n",
       "    \"carb\": 2,\n",
       "    \"_row\": \"Merc 230\"\n",
       "  },\n",
       "  {\n",
       "    \"mpg\": 19.2,\n",
       "    \"cyl\": 6,\n",
       "    \"disp\": 167.6,\n",
       "    \"hp\": 123,\n",
       "    \"drat\": 3.92,\n",
       "    \"wt\": 3.44,\n",
       "    \"qsec\": 18.3,\n",
       "    \"vs\": 1,\n",
       "    \"am\": 0,\n",
       "    \"gear\": 4,\n",
       "    \"carb\": 4,\n",
       "    \"_row\": \"Merc 280\"\n",
       "  },\n",
       "  {\n",
       "    \"mpg\": 17.8,\n",
       "    \"cyl\": 6,\n",
       "    \"disp\": 167.6,\n",
       "    \"hp\": 123,\n",
       "    \"drat\": 3.92,\n",
       "    \"wt\": 3.44,\n",
       "    \"qsec\": 18.9,\n",
       "    \"vs\": 1,\n",
       "    \"am\": 0,\n",
       "    \"gear\": 4,\n",
       "    \"carb\": 4,\n",
       "    \"_row\": \"Merc 280C\"\n",
       "  },\n",
       "  {\n",
       "    \"mpg\": 16.4,\n",
       "    \"cyl\": 8,\n",
       "    \"disp\": 275.8,\n",
       "    \"hp\": 180,\n",
       "    \"drat\": 3.07,\n",
       "    \"wt\": 4.07,\n",
       "    \"qsec\": 17.4,\n",
       "    \"vs\": 0,\n",
       "    \"am\": 0,\n",
       "    \"gear\": 3,\n",
       "    \"carb\": 3,\n",
       "    \"_row\": \"Merc 450SE\"\n",
       "  },\n",
       "  {\n",
       "    \"mpg\": 17.3,\n",
       "    \"cyl\": 8,\n",
       "    \"disp\": 275.8,\n",
       "    \"hp\": 180,\n",
       "    \"drat\": 3.07,\n",
       "    \"wt\": 3.73,\n",
       "    \"qsec\": 17.6,\n",
       "    \"vs\": 0,\n",
       "    \"am\": 0,\n",
       "    \"gear\": 3,\n",
       "    \"carb\": 3,\n",
       "    \"_row\": \"Merc 450SL\"\n",
       "  },\n",
       "  {\n",
       "    \"mpg\": 15.2,\n",
       "    \"cyl\": 8,\n",
       "    \"disp\": 275.8,\n",
       "    \"hp\": 180,\n",
       "    \"drat\": 3.07,\n",
       "    \"wt\": 3.78,\n",
       "    \"qsec\": 18,\n",
       "    \"vs\": 0,\n",
       "    \"am\": 0,\n",
       "    \"gear\": 3,\n",
       "    \"carb\": 3,\n",
       "    \"_row\": \"Merc 450SLC\"\n",
       "  },\n",
       "  {\n",
       "    \"mpg\": 10.4,\n",
       "    \"cyl\": 8,\n",
       "    \"disp\": 472,\n",
       "    \"hp\": 205,\n",
       "    \"drat\": 2.93,\n",
       "    \"wt\": 5.25,\n",
       "    \"qsec\": 17.98,\n",
       "    \"vs\": 0,\n",
       "    \"am\": 0,\n",
       "    \"gear\": 3,\n",
       "    \"carb\": 4,\n",
       "    \"_row\": \"Cadillac Fleetwood\"\n",
       "  },\n",
       "  {\n",
       "    \"mpg\": 10.4,\n",
       "    \"cyl\": 8,\n",
       "    \"disp\": 460,\n",
       "    \"hp\": 215,\n",
       "    \"drat\": 3,\n",
       "    \"wt\": 5.424,\n",
       "    \"qsec\": 17.82,\n",
       "    \"vs\": 0,\n",
       "    \"am\": 0,\n",
       "    \"gear\": 3,\n",
       "    \"carb\": 4,\n",
       "    \"_row\": \"Lincoln Continental\"\n",
       "  },\n",
       "  {\n",
       "    \"mpg\": 14.7,\n",
       "    \"cyl\": 8,\n",
       "    \"disp\": 440,\n",
       "    \"hp\": 230,\n",
       "    \"drat\": 3.23,\n",
       "    \"wt\": 5.345,\n",
       "    \"qsec\": 17.42,\n",
       "    \"vs\": 0,\n",
       "    \"am\": 0,\n",
       "    \"gear\": 3,\n",
       "    \"carb\": 4,\n",
       "    \"_row\": \"Chrysler Imperial\"\n",
       "  },\n",
       "  {\n",
       "    \"mpg\": 32.4,\n",
       "    \"cyl\": 4,\n",
       "    \"disp\": 78.7,\n",
       "    \"hp\": 66,\n",
       "    \"drat\": 4.08,\n",
       "    \"wt\": 2.2,\n",
       "    \"qsec\": 19.47,\n",
       "    \"vs\": 1,\n",
       "    \"am\": 1,\n",
       "    \"gear\": 4,\n",
       "    \"carb\": 1,\n",
       "    \"_row\": \"Fiat 128\"\n",
       "  },\n",
       "  {\n",
       "    \"mpg\": 30.4,\n",
       "    \"cyl\": 4,\n",
       "    \"disp\": 75.7,\n",
       "    \"hp\": 52,\n",
       "    \"drat\": 4.93,\n",
       "    \"wt\": 1.615,\n",
       "    \"qsec\": 18.52,\n",
       "    \"vs\": 1,\n",
       "    \"am\": 1,\n",
       "    \"gear\": 4,\n",
       "    \"carb\": 2,\n",
       "    \"_row\": \"Honda Civic\"\n",
       "  },\n",
       "  {\n",
       "    \"mpg\": 33.9,\n",
       "    \"cyl\": 4,\n",
       "    \"disp\": 71.1,\n",
       "    \"hp\": 65,\n",
       "    \"drat\": 4.22,\n",
       "    \"wt\": 1.835,\n",
       "    \"qsec\": 19.9,\n",
       "    \"vs\": 1,\n",
       "    \"am\": 1,\n",
       "    \"gear\": 4,\n",
       "    \"carb\": 1,\n",
       "    \"_row\": \"Toyota Corolla\"\n",
       "  },\n",
       "  {\n",
       "    \"mpg\": 21.5,\n",
       "    \"cyl\": 4,\n",
       "    \"disp\": 120.1,\n",
       "    \"hp\": 97,\n",
       "    \"drat\": 3.7,\n",
       "    \"wt\": 2.465,\n",
       "    \"qsec\": 20.01,\n",
       "    \"vs\": 1,\n",
       "    \"am\": 0,\n",
       "    \"gear\": 3,\n",
       "    \"carb\": 1,\n",
       "    \"_row\": \"Toyota Corona\"\n",
       "  },\n",
       "  {\n",
       "    \"mpg\": 15.5,\n",
       "    \"cyl\": 8,\n",
       "    \"disp\": 318,\n",
       "    \"hp\": 150,\n",
       "    \"drat\": 2.76,\n",
       "    \"wt\": 3.52,\n",
       "    \"qsec\": 16.87,\n",
       "    \"vs\": 0,\n",
       "    \"am\": 0,\n",
       "    \"gear\": 3,\n",
       "    \"carb\": 2,\n",
       "    \"_row\": \"Dodge Challenger\"\n",
       "  },\n",
       "  {\n",
       "    \"mpg\": 15.2,\n",
       "    \"cyl\": 8,\n",
       "    \"disp\": 304,\n",
       "    \"hp\": 150,\n",
       "    \"drat\": 3.15,\n",
       "    \"wt\": 3.435,\n",
       "    \"qsec\": 17.3,\n",
       "    \"vs\": 0,\n",
       "    \"am\": 0,\n",
       "    \"gear\": 3,\n",
       "    \"carb\": 2,\n",
       "    \"_row\": \"AMC Javelin\"\n",
       "  },\n",
       "  {\n",
       "    \"mpg\": 13.3,\n",
       "    \"cyl\": 8,\n",
       "    \"disp\": 350,\n",
       "    \"hp\": 245,\n",
       "    \"drat\": 3.73,\n",
       "    \"wt\": 3.84,\n",
       "    \"qsec\": 15.41,\n",
       "    \"vs\": 0,\n",
       "    \"am\": 0,\n",
       "    \"gear\": 3,\n",
       "    \"carb\": 4,\n",
       "    \"_row\": \"Camaro Z28\"\n",
       "  },\n",
       "  {\n",
       "    \"mpg\": 19.2,\n",
       "    \"cyl\": 8,\n",
       "    \"disp\": 400,\n",
       "    \"hp\": 175,\n",
       "    \"drat\": 3.08,\n",
       "    \"wt\": 3.845,\n",
       "    \"qsec\": 17.05,\n",
       "    \"vs\": 0,\n",
       "    \"am\": 0,\n",
       "    \"gear\": 3,\n",
       "    \"carb\": 2,\n",
       "    \"_row\": \"Pontiac Firebird\"\n",
       "  },\n",
       "  {\n",
       "    \"mpg\": 27.3,\n",
       "    \"cyl\": 4,\n",
       "    \"disp\": 79,\n",
       "    \"hp\": 66,\n",
       "    \"drat\": 4.08,\n",
       "    \"wt\": 1.935,\n",
       "    \"qsec\": 18.9,\n",
       "    \"vs\": 1,\n",
       "    \"am\": 1,\n",
       "    \"gear\": 4,\n",
       "    \"carb\": 1,\n",
       "    \"_row\": \"Fiat X1-9\"\n",
       "  },\n",
       "  {\n",
       "    \"mpg\": 26,\n",
       "    \"cyl\": 4,\n",
       "    \"disp\": 120.3,\n",
       "    \"hp\": 91,\n",
       "    \"drat\": 4.43,\n",
       "    \"wt\": 2.14,\n",
       "    \"qsec\": 16.7,\n",
       "    \"vs\": 0,\n",
       "    \"am\": 1,\n",
       "    \"gear\": 5,\n",
       "    \"carb\": 2,\n",
       "    \"_row\": \"Porsche 914-2\"\n",
       "  },\n",
       "  {\n",
       "    \"mpg\": 30.4,\n",
       "    \"cyl\": 4,\n",
       "    \"disp\": 95.1,\n",
       "    \"hp\": 113,\n",
       "    \"drat\": 3.77,\n",
       "    \"wt\": 1.513,\n",
       "    \"qsec\": 16.9,\n",
       "    \"vs\": 1,\n",
       "    \"am\": 1,\n",
       "    \"gear\": 5,\n",
       "    \"carb\": 2,\n",
       "    \"_row\": \"Lotus Europa\"\n",
       "  },\n",
       "  {\n",
       "    \"mpg\": 15.8,\n",
       "    \"cyl\": 8,\n",
       "    \"disp\": 351,\n",
       "    \"hp\": 264,\n",
       "    \"drat\": 4.22,\n",
       "    \"wt\": 3.17,\n",
       "    \"qsec\": 14.5,\n",
       "    \"vs\": 0,\n",
       "    \"am\": 1,\n",
       "    \"gear\": 5,\n",
       "    \"carb\": 4,\n",
       "    \"_row\": \"Ford Pantera L\"\n",
       "  },\n",
       "  {\n",
       "    \"mpg\": 19.7,\n",
       "    \"cyl\": 6,\n",
       "    \"disp\": 145,\n",
       "    \"hp\": 175,\n",
       "    \"drat\": 3.62,\n",
       "    \"wt\": 2.77,\n",
       "    \"qsec\": 15.5,\n",
       "    \"vs\": 0,\n",
       "    \"am\": 1,\n",
       "    \"gear\": 5,\n",
       "    \"carb\": 6,\n",
       "    \"_row\": \"Ferrari Dino\"\n",
       "  },\n",
       "  {\n",
       "    \"mpg\": 15,\n",
       "    \"cyl\": 8,\n",
       "    \"disp\": 301,\n",
       "    \"hp\": 335,\n",
       "    \"drat\": 3.54,\n",
       "    \"wt\": 3.57,\n",
       "    \"qsec\": 14.6,\n",
       "    \"vs\": 0,\n",
       "    \"am\": 1,\n",
       "    \"gear\": 5,\n",
       "    \"carb\": 8,\n",
       "    \"_row\": \"Maserati Bora\"\n",
       "  },\n",
       "  {\n",
       "    \"mpg\": 21.4,\n",
       "    \"cyl\": 4,\n",
       "    \"disp\": 121,\n",
       "    \"hp\": 109,\n",
       "    \"drat\": 4.11,\n",
       "    \"wt\": 2.78,\n",
       "    \"qsec\": 18.6,\n",
       "    \"vs\": 1,\n",
       "    \"am\": 1,\n",
       "    \"gear\": 4,\n",
       "    \"carb\": 2,\n",
       "    \"_row\": \"Volvo 142E\"\n",
       "  }\n",
       "] "
      ]
     },
     "metadata": {},
     "output_type": "display_data"
    },
    {
     "data": {
      "text/plain": [
       "[{\"mpg\":21,\"cyl\":6,\"disp\":160,\"hp\":110,\"drat\":3.9,\"wt\":2.62,\"qsec\":16.46,\"vs\":0,\"am\":1,\"gear\":4,\"carb\":4,\"_row\":\"Mazda RX4\"},{\"mpg\":21,\"cyl\":6,\"disp\":160,\"hp\":110,\"drat\":3.9,\"wt\":2.875,\"qsec\":17.02,\"vs\":0,\"am\":1,\"gear\":4,\"carb\":4,\"_row\":\"Mazda RX4 Wag\"},{\"mpg\":22.8,\"cyl\":4,\"disp\":108,\"hp\":93,\"drat\":3.85,\"wt\":2.32,\"qsec\":18.61,\"vs\":1,\"am\":1,\"gear\":4,\"carb\":1,\"_row\":\"Datsun 710\"},{\"mpg\":21.4,\"cyl\":6,\"disp\":258,\"hp\":110,\"drat\":3.08,\"wt\":3.215,\"qsec\":19.44,\"vs\":1,\"am\":0,\"gear\":3,\"carb\":1,\"_row\":\"Hornet 4 Drive\"},{\"mpg\":18.7,\"cyl\":8,\"disp\":360,\"hp\":175,\"drat\":3.15,\"wt\":3.44,\"qsec\":17.02,\"vs\":0,\"am\":0,\"gear\":3,\"carb\":2,\"_row\":\"Hornet Sportabout\"},{\"mpg\":18.1,\"cyl\":6,\"disp\":225,\"hp\":105,\"drat\":2.76,\"wt\":3.46,\"qsec\":20.22,\"vs\":1,\"am\":0,\"gear\":3,\"carb\":1,\"_row\":\"Valiant\"},{\"mpg\":14.3,\"cyl\":8,\"disp\":360,\"hp\":245,\"drat\":3.21,\"wt\":3.57,\"qsec\":15.84,\"vs\":0,\"am\":0,\"gear\":3,\"carb\":4,\"_row\":\"Duster 360\"},{\"mpg\":24.4,\"cyl\":4,\"disp\":146.7,\"hp\":62,\"drat\":3.69,\"wt\":3.19,\"qsec\":20,\"vs\":1,\"am\":0,\"gear\":4,\"carb\":2,\"_row\":\"Merc 240D\"},{\"mpg\":22.8,\"cyl\":4,\"disp\":140.8,\"hp\":95,\"drat\":3.92,\"wt\":3.15,\"qsec\":22.9,\"vs\":1,\"am\":0,\"gear\":4,\"carb\":2,\"_row\":\"Merc 230\"},{\"mpg\":19.2,\"cyl\":6,\"disp\":167.6,\"hp\":123,\"drat\":3.92,\"wt\":3.44,\"qsec\":18.3,\"vs\":1,\"am\":0,\"gear\":4,\"carb\":4,\"_row\":\"Merc 280\"},{\"mpg\":17.8,\"cyl\":6,\"disp\":167.6,\"hp\":123,\"drat\":3.92,\"wt\":3.44,\"qsec\":18.9,\"vs\":1,\"am\":0,\"gear\":4,\"carb\":4,\"_row\":\"Merc 280C\"},{\"mpg\":16.4,\"cyl\":8,\"disp\":275.8,\"hp\":180,\"drat\":3.07,\"wt\":4.07,\"qsec\":17.4,\"vs\":0,\"am\":0,\"gear\":3,\"carb\":3,\"_row\":\"Merc 450SE\"},{\"mpg\":17.3,\"cyl\":8,\"disp\":275.8,\"hp\":180,\"drat\":3.07,\"wt\":3.73,\"qsec\":17.6,\"vs\":0,\"am\":0,\"gear\":3,\"carb\":3,\"_row\":\"Merc 450SL\"},{\"mpg\":15.2,\"cyl\":8,\"disp\":275.8,\"hp\":180,\"drat\":3.07,\"wt\":3.78,\"qsec\":18,\"vs\":0,\"am\":0,\"gear\":3,\"carb\":3,\"_row\":\"Merc 450SLC\"},{\"mpg\":10.4,\"cyl\":8,\"disp\":472,\"hp\":205,\"drat\":2.93,\"wt\":5.25,\"qsec\":17.98,\"vs\":0,\"am\":0,\"gear\":3,\"carb\":4,\"_row\":\"Cadillac Fleetwood\"},{\"mpg\":10.4,\"cyl\":8,\"disp\":460,\"hp\":215,\"drat\":3,\"wt\":5.424,\"qsec\":17.82,\"vs\":0,\"am\":0,\"gear\":3,\"carb\":4,\"_row\":\"Lincoln Continental\"},{\"mpg\":14.7,\"cyl\":8,\"disp\":440,\"hp\":230,\"drat\":3.23,\"wt\":5.345,\"qsec\":17.42,\"vs\":0,\"am\":0,\"gear\":3,\"carb\":4,\"_row\":\"Chrysler Imperial\"},{\"mpg\":32.4,\"cyl\":4,\"disp\":78.7,\"hp\":66,\"drat\":4.08,\"wt\":2.2,\"qsec\":19.47,\"vs\":1,\"am\":1,\"gear\":4,\"carb\":1,\"_row\":\"Fiat 128\"},{\"mpg\":30.4,\"cyl\":4,\"disp\":75.7,\"hp\":52,\"drat\":4.93,\"wt\":1.615,\"qsec\":18.52,\"vs\":1,\"am\":1,\"gear\":4,\"carb\":2,\"_row\":\"Honda Civic\"},{\"mpg\":33.9,\"cyl\":4,\"disp\":71.1,\"hp\":65,\"drat\":4.22,\"wt\":1.835,\"qsec\":19.9,\"vs\":1,\"am\":1,\"gear\":4,\"carb\":1,\"_row\":\"Toyota Corolla\"},{\"mpg\":21.5,\"cyl\":4,\"disp\":120.1,\"hp\":97,\"drat\":3.7,\"wt\":2.465,\"qsec\":20.01,\"vs\":1,\"am\":0,\"gear\":3,\"carb\":1,\"_row\":\"Toyota Corona\"},{\"mpg\":15.5,\"cyl\":8,\"disp\":318,\"hp\":150,\"drat\":2.76,\"wt\":3.52,\"qsec\":16.87,\"vs\":0,\"am\":0,\"gear\":3,\"carb\":2,\"_row\":\"Dodge Challenger\"},{\"mpg\":15.2,\"cyl\":8,\"disp\":304,\"hp\":150,\"drat\":3.15,\"wt\":3.435,\"qsec\":17.3,\"vs\":0,\"am\":0,\"gear\":3,\"carb\":2,\"_row\":\"AMC Javelin\"},{\"mpg\":13.3,\"cyl\":8,\"disp\":350,\"hp\":245,\"drat\":3.73,\"wt\":3.84,\"qsec\":15.41,\"vs\":0,\"am\":0,\"gear\":3,\"carb\":4,\"_row\":\"Camaro Z28\"},{\"mpg\":19.2,\"cyl\":8,\"disp\":400,\"hp\":175,\"drat\":3.08,\"wt\":3.845,\"qsec\":17.05,\"vs\":0,\"am\":0,\"gear\":3,\"carb\":2,\"_row\":\"Pontiac Firebird\"},{\"mpg\":27.3,\"cyl\":4,\"disp\":79,\"hp\":66,\"drat\":4.08,\"wt\":1.935,\"qsec\":18.9,\"vs\":1,\"am\":1,\"gear\":4,\"carb\":1,\"_row\":\"Fiat X1-9\"},{\"mpg\":26,\"cyl\":4,\"disp\":120.3,\"hp\":91,\"drat\":4.43,\"wt\":2.14,\"qsec\":16.7,\"vs\":0,\"am\":1,\"gear\":5,\"carb\":2,\"_row\":\"Porsche 914-2\"},{\"mpg\":30.4,\"cyl\":4,\"disp\":95.1,\"hp\":113,\"drat\":3.77,\"wt\":1.513,\"qsec\":16.9,\"vs\":1,\"am\":1,\"gear\":5,\"carb\":2,\"_row\":\"Lotus Europa\"},{\"mpg\":15.8,\"cyl\":8,\"disp\":351,\"hp\":264,\"drat\":4.22,\"wt\":3.17,\"qsec\":14.5,\"vs\":0,\"am\":1,\"gear\":5,\"carb\":4,\"_row\":\"Ford Pantera L\"},{\"mpg\":19.7,\"cyl\":6,\"disp\":145,\"hp\":175,\"drat\":3.62,\"wt\":2.77,\"qsec\":15.5,\"vs\":0,\"am\":1,\"gear\":5,\"carb\":6,\"_row\":\"Ferrari Dino\"},{\"mpg\":15,\"cyl\":8,\"disp\":301,\"hp\":335,\"drat\":3.54,\"wt\":3.57,\"qsec\":14.6,\"vs\":0,\"am\":1,\"gear\":5,\"carb\":8,\"_row\":\"Maserati Bora\"},{\"mpg\":21.4,\"cyl\":4,\"disp\":121,\"hp\":109,\"drat\":4.11,\"wt\":2.78,\"qsec\":18.6,\"vs\":1,\"am\":1,\"gear\":4,\"carb\":2,\"_row\":\"Volvo 142E\"}] "
      ]
     },
     "metadata": {},
     "output_type": "display_data"
    }
   ],
   "source": [
    "# jsonlite is already loaded\n",
    "\n",
    "# Convert mtcars to a pretty JSON: pretty_json\n",
    "pretty_json <- toJSON(mtcars, pretty = TRUE)\n",
    "\n",
    "# Print pretty_json\n",
    "pretty_json\n",
    "\n",
    "# Minify pretty_json: mini_json\n",
    "mini_json <- minify(pretty_json)\n",
    "\n",
    "# Print mini_json\n",
    "mini_json"
   ]
  }
 ],
 "metadata": {
  "kernelspec": {
   "display_name": "R",
   "language": "R",
   "name": "ir"
  },
  "language_info": {
   "codemirror_mode": "r",
   "file_extension": ".r",
   "mimetype": "text/x-r-source",
   "name": "R",
   "pygments_lexer": "r",
   "version": "3.4.2"
  }
 },
 "nbformat": 4,
 "nbformat_minor": 2
}
