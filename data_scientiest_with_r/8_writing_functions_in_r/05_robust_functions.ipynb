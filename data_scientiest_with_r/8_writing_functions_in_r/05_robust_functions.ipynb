{
 "cells": [
  {
   "cell_type": "markdown",
   "metadata": {},
   "source": [
    "# Robust functions\n",
    "\n",
    "## What do these calls do?\n",
    "\n",
    "```\n",
    "df[, vars]\n",
    "\n",
    "subset(df, x == y)\n",
    "\n",
    "data.frame(x = \"a\")\n",
    "```\n",
    "\n",
    "* Interactive analysis: Helpful\n",
    "    - Iterate as quickly as possible and check the result as you go\n",
    "    - The functions can guess what you want and it's no big deal if they gues wrong.\n",
    "* Programming: Strict\n",
    "    - The functions for programming should be robust since you're not working with them interactively\n",
    "    \n",
    "## Three main problems\n",
    "    \n",
    "* Type-unstable functions\n",
    "* Non-standard evaluation\n",
    "* Hidden arguments - Most notorious\n",
    "\n",
    "## Throwing errors\n",
    "\n",
    "```\n",
    "x <- 1:10\n",
    "\n",
    "stopifnot(is.character(x)) # Throws an error message if the condition isn't met.\n",
    "\n",
    "# Some template\n",
    "if (condition) {\n",
    "    stop(\"Error\", call. = FALSE)\n",
    "}\n",
    "\n",
    "# Some example\n",
    "if (!is.character(x)) {\n",
    "    stop(\"`x` should be a character vector\", call. = FALSE)\n",
    "}\n",
    "```"
   ]
  },
  {
   "cell_type": "markdown",
   "metadata": {},
   "source": [
    "### An error is better than a surprise"
   ]
  },
  {
   "cell_type": "code",
   "execution_count": 1,
   "metadata": {},
   "outputs": [
    {
     "ename": "ERROR",
     "evalue": "Error: length(x) == length(y) is not TRUE\n",
     "output_type": "error",
     "traceback": [
      "Error: length(x) == length(y) is not TRUE\nTraceback:\n",
      "1. both_na(x, y)",
      "2. stopifnot(length(x) == length(y))   # at line 7 of file <text>",
      "3. stop(msg, call. = FALSE, domain = NA)"
     ]
    }
   ],
   "source": [
    "# Define troublesome x and y\n",
    "x <- c(NA, NA, NA)\n",
    "y <- c( 1, NA, NA, NA)\n",
    "\n",
    "both_na <- function(x, y) {\n",
    "  # Add stopifnot() to check length of x and y\n",
    "  stopifnot(length(x) == length(y))\n",
    "  \n",
    "  sum(is.na(x) & is.na(y))\n",
    "}\n",
    "\n",
    "# Call both_na() on x and y\n",
    "both_na(x, y)"
   ]
  },
  {
   "cell_type": "markdown",
   "metadata": {},
   "source": [
    "### An informative error is even better"
   ]
  },
  {
   "cell_type": "code",
   "execution_count": 2,
   "metadata": {},
   "outputs": [
    {
     "ename": "ERROR",
     "evalue": "Error: x and y must have the same length\n",
     "output_type": "error",
     "traceback": [
      "Error: x and y must have the same length\nTraceback:\n",
      "1. both_na(x, y)",
      "2. stop(\"x and y must have the same length\", call. = FALSE)   # at line 9 of file <text>"
     ]
    }
   ],
   "source": [
    "# Define troublesome x and y\n",
    "x <- c(NA, NA, NA)\n",
    "y <- c( 1, NA, NA, NA)\n",
    "\n",
    "both_na <- function(x, y) {\n",
    "  # Replace condition with logical\n",
    "  if (!(length(x) == length(y))) {\n",
    "    # Replace \"Error\" with better message\n",
    "    stop(\"x and y must have the same length\", call. = FALSE)\n",
    "  }  \n",
    "  \n",
    "  sum(is.na(x) & is.na(y))\n",
    "}\n",
    "\n",
    "# Call both_na() \n",
    "both_na(x, y)"
   ]
  },
  {
   "cell_type": "markdown",
   "metadata": {},
   "source": [
    "## Unstable types\n",
    "\n",
    "### Surprises due to unstable types\n",
    "\n",
    "* Type-inconsistent: the type of the return object depends on the input\n",
    "* Surprises occur when you've used a type-inconsistent function inside your own function\n",
    "\n",
    "### What will df[1, ] return?\n",
    "\n",
    "```\n",
    "# Sometimes you get a data frame\n",
    "df <- data.frame(z = 1:3, y = 2:4)\n",
    "str(df[1, ]) # Will return a data frame\n",
    "\n",
    "# And sometimes you get a vector\n",
    "df <- data.frame(z = 1:3)\n",
    "str(df[1, ]) # Will return a vector\n",
    "```\n",
    "\n",
    "### [ is a common source of surprises\n",
    "\n",
    "```\n",
    "last_row <- function(df) {\n",
    "                df[nrow(df), ]\n",
    "            }\n",
    "df <- data.frame(x = 1:3)\n",
    "\n",
    "# Not a row, just a vector\n",
    "str(last_row(df))\n",
    "```\n",
    "\n",
    "### Two common solutions for [\n",
    "\n",
    "1. Use drop = FALSE: df[x, , drop = FALSE]\n",
    "```\n",
    "last_row <- function(df) {\n",
    "                df[nrow(df), , drop = FALSE]\n",
    "            }\n",
    "```\n",
    "2. Subset the data frame like a list: df[x]\n",
    "\n",
    "### What to do?\n",
    "\n",
    "* Write your own functions to be type-stable\n",
    "* Learn the common type-inconsistent functions in R:\n",
    "    - [\n",
    "    - sapply\n",
    "* Avoid using type-inconsistent functions inside your own functions\n",
    "* Build a vocabulary of type-consistent functions"
   ]
  },
  {
   "cell_type": "markdown",
   "metadata": {},
   "source": [
    "### sapply is another common culprit"
   ]
  },
  {
   "cell_type": "code",
   "execution_count": 5,
   "metadata": {},
   "outputs": [
    {
     "data": {
      "text/html": [
       "<dl>\n",
       "\t<dt>$a</dt>\n",
       "\t\t<dd>'integer'</dd>\n",
       "\t<dt>$b</dt>\n",
       "\t\t<dd>'numeric'</dd>\n",
       "\t<dt>$y</dt>\n",
       "\t\t<dd><ol class=list-inline>\n",
       "\t<li>'POSIXct'</li>\n",
       "\t<li>'POSIXt'</li>\n",
       "</ol>\n",
       "</dd>\n",
       "\t<dt>$z</dt>\n",
       "\t\t<dd><ol class=list-inline>\n",
       "\t<li>'ordered'</li>\n",
       "\t<li>'factor'</li>\n",
       "</ol>\n",
       "</dd>\n",
       "</dl>\n"
      ],
      "text/latex": [
       "\\begin{description}\n",
       "\\item[\\$a] 'integer'\n",
       "\\item[\\$b] 'numeric'\n",
       "\\item[\\$y] \\begin{enumerate*}\n",
       "\\item 'POSIXct'\n",
       "\\item 'POSIXt'\n",
       "\\end{enumerate*}\n",
       "\n",
       "\\item[\\$z] \\begin{enumerate*}\n",
       "\\item 'ordered'\n",
       "\\item 'factor'\n",
       "\\end{enumerate*}\n",
       "\n",
       "\\end{description}\n"
      ],
      "text/markdown": [
       "$a\n",
       ":   'integer'\n",
       "$b\n",
       ":   'numeric'\n",
       "$y\n",
       ":   1. 'POSIXct'\n",
       "2. 'POSIXt'\n",
       "\n",
       "\n",
       "\n",
       "$z\n",
       ":   1. 'ordered'\n",
       "2. 'factor'\n",
       "\n",
       "\n",
       "\n",
       "\n",
       "\n"
      ],
      "text/plain": [
       "$a\n",
       "[1] \"integer\"\n",
       "\n",
       "$b\n",
       "[1] \"numeric\"\n",
       "\n",
       "$y\n",
       "[1] \"POSIXct\" \"POSIXt\" \n",
       "\n",
       "$z\n",
       "[1] \"ordered\" \"factor\" \n"
      ]
     },
     "metadata": {},
     "output_type": "display_data"
    },
    {
     "data": {
      "text/html": [
       "<table>\n",
       "<thead><tr><th scope=col>y</th><th scope=col>z</th></tr></thead>\n",
       "<tbody>\n",
       "\t<tr><td>POSIXct</td><td>ordered</td></tr>\n",
       "\t<tr><td>POSIXt </td><td>factor </td></tr>\n",
       "</tbody>\n",
       "</table>\n"
      ],
      "text/latex": [
       "\\begin{tabular}{ll}\n",
       " y & z\\\\\n",
       "\\hline\n",
       "\t POSIXct & ordered\\\\\n",
       "\t POSIXt  & factor \\\\\n",
       "\\end{tabular}\n"
      ],
      "text/markdown": [
       "\n",
       "y | z | \n",
       "|---|---|\n",
       "| POSIXct | ordered | \n",
       "| POSIXt  | factor  | \n",
       "\n",
       "\n"
      ],
      "text/plain": [
       "     y       z      \n",
       "[1,] POSIXct ordered\n",
       "[2,] POSIXt  factor "
      ]
     },
     "metadata": {},
     "output_type": "display_data"
    }
   ],
   "source": [
    "df <- data.frame(\n",
    "  a = 1L,\n",
    "  b = 1.5,\n",
    "  y = Sys.time(),\n",
    "  z = ordered(1)\n",
    ")\n",
    "\n",
    "A <- sapply(df[1:4], class) \n",
    "B <- sapply(df[3:4], class)\n",
    "\n",
    "A\n",
    "B"
   ]
  },
  {
   "cell_type": "markdown",
   "metadata": {},
   "source": [
    "### Using purrr solves the problem"
   ]
  },
  {
   "cell_type": "code",
   "execution_count": 6,
   "metadata": {},
   "outputs": [
    {
     "name": "stderr",
     "output_type": "stream",
     "text": [
      "Warning message:\n",
      "\"package 'purrr' was built under R version 3.4.3\""
     ]
    },
    {
     "name": "stdout",
     "output_type": "stream",
     "text": [
      "List of 4\n",
      " $ a: chr \"integer\"\n",
      " $ b: chr \"numeric\"\n",
      " $ y: chr [1:2] \"POSIXct\" \"POSIXt\"\n",
      " $ z: chr [1:2] \"ordered\" \"factor\"\n",
      " chr [1:2, 1:2] \"POSIXct\" \"POSIXt\" \"ordered\" \"factor\"\n",
      " - attr(*, \"dimnames\")=List of 2\n",
      "  ..$ : NULL\n",
      "  ..$ : chr [1:2] \"y\" \"z\"\n",
      " Named chr [1:2] \"integer\" \"numeric\"\n",
      " - attr(*, \"names\")= chr [1:2] \"a\" \"b\"\n",
      "List of 4\n",
      " $ a: chr \"integer\"\n",
      " $ b: chr \"numeric\"\n",
      " $ y: chr [1:2] \"POSIXct\" \"POSIXt\"\n",
      " $ z: chr [1:2] \"ordered\" \"factor\"\n",
      "List of 2\n",
      " $ y: chr [1:2] \"POSIXct\" \"POSIXt\"\n",
      " $ z: chr [1:2] \"ordered\" \"factor\"\n",
      "List of 2\n",
      " $ a: chr \"integer\"\n",
      " $ b: chr \"numeric\"\n"
     ]
    }
   ],
   "source": [
    "library(purrr)\n",
    "\n",
    "# sapply calls\n",
    "A <- sapply(df[1:4], class) \n",
    "B <- sapply(df[3:4], class)\n",
    "C <- sapply(df[1:2], class) \n",
    "\n",
    "# Demonstrate type inconsistency\n",
    "str(A)\n",
    "str(B)\n",
    "str(C)\n",
    "\n",
    "# Use map() to define X, Y and Z\n",
    "X <- map(df[1:4], class)\n",
    "Y <- map(df[3:4], class)\n",
    "Z <- map(df[1:2], class)\n",
    "\n",
    "# Use str() to check type consistency\n",
    "str(X)\n",
    "str(Y)\n",
    "str(Z)"
   ]
  },
  {
   "cell_type": "markdown",
   "metadata": {},
   "source": [
    "### A type consistent solution"
   ]
  },
  {
   "cell_type": "code",
   "execution_count": 7,
   "metadata": {},
   "outputs": [
    {
     "name": "stdout",
     "output_type": "stream",
     "text": [
      " Named chr [1:4] \"integer\" \"numeric\" \"POSIXct\" \"ordered\"\n",
      " - attr(*, \"names\")= chr [1:4] \"a\" \"b\" \"y\" \"z\"\n",
      " Named chr [1:2] \"POSIXct\" \"ordered\"\n",
      " - attr(*, \"names\")= chr [1:2] \"y\" \"z\"\n",
      " Named chr [1:2] \"integer\" \"numeric\"\n",
      " - attr(*, \"names\")= chr [1:2] \"a\" \"b\"\n"
     ]
    }
   ],
   "source": [
    "col_classes <- function(df) {\n",
    "  # Assign list output to class_list\n",
    "  # map(df, class)\n",
    "  class_list <- map(df, class)\n",
    "  \n",
    "  # Use map_chr() to extract first element in class_list\n",
    "  map_chr(class_list, 1)\n",
    "}\n",
    "\n",
    "# Check that our new function is type consistent\n",
    "df %>% col_classes() %>% str()\n",
    "df[3:4] %>% col_classes() %>% str()\n",
    "df[1:2] %>% col_classes() %>% str()"
   ]
  },
  {
   "cell_type": "markdown",
   "metadata": {},
   "source": [
    "### Or fail early if something goes wrong"
   ]
  },
  {
   "cell_type": "code",
   "execution_count": 9,
   "metadata": {
    "collapsed": true
   },
   "outputs": [],
   "source": [
    "col_classes <- function(df) {\n",
    "  class_list <- map(df, class)\n",
    "  \n",
    "  # Add a check that no element of class_list has length > 1\n",
    "  if (any(map_dbl(class_list, length) > 1)) {\n",
    "    stop(\"Some columns have more than one class\", call. = FALSE)\n",
    "  }\n",
    "  \n",
    "  # Use flatten_chr() to return a character vector\n",
    "  flatten_chr(class_list)\n",
    "}"
   ]
  },
  {
   "cell_type": "code",
   "execution_count": 10,
   "metadata": {},
   "outputs": [
    {
     "ename": "ERROR",
     "evalue": "Error: Some columns have more than one class\n",
     "output_type": "error",
     "traceback": [
      "Error: Some columns have more than one class\nTraceback:\n",
      "1. df %>% col_classes() %>% str()",
      "2. withVisible(eval(quote(`_fseq`(`_lhs`)), env, env))",
      "3. eval(quote(`_fseq`(`_lhs`)), env, env)",
      "4. eval(quote(`_fseq`(`_lhs`)), env, env)",
      "5. `_fseq`(`_lhs`)",
      "6. freduce(value, `_function_list`)",
      "7. function_list[[i]](value)",
      "8. col_classes(.)",
      "9. stop(\"Some columns have more than one class\", call. = FALSE)   # at line 6 of file <text>"
     ]
    }
   ],
   "source": [
    "# Check that our new function is type consistent\n",
    "df %>% col_classes() %>% str()"
   ]
  },
  {
   "cell_type": "code",
   "execution_count": 11,
   "metadata": {},
   "outputs": [
    {
     "ename": "ERROR",
     "evalue": "Error: Some columns have more than one class\n",
     "output_type": "error",
     "traceback": [
      "Error: Some columns have more than one class\nTraceback:\n",
      "1. df[3:4] %>% col_classes() %>% str()",
      "2. withVisible(eval(quote(`_fseq`(`_lhs`)), env, env))",
      "3. eval(quote(`_fseq`(`_lhs`)), env, env)",
      "4. eval(quote(`_fseq`(`_lhs`)), env, env)",
      "5. `_fseq`(`_lhs`)",
      "6. freduce(value, `_function_list`)",
      "7. function_list[[i]](value)",
      "8. col_classes(.)",
      "9. stop(\"Some columns have more than one class\", call. = FALSE)   # at line 6 of file <text>"
     ]
    }
   ],
   "source": [
    "df[3:4] %>% col_classes() %>% str()"
   ]
  },
  {
   "cell_type": "code",
   "execution_count": 12,
   "metadata": {},
   "outputs": [
    {
     "name": "stdout",
     "output_type": "stream",
     "text": [
      " chr [1:2] \"integer\" \"numeric\"\n"
     ]
    }
   ],
   "source": [
    "df[1:2] %>% col_classes() %>% str()"
   ]
  },
  {
   "cell_type": "markdown",
   "metadata": {},
   "source": [
    "## Non-standard evaluation\n",
    "\n",
    "### What is non-standard evaluation\n",
    "\n",
    "```\n",
    "subset(mtcars, disp > 400) # (data frame, logical expression) evaluated inside mtcars\n",
    "\n",
    "disp > 400 # Will throw an error\n",
    "\n",
    "dist       # Will throw an error\n",
    "```\n",
    "\n",
    "* Non-standard evaluation functions don't use the usual lookup rules\n",
    "* Great for data analysis, because they save typing\n",
    "* When it's used inside your own function, it can cause problems\n",
    "\n",
    "### Other NSE(Non-standard evaluation) functions\n",
    "\n",
    "```\n",
    "library(ggplot2)\n",
    "ggplot(mpg, aes(displ, cty)) + geom_point()\n",
    "\n",
    "library(dplyr)\n",
    "filter(mtcars, disp > 400)\n",
    "\n",
    "disp_threshold <- 400\n",
    "filter(mtcars, disp > disp_threshold) # disp_threshold value in the global environment\n",
    "```\n",
    "\n",
    "### What to do?\n",
    "\n",
    "* Using non-standard evaluation functions inside your own functions can cause surprises\n",
    "* Avoid using non-standard evaluation functions inside your functions\n",
    "* Or, learn the surprising cases and protect against them"
   ]
  },
  {
   "cell_type": "markdown",
   "metadata": {},
   "source": [
    "### Programming with NSE functions"
   ]
  },
  {
   "cell_type": "code",
   "execution_count": 39,
   "metadata": {},
   "outputs": [
    {
     "data": {
      "text/html": [
       "<table>\n",
       "<thead><tr><th scope=col>carat</th><th scope=col>cut</th><th scope=col>color</th><th scope=col>clarity</th><th scope=col>depth</th><th scope=col>table</th><th scope=col>price</th><th scope=col>x</th><th scope=col>y</th><th scope=col>z</th></tr></thead>\n",
       "<tbody>\n",
       "\t<tr><td>1.78     </td><td>Premium  </td><td>H        </td><td>SI2      </td><td>59.1     </td><td>60       </td><td>11262    </td><td>7.93     </td><td>7.87     </td><td>4.67     </td></tr>\n",
       "\t<tr><td>2.01     </td><td>Very Good</td><td>D        </td><td>SI2      </td><td>61.8     </td><td>59       </td><td>17079    </td><td>8.07     </td><td>8.15     </td><td>5.01     </td></tr>\n",
       "\t<tr><td>2.08     </td><td>Ideal    </td><td>H        </td><td>SI2      </td><td>61.5     </td><td>57       </td><td>15065    </td><td>8.26     </td><td>8.20     </td><td>5.06     </td></tr>\n",
       "</tbody>\n",
       "</table>\n"
      ],
      "text/latex": [
       "\\begin{tabular}{r|llllllllll}\n",
       " carat & cut & color & clarity & depth & table & price & x & y & z\\\\\n",
       "\\hline\n",
       "\t 1.78      & Premium   & H         & SI2       & 59.1      & 60        & 11262     & 7.93      & 7.87      & 4.67     \\\\\n",
       "\t 2.01      & Very Good & D         & SI2       & 61.8      & 59        & 17079     & 8.07      & 8.15      & 5.01     \\\\\n",
       "\t 2.08      & Ideal     & H         & SI2       & 61.5      & 57        & 15065     & 8.26      & 8.20      & 5.06     \\\\\n",
       "\\end{tabular}\n"
      ],
      "text/markdown": [
       "\n",
       "carat | cut | color | clarity | depth | table | price | x | y | z | \n",
       "|---|---|---|\n",
       "| 1.78      | Premium   | H         | SI2       | 59.1      | 60        | 11262     | 7.93      | 7.87      | 4.67      | \n",
       "| 2.01      | Very Good | D         | SI2       | 61.8      | 59        | 17079     | 8.07      | 8.15      | 5.01      | \n",
       "| 2.08      | Ideal     | H         | SI2       | 61.5      | 57        | 15065     | 8.26      | 8.20      | 5.06      | \n",
       "\n",
       "\n"
      ],
      "text/plain": [
       "  carat cut       color clarity depth table price x    y    z   \n",
       "1 1.78  Premium   H     SI2     59.1  60    11262 7.93 7.87 4.67\n",
       "2 2.01  Very Good D     SI2     61.8  59    17079 8.07 8.15 5.01\n",
       "3 2.08  Ideal     H     SI2     61.5  57    15065 8.26 8.20 5.06"
      ]
     },
     "metadata": {},
     "output_type": "display_data"
    }
   ],
   "source": [
    "big_x <- function(df, threshold) {\n",
    "  dplyr::filter(df, x > threshold)\n",
    "}\n",
    "\n",
    "library(ggplot2)\n",
    "\n",
    "sample_idx <- sample.int(n = nrow(diamonds), size = 20, replace = FALSE)\n",
    "diamonds_sub <- diamonds[sample_idx, ]\n",
    "\n",
    "big_x(diamonds_sub, 7)"
   ]
  },
  {
   "cell_type": "code",
   "execution_count": 43,
   "metadata": {},
   "outputs": [
    {
     "data": {
      "text/html": [
       "<table>\n",
       "<thead><tr><th scope=col>carat</th><th scope=col>cut</th><th scope=col>color</th><th scope=col>clarity</th><th scope=col>depth</th><th scope=col>table</th><th scope=col>price</th><th scope=col>y</th><th scope=col>z</th><th scope=col>threshold</th></tr></thead>\n",
       "<tbody>\n",
       "</tbody>\n",
       "</table>\n"
      ],
      "text/latex": [
       "\\begin{tabular}{r|llllllllll}\n",
       " carat & cut & color & clarity & depth & table & price & y & z & threshold\\\\\n",
       "\\hline\n",
       "\\end{tabular}\n"
      ],
      "text/markdown": [
       "\n",
       "carat | cut | color | clarity | depth | table | price | y | z | threshold | \n",
       "||\n",
       "\n",
       "\n"
      ],
      "text/plain": [
       "     carat cut color clarity depth table price y z threshold"
      ]
     },
     "metadata": {},
     "output_type": "display_data"
    },
    {
     "data": {
      "text/html": [
       "<table>\n",
       "<thead><tr><th scope=col>carat</th><th scope=col>cut</th><th scope=col>color</th><th scope=col>clarity</th><th scope=col>depth</th><th scope=col>table</th><th scope=col>price</th><th scope=col>y</th><th scope=col>z</th><th scope=col>threshold</th></tr></thead>\n",
       "<tbody>\n",
       "</tbody>\n",
       "</table>\n"
      ],
      "text/latex": [
       "\\begin{tabular}{r|llllllllll}\n",
       " carat & cut & color & clarity & depth & table & price & y & z & threshold\\\\\n",
       "\\hline\n",
       "\\end{tabular}\n"
      ],
      "text/markdown": [
       "\n",
       "carat | cut | color | clarity | depth | table | price | y | z | threshold | \n",
       "||\n",
       "\n",
       "\n"
      ],
      "text/plain": [
       "     carat cut color clarity depth table price y z threshold"
      ]
     },
     "metadata": {},
     "output_type": "display_data"
    }
   ],
   "source": [
    "# Remove the x column from diamonds\n",
    "diamonds_sub$x <- NULL\n",
    "\n",
    "# Create variable x with value 1\n",
    "x <- 1\n",
    "\n",
    "# Use big_x() to find rows in diamonds_sub where x > 7\n",
    "big_x(diamonds_sub, 7)\n",
    "\n",
    "# Create a threshold column with value 100\n",
    "diamonds_sub$threshold <- 100\n",
    "\n",
    "# Use big_x() to find rows in diamonds_sub where x > 7\n",
    "big_x(diamonds_sub, threshold = 7)"
   ]
  },
  {
   "cell_type": "code",
   "execution_count": 46,
   "metadata": {
    "collapsed": true
   },
   "outputs": [],
   "source": [
    "### What to do?\n",
    "big_x <- function(df, threshold) {\n",
    "  # Write a check for x not being in df\n",
    "  if (!\"x\" %in% names(df)) {\n",
    "    stop(\"df must contain variable called x\", call. = FALSE)\n",
    "  }\n",
    "  \n",
    "  # Write a check for threshold being in df\n",
    "  if (\"threshold\" %in% names(df)) {\n",
    "    stop(\"df must not contain variable called threshold\", call. = FALSE)\n",
    "  }\n",
    "  \n",
    "  dplyr::filter(df, x > threshold)\n",
    "}"
   ]
  },
  {
   "cell_type": "markdown",
   "metadata": {
    "collapsed": true
   },
   "source": [
    "## Hidden arguments\n",
    "\n",
    "### Pure functions\n",
    "\n",
    "1. Their output only depends on their inputs\n",
    "2. They don't affect the outside world except through their return value\n",
    "\n",
    "* Hidden arguments are function inputs that may be different for differnet users or sessions\n",
    "* Common example: argument defaults that depend on global options\n",
    "\n",
    "### View global options\n",
    "\n",
    "* Settings that affect your entire R session\n",
    "> options() # Will show them\n",
    "\n",
    "\n",
    "### Getting and setting options\n",
    "\n",
    "```\n",
    "# Getting options\n",
    "getOption(\"digits\") # The number of digits to show\n",
    "\n",
    "# Setting options\n",
    "options(digits = 5)\n",
    "\n",
    "```\n",
    "\n",
    "### Relying on options in your code\n",
    "\n",
    "* You could set them inside a function, but you shouldn't, because this would violate the second principle of pure function.\n",
    "* The return value of a function should ** never ** depend on a global option\n",
    "* Side effects may be controlled by global options"
   ]
  },
  {
   "cell_type": "markdown",
   "metadata": {
    "collapsed": true
   },
   "source": [
    "### Hidden dependence"
   ]
  },
  {
   "cell_type": "code",
   "execution_count": 51,
   "metadata": {},
   "outputs": [
    {
     "name": "stdout",
     "output_type": "stream",
     "text": [
      "'data.frame':\t20 obs. of  4 variables:\n",
      " $ Name     : Factor w/ 20 levels \"Acacia Ridge Leisure Centre\",..: 1 2 3 4 5 6 19 7 8 9 ...\n",
      " $ Address  : Factor w/ 20 levels \"1 Fairlead Crescent, Manly\",..: 5 20 18 10 9 11 6 15 12 17 ...\n",
      " $ Latitude : num  -27.6 -27.6 -27.6 -27.5 -27.4 ...\n",
      " $ Longitude: num  153 153 153 153 153 ...\n",
      "'data.frame':\t20 obs. of  4 variables:\n",
      " $ Name     : Factor w/ 20 levels \"Acacia Ridge Leisure Centre\",..: 1 2 3 4 5 6 19 7 8 9 ...\n",
      " $ Address  : Factor w/ 20 levels \"1 Fairlead Crescent, Manly\",..: 5 20 18 10 9 11 6 15 12 17 ...\n",
      " $ Latitude : num  -27.6 -27.6 -27.6 -27.5 -27.4 ...\n",
      " $ Longitude: num  153 153 153 153 153 ...\n"
     ]
    }
   ],
   "source": [
    "# Read in the swimming_pools.csv to pools\n",
    "pools <- read.csv(\"swimming_pools.csv\", )\n",
    "\n",
    "# Examine the structure of pools\n",
    "str(pools)\n",
    "\n",
    "# Change the global stringsAsFactor option to FALSE\n",
    "options(stringsAsFactor = FALSE)\n",
    "\n",
    "# Read in the swimming_pools.csv to pools2\n",
    "pools2 <- read.csv(\"swimming_pools.csv\")\n",
    "\n",
    "# Examine the structure of pools2\n",
    "str(pools2)"
   ]
  },
  {
   "cell_type": "markdown",
   "metadata": {
    "collapsed": true
   },
   "source": [
    "### Legitimate use of options"
   ]
  },
  {
   "cell_type": "code",
   "execution_count": 52,
   "metadata": {},
   "outputs": [
    {
     "data": {
      "text/plain": [
       "\n",
       "Call:\n",
       "lm(formula = mpg ~ wt, data = mtcars)\n",
       "\n",
       "Residuals:\n",
       "    Min      1Q  Median      3Q     Max \n",
       "-4.5432 -2.3647 -0.1252  1.4096  6.8727 \n",
       "\n",
       "Coefficients:\n",
       "            Estimate Std. Error t value Pr(>|t|)    \n",
       "(Intercept)  37.2851     1.8776  19.858  < 2e-16 ***\n",
       "wt           -5.3445     0.5591  -9.559 1.29e-10 ***\n",
       "---\n",
       "Signif. codes:  0 '***' 0.001 '**' 0.01 '*' 0.05 '.' 0.1 ' ' 1\n",
       "\n",
       "Residual standard error: 3.046 on 30 degrees of freedom\n",
       "Multiple R-squared:  0.7528,\tAdjusted R-squared:  0.7446 \n",
       "F-statistic: 91.38 on 1 and 30 DF,  p-value: 1.294e-10\n"
      ]
     },
     "metadata": {},
     "output_type": "display_data"
    },
    {
     "data": {
      "text/plain": [
       "\n",
       "Call:\n",
       "lm(formula = mpg ~ wt, data = mtcars)\n",
       "\n",
       "Residuals:\n",
       "   Min     1Q Median     3Q    Max \n",
       "-4.543 -2.365 -0.125  1.410  6.873 \n",
       "\n",
       "Coefficients:\n",
       "            Estimate Std. Error t value Pr(>|t|)    \n",
       "(Intercept)   37.285      1.878   19.86  < 2e-16 ***\n",
       "wt            -5.344      0.559   -9.56  1.3e-10 ***\n",
       "---\n",
       "Signif. codes:  0 '***' 0.001 '**' 0.01 '*' 0.05 '.' 0.1 ' ' 1\n",
       "\n",
       "Residual standard error: 3 on 30 degrees of freedom\n",
       "Multiple R-squared:  0.753,\tAdjusted R-squared:  0.745 \n",
       "F-statistic: 91.4 on 1 and 30 DF,  p-value: 1.29e-10\n"
      ]
     },
     "metadata": {},
     "output_type": "display_data"
    }
   ],
   "source": [
    "# Fit a regression model\n",
    "fit <- lm(mpg ~ wt, data = mtcars)\n",
    "\n",
    "# Look at the summary of the model\n",
    "summary(fit)\n",
    "\n",
    "# Set the global digits option to 2\n",
    "options(digits = 2)\n",
    "\n",
    "# Take another look at the summary\n",
    "summary(fit)"
   ]
  },
  {
   "cell_type": "markdown",
   "metadata": {
    "collapsed": true
   },
   "source": [
    "## Warp-up\n",
    "\n",
    "### Writing functions\n",
    "\n",
    "* If you have copy-and-pasted two times, it's time to write a function\n",
    "* Solve a simple problem, before writing the function\n",
    "* A good function is both correct and understandable\n",
    "\n",
    "### Functional Programming\n",
    "\n",
    "* Abstract away the pattern, so you can focus on the data and actions\n",
    "* Solve iteration problems more easily\n",
    "* Have more understandable code\n",
    "\n",
    "### Remove duplication and improve readability\n",
    "\n",
    "```\n",
    "df$a <- (df$a - min(df$a, na.rm = TRUE)) /\n",
    "        (max(df$a, na.rm = TRUE) - min(df$a, na.rm = TRUE))\n",
    "df$b <- (df$b - min(df$b, na.rm = TRUE)) /\n",
    "        (max(df$b, na.rm = TRUE) - min(df$b, na.rm = TRUE))\n",
    "df$c <- (df$c - min(df$c, na.rm = TRUE)) /\n",
    "        (max(df$c, na.rm = TRUE) - min(df$c, na.rm = TRUE))\n",
    "df$d <- (df$d - min(df$d, na.rm = TRUE)) /\n",
    "        (max(df$d, na.rm = TRUE) - min(df$d, na.rm = TRUE))\n",
    "\n",
    "library(purrr)\n",
    "df[] <- map(df, rescale01)\n",
    "```\n",
    "\n",
    "### Unusudal inputs and outputs\n",
    "\n",
    "* Deal with failure using safely()\n",
    "* Iterate over two or more arguments\n",
    "* Iterate functions for their side effects\n",
    "\n",
    "### Write functions that don't surprise\n",
    "\n",
    "* Use stop() and stopifnot() to fail early\n",
    "* Avoid using type-inconsistent functions in your own functions\n",
    "* Avoid using non-standard evaluation functions in your own functions\n",
    "* Never rely on global options for computational details\n",
    "\n",
    "### Wrapping up\n",
    "\n",
    "* Solve the problem that you're working on\n",
    "* Never feel bad about using a for loop!\n",
    "* Get a function that works right, for the easiest 80% of the problem\n",
    "* In time, you'll learn how to get to 99% with minimal extra effort\n",
    "* Concise and elegant code is something to strive towards!"
   ]
  }
 ],
 "metadata": {
  "kernelspec": {
   "display_name": "R",
   "language": "R",
   "name": "ir"
  },
  "language_info": {
   "codemirror_mode": "r",
   "file_extension": ".r",
   "mimetype": "text/x-r-source",
   "name": "R",
   "pygments_lexer": "r",
   "version": "3.4.2"
  }
 },
 "nbformat": 4,
 "nbformat_minor": 2
}
