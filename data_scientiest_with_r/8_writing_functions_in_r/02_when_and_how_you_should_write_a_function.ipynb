{
 "cells": [
  {
   "cell_type": "markdown",
   "metadata": {},
   "source": [
    "# When and how you should write a function\n",
    "\n",
    "## Why should you write a function?\n",
    "\n",
    "### What does this code do?\n",
    "\n",
    "```\n",
    "df$a <- (df$a - min(df$a, na.rm = TRUE)) / (max(df$a, na.rm = TRUE) -\n",
    "        min(df$a, na.rm = TRUE))\n",
    "df$b <- (df$b - min(df$b, na.rm = TRUE)) / (max(df$a, na.rm = TRUE) -\n",
    "        min(df$b, na.rm = TRUE))\n",
    "df$c <- (df$c - min(df$c, na.rm = TRUE)) / (max(df$c, na.rm = TRUE) -\n",
    "        min(df$c, na.rm = TRUE))\n",
    "df$d <- (df$d - min(df$d, na.rm = TRUE)) / (max(df$d, na.rm = TRUE) -\n",
    "        min(df$d, na.rm = TRUE))\n",
    "```\n",
    "\n",
    "* It seems that we are repeating the same oepration.\n",
    "* What the code does is to normalize the values in each column.\n",
    "* You can also notice that there's an erro in the second line.\n",
    "\n",
    "### How was this code written?\n",
    "\n",
    "* Complete one line of code\n",
    "* Copy-and-paste the rest\n",
    "\n",
    "### When should you write a function?\n",
    "\n",
    "* If you have copied-and-pasted twice, it's time to write a function.\n",
    "\n",
    "### Writing a function makes the intent clearer\n",
    "\n",
    "```\n",
    "df$a <- rescale01(df$a)\n",
    "df$b <- rescale01(df$b)\n",
    "df$c <- rescale01(df$c)\n",
    "df$d <- rescale01(df$d)\n",
    "```\n",
    "\n",
    "* Reduces mistakes from copying and pasting\n",
    "* Makes updating code easier\n",
    "\n",
    "### Functional programming further reduces duplication\n",
    "\n",
    "```\n",
    "library(purrr)\n",
    "df[] <- map(df, rescale01)\n",
    "```"
   ]
  },
  {
   "cell_type": "markdown",
   "metadata": {},
   "source": [
    "## Start with a snippet of code"
   ]
  },
  {
   "cell_type": "code",
   "execution_count": 1,
   "metadata": {},
   "outputs": [
    {
     "data": {
      "text/html": [
       "<ol class=list-inline>\n",
       "\t<li>0</li>\n",
       "\t<li>0.111111111111111</li>\n",
       "\t<li>0.222222222222222</li>\n",
       "\t<li>0.333333333333333</li>\n",
       "\t<li>0.444444444444444</li>\n",
       "\t<li>0.555555555555556</li>\n",
       "\t<li>0.666666666666667</li>\n",
       "\t<li>0.777777777777778</li>\n",
       "\t<li>0.888888888888889</li>\n",
       "\t<li>1</li>\n",
       "</ol>\n"
      ],
      "text/latex": [
       "\\begin{enumerate*}\n",
       "\\item 0\n",
       "\\item 0.111111111111111\n",
       "\\item 0.222222222222222\n",
       "\\item 0.333333333333333\n",
       "\\item 0.444444444444444\n",
       "\\item 0.555555555555556\n",
       "\\item 0.666666666666667\n",
       "\\item 0.777777777777778\n",
       "\\item 0.888888888888889\n",
       "\\item 1\n",
       "\\end{enumerate*}\n"
      ],
      "text/markdown": [
       "1. 0\n",
       "2. 0.111111111111111\n",
       "3. 0.222222222222222\n",
       "4. 0.333333333333333\n",
       "5. 0.444444444444444\n",
       "6. 0.555555555555556\n",
       "7. 0.666666666666667\n",
       "8. 0.777777777777778\n",
       "9. 0.888888888888889\n",
       "10. 1\n",
       "\n",
       "\n"
      ],
      "text/plain": [
       " [1] 0.0000000 0.1111111 0.2222222 0.3333333 0.4444444 0.5555556 0.6666667\n",
       " [8] 0.7777778 0.8888889 1.0000000"
      ]
     },
     "metadata": {},
     "output_type": "display_data"
    }
   ],
   "source": [
    "# Define example vector x\n",
    "x <- 1:10\n",
    "\n",
    "# Rewrite this snippet to refer to x\n",
    "# (df$a - min(df$a, na.rm = TRUE)) /\n",
    "#   (max(df$a, na.rm = TRUE) - min(df$a, na.rm = TRUE))\n",
    "(x - min(x, na.rm = TRUE)) / (max(x, na.rm = TRUE) - min(x, na.rm = TRUE))"
   ]
  },
  {
   "cell_type": "markdown",
   "metadata": {},
   "source": [
    "## Rewrite for clarity"
   ]
  },
  {
   "cell_type": "code",
   "execution_count": 5,
   "metadata": {},
   "outputs": [
    {
     "data": {
      "text/html": [
       "<ol class=list-inline>\n",
       "\t<li>0</li>\n",
       "\t<li>0.111111111111111</li>\n",
       "\t<li>0.222222222222222</li>\n",
       "\t<li>0.333333333333333</li>\n",
       "\t<li>0.444444444444444</li>\n",
       "\t<li>0.555555555555556</li>\n",
       "\t<li>0.666666666666667</li>\n",
       "\t<li>0.777777777777778</li>\n",
       "\t<li>0.888888888888889</li>\n",
       "\t<li>1</li>\n",
       "</ol>\n"
      ],
      "text/latex": [
       "\\begin{enumerate*}\n",
       "\\item 0\n",
       "\\item 0.111111111111111\n",
       "\\item 0.222222222222222\n",
       "\\item 0.333333333333333\n",
       "\\item 0.444444444444444\n",
       "\\item 0.555555555555556\n",
       "\\item 0.666666666666667\n",
       "\\item 0.777777777777778\n",
       "\\item 0.888888888888889\n",
       "\\item 1\n",
       "\\end{enumerate*}\n"
      ],
      "text/markdown": [
       "1. 0\n",
       "2. 0.111111111111111\n",
       "3. 0.222222222222222\n",
       "4. 0.333333333333333\n",
       "5. 0.444444444444444\n",
       "6. 0.555555555555556\n",
       "7. 0.666666666666667\n",
       "8. 0.777777777777778\n",
       "9. 0.888888888888889\n",
       "10. 1\n",
       "\n",
       "\n"
      ],
      "text/plain": [
       " [1] 0.0000000 0.1111111 0.2222222 0.3333333 0.4444444 0.5555556 0.6666667\n",
       " [8] 0.7777778 0.8888889 1.0000000"
      ]
     },
     "metadata": {},
     "output_type": "display_data"
    }
   ],
   "source": [
    "# Define example vector x\n",
    "x <- 1:10\n",
    "\n",
    "# Define rng\n",
    "rng <- range(x, na.rm = TRUE)\n",
    "\n",
    "# Rewrite this snippet to refer to the elements of rng\n",
    "# (x - min(x, na.rm = TRUE)) /\n",
    "#   (max(x, na.rm = TRUE) - min(x, na.rm = TRUE))\n",
    "(x - rng[1]) / (rng[2] - rng[1])"
   ]
  },
  {
   "cell_type": "markdown",
   "metadata": {},
   "source": [
    "## Finally turn it into a function!"
   ]
  },
  {
   "cell_type": "code",
   "execution_count": 6,
   "metadata": {},
   "outputs": [
    {
     "data": {
      "text/html": [
       "<ol class=list-inline>\n",
       "\t<li>0</li>\n",
       "\t<li>0.111111111111111</li>\n",
       "\t<li>0.222222222222222</li>\n",
       "\t<li>0.333333333333333</li>\n",
       "\t<li>0.444444444444444</li>\n",
       "\t<li>0.555555555555556</li>\n",
       "\t<li>0.666666666666667</li>\n",
       "\t<li>0.777777777777778</li>\n",
       "\t<li>0.888888888888889</li>\n",
       "\t<li>1</li>\n",
       "</ol>\n"
      ],
      "text/latex": [
       "\\begin{enumerate*}\n",
       "\\item 0\n",
       "\\item 0.111111111111111\n",
       "\\item 0.222222222222222\n",
       "\\item 0.333333333333333\n",
       "\\item 0.444444444444444\n",
       "\\item 0.555555555555556\n",
       "\\item 0.666666666666667\n",
       "\\item 0.777777777777778\n",
       "\\item 0.888888888888889\n",
       "\\item 1\n",
       "\\end{enumerate*}\n"
      ],
      "text/markdown": [
       "1. 0\n",
       "2. 0.111111111111111\n",
       "3. 0.222222222222222\n",
       "4. 0.333333333333333\n",
       "5. 0.444444444444444\n",
       "6. 0.555555555555556\n",
       "7. 0.666666666666667\n",
       "8. 0.777777777777778\n",
       "9. 0.888888888888889\n",
       "10. 1\n",
       "\n",
       "\n"
      ],
      "text/plain": [
       " [1] 0.0000000 0.1111111 0.2222222 0.3333333 0.4444444 0.5555556 0.6666667\n",
       " [8] 0.7777778 0.8888889 1.0000000"
      ]
     },
     "metadata": {},
     "output_type": "display_data"
    }
   ],
   "source": [
    "# Define example vector x\n",
    "x <- 1:10 \n",
    "\n",
    "# Use the function template to create the rescale01 function\n",
    "# my_fun <- function(arg1, arg2) {\n",
    "#   # body\n",
    "#   \n",
    "# }\n",
    "rescale01 <- function(x) {\n",
    "  rng <- range(x, na.rm = TRUE)\n",
    "  (x - rng[1]) / (rng[2] - rng[1])\n",
    "}\n",
    "\n",
    "# Test your function, call rescale01 using the vector x as the argument\n",
    "rescale01(x)"
   ]
  },
  {
   "cell_type": "markdown",
   "metadata": {},
   "source": [
    "## How should you write a function?\n",
    "\n",
    "### Start with a simple problem\n",
    "\n",
    "```\n",
    "df <- data.frame(a = rnorm(10),\n",
    "                 b = rnorm(10),\n",
    "                 c = rnorm(10),\n",
    "                 d = rnorm(10))\n",
    "\n",
    "# Rescale the 'a' column in df to a 0-1 range\n",
    "df <- data.frame(a = 1:11,\n",
    "                 b = rnorm(11),\n",
    "                 c = rnorm(11),\n",
    "                 d = rnorm(11))\n",
    "```\n",
    "\n",
    "### Get a working snippet of code\n",
    "\n",
    "```\n",
    "df$a <- (df$a - min(df$a, na.rm = TRUE)) / (max(df$a, na.rm = TRUE) -\n",
    "         min(df$a, na.rm = TRUE))$\n",
    "```\n",
    "### Rewrite to use temporary variables\n",
    "\n",
    "```\n",
    "df$a <- (df$a - min(df$a, na.rm = TRUE)) / (max(df$a, na.rm = TRUE) -\n",
    "         min(df$a, na.rm = TRUE))\n",
    "\n",
    "x <- df$a\n",
    "\n",
    "(x - min(x, na.rm = TRUE)) / (max(x, na.rm = TRUE) - min(x, na.rm = TRUE))\n",
    "```\n",
    "\n",
    "### Rewrite for clarity\n",
    "\n",
    "```\n",
    "x <- df$a\n",
    "\n",
    "rng <- range(x, na.rm = TRUE)\n",
    "\n",
    "(x - rng[1]) / (rng[2] - rng[1])$\n",
    "```\n",
    "\n",
    "### Finally, turn it into a function\n",
    "\n",
    "```\n",
    "x <- df$a\n",
    "\n",
    "rescale01 <- function(x) {\n",
    "    rng <- range(x, na.rm = TRUE)\n",
    "    (x - rng[1]) - (rng[2] - rng[1])\n",
    "}\n",
    "\n",
    "rescale01(x) $\n",
    "```\n",
    "\n",
    "### How should you write a function?\n",
    "\n",
    "* Start with a simple problem\n",
    "* Get a working snippet of code\n",
    "* Rewrite to use temporary variables\n",
    "* Rewrite for clarity\n",
    "* Finally, turn into a function"
   ]
  },
  {
   "cell_type": "markdown",
   "metadata": {},
   "source": [
    "## Start with a simple problem"
   ]
  },
  {
   "cell_type": "code",
   "execution_count": 8,
   "metadata": {},
   "outputs": [
    {
     "data": {
      "text/html": [
       "1"
      ],
      "text/latex": [
       "1"
      ],
      "text/markdown": [
       "1"
      ],
      "text/plain": [
       "[1] 1"
      ]
     },
     "metadata": {},
     "output_type": "display_data"
    }
   ],
   "source": [
    "# Define example vectors x and y\n",
    "x <- c( 1, 2, NA, 3, NA)\n",
    "y <- c(NA, 3, NA, 3,  4)\n",
    "\n",
    "# Count how many elements are missing in both x and y\n",
    "sum(is.na(x) & is.na(y))"
   ]
  },
  {
   "cell_type": "markdown",
   "metadata": {},
   "source": [
    "## Rewrite snippet as function"
   ]
  },
  {
   "cell_type": "code",
   "execution_count": 9,
   "metadata": {},
   "outputs": [
    {
     "data": {
      "text/html": [
       "1"
      ],
      "text/latex": [
       "1"
      ],
      "text/markdown": [
       "1"
      ],
      "text/plain": [
       "[1] 1"
      ]
     },
     "metadata": {},
     "output_type": "display_data"
    }
   ],
   "source": [
    "# Define example vectors x and y\n",
    "x <- c( 1, 2, NA, 3, NA)\n",
    "y <- c(NA, 3, NA, 3,  4)\n",
    "\n",
    "# Turn this snippet into a function: both_na()\n",
    "#  sum(is.na(x) & is.na(y))\n",
    "both_na <- function(x, y) {\n",
    "  sum(is.na(x) & is.na(y))\n",
    "}\n",
    "both_na(x, y)"
   ]
  },
  {
   "cell_type": "markdown",
   "metadata": {},
   "source": [
    "## Put our function to use"
   ]
  },
  {
   "cell_type": "code",
   "execution_count": 10,
   "metadata": {},
   "outputs": [
    {
     "data": {
      "text/html": [
       "2"
      ],
      "text/latex": [
       "2"
      ],
      "text/markdown": [
       "2"
      ],
      "text/plain": [
       "[1] 2"
      ]
     },
     "metadata": {},
     "output_type": "display_data"
    },
    {
     "name": "stderr",
     "output_type": "stream",
     "text": [
      "Warning message in is.na(x) & is.na(y):\n",
      "\"longer object length is not a multiple of shorter object length\""
     ]
    },
    {
     "data": {
      "text/html": [
       "3"
      ],
      "text/latex": [
       "3"
      ],
      "text/markdown": [
       "3"
      ],
      "text/plain": [
       "[1] 3"
      ]
     },
     "metadata": {},
     "output_type": "display_data"
    }
   ],
   "source": [
    "# Define x, y1 and y2\n",
    "x  <- c(NA, NA, NA)\n",
    "y1 <- c(1, NA, NA)\n",
    "y2 <- c(1, NA, NA, NA)\n",
    "\n",
    "# Call both_na on x, y1\n",
    "both_na(x, y1)\n",
    "\n",
    "# Call both_na on x, y2\n",
    "both_na(x, y2)"
   ]
  },
  {
   "cell_type": "markdown",
   "metadata": {},
   "source": [
    "## How can you write a good function?\n",
    "\n",
    "### What makes a good function?\n",
    "\n",
    "* Correct: Your function solves the problem correctly.\n",
    "* Understandable: Understandable for other people reading your code.\n",
    "* Functions are for humans and computers\n",
    "* Correct + Understandable = Obviously correct\n",
    "\n",
    "### What does this code do?\n",
    "\n",
    "> baz <- foo(bar, qux)\n",
    "\n",
    "Who knows? What about this one?\n",
    "\n",
    "> df2 <- arrange(df, qux)\n",
    "\n",
    "Good names make code understandable with minimal context\n",
    "\n",
    "### Naming principles\n",
    "\n",
    "** Same whether objects, functions, or arguments **\n",
    "\n",
    "* Pick a consistent style for long names\n",
    "\n",
    "```\n",
    "# Good\n",
    "col_mins()\n",
    "row_maxes()\n",
    "\n",
    "# Bad\n",
    "newData <- c(old.data, todays_log)\n",
    "```\n",
    "\n",
    "\n",
    "* Do not override existing variables or functions: espescially predefined ones!\n",
    "\n",
    "\n",
    "```\n",
    "T <- FALSE\n",
    "c <- 10\n",
    "mean <- function(x) sum(x)\n",
    "```\n",
    "\n",
    "### Function names\n",
    "\n",
    "* Should generally be verbs\n",
    "\n",
    "\n",
    "```\n",
    "# Good\n",
    "impute_missing()\n",
    "\n",
    "# Bad\n",
    "imputed()\n",
    "```\n",
    "\n",
    "\n",
    "* Should be descriptive: The function name should describe what it does.\n",
    "\n",
    "\n",
    "```\n",
    "# Good\n",
    "collapse_years()\n",
    "\n",
    "# Bad\n",
    "f()\n",
    "my_awesome_function()\n",
    "```\n",
    "\n",
    "\n",
    "### Argument names\n",
    "\n",
    "* Should generally be nouns\n",
    "* Use the very common short names when appropriate:\n",
    "    - x, y, z: vectors\n",
    "    - df: a data frame\n",
    "    - i, j: numeric indices(typically rows and columns)\n",
    "    - n: length, or number of rows\n",
    "    \n",
    "\n",
    "### Argument order\n",
    "\n",
    "> mean(x, trim = 0, na.rm = FALSE, ...)\n",
    "\n",
    "* Data Arguments: supply data to compute on\n",
    "* Detail Arguments: supply arguments that control the detail of the computation\n",
    "\n",
    "> t.test(x, y = NULL,\n",
    "alternative = c(\"two.sided\", \"less\", \"greater\"),\n",
    "mu = 0, paired = FALSE, var.equal = FALSE,\n",
    "conf.level = 0.95, ...)\n",
    "\n",
    "\n",
    "* Data arguments come first\n",
    "* Detail arguments should have sensible default\n",
    "\n",
    "\n",
    "###  What makes a good function?\n",
    "\n",
    "* Use good names for functions and arguments\n",
    "* Use an intuitive argument order and reasonable default values\n",
    "* Make it clear what the function returns\n",
    "* Use good style inside the body of the function"
   ]
  },
  {
   "cell_type": "markdown",
   "metadata": {},
   "source": [
    "## Argument names"
   ]
  },
  {
   "cell_type": "code",
   "execution_count": 11,
   "metadata": {
    "collapsed": true
   },
   "outputs": [],
   "source": [
    "# Rewrite mean_ci to take arguments named level and x\n",
    "# mean_ci <- function(c, nums) {\n",
    "#   se <- sd(nums) / sqrt(length(nums))\n",
    "#   alpha <- 1 - c\n",
    "#   mean(nums) + se * qnorm(c(alpha / 2, 1 - alpha / 2))\n",
    "# }\n",
    "\n",
    "mean_ci <- function(level, x) {\n",
    " se <- sd(x) / sqrt(length(x))\n",
    " alpha <- 1 - level\n",
    " mean(x) + se * qnorm(c(alpha / 2, 1 - alpha / 2))\n",
    "}"
   ]
  },
  {
   "cell_type": "markdown",
   "metadata": {},
   "source": [
    "## Argument order"
   ]
  },
  {
   "cell_type": "code",
   "execution_count": 12,
   "metadata": {
    "collapsed": true
   },
   "outputs": [],
   "source": [
    "# Alter the arguments to mean_ci\n",
    "# mean_ci <- function(level, x) {\n",
    "#   se <- sd(x) / sqrt(length(x))\n",
    "#   alpha <- 1 - level\n",
    "#   mean(x) + se * qnorm(c(alpha / 2, 1 - alpha / 2))\n",
    "# }\n",
    "\n",
    "# Change the arugment order and set the default of level to 0.95\n",
    "mean_ci <- function(x, level = 0.95) {\n",
    " se <- sd(x) / sqrt(length(x))\n",
    " alpha <- 1 - level\n",
    " mean(x) + se * qnorm(c(alpha / 2, 1 - alpha / 2))\n",
    "}"
   ]
  },
  {
   "cell_type": "markdown",
   "metadata": {},
   "source": [
    "## Return statements\n",
    "\n",
    "```\n",
    "mean_ci <- function(x, level = 0.95) {\n",
    "  if (length(x) == 0) {\n",
    "    warning(\"`x` was empty\", call. = FALSE)\n",
    "    interval <- c(-Inf, Inf)\n",
    "  } else { \n",
    "    se <- sd(x) / sqrt(length(x))\n",
    "    alpha <- 1 - level\n",
    "    interval <- mean(x) + \n",
    "      se * qnorm(c(alpha / 2, 1 - alpha / 2))\n",
    "  }\n",
    "  interval\n",
    "}\n",
    "```\n",
    "\n",
    "\n",
    "Edit the mean_ci function using an if statement to check for the case when x is empty and if so, to produce the same warning as the code above then immediately return() c(-Inf, Inf)."
   ]
  },
  {
   "cell_type": "code",
   "execution_count": 13,
   "metadata": {
    "collapsed": true
   },
   "outputs": [],
   "source": [
    "# Alter the mean_ci function\n",
    "# mean_ci <- function(x, level = 0.95) {\n",
    "#   se <- sd(x) / sqrt(length(x))\n",
    "#   alpha <- 1 - level\n",
    "#   mean(x) + se * qnorm(c(alpha / 2, 1 - alpha / 2))\n",
    "# }\n",
    "\n",
    "mean_ci <- function(x, level = 0.95) {\n",
    "  if (length(x) == 0) {\n",
    "    return(c(-Inf, Inf))\n",
    "  } else {\n",
    "    se <- sd(x) / sqrt(length(x))\n",
    "    alpha <- 1 - level\n",
    "    interval <- mean(x) + se * qnorm(c(alpha / 2, 1 - alpha / 2))\n",
    "  }\n",
    "  return (interval)\n",
    "}"
   ]
  },
  {
   "cell_type": "markdown",
   "metadata": {},
   "source": [
    "## What does this function do?\n",
    "\n",
    "```\n",
    "f <- function(x, y) {\n",
    "  x[is.na(x)] <- y\n",
    "  cat(sum(is.na(x)), y, \"\\n\")\n",
    "  x\n",
    "}\n",
    "```\n",
    "\n",
    "\n",
    "* Define a numeric vector x with the values: 1, 2, NA, 4 and 5.\n",
    "* Call f() with the arguments x = x, and y = 3.\n",
    "* Call f() with the arguments x = x, and y = 10."
   ]
  },
  {
   "cell_type": "code",
   "execution_count": 14,
   "metadata": {},
   "outputs": [
    {
     "name": "stdout",
     "output_type": "stream",
     "text": [
      "0 3 \n"
     ]
    },
    {
     "data": {
      "text/html": [
       "<ol class=list-inline>\n",
       "\t<li>1</li>\n",
       "\t<li>2</li>\n",
       "\t<li>3</li>\n",
       "\t<li>4</li>\n",
       "\t<li>5</li>\n",
       "</ol>\n"
      ],
      "text/latex": [
       "\\begin{enumerate*}\n",
       "\\item 1\n",
       "\\item 2\n",
       "\\item 3\n",
       "\\item 4\n",
       "\\item 5\n",
       "\\end{enumerate*}\n"
      ],
      "text/markdown": [
       "1. 1\n",
       "2. 2\n",
       "3. 3\n",
       "4. 4\n",
       "5. 5\n",
       "\n",
       "\n"
      ],
      "text/plain": [
       "[1] 1 2 3 4 5"
      ]
     },
     "metadata": {},
     "output_type": "display_data"
    },
    {
     "name": "stdout",
     "output_type": "stream",
     "text": [
      "0 10 \n"
     ]
    },
    {
     "data": {
      "text/html": [
       "<ol class=list-inline>\n",
       "\t<li>1</li>\n",
       "\t<li>2</li>\n",
       "\t<li>10</li>\n",
       "\t<li>4</li>\n",
       "\t<li>5</li>\n",
       "</ol>\n"
      ],
      "text/latex": [
       "\\begin{enumerate*}\n",
       "\\item 1\n",
       "\\item 2\n",
       "\\item 10\n",
       "\\item 4\n",
       "\\item 5\n",
       "\\end{enumerate*}\n"
      ],
      "text/markdown": [
       "1. 1\n",
       "2. 2\n",
       "3. 10\n",
       "4. 4\n",
       "5. 5\n",
       "\n",
       "\n"
      ],
      "text/plain": [
       "[1]  1  2 10  4  5"
      ]
     },
     "metadata": {},
     "output_type": "display_data"
    }
   ],
   "source": [
    "# Define the function f\n",
    "f <- function(x, y) {\n",
    "  x[is.na(x)] <- y\n",
    "  cat(sum(is.na(x)), y, \"\\n\")\n",
    "  x\n",
    "}\n",
    "\n",
    "# Define a numeric vector x with the values 1, 2, NA, 4 and 5\n",
    "x <- c(1, 2, NA, 4, 5)\n",
    "\n",
    "# Call f() with the arguments x = x and y = 3\n",
    "f(x, 3)\n",
    "\n",
    "# Call f() with the arguments x = x and y = 10\n",
    "f(x, 10)"
   ]
  },
  {
   "cell_type": "markdown",
   "metadata": {},
   "source": [
    "## Let's make it clear from its name"
   ]
  },
  {
   "cell_type": "code",
   "execution_count": 15,
   "metadata": {},
   "outputs": [
    {
     "name": "stdout",
     "output_type": "stream",
     "text": [
      "0 0 \n"
     ]
    }
   ],
   "source": [
    "# Define a data frame df\n",
    "df <- data.frame(z = c(-0.39, -0.01, 3.53, NA, NA,\n",
    "                      -0.31, 0.12, -0.52, 0.55, 0.70))\n",
    "\n",
    "# Rename the function f() to replace_missings()\n",
    "# f <- function(x, y) {\n",
    "#   # Change the name of the y argument to replacement\n",
    "#   x[is.na(x)] <- y\n",
    "#   cat(sum(is.na(x)), y, \"\\n\")\n",
    "#   x\n",
    "# }\n",
    "\n",
    "replace_missings <- function(x, replacement) {\n",
    " # Change the name of the y argument to replacement\n",
    " x[is.na(x)] <- replacement\n",
    " cat(sum(is.na(x)), replacement, \"\\n\")\n",
    " x\n",
    "}\n",
    "\n",
    "# Rewrite the call on df$z to match our new names\n",
    "df$z <- replace_missings(df$z, 0)"
   ]
  },
  {
   "cell_type": "markdown",
   "metadata": {},
   "source": [
    "## Make the body more understandable"
   ]
  },
  {
   "cell_type": "code",
   "execution_count": 16,
   "metadata": {
    "collapsed": true
   },
   "outputs": [],
   "source": [
    "# replace_missings <- function(x, replacement) {\n",
    "#   # Define is_miss\n",
    "#   \n",
    "#   \n",
    "#   # Rewrite rest of function to refer to is_miss\n",
    "#   x[is.na(x)] <- replacement\n",
    "#   cat(sum(is.na(x)), replacement, \"\\n\")\n",
    "#   x\n",
    "# }\n",
    "\n",
    "replace_missings <- function(x, replacement) {\n",
    "  # Define is_miss\n",
    "  is_miss <- is.na(x)\n",
    "  \n",
    "  # Rewrite rest of function to refer to is_miss\n",
    "  x[is_miss] <- replacement\n",
    "  cat(sum(is_miss), replacement, \"\\n\")\n",
    "  x\n",
    "}"
   ]
  },
  {
   "cell_type": "markdown",
   "metadata": {},
   "source": [
    "## Much better! But a few more tweaks..."
   ]
  },
  {
   "cell_type": "code",
   "execution_count": 18,
   "metadata": {
    "collapsed": true
   },
   "outputs": [],
   "source": [
    "# replace_missings <- function(x, replacement) {\n",
    "#   is_miss <- is.na(x)\n",
    "#   x[is_miss] <- replacement\n",
    "#   \n",
    "#   # Rewrite to use message()\n",
    "#   cat(sum(is_miss), replacement, \"\\n\")\n",
    "#   x\n",
    "# }\n",
    "\n",
    "replace_missings <- function(x, replacement) {\n",
    "  is_miss <- is.na(x)\n",
    "  x[is_miss] <- replacement\n",
    "  \n",
    "  # Rewrite to use message()\n",
    "  message(sum(is_miss), \"missings replaced by the value\", replacement, \"\\n\")\n",
    "  x\n",
    "}\n",
    "\n",
    "\n",
    "# Check your new function by running on df$z\n"
   ]
  },
  {
   "cell_type": "code",
   "execution_count": null,
   "metadata": {
    "collapsed": true
   },
   "outputs": [],
   "source": []
  }
 ],
 "metadata": {
  "kernelspec": {
   "display_name": "R",
   "language": "R",
   "name": "ir"
  },
  "language_info": {
   "codemirror_mode": "r",
   "file_extension": ".r",
   "mimetype": "text/x-r-source",
   "name": "R",
   "pygments_lexer": "r",
   "version": "3.4.2"
  }
 },
 "nbformat": 4,
 "nbformat_minor": 2
}
