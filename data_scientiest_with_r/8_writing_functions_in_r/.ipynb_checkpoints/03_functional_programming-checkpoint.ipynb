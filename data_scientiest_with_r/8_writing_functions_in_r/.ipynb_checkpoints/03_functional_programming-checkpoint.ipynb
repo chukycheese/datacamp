{
 "cells": [
  {
   "cell_type": "markdown",
   "metadata": {},
   "source": [
    "# Functional programming\n",
    "\n",
    "## Why functional programming?\n",
    "\n",
    "1. Rely on domain knowledge\n",
    "2. Use variables - to generalize the process\n",
    "3. Extract out common code\n",
    "\n",
    "### for loops are like pages in the recipe book\n",
    "\n",
    "```\n",
    "out1 <- vector(\"double\", ncol(mtcars))\n",
    "\n",
    "for (i in seq_along(mtcars)) {\n",
    "    out1[[i]] <- mean(mtcars[[i]], na.rm = TRUE)\n",
    "}\n",
    "\n",
    "out2 <- vector(\"double\", ncol(mtcars))\n",
    "\n",
    "for (i in seq_along(mtcars)) {\n",
    "    out2[[i]] <- median(mtcars[[i]], na.rm = TRUE)\n",
    "}\n",
    "```\n",
    "* Emphasizes the objects, pattern of implementation\n",
    "* Hides actions\n",
    "\n",
    "### Functional programming is like the meta-recipe\n",
    "\n",
    "* It allows you to focus on what is different, rather than what is the same.\n",
    "\n",
    "```\n",
    "library(purrr)\n",
    "\n",
    "means   <- map_dbl(mtcars, mean)\n",
    "medians <- map_dbl(mtcars, median)\n",
    "```\n",
    "\n",
    "* Give equal weight to verbs and nouns\n",
    "* Abstract away the details of implementation"
   ]
  },
  {
   "cell_type": "markdown",
   "metadata": {},
   "source": [
    "### Using a for loop to remove duplication"
   ]
  },
  {
   "cell_type": "code",
   "execution_count": 1,
   "metadata": {},
   "outputs": [
    {
     "data": {
      "text/html": [
       "<ol class=list-inline>\n",
       "\t<li>-0.123297327195778</li>\n",
       "\t<li>0.481647969921349</li>\n",
       "\t<li>-0.0799013273478845</li>\n",
       "\t<li>0.198063157592248</li>\n",
       "</ol>\n"
      ],
      "text/latex": [
       "\\begin{enumerate*}\n",
       "\\item -0.123297327195778\n",
       "\\item 0.481647969921349\n",
       "\\item -0.0799013273478845\n",
       "\\item 0.198063157592248\n",
       "\\end{enumerate*}\n"
      ],
      "text/markdown": [
       "1. -0.123297327195778\n",
       "2. 0.481647969921349\n",
       "3. -0.0799013273478845\n",
       "4. 0.198063157592248\n",
       "\n",
       "\n"
      ],
      "text/plain": [
       "[1] -0.12329733  0.48164797 -0.07990133  0.19806316"
      ]
     },
     "metadata": {},
     "output_type": "display_data"
    }
   ],
   "source": [
    "df <- data.frame(a = rnorm(10),\n",
    "                 b = rnorm(10),\n",
    "                 c = rnorm(10),\n",
    "                 d = rnorm(10))\n",
    "\n",
    "# Initialize output vector\n",
    "output <- vector(\"double\", ncol(df))  \n",
    "\n",
    "# Fill in the body of the for loop\n",
    "for (i in seq_along(df)) {            \n",
    "  output[i] <- median(df[[i]], na.rm = TRUE)\n",
    "}\n",
    "\n",
    "# View the result\n",
    "output"
   ]
  },
  {
   "cell_type": "markdown",
   "metadata": {},
   "source": [
    "### Turning the for loop into a function"
   ]
  },
  {
   "cell_type": "code",
   "execution_count": 6,
   "metadata": {},
   "outputs": [
    {
     "data": {
      "text/html": [
       "<ol class=list-inline>\n",
       "\t<li>-0.123297327195778</li>\n",
       "\t<li>0.481647969921349</li>\n",
       "\t<li>-0.0799013273478845</li>\n",
       "\t<li>0.198063157592248</li>\n",
       "</ol>\n"
      ],
      "text/latex": [
       "\\begin{enumerate*}\n",
       "\\item -0.123297327195778\n",
       "\\item 0.481647969921349\n",
       "\\item -0.0799013273478845\n",
       "\\item 0.198063157592248\n",
       "\\end{enumerate*}\n"
      ],
      "text/markdown": [
       "1. -0.123297327195778\n",
       "2. 0.481647969921349\n",
       "3. -0.0799013273478845\n",
       "4. 0.198063157592248\n",
       "\n",
       "\n"
      ],
      "text/plain": [
       "[1] -0.12329733  0.48164797 -0.07990133  0.19806316"
      ]
     },
     "metadata": {},
     "output_type": "display_data"
    }
   ],
   "source": [
    "# Turn this code into col_median()\n",
    "output <- vector(\"double\", ncol(df))  \n",
    "# for (i in seq_along(df)) {            \n",
    "#   output[[i]] <- median(df[[i]])      \n",
    "# }\n",
    "col_median <- function(df) {\n",
    "    output <- numeric(length(df))\n",
    "    for (i in seq_along(df)) {\n",
    "        output[[i]] <- median(df[[i]])\n",
    "    }\n",
    "    return (output)\n",
    "}\n",
    "\n",
    "output <- col_median(df)\n",
    "\n",
    "output"
   ]
  },
  {
   "cell_type": "markdown",
   "metadata": {},
   "source": [
    "### What about column means?"
   ]
  },
  {
   "cell_type": "code",
   "execution_count": 8,
   "metadata": {
    "collapsed": true
   },
   "outputs": [],
   "source": [
    "# Create col_mean() function to find column means\n",
    "col_mean <- function(df) {\n",
    "  output <- numeric(length(df))\n",
    "  for (i in seq_along(df)) {\n",
    "    output[[i]] <- mean(df[[i]])\n",
    "  }\n",
    "  output\n",
    "}"
   ]
  },
  {
   "cell_type": "markdown",
   "metadata": {},
   "source": [
    "### What about column standard deviations?"
   ]
  },
  {
   "cell_type": "code",
   "execution_count": 9,
   "metadata": {
    "collapsed": true
   },
   "outputs": [],
   "source": [
    "# Define col_sd() function\n",
    "col_sd <- function(df) {\n",
    "  output <- numeric(length(df))\n",
    "  for (i in seq_along(df)) {\n",
    "    output[[i]] <- sd(df[[i]])\n",
    "  }\n",
    "  output\n",
    "}"
   ]
  },
  {
   "cell_type": "markdown",
   "metadata": {},
   "source": [
    "### Uh oh... time to write a function again"
   ]
  },
  {
   "cell_type": "code",
   "execution_count": 10,
   "metadata": {
    "collapsed": true
   },
   "outputs": [],
   "source": [
    "# Add a second argument called power\n",
    "# f <- function(x) {\n",
    "#     # Edit the body to return absolute deviations raised to power\n",
    "#     abs(x - mean(x))\n",
    "# }\n",
    "\n",
    "f <- function(x, power) {\n",
    "    # Edit the body to return absolute deviations raised to power\n",
    "    abs(x - mean(x)) ^ power\n",
    "}"
   ]
  },
  {
   "cell_type": "markdown",
   "metadata": {},
   "source": [
    "## Functions can be arguments too\n",
    "\n",
    "### Removing duplication with arguments\n",
    "\n",
    "```\n",
    "f1 <- function(x) abs(x - mean(x)) ^ 1\n",
    "f2 <- function(x) abs(x - mean(x)) ^ 2\n",
    "f3 <- function(x) abs(x - mean(x)) ^ 3\n",
    "\n",
    "f <- function(x, power) abs(x - mean(x)) ^ power\n",
    "\n",
    "col_median <- function(df) {\n",
    "    output <- numeric(length(df))\n",
    "    for (i in seq_along(df)) {\n",
    "        output[[i]] <- median(df[[i]])\n",
    "    }\n",
    "    output\n",
    "}\n",
    "\n",
    "# Create col_mean() function to find column means\n",
    "col_mean <- function(df) {\n",
    "  output <- numeric(length(df))\n",
    "  for (i in seq_along(df)) {\n",
    "    output[[i]] <- mean(df[[i]])\n",
    "  }\n",
    "  output\n",
    "}\n",
    "\n",
    "# Define col_sd() function\n",
    "col_sd <- function(df) {\n",
    "  output <- numeric(length(df))\n",
    "  for (i in seq_along(df)) {\n",
    "    output[[i]] <- sd(df[[i]])\n",
    "  }\n",
    "  output\n",
    "}\n",
    "```\n",
    "\n",
    "* The previous summary functions, col_median, col_mean, col_sd can be replaced by arguments\n",
    "\n",
    "```\n",
    "col_summary <- function(df, fun) {\n",
    "    output <- numeric(length(df))\n",
    "    for (i in seq_along(df)) {\n",
    "        output[i] <- fun(df[i])\n",
    "    }\n",
    "    output\n",
    "}\n",
    "\n",
    "col_summary(df, fun = median)\n",
    "col_summary(df, fun = mean)\n",
    "col_summary(df, fun = sd)\n",
    "```"
   ]
  },
  {
   "cell_type": "markdown",
   "metadata": {},
   "source": [
    "### Using a function as an argument"
   ]
  },
  {
   "cell_type": "code",
   "execution_count": 13,
   "metadata": {},
   "outputs": [
    {
     "data": {
      "text/html": [
       "<ol class=list-inline>\n",
       "\t<li>-0.123297327195778</li>\n",
       "\t<li>0.481647969921349</li>\n",
       "\t<li>-0.0799013273478845</li>\n",
       "\t<li>0.198063157592248</li>\n",
       "</ol>\n"
      ],
      "text/latex": [
       "\\begin{enumerate*}\n",
       "\\item -0.123297327195778\n",
       "\\item 0.481647969921349\n",
       "\\item -0.0799013273478845\n",
       "\\item 0.198063157592248\n",
       "\\end{enumerate*}\n"
      ],
      "text/markdown": [
       "1. -0.123297327195778\n",
       "2. 0.481647969921349\n",
       "3. -0.0799013273478845\n",
       "4. 0.198063157592248\n",
       "\n",
       "\n"
      ],
      "text/plain": [
       "[1] -0.12329733  0.48164797 -0.07990133  0.19806316"
      ]
     },
     "metadata": {},
     "output_type": "display_data"
    },
    {
     "data": {
      "text/html": [
       "<ol class=list-inline>\n",
       "\t<li>-0.123297327195778</li>\n",
       "\t<li>0.481647969921349</li>\n",
       "\t<li>-0.0799013273478845</li>\n",
       "\t<li>0.198063157592248</li>\n",
       "</ol>\n"
      ],
      "text/latex": [
       "\\begin{enumerate*}\n",
       "\\item -0.123297327195778\n",
       "\\item 0.481647969921349\n",
       "\\item -0.0799013273478845\n",
       "\\item 0.198063157592248\n",
       "\\end{enumerate*}\n"
      ],
      "text/markdown": [
       "1. -0.123297327195778\n",
       "2. 0.481647969921349\n",
       "3. -0.0799013273478845\n",
       "4. 0.198063157592248\n",
       "\n",
       "\n"
      ],
      "text/plain": [
       "[1] -0.12329733  0.48164797 -0.07990133  0.19806316"
      ]
     },
     "metadata": {},
     "output_type": "display_data"
    },
    {
     "data": {
      "text/html": [
       "<ol class=list-inline>\n",
       "\t<li>-0.538263481671787</li>\n",
       "\t<li>0.290646681303567</li>\n",
       "\t<li>0.077277897162081</li>\n",
       "\t<li>0.147566220677616</li>\n",
       "</ol>\n"
      ],
      "text/latex": [
       "\\begin{enumerate*}\n",
       "\\item -0.538263481671787\n",
       "\\item 0.290646681303567\n",
       "\\item 0.077277897162081\n",
       "\\item 0.147566220677616\n",
       "\\end{enumerate*}\n"
      ],
      "text/markdown": [
       "1. -0.538263481671787\n",
       "2. 0.290646681303567\n",
       "3. 0.077277897162081\n",
       "4. 0.147566220677616\n",
       "\n",
       "\n"
      ],
      "text/plain": [
       "[1] -0.5382635  0.2906467  0.0772779  0.1475662"
      ]
     },
     "metadata": {},
     "output_type": "display_data"
    },
    {
     "data": {
      "text/html": [
       "<ol class=list-inline>\n",
       "\t<li>-0.538263481671787</li>\n",
       "\t<li>0.290646681303567</li>\n",
       "\t<li>0.077277897162081</li>\n",
       "\t<li>0.147566220677616</li>\n",
       "</ol>\n"
      ],
      "text/latex": [
       "\\begin{enumerate*}\n",
       "\\item -0.538263481671787\n",
       "\\item 0.290646681303567\n",
       "\\item 0.077277897162081\n",
       "\\item 0.147566220677616\n",
       "\\end{enumerate*}\n"
      ],
      "text/markdown": [
       "1. -0.538263481671787\n",
       "2. 0.290646681303567\n",
       "3. 0.077277897162081\n",
       "4. 0.147566220677616\n",
       "\n",
       "\n"
      ],
      "text/plain": [
       "[1] -0.5382635  0.2906467  0.0772779  0.1475662"
      ]
     },
     "metadata": {},
     "output_type": "display_data"
    },
    {
     "data": {
      "text/html": [
       "<ol class=list-inline>\n",
       "\t<li>0.670188631130836</li>\n",
       "\t<li>1.11179411977697</li>\n",
       "\t<li>1.70593281342347</li>\n",
       "\t<li>1.076050103559</li>\n",
       "</ol>\n"
      ],
      "text/latex": [
       "\\begin{enumerate*}\n",
       "\\item 0.670188631130836\n",
       "\\item 1.11179411977697\n",
       "\\item 1.70593281342347\n",
       "\\item 1.076050103559\n",
       "\\end{enumerate*}\n"
      ],
      "text/markdown": [
       "1. 0.670188631130836\n",
       "2. 1.11179411977697\n",
       "3. 1.70593281342347\n",
       "4. 1.076050103559\n",
       "\n",
       "\n"
      ],
      "text/plain": [
       "[1] 0.6701886 1.1117941 1.7059328 1.0760501"
      ]
     },
     "metadata": {},
     "output_type": "display_data"
    }
   ],
   "source": [
    "# Define col_summary function\n",
    "col_summary <- function(df, fun) {\n",
    "    output <- numeric(length(df))\n",
    "    for (i in seq_along(df)) {\n",
    "        output[i] <- fun(df[[i]])\n",
    "    }\n",
    "    output\n",
    "}\n",
    "\n",
    "# Find the column medians using col_median() and col_summary()\n",
    "col_median(df)\n",
    "col_summary(df, median)\n",
    "\n",
    "# Find the column means using col_mean() and col_summary()\n",
    "col_mean(df)\n",
    "col_summary(df, mean)\n",
    "\n",
    "# Find the column IQRs using col_summary()\n",
    "col_summary(df, IQR)"
   ]
  },
  {
   "cell_type": "markdown",
   "metadata": {},
   "source": [
    "## Introducing purrr\n",
    "\n",
    "### Passing functions as arguments\n",
    "\n",
    "```\n",
    "sapply(df, mean)\n",
    "\n",
    "# Has very similar syntax to \n",
    "col_summary(df, mean)\n",
    "\n",
    "# Using purrr\n",
    "library(purrr)\n",
    "map_dbl(df, mean)\n",
    "```\n",
    "\n",
    "### Every map function works the same way\n",
    "\n",
    "\n",
    "> map_dbl(.x, .f, ...)\n",
    "\n",
    "1. Loop over a vector .x\n",
    "2. Do something to each elevemnt .f\n",
    "3. Return the results\n",
    "\n",
    "### The map functions differ in their return type\n",
    "\n",
    "There's one function for each type of vector:\n",
    "    - map() returns a list\n",
    "    - map_dbl() returns a double vector\n",
    "    - map_lgl() returns a logical vector\n",
    "    - map_int() returns a integer vector\n",
    "    - map_chr() returns a character vector\n",
    "    \n",
    "### Different types of vector input\n",
    "\n",
    "> map(.x, .f, ...)\n",
    "\n",
    "* .x is always a vector\n",
    "\n",
    "```\n",
    "df <- data.frame(a = 1:10, b = 11:20)\n",
    "map(df, mean)\n",
    "```\n",
    "\n",
    "* Data frames, iterate over columns\n",
    "\n",
    "```\n",
    "l <- list(a = 1:10, b = 11:20)\n",
    "map(l, mean)\n",
    "```\n",
    "\n",
    "* Lists, iterate over elements\n",
    "\n",
    "```\n",
    "vec <- c(a = 1, b = 2)\n",
    "map(vec, mean)\n",
    "```\n",
    "\n",
    "* Vectors, iterate over elements\n",
    "\n",
    "### Advantages of the map functions in purrr\n",
    "\n",
    "* Handy shorcuts for specifying .f\n",
    "* More consistent than sapply(), lapply(), which makes them better for programming(Chapter 5)\n",
    "* Takes much less time to solve iteration problems"
   ]
  },
  {
   "cell_type": "markdown",
   "metadata": {},
   "source": [
    "### The map functions"
   ]
  },
  {
   "cell_type": "code",
   "execution_count": 15,
   "metadata": {},
   "outputs": [
    {
     "data": {
      "text/html": [
       "<dl class=dl-horizontal>\n",
       "\t<dt>a</dt>\n",
       "\t\t<dd>-0.538263481671787</dd>\n",
       "\t<dt>b</dt>\n",
       "\t\t<dd>0.290646681303567</dd>\n",
       "\t<dt>c</dt>\n",
       "\t\t<dd>0.077277897162081</dd>\n",
       "\t<dt>d</dt>\n",
       "\t\t<dd>0.147566220677616</dd>\n",
       "</dl>\n"
      ],
      "text/latex": [
       "\\begin{description*}\n",
       "\\item[a] -0.538263481671787\n",
       "\\item[b] 0.290646681303567\n",
       "\\item[c] 0.077277897162081\n",
       "\\item[d] 0.147566220677616\n",
       "\\end{description*}\n"
      ],
      "text/markdown": [
       "a\n",
       ":   -0.538263481671787b\n",
       ":   0.290646681303567c\n",
       ":   0.077277897162081d\n",
       ":   0.147566220677616\n",
       "\n"
      ],
      "text/plain": [
       "         a          b          c          d \n",
       "-0.5382635  0.2906467  0.0772779  0.1475662 "
      ]
     },
     "metadata": {},
     "output_type": "display_data"
    },
    {
     "data": {
      "text/html": [
       "<dl class=dl-horizontal>\n",
       "\t<dt>a</dt>\n",
       "\t\t<dd>-0.123297327195778</dd>\n",
       "\t<dt>b</dt>\n",
       "\t\t<dd>0.481647969921349</dd>\n",
       "\t<dt>c</dt>\n",
       "\t\t<dd>-0.0799013273478845</dd>\n",
       "\t<dt>d</dt>\n",
       "\t\t<dd>0.198063157592248</dd>\n",
       "</dl>\n"
      ],
      "text/latex": [
       "\\begin{description*}\n",
       "\\item[a] -0.123297327195778\n",
       "\\item[b] 0.481647969921349\n",
       "\\item[c] -0.0799013273478845\n",
       "\\item[d] 0.198063157592248\n",
       "\\end{description*}\n"
      ],
      "text/markdown": [
       "a\n",
       ":   -0.123297327195778b\n",
       ":   0.481647969921349c\n",
       ":   -0.0799013273478845d\n",
       ":   0.198063157592248\n",
       "\n"
      ],
      "text/plain": [
       "          a           b           c           d \n",
       "-0.12329733  0.48164797 -0.07990133  0.19806316 "
      ]
     },
     "metadata": {},
     "output_type": "display_data"
    },
    {
     "data": {
      "text/html": [
       "<dl class=dl-horizontal>\n",
       "\t<dt>a</dt>\n",
       "\t\t<dd>1.13715797388042</dd>\n",
       "\t<dt>b</dt>\n",
       "\t\t<dd>1.46532723687856</dd>\n",
       "\t<dt>c</dt>\n",
       "\t\t<dd>1.03363243250769</dd>\n",
       "\t<dt>d</dt>\n",
       "\t\t<dd>0.774251455229373</dd>\n",
       "</dl>\n"
      ],
      "text/latex": [
       "\\begin{description*}\n",
       "\\item[a] 1.13715797388042\n",
       "\\item[b] 1.46532723687856\n",
       "\\item[c] 1.03363243250769\n",
       "\\item[d] 0.774251455229373\n",
       "\\end{description*}\n"
      ],
      "text/markdown": [
       "a\n",
       ":   1.13715797388042b\n",
       ":   1.46532723687856c\n",
       ":   1.03363243250769d\n",
       ":   0.774251455229373\n",
       "\n"
      ],
      "text/plain": [
       "        a         b         c         d \n",
       "1.1371580 1.4653272 1.0336324 0.7742515 "
      ]
     },
     "metadata": {},
     "output_type": "display_data"
    }
   ],
   "source": [
    "# Load the purrr package\n",
    "library(purrr)\n",
    "\n",
    "# Use map_dbl() to find column means\n",
    "map_dbl(df, mean)\n",
    "\n",
    "# Use map_dbl() to column medians\n",
    "map_dbl(df, median)\n",
    "\n",
    "# Use map_dbl() to find column standard deviations\n",
    "map_dbl(df, sd)"
   ]
  },
  {
   "cell_type": "markdown",
   "metadata": {},
   "source": [
    "### The ... argument to the map function"
   ]
  },
  {
   "cell_type": "code",
   "execution_count": 21,
   "metadata": {},
   "outputs": [
    {
     "data": {
      "text/html": [
       "<dl class=dl-horizontal>\n",
       "\t<dt>a</dt>\n",
       "\t\t<dd>-0.538263481671787</dd>\n",
       "\t<dt>b</dt>\n",
       "\t\t<dd>0.290646681303567</dd>\n",
       "\t<dt>c</dt>\n",
       "\t\t<dd>0.077277897162081</dd>\n",
       "\t<dt>d</dt>\n",
       "\t\t<dd>0.147566220677616</dd>\n",
       "</dl>\n"
      ],
      "text/latex": [
       "\\begin{description*}\n",
       "\\item[a] -0.538263481671787\n",
       "\\item[b] 0.290646681303567\n",
       "\\item[c] 0.077277897162081\n",
       "\\item[d] 0.147566220677616\n",
       "\\end{description*}\n"
      ],
      "text/markdown": [
       "a\n",
       ":   -0.538263481671787b\n",
       ":   0.290646681303567c\n",
       ":   0.077277897162081d\n",
       ":   0.147566220677616\n",
       "\n"
      ],
      "text/plain": [
       "         a          b          c          d \n",
       "-0.5382635  0.2906467  0.0772779  0.1475662 "
      ]
     },
     "metadata": {},
     "output_type": "display_data"
    },
    {
     "data": {
      "text/html": [
       "<dl class=dl-horizontal>\n",
       "\t<dt>a</dt>\n",
       "\t\t<dd>-0.538263481671787</dd>\n",
       "\t<dt>b</dt>\n",
       "\t\t<dd>0.290646681303567</dd>\n",
       "\t<dt>c</dt>\n",
       "\t\t<dd>0.077277897162081</dd>\n",
       "\t<dt>d</dt>\n",
       "\t\t<dd>0.147566220677616</dd>\n",
       "</dl>\n"
      ],
      "text/latex": [
       "\\begin{description*}\n",
       "\\item[a] -0.538263481671787\n",
       "\\item[b] 0.290646681303567\n",
       "\\item[c] 0.077277897162081\n",
       "\\item[d] 0.147566220677616\n",
       "\\end{description*}\n"
      ],
      "text/markdown": [
       "a\n",
       ":   -0.538263481671787b\n",
       ":   0.290646681303567c\n",
       ":   0.077277897162081d\n",
       ":   0.147566220677616\n",
       "\n"
      ],
      "text/plain": [
       "         a          b          c          d \n",
       "-0.5382635  0.2906467  0.0772779  0.1475662 "
      ]
     },
     "metadata": {},
     "output_type": "display_data"
    },
    {
     "data": {
      "text/html": [
       "<dl class=dl-horizontal>\n",
       "\t<dt>a</dt>\n",
       "\t\t<dd>-2.59054814975068</dd>\n",
       "\t<dt>b</dt>\n",
       "\t\t<dd>-2.13464319673603</dd>\n",
       "\t<dt>c</dt>\n",
       "\t\t<dd>-0.95500946649692</dd>\n",
       "\t<dt>d</dt>\n",
       "\t\t<dd>-0.963725626669388</dd>\n",
       "</dl>\n"
      ],
      "text/latex": [
       "\\begin{description*}\n",
       "\\item[a] -2.59054814975068\n",
       "\\item[b] -2.13464319673603\n",
       "\\item[c] -0.95500946649692\n",
       "\\item[d] -0.963725626669388\n",
       "\\end{description*}\n"
      ],
      "text/markdown": [
       "a\n",
       ":   -2.59054814975068b\n",
       ":   -2.13464319673603c\n",
       ":   -0.95500946649692d\n",
       ":   -0.963725626669388\n",
       "\n"
      ],
      "text/plain": [
       "         a          b          c          d \n",
       "-2.5905481 -2.1346432 -0.9550095 -0.9637256 "
      ]
     },
     "metadata": {},
     "output_type": "display_data"
    }
   ],
   "source": [
    "library(nycflights13)\n",
    "# Find the mean of each column\n",
    "map_dbl(df, mean)\n",
    "\n",
    "# Find the mean of each column, excluding missing values\n",
    "map_dbl(df, mean, na.rm = TRUE)\n",
    "\n",
    "# Find the 5th percentile of each column, excluding missing values\n",
    "map_dbl(df, quantile, probs = 0.05, na.rm = TRUE)"
   ]
  },
  {
   "cell_type": "markdown",
   "metadata": {},
   "source": [
    "### Picking the right map function"
   ]
  },
  {
   "cell_type": "code",
   "execution_count": 22,
   "metadata": {},
   "outputs": [
    {
     "data": {
      "text/html": [
       "<dl class=dl-horizontal>\n",
       "\t<dt>A</dt>\n",
       "\t\t<dd>TRUE</dd>\n",
       "\t<dt>B</dt>\n",
       "\t\t<dd>FALSE</dd>\n",
       "\t<dt>C</dt>\n",
       "\t\t<dd>TRUE</dd>\n",
       "\t<dt>D</dt>\n",
       "\t\t<dd>TRUE</dd>\n",
       "</dl>\n"
      ],
      "text/latex": [
       "\\begin{description*}\n",
       "\\item[A] TRUE\n",
       "\\item[B] FALSE\n",
       "\\item[C] TRUE\n",
       "\\item[D] TRUE\n",
       "\\end{description*}\n"
      ],
      "text/markdown": [
       "A\n",
       ":   TRUEB\n",
       ":   FALSEC\n",
       ":   TRUED\n",
       ":   TRUE\n",
       "\n"
      ],
      "text/plain": [
       "    A     B     C     D \n",
       " TRUE FALSE  TRUE  TRUE "
      ]
     },
     "metadata": {},
     "output_type": "display_data"
    },
    {
     "data": {
      "text/html": [
       "<dl class=dl-horizontal>\n",
       "\t<dt>A</dt>\n",
       "\t\t<dd>'double'</dd>\n",
       "\t<dt>B</dt>\n",
       "\t\t<dd>'integer'</dd>\n",
       "\t<dt>C</dt>\n",
       "\t\t<dd>'integer'</dd>\n",
       "\t<dt>D</dt>\n",
       "\t\t<dd>'double'</dd>\n",
       "</dl>\n"
      ],
      "text/latex": [
       "\\begin{description*}\n",
       "\\item[A] 'double'\n",
       "\\item[B] 'integer'\n",
       "\\item[C] 'integer'\n",
       "\\item[D] 'double'\n",
       "\\end{description*}\n"
      ],
      "text/markdown": [
       "A\n",
       ":   'double'B\n",
       ":   'integer'C\n",
       ":   'integer'D\n",
       ":   'double'\n",
       "\n"
      ],
      "text/plain": [
       "        A         B         C         D \n",
       " \"double\" \"integer\" \"integer\"  \"double\" "
      ]
     },
     "metadata": {},
     "output_type": "display_data"
    },
    {
     "data": {
      "text/plain": [
       "$A\n",
       "   Min. 1st Qu.  Median    Mean 3rd Qu.    Max. \n",
       " -1.820   0.350   0.840   0.491   1.008   1.730 \n",
       "\n",
       "$B\n",
       "A B \n",
       "5 5 \n",
       "\n",
       "$C\n",
       "   Min. 1st Qu.  Median    Mean 3rd Qu.    Max. \n",
       "   1.00    3.25    5.50    5.50    7.75   10.00 \n",
       "\n",
       "$D\n",
       "   Min. 1st Qu.  Median    Mean 3rd Qu.    Max. \n",
       " -0.760  -0.550  -0.220  -0.058   0.125   1.230 \n"
      ]
     },
     "metadata": {},
     "output_type": "display_data"
    }
   ],
   "source": [
    "df3 <- data.frame(A = c(0.82, 0.21, 1.04, -0.85, 0.86,\n",
    "                       -1.82, 0.77, 1.24, 1.73, 0.91),\n",
    "                 B = c(\"A\", \"B\"),\n",
    "                 C = 1:10,\n",
    "                 D = c(0.88, -0.65, -0.10, -0.31, -0.31,\n",
    "                       -0.76, 1.23, -0.63, 0.2, -0.13))\n",
    "\n",
    "# Find the columns that are numeric\n",
    "map_lgl(df3, is.numeric)\n",
    "\n",
    "# Find the type of each column\n",
    "map_chr(df3, typeof)\n",
    "\n",
    "# Find a summary of each column\n",
    "map(df3, summary)"
   ]
  },
  {
   "cell_type": "markdown",
   "metadata": {},
   "source": [
    "## Shortcuts\n",
    "\n",
    "### Shortcuts for specifying .f\n",
    "\n",
    "### Specifying .f\n",
    "\n",
    "> map(df, summary)\n",
    "\n",
    "An existing function\n",
    "\n",
    "> map(df, rescale01)\n",
    "\n",
    "An existing function you defined\n",
    "\n",
    "> map(df, function(x) sum(is.na(x)))\n",
    "\n",
    "An anonymous function defined on the fly\n",
    "\n",
    "> map(df, ~ sum(is.na(.)))\n",
    "\n",
    "An anonymous function defined using a formula shortcut\n",
    "\n",
    "### Shortcuts when .f is [[\n",
    "\n",
    "```\n",
    "list_of_results <- list(list(a = 1, b = \"A\"),\n",
    "                        list(a = 2, b = \"C\"),\n",
    "                        list(a = 3, b = \"D\"))\n",
    "\n",
    "# Extract elements under a\n",
    "map_dbl(list_of_results, function(x) x[[\"a\"]]) # An anonymous function\n",
    "\n",
    "map_dbl(list_of_results, \"a\") # Shortcut: string subsetting\n",
    "\n",
    "map_dbl(list_of_results, 1)   # Shortcut: integer subsetting\n",
    "```\n",
    "\n",
    "### A list of data frames\n",
    "\n",
    "```\n",
    "# Split the data frame mtcars based on the unique values in the cyl column\n",
    "cyl <- split(mtcars, mtcars[\"cyl\"])\n",
    "\n",
    "str(cyl)\n",
    "\n",
    "cyl[[1]]\n",
    "```"
   ]
  },
  {
   "cell_type": "code",
   "execution_count": 24,
   "metadata": {},
   "outputs": [
    {
     "name": "stdout",
     "output_type": "stream",
     "text": [
      "List of 3\n",
      " $ 4:'data.frame':\t11 obs. of  11 variables:\n",
      "  ..$ mpg : num [1:11] 22.8 24.4 22.8 32.4 30.4 33.9 21.5 27.3 26 30.4 ...\n",
      "  ..$ cyl : num [1:11] 4 4 4 4 4 4 4 4 4 4 ...\n",
      "  ..$ disp: num [1:11] 108 146.7 140.8 78.7 75.7 ...\n",
      "  ..$ hp  : num [1:11] 93 62 95 66 52 65 97 66 91 113 ...\n",
      "  ..$ drat: num [1:11] 3.85 3.69 3.92 4.08 4.93 4.22 3.7 4.08 4.43 3.77 ...\n",
      "  ..$ wt  : num [1:11] 2.32 3.19 3.15 2.2 1.61 ...\n",
      "  ..$ qsec: num [1:11] 18.6 20 22.9 19.5 18.5 ...\n",
      "  ..$ vs  : num [1:11] 1 1 1 1 1 1 1 1 0 1 ...\n",
      "  ..$ am  : num [1:11] 1 0 0 1 1 1 0 1 1 1 ...\n",
      "  ..$ gear: num [1:11] 4 4 4 4 4 4 3 4 5 5 ...\n",
      "  ..$ carb: num [1:11] 1 2 2 1 2 1 1 1 2 2 ...\n",
      " $ 6:'data.frame':\t7 obs. of  11 variables:\n",
      "  ..$ mpg : num [1:7] 21 21 21.4 18.1 19.2 17.8 19.7\n",
      "  ..$ cyl : num [1:7] 6 6 6 6 6 6 6\n",
      "  ..$ disp: num [1:7] 160 160 258 225 168 ...\n",
      "  ..$ hp  : num [1:7] 110 110 110 105 123 123 175\n",
      "  ..$ drat: num [1:7] 3.9 3.9 3.08 2.76 3.92 3.92 3.62\n",
      "  ..$ wt  : num [1:7] 2.62 2.88 3.21 3.46 3.44 ...\n",
      "  ..$ qsec: num [1:7] 16.5 17 19.4 20.2 18.3 ...\n",
      "  ..$ vs  : num [1:7] 0 0 1 1 1 1 0\n",
      "  ..$ am  : num [1:7] 1 1 0 0 0 0 1\n",
      "  ..$ gear: num [1:7] 4 4 3 3 4 4 5\n",
      "  ..$ carb: num [1:7] 4 4 1 1 4 4 6\n",
      " $ 8:'data.frame':\t14 obs. of  11 variables:\n",
      "  ..$ mpg : num [1:14] 18.7 14.3 16.4 17.3 15.2 10.4 10.4 14.7 15.5 15.2 ...\n",
      "  ..$ cyl : num [1:14] 8 8 8 8 8 8 8 8 8 8 ...\n",
      "  ..$ disp: num [1:14] 360 360 276 276 276 ...\n",
      "  ..$ hp  : num [1:14] 175 245 180 180 180 205 215 230 150 150 ...\n",
      "  ..$ drat: num [1:14] 3.15 3.21 3.07 3.07 3.07 2.93 3 3.23 2.76 3.15 ...\n",
      "  ..$ wt  : num [1:14] 3.44 3.57 4.07 3.73 3.78 ...\n",
      "  ..$ qsec: num [1:14] 17 15.8 17.4 17.6 18 ...\n",
      "  ..$ vs  : num [1:14] 0 0 0 0 0 0 0 0 0 0 ...\n",
      "  ..$ am  : num [1:14] 0 0 0 0 0 0 0 0 0 0 ...\n",
      "  ..$ gear: num [1:14] 3 3 3 3 3 3 3 3 3 3 ...\n",
      "  ..$ carb: num [1:14] 2 4 3 3 3 4 4 4 2 2 ...\n"
     ]
    },
    {
     "data": {
      "text/html": [
       "<table>\n",
       "<thead><tr><th></th><th scope=col>mpg</th><th scope=col>cyl</th><th scope=col>disp</th><th scope=col>hp</th><th scope=col>drat</th><th scope=col>wt</th><th scope=col>qsec</th><th scope=col>vs</th><th scope=col>am</th><th scope=col>gear</th><th scope=col>carb</th></tr></thead>\n",
       "<tbody>\n",
       "\t<tr><th scope=row>Datsun 710</th><td>22.8 </td><td>4    </td><td>108.0</td><td> 93  </td><td>3.85 </td><td>2.320</td><td>18.61</td><td>1    </td><td>1    </td><td>4    </td><td>1    </td></tr>\n",
       "\t<tr><th scope=row>Merc 240D</th><td>24.4 </td><td>4    </td><td>146.7</td><td> 62  </td><td>3.69 </td><td>3.190</td><td>20.00</td><td>1    </td><td>0    </td><td>4    </td><td>2    </td></tr>\n",
       "\t<tr><th scope=row>Merc 230</th><td>22.8 </td><td>4    </td><td>140.8</td><td> 95  </td><td>3.92 </td><td>3.150</td><td>22.90</td><td>1    </td><td>0    </td><td>4    </td><td>2    </td></tr>\n",
       "\t<tr><th scope=row>Fiat 128</th><td>32.4 </td><td>4    </td><td> 78.7</td><td> 66  </td><td>4.08 </td><td>2.200</td><td>19.47</td><td>1    </td><td>1    </td><td>4    </td><td>1    </td></tr>\n",
       "\t<tr><th scope=row>Honda Civic</th><td>30.4 </td><td>4    </td><td> 75.7</td><td> 52  </td><td>4.93 </td><td>1.615</td><td>18.52</td><td>1    </td><td>1    </td><td>4    </td><td>2    </td></tr>\n",
       "\t<tr><th scope=row>Toyota Corolla</th><td>33.9 </td><td>4    </td><td> 71.1</td><td> 65  </td><td>4.22 </td><td>1.835</td><td>19.90</td><td>1    </td><td>1    </td><td>4    </td><td>1    </td></tr>\n",
       "\t<tr><th scope=row>Toyota Corona</th><td>21.5 </td><td>4    </td><td>120.1</td><td> 97  </td><td>3.70 </td><td>2.465</td><td>20.01</td><td>1    </td><td>0    </td><td>3    </td><td>1    </td></tr>\n",
       "\t<tr><th scope=row>Fiat X1-9</th><td>27.3 </td><td>4    </td><td> 79.0</td><td> 66  </td><td>4.08 </td><td>1.935</td><td>18.90</td><td>1    </td><td>1    </td><td>4    </td><td>1    </td></tr>\n",
       "\t<tr><th scope=row>Porsche 914-2</th><td>26.0 </td><td>4    </td><td>120.3</td><td> 91  </td><td>4.43 </td><td>2.140</td><td>16.70</td><td>0    </td><td>1    </td><td>5    </td><td>2    </td></tr>\n",
       "\t<tr><th scope=row>Lotus Europa</th><td>30.4 </td><td>4    </td><td> 95.1</td><td>113  </td><td>3.77 </td><td>1.513</td><td>16.90</td><td>1    </td><td>1    </td><td>5    </td><td>2    </td></tr>\n",
       "\t<tr><th scope=row>Volvo 142E</th><td>21.4 </td><td>4    </td><td>121.0</td><td>109  </td><td>4.11 </td><td>2.780</td><td>18.60</td><td>1    </td><td>1    </td><td>4    </td><td>2    </td></tr>\n",
       "</tbody>\n",
       "</table>\n"
      ],
      "text/latex": [
       "\\begin{tabular}{r|lllllllllll}\n",
       "  & mpg & cyl & disp & hp & drat & wt & qsec & vs & am & gear & carb\\\\\n",
       "\\hline\n",
       "\tDatsun 710 & 22.8  & 4     & 108.0 &  93   & 3.85  & 2.320 & 18.61 & 1     & 1     & 4     & 1    \\\\\n",
       "\tMerc 240D & 24.4  & 4     & 146.7 &  62   & 3.69  & 3.190 & 20.00 & 1     & 0     & 4     & 2    \\\\\n",
       "\tMerc 230 & 22.8  & 4     & 140.8 &  95   & 3.92  & 3.150 & 22.90 & 1     & 0     & 4     & 2    \\\\\n",
       "\tFiat 128 & 32.4  & 4     &  78.7 &  66   & 4.08  & 2.200 & 19.47 & 1     & 1     & 4     & 1    \\\\\n",
       "\tHonda Civic & 30.4  & 4     &  75.7 &  52   & 4.93  & 1.615 & 18.52 & 1     & 1     & 4     & 2    \\\\\n",
       "\tToyota Corolla & 33.9  & 4     &  71.1 &  65   & 4.22  & 1.835 & 19.90 & 1     & 1     & 4     & 1    \\\\\n",
       "\tToyota Corona & 21.5  & 4     & 120.1 &  97   & 3.70  & 2.465 & 20.01 & 1     & 0     & 3     & 1    \\\\\n",
       "\tFiat X1-9 & 27.3  & 4     &  79.0 &  66   & 4.08  & 1.935 & 18.90 & 1     & 1     & 4     & 1    \\\\\n",
       "\tPorsche 914-2 & 26.0  & 4     & 120.3 &  91   & 4.43  & 2.140 & 16.70 & 0     & 1     & 5     & 2    \\\\\n",
       "\tLotus Europa & 30.4  & 4     &  95.1 & 113   & 3.77  & 1.513 & 16.90 & 1     & 1     & 5     & 2    \\\\\n",
       "\tVolvo 142E & 21.4  & 4     & 121.0 & 109   & 4.11  & 2.780 & 18.60 & 1     & 1     & 4     & 2    \\\\\n",
       "\\end{tabular}\n"
      ],
      "text/markdown": [
       "\n",
       "| <!--/--> | mpg | cyl | disp | hp | drat | wt | qsec | vs | am | gear | carb | \n",
       "|---|---|---|---|---|---|---|---|---|---|---|\n",
       "| Datsun 710 | 22.8  | 4     | 108.0 |  93   | 3.85  | 2.320 | 18.61 | 1     | 1     | 4     | 1     | \n",
       "| Merc 240D | 24.4  | 4     | 146.7 |  62   | 3.69  | 3.190 | 20.00 | 1     | 0     | 4     | 2     | \n",
       "| Merc 230 | 22.8  | 4     | 140.8 |  95   | 3.92  | 3.150 | 22.90 | 1     | 0     | 4     | 2     | \n",
       "| Fiat 128 | 32.4  | 4     |  78.7 |  66   | 4.08  | 2.200 | 19.47 | 1     | 1     | 4     | 1     | \n",
       "| Honda Civic | 30.4  | 4     |  75.7 |  52   | 4.93  | 1.615 | 18.52 | 1     | 1     | 4     | 2     | \n",
       "| Toyota Corolla | 33.9  | 4     |  71.1 |  65   | 4.22  | 1.835 | 19.90 | 1     | 1     | 4     | 1     | \n",
       "| Toyota Corona | 21.5  | 4     | 120.1 |  97   | 3.70  | 2.465 | 20.01 | 1     | 0     | 3     | 1     | \n",
       "| Fiat X1-9 | 27.3  | 4     |  79.0 |  66   | 4.08  | 1.935 | 18.90 | 1     | 1     | 4     | 1     | \n",
       "| Porsche 914-2 | 26.0  | 4     | 120.3 |  91   | 4.43  | 2.140 | 16.70 | 0     | 1     | 5     | 2     | \n",
       "| Lotus Europa | 30.4  | 4     |  95.1 | 113   | 3.77  | 1.513 | 16.90 | 1     | 1     | 5     | 2     | \n",
       "| Volvo 142E | 21.4  | 4     | 121.0 | 109   | 4.11  | 2.780 | 18.60 | 1     | 1     | 4     | 2     | \n",
       "\n",
       "\n"
      ],
      "text/plain": [
       "               mpg  cyl disp  hp  drat wt    qsec  vs am gear carb\n",
       "Datsun 710     22.8 4   108.0  93 3.85 2.320 18.61 1  1  4    1   \n",
       "Merc 240D      24.4 4   146.7  62 3.69 3.190 20.00 1  0  4    2   \n",
       "Merc 230       22.8 4   140.8  95 3.92 3.150 22.90 1  0  4    2   \n",
       "Fiat 128       32.4 4    78.7  66 4.08 2.200 19.47 1  1  4    1   \n",
       "Honda Civic    30.4 4    75.7  52 4.93 1.615 18.52 1  1  4    2   \n",
       "Toyota Corolla 33.9 4    71.1  65 4.22 1.835 19.90 1  1  4    1   \n",
       "Toyota Corona  21.5 4   120.1  97 3.70 2.465 20.01 1  0  3    1   \n",
       "Fiat X1-9      27.3 4    79.0  66 4.08 1.935 18.90 1  1  4    1   \n",
       "Porsche 914-2  26.0 4   120.3  91 4.43 2.140 16.70 0  1  5    2   \n",
       "Lotus Europa   30.4 4    95.1 113 3.77 1.513 16.90 1  1  5    2   \n",
       "Volvo 142E     21.4 4   121.0 109 4.11 2.780 18.60 1  1  4    2   "
      ]
     },
     "metadata": {},
     "output_type": "display_data"
    },
    {
     "data": {
      "text/html": [
       "<dl>\n",
       "\t<dt>$`4`</dt>\n",
       "\t\t<dd><table>\n",
       "<thead><tr><th></th><th scope=col>mpg</th><th scope=col>cyl</th><th scope=col>disp</th><th scope=col>hp</th><th scope=col>drat</th><th scope=col>wt</th><th scope=col>qsec</th><th scope=col>vs</th><th scope=col>am</th><th scope=col>gear</th><th scope=col>carb</th></tr></thead>\n",
       "<tbody>\n",
       "\t<tr><th scope=row>Datsun 710</th><td>22.8 </td><td>4    </td><td>108.0</td><td> 93  </td><td>3.85 </td><td>2.320</td><td>18.61</td><td>1    </td><td>1    </td><td>4    </td><td>1    </td></tr>\n",
       "\t<tr><th scope=row>Merc 240D</th><td>24.4 </td><td>4    </td><td>146.7</td><td> 62  </td><td>3.69 </td><td>3.190</td><td>20.00</td><td>1    </td><td>0    </td><td>4    </td><td>2    </td></tr>\n",
       "\t<tr><th scope=row>Merc 230</th><td>22.8 </td><td>4    </td><td>140.8</td><td> 95  </td><td>3.92 </td><td>3.150</td><td>22.90</td><td>1    </td><td>0    </td><td>4    </td><td>2    </td></tr>\n",
       "\t<tr><th scope=row>Fiat 128</th><td>32.4 </td><td>4    </td><td> 78.7</td><td> 66  </td><td>4.08 </td><td>2.200</td><td>19.47</td><td>1    </td><td>1    </td><td>4    </td><td>1    </td></tr>\n",
       "\t<tr><th scope=row>Honda Civic</th><td>30.4 </td><td>4    </td><td> 75.7</td><td> 52  </td><td>4.93 </td><td>1.615</td><td>18.52</td><td>1    </td><td>1    </td><td>4    </td><td>2    </td></tr>\n",
       "\t<tr><th scope=row>Toyota Corolla</th><td>33.9 </td><td>4    </td><td> 71.1</td><td> 65  </td><td>4.22 </td><td>1.835</td><td>19.90</td><td>1    </td><td>1    </td><td>4    </td><td>1    </td></tr>\n",
       "\t<tr><th scope=row>Toyota Corona</th><td>21.5 </td><td>4    </td><td>120.1</td><td> 97  </td><td>3.70 </td><td>2.465</td><td>20.01</td><td>1    </td><td>0    </td><td>3    </td><td>1    </td></tr>\n",
       "\t<tr><th scope=row>Fiat X1-9</th><td>27.3 </td><td>4    </td><td> 79.0</td><td> 66  </td><td>4.08 </td><td>1.935</td><td>18.90</td><td>1    </td><td>1    </td><td>4    </td><td>1    </td></tr>\n",
       "\t<tr><th scope=row>Porsche 914-2</th><td>26.0 </td><td>4    </td><td>120.3</td><td> 91  </td><td>4.43 </td><td>2.140</td><td>16.70</td><td>0    </td><td>1    </td><td>5    </td><td>2    </td></tr>\n",
       "\t<tr><th scope=row>Lotus Europa</th><td>30.4 </td><td>4    </td><td> 95.1</td><td>113  </td><td>3.77 </td><td>1.513</td><td>16.90</td><td>1    </td><td>1    </td><td>5    </td><td>2    </td></tr>\n",
       "\t<tr><th scope=row>Volvo 142E</th><td>21.4 </td><td>4    </td><td>121.0</td><td>109  </td><td>4.11 </td><td>2.780</td><td>18.60</td><td>1    </td><td>1    </td><td>4    </td><td>2    </td></tr>\n",
       "</tbody>\n",
       "</table>\n",
       "</dd>\n",
       "\t<dt>$`6`</dt>\n",
       "\t\t<dd><table>\n",
       "<thead><tr><th></th><th scope=col>mpg</th><th scope=col>cyl</th><th scope=col>disp</th><th scope=col>hp</th><th scope=col>drat</th><th scope=col>wt</th><th scope=col>qsec</th><th scope=col>vs</th><th scope=col>am</th><th scope=col>gear</th><th scope=col>carb</th></tr></thead>\n",
       "<tbody>\n",
       "\t<tr><th scope=row>Mazda RX4</th><td>21.0 </td><td>6    </td><td>160.0</td><td>110  </td><td>3.90 </td><td>2.620</td><td>16.46</td><td>0    </td><td>1    </td><td>4    </td><td>4    </td></tr>\n",
       "\t<tr><th scope=row>Mazda RX4 Wag</th><td>21.0 </td><td>6    </td><td>160.0</td><td>110  </td><td>3.90 </td><td>2.875</td><td>17.02</td><td>0    </td><td>1    </td><td>4    </td><td>4    </td></tr>\n",
       "\t<tr><th scope=row>Hornet 4 Drive</th><td>21.4 </td><td>6    </td><td>258.0</td><td>110  </td><td>3.08 </td><td>3.215</td><td>19.44</td><td>1    </td><td>0    </td><td>3    </td><td>1    </td></tr>\n",
       "\t<tr><th scope=row>Valiant</th><td>18.1 </td><td>6    </td><td>225.0</td><td>105  </td><td>2.76 </td><td>3.460</td><td>20.22</td><td>1    </td><td>0    </td><td>3    </td><td>1    </td></tr>\n",
       "\t<tr><th scope=row>Merc 280</th><td>19.2 </td><td>6    </td><td>167.6</td><td>123  </td><td>3.92 </td><td>3.440</td><td>18.30</td><td>1    </td><td>0    </td><td>4    </td><td>4    </td></tr>\n",
       "\t<tr><th scope=row>Merc 280C</th><td>17.8 </td><td>6    </td><td>167.6</td><td>123  </td><td>3.92 </td><td>3.440</td><td>18.90</td><td>1    </td><td>0    </td><td>4    </td><td>4    </td></tr>\n",
       "\t<tr><th scope=row>Ferrari Dino</th><td>19.7 </td><td>6    </td><td>145.0</td><td>175  </td><td>3.62 </td><td>2.770</td><td>15.50</td><td>0    </td><td>1    </td><td>5    </td><td>6    </td></tr>\n",
       "</tbody>\n",
       "</table>\n",
       "</dd>\n",
       "\t<dt>$`8`</dt>\n",
       "\t\t<dd><table>\n",
       "<thead><tr><th></th><th scope=col>mpg</th><th scope=col>cyl</th><th scope=col>disp</th><th scope=col>hp</th><th scope=col>drat</th><th scope=col>wt</th><th scope=col>qsec</th><th scope=col>vs</th><th scope=col>am</th><th scope=col>gear</th><th scope=col>carb</th></tr></thead>\n",
       "<tbody>\n",
       "\t<tr><th scope=row>Hornet Sportabout</th><td>18.7 </td><td>8    </td><td>360.0</td><td>175  </td><td>3.15 </td><td>3.440</td><td>17.02</td><td>0    </td><td>0    </td><td>3    </td><td>2    </td></tr>\n",
       "\t<tr><th scope=row>Duster 360</th><td>14.3 </td><td>8    </td><td>360.0</td><td>245  </td><td>3.21 </td><td>3.570</td><td>15.84</td><td>0    </td><td>0    </td><td>3    </td><td>4    </td></tr>\n",
       "\t<tr><th scope=row>Merc 450SE</th><td>16.4 </td><td>8    </td><td>275.8</td><td>180  </td><td>3.07 </td><td>4.070</td><td>17.40</td><td>0    </td><td>0    </td><td>3    </td><td>3    </td></tr>\n",
       "\t<tr><th scope=row>Merc 450SL</th><td>17.3 </td><td>8    </td><td>275.8</td><td>180  </td><td>3.07 </td><td>3.730</td><td>17.60</td><td>0    </td><td>0    </td><td>3    </td><td>3    </td></tr>\n",
       "\t<tr><th scope=row>Merc 450SLC</th><td>15.2 </td><td>8    </td><td>275.8</td><td>180  </td><td>3.07 </td><td>3.780</td><td>18.00</td><td>0    </td><td>0    </td><td>3    </td><td>3    </td></tr>\n",
       "\t<tr><th scope=row>Cadillac Fleetwood</th><td>10.4 </td><td>8    </td><td>472.0</td><td>205  </td><td>2.93 </td><td>5.250</td><td>17.98</td><td>0    </td><td>0    </td><td>3    </td><td>4    </td></tr>\n",
       "\t<tr><th scope=row>Lincoln Continental</th><td>10.4 </td><td>8    </td><td>460.0</td><td>215  </td><td>3.00 </td><td>5.424</td><td>17.82</td><td>0    </td><td>0    </td><td>3    </td><td>4    </td></tr>\n",
       "\t<tr><th scope=row>Chrysler Imperial</th><td>14.7 </td><td>8    </td><td>440.0</td><td>230  </td><td>3.23 </td><td>5.345</td><td>17.42</td><td>0    </td><td>0    </td><td>3    </td><td>4    </td></tr>\n",
       "\t<tr><th scope=row>Dodge Challenger</th><td>15.5 </td><td>8    </td><td>318.0</td><td>150  </td><td>2.76 </td><td>3.520</td><td>16.87</td><td>0    </td><td>0    </td><td>3    </td><td>2    </td></tr>\n",
       "\t<tr><th scope=row>AMC Javelin</th><td>15.2 </td><td>8    </td><td>304.0</td><td>150  </td><td>3.15 </td><td>3.435</td><td>17.30</td><td>0    </td><td>0    </td><td>3    </td><td>2    </td></tr>\n",
       "\t<tr><th scope=row>Camaro Z28</th><td>13.3 </td><td>8    </td><td>350.0</td><td>245  </td><td>3.73 </td><td>3.840</td><td>15.41</td><td>0    </td><td>0    </td><td>3    </td><td>4    </td></tr>\n",
       "\t<tr><th scope=row>Pontiac Firebird</th><td>19.2 </td><td>8    </td><td>400.0</td><td>175  </td><td>3.08 </td><td>3.845</td><td>17.05</td><td>0    </td><td>0    </td><td>3    </td><td>2    </td></tr>\n",
       "\t<tr><th scope=row>Ford Pantera L</th><td>15.8 </td><td>8    </td><td>351.0</td><td>264  </td><td>4.22 </td><td>3.170</td><td>14.50</td><td>0    </td><td>1    </td><td>5    </td><td>4    </td></tr>\n",
       "\t<tr><th scope=row>Maserati Bora</th><td>15.0 </td><td>8    </td><td>301.0</td><td>335  </td><td>3.54 </td><td>3.570</td><td>14.60</td><td>0    </td><td>1    </td><td>5    </td><td>8    </td></tr>\n",
       "</tbody>\n",
       "</table>\n",
       "</dd>\n",
       "</dl>\n"
      ],
      "text/latex": [
       "\\begin{description}\n",
       "\\item[\\$`4`] \\begin{tabular}{r|lllllllllll}\n",
       "  & mpg & cyl & disp & hp & drat & wt & qsec & vs & am & gear & carb\\\\\n",
       "\\hline\n",
       "\tDatsun 710 & 22.8  & 4     & 108.0 &  93   & 3.85  & 2.320 & 18.61 & 1     & 1     & 4     & 1    \\\\\n",
       "\tMerc 240D & 24.4  & 4     & 146.7 &  62   & 3.69  & 3.190 & 20.00 & 1     & 0     & 4     & 2    \\\\\n",
       "\tMerc 230 & 22.8  & 4     & 140.8 &  95   & 3.92  & 3.150 & 22.90 & 1     & 0     & 4     & 2    \\\\\n",
       "\tFiat 128 & 32.4  & 4     &  78.7 &  66   & 4.08  & 2.200 & 19.47 & 1     & 1     & 4     & 1    \\\\\n",
       "\tHonda Civic & 30.4  & 4     &  75.7 &  52   & 4.93  & 1.615 & 18.52 & 1     & 1     & 4     & 2    \\\\\n",
       "\tToyota Corolla & 33.9  & 4     &  71.1 &  65   & 4.22  & 1.835 & 19.90 & 1     & 1     & 4     & 1    \\\\\n",
       "\tToyota Corona & 21.5  & 4     & 120.1 &  97   & 3.70  & 2.465 & 20.01 & 1     & 0     & 3     & 1    \\\\\n",
       "\tFiat X1-9 & 27.3  & 4     &  79.0 &  66   & 4.08  & 1.935 & 18.90 & 1     & 1     & 4     & 1    \\\\\n",
       "\tPorsche 914-2 & 26.0  & 4     & 120.3 &  91   & 4.43  & 2.140 & 16.70 & 0     & 1     & 5     & 2    \\\\\n",
       "\tLotus Europa & 30.4  & 4     &  95.1 & 113   & 3.77  & 1.513 & 16.90 & 1     & 1     & 5     & 2    \\\\\n",
       "\tVolvo 142E & 21.4  & 4     & 121.0 & 109   & 4.11  & 2.780 & 18.60 & 1     & 1     & 4     & 2    \\\\\n",
       "\\end{tabular}\n",
       "\n",
       "\\item[\\$`6`] \\begin{tabular}{r|lllllllllll}\n",
       "  & mpg & cyl & disp & hp & drat & wt & qsec & vs & am & gear & carb\\\\\n",
       "\\hline\n",
       "\tMazda RX4 & 21.0  & 6     & 160.0 & 110   & 3.90  & 2.620 & 16.46 & 0     & 1     & 4     & 4    \\\\\n",
       "\tMazda RX4 Wag & 21.0  & 6     & 160.0 & 110   & 3.90  & 2.875 & 17.02 & 0     & 1     & 4     & 4    \\\\\n",
       "\tHornet 4 Drive & 21.4  & 6     & 258.0 & 110   & 3.08  & 3.215 & 19.44 & 1     & 0     & 3     & 1    \\\\\n",
       "\tValiant & 18.1  & 6     & 225.0 & 105   & 2.76  & 3.460 & 20.22 & 1     & 0     & 3     & 1    \\\\\n",
       "\tMerc 280 & 19.2  & 6     & 167.6 & 123   & 3.92  & 3.440 & 18.30 & 1     & 0     & 4     & 4    \\\\\n",
       "\tMerc 280C & 17.8  & 6     & 167.6 & 123   & 3.92  & 3.440 & 18.90 & 1     & 0     & 4     & 4    \\\\\n",
       "\tFerrari Dino & 19.7  & 6     & 145.0 & 175   & 3.62  & 2.770 & 15.50 & 0     & 1     & 5     & 6    \\\\\n",
       "\\end{tabular}\n",
       "\n",
       "\\item[\\$`8`] \\begin{tabular}{r|lllllllllll}\n",
       "  & mpg & cyl & disp & hp & drat & wt & qsec & vs & am & gear & carb\\\\\n",
       "\\hline\n",
       "\tHornet Sportabout & 18.7  & 8     & 360.0 & 175   & 3.15  & 3.440 & 17.02 & 0     & 0     & 3     & 2    \\\\\n",
       "\tDuster 360 & 14.3  & 8     & 360.0 & 245   & 3.21  & 3.570 & 15.84 & 0     & 0     & 3     & 4    \\\\\n",
       "\tMerc 450SE & 16.4  & 8     & 275.8 & 180   & 3.07  & 4.070 & 17.40 & 0     & 0     & 3     & 3    \\\\\n",
       "\tMerc 450SL & 17.3  & 8     & 275.8 & 180   & 3.07  & 3.730 & 17.60 & 0     & 0     & 3     & 3    \\\\\n",
       "\tMerc 450SLC & 15.2  & 8     & 275.8 & 180   & 3.07  & 3.780 & 18.00 & 0     & 0     & 3     & 3    \\\\\n",
       "\tCadillac Fleetwood & 10.4  & 8     & 472.0 & 205   & 2.93  & 5.250 & 17.98 & 0     & 0     & 3     & 4    \\\\\n",
       "\tLincoln Continental & 10.4  & 8     & 460.0 & 215   & 3.00  & 5.424 & 17.82 & 0     & 0     & 3     & 4    \\\\\n",
       "\tChrysler Imperial & 14.7  & 8     & 440.0 & 230   & 3.23  & 5.345 & 17.42 & 0     & 0     & 3     & 4    \\\\\n",
       "\tDodge Challenger & 15.5  & 8     & 318.0 & 150   & 2.76  & 3.520 & 16.87 & 0     & 0     & 3     & 2    \\\\\n",
       "\tAMC Javelin & 15.2  & 8     & 304.0 & 150   & 3.15  & 3.435 & 17.30 & 0     & 0     & 3     & 2    \\\\\n",
       "\tCamaro Z28 & 13.3  & 8     & 350.0 & 245   & 3.73  & 3.840 & 15.41 & 0     & 0     & 3     & 4    \\\\\n",
       "\tPontiac Firebird & 19.2  & 8     & 400.0 & 175   & 3.08  & 3.845 & 17.05 & 0     & 0     & 3     & 2    \\\\\n",
       "\tFord Pantera L & 15.8  & 8     & 351.0 & 264   & 4.22  & 3.170 & 14.50 & 0     & 1     & 5     & 4    \\\\\n",
       "\tMaserati Bora & 15.0  & 8     & 301.0 & 335   & 3.54  & 3.570 & 14.60 & 0     & 1     & 5     & 8    \\\\\n",
       "\\end{tabular}\n",
       "\n",
       "\\end{description}\n"
      ],
      "text/markdown": [
       "$`4`\n",
       ":   \n",
       "| <!--/--> | mpg | cyl | disp | hp | drat | wt | qsec | vs | am | gear | carb | \n",
       "|---|---|---|---|---|---|---|---|---|---|---|\n",
       "| Datsun 710 | 22.8  | 4     | 108.0 |  93   | 3.85  | 2.320 | 18.61 | 1     | 1     | 4     | 1     | \n",
       "| Merc 240D | 24.4  | 4     | 146.7 |  62   | 3.69  | 3.190 | 20.00 | 1     | 0     | 4     | 2     | \n",
       "| Merc 230 | 22.8  | 4     | 140.8 |  95   | 3.92  | 3.150 | 22.90 | 1     | 0     | 4     | 2     | \n",
       "| Fiat 128 | 32.4  | 4     |  78.7 |  66   | 4.08  | 2.200 | 19.47 | 1     | 1     | 4     | 1     | \n",
       "| Honda Civic | 30.4  | 4     |  75.7 |  52   | 4.93  | 1.615 | 18.52 | 1     | 1     | 4     | 2     | \n",
       "| Toyota Corolla | 33.9  | 4     |  71.1 |  65   | 4.22  | 1.835 | 19.90 | 1     | 1     | 4     | 1     | \n",
       "| Toyota Corona | 21.5  | 4     | 120.1 |  97   | 3.70  | 2.465 | 20.01 | 1     | 0     | 3     | 1     | \n",
       "| Fiat X1-9 | 27.3  | 4     |  79.0 |  66   | 4.08  | 1.935 | 18.90 | 1     | 1     | 4     | 1     | \n",
       "| Porsche 914-2 | 26.0  | 4     | 120.3 |  91   | 4.43  | 2.140 | 16.70 | 0     | 1     | 5     | 2     | \n",
       "| Lotus Europa | 30.4  | 4     |  95.1 | 113   | 3.77  | 1.513 | 16.90 | 1     | 1     | 5     | 2     | \n",
       "| Volvo 142E | 21.4  | 4     | 121.0 | 109   | 4.11  | 2.780 | 18.60 | 1     | 1     | 4     | 2     | \n",
       "\n",
       "\n",
       "\n",
       "$`6`\n",
       ":   \n",
       "| <!--/--> | mpg | cyl | disp | hp | drat | wt | qsec | vs | am | gear | carb | \n",
       "|---|---|---|---|---|---|---|\n",
       "| Mazda RX4 | 21.0  | 6     | 160.0 | 110   | 3.90  | 2.620 | 16.46 | 0     | 1     | 4     | 4     | \n",
       "| Mazda RX4 Wag | 21.0  | 6     | 160.0 | 110   | 3.90  | 2.875 | 17.02 | 0     | 1     | 4     | 4     | \n",
       "| Hornet 4 Drive | 21.4  | 6     | 258.0 | 110   | 3.08  | 3.215 | 19.44 | 1     | 0     | 3     | 1     | \n",
       "| Valiant | 18.1  | 6     | 225.0 | 105   | 2.76  | 3.460 | 20.22 | 1     | 0     | 3     | 1     | \n",
       "| Merc 280 | 19.2  | 6     | 167.6 | 123   | 3.92  | 3.440 | 18.30 | 1     | 0     | 4     | 4     | \n",
       "| Merc 280C | 17.8  | 6     | 167.6 | 123   | 3.92  | 3.440 | 18.90 | 1     | 0     | 4     | 4     | \n",
       "| Ferrari Dino | 19.7  | 6     | 145.0 | 175   | 3.62  | 2.770 | 15.50 | 0     | 1     | 5     | 6     | \n",
       "\n",
       "\n",
       "\n",
       "$`8`\n",
       ":   \n",
       "| <!--/--> | mpg | cyl | disp | hp | drat | wt | qsec | vs | am | gear | carb | \n",
       "|---|---|---|---|---|---|---|---|---|---|---|---|---|---|\n",
       "| Hornet Sportabout | 18.7  | 8     | 360.0 | 175   | 3.15  | 3.440 | 17.02 | 0     | 0     | 3     | 2     | \n",
       "| Duster 360 | 14.3  | 8     | 360.0 | 245   | 3.21  | 3.570 | 15.84 | 0     | 0     | 3     | 4     | \n",
       "| Merc 450SE | 16.4  | 8     | 275.8 | 180   | 3.07  | 4.070 | 17.40 | 0     | 0     | 3     | 3     | \n",
       "| Merc 450SL | 17.3  | 8     | 275.8 | 180   | 3.07  | 3.730 | 17.60 | 0     | 0     | 3     | 3     | \n",
       "| Merc 450SLC | 15.2  | 8     | 275.8 | 180   | 3.07  | 3.780 | 18.00 | 0     | 0     | 3     | 3     | \n",
       "| Cadillac Fleetwood | 10.4  | 8     | 472.0 | 205   | 2.93  | 5.250 | 17.98 | 0     | 0     | 3     | 4     | \n",
       "| Lincoln Continental | 10.4  | 8     | 460.0 | 215   | 3.00  | 5.424 | 17.82 | 0     | 0     | 3     | 4     | \n",
       "| Chrysler Imperial | 14.7  | 8     | 440.0 | 230   | 3.23  | 5.345 | 17.42 | 0     | 0     | 3     | 4     | \n",
       "| Dodge Challenger | 15.5  | 8     | 318.0 | 150   | 2.76  | 3.520 | 16.87 | 0     | 0     | 3     | 2     | \n",
       "| AMC Javelin | 15.2  | 8     | 304.0 | 150   | 3.15  | 3.435 | 17.30 | 0     | 0     | 3     | 2     | \n",
       "| Camaro Z28 | 13.3  | 8     | 350.0 | 245   | 3.73  | 3.840 | 15.41 | 0     | 0     | 3     | 4     | \n",
       "| Pontiac Firebird | 19.2  | 8     | 400.0 | 175   | 3.08  | 3.845 | 17.05 | 0     | 0     | 3     | 2     | \n",
       "| Ford Pantera L | 15.8  | 8     | 351.0 | 264   | 4.22  | 3.170 | 14.50 | 0     | 1     | 5     | 4     | \n",
       "| Maserati Bora | 15.0  | 8     | 301.0 | 335   | 3.54  | 3.570 | 14.60 | 0     | 1     | 5     | 8     | \n",
       "\n",
       "\n",
       "\n",
       "\n",
       "\n"
      ],
      "text/plain": [
       "$`4`\n",
       "                mpg cyl  disp  hp drat    wt  qsec vs am gear carb\n",
       "Datsun 710     22.8   4 108.0  93 3.85 2.320 18.61  1  1    4    1\n",
       "Merc 240D      24.4   4 146.7  62 3.69 3.190 20.00  1  0    4    2\n",
       "Merc 230       22.8   4 140.8  95 3.92 3.150 22.90  1  0    4    2\n",
       "Fiat 128       32.4   4  78.7  66 4.08 2.200 19.47  1  1    4    1\n",
       "Honda Civic    30.4   4  75.7  52 4.93 1.615 18.52  1  1    4    2\n",
       "Toyota Corolla 33.9   4  71.1  65 4.22 1.835 19.90  1  1    4    1\n",
       "Toyota Corona  21.5   4 120.1  97 3.70 2.465 20.01  1  0    3    1\n",
       "Fiat X1-9      27.3   4  79.0  66 4.08 1.935 18.90  1  1    4    1\n",
       "Porsche 914-2  26.0   4 120.3  91 4.43 2.140 16.70  0  1    5    2\n",
       "Lotus Europa   30.4   4  95.1 113 3.77 1.513 16.90  1  1    5    2\n",
       "Volvo 142E     21.4   4 121.0 109 4.11 2.780 18.60  1  1    4    2\n",
       "\n",
       "$`6`\n",
       "                mpg cyl  disp  hp drat    wt  qsec vs am gear carb\n",
       "Mazda RX4      21.0   6 160.0 110 3.90 2.620 16.46  0  1    4    4\n",
       "Mazda RX4 Wag  21.0   6 160.0 110 3.90 2.875 17.02  0  1    4    4\n",
       "Hornet 4 Drive 21.4   6 258.0 110 3.08 3.215 19.44  1  0    3    1\n",
       "Valiant        18.1   6 225.0 105 2.76 3.460 20.22  1  0    3    1\n",
       "Merc 280       19.2   6 167.6 123 3.92 3.440 18.30  1  0    4    4\n",
       "Merc 280C      17.8   6 167.6 123 3.92 3.440 18.90  1  0    4    4\n",
       "Ferrari Dino   19.7   6 145.0 175 3.62 2.770 15.50  0  1    5    6\n",
       "\n",
       "$`8`\n",
       "                     mpg cyl  disp  hp drat    wt  qsec vs am gear carb\n",
       "Hornet Sportabout   18.7   8 360.0 175 3.15 3.440 17.02  0  0    3    2\n",
       "Duster 360          14.3   8 360.0 245 3.21 3.570 15.84  0  0    3    4\n",
       "Merc 450SE          16.4   8 275.8 180 3.07 4.070 17.40  0  0    3    3\n",
       "Merc 450SL          17.3   8 275.8 180 3.07 3.730 17.60  0  0    3    3\n",
       "Merc 450SLC         15.2   8 275.8 180 3.07 3.780 18.00  0  0    3    3\n",
       "Cadillac Fleetwood  10.4   8 472.0 205 2.93 5.250 17.98  0  0    3    4\n",
       "Lincoln Continental 10.4   8 460.0 215 3.00 5.424 17.82  0  0    3    4\n",
       "Chrysler Imperial   14.7   8 440.0 230 3.23 5.345 17.42  0  0    3    4\n",
       "Dodge Challenger    15.5   8 318.0 150 2.76 3.520 16.87  0  0    3    2\n",
       "AMC Javelin         15.2   8 304.0 150 3.15 3.435 17.30  0  0    3    2\n",
       "Camaro Z28          13.3   8 350.0 245 3.73 3.840 15.41  0  0    3    4\n",
       "Pontiac Firebird    19.2   8 400.0 175 3.08 3.845 17.05  0  0    3    2\n",
       "Ford Pantera L      15.8   8 351.0 264 4.22 3.170 14.50  0  1    5    4\n",
       "Maserati Bora       15.0   8 301.0 335 3.54 3.570 14.60  0  1    5    8\n"
      ]
     },
     "metadata": {},
     "output_type": "display_data"
    }
   ],
   "source": [
    "# Split the data frame mtcars based on the unique values in the cyl column\n",
    "cyl <- split(mtcars, mtcars[\"cyl\"])\n",
    "\n",
    "str(cyl)\n",
    "\n",
    "cyl[[1]]\n",
    "cyl"
   ]
  },
  {
   "cell_type": "markdown",
   "metadata": {},
   "source": [
    "### Goal\n",
    "\n",
    "* Fit regression to each of the data frame in cyl\n",
    "* Quantify relationship between mpg and wt"
   ]
  },
  {
   "cell_type": "markdown",
   "metadata": {},
   "source": [
    "### Solve a simple problem first"
   ]
  },
  {
   "cell_type": "code",
   "execution_count": 26,
   "metadata": {
    "scrolled": true
   },
   "outputs": [
    {
     "name": "stdout",
     "output_type": "stream",
     "text": [
      "List of 3\n",
      " $ 4:'data.frame':\t11 obs. of  11 variables:\n",
      "  ..$ mpg : num [1:11] 22.8 24.4 22.8 32.4 30.4 33.9 21.5 27.3 26 30.4 ...\n",
      "  ..$ cyl : num [1:11] 4 4 4 4 4 4 4 4 4 4 ...\n",
      "  ..$ disp: num [1:11] 108 146.7 140.8 78.7 75.7 ...\n",
      "  ..$ hp  : num [1:11] 93 62 95 66 52 65 97 66 91 113 ...\n",
      "  ..$ drat: num [1:11] 3.85 3.69 3.92 4.08 4.93 4.22 3.7 4.08 4.43 3.77 ...\n",
      "  ..$ wt  : num [1:11] 2.32 3.19 3.15 2.2 1.61 ...\n",
      "  ..$ qsec: num [1:11] 18.6 20 22.9 19.5 18.5 ...\n",
      "  ..$ vs  : num [1:11] 1 1 1 1 1 1 1 1 0 1 ...\n",
      "  ..$ am  : num [1:11] 1 0 0 1 1 1 0 1 1 1 ...\n",
      "  ..$ gear: num [1:11] 4 4 4 4 4 4 3 4 5 5 ...\n",
      "  ..$ carb: num [1:11] 1 2 2 1 2 1 1 1 2 2 ...\n",
      " $ 6:'data.frame':\t7 obs. of  11 variables:\n",
      "  ..$ mpg : num [1:7] 21 21 21.4 18.1 19.2 17.8 19.7\n",
      "  ..$ cyl : num [1:7] 6 6 6 6 6 6 6\n",
      "  ..$ disp: num [1:7] 160 160 258 225 168 ...\n",
      "  ..$ hp  : num [1:7] 110 110 110 105 123 123 175\n",
      "  ..$ drat: num [1:7] 3.9 3.9 3.08 2.76 3.92 3.92 3.62\n",
      "  ..$ wt  : num [1:7] 2.62 2.88 3.21 3.46 3.44 ...\n",
      "  ..$ qsec: num [1:7] 16.5 17 19.4 20.2 18.3 ...\n",
      "  ..$ vs  : num [1:7] 0 0 1 1 1 1 0\n",
      "  ..$ am  : num [1:7] 1 1 0 0 0 0 1\n",
      "  ..$ gear: num [1:7] 4 4 3 3 4 4 5\n",
      "  ..$ carb: num [1:7] 4 4 1 1 4 4 6\n",
      " $ 8:'data.frame':\t14 obs. of  11 variables:\n",
      "  ..$ mpg : num [1:14] 18.7 14.3 16.4 17.3 15.2 10.4 10.4 14.7 15.5 15.2 ...\n",
      "  ..$ cyl : num [1:14] 8 8 8 8 8 8 8 8 8 8 ...\n",
      "  ..$ disp: num [1:14] 360 360 276 276 276 ...\n",
      "  ..$ hp  : num [1:14] 175 245 180 180 180 205 215 230 150 150 ...\n",
      "  ..$ drat: num [1:14] 3.15 3.21 3.07 3.07 3.07 2.93 3 3.23 2.76 3.15 ...\n",
      "  ..$ wt  : num [1:14] 3.44 3.57 4.07 3.73 3.78 ...\n",
      "  ..$ qsec: num [1:14] 17 15.8 17.4 17.6 18 ...\n",
      "  ..$ vs  : num [1:14] 0 0 0 0 0 0 0 0 0 0 ...\n",
      "  ..$ am  : num [1:14] 0 0 0 0 0 0 0 0 0 0 ...\n",
      "  ..$ gear: num [1:14] 3 3 3 3 3 3 3 3 3 3 ...\n",
      "  ..$ carb: num [1:14] 2 4 3 3 3 4 4 4 2 2 ...\n"
     ]
    },
    {
     "data": {
      "text/plain": [
       "\n",
       "Call:\n",
       "lm(formula = mpg ~ wt, data = four_cyls)\n",
       "\n",
       "Coefficients:\n",
       "(Intercept)           wt  \n",
       "     39.571       -5.647  \n"
      ]
     },
     "metadata": {},
     "output_type": "display_data"
    }
   ],
   "source": [
    "# Examine the structure of cyl\n",
    "str(cyl)\n",
    "\n",
    "# Extract the first element into four_cyls\n",
    "four_cyls <- cyl[[1]]\n",
    "\n",
    "# Fit a linear regression of mpg on wt using four_cyls\n",
    "lm(data = four_cyls, formula = mpg ~ wt)"
   ]
  },
  {
   "cell_type": "markdown",
   "metadata": {},
   "source": [
    "### Using an anonymous function"
   ]
  },
  {
   "cell_type": "code",
   "execution_count": 27,
   "metadata": {},
   "outputs": [
    {
     "data": {
      "text/plain": [
       "$`4`\n",
       "\n",
       "Call:\n",
       "lm(formula = mpg ~ wt, data = df)\n",
       "\n",
       "Coefficients:\n",
       "(Intercept)           wt  \n",
       "     39.571       -5.647  \n",
       "\n",
       "\n",
       "$`6`\n",
       "\n",
       "Call:\n",
       "lm(formula = mpg ~ wt, data = df)\n",
       "\n",
       "Coefficients:\n",
       "(Intercept)           wt  \n",
       "      28.41        -2.78  \n",
       "\n",
       "\n",
       "$`8`\n",
       "\n",
       "Call:\n",
       "lm(formula = mpg ~ wt, data = df)\n",
       "\n",
       "Coefficients:\n",
       "(Intercept)           wt  \n",
       "     23.868       -2.192  \n",
       "\n"
      ]
     },
     "metadata": {},
     "output_type": "display_data"
    }
   ],
   "source": [
    "# Rewrite to call an anonymous function\n",
    "# map(cyl, reg_fit)\n",
    "map(cyl, function(df) lm(mpg ~ wt, data = df))"
   ]
  },
  {
   "cell_type": "markdown",
   "metadata": {},
   "source": [
    "### Using a formula"
   ]
  },
  {
   "cell_type": "code",
   "execution_count": 28,
   "metadata": {},
   "outputs": [
    {
     "data": {
      "text/plain": [
       "$`4`\n",
       "\n",
       "Call:\n",
       "lm(formula = mpg ~ wt, data = .)\n",
       "\n",
       "Coefficients:\n",
       "(Intercept)           wt  \n",
       "     39.571       -5.647  \n",
       "\n",
       "\n",
       "$`6`\n",
       "\n",
       "Call:\n",
       "lm(formula = mpg ~ wt, data = .)\n",
       "\n",
       "Coefficients:\n",
       "(Intercept)           wt  \n",
       "      28.41        -2.78  \n",
       "\n",
       "\n",
       "$`8`\n",
       "\n",
       "Call:\n",
       "lm(formula = mpg ~ wt, data = .)\n",
       "\n",
       "Coefficients:\n",
       "(Intercept)           wt  \n",
       "     23.868       -2.192  \n",
       "\n"
      ]
     },
     "metadata": {},
     "output_type": "display_data"
    }
   ],
   "source": [
    "# Rewrite to use the formula shortcut instead\n",
    "# map(cyl, function(df) lm(mpg ~ wt, data = df))\n",
    "map(cyl, ~ lm(mpg ~ wt, .))"
   ]
  },
  {
   "cell_type": "markdown",
   "metadata": {},
   "source": [
    "### Using a string"
   ]
  },
  {
   "cell_type": "code",
   "execution_count": 29,
   "metadata": {},
   "outputs": [
    {
     "data": {
      "text/html": [
       "<dl>\n",
       "\t<dt>$`4`</dt>\n",
       "\t\t<dd>-5.64702526124227</dd>\n",
       "\t<dt>$`6`</dt>\n",
       "\t\t<dd>-2.78010593915529</dd>\n",
       "\t<dt>$`8`</dt>\n",
       "\t\t<dd>-2.19243792644972</dd>\n",
       "</dl>\n"
      ],
      "text/latex": [
       "\\begin{description}\n",
       "\\item[\\$`4`] -5.64702526124227\n",
       "\\item[\\$`6`] -2.78010593915529\n",
       "\\item[\\$`8`] -2.19243792644972\n",
       "\\end{description}\n"
      ],
      "text/markdown": [
       "$`4`\n",
       ":   -5.64702526124227\n",
       "$`6`\n",
       ":   -2.78010593915529\n",
       "$`8`\n",
       ":   -2.19243792644972\n",
       "\n",
       "\n"
      ],
      "text/plain": [
       "$`4`\n",
       "[1] -5.647025\n",
       "\n",
       "$`6`\n",
       "[1] -2.780106\n",
       "\n",
       "$`8`\n",
       "[1] -2.192438\n"
      ]
     },
     "metadata": {},
     "output_type": "display_data"
    }
   ],
   "source": [
    "# Save the result from the previous exercise to the variable models\n",
    "models <- map(cyl, ~ lm(mpg ~ wt, data = .))\n",
    "\n",
    "# Use map and coef to get the coefficients for each model: coefs\n",
    "coefs <- map(models, coef)\n",
    "\n",
    "# Use string shortcut to extract the wt coefficient \n",
    "map(coefs, \"wt\")"
   ]
  },
  {
   "cell_type": "markdown",
   "metadata": {},
   "source": [
    "### Using a numeric vector"
   ]
  },
  {
   "cell_type": "code",
   "execution_count": 30,
   "metadata": {},
   "outputs": [
    {
     "data": {
      "text/html": [
       "<dl class=dl-horizontal>\n",
       "\t<dt>4</dt>\n",
       "\t\t<dd>-5.64702526124227</dd>\n",
       "\t<dt>6</dt>\n",
       "\t\t<dd>-2.78010593915529</dd>\n",
       "\t<dt>8</dt>\n",
       "\t\t<dd>-2.19243792644972</dd>\n",
       "</dl>\n"
      ],
      "text/latex": [
       "\\begin{description*}\n",
       "\\item[4] -5.64702526124227\n",
       "\\item[6] -2.78010593915529\n",
       "\\item[8] -2.19243792644972\n",
       "\\end{description*}\n"
      ],
      "text/markdown": [
       "4\n",
       ":   -5.647025261242276\n",
       ":   -2.780105939155298\n",
       ":   -2.19243792644972\n",
       "\n"
      ],
      "text/plain": [
       "        4         6         8 \n",
       "-5.647025 -2.780106 -2.192438 "
      ]
     },
     "metadata": {},
     "output_type": "display_data"
    }
   ],
   "source": [
    "coefs <- map(models, coef)\n",
    "\n",
    "# use map_dbl with the numeric shortcut to pull out the second element\n",
    "map_dbl(coefs, 2)"
   ]
  },
  {
   "cell_type": "markdown",
   "metadata": {},
   "source": [
    "### Putting it together with pipes"
   ]
  },
  {
   "cell_type": "code",
   "execution_count": 44,
   "metadata": {},
   "outputs": [],
   "source": [
    "# Define models (don't change)\n",
    "models <- mtcars %>% \n",
    "  split(mtcars$cyl) %>%\n",
    "  map(~ lm(mpg ~ wt, data = .))\n",
    "\n",
    "# Rewrite to be a single command using pipes \n",
    "# summaries <- map(models, summary)\n",
    "# map_dbl(summaries, \"r.squared\")\n",
    "summaries <- models %>%\n",
    "                 map(summary) %>%\n",
    "                 map_dbl(\"r.squared\")"
   ]
  }
 ],
 "metadata": {
  "kernelspec": {
   "display_name": "R",
   "language": "R",
   "name": "ir"
  },
  "language_info": {
   "codemirror_mode": "r",
   "file_extension": ".r",
   "mimetype": "text/x-r-source",
   "name": "R",
   "pygments_lexer": "r",
   "version": "3.4.2"
  }
 },
 "nbformat": 4,
 "nbformat_minor": 2
}
