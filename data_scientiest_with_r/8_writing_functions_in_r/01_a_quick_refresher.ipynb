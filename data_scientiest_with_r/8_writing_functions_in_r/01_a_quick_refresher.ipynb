{
 "cells": [
  {
   "cell_type": "markdown",
   "metadata": {},
   "source": [
    "# A quick refresher"
   ]
  },
  {
   "cell_type": "markdown",
   "metadata": {},
   "source": [
    "## Writing a function in R\n",
    "\n",
    "### Functions fundamentals\n",
    "\n",
    "* Defining your own function\n",
    "\n",
    "```\n",
    "my_fun <- function(arg1, arg2) {\n",
    "    body  \n",
    "}\n",
    "```\n",
    "\n",
    "```\n",
    "add <- function(x, y = 1) {\n",
    "    x + y\n",
    "}\n",
    "```\n",
    "\n",
    "* Anatomy of a function\n",
    "\n",
    "    - formals\n",
    "    - body\n",
    "    - environment : where it's defined"
   ]
  },
  {
   "cell_type": "code",
   "execution_count": 1,
   "metadata": {},
   "outputs": [
    {
     "data": {
      "text/plain": [
       "$x\n",
       "\n",
       "\n",
       "$y\n",
       "[1] 1\n"
      ]
     },
     "metadata": {},
     "output_type": "display_data"
    },
    {
     "data": {
      "text/plain": [
       "{\n",
       "    x + y\n",
       "}"
      ]
     },
     "metadata": {},
     "output_type": "display_data"
    },
    {
     "data": {
      "text/plain": [
       "<environment: R_GlobalEnv>"
      ]
     },
     "metadata": {},
     "output_type": "display_data"
    }
   ],
   "source": [
    "add <- function(x, y = 1) {\n",
    "    x + y\n",
    "}\n",
    "\n",
    "formals(add)\n",
    "\n",
    "body(add)\n",
    "\n",
    "environment(add)"
   ]
  },
  {
   "cell_type": "markdown",
   "metadata": {},
   "source": [
    "* Output: return value\n",
    "\n",
    "```\n",
    "f <- function(x) {\n",
    "    if (x < 0) {\n",
    "        -x\n",
    "    } else {\n",
    "        x\n",
    "    }\n",
    "}\n",
    "```\n",
    "\n",
    "    - The last expression evaluated in a function is the return value\n",
    "    - return(value) forces the function to stop execution and return value\n",
    "    \n",
    "* Functions are objects\n",
    "    - mean2 <- mean : mean2 will do exactly the same job that mean does\n",
    "    - function(x) { x + 1 }\n",
    "    - (function(x) { x + 1})(2) : An example of ananymous function"
   ]
  },
  {
   "cell_type": "code",
   "execution_count": 2,
   "metadata": {},
   "outputs": [
    {
     "data": {
      "text/html": [
       "3"
      ],
      "text/latex": [
       "3"
      ],
      "text/markdown": [
       "3"
      ],
      "text/plain": [
       "[1] 3"
      ]
     },
     "metadata": {},
     "output_type": "display_data"
    }
   ],
   "source": [
    "(function(x) { x + 1})(2)"
   ]
  },
  {
   "cell_type": "markdown",
   "metadata": {},
   "source": [
    "### Summary\n",
    "\n",
    "* Thre parts of a function:\n",
    "    - Arguments\n",
    "    - Body\n",
    "    - Environment\n",
    "* Return value is the last executed expression or the first executed return() statement\n",
    "* Functions can be treated like usual R objects"
   ]
  },
  {
   "cell_type": "markdown",
   "metadata": {},
   "source": [
    "## Writing a function"
   ]
  },
  {
   "cell_type": "code",
   "execution_count": 3,
   "metadata": {},
   "outputs": [
    {
     "data": {
      "text/html": [
       "0.75"
      ],
      "text/latex": [
       "0.75"
      ],
      "text/markdown": [
       "0.75"
      ],
      "text/plain": [
       "[1] 0.75"
      ]
     },
     "metadata": {},
     "output_type": "display_data"
    }
   ],
   "source": [
    "# Define ratio() function\n",
    "# my_fun <- function(arg1, arg2) {\n",
    "#   # body\n",
    "# }\n",
    "ratio <- function(x, y) {\n",
    "  x / y\n",
    "}\n",
    "\n",
    "# Call ratio() with arguments 3 and 4\n",
    "ratio(3, 4)"
   ]
  },
  {
   "cell_type": "markdown",
   "metadata": {},
   "source": [
    "## Arguments"
   ]
  },
  {
   "cell_type": "code",
   "execution_count": 4,
   "metadata": {},
   "outputs": [
    {
     "data": {
      "text/html": [
       "5"
      ],
      "text/latex": [
       "5"
      ],
      "text/markdown": [
       "5"
      ],
      "text/plain": [
       "[1] 5"
      ]
     },
     "metadata": {},
     "output_type": "display_data"
    }
   ],
   "source": [
    "# Rewrite the call to follow best practices\n",
    "# mean(0.1,x=c(1:9, NA),TRUE)\n",
    "mean(c(1:9, NA),trim = 0.1, na.rm = TRUE)"
   ]
  },
  {
   "cell_type": "markdown",
   "metadata": {
    "collapsed": true
   },
   "source": [
    "## Environments\n",
    "\n",
    "### Scoping describes how R looks up values by name\n",
    "\n",
    "### If a name isn't defined inside a function, R will look one level up\n",
    "\n",
    "```\n",
    "x <- 2\n",
    "\n",
    "g <- function() {\n",
    "    y <- 1\n",
    "    c(x, y)\n",
    "}\n",
    "```\n",
    "\n",
    "Here, x is not defined inside the function g and in this case, R looks for a variable x outside of the function g.\n",
    "\n",
    "### If a name isn't defined locally, or at a higher level, an error occurs\n",
    "\n",
    "### Scoping describes where, not when, to look for a value\n",
    "\n",
    "```\n",
    "f <- function() x\n",
    "\n",
    "x <- 15\n",
    "f() # Will return 15\n",
    "\n",
    "x <- 20\n",
    "f() # Will return 20\n",
    "```\n",
    "\n",
    "### Lookup works the same for functions\n",
    "\n",
    "```\n",
    "l <- function(x) x + 1\n",
    "\n",
    "m <- function() {\n",
    "    l <- function(x) x * 2\n",
    "    l(10)\n",
    "}\n",
    "\n",
    "m() # Will return 20\n",
    "```\n",
    "\n",
    "```\n",
    "c <- 10\n",
    "c(c = c) # Here, R can differentiate a function c and a variable c\n",
    "```\n",
    "\n",
    "### Each call to a function has its own clean environment\n",
    "\n",
    "```\n",
    "j <- function() {\n",
    "    if (!exists(\"a\")) {\n",
    "        a <- 1\n",
    "    } else {\n",
    "        a <- a + 1\n",
    "    }\n",
    "    print(a)\n",
    "}\n",
    "```\n",
    "\n",
    "* Any local variables created in a function are never available in the global environment.\n",
    "\n",
    "\n",
    "## Summary\n",
    "\n",
    "* When you call a function, a new environment is made for the function to do its work.\n",
    "* The new environment is populated with the argument values.\n",
    "* Objects are looked for first in this environment.\n",
    "* If they are not found, they are looked for in the environment that the function was created in."
   ]
  },
  {
   "cell_type": "markdown",
   "metadata": {},
   "source": [
    "## Data structures\n",
    "\n",
    "### Two types of vectors in R\n",
    "\n",
    "* Atomic vectors of six types: logical, integer, double, character, complex, and raw.\n",
    "* Lists, a.k.a recursive vectors, because lists can contain other lists.\n",
    "* Atomic vectors are hemogeneous, lists can be heterogeneous.\n",
    "\n",
    "### Every vector has two key properties\n",
    "\n",
    "```\n",
    "# Its type, find with typeof()\n",
    "typeof(letters)\n",
    "\n",
    "# Its length, find with length()\n",
    "length(letters)\n",
    "```\n",
    "\n",
    "### Missing values\n",
    "\n",
    "* NULL : often used to indicate the absence of a vector. Its type is NULL and length is 0.\n",
    "* NA : used to indicate the absence of a value in a vector, a.k.a a missing value. Its type is logical and length is 1.\n",
    "\n",
    "### NAs inside vectors\n",
    "\n",
    "```\n",
    "x <- c(1, 2, 3, NA, 5)\n",
    "\n",
    "is.na(x) # Will return FALSE FLASE FALSE TRUE FALSE\n",
    "```\n",
    "\n",
    "### Missing values are contagious\n",
    "\n",
    "* Any mathematical operation with NAs will return NA.\n",
    "\n",
    "```\n",
    "NA + 10\n",
    "\n",
    "NA / 2\n",
    "\n",
    "NA > 5\n",
    "\n",
    "10 == NA\n",
    "\n",
    "NA == NA\n",
    "```\n",
    "\n",
    "### Lists\n",
    "\n",
    "* Useful because they can contain heterogeneous objects.\n",
    "* Complicated return objects are ofen lists, i.e. from lm()\n",
    "* Created with list()\n",
    "* Subset with [, [[ or \\\\$\n",
    "    - [ extracts a sublist.\n",
    "    - [[ and \\\\$ extract elements, remove a level of hierarchy.\n",
    "    \n",
    "### Subsetting lists\n",
    "\n",
    "```\n",
    "a <- list(\n",
    "    a = 1:3,\n",
    "    b = \"a string\",\n",
    "    c = pi,\n",
    "    d = list(-1, -5)\n",
    ")\n",
    "\n",
    "str(a[4])\n",
    "str(a[[4]])\n",
    "```"
   ]
  },
  {
   "cell_type": "markdown",
   "metadata": {},
   "source": [
    "## Subsetting lists"
   ]
  },
  {
   "cell_type": "code",
   "execution_count": 7,
   "metadata": {},
   "outputs": [
    {
     "data": {
      "text/html": [
       "'logical'"
      ],
      "text/latex": [
       "'logical'"
      ],
      "text/markdown": [
       "'logical'"
      ],
      "text/plain": [
       "[1] \"logical\""
      ]
     },
     "metadata": {},
     "output_type": "display_data"
    },
    {
     "data": {
      "text/html": [
       "'list'"
      ],
      "text/latex": [
       "'list'"
      ],
      "text/markdown": [
       "'list'"
      ],
      "text/plain": [
       "[1] \"list\""
      ]
     },
     "metadata": {},
     "output_type": "display_data"
    },
    {
     "data": {
      "text/html": [
       "'character'"
      ],
      "text/latex": [
       "'character'"
      ],
      "text/markdown": [
       "'character'"
      ],
      "text/plain": [
       "[1] \"character\""
      ]
     },
     "metadata": {},
     "output_type": "display_data"
    }
   ],
   "source": [
    "# Define a variable tricky-list\n",
    "tricky_list <- list(nums = c(-0.99, -0.30, -0.31, 0.83, -1.66,\n",
    "                             -0.97, 1.96, -0.38, -0.91, -1.35),\n",
    "                   y = c(F, F, F, F, F, T, T, T, T, T),\n",
    "                   x = list(\"hello!\", \"hi!\", \"goodbye!\", \"bye!\"),\n",
    "                   model = lm(mpg ~ wt, data = mtcars))\n",
    "\n",
    "# What type of object is the...\n",
    "# 2nd element in tricky_list\n",
    "typeof(tricky_list[[2]])\n",
    "\n",
    "# Element called x in tricky_list\n",
    "typeof(tricky_list[[\"x\"]])\n",
    "\n",
    "# 2nd element inside the element called x in tricky_list\n",
    "typeof(tricky_list[[\"x\"]][[2]])"
   ]
  },
  {
   "cell_type": "markdown",
   "metadata": {},
   "source": [
    "## Exploring lists"
   ]
  },
  {
   "cell_type": "code",
   "execution_count": 8,
   "metadata": {},
   "outputs": [
    {
     "data": {
      "text/html": [
       "<ol class=list-inline>\n",
       "\t<li>'nums'</li>\n",
       "\t<li>'y'</li>\n",
       "\t<li>'x'</li>\n",
       "\t<li>'model'</li>\n",
       "</ol>\n"
      ],
      "text/latex": [
       "\\begin{enumerate*}\n",
       "\\item 'nums'\n",
       "\\item 'y'\n",
       "\\item 'x'\n",
       "\\item 'model'\n",
       "\\end{enumerate*}\n"
      ],
      "text/markdown": [
       "1. 'nums'\n",
       "2. 'y'\n",
       "3. 'x'\n",
       "4. 'model'\n",
       "\n",
       "\n"
      ],
      "text/plain": [
       "[1] \"nums\"  \"y\"     \"x\"     \"model\""
      ]
     },
     "metadata": {},
     "output_type": "display_data"
    },
    {
     "data": {
      "text/html": [
       "<ol class=list-inline>\n",
       "\t<li>'coefficients'</li>\n",
       "\t<li>'residuals'</li>\n",
       "\t<li>'effects'</li>\n",
       "\t<li>'rank'</li>\n",
       "\t<li>'fitted.values'</li>\n",
       "\t<li>'assign'</li>\n",
       "\t<li>'qr'</li>\n",
       "\t<li>'df.residual'</li>\n",
       "\t<li>'xlevels'</li>\n",
       "\t<li>'call'</li>\n",
       "\t<li>'terms'</li>\n",
       "\t<li>'model'</li>\n",
       "</ol>\n"
      ],
      "text/latex": [
       "\\begin{enumerate*}\n",
       "\\item 'coefficients'\n",
       "\\item 'residuals'\n",
       "\\item 'effects'\n",
       "\\item 'rank'\n",
       "\\item 'fitted.values'\n",
       "\\item 'assign'\n",
       "\\item 'qr'\n",
       "\\item 'df.residual'\n",
       "\\item 'xlevels'\n",
       "\\item 'call'\n",
       "\\item 'terms'\n",
       "\\item 'model'\n",
       "\\end{enumerate*}\n"
      ],
      "text/markdown": [
       "1. 'coefficients'\n",
       "2. 'residuals'\n",
       "3. 'effects'\n",
       "4. 'rank'\n",
       "5. 'fitted.values'\n",
       "6. 'assign'\n",
       "7. 'qr'\n",
       "8. 'df.residual'\n",
       "9. 'xlevels'\n",
       "10. 'call'\n",
       "11. 'terms'\n",
       "12. 'model'\n",
       "\n",
       "\n"
      ],
      "text/plain": [
       " [1] \"coefficients\"  \"residuals\"     \"effects\"       \"rank\"         \n",
       " [5] \"fitted.values\" \"assign\"        \"qr\"            \"df.residual\"  \n",
       " [9] \"xlevels\"       \"call\"          \"terms\"         \"model\"        "
      ]
     },
     "metadata": {},
     "output_type": "display_data"
    },
    {
     "name": "stdout",
     "output_type": "stream",
     "text": [
      "List of 12\n",
      " $ coefficients : Named num [1:2] 37.29 -5.34\n",
      "  ..- attr(*, \"names\")= chr [1:2] \"(Intercept)\" \"wt\"\n",
      " $ residuals    : Named num [1:32] -2.28 -0.92 -2.09 1.3 -0.2 ...\n",
      "  ..- attr(*, \"names\")= chr [1:32] \"Mazda RX4\" \"Mazda RX4 Wag\" \"Datsun 710\" \"Hornet 4 Drive\" ...\n",
      " $ effects      : Named num [1:32] -113.65 -29.116 -1.661 1.631 0.111 ...\n",
      "  ..- attr(*, \"names\")= chr [1:32] \"(Intercept)\" \"wt\" \"\" \"\" ...\n",
      " $ rank         : int 2\n",
      " $ fitted.values: Named num [1:32] 23.3 21.9 24.9 20.1 18.9 ...\n",
      "  ..- attr(*, \"names\")= chr [1:32] \"Mazda RX4\" \"Mazda RX4 Wag\" \"Datsun 710\" \"Hornet 4 Drive\" ...\n",
      " $ assign       : int [1:2] 0 1\n",
      " $ qr           :List of 5\n",
      "  ..$ qr   : num [1:32, 1:2] -5.657 0.177 0.177 0.177 0.177 ...\n",
      "  .. ..- attr(*, \"dimnames\")=List of 2\n",
      "  .. .. ..$ : chr [1:32] \"Mazda RX4\" \"Mazda RX4 Wag\" \"Datsun 710\" \"Hornet 4 Drive\" ...\n",
      "  .. .. ..$ : chr [1:2] \"(Intercept)\" \"wt\"\n",
      "  .. ..- attr(*, \"assign\")= int [1:2] 0 1\n",
      "  ..$ qraux: num [1:2] 1.18 1.05\n",
      "  ..$ pivot: int [1:2] 1 2\n",
      "  ..$ tol  : num 1e-07\n",
      "  ..$ rank : int 2\n",
      "  ..- attr(*, \"class\")= chr \"qr\"\n",
      " $ df.residual  : int 30\n",
      " $ xlevels      : Named list()\n",
      " $ call         : language lm(formula = mpg ~ wt, data = mtcars)\n",
      " $ terms        :Classes 'terms', 'formula'  language mpg ~ wt\n",
      "  .. ..- attr(*, \"variables\")= language list(mpg, wt)\n",
      "  .. ..- attr(*, \"factors\")= int [1:2, 1] 0 1\n",
      "  .. .. ..- attr(*, \"dimnames\")=List of 2\n",
      "  .. .. .. ..$ : chr [1:2] \"mpg\" \"wt\"\n",
      "  .. .. .. ..$ : chr \"wt\"\n",
      "  .. ..- attr(*, \"term.labels\")= chr \"wt\"\n",
      "  .. ..- attr(*, \"order\")= int 1\n",
      "  .. ..- attr(*, \"intercept\")= int 1\n",
      "  .. ..- attr(*, \"response\")= int 1\n",
      "  .. ..- attr(*, \".Environment\")=<environment: R_GlobalEnv> \n",
      "  .. ..- attr(*, \"predvars\")= language list(mpg, wt)\n",
      "  .. ..- attr(*, \"dataClasses\")= Named chr [1:2] \"numeric\" \"numeric\"\n",
      "  .. .. ..- attr(*, \"names\")= chr [1:2] \"mpg\" \"wt\"\n",
      " $ model        :'data.frame':\t32 obs. of  2 variables:\n",
      "  ..$ mpg: num [1:32] 21 21 22.8 21.4 18.7 18.1 14.3 24.4 22.8 19.2 ...\n",
      "  ..$ wt : num [1:32] 2.62 2.88 2.32 3.21 3.44 ...\n",
      "  ..- attr(*, \"terms\")=Classes 'terms', 'formula'  language mpg ~ wt\n",
      "  .. .. ..- attr(*, \"variables\")= language list(mpg, wt)\n",
      "  .. .. ..- attr(*, \"factors\")= int [1:2, 1] 0 1\n",
      "  .. .. .. ..- attr(*, \"dimnames\")=List of 2\n",
      "  .. .. .. .. ..$ : chr [1:2] \"mpg\" \"wt\"\n",
      "  .. .. .. .. ..$ : chr \"wt\"\n",
      "  .. .. ..- attr(*, \"term.labels\")= chr \"wt\"\n",
      "  .. .. ..- attr(*, \"order\")= int 1\n",
      "  .. .. ..- attr(*, \"intercept\")= int 1\n",
      "  .. .. ..- attr(*, \"response\")= int 1\n",
      "  .. .. ..- attr(*, \".Environment\")=<environment: R_GlobalEnv> \n",
      "  .. .. ..- attr(*, \"predvars\")= language list(mpg, wt)\n",
      "  .. .. ..- attr(*, \"dataClasses\")= Named chr [1:2] \"numeric\" \"numeric\"\n",
      "  .. .. .. ..- attr(*, \"names\")= chr [1:2] \"mpg\" \"wt\"\n",
      " - attr(*, \"class\")= chr \"lm\"\n"
     ]
    },
    {
     "data": {
      "text/html": [
       "<dl class=dl-horizontal>\n",
       "\t<dt>(Intercept)</dt>\n",
       "\t\t<dd>37.285126167342</dd>\n",
       "\t<dt>wt</dt>\n",
       "\t\t<dd>-5.34447157272267</dd>\n",
       "</dl>\n"
      ],
      "text/latex": [
       "\\begin{description*}\n",
       "\\item[(Intercept)] 37.285126167342\n",
       "\\item[wt] -5.34447157272267\n",
       "\\end{description*}\n"
      ],
      "text/markdown": [
       "(Intercept)\n",
       ":   37.285126167342wt\n",
       ":   -5.34447157272267\n",
       "\n"
      ],
      "text/plain": [
       "(Intercept)          wt \n",
       "  37.285126   -5.344472 "
      ]
     },
     "metadata": {},
     "output_type": "display_data"
    },
    {
     "data": {
      "text/html": [
       "-5.34447157272267"
      ],
      "text/latex": [
       "-5.34447157272267"
      ],
      "text/markdown": [
       "-5.34447157272267"
      ],
      "text/plain": [
       "[1] -5.344472"
      ]
     },
     "metadata": {},
     "output_type": "display_data"
    }
   ],
   "source": [
    "# Guess where the regression model is stored\n",
    "names(tricky_list)\n",
    "\n",
    "# Use names() and str() on the model element\n",
    "names(tricky_list[[\"model\"]])\n",
    "str(tricky_list[[\"model\"]])\n",
    "\n",
    "# Subset the coefficients element\n",
    "tricky_list[[\"model\"]][[\"coefficients\"]]\n",
    "\n",
    "# Subset the wt element\n",
    "tricky_list[[\"model\"]][[\"coefficients\"]][[\"wt\"]]"
   ]
  },
  {
   "cell_type": "markdown",
   "metadata": {},
   "source": [
    "## for loops\n",
    "\n",
    "### for loops in R\n",
    "\n",
    "```\n",
    "primes_list <- list(2, 3, 5, 7, 11, 13)\n",
    "\n",
    "for (i in 1:length(primes_list)) {\n",
    "    print(primes_list[[i]])\n",
    "}\n",
    "```\n",
    "\n",
    "### Parts of a for loop\n",
    "\n",
    "* Sequence : for (**i in 1:length(primes_list)**)\n",
    "* Body : The part within {} and describes the operations to iterate, referring back to our index i. \n",
    "* Output : Prints the output in the console rather than saving it.\n",
    "\n",
    "\n",
    "### Looping over columns in a data frame\n",
    "\n",
    "```\n",
    "df <- data.frame(a = rnorm(10),\n",
    "                 b = rnorm(10),\n",
    "                 c = rnorm(10),\n",
    "                 d = rnorm(10))\n",
    "\n",
    "for (i in 1:ncol(df)) {\n",
    "    print(median(df[[i]]))\n",
    "}                 \n",
    "```\n",
    "\n",
    "### Moving forward\n",
    "\n",
    "* A safer way to generate the sequence using seq_along()\n",
    "* Saving output instead of printing it"
   ]
  },
  {
   "cell_type": "markdown",
   "metadata": {},
   "source": [
    "## A safer way to create the sequence"
   ]
  },
  {
   "cell_type": "code",
   "execution_count": 15,
   "metadata": {},
   "outputs": [
    {
     "name": "stdout",
     "output_type": "stream",
     "text": [
      "[1] 0.4254134\n",
      "[1] 0.05132088\n",
      "[1] -0.08057442\n",
      "[1] 0.8371726\n"
     ]
    }
   ],
   "source": [
    "# Define df with random values from normal distribution\n",
    "df <- data.frame(a = rnorm(10),\n",
    "                n = rnorm(10),\n",
    "                c = rnorm(10),\n",
    "                d = rnorm(10))\n",
    "\n",
    "# Replace the 1:ncol(df) sequence\n",
    "# for (i in 1:ncol(df)) {\n",
    "#   print(median(df[[i]]))\n",
    "# }\n",
    "for (i in seq_along(df)) {\n",
    "  print(median(df[[i]]))\n",
    "}"
   ]
  },
  {
   "cell_type": "code",
   "execution_count": 16,
   "metadata": {
    "collapsed": true
   },
   "outputs": [],
   "source": [
    "# Change the value of df\n",
    "df <- data.frame()\n",
    "\n",
    "# Repeat for loop to verify there is no error\n",
    "for (i in seq_along(df)) {\n",
    "  print(median(df[[i]]))\n",
    "}"
   ]
  },
  {
   "cell_type": "markdown",
   "metadata": {},
   "source": [
    "## Keeping output"
   ]
  },
  {
   "cell_type": "code",
   "execution_count": 19,
   "metadata": {},
   "outputs": [
    {
     "name": "stdout",
     "output_type": "stream",
     "text": [
      "[1]  0.1743221 -0.3786583 -0.2917193 -0.3254997\n"
     ]
    }
   ],
   "source": [
    "# Redefine df\n",
    "df <- data.frame(a = rnorm(10),\n",
    "                n = rnorm(10),\n",
    "                c = rnorm(10),\n",
    "                d = rnorm(10))\n",
    "\n",
    "\n",
    "# Create new double vector: output\n",
    "output <- vector(mode = \"double\", length = ncol(df))\n",
    "\n",
    "# Alter the loop\n",
    "for (i in seq_along(df)) {\n",
    "  # Change code to store result in output\n",
    "  # print(median(df[[i]]))\n",
    "  output[i] <- median(df[[i]])\n",
    "}\n",
    "\n",
    "# Print output\n",
    "print(output)"
   ]
  }
 ],
 "metadata": {
  "kernelspec": {
   "display_name": "R",
   "language": "R",
   "name": "ir"
  },
  "language_info": {
   "codemirror_mode": "r",
   "file_extension": ".r",
   "mimetype": "text/x-r-source",
   "name": "R",
   "pygments_lexer": "r",
   "version": "3.4.2"
  }
 },
 "nbformat": 4,
 "nbformat_minor": 2
}
